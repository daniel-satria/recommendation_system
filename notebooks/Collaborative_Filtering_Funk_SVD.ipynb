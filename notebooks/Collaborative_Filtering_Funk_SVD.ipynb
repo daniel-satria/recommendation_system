{
 "cells": [
  {
   "cell_type": "markdown",
   "metadata": {},
   "source": [
    "# **Model Based Collaborative Filtering**\n",
    "\n",
    "Modeling for Structured Data"
   ]
  },
  {
   "cell_type": "markdown",
   "metadata": {},
   "source": [
    "---\n",
    "## Outline:\n",
    "\n",
    "1. Background\n",
    "2. Simplified Workflows.\n",
    "3. Importing Data\n",
    "4. Data Preparations\n",
    "5. Data Preprocessing\n",
    "6. Modeling\n",
    "7. Hyperparameter Tuning\n",
    "8. Evaluation\n",
    "9. Decision Process (Recommendation Process)"
   ]
  },
  {
   "cell_type": "markdown",
   "metadata": {},
   "source": [
    "# **Background**\n",
    "---"
   ]
  },
  {
   "cell_type": "markdown",
   "metadata": {},
   "source": [
    "## Problem Description\n",
    "\n",
    "\n",
    "- A streaming platform **nonton-yuk.com** are having a problem with its user retention.\n",
    "- In 3 months, the user retention rate dropped almost 15% which really affects **nonton-yuk.com** revenues.\n",
    "- After doing an urgent user research, **nonton-yuk.com** teams found that **users find it difficult** to browse movie in **nonton-yuk.com** which has nearly ~7,000 movies."
   ]
  },
  {
   "cell_type": "markdown",
   "metadata": {},
   "source": [
    "## Business Objective\n",
    "\n",
    "- Our business objective would be **increasing user retention** to **15%** (assumed ofcourse) in 3 months."
   ]
  },
  {
   "cell_type": "markdown",
   "metadata": {},
   "source": [
    "## Solution\n",
    "\n",
    "- We can create a **movie recommendation** to help **users browse** the movie **easily** --> remove the users difficulty in using **nonton-yuk.com** platform.\n",
    "\n",
    "The goal, of our recommendation is to recommend movies that user might like, however we can't directly measure how like user to a movies, thus we need to define what's called as **proxy** label.\n",
    "\n",
    "To approach those, some appropriate proxy labels are :    \n",
    "- Scale of rating (star) user  given to a movie\n",
    "- User click the movie\n",
    "- etc"
   ]
  },
  {
   "cell_type": "markdown",
   "metadata": {},
   "source": [
    "Considering the data we have, we have only records of **rating** data given from user to certain movies, thus we will choose **ratings given** as proxy label from item liked\n",
    "\n",
    "We can move further into machine learning task.\n",
    "\n",
    "**Our task** is to predict number of stars given from user to a movie.\n",
    "\n",
    "With  stars itself is in continous value, hence we can conclude it as **regression task**\n",
    "We now have a clearer picture what we should do, However we need more precise solution in recommender system context.\n",
    "\n",
    "Some recommendations approach:\n",
    "1. **Non-personalized**: recommendation by popularity\n",
    "2. **Personalized**: collaborative filtering\n",
    "\n",
    "Approach in Personalized Recommender System can be divided based on the presence of interaction data (explicit / implicit) data:     \n",
    "1. When the interaction data is not exists, the solution that can be implemented is using content feature, **Content Based** Filtering\n",
    "2. When the interaction data is exists, we can use **Collaborative** Filtering"
   ]
  },
  {
   "cell_type": "markdown",
   "metadata": {},
   "source": [
    "<img src =https://www.researchgate.net/publication/331063850/figure/fig3/AS:729493727621125@1550936266704/Content-based-filtering-and-Collaborative-filtering-recommendation.ppm >\n",
    "\n",
    "<center><a href=https://www.researchgate.net/publication/331063850/figure/fig3/AS:729493727621125@1550936266704/Content-based-filtering-and-Collaborative-filtering-recommendation.ppm>Source</a> </center>"
   ]
  },
  {
   "cell_type": "markdown",
   "metadata": {},
   "source": [
    "Due to presence of interaction, in this case rating data, we will not using **Content Based** filtering, instead we will use collaborative filtering"
   ]
  },
  {
   "cell_type": "markdown",
   "metadata": {},
   "source": [
    "<img src=\"https://drive.google.com/uc?export=view&id=1x16ea0zXDGsefpj6aLkre83wquIWedhI\" width=600>\n"
   ]
  },
  {
   "cell_type": "markdown",
   "metadata": {},
   "source": [
    "Previously we have already used approach neighborhood collaborative filtering, however there are some caveats  :  \n",
    "- The similarity measure is arbitrary, (measured) and cannot be optimized\n",
    "- The similarity measure only care about pairwise between items / users\n",
    "\n",
    "What is the solution ?\n",
    "\n",
    "We can use **Model Based Collaborative Filtering** to encounter weight that previously have not been optimized."
   ]
  },
  {
   "cell_type": "markdown",
   "metadata": {},
   "source": [
    "## Model Metrics\n",
    "\n",
    "We have already established some points :\n",
    "- Our task is to predict stars that will be given by users to certain movies\n",
    "- We will use Collaborative Filtering approach\n",
    "\n",
    "Regarding those, we need to measure the success of our model ( metrics), based on the points mentioned, our goal is to predict as close as possible the predicted rating to user true rating,"
   ]
  },
  {
   "cell_type": "markdown",
   "metadata": {},
   "source": [
    "We want to minimize $(\\text{True Rating - Predicted Rating})$, some choices of appropriate metrics are :     \n",
    "- Mean Absolute Error\n",
    "- Mean Square Error\n",
    "- Root Mean Squared Error\n",
    "\n",
    "Due to its `differentiable` property , we will choose **MSE/RMSE** as our model metrics"
   ]
  },
  {
   "cell_type": "markdown",
   "metadata": {},
   "source": [
    "## Data Description"
   ]
  },
  {
   "cell_type": "markdown",
   "metadata": {},
   "source": [
    "- The data is obtained from [Movielens dataset](https://grouplens.org/datasets/movielens/).\n",
    "- It contains ~100K ratings from 1,000 users and 1,700 movies.\n",
    "\n",
    "There are two files that we use:\n",
    "\n",
    "**The movie rating data** : `rating.csv`\n",
    "\n",
    "<center>\n",
    "\n",
    "|Features|Descriptions|Data Type|\n",
    "|:--|:--|:--:|\n",
    "|`userId`|The user ID|`int`|\n",
    "|`movieId`|The movie ID|`int`|\n",
    "|`rating`|Rating given from user to movie. Ranging from `0` to `5`|`float`|\n",
    "\n"
   ]
  },
  {
   "cell_type": "markdown",
   "metadata": {},
   "source": [
    "**The movie metadata** : `movies.csv`\n",
    "\n",
    "<center>\n",
    "\n",
    "|Features|Descriptions|Data Type|\n",
    "|:--|:--|:--:|\n",
    "|`movieId`|The movie ID|`int`|\n",
    "|`title`|The movie ID title|`str`|\n",
    "|`genres`|The movie ID genres|`str`|"
   ]
  },
  {
   "cell_type": "markdown",
   "metadata": {},
   "source": [
    "_______________"
   ]
  },
  {
   "cell_type": "markdown",
   "metadata": {},
   "source": [
    "# **Recommender System Workflow** (Simplified)"
   ]
  },
  {
   "cell_type": "markdown",
   "metadata": {},
   "source": [
    "## <font color='blue'>1. Importing Data</font>\n",
    "\n",
    "```\n",
    "1. Load the data.\n",
    "2. Check the shape & type of data.\n",
    "3. Handle the duplicates data to maintain data validity.\n",
    "```"
   ]
  },
  {
   "cell_type": "markdown",
   "metadata": {},
   "source": [
    "## <font color='blue'>2.Modelling : Model Based Collaborative Filtering</font>\n",
    "\n",
    "```\n",
    "1. Creating Utility Matrix\n",
    "2. Training + Model Selection  :     \n",
    "    - Baseline Approach\n",
    "    - SVD\n",
    "\n",
    "4. Evaluating Model\n",
    "  - Rating Prediction Task\n",
    "\n",
    "```\n"
   ]
  },
  {
   "cell_type": "markdown",
   "metadata": {},
   "source": [
    "## <font color='blue'>3. Generating Recommendation / Predictions</font>\n",
    "\n",
    "```\n",
    "1. Predict recommendation of user-i to unrated item-j\n",
    "2. Predict recommendation of user-i to all their unrated items\n",
    "```"
   ]
  },
  {
   "cell_type": "markdown",
   "metadata": {},
   "source": [
    "# **1. Importing Data**\n",
    "\n",
    "What do we do?\n",
    "1. Load the data.\n",
    "2. Check the shape & type of data.\n",
    "3. Handle the duplicates data to maintain data validity."
   ]
  },
  {
   "cell_type": "markdown",
   "metadata": {},
   "source": [
    "## Load the data"
   ]
  },
  {
   "cell_type": "code",
   "execution_count": 1,
   "metadata": {},
   "outputs": [],
   "source": [
    "# Load this library\n",
    "import numpy as np\n",
    "import pandas as pd"
   ]
  },
  {
   "cell_type": "code",
   "execution_count": 2,
   "metadata": {},
   "outputs": [
    {
     "data": {
      "text/html": [
       "<div>\n",
       "<style scoped>\n",
       "    .dataframe tbody tr th:only-of-type {\n",
       "        vertical-align: middle;\n",
       "    }\n",
       "\n",
       "    .dataframe tbody tr th {\n",
       "        vertical-align: top;\n",
       "    }\n",
       "\n",
       "    .dataframe thead th {\n",
       "        text-align: right;\n",
       "    }\n",
       "</style>\n",
       "<table border=\"1\" class=\"dataframe\">\n",
       "  <thead>\n",
       "    <tr style=\"text-align: right;\">\n",
       "      <th></th>\n",
       "      <th>userId</th>\n",
       "      <th>movieId</th>\n",
       "      <th>rating</th>\n",
       "    </tr>\n",
       "  </thead>\n",
       "  <tbody>\n",
       "    <tr>\n",
       "      <th>0</th>\n",
       "      <td>1</td>\n",
       "      <td>1</td>\n",
       "      <td>4.0</td>\n",
       "    </tr>\n",
       "    <tr>\n",
       "      <th>1</th>\n",
       "      <td>1</td>\n",
       "      <td>3</td>\n",
       "      <td>4.0</td>\n",
       "    </tr>\n",
       "    <tr>\n",
       "      <th>2</th>\n",
       "      <td>1</td>\n",
       "      <td>6</td>\n",
       "      <td>4.0</td>\n",
       "    </tr>\n",
       "    <tr>\n",
       "      <th>3</th>\n",
       "      <td>1</td>\n",
       "      <td>47</td>\n",
       "      <td>5.0</td>\n",
       "    </tr>\n",
       "    <tr>\n",
       "      <th>4</th>\n",
       "      <td>1</td>\n",
       "      <td>70</td>\n",
       "      <td>3.0</td>\n",
       "    </tr>\n",
       "  </tbody>\n",
       "</table>\n",
       "</div>"
      ],
      "text/plain": [
       "   userId  movieId  rating\n",
       "0       1        1     4.0\n",
       "1       1        3     4.0\n",
       "2       1        6     4.0\n",
       "3       1       47     5.0\n",
       "4       1       70     3.0"
      ]
     },
     "execution_count": 2,
     "metadata": {},
     "output_type": "execute_result"
    }
   ],
   "source": [
    "rating_path = r\"D:\\Daniel\\PACMANN\\RecSys\\rating_sample.csv\"\n",
    "\n",
    "rating_data = pd.read_csv(rating_path,\n",
    "                          delimiter = ',')\n",
    "\n",
    "rating_data.head()"
   ]
  },
  {
   "cell_type": "code",
   "execution_count": 3,
   "metadata": {},
   "outputs": [
    {
     "data": {
      "text/plain": [
       "(20760, 3)"
      ]
     },
     "execution_count": 3,
     "metadata": {},
     "output_type": "execute_result"
    }
   ],
   "source": [
    "# Check data shapes\n",
    "rating_data.shape"
   ]
  },
  {
   "cell_type": "code",
   "execution_count": 4,
   "metadata": {},
   "outputs": [
    {
     "data": {
      "text/plain": [
       "userId       int64\n",
       "movieId      int64\n",
       "rating     float64\n",
       "dtype: object"
      ]
     },
     "execution_count": 4,
     "metadata": {},
     "output_type": "execute_result"
    }
   ],
   "source": [
    "# Check data types\n",
    "rating_data.dtypes"
   ]
  },
  {
   "cell_type": "code",
   "execution_count": 5,
   "metadata": {},
   "outputs": [
    {
     "data": {
      "text/plain": [
       "0"
      ]
     },
     "execution_count": 5,
     "metadata": {},
     "output_type": "execute_result"
    }
   ],
   "source": [
    "# Check duplicate data\n",
    "rating_data.duplicated(subset=['userId', 'movieId']).sum()"
   ]
  },
  {
   "cell_type": "markdown",
   "metadata": {},
   "source": [
    "**Note**\n",
    "- If you have a user ID rates similar movie ID more than one, you can keep the most up to date ones & drop the rest."
   ]
  },
  {
   "cell_type": "markdown",
   "metadata": {},
   "source": [
    "## Create load function\n",
    "\n",
    "Finally, we can create load data function"
   ]
  },
  {
   "cell_type": "code",
   "execution_count": 6,
   "metadata": {},
   "outputs": [],
   "source": [
    "def load_rating_data(rating_path):\n",
    "    \"\"\"\n",
    "    Function to load data & remove from duplicates\n",
    "\n",
    "    Parameters\n",
    "    ----------\n",
    "    rating_path : str\n",
    "        The path of rating data\n",
    "\n",
    "    Returns\n",
    "    -------\n",
    "    rating_data : pandas DataFrame\n",
    "        The sample of rating data\n",
    "    \"\"\"\n",
    "    # Load data\n",
    "    rating_data_raw = pd.read_csv(rating_path, delimiter=',')\n",
    "    print('Original data shape :', rating_data_raw.shape)\n",
    "\n",
    "\n",
    "    return rating_data_raw\n"
   ]
  },
  {
   "cell_type": "code",
   "execution_count": 7,
   "metadata": {},
   "outputs": [
    {
     "name": "stdout",
     "output_type": "stream",
     "text": [
      "Original data shape : (20760, 3)\n"
     ]
    }
   ],
   "source": [
    "# Load rating data\n",
    "rating_data = load_rating_data(rating_path = rating_path)"
   ]
  },
  {
   "cell_type": "code",
   "execution_count": 8,
   "metadata": {},
   "outputs": [
    {
     "data": {
      "text/html": [
       "<div>\n",
       "<style scoped>\n",
       "    .dataframe tbody tr th:only-of-type {\n",
       "        vertical-align: middle;\n",
       "    }\n",
       "\n",
       "    .dataframe tbody tr th {\n",
       "        vertical-align: top;\n",
       "    }\n",
       "\n",
       "    .dataframe thead th {\n",
       "        text-align: right;\n",
       "    }\n",
       "</style>\n",
       "<table border=\"1\" class=\"dataframe\">\n",
       "  <thead>\n",
       "    <tr style=\"text-align: right;\">\n",
       "      <th></th>\n",
       "      <th>userId</th>\n",
       "      <th>movieId</th>\n",
       "      <th>rating</th>\n",
       "    </tr>\n",
       "  </thead>\n",
       "  <tbody>\n",
       "    <tr>\n",
       "      <th>0</th>\n",
       "      <td>1</td>\n",
       "      <td>1</td>\n",
       "      <td>4.0</td>\n",
       "    </tr>\n",
       "    <tr>\n",
       "      <th>1</th>\n",
       "      <td>1</td>\n",
       "      <td>3</td>\n",
       "      <td>4.0</td>\n",
       "    </tr>\n",
       "    <tr>\n",
       "      <th>2</th>\n",
       "      <td>1</td>\n",
       "      <td>6</td>\n",
       "      <td>4.0</td>\n",
       "    </tr>\n",
       "    <tr>\n",
       "      <th>3</th>\n",
       "      <td>1</td>\n",
       "      <td>47</td>\n",
       "      <td>5.0</td>\n",
       "    </tr>\n",
       "    <tr>\n",
       "      <th>4</th>\n",
       "      <td>1</td>\n",
       "      <td>70</td>\n",
       "      <td>3.0</td>\n",
       "    </tr>\n",
       "  </tbody>\n",
       "</table>\n",
       "</div>"
      ],
      "text/plain": [
       "   userId  movieId  rating\n",
       "0       1        1     4.0\n",
       "1       1        3     4.0\n",
       "2       1        6     4.0\n",
       "3       1       47     5.0\n",
       "4       1       70     3.0"
      ]
     },
     "execution_count": 8,
     "metadata": {},
     "output_type": "execute_result"
    }
   ],
   "source": [
    "rating_data.head()"
   ]
  },
  {
   "cell_type": "markdown",
   "metadata": {},
   "source": [
    "________________"
   ]
  },
  {
   "cell_type": "markdown",
   "metadata": {},
   "source": [
    "# **2. Modelling**: Model Based Collaborative Filtering"
   ]
  },
  {
   "cell_type": "markdown",
   "metadata": {},
   "source": [
    "## Background\n",
    "\n",
    "Previously we have tried similarity based / neighborhood collaborative filtering models, We encountered a problem.\n",
    "We define heavily on **similarity**, Even though we cannot optimize the similarity.\n",
    "That means,if we fail to craft similarity, it may fail on prediction.\n",
    "Another problem, is that whenever user is new we can't measure similarity due to not enough rating data available.\n",
    "We need another solution!"
   ]
  },
  {
   "cell_type": "markdown",
   "metadata": {},
   "source": [
    "**Latent Models**\n",
    "\n",
    "Recall again, our utility matrix has component of user and item, which some of it are interacted and yield utility value, e.g. watching movies user give rating to express their likeliness. The solution is we can infer two main factor, user factor and item factor that are behind the process of how utility value / rating are made\n"
   ]
  },
  {
   "cell_type": "markdown",
   "metadata": {},
   "source": [
    "\n",
    "<img src=\"https://drive.google.com/uc?export=view&id=1f7MoLGctHdM9SV1nGT8qZ0zFSzXg7YKo\" width=600>\n"
   ]
  },
  {
   "cell_type": "markdown",
   "metadata": {},
   "source": [
    "We need **Matrix Decomposition**\n",
    "\n",
    "Some approach :    \n",
    "1. Eigendecomposition\n",
    "2. Cholesky Decomposition\n",
    "3. Singular Decomposition"
   ]
  },
  {
   "cell_type": "markdown",
   "metadata": {},
   "source": [
    "Our constrain :    \n",
    "\n",
    "Utility matrix rarely have n_users = n_items, which mean our utility matrix rarely be a `square matrix`"
   ]
  },
  {
   "cell_type": "markdown",
   "metadata": {},
   "source": [
    "Solution :     \n",
    "We can use Singular Value Decomposition which does not require square matrix"
   ]
  },
  {
   "cell_type": "markdown",
   "metadata": {},
   "source": [
    "## Workflow\n",
    "---"
   ]
  },
  {
   "cell_type": "markdown",
   "metadata": {},
   "source": [
    "To create a personalized RecSys, we can follow these steps:\n",
    "\n",
    "```\n",
    "1. Data Preparation --> Create utility matrix & Split Train-Test\n",
    "2. Train recommendation model --> Baseline, User to User CF (KNN) & Item to Item CF (KNN)\n",
    "3. Choosing Best Model\n",
    "5. Evaluate Final Model\n",
    "```"
   ]
  },
  {
   "cell_type": "markdown",
   "metadata": {},
   "source": [
    "## Implementing Model From Scratch\n",
    "---"
   ]
  },
  {
   "cell_type": "markdown",
   "metadata": {},
   "source": [
    "### Pure Singular Value Decomposition\n",
    "---"
   ]
  },
  {
   "cell_type": "markdown",
   "metadata": {},
   "source": [
    "<img src=\"https://drive.google.com/uc?export=view&id=1TPbt_6viDrGzBzNQMQxVnsq380FfPTbV\" width=600>\n"
   ]
  },
  {
   "cell_type": "markdown",
   "metadata": {},
   "source": [
    "#### Data Preparation\n",
    "\n",
    "Why we need to prepare the data ?\n",
    "Because previously our data is in dataframe which have\n",
    " `userId`,`movieId`,`rating`\n",
    "\n",
    "| userId | movieId | rating |\n",
    "|:------:|---------|--------|\n",
    "| 1      | 1       | 4      |\n",
    "| ..     |         |        |\n",
    "| 600    | 1       | 5      |"
   ]
  },
  {
   "cell_type": "markdown",
   "metadata": {},
   "source": [
    "However we want our dataframe become same as utility matrix shape\n",
    "\n",
    "| userId | movieId1     | ..           | movieIdNth   |\n",
    "|:------:|--------------|--------------|--------------|\n",
    "| 1      | rating value | rating value | rating value |\n",
    "| ..     | rating value | rating value | ratig value  |\n",
    "| 600    | rating value | rating value | rating value |\n",
    "\n",
    "We can achieve those by using `pd.pivot`"
   ]
  },
  {
   "cell_type": "code",
   "execution_count": 9,
   "metadata": {},
   "outputs": [
    {
     "data": {
      "text/html": [
       "<div>\n",
       "<style scoped>\n",
       "    .dataframe tbody tr th:only-of-type {\n",
       "        vertical-align: middle;\n",
       "    }\n",
       "\n",
       "    .dataframe tbody tr th {\n",
       "        vertical-align: top;\n",
       "    }\n",
       "\n",
       "    .dataframe thead th {\n",
       "        text-align: right;\n",
       "    }\n",
       "</style>\n",
       "<table border=\"1\" class=\"dataframe\">\n",
       "  <thead>\n",
       "    <tr style=\"text-align: right;\">\n",
       "      <th>movieId</th>\n",
       "      <th>1</th>\n",
       "      <th>3</th>\n",
       "      <th>6</th>\n",
       "      <th>32</th>\n",
       "      <th>34</th>\n",
       "      <th>39</th>\n",
       "      <th>47</th>\n",
       "      <th>48</th>\n",
       "      <th>69</th>\n",
       "      <th>70</th>\n",
       "      <th>...</th>\n",
       "      <th>76077</th>\n",
       "      <th>91529</th>\n",
       "      <th>91630</th>\n",
       "      <th>103253</th>\n",
       "      <th>106696</th>\n",
       "      <th>108190</th>\n",
       "      <th>109487</th>\n",
       "      <th>111362</th>\n",
       "      <th>152081</th>\n",
       "      <th>160438</th>\n",
       "    </tr>\n",
       "    <tr>\n",
       "      <th>userId</th>\n",
       "      <th></th>\n",
       "      <th></th>\n",
       "      <th></th>\n",
       "      <th></th>\n",
       "      <th></th>\n",
       "      <th></th>\n",
       "      <th></th>\n",
       "      <th></th>\n",
       "      <th></th>\n",
       "      <th></th>\n",
       "      <th></th>\n",
       "      <th></th>\n",
       "      <th></th>\n",
       "      <th></th>\n",
       "      <th></th>\n",
       "      <th></th>\n",
       "      <th></th>\n",
       "      <th></th>\n",
       "      <th></th>\n",
       "      <th></th>\n",
       "      <th></th>\n",
       "    </tr>\n",
       "  </thead>\n",
       "  <tbody>\n",
       "    <tr>\n",
       "      <th>1</th>\n",
       "      <td>4.0</td>\n",
       "      <td>4.0</td>\n",
       "      <td>4.0</td>\n",
       "      <td>NaN</td>\n",
       "      <td>NaN</td>\n",
       "      <td>NaN</td>\n",
       "      <td>5.0</td>\n",
       "      <td>NaN</td>\n",
       "      <td>NaN</td>\n",
       "      <td>3.0</td>\n",
       "      <td>...</td>\n",
       "      <td>NaN</td>\n",
       "      <td>NaN</td>\n",
       "      <td>NaN</td>\n",
       "      <td>NaN</td>\n",
       "      <td>NaN</td>\n",
       "      <td>NaN</td>\n",
       "      <td>NaN</td>\n",
       "      <td>NaN</td>\n",
       "      <td>NaN</td>\n",
       "      <td>NaN</td>\n",
       "    </tr>\n",
       "    <tr>\n",
       "      <th>2</th>\n",
       "      <td>NaN</td>\n",
       "      <td>NaN</td>\n",
       "      <td>NaN</td>\n",
       "      <td>NaN</td>\n",
       "      <td>NaN</td>\n",
       "      <td>NaN</td>\n",
       "      <td>NaN</td>\n",
       "      <td>NaN</td>\n",
       "      <td>NaN</td>\n",
       "      <td>NaN</td>\n",
       "      <td>...</td>\n",
       "      <td>NaN</td>\n",
       "      <td>3.5</td>\n",
       "      <td>NaN</td>\n",
       "      <td>NaN</td>\n",
       "      <td>NaN</td>\n",
       "      <td>NaN</td>\n",
       "      <td>3.0</td>\n",
       "      <td>NaN</td>\n",
       "      <td>NaN</td>\n",
       "      <td>NaN</td>\n",
       "    </tr>\n",
       "    <tr>\n",
       "      <th>3</th>\n",
       "      <td>NaN</td>\n",
       "      <td>NaN</td>\n",
       "      <td>NaN</td>\n",
       "      <td>NaN</td>\n",
       "      <td>NaN</td>\n",
       "      <td>NaN</td>\n",
       "      <td>NaN</td>\n",
       "      <td>NaN</td>\n",
       "      <td>NaN</td>\n",
       "      <td>NaN</td>\n",
       "      <td>...</td>\n",
       "      <td>NaN</td>\n",
       "      <td>NaN</td>\n",
       "      <td>NaN</td>\n",
       "      <td>NaN</td>\n",
       "      <td>NaN</td>\n",
       "      <td>NaN</td>\n",
       "      <td>NaN</td>\n",
       "      <td>NaN</td>\n",
       "      <td>NaN</td>\n",
       "      <td>NaN</td>\n",
       "    </tr>\n",
       "    <tr>\n",
       "      <th>4</th>\n",
       "      <td>NaN</td>\n",
       "      <td>NaN</td>\n",
       "      <td>NaN</td>\n",
       "      <td>2.0</td>\n",
       "      <td>NaN</td>\n",
       "      <td>NaN</td>\n",
       "      <td>2.0</td>\n",
       "      <td>NaN</td>\n",
       "      <td>NaN</td>\n",
       "      <td>NaN</td>\n",
       "      <td>...</td>\n",
       "      <td>NaN</td>\n",
       "      <td>NaN</td>\n",
       "      <td>NaN</td>\n",
       "      <td>NaN</td>\n",
       "      <td>NaN</td>\n",
       "      <td>NaN</td>\n",
       "      <td>NaN</td>\n",
       "      <td>NaN</td>\n",
       "      <td>NaN</td>\n",
       "      <td>NaN</td>\n",
       "    </tr>\n",
       "    <tr>\n",
       "      <th>5</th>\n",
       "      <td>4.0</td>\n",
       "      <td>NaN</td>\n",
       "      <td>NaN</td>\n",
       "      <td>NaN</td>\n",
       "      <td>4.0</td>\n",
       "      <td>3.0</td>\n",
       "      <td>NaN</td>\n",
       "      <td>NaN</td>\n",
       "      <td>NaN</td>\n",
       "      <td>NaN</td>\n",
       "      <td>...</td>\n",
       "      <td>NaN</td>\n",
       "      <td>NaN</td>\n",
       "      <td>NaN</td>\n",
       "      <td>NaN</td>\n",
       "      <td>NaN</td>\n",
       "      <td>NaN</td>\n",
       "      <td>NaN</td>\n",
       "      <td>NaN</td>\n",
       "      <td>NaN</td>\n",
       "      <td>NaN</td>\n",
       "    </tr>\n",
       "  </tbody>\n",
       "</table>\n",
       "<p>5 rows × 248 columns</p>\n",
       "</div>"
      ],
      "text/plain": [
       "movieId  1       3       6       32      34      39      47      48       \n",
       "userId                                                                    \n",
       "1           4.0     4.0     4.0     NaN     NaN     NaN     5.0     NaN  \\\n",
       "2           NaN     NaN     NaN     NaN     NaN     NaN     NaN     NaN   \n",
       "3           NaN     NaN     NaN     NaN     NaN     NaN     NaN     NaN   \n",
       "4           NaN     NaN     NaN     2.0     NaN     NaN     2.0     NaN   \n",
       "5           4.0     NaN     NaN     NaN     4.0     3.0     NaN     NaN   \n",
       "\n",
       "movieId  69      70      ...  76077   91529   91630   103253  106696  108190   \n",
       "userId                   ...                                                   \n",
       "1           NaN     3.0  ...     NaN     NaN     NaN     NaN     NaN     NaN  \\\n",
       "2           NaN     NaN  ...     NaN     3.5     NaN     NaN     NaN     NaN   \n",
       "3           NaN     NaN  ...     NaN     NaN     NaN     NaN     NaN     NaN   \n",
       "4           NaN     NaN  ...     NaN     NaN     NaN     NaN     NaN     NaN   \n",
       "5           NaN     NaN  ...     NaN     NaN     NaN     NaN     NaN     NaN   \n",
       "\n",
       "movieId  109487  111362  152081  160438  \n",
       "userId                                   \n",
       "1           NaN     NaN     NaN     NaN  \n",
       "2           3.0     NaN     NaN     NaN  \n",
       "3           NaN     NaN     NaN     NaN  \n",
       "4           NaN     NaN     NaN     NaN  \n",
       "5           NaN     NaN     NaN     NaN  \n",
       "\n",
       "[5 rows x 248 columns]"
      ]
     },
     "execution_count": 9,
     "metadata": {},
     "output_type": "execute_result"
    }
   ],
   "source": [
    "# pivot data\n",
    "rating_data_pivot = rating_data.pivot(index= 'userId', columns= 'movieId', values= 'rating')\n",
    "\n",
    "# take a look after pivoted\n",
    "rating_data_pivot.head()"
   ]
  },
  {
   "cell_type": "code",
   "execution_count": 10,
   "metadata": {},
   "outputs": [
    {
     "data": {
      "text/plain": [
       "(602, 248)"
      ]
     },
     "execution_count": 10,
     "metadata": {},
     "output_type": "execute_result"
    }
   ],
   "source": [
    "#check shape\n",
    "rating_data_pivot.shape"
   ]
  },
  {
   "cell_type": "code",
   "execution_count": 11,
   "metadata": {},
   "outputs": [
    {
     "data": {
      "text/plain": [
       "128536"
      ]
     },
     "execution_count": 11,
     "metadata": {},
     "output_type": "execute_result"
    }
   ],
   "source": [
    "rating_data_pivot.isnull().sum().sum()"
   ]
  },
  {
   "cell_type": "markdown",
   "metadata": {},
   "source": [
    "Se can see that after pivoting data, there are lot of missing values, however we can't measure similarity using missing data, we need imputation later. \n",
    "\n",
    "For easier preparing data we will create a function `prepare_utility_dataframe`"
   ]
  },
  {
   "cell_type": "code",
   "execution_count": 12,
   "metadata": {},
   "outputs": [],
   "source": [
    "def prepare_utility_dataframe(rating_path) :\n",
    "\n",
    "    \"\"\"\n",
    "    Function to prepare rating data into pivoted rating_data (utility matrix form)\n",
    "\n",
    "    Parameters\n",
    "    ----------\n",
    "    rating_path : str\n",
    "        The path of rating data\n",
    "\n",
    "    Returns\n",
    "    -------\n",
    "    rating_data_pivot : pandas DataFrame\n",
    "        rating data in pivoted format\n",
    "\n",
    "\n",
    "\n",
    "\n",
    "\n",
    "    \"\"\"\n",
    "\n",
    "    # load data\n",
    "    rating_data = load_rating_data(rating_path)\n",
    "\n",
    "    # perform pivot\n",
    "    rating_data_pivot = rating_data.pivot(index= 'userId', columns= 'movieId', values= 'rating')\n",
    "\n",
    "    # print pivoted data shape\n",
    "    print('Data Shaped After Pivot', rating_data_pivot.shape)\n",
    "\n",
    "    # checking missing values\n",
    "    print('Number of missing values after pivot',rating_data_pivot.isnull().sum().sum() )\n",
    "\n",
    "\n",
    "    # return data\n",
    "    return rating_data_pivot\n"
   ]
  },
  {
   "cell_type": "code",
   "execution_count": 13,
   "metadata": {},
   "outputs": [
    {
     "name": "stdout",
     "output_type": "stream",
     "text": [
      "Original data shape : (20760, 3)\n",
      "Data Shaped After Pivot (602, 248)\n",
      "Number of missing values after pivot 128536\n"
     ]
    }
   ],
   "source": [
    "# check function\n",
    "rating_data_pivot = prepare_utility_dataframe(rating_path = rating_path)"
   ]
  },
  {
   "cell_type": "code",
   "execution_count": 14,
   "metadata": {},
   "outputs": [
    {
     "data": {
      "text/html": [
       "<div>\n",
       "<style scoped>\n",
       "    .dataframe tbody tr th:only-of-type {\n",
       "        vertical-align: middle;\n",
       "    }\n",
       "\n",
       "    .dataframe tbody tr th {\n",
       "        vertical-align: top;\n",
       "    }\n",
       "\n",
       "    .dataframe thead th {\n",
       "        text-align: right;\n",
       "    }\n",
       "</style>\n",
       "<table border=\"1\" class=\"dataframe\">\n",
       "  <thead>\n",
       "    <tr style=\"text-align: right;\">\n",
       "      <th>movieId</th>\n",
       "      <th>1</th>\n",
       "      <th>3</th>\n",
       "      <th>6</th>\n",
       "      <th>32</th>\n",
       "      <th>34</th>\n",
       "      <th>39</th>\n",
       "      <th>47</th>\n",
       "      <th>48</th>\n",
       "      <th>69</th>\n",
       "      <th>70</th>\n",
       "      <th>...</th>\n",
       "      <th>76077</th>\n",
       "      <th>91529</th>\n",
       "      <th>91630</th>\n",
       "      <th>103253</th>\n",
       "      <th>106696</th>\n",
       "      <th>108190</th>\n",
       "      <th>109487</th>\n",
       "      <th>111362</th>\n",
       "      <th>152081</th>\n",
       "      <th>160438</th>\n",
       "    </tr>\n",
       "    <tr>\n",
       "      <th>userId</th>\n",
       "      <th></th>\n",
       "      <th></th>\n",
       "      <th></th>\n",
       "      <th></th>\n",
       "      <th></th>\n",
       "      <th></th>\n",
       "      <th></th>\n",
       "      <th></th>\n",
       "      <th></th>\n",
       "      <th></th>\n",
       "      <th></th>\n",
       "      <th></th>\n",
       "      <th></th>\n",
       "      <th></th>\n",
       "      <th></th>\n",
       "      <th></th>\n",
       "      <th></th>\n",
       "      <th></th>\n",
       "      <th></th>\n",
       "      <th></th>\n",
       "      <th></th>\n",
       "    </tr>\n",
       "  </thead>\n",
       "  <tbody>\n",
       "    <tr>\n",
       "      <th>1</th>\n",
       "      <td>4.0</td>\n",
       "      <td>4.0</td>\n",
       "      <td>4.0</td>\n",
       "      <td>NaN</td>\n",
       "      <td>NaN</td>\n",
       "      <td>NaN</td>\n",
       "      <td>5.0</td>\n",
       "      <td>NaN</td>\n",
       "      <td>NaN</td>\n",
       "      <td>3.0</td>\n",
       "      <td>...</td>\n",
       "      <td>NaN</td>\n",
       "      <td>NaN</td>\n",
       "      <td>NaN</td>\n",
       "      <td>NaN</td>\n",
       "      <td>NaN</td>\n",
       "      <td>NaN</td>\n",
       "      <td>NaN</td>\n",
       "      <td>NaN</td>\n",
       "      <td>NaN</td>\n",
       "      <td>NaN</td>\n",
       "    </tr>\n",
       "    <tr>\n",
       "      <th>2</th>\n",
       "      <td>NaN</td>\n",
       "      <td>NaN</td>\n",
       "      <td>NaN</td>\n",
       "      <td>NaN</td>\n",
       "      <td>NaN</td>\n",
       "      <td>NaN</td>\n",
       "      <td>NaN</td>\n",
       "      <td>NaN</td>\n",
       "      <td>NaN</td>\n",
       "      <td>NaN</td>\n",
       "      <td>...</td>\n",
       "      <td>NaN</td>\n",
       "      <td>3.5</td>\n",
       "      <td>NaN</td>\n",
       "      <td>NaN</td>\n",
       "      <td>NaN</td>\n",
       "      <td>NaN</td>\n",
       "      <td>3.0</td>\n",
       "      <td>NaN</td>\n",
       "      <td>NaN</td>\n",
       "      <td>NaN</td>\n",
       "    </tr>\n",
       "    <tr>\n",
       "      <th>3</th>\n",
       "      <td>NaN</td>\n",
       "      <td>NaN</td>\n",
       "      <td>NaN</td>\n",
       "      <td>NaN</td>\n",
       "      <td>NaN</td>\n",
       "      <td>NaN</td>\n",
       "      <td>NaN</td>\n",
       "      <td>NaN</td>\n",
       "      <td>NaN</td>\n",
       "      <td>NaN</td>\n",
       "      <td>...</td>\n",
       "      <td>NaN</td>\n",
       "      <td>NaN</td>\n",
       "      <td>NaN</td>\n",
       "      <td>NaN</td>\n",
       "      <td>NaN</td>\n",
       "      <td>NaN</td>\n",
       "      <td>NaN</td>\n",
       "      <td>NaN</td>\n",
       "      <td>NaN</td>\n",
       "      <td>NaN</td>\n",
       "    </tr>\n",
       "    <tr>\n",
       "      <th>4</th>\n",
       "      <td>NaN</td>\n",
       "      <td>NaN</td>\n",
       "      <td>NaN</td>\n",
       "      <td>2.0</td>\n",
       "      <td>NaN</td>\n",
       "      <td>NaN</td>\n",
       "      <td>2.0</td>\n",
       "      <td>NaN</td>\n",
       "      <td>NaN</td>\n",
       "      <td>NaN</td>\n",
       "      <td>...</td>\n",
       "      <td>NaN</td>\n",
       "      <td>NaN</td>\n",
       "      <td>NaN</td>\n",
       "      <td>NaN</td>\n",
       "      <td>NaN</td>\n",
       "      <td>NaN</td>\n",
       "      <td>NaN</td>\n",
       "      <td>NaN</td>\n",
       "      <td>NaN</td>\n",
       "      <td>NaN</td>\n",
       "    </tr>\n",
       "    <tr>\n",
       "      <th>5</th>\n",
       "      <td>4.0</td>\n",
       "      <td>NaN</td>\n",
       "      <td>NaN</td>\n",
       "      <td>NaN</td>\n",
       "      <td>4.0</td>\n",
       "      <td>3.0</td>\n",
       "      <td>NaN</td>\n",
       "      <td>NaN</td>\n",
       "      <td>NaN</td>\n",
       "      <td>NaN</td>\n",
       "      <td>...</td>\n",
       "      <td>NaN</td>\n",
       "      <td>NaN</td>\n",
       "      <td>NaN</td>\n",
       "      <td>NaN</td>\n",
       "      <td>NaN</td>\n",
       "      <td>NaN</td>\n",
       "      <td>NaN</td>\n",
       "      <td>NaN</td>\n",
       "      <td>NaN</td>\n",
       "      <td>NaN</td>\n",
       "    </tr>\n",
       "  </tbody>\n",
       "</table>\n",
       "<p>5 rows × 248 columns</p>\n",
       "</div>"
      ],
      "text/plain": [
       "movieId  1       3       6       32      34      39      47      48       \n",
       "userId                                                                    \n",
       "1           4.0     4.0     4.0     NaN     NaN     NaN     5.0     NaN  \\\n",
       "2           NaN     NaN     NaN     NaN     NaN     NaN     NaN     NaN   \n",
       "3           NaN     NaN     NaN     NaN     NaN     NaN     NaN     NaN   \n",
       "4           NaN     NaN     NaN     2.0     NaN     NaN     2.0     NaN   \n",
       "5           4.0     NaN     NaN     NaN     4.0     3.0     NaN     NaN   \n",
       "\n",
       "movieId  69      70      ...  76077   91529   91630   103253  106696  108190   \n",
       "userId                   ...                                                   \n",
       "1           NaN     3.0  ...     NaN     NaN     NaN     NaN     NaN     NaN  \\\n",
       "2           NaN     NaN  ...     NaN     3.5     NaN     NaN     NaN     NaN   \n",
       "3           NaN     NaN  ...     NaN     NaN     NaN     NaN     NaN     NaN   \n",
       "4           NaN     NaN  ...     NaN     NaN     NaN     NaN     NaN     NaN   \n",
       "5           NaN     NaN  ...     NaN     NaN     NaN     NaN     NaN     NaN   \n",
       "\n",
       "movieId  109487  111362  152081  160438  \n",
       "userId                                   \n",
       "1           NaN     NaN     NaN     NaN  \n",
       "2           3.0     NaN     NaN     NaN  \n",
       "3           NaN     NaN     NaN     NaN  \n",
       "4           NaN     NaN     NaN     NaN  \n",
       "5           NaN     NaN     NaN     NaN  \n",
       "\n",
       "[5 rows x 248 columns]"
      ]
     },
     "execution_count": 14,
     "metadata": {},
     "output_type": "execute_result"
    }
   ],
   "source": [
    "rating_data_pivot.head()"
   ]
  },
  {
   "cell_type": "markdown",
   "metadata": {},
   "source": [
    "#### Fill Missing Values\n",
    "\n",
    "To perform Singular Value Decomposition we can use `scipy.sparse.linalg.svd`"
   ]
  },
  {
   "cell_type": "code",
   "execution_count": 15,
   "metadata": {},
   "outputs": [],
   "source": [
    "# import package\n",
    "from scipy.linalg import svd\n"
   ]
  },
  {
   "cell_type": "code",
   "execution_count": 16,
   "metadata": {},
   "outputs": [],
   "source": [
    "# # import package\n",
    "# from scipy.linalg import svd\n",
    "\n",
    "# u,s,v = svd(rating_data_pivot)"
   ]
  },
  {
   "cell_type": "markdown",
   "metadata": {},
   "source": [
    "Ups!, remember that we cannot use `SVD` if we have missing values\n",
    "\n",
    "To demonstrate how Singular Value Decomposition work we will impute first the data, using **0**"
   ]
  },
  {
   "cell_type": "code",
   "execution_count": 17,
   "metadata": {},
   "outputs": [],
   "source": [
    "# imputing nan\n",
    "imputed_rating = rating_data_pivot.fillna(0)\n",
    "\n",
    "# convert our imputed ratings into matrix\n",
    "ratings_matrix = imputed_rating.to_numpy()"
   ]
  },
  {
   "cell_type": "code",
   "execution_count": 18,
   "metadata": {},
   "outputs": [
    {
     "data": {
      "text/plain": [
       "array([[4. , 4. , 4. , ..., 0. , 0. , 0. ],\n",
       "       [0. , 0. , 0. , ..., 0. , 0. , 0. ],\n",
       "       [0. , 0. , 0. , ..., 0. , 0. , 0. ],\n",
       "       ...,\n",
       "       [2.5, 2. , 0. , ..., 0. , 0. , 0. ],\n",
       "       [3. , 0. , 0. , ..., 0. , 0. , 0. ],\n",
       "       [5. , 0. , 5. , ..., 4. , 4. , 0. ]])"
      ]
     },
     "execution_count": 18,
     "metadata": {},
     "output_type": "execute_result"
    }
   ],
   "source": [
    "# checking new imputed matrix\n",
    "ratings_matrix"
   ]
  },
  {
   "cell_type": "markdown",
   "metadata": {},
   "source": [
    "#### Performing SVD"
   ]
  },
  {
   "cell_type": "code",
   "execution_count": 19,
   "metadata": {},
   "outputs": [
    {
     "name": "stdout",
     "output_type": "stream",
     "text": [
      "(602, 602)\n"
     ]
    }
   ],
   "source": [
    "# perform svd, extracting 3 components, u,s,v\n",
    "\n",
    "U,S,Vt = svd(ratings_matrix)\n",
    "\n",
    "# check shape\n",
    "print(U.shape)"
   ]
  },
  {
   "cell_type": "code",
   "execution_count": 20,
   "metadata": {},
   "outputs": [
    {
     "name": "stdout",
     "output_type": "stream",
     "text": [
      "(248,)\n"
     ]
    }
   ],
   "source": [
    "# check shape\n",
    "print(S.shape)"
   ]
  },
  {
   "cell_type": "code",
   "execution_count": 21,
   "metadata": {},
   "outputs": [
    {
     "name": "stdout",
     "output_type": "stream",
     "text": [
      "(248, 248)\n"
     ]
    }
   ],
   "source": [
    "# check shape\n",
    "print(Vt.shape)"
   ]
  },
  {
   "cell_type": "markdown",
   "metadata": {},
   "source": [
    "Next, we will take a look at each resulting component"
   ]
  },
  {
   "cell_type": "code",
   "execution_count": 22,
   "metadata": {},
   "outputs": [
    {
     "data": {
      "text/plain": [
       "array([[-6.10986995e-02, -1.40406053e-02,  8.87529304e-02, ...,\n",
       "        -5.05838395e-03,  4.42649553e-04, -5.08079222e-02],\n",
       "       [-6.58970610e-03,  9.00114922e-03, -2.52556453e-02, ...,\n",
       "        -6.28828187e-02,  1.30559298e-02,  6.86276468e-02],\n",
       "       [-5.00299782e-04,  2.28932072e-04,  2.72181322e-04, ...,\n",
       "        -1.15192235e-02,  7.63933037e-02, -3.47478786e-02],\n",
       "       ...,\n",
       "       [-9.97047068e-02,  2.28888773e-02, -4.09372077e-03, ...,\n",
       "         2.77367170e-01,  5.92809407e-03,  1.31309046e-02],\n",
       "       [-1.54748796e-02, -5.56241558e-02, -2.90079969e-02, ...,\n",
       "        -2.93211927e-02,  8.13520054e-01,  2.92182716e-03],\n",
       "       [-1.03603767e-01,  9.34901281e-02, -3.60039556e-02, ...,\n",
       "         2.36520822e-02,  6.07308755e-03,  1.83231528e-01]])"
      ]
     },
     "execution_count": 22,
     "metadata": {},
     "output_type": "execute_result"
    }
   ],
   "source": [
    "U"
   ]
  },
  {
   "cell_type": "code",
   "execution_count": 23,
   "metadata": {},
   "outputs": [
    {
     "data": {
      "text/plain": [
       "(602, 602)"
      ]
     },
     "execution_count": 23,
     "metadata": {},
     "output_type": "execute_result"
    }
   ],
   "source": [
    "U.shape"
   ]
  },
  {
   "cell_type": "code",
   "execution_count": 24,
   "metadata": {},
   "outputs": [
    {
     "data": {
      "text/plain": [
       "array([339.21215777, 131.75155703, 102.97079724,  94.39134529,\n",
       "        85.7511904 ,  71.6504792 ,  66.19318185,  58.39552719,\n",
       "        56.39213009,  55.67866648,  53.04557521,  51.87756309,\n",
       "        50.28978355,  49.99515341,  49.27438074,  47.31526156,\n",
       "        46.62374948,  46.14490778,  45.40407384,  44.51548227,\n",
       "        43.45653386,  43.19464136,  42.87798748,  41.92636037,\n",
       "        41.75426494,  40.99269952,  40.70671585,  40.47013616,\n",
       "        40.18082373,  39.77956871,  39.52039779,  38.83204996,\n",
       "        38.22805471,  37.79959828,  37.62818421,  37.11107868,\n",
       "        36.7841416 ,  36.41688409,  36.19755515,  36.11005467,\n",
       "        35.5681784 ,  35.24195139,  35.11694815,  34.45418756,\n",
       "        34.37938099,  34.06700782,  33.76365576,  33.48189199,\n",
       "        33.38668802,  33.04295229,  32.72714273,  32.48093131,\n",
       "        32.34447498,  32.08010303,  31.92667814,  31.38214849,\n",
       "        31.14570529,  31.03587733,  30.61056076,  30.59024625,\n",
       "        30.21910478,  30.06780253,  29.91175913,  29.55590186,\n",
       "        29.40309955,  29.09902159,  28.80325665,  28.61235647,\n",
       "        28.39446352,  28.23633299,  28.01315022,  27.922594  ,\n",
       "        27.57495264,  27.36450047,  27.24489283,  26.99404174,\n",
       "        26.70133683,  26.58070055,  26.48864283,  26.38512514,\n",
       "        26.12905267,  25.81193251,  25.72240155,  25.54583351,\n",
       "        25.25322267,  25.0782406 ,  24.80668065,  24.75573815,\n",
       "        24.7291681 ,  24.57353189,  24.27469128,  24.07589541,\n",
       "        23.90180562,  23.64527213,  23.45859532,  23.27639027,\n",
       "        23.12943557,  22.95363201,  22.88030215,  22.62679763,\n",
       "        22.5210721 ,  22.3665361 ,  22.20917326,  22.07171024,\n",
       "        21.9595414 ,  21.80191584,  21.52288939,  21.48257928,\n",
       "        21.33116622,  21.12505359,  20.98318704,  20.81215896,\n",
       "        20.5937449 ,  20.51565914,  20.47064141,  20.23540412,\n",
       "        20.21042531,  20.01963396,  19.93988684,  19.72684135,\n",
       "        19.67483649,  19.47040165,  19.30142641,  19.25221052,\n",
       "        19.21033558,  19.02016862,  18.91423318,  18.68635457,\n",
       "        18.47618997,  18.40037656,  18.08306157,  18.02549578,\n",
       "        17.80680091,  17.76780584,  17.57789058,  17.47745314,\n",
       "        17.33859818,  17.18418731,  17.16957042,  16.94081163,\n",
       "        16.71868056,  16.58062797,  16.41279545,  16.26417905,\n",
       "        16.10584526,  15.95448376,  15.80418767,  15.75094638,\n",
       "        15.65687827,  15.44551097,  15.34196263,  15.28344728,\n",
       "        15.14949805,  14.98201477,  14.95739723,  14.74750977,\n",
       "        14.62986187,  14.45119993,  14.29811206,  14.16152955,\n",
       "        14.06476436,  14.00746973,  13.96568624,  13.85852484,\n",
       "        13.67186321,  13.59064554,  13.58036172,  13.25567751,\n",
       "        13.18744247,  13.04356336,  13.02333936,  12.9101052 ,\n",
       "        12.85749676,  12.57491596,  12.55823767,  12.38954899,\n",
       "        12.34977412,  12.30052818,  12.18557476,  12.10727606,\n",
       "        11.85919094,  11.75244738,  11.63696635,  11.56192264,\n",
       "        11.45073615,  11.25902705,  11.08088229,  11.01926067,\n",
       "        10.86274933,  10.84971548,  10.73603792,  10.65623835,\n",
       "        10.43732244,  10.37293592,  10.31589031,  10.21611386,\n",
       "        10.13742924,   9.93153635,   9.71543259,   9.63941043,\n",
       "         9.44428963,   9.35767369,   9.28646895,   9.21515839,\n",
       "         9.04971362,   8.96221867,   8.82576115,   8.66524734,\n",
       "         8.50808316,   8.33491506,   8.23717717,   8.19500044,\n",
       "         8.10812127,   7.93831705,   7.80260237,   7.76170024,\n",
       "         7.71657019,   7.4857068 ,   7.37923196,   7.25870816,\n",
       "         7.02922064,   6.97424097,   6.90906679,   6.82062869,\n",
       "         6.67399948,   6.49894773,   6.37489497,   6.24033452,\n",
       "         6.14080447,   6.03884146,   5.84964405,   5.74533752,\n",
       "         5.66974871,   5.45177682,   5.42624803,   5.28099884,\n",
       "         5.22743018,   4.99127969,   4.88755735,   4.70739516,\n",
       "         4.44970829,   4.21078659,   4.03148624,   3.61111217,\n",
       "         3.55540331,   3.38516619,   2.6682166 ,   1.96560107])"
      ]
     },
     "execution_count": 24,
     "metadata": {},
     "output_type": "execute_result"
    }
   ],
   "source": [
    "S"
   ]
  },
  {
   "cell_type": "code",
   "execution_count": 25,
   "metadata": {},
   "outputs": [
    {
     "data": {
      "text/plain": [
       "(248,)"
      ]
     },
     "execution_count": 25,
     "metadata": {},
     "output_type": "execute_result"
    }
   ],
   "source": [
    "S.shape"
   ]
  },
  {
   "cell_type": "code",
   "execution_count": 26,
   "metadata": {},
   "outputs": [
    {
     "data": {
      "text/plain": [
       "array([[-1.19195485e-01, -2.46238616e-02, -6.52963961e-02, ...,\n",
       "        -2.18047475e-02, -1.80222824e-02, -5.90937469e-03],\n",
       "       [-5.93354056e-02, -4.00549777e-02, -4.64539907e-02, ...,\n",
       "         3.20133848e-02,  2.89744119e-02,  6.09319920e-03],\n",
       "       [ 3.77628925e-02,  4.22598465e-02,  3.19443941e-02, ...,\n",
       "        -1.46226831e-02, -3.12695342e-02,  2.31874390e-03],\n",
       "       ...,\n",
       "       [ 5.47752358e-03, -3.32635456e-02,  1.18720559e-02, ...,\n",
       "        -6.43801810e-02, -1.79636938e-02,  4.54976618e-01],\n",
       "       [-1.25425430e-03, -3.72494507e-02, -2.09651833e-05, ...,\n",
       "         2.21493611e-02,  2.68393904e-02, -6.70822868e-02],\n",
       "       [ 2.83418327e-04,  8.96494023e-03, -7.21521652e-03, ...,\n",
       "        -4.05817490e-02,  2.39229876e-03,  1.87728507e-01]])"
      ]
     },
     "execution_count": 26,
     "metadata": {},
     "output_type": "execute_result"
    }
   ],
   "source": [
    "Vt"
   ]
  },
  {
   "cell_type": "code",
   "execution_count": 27,
   "metadata": {},
   "outputs": [
    {
     "data": {
      "text/plain": [
       "(248, 248)"
      ]
     },
     "execution_count": 27,
     "metadata": {},
     "output_type": "execute_result"
    }
   ],
   "source": [
    "Vt.shape"
   ]
  },
  {
   "cell_type": "markdown",
   "metadata": {},
   "source": [
    "#### Predicting a rating from SVD Components\n",
    "\n",
    "Now, to make things under the hood far more understandable we are going to predict rating from user 1 on item 1.\n",
    "\n",
    "Now, we have already have **U,S,V** components, we can generate prediction on how user will give a rating to an item , what we need to do are :     \n",
    "1. Slice user factor (U)\n",
    "2. Slice item factor (V)\n",
    "3. Perform Dot product $(u.s.v^T)$"
   ]
  },
  {
   "cell_type": "code",
   "execution_count": 28,
   "metadata": {},
   "outputs": [
    {
     "data": {
      "text/plain": [
       "array([-6.10986995e-02, -1.40406053e-02,  8.87529304e-02,  5.47528141e-02,\n",
       "        5.18094713e-02,  8.87199623e-03, -1.07273282e-02, -5.92583702e-02,\n",
       "       -4.10514311e-02,  7.82964028e-02,  5.45425141e-04, -7.62034712e-02,\n",
       "       -6.61876397e-02,  8.14280249e-02, -4.99956387e-02, -1.51804803e-01,\n",
       "       -5.26391778e-02,  3.82218527e-02,  8.79724333e-02, -7.76514655e-03,\n",
       "       -7.07754099e-03, -6.22517258e-02, -1.18292936e-01, -2.96878183e-02,\n",
       "        4.17751305e-02,  5.87610062e-02, -2.91692662e-02,  3.19693674e-02,\n",
       "       -8.81960422e-03, -9.70923355e-02,  3.72105920e-02,  2.10032502e-02,\n",
       "       -6.40964141e-02,  1.51631925e-01, -1.07941024e-02,  5.11747239e-03,\n",
       "        4.22785728e-02, -4.49994020e-02, -1.84601374e-02, -1.12255757e-01,\n",
       "        1.37224475e-01,  1.89959380e-02,  6.56149742e-03, -5.61689817e-02,\n",
       "        1.03701522e-01, -9.39044184e-02,  4.72992799e-02,  2.41742957e-02,\n",
       "        1.07183931e-01, -1.34182253e-02, -1.06624887e-01,  7.05486764e-02,\n",
       "       -4.73448611e-02,  9.17314280e-02,  8.40670579e-02,  5.46087436e-02,\n",
       "       -2.49896604e-02, -8.81792031e-03,  8.37166388e-03,  3.19565504e-03,\n",
       "       -6.92047301e-02,  8.57486159e-02, -5.50719322e-02,  4.93249994e-02,\n",
       "        5.41428158e-02, -1.33142794e-01,  1.52737160e-02, -1.06683146e-01,\n",
       "        4.03792701e-02,  1.07632199e-01,  5.22389573e-03, -3.89076727e-02,\n",
       "       -3.93892930e-02,  2.29150735e-02,  3.62009063e-02, -1.18685854e-02,\n",
       "        1.05874491e-02,  5.01002923e-03, -2.05355707e-02,  8.00822696e-02,\n",
       "        7.44748037e-02, -7.01923352e-03, -3.11136425e-02, -1.50343857e-02,\n",
       "        5.80870190e-03,  4.52105378e-03,  2.12609646e-03, -5.88318874e-02,\n",
       "        2.41461184e-02, -9.06581845e-02,  2.40047311e-02,  9.51905691e-03,\n",
       "       -6.39598981e-02,  9.35390216e-02, -1.91168602e-01, -5.25656990e-02,\n",
       "        5.60488849e-02,  4.50644887e-02,  1.29473113e-02,  5.94279943e-02,\n",
       "       -6.82569098e-02, -3.68593798e-02,  6.00129236e-02,  3.30946803e-02,\n",
       "       -2.81860241e-03, -1.28098638e-02, -5.81583948e-02, -2.09621237e-02,\n",
       "        1.10699565e-01, -2.80981593e-03, -1.34844961e-02, -3.77954750e-02,\n",
       "       -1.60505613e-02, -2.34985253e-02, -5.34551368e-02,  6.34747788e-02,\n",
       "        1.19886635e-01, -4.39281331e-02, -2.18403872e-02,  1.72927869e-02,\n",
       "       -4.93471685e-02,  5.58102681e-04, -4.37434913e-02, -1.73926841e-02,\n",
       "        2.49622210e-02, -5.16319495e-02, -4.27936004e-02, -3.81358156e-03,\n",
       "        3.96693350e-02,  2.80049656e-03, -2.18957420e-02, -6.97490835e-02,\n",
       "        7.51729423e-03,  9.59080633e-03,  6.33399805e-02,  1.55929675e-02,\n",
       "        6.86044185e-02,  9.24506524e-03, -1.21071362e-02,  2.73651368e-02,\n",
       "       -1.03302607e-01, -2.02726688e-02, -5.23232869e-02,  4.53152481e-02,\n",
       "       -2.03978223e-02,  2.58162011e-02, -9.79223791e-02, -9.16119441e-02,\n",
       "        2.23880151e-02, -4.07185644e-02, -5.99192951e-03,  2.32613678e-03,\n",
       "       -4.87546261e-02,  6.87417225e-02,  5.15761405e-02,  2.83833263e-02,\n",
       "       -2.27086376e-02, -1.20341900e-02,  4.64111066e-02, -8.31838656e-03,\n",
       "       -4.07474376e-02, -2.18589539e-03, -3.02187448e-02,  8.54910581e-03,\n",
       "       -2.80659030e-02, -2.51805431e-02,  4.22153494e-02, -1.31989167e-02,\n",
       "       -1.31752467e-02,  3.93254613e-02,  2.20463270e-02,  8.53575743e-02,\n",
       "        8.81940370e-02,  4.78134051e-03,  4.71303690e-02,  3.86776520e-02,\n",
       "       -6.38394589e-02,  3.49128635e-02, -1.39580779e-02,  6.72940212e-04,\n",
       "        2.58556669e-02, -1.14049597e-02, -3.10336994e-02, -2.43736777e-02,\n",
       "       -4.17749083e-02, -4.28458446e-03, -3.38509775e-02,  6.02064580e-02,\n",
       "        3.36831473e-02,  5.27047731e-02,  3.81500893e-02,  4.35411821e-02,\n",
       "       -8.03116970e-02, -1.15084614e-01, -1.84100785e-02,  4.89309430e-04,\n",
       "       -3.03649453e-04,  1.15266507e-02,  1.27713929e-03,  4.57614844e-02,\n",
       "       -5.72743275e-02,  9.53701261e-03, -4.94636262e-02, -2.22700947e-02,\n",
       "        4.93494409e-02, -3.41756777e-02, -2.11146495e-02, -1.68229889e-02,\n",
       "        4.28055984e-02,  6.32071906e-02,  1.20239780e-02, -3.26140125e-03,\n",
       "        1.93071575e-02,  2.27179772e-02,  9.22148993e-03, -2.34565093e-02,\n",
       "       -2.95508366e-02,  3.65648593e-02, -5.57406009e-03, -1.92150549e-02,\n",
       "        1.67627616e-02,  1.67691796e-02,  6.41057511e-02, -1.29594409e-03,\n",
       "        9.65807218e-03,  1.64013229e-02, -2.03053673e-03,  1.73836163e-03,\n",
       "        1.29472001e-02, -5.04566147e-03,  1.09209721e-02,  3.28910101e-02,\n",
       "        6.61990708e-02,  9.33755388e-02,  5.33465055e-02,  2.22753605e-02,\n",
       "       -9.61248307e-03, -5.65826328e-02, -2.75084512e-02, -3.37496000e-02,\n",
       "        5.00710193e-02, -1.70677871e-03,  8.74059800e-03,  2.98622887e-02,\n",
       "       -3.94405450e-03, -1.59686718e-02, -1.58945337e-02,  1.16598574e-02,\n",
       "        7.93636569e-03, -5.92412763e-02,  7.20033859e-03,  3.78061588e-02,\n",
       "       -2.08519820e-02, -2.30535961e-02,  3.17202118e-02, -3.68059454e-02,\n",
       "        2.66682181e-02,  3.51517825e-04, -2.81099136e-02, -4.66601075e-02,\n",
       "       -2.93936822e-02, -1.67781925e-02,  2.82308039e-02,  5.08820894e-03,\n",
       "       -3.69509184e-02, -4.35670082e-02,  1.77487260e-02, -4.50613418e-02,\n",
       "       -1.69498414e-02, -2.06657033e-03, -6.86748263e-02, -4.69679290e-02,\n",
       "       -5.47485235e-03,  1.75160038e-02, -8.16778051e-03, -5.64488745e-02,\n",
       "       -3.66258308e-04, -4.38614726e-02,  2.91381203e-02, -1.16063812e-02,\n",
       "        2.89893405e-02, -2.96426924e-02, -1.29100457e-04, -2.67700126e-02,\n",
       "       -1.40482618e-02, -6.06674091e-02, -6.92371014e-03, -4.61957254e-02,\n",
       "       -1.87027084e-02, -2.85350391e-02, -4.27055995e-02, -1.84412191e-02,\n",
       "       -4.76290115e-02,  2.57563167e-02, -1.01251668e-02, -1.02871051e-02,\n",
       "       -1.42344381e-02, -2.16987070e-02,  3.67198214e-02, -2.31203662e-02,\n",
       "        6.21650079e-02, -3.08698907e-02, -3.01896183e-02, -1.55067059e-02,\n",
       "        2.08822487e-02,  2.09501142e-02,  2.65406985e-02, -2.80097949e-03,\n",
       "       -1.06878714e-02, -3.38841641e-02,  8.02690911e-03,  9.82672328e-03,\n",
       "        1.15768099e-02,  1.01426199e-02, -6.06502180e-02,  6.47444311e-03,\n",
       "        7.34275298e-03, -2.95400758e-03, -5.75094663e-02,  5.56321511e-03,\n",
       "        6.39773460e-02,  7.66021959e-04,  4.37439303e-02, -1.14596018e-02,\n",
       "        8.37956651e-03,  1.24357526e-02, -1.80099304e-03, -8.29280897e-02,\n",
       "        8.47199740e-03, -1.21764398e-02, -2.25633773e-02, -2.18283990e-02,\n",
       "        8.38026475e-03,  1.45263642e-02, -1.44040027e-02,  2.04455665e-02,\n",
       "       -4.88149658e-02, -1.58457300e-02,  5.41050120e-03,  6.08047866e-03,\n",
       "        5.73655706e-02, -2.02532218e-02,  3.25031397e-03, -7.71736059e-03,\n",
       "       -8.25927284e-03, -3.29980404e-02,  4.57910723e-02, -8.29619119e-03,\n",
       "       -1.93662074e-02,  2.22816843e-02, -2.45237241e-02, -3.53182285e-02,\n",
       "       -5.54447923e-02, -4.53090394e-03, -1.97877024e-02, -3.54554494e-03,\n",
       "       -1.15583184e-02, -7.07999045e-02,  1.48025572e-02, -1.33295058e-02,\n",
       "       -1.83592918e-02, -1.95518903e-02, -5.48275367e-02, -2.65168451e-02,\n",
       "        1.78665309e-02,  1.51240267e-02, -7.22543803e-03, -1.19091700e-02,\n",
       "        1.18784538e-02, -1.11165645e-02,  5.44926528e-02,  3.95307913e-02,\n",
       "        1.61589775e-02,  1.28850479e-03,  1.04399612e-02, -6.70142432e-02,\n",
       "       -1.50271466e-02, -3.32421912e-02,  1.33644880e-02,  3.11292262e-03,\n",
       "       -1.09937790e-02, -1.99148205e-02,  3.72751183e-02, -4.38676183e-03,\n",
       "       -2.14009073e-02, -2.62100446e-02, -4.51814777e-02,  6.74071721e-03,\n",
       "        2.96204080e-02,  1.84694695e-02,  2.12514374e-02, -2.66752315e-02,\n",
       "        5.46032389e-03,  5.12356448e-03, -3.34926402e-02,  2.98917331e-03,\n",
       "        1.40696228e-02,  2.28252576e-04, -8.30045929e-03,  5.32691584e-04,\n",
       "       -8.32477049e-02, -2.18886015e-02,  1.53535822e-02, -1.02150679e-02,\n",
       "        2.95986992e-03, -4.68090052e-02, -1.04804820e-02, -2.82086037e-02,\n",
       "       -3.63757100e-02, -8.26569922e-03,  4.05212539e-03,  8.74314856e-03,\n",
       "        6.80458517e-03, -3.89893298e-02,  2.90316529e-02,  6.23397122e-04,\n",
       "        1.91531195e-02, -3.75124417e-02,  3.18552883e-02, -6.21034285e-03,\n",
       "        2.42001684e-02,  1.49354435e-02,  4.52863935e-02,  1.14879333e-02,\n",
       "       -3.41933025e-03, -1.57364117e-03, -5.20270559e-03, -2.19734358e-02,\n",
       "        4.77212278e-03, -2.87731794e-02, -2.81551443e-02,  8.31026338e-03,\n",
       "       -2.77277911e-03, -2.00483740e-02,  2.81472017e-02,  4.91389017e-03,\n",
       "       -3.40985156e-02, -3.79286572e-02,  5.19326594e-02, -1.50168722e-02,\n",
       "        1.33483613e-02,  2.60906935e-02, -3.90542132e-02, -4.82407830e-03,\n",
       "       -3.95463681e-04, -5.45474280e-02,  2.94660580e-02, -5.75602721e-02,\n",
       "       -2.57521812e-04, -1.54912564e-02, -3.04126481e-02,  8.32321072e-03,\n",
       "        1.11681561e-02,  3.14683317e-03, -5.41414731e-02,  2.94440941e-02,\n",
       "        1.49907050e-03,  5.68729843e-02, -5.07603101e-03,  3.72106092e-03,\n",
       "       -5.81881098e-03, -2.28798564e-03, -2.25875258e-02, -6.12242430e-02,\n",
       "       -5.53342814e-02, -6.19583638e-02,  4.32517878e-02,  1.92793163e-02,\n",
       "       -6.20723977e-02,  3.40608112e-02, -7.36175062e-03, -5.34936824e-02,\n",
       "        4.61490580e-02, -4.17185692e-02,  2.86628948e-04,  1.04491715e-02,\n",
       "        7.39860192e-02,  2.65455385e-03, -5.09292175e-02, -7.53200193e-03,\n",
       "        1.54804245e-02, -3.93954494e-02, -1.17976249e-02, -1.08407111e-03,\n",
       "       -3.77710083e-02,  3.44411149e-02,  1.34749313e-02, -2.97997096e-02,\n",
       "        2.05099105e-02, -3.67051972e-02, -9.99191068e-04,  1.76608062e-02,\n",
       "       -8.62700442e-03, -1.63309685e-02, -1.02852159e-02, -3.44356029e-02,\n",
       "       -3.43934600e-02,  5.17768887e-02, -5.00229440e-02, -1.33249911e-03,\n",
       "        3.31680170e-02,  7.34722273e-03, -3.64128939e-03, -1.75261971e-02,\n",
       "        5.65394857e-02, -4.98186772e-02,  4.66071764e-03,  1.10782295e-02,\n",
       "       -2.35368096e-02, -4.33490765e-03, -1.91403248e-02, -3.49014844e-02,\n",
       "        1.72699726e-03,  5.26823634e-03,  6.70241278e-03, -1.49944367e-02,\n",
       "        3.86692553e-03,  8.96910592e-03,  4.43599942e-02, -4.10317860e-02,\n",
       "        1.95610856e-02, -6.96440065e-03,  7.26747572e-03, -1.34682601e-02,\n",
       "       -1.00930843e-02,  1.30445858e-02, -6.72928333e-02, -6.48151511e-02,\n",
       "        4.81469036e-02,  1.71715374e-02, -4.66820567e-02,  4.70403932e-03,\n",
       "       -1.45240285e-02,  1.26882130e-02, -3.28937838e-02, -5.32182802e-02,\n",
       "        1.06258314e-02,  7.41808684e-02, -3.50964202e-02,  1.75504367e-02,\n",
       "       -2.42070031e-02,  2.63184676e-02,  2.52150857e-02, -3.69825686e-02,\n",
       "        4.08847691e-02,  1.07334278e-02,  3.40668609e-02,  1.88106624e-02,\n",
       "       -1.78691696e-02,  2.71988263e-02,  2.70863352e-02,  5.82300910e-02,\n",
       "       -2.05522970e-03, -5.90453649e-02,  1.07366297e-02, -2.62656121e-02,\n",
       "        1.13935391e-02,  2.41888550e-02, -2.83867874e-04, -1.66231112e-02,\n",
       "       -3.21113125e-03, -1.06874033e-02, -2.73028370e-02, -1.59512354e-03,\n",
       "       -2.31049744e-02,  1.33559336e-02, -3.10872321e-02,  2.94842840e-02,\n",
       "        7.96775351e-03, -5.49916880e-03, -3.08960672e-02,  3.88097026e-02,\n",
       "       -1.05259465e-02, -6.78388898e-03, -4.55412208e-02, -3.59451367e-02,\n",
       "       -1.28253756e-02, -1.94445028e-03, -6.36614530e-02, -5.88669625e-02,\n",
       "        2.02873472e-02, -5.19723473e-02,  1.24374090e-02,  2.09948512e-02,\n",
       "        9.65680228e-03, -4.75352957e-03, -6.13296093e-02, -5.20321282e-03,\n",
       "       -6.62276316e-02,  4.83909312e-03, -1.92197092e-02, -5.97045267e-02,\n",
       "        4.15844361e-02, -1.76187769e-02, -7.19092219e-02,  2.57250918e-02,\n",
       "       -4.57009632e-02,  4.16869425e-02, -1.96061898e-02, -5.05838395e-03,\n",
       "        4.42649553e-04, -5.08079222e-02])"
      ]
     },
     "execution_count": 28,
     "metadata": {},
     "output_type": "execute_result"
    }
   ],
   "source": [
    "# slice user factor\n",
    "user_id = 0\n",
    "u_1 = U[user_id,:]\n",
    "\n",
    "# show output\n",
    "u_1"
   ]
  },
  {
   "cell_type": "code",
   "execution_count": 29,
   "metadata": {},
   "outputs": [
    {
     "data": {
      "text/plain": [
       "(602,)"
      ]
     },
     "execution_count": 29,
     "metadata": {},
     "output_type": "execute_result"
    }
   ],
   "source": [
    "u_1.shape"
   ]
  },
  {
   "cell_type": "code",
   "execution_count": 30,
   "metadata": {},
   "outputs": [
    {
     "data": {
      "text/plain": [
       "(248,)"
      ]
     },
     "execution_count": 30,
     "metadata": {},
     "output_type": "execute_result"
    }
   ],
   "source": [
    "# slice item factor\n",
    "item_id = 0\n",
    "v_1 = Vt[:,item_id]\n",
    "\n",
    "v_1.shape"
   ]
  },
  {
   "cell_type": "markdown",
   "metadata": {},
   "source": [
    "For singular values we do not need to slice it, we use all of the singular values , we only need to create diagonal matrix so that we can perform dot product"
   ]
  },
  {
   "cell_type": "code",
   "execution_count": 31,
   "metadata": {},
   "outputs": [],
   "source": [
    "s_diag = np.diag(S)"
   ]
  },
  {
   "cell_type": "code",
   "execution_count": 32,
   "metadata": {},
   "outputs": [
    {
     "data": {
      "text/plain": [
       "(248, 248)"
      ]
     },
     "execution_count": 32,
     "metadata": {},
     "output_type": "execute_result"
    }
   ],
   "source": [
    "s_diag.shape"
   ]
  },
  {
   "cell_type": "code",
   "execution_count": 33,
   "metadata": {},
   "outputs": [
    {
     "name": "stdout",
     "output_type": "stream",
     "text": [
      "(602, 602)\n",
      "(248,)\n",
      "(248, 248)\n"
     ]
    }
   ],
   "source": [
    "print(U.shape)\n",
    "print(S.shape)\n",
    "print(Vt.shape)"
   ]
  },
  {
   "cell_type": "code",
   "execution_count": 34,
   "metadata": {},
   "outputs": [
    {
     "data": {
      "text/plain": [
       "(602, 248)"
      ]
     },
     "execution_count": 34,
     "metadata": {},
     "output_type": "execute_result"
    }
   ],
   "source": [
    "s_new = np.vstack((np.diag(S),np.zeros(shape=(U.shape[0]-Vt.shape[0],Vt.shape[0]))))\n",
    "s_new.shape"
   ]
  },
  {
   "cell_type": "code",
   "execution_count": 35,
   "metadata": {},
   "outputs": [
    {
     "name": "stdout",
     "output_type": "stream",
     "text": [
      "(602, 602)\n",
      "(248,)\n",
      "(248, 248)\n"
     ]
    }
   ],
   "source": [
    "print(U.shape)\n",
    "print(S.shape)\n",
    "print(Vt.shape)"
   ]
  },
  {
   "cell_type": "code",
   "execution_count": 36,
   "metadata": {},
   "outputs": [
    {
     "name": "stdout",
     "output_type": "stream",
     "text": [
      "Us shape (248,)\n"
     ]
    }
   ],
   "source": [
    "# perform dot product U.S\n",
    "us = u_1.dot(s_new)\n",
    "# check us shape\n",
    "print('Us shape',us.shape)"
   ]
  },
  {
   "cell_type": "markdown",
   "metadata": {},
   "source": [
    "It yield correct answer `<1x602>` x `<602x248>` it result `<1x248>`."
   ]
  },
  {
   "cell_type": "code",
   "execution_count": 37,
   "metadata": {},
   "outputs": [],
   "source": [
    "# perform dot product with v_1\n",
    "predicted_rating = us.dot(v_1)"
   ]
  },
  {
   "cell_type": "code",
   "execution_count": 38,
   "metadata": {},
   "outputs": [
    {
     "name": "stdout",
     "output_type": "stream",
     "text": [
      "Predicted rating from user 1 to item 1 4.000000000000006\n"
     ]
    }
   ],
   "source": [
    "print('Predicted rating from user 1 to item 1',predicted_rating)"
   ]
  },
  {
   "cell_type": "code",
   "execution_count": 39,
   "metadata": {},
   "outputs": [
    {
     "data": {
      "text/plain": [
       "4.0"
      ]
     },
     "execution_count": 39,
     "metadata": {},
     "output_type": "execute_result"
    }
   ],
   "source": [
    "imputed_rating.loc[1,1]"
   ]
  },
  {
   "cell_type": "markdown",
   "metadata": {},
   "source": [
    "We can see our prediction is the same as what it supposed to be.\n",
    "Construct Whole Utility matrix.\n",
    "To construct whole utility matrix we can multiply each component $U.S.V^T$."
   ]
  },
  {
   "cell_type": "code",
   "execution_count": 40,
   "metadata": {},
   "outputs": [],
   "source": [
    "utility_matrix = np.dot(U,s_new).dot(Vt)"
   ]
  },
  {
   "cell_type": "code",
   "execution_count": 41,
   "metadata": {},
   "outputs": [
    {
     "data": {
      "text/plain": [
       "array([[ 4.00000000e+00,  4.00000000e+00,  4.00000000e+00, ...,\n",
       "         2.49800181e-15,  1.08246745e-15,  2.16493490e-15],\n",
       "       [-8.60422844e-16,  5.38458167e-15,  4.81559237e-15, ...,\n",
       "        -9.99200722e-16, -1.44328993e-15,  1.04083409e-15],\n",
       "       [ 1.52655666e-16,  1.11369247e-15, -1.38777878e-16, ...,\n",
       "         1.20389809e-15,  1.88109077e-16,  4.43655529e-16],\n",
       "       ...,\n",
       "       [ 2.50000000e+00,  2.00000000e+00, -3.05311332e-15, ...,\n",
       "        -2.82412982e-15, -3.19189120e-15,  2.68882139e-16],\n",
       "       [ 3.00000000e+00,  5.85642645e-15,  3.76088050e-15, ...,\n",
       "         3.88578059e-16,  8.88178420e-16, -4.37150316e-16],\n",
       "       [ 5.00000000e+00, -8.47932835e-15,  5.00000000e+00, ...,\n",
       "         4.00000000e+00,  4.00000000e+00,  1.11022302e-15]])"
      ]
     },
     "execution_count": 41,
     "metadata": {},
     "output_type": "execute_result"
    }
   ],
   "source": [
    "    utility_matrix"
   ]
  },
  {
   "cell_type": "markdown",
   "metadata": {},
   "source": [
    "#### Experimenting\n",
    "\n",
    "We want to experiment how the singular values may give different result if we modify the number of singular value, for benchmarking purpose we will predict rating on user 1 on item 1\n",
    "\n",
    "for number of singular values we are going to take is :\n",
    "- all\n",
    "- 10\n",
    "- 100\n",
    "\n",
    "the true value of rating from user 1 on item 1 is **4.0**"
   ]
  },
  {
   "cell_type": "markdown",
   "metadata": {},
   "source": [
    "we will make function named `slice_singular_values`"
   ]
  },
  {
   "cell_type": "code",
   "execution_count": 42,
   "metadata": {},
   "outputs": [],
   "source": [
    "# create function\n",
    "def singular_values(n_singular,sing_vector) :\n",
    "    \"\"\"Function to slice singular values\"\"\"\n",
    "\n",
    "    # copy to avoid overwriting\n",
    "    sing_vector = sing_vector.copy()\n",
    "\n",
    "    # replace after n singular values with 0\n",
    "    sing_vector[n_singular:] = 0\n",
    "    s_new = np.vstack((np.diag(sing_vector),np.zeros(shape=(U.shape[0]-Vt.shape[0],Vt.shape[0]))))\n",
    "\n",
    "\n",
    "    return s_new\n"
   ]
  },
  {
   "cell_type": "markdown",
   "metadata": {},
   "source": [
    "**10 singular Values**"
   ]
  },
  {
   "cell_type": "code",
   "execution_count": 43,
   "metadata": {},
   "outputs": [
    {
     "data": {
      "text/plain": [
       "2.5879168396164935"
      ]
     },
     "execution_count": 43,
     "metadata": {},
     "output_type": "execute_result"
    }
   ],
   "source": [
    "s_10 = singular_values(n_singular=10,sing_vector=S)\n",
    "\n",
    "predicted_ratigs_10 = np.dot(u_1,s_10).dot(v_1)\n",
    "predicted_ratigs_10"
   ]
  },
  {
   "cell_type": "markdown",
   "metadata": {},
   "source": [
    "**100 Singular Values**"
   ]
  },
  {
   "cell_type": "code",
   "execution_count": 44,
   "metadata": {},
   "outputs": [
    {
     "data": {
      "text/plain": [
       "4.267890021309445"
      ]
     },
     "execution_count": 44,
     "metadata": {},
     "output_type": "execute_result"
    }
   ],
   "source": [
    "s_100 = singular_values(n_singular=100,sing_vector=S)\n",
    "\n",
    "predicted_ratigs_100 = np.dot(u_1,s_100).dot(v_1)\n",
    "predicted_ratigs_100"
   ]
  },
  {
   "cell_type": "markdown",
   "metadata": {},
   "source": [
    "**All Singular Values**"
   ]
  },
  {
   "cell_type": "code",
   "execution_count": 45,
   "metadata": {},
   "outputs": [
    {
     "data": {
      "text/plain": [
       "4.000000000000006"
      ]
     },
     "execution_count": 45,
     "metadata": {},
     "output_type": "execute_result"
    }
   ],
   "source": [
    "s_all = singular_values(n_singular=len(S),sing_vector=S)\n",
    "\n",
    "predicted_ratigs_all = np.dot(u_1,s_all).dot(v_1)\n",
    "predicted_ratigs_all"
   ]
  },
  {
   "cell_type": "markdown",
   "metadata": {},
   "source": [
    "**Wrap Up**\n"
   ]
  },
  {
   "cell_type": "code",
   "execution_count": 46,
   "metadata": {},
   "outputs": [
    {
     "data": {
      "text/html": [
       "<div>\n",
       "<style scoped>\n",
       "    .dataframe tbody tr th:only-of-type {\n",
       "        vertical-align: middle;\n",
       "    }\n",
       "\n",
       "    .dataframe tbody tr th {\n",
       "        vertical-align: top;\n",
       "    }\n",
       "\n",
       "    .dataframe thead th {\n",
       "        text-align: right;\n",
       "    }\n",
       "</style>\n",
       "<table border=\"1\" class=\"dataframe\">\n",
       "  <thead>\n",
       "    <tr style=\"text-align: right;\">\n",
       "      <th></th>\n",
       "      <th>N singular Value</th>\n",
       "      <th>Predicted_ratings</th>\n",
       "    </tr>\n",
       "  </thead>\n",
       "  <tbody>\n",
       "    <tr>\n",
       "      <th>0</th>\n",
       "      <td>10</td>\n",
       "      <td>2.587917</td>\n",
       "    </tr>\n",
       "    <tr>\n",
       "      <th>1</th>\n",
       "      <td>100</td>\n",
       "      <td>4.267890</td>\n",
       "    </tr>\n",
       "    <tr>\n",
       "      <th>2</th>\n",
       "      <td>all</td>\n",
       "      <td>4.000000</td>\n",
       "    </tr>\n",
       "  </tbody>\n",
       "</table>\n",
       "</div>"
      ],
      "text/plain": [
       "  N singular Value  Predicted_ratings\n",
       "0               10           2.587917\n",
       "1              100           4.267890\n",
       "2              all           4.000000"
      ]
     },
     "execution_count": 46,
     "metadata": {},
     "output_type": "execute_result"
    }
   ],
   "source": [
    "summary_singular_value = pd.DataFrame(\n",
    "    data={'N singular Value': [10,100,'all'],\n",
    "          'Predicted_ratings': [predicted_ratigs_10,predicted_ratigs_100,predicted_ratigs_all]\n",
    "          }\n",
    ")\n",
    "summary_singular_value"
   ]
  },
  {
   "cell_type": "markdown",
   "metadata": {},
   "source": [
    "We can see that the more singular value component we add the closer to real value"
   ]
  },
  {
   "cell_type": "markdown",
   "metadata": {},
   "source": [
    "### Funk SVD from Scratch"
   ]
  },
  {
   "cell_type": "markdown",
   "metadata": {},
   "source": [
    "Previously we learnt how to decompose utility matrix using Singular Value Decomposition.\n",
    "However, the operation is not doable unless we use **missing values imputation**.\n",
    "In this case, we cannot use missing values imputation because we want to predict the unknown rating itself.\n",
    "Instead of using SVD, we can be inspired from SVD. Simon Funk (2006) developed algorithm to predict ratings from movie in [Netflix Competition](https://en.wikipedia.org/wiki/Netflix_Prize).\n",
    "\n",
    "The idea is pretty simple, instead we directly decompose from utility matrix into user factor and item factor.\n",
    "We create user factor and item factor iterative optimization process using our known data."
   ]
  },
  {
   "cell_type": "markdown",
   "metadata": {},
   "source": [
    "#### Data Preparation\n",
    "\n",
    "In this process we will prepare our data so that we can continue to training process, the expected output should be array with size `<n_records x features>`.\n",
    "\n",
    "with features ordered :     \n",
    "- feature 1 : `userId`\n",
    "- feature 2 : `movieId`\n",
    "- feature 3 : `rating`\n"
   ]
  },
  {
   "cell_type": "markdown",
   "metadata": {},
   "source": [
    "Steps we take\n",
    "- Load the dataframe contain columns `userId`,`movieId`, and `rating`\n",
    "- Mapping unique id such as `userId` and `movieId` since we our output is in array, the slicing on rows / columns based on ordered number from `0 to n`\n",
    "- Converting dataframe to numpy array"
   ]
  },
  {
   "cell_type": "markdown",
   "metadata": {},
   "source": [
    "**Load Data**"
   ]
  },
  {
   "cell_type": "code",
   "execution_count": 47,
   "metadata": {},
   "outputs": [
    {
     "name": "stdout",
     "output_type": "stream",
     "text": [
      "Original data shape : (20760, 3)\n"
     ]
    }
   ],
   "source": [
    "rating_data = load_rating_data(rating_path = rating_path)"
   ]
  },
  {
   "cell_type": "markdown",
   "metadata": {},
   "source": [
    "**Mapping `userId` and `movieId`**\n",
    "\n",
    "To create mapping, we can simply create dictionary, which stores :    \n",
    "- UserId to ordered id\n",
    "```python\n",
    "user_to_id = {userid : orderedid}\n",
    "#example\n",
    "user_to_id = {'ab' : 1}\n",
    "```\n",
    "- Ordered id to UserId\n",
    "```python\n",
    "user_to_id = {orderedid : userid }\n",
    "#example\n",
    "user_to_id = {1 : 'ab' }\n",
    "```"
   ]
  },
  {
   "cell_type": "code",
   "execution_count": 48,
   "metadata": {},
   "outputs": [],
   "source": [
    "# mapping userId into ordered id\n",
    "user_to_id = {user : idx for idx,user in enumerate(rating_data['userId'].unique())}\n",
    "\n",
    "# mapping ordered id back into userId\n",
    "id_to_user = {idx : user for idx,user in enumerate(rating_data['userId'].unique())}"
   ]
  },
  {
   "cell_type": "code",
   "execution_count": 49,
   "metadata": {},
   "outputs": [
    {
     "data": {
      "text/plain": [
       "{1: 0,\n",
       " 2: 1,\n",
       " 3: 2,\n",
       " 4: 3,\n",
       " 5: 4,\n",
       " 6: 5,\n",
       " 7: 6,\n",
       " 8: 7,\n",
       " 9: 8,\n",
       " 10: 9,\n",
       " 11: 10,\n",
       " 12: 11,\n",
       " 13: 12,\n",
       " 14: 13,\n",
       " 15: 14,\n",
       " 16: 15,\n",
       " 17: 16,\n",
       " 18: 17,\n",
       " 19: 18,\n",
       " 20: 19,\n",
       " 21: 20,\n",
       " 22: 21,\n",
       " 23: 22,\n",
       " 24: 23,\n",
       " 25: 24,\n",
       " 26: 25,\n",
       " 27: 26,\n",
       " 28: 27,\n",
       " 29: 28,\n",
       " 30: 29,\n",
       " 31: 30,\n",
       " 32: 31,\n",
       " 33: 32,\n",
       " 34: 33,\n",
       " 35: 34,\n",
       " 36: 35,\n",
       " 37: 36,\n",
       " 38: 37,\n",
       " 39: 38,\n",
       " 40: 39,\n",
       " 41: 40,\n",
       " 42: 41,\n",
       " 43: 42,\n",
       " 44: 43,\n",
       " 45: 44,\n",
       " 46: 45,\n",
       " 47: 46,\n",
       " 48: 47,\n",
       " 49: 48,\n",
       " 50: 49,\n",
       " 51: 50,\n",
       " 52: 51,\n",
       " 54: 52,\n",
       " 55: 53,\n",
       " 56: 54,\n",
       " 57: 55,\n",
       " 58: 56,\n",
       " 59: 57,\n",
       " 60: 58,\n",
       " 61: 59,\n",
       " 62: 60,\n",
       " 63: 61,\n",
       " 64: 62,\n",
       " 65: 63,\n",
       " 66: 64,\n",
       " 67: 65,\n",
       " 68: 66,\n",
       " 69: 67,\n",
       " 70: 68,\n",
       " 71: 69,\n",
       " 72: 70,\n",
       " 73: 71,\n",
       " 74: 72,\n",
       " 75: 73,\n",
       " 76: 74,\n",
       " 77: 75,\n",
       " 78: 76,\n",
       " 79: 77,\n",
       " 80: 78,\n",
       " 81: 79,\n",
       " 82: 80,\n",
       " 83: 81,\n",
       " 84: 82,\n",
       " 85: 83,\n",
       " 86: 84,\n",
       " 87: 85,\n",
       " 88: 86,\n",
       " 89: 87,\n",
       " 90: 88,\n",
       " 91: 89,\n",
       " 92: 90,\n",
       " 93: 91,\n",
       " 94: 92,\n",
       " 95: 93,\n",
       " 96: 94,\n",
       " 97: 95,\n",
       " 98: 96,\n",
       " 99: 97,\n",
       " 100: 98,\n",
       " 101: 99,\n",
       " 102: 100,\n",
       " 103: 101,\n",
       " 104: 102,\n",
       " 105: 103,\n",
       " 106: 104,\n",
       " 107: 105,\n",
       " 108: 106,\n",
       " 109: 107,\n",
       " 110: 108,\n",
       " 111: 109,\n",
       " 112: 110,\n",
       " 113: 111,\n",
       " 114: 112,\n",
       " 115: 113,\n",
       " 116: 114,\n",
       " 117: 115,\n",
       " 118: 116,\n",
       " 119: 117,\n",
       " 120: 118,\n",
       " 121: 119,\n",
       " 122: 120,\n",
       " 123: 121,\n",
       " 124: 122,\n",
       " 125: 123,\n",
       " 126: 124,\n",
       " 127: 125,\n",
       " 128: 126,\n",
       " 129: 127,\n",
       " 130: 128,\n",
       " 131: 129,\n",
       " 132: 130,\n",
       " 133: 131,\n",
       " 134: 132,\n",
       " 135: 133,\n",
       " 136: 134,\n",
       " 137: 135,\n",
       " 138: 136,\n",
       " 139: 137,\n",
       " 140: 138,\n",
       " 141: 139,\n",
       " 142: 140,\n",
       " 143: 141,\n",
       " 144: 142,\n",
       " 145: 143,\n",
       " 146: 144,\n",
       " 147: 145,\n",
       " 148: 146,\n",
       " 149: 147,\n",
       " 150: 148,\n",
       " 151: 149,\n",
       " 152: 150,\n",
       " 153: 151,\n",
       " 154: 152,\n",
       " 155: 153,\n",
       " 156: 154,\n",
       " 157: 155,\n",
       " 159: 156,\n",
       " 160: 157,\n",
       " 161: 158,\n",
       " 162: 159,\n",
       " 163: 160,\n",
       " 164: 161,\n",
       " 165: 162,\n",
       " 166: 163,\n",
       " 167: 164,\n",
       " 168: 165,\n",
       " 169: 166,\n",
       " 170: 167,\n",
       " 171: 168,\n",
       " 172: 169,\n",
       " 173: 170,\n",
       " 174: 171,\n",
       " 176: 172,\n",
       " 177: 173,\n",
       " 178: 174,\n",
       " 179: 175,\n",
       " 180: 176,\n",
       " 181: 177,\n",
       " 182: 178,\n",
       " 183: 179,\n",
       " 184: 180,\n",
       " 185: 181,\n",
       " 186: 182,\n",
       " 187: 183,\n",
       " 188: 184,\n",
       " 189: 185,\n",
       " 190: 186,\n",
       " 191: 187,\n",
       " 192: 188,\n",
       " 193: 189,\n",
       " 194: 190,\n",
       " 195: 191,\n",
       " 196: 192,\n",
       " 197: 193,\n",
       " 198: 194,\n",
       " 199: 195,\n",
       " 200: 196,\n",
       " 201: 197,\n",
       " 202: 198,\n",
       " 203: 199,\n",
       " 204: 200,\n",
       " 205: 201,\n",
       " 206: 202,\n",
       " 208: 203,\n",
       " 209: 204,\n",
       " 210: 205,\n",
       " 211: 206,\n",
       " 212: 207,\n",
       " 213: 208,\n",
       " 214: 209,\n",
       " 215: 210,\n",
       " 216: 211,\n",
       " 217: 212,\n",
       " 218: 213,\n",
       " 219: 214,\n",
       " 220: 215,\n",
       " 221: 216,\n",
       " 222: 217,\n",
       " 223: 218,\n",
       " 224: 219,\n",
       " 225: 220,\n",
       " 226: 221,\n",
       " 227: 222,\n",
       " 228: 223,\n",
       " 229: 224,\n",
       " 230: 225,\n",
       " 231: 226,\n",
       " 232: 227,\n",
       " 233: 228,\n",
       " 234: 229,\n",
       " 235: 230,\n",
       " 236: 231,\n",
       " 237: 232,\n",
       " 238: 233,\n",
       " 239: 234,\n",
       " 240: 235,\n",
       " 241: 236,\n",
       " 242: 237,\n",
       " 243: 238,\n",
       " 244: 239,\n",
       " 245: 240,\n",
       " 246: 241,\n",
       " 247: 242,\n",
       " 248: 243,\n",
       " 249: 244,\n",
       " 250: 245,\n",
       " 251: 246,\n",
       " 252: 247,\n",
       " 253: 248,\n",
       " 254: 249,\n",
       " 255: 250,\n",
       " 256: 251,\n",
       " 257: 252,\n",
       " 258: 253,\n",
       " 259: 254,\n",
       " 260: 255,\n",
       " 261: 256,\n",
       " 262: 257,\n",
       " 263: 258,\n",
       " 264: 259,\n",
       " 265: 260,\n",
       " 266: 261,\n",
       " 267: 262,\n",
       " 268: 263,\n",
       " 269: 264,\n",
       " 270: 265,\n",
       " 271: 266,\n",
       " 272: 267,\n",
       " 273: 268,\n",
       " 274: 269,\n",
       " 275: 270,\n",
       " 276: 271,\n",
       " 277: 272,\n",
       " 278: 273,\n",
       " 279: 274,\n",
       " 280: 275,\n",
       " 281: 276,\n",
       " 282: 277,\n",
       " 283: 278,\n",
       " 284: 279,\n",
       " 285: 280,\n",
       " 286: 281,\n",
       " 287: 282,\n",
       " 288: 283,\n",
       " 289: 284,\n",
       " 290: 285,\n",
       " 291: 286,\n",
       " 292: 287,\n",
       " 293: 288,\n",
       " 294: 289,\n",
       " 295: 290,\n",
       " 296: 291,\n",
       " 297: 292,\n",
       " 298: 293,\n",
       " 299: 294,\n",
       " 300: 295,\n",
       " 301: 296,\n",
       " 302: 297,\n",
       " 303: 298,\n",
       " 304: 299,\n",
       " 305: 300,\n",
       " 306: 301,\n",
       " 307: 302,\n",
       " 308: 303,\n",
       " 309: 304,\n",
       " 310: 305,\n",
       " 311: 306,\n",
       " 312: 307,\n",
       " 313: 308,\n",
       " 314: 309,\n",
       " 315: 310,\n",
       " 316: 311,\n",
       " 317: 312,\n",
       " 318: 313,\n",
       " 319: 314,\n",
       " 320: 315,\n",
       " 321: 316,\n",
       " 322: 317,\n",
       " 323: 318,\n",
       " 324: 319,\n",
       " 325: 320,\n",
       " 326: 321,\n",
       " 327: 322,\n",
       " 328: 323,\n",
       " 329: 324,\n",
       " 330: 325,\n",
       " 331: 326,\n",
       " 332: 327,\n",
       " 333: 328,\n",
       " 334: 329,\n",
       " 335: 330,\n",
       " 336: 331,\n",
       " 337: 332,\n",
       " 338: 333,\n",
       " 339: 334,\n",
       " 340: 335,\n",
       " 341: 336,\n",
       " 342: 337,\n",
       " 343: 338,\n",
       " 344: 339,\n",
       " 345: 340,\n",
       " 346: 341,\n",
       " 347: 342,\n",
       " 348: 343,\n",
       " 349: 344,\n",
       " 350: 345,\n",
       " 351: 346,\n",
       " 352: 347,\n",
       " 353: 348,\n",
       " 354: 349,\n",
       " 355: 350,\n",
       " 356: 351,\n",
       " 357: 352,\n",
       " 358: 353,\n",
       " 359: 354,\n",
       " 360: 355,\n",
       " 361: 356,\n",
       " 362: 357,\n",
       " 363: 358,\n",
       " 364: 359,\n",
       " 365: 360,\n",
       " 366: 361,\n",
       " 367: 362,\n",
       " 368: 363,\n",
       " 369: 364,\n",
       " 370: 365,\n",
       " 371: 366,\n",
       " 372: 367,\n",
       " 373: 368,\n",
       " 374: 369,\n",
       " 375: 370,\n",
       " 376: 371,\n",
       " 377: 372,\n",
       " 378: 373,\n",
       " 379: 374,\n",
       " 380: 375,\n",
       " 381: 376,\n",
       " 382: 377,\n",
       " 383: 378,\n",
       " 384: 379,\n",
       " 385: 380,\n",
       " 386: 381,\n",
       " 387: 382,\n",
       " 388: 383,\n",
       " 389: 384,\n",
       " 390: 385,\n",
       " 391: 386,\n",
       " 392: 387,\n",
       " 393: 388,\n",
       " 394: 389,\n",
       " 395: 390,\n",
       " 396: 391,\n",
       " 397: 392,\n",
       " 398: 393,\n",
       " 399: 394,\n",
       " 400: 395,\n",
       " 401: 396,\n",
       " 402: 397,\n",
       " 403: 398,\n",
       " 404: 399,\n",
       " 405: 400,\n",
       " 406: 401,\n",
       " 407: 402,\n",
       " 408: 403,\n",
       " 409: 404,\n",
       " 410: 405,\n",
       " 411: 406,\n",
       " 412: 407,\n",
       " 413: 408,\n",
       " 414: 409,\n",
       " 415: 410,\n",
       " 416: 411,\n",
       " 417: 412,\n",
       " 418: 413,\n",
       " 419: 414,\n",
       " 420: 415,\n",
       " 421: 416,\n",
       " 422: 417,\n",
       " 423: 418,\n",
       " 424: 419,\n",
       " 425: 420,\n",
       " 426: 421,\n",
       " 427: 422,\n",
       " 428: 423,\n",
       " 429: 424,\n",
       " 430: 425,\n",
       " 431: 426,\n",
       " 432: 427,\n",
       " 433: 428,\n",
       " 434: 429,\n",
       " 435: 430,\n",
       " 436: 431,\n",
       " 437: 432,\n",
       " 438: 433,\n",
       " 439: 434,\n",
       " 440: 435,\n",
       " 441: 436,\n",
       " 443: 437,\n",
       " 444: 438,\n",
       " 445: 439,\n",
       " 446: 440,\n",
       " 447: 441,\n",
       " 448: 442,\n",
       " 449: 443,\n",
       " 450: 444,\n",
       " 451: 445,\n",
       " 452: 446,\n",
       " 453: 447,\n",
       " 454: 448,\n",
       " 455: 449,\n",
       " 456: 450,\n",
       " 457: 451,\n",
       " 458: 452,\n",
       " 459: 453,\n",
       " 460: 454,\n",
       " 461: 455,\n",
       " 462: 456,\n",
       " 463: 457,\n",
       " 464: 458,\n",
       " 465: 459,\n",
       " 466: 460,\n",
       " 467: 461,\n",
       " 468: 462,\n",
       " 469: 463,\n",
       " 470: 464,\n",
       " 471: 465,\n",
       " 472: 466,\n",
       " 473: 467,\n",
       " 474: 468,\n",
       " 475: 469,\n",
       " 476: 470,\n",
       " 477: 471,\n",
       " 478: 472,\n",
       " 479: 473,\n",
       " 480: 474,\n",
       " 481: 475,\n",
       " 482: 476,\n",
       " 483: 477,\n",
       " 484: 478,\n",
       " 485: 479,\n",
       " 486: 480,\n",
       " 487: 481,\n",
       " 488: 482,\n",
       " 489: 483,\n",
       " 490: 484,\n",
       " 491: 485,\n",
       " 492: 486,\n",
       " 493: 487,\n",
       " 494: 488,\n",
       " 495: 489,\n",
       " 496: 490,\n",
       " 497: 491,\n",
       " 498: 492,\n",
       " 499: 493,\n",
       " 500: 494,\n",
       " 501: 495,\n",
       " 502: 496,\n",
       " 503: 497,\n",
       " 504: 498,\n",
       " 505: 499,\n",
       " 506: 500,\n",
       " 507: 501,\n",
       " 508: 502,\n",
       " 509: 503,\n",
       " 510: 504,\n",
       " 511: 505,\n",
       " 512: 506,\n",
       " 513: 507,\n",
       " 514: 508,\n",
       " 515: 509,\n",
       " 516: 510,\n",
       " 517: 511,\n",
       " 518: 512,\n",
       " 519: 513,\n",
       " 520: 514,\n",
       " 521: 515,\n",
       " 522: 516,\n",
       " 523: 517,\n",
       " 524: 518,\n",
       " 525: 519,\n",
       " 526: 520,\n",
       " 527: 521,\n",
       " 528: 522,\n",
       " 529: 523,\n",
       " 530: 524,\n",
       " 531: 525,\n",
       " 532: 526,\n",
       " 533: 527,\n",
       " 534: 528,\n",
       " 535: 529,\n",
       " 536: 530,\n",
       " 537: 531,\n",
       " 538: 532,\n",
       " 539: 533,\n",
       " 540: 534,\n",
       " 541: 535,\n",
       " 542: 536,\n",
       " 543: 537,\n",
       " 544: 538,\n",
       " 545: 539,\n",
       " 546: 540,\n",
       " 548: 541,\n",
       " 549: 542,\n",
       " 550: 543,\n",
       " 551: 544,\n",
       " 552: 545,\n",
       " 553: 546,\n",
       " 554: 547,\n",
       " 555: 548,\n",
       " 556: 549,\n",
       " 557: 550,\n",
       " 558: 551,\n",
       " 559: 552,\n",
       " 560: 553,\n",
       " 561: 554,\n",
       " 562: 555,\n",
       " 563: 556,\n",
       " 564: 557,\n",
       " 565: 558,\n",
       " 566: 559,\n",
       " 567: 560,\n",
       " 568: 561,\n",
       " 569: 562,\n",
       " 570: 563,\n",
       " 571: 564,\n",
       " 572: 565,\n",
       " 573: 566,\n",
       " 574: 567,\n",
       " 575: 568,\n",
       " 577: 569,\n",
       " 579: 570,\n",
       " 580: 571,\n",
       " 581: 572,\n",
       " 582: 573,\n",
       " 583: 574,\n",
       " 584: 575,\n",
       " 585: 576,\n",
       " 586: 577,\n",
       " 587: 578,\n",
       " 588: 579,\n",
       " 589: 580,\n",
       " 590: 581,\n",
       " 591: 582,\n",
       " 592: 583,\n",
       " 593: 584,\n",
       " 594: 585,\n",
       " 595: 586,\n",
       " 596: 587,\n",
       " 597: 588,\n",
       " 598: 589,\n",
       " 599: 590,\n",
       " 600: 591,\n",
       " 601: 592,\n",
       " 602: 593,\n",
       " 603: 594,\n",
       " 604: 595,\n",
       " 605: 596,\n",
       " 606: 597,\n",
       " 607: 598,\n",
       " 608: 599,\n",
       " 609: 600,\n",
       " 610: 601}"
      ]
     },
     "execution_count": 49,
     "metadata": {},
     "output_type": "execute_result"
    }
   ],
   "source": [
    "user_to_id"
   ]
  },
  {
   "cell_type": "code",
   "execution_count": 50,
   "metadata": {},
   "outputs": [
    {
     "data": {
      "text/plain": [
       "{0: 1,\n",
       " 1: 2,\n",
       " 2: 3,\n",
       " 3: 4,\n",
       " 4: 5,\n",
       " 5: 6,\n",
       " 6: 7,\n",
       " 7: 8,\n",
       " 8: 9,\n",
       " 9: 10,\n",
       " 10: 11,\n",
       " 11: 12,\n",
       " 12: 13,\n",
       " 13: 14,\n",
       " 14: 15,\n",
       " 15: 16,\n",
       " 16: 17,\n",
       " 17: 18,\n",
       " 18: 19,\n",
       " 19: 20,\n",
       " 20: 21,\n",
       " 21: 22,\n",
       " 22: 23,\n",
       " 23: 24,\n",
       " 24: 25,\n",
       " 25: 26,\n",
       " 26: 27,\n",
       " 27: 28,\n",
       " 28: 29,\n",
       " 29: 30,\n",
       " 30: 31,\n",
       " 31: 32,\n",
       " 32: 33,\n",
       " 33: 34,\n",
       " 34: 35,\n",
       " 35: 36,\n",
       " 36: 37,\n",
       " 37: 38,\n",
       " 38: 39,\n",
       " 39: 40,\n",
       " 40: 41,\n",
       " 41: 42,\n",
       " 42: 43,\n",
       " 43: 44,\n",
       " 44: 45,\n",
       " 45: 46,\n",
       " 46: 47,\n",
       " 47: 48,\n",
       " 48: 49,\n",
       " 49: 50,\n",
       " 50: 51,\n",
       " 51: 52,\n",
       " 52: 54,\n",
       " 53: 55,\n",
       " 54: 56,\n",
       " 55: 57,\n",
       " 56: 58,\n",
       " 57: 59,\n",
       " 58: 60,\n",
       " 59: 61,\n",
       " 60: 62,\n",
       " 61: 63,\n",
       " 62: 64,\n",
       " 63: 65,\n",
       " 64: 66,\n",
       " 65: 67,\n",
       " 66: 68,\n",
       " 67: 69,\n",
       " 68: 70,\n",
       " 69: 71,\n",
       " 70: 72,\n",
       " 71: 73,\n",
       " 72: 74,\n",
       " 73: 75,\n",
       " 74: 76,\n",
       " 75: 77,\n",
       " 76: 78,\n",
       " 77: 79,\n",
       " 78: 80,\n",
       " 79: 81,\n",
       " 80: 82,\n",
       " 81: 83,\n",
       " 82: 84,\n",
       " 83: 85,\n",
       " 84: 86,\n",
       " 85: 87,\n",
       " 86: 88,\n",
       " 87: 89,\n",
       " 88: 90,\n",
       " 89: 91,\n",
       " 90: 92,\n",
       " 91: 93,\n",
       " 92: 94,\n",
       " 93: 95,\n",
       " 94: 96,\n",
       " 95: 97,\n",
       " 96: 98,\n",
       " 97: 99,\n",
       " 98: 100,\n",
       " 99: 101,\n",
       " 100: 102,\n",
       " 101: 103,\n",
       " 102: 104,\n",
       " 103: 105,\n",
       " 104: 106,\n",
       " 105: 107,\n",
       " 106: 108,\n",
       " 107: 109,\n",
       " 108: 110,\n",
       " 109: 111,\n",
       " 110: 112,\n",
       " 111: 113,\n",
       " 112: 114,\n",
       " 113: 115,\n",
       " 114: 116,\n",
       " 115: 117,\n",
       " 116: 118,\n",
       " 117: 119,\n",
       " 118: 120,\n",
       " 119: 121,\n",
       " 120: 122,\n",
       " 121: 123,\n",
       " 122: 124,\n",
       " 123: 125,\n",
       " 124: 126,\n",
       " 125: 127,\n",
       " 126: 128,\n",
       " 127: 129,\n",
       " 128: 130,\n",
       " 129: 131,\n",
       " 130: 132,\n",
       " 131: 133,\n",
       " 132: 134,\n",
       " 133: 135,\n",
       " 134: 136,\n",
       " 135: 137,\n",
       " 136: 138,\n",
       " 137: 139,\n",
       " 138: 140,\n",
       " 139: 141,\n",
       " 140: 142,\n",
       " 141: 143,\n",
       " 142: 144,\n",
       " 143: 145,\n",
       " 144: 146,\n",
       " 145: 147,\n",
       " 146: 148,\n",
       " 147: 149,\n",
       " 148: 150,\n",
       " 149: 151,\n",
       " 150: 152,\n",
       " 151: 153,\n",
       " 152: 154,\n",
       " 153: 155,\n",
       " 154: 156,\n",
       " 155: 157,\n",
       " 156: 159,\n",
       " 157: 160,\n",
       " 158: 161,\n",
       " 159: 162,\n",
       " 160: 163,\n",
       " 161: 164,\n",
       " 162: 165,\n",
       " 163: 166,\n",
       " 164: 167,\n",
       " 165: 168,\n",
       " 166: 169,\n",
       " 167: 170,\n",
       " 168: 171,\n",
       " 169: 172,\n",
       " 170: 173,\n",
       " 171: 174,\n",
       " 172: 176,\n",
       " 173: 177,\n",
       " 174: 178,\n",
       " 175: 179,\n",
       " 176: 180,\n",
       " 177: 181,\n",
       " 178: 182,\n",
       " 179: 183,\n",
       " 180: 184,\n",
       " 181: 185,\n",
       " 182: 186,\n",
       " 183: 187,\n",
       " 184: 188,\n",
       " 185: 189,\n",
       " 186: 190,\n",
       " 187: 191,\n",
       " 188: 192,\n",
       " 189: 193,\n",
       " 190: 194,\n",
       " 191: 195,\n",
       " 192: 196,\n",
       " 193: 197,\n",
       " 194: 198,\n",
       " 195: 199,\n",
       " 196: 200,\n",
       " 197: 201,\n",
       " 198: 202,\n",
       " 199: 203,\n",
       " 200: 204,\n",
       " 201: 205,\n",
       " 202: 206,\n",
       " 203: 208,\n",
       " 204: 209,\n",
       " 205: 210,\n",
       " 206: 211,\n",
       " 207: 212,\n",
       " 208: 213,\n",
       " 209: 214,\n",
       " 210: 215,\n",
       " 211: 216,\n",
       " 212: 217,\n",
       " 213: 218,\n",
       " 214: 219,\n",
       " 215: 220,\n",
       " 216: 221,\n",
       " 217: 222,\n",
       " 218: 223,\n",
       " 219: 224,\n",
       " 220: 225,\n",
       " 221: 226,\n",
       " 222: 227,\n",
       " 223: 228,\n",
       " 224: 229,\n",
       " 225: 230,\n",
       " 226: 231,\n",
       " 227: 232,\n",
       " 228: 233,\n",
       " 229: 234,\n",
       " 230: 235,\n",
       " 231: 236,\n",
       " 232: 237,\n",
       " 233: 238,\n",
       " 234: 239,\n",
       " 235: 240,\n",
       " 236: 241,\n",
       " 237: 242,\n",
       " 238: 243,\n",
       " 239: 244,\n",
       " 240: 245,\n",
       " 241: 246,\n",
       " 242: 247,\n",
       " 243: 248,\n",
       " 244: 249,\n",
       " 245: 250,\n",
       " 246: 251,\n",
       " 247: 252,\n",
       " 248: 253,\n",
       " 249: 254,\n",
       " 250: 255,\n",
       " 251: 256,\n",
       " 252: 257,\n",
       " 253: 258,\n",
       " 254: 259,\n",
       " 255: 260,\n",
       " 256: 261,\n",
       " 257: 262,\n",
       " 258: 263,\n",
       " 259: 264,\n",
       " 260: 265,\n",
       " 261: 266,\n",
       " 262: 267,\n",
       " 263: 268,\n",
       " 264: 269,\n",
       " 265: 270,\n",
       " 266: 271,\n",
       " 267: 272,\n",
       " 268: 273,\n",
       " 269: 274,\n",
       " 270: 275,\n",
       " 271: 276,\n",
       " 272: 277,\n",
       " 273: 278,\n",
       " 274: 279,\n",
       " 275: 280,\n",
       " 276: 281,\n",
       " 277: 282,\n",
       " 278: 283,\n",
       " 279: 284,\n",
       " 280: 285,\n",
       " 281: 286,\n",
       " 282: 287,\n",
       " 283: 288,\n",
       " 284: 289,\n",
       " 285: 290,\n",
       " 286: 291,\n",
       " 287: 292,\n",
       " 288: 293,\n",
       " 289: 294,\n",
       " 290: 295,\n",
       " 291: 296,\n",
       " 292: 297,\n",
       " 293: 298,\n",
       " 294: 299,\n",
       " 295: 300,\n",
       " 296: 301,\n",
       " 297: 302,\n",
       " 298: 303,\n",
       " 299: 304,\n",
       " 300: 305,\n",
       " 301: 306,\n",
       " 302: 307,\n",
       " 303: 308,\n",
       " 304: 309,\n",
       " 305: 310,\n",
       " 306: 311,\n",
       " 307: 312,\n",
       " 308: 313,\n",
       " 309: 314,\n",
       " 310: 315,\n",
       " 311: 316,\n",
       " 312: 317,\n",
       " 313: 318,\n",
       " 314: 319,\n",
       " 315: 320,\n",
       " 316: 321,\n",
       " 317: 322,\n",
       " 318: 323,\n",
       " 319: 324,\n",
       " 320: 325,\n",
       " 321: 326,\n",
       " 322: 327,\n",
       " 323: 328,\n",
       " 324: 329,\n",
       " 325: 330,\n",
       " 326: 331,\n",
       " 327: 332,\n",
       " 328: 333,\n",
       " 329: 334,\n",
       " 330: 335,\n",
       " 331: 336,\n",
       " 332: 337,\n",
       " 333: 338,\n",
       " 334: 339,\n",
       " 335: 340,\n",
       " 336: 341,\n",
       " 337: 342,\n",
       " 338: 343,\n",
       " 339: 344,\n",
       " 340: 345,\n",
       " 341: 346,\n",
       " 342: 347,\n",
       " 343: 348,\n",
       " 344: 349,\n",
       " 345: 350,\n",
       " 346: 351,\n",
       " 347: 352,\n",
       " 348: 353,\n",
       " 349: 354,\n",
       " 350: 355,\n",
       " 351: 356,\n",
       " 352: 357,\n",
       " 353: 358,\n",
       " 354: 359,\n",
       " 355: 360,\n",
       " 356: 361,\n",
       " 357: 362,\n",
       " 358: 363,\n",
       " 359: 364,\n",
       " 360: 365,\n",
       " 361: 366,\n",
       " 362: 367,\n",
       " 363: 368,\n",
       " 364: 369,\n",
       " 365: 370,\n",
       " 366: 371,\n",
       " 367: 372,\n",
       " 368: 373,\n",
       " 369: 374,\n",
       " 370: 375,\n",
       " 371: 376,\n",
       " 372: 377,\n",
       " 373: 378,\n",
       " 374: 379,\n",
       " 375: 380,\n",
       " 376: 381,\n",
       " 377: 382,\n",
       " 378: 383,\n",
       " 379: 384,\n",
       " 380: 385,\n",
       " 381: 386,\n",
       " 382: 387,\n",
       " 383: 388,\n",
       " 384: 389,\n",
       " 385: 390,\n",
       " 386: 391,\n",
       " 387: 392,\n",
       " 388: 393,\n",
       " 389: 394,\n",
       " 390: 395,\n",
       " 391: 396,\n",
       " 392: 397,\n",
       " 393: 398,\n",
       " 394: 399,\n",
       " 395: 400,\n",
       " 396: 401,\n",
       " 397: 402,\n",
       " 398: 403,\n",
       " 399: 404,\n",
       " 400: 405,\n",
       " 401: 406,\n",
       " 402: 407,\n",
       " 403: 408,\n",
       " 404: 409,\n",
       " 405: 410,\n",
       " 406: 411,\n",
       " 407: 412,\n",
       " 408: 413,\n",
       " 409: 414,\n",
       " 410: 415,\n",
       " 411: 416,\n",
       " 412: 417,\n",
       " 413: 418,\n",
       " 414: 419,\n",
       " 415: 420,\n",
       " 416: 421,\n",
       " 417: 422,\n",
       " 418: 423,\n",
       " 419: 424,\n",
       " 420: 425,\n",
       " 421: 426,\n",
       " 422: 427,\n",
       " 423: 428,\n",
       " 424: 429,\n",
       " 425: 430,\n",
       " 426: 431,\n",
       " 427: 432,\n",
       " 428: 433,\n",
       " 429: 434,\n",
       " 430: 435,\n",
       " 431: 436,\n",
       " 432: 437,\n",
       " 433: 438,\n",
       " 434: 439,\n",
       " 435: 440,\n",
       " 436: 441,\n",
       " 437: 443,\n",
       " 438: 444,\n",
       " 439: 445,\n",
       " 440: 446,\n",
       " 441: 447,\n",
       " 442: 448,\n",
       " 443: 449,\n",
       " 444: 450,\n",
       " 445: 451,\n",
       " 446: 452,\n",
       " 447: 453,\n",
       " 448: 454,\n",
       " 449: 455,\n",
       " 450: 456,\n",
       " 451: 457,\n",
       " 452: 458,\n",
       " 453: 459,\n",
       " 454: 460,\n",
       " 455: 461,\n",
       " 456: 462,\n",
       " 457: 463,\n",
       " 458: 464,\n",
       " 459: 465,\n",
       " 460: 466,\n",
       " 461: 467,\n",
       " 462: 468,\n",
       " 463: 469,\n",
       " 464: 470,\n",
       " 465: 471,\n",
       " 466: 472,\n",
       " 467: 473,\n",
       " 468: 474,\n",
       " 469: 475,\n",
       " 470: 476,\n",
       " 471: 477,\n",
       " 472: 478,\n",
       " 473: 479,\n",
       " 474: 480,\n",
       " 475: 481,\n",
       " 476: 482,\n",
       " 477: 483,\n",
       " 478: 484,\n",
       " 479: 485,\n",
       " 480: 486,\n",
       " 481: 487,\n",
       " 482: 488,\n",
       " 483: 489,\n",
       " 484: 490,\n",
       " 485: 491,\n",
       " 486: 492,\n",
       " 487: 493,\n",
       " 488: 494,\n",
       " 489: 495,\n",
       " 490: 496,\n",
       " 491: 497,\n",
       " 492: 498,\n",
       " 493: 499,\n",
       " 494: 500,\n",
       " 495: 501,\n",
       " 496: 502,\n",
       " 497: 503,\n",
       " 498: 504,\n",
       " 499: 505,\n",
       " 500: 506,\n",
       " 501: 507,\n",
       " 502: 508,\n",
       " 503: 509,\n",
       " 504: 510,\n",
       " 505: 511,\n",
       " 506: 512,\n",
       " 507: 513,\n",
       " 508: 514,\n",
       " 509: 515,\n",
       " 510: 516,\n",
       " 511: 517,\n",
       " 512: 518,\n",
       " 513: 519,\n",
       " 514: 520,\n",
       " 515: 521,\n",
       " 516: 522,\n",
       " 517: 523,\n",
       " 518: 524,\n",
       " 519: 525,\n",
       " 520: 526,\n",
       " 521: 527,\n",
       " 522: 528,\n",
       " 523: 529,\n",
       " 524: 530,\n",
       " 525: 531,\n",
       " 526: 532,\n",
       " 527: 533,\n",
       " 528: 534,\n",
       " 529: 535,\n",
       " 530: 536,\n",
       " 531: 537,\n",
       " 532: 538,\n",
       " 533: 539,\n",
       " 534: 540,\n",
       " 535: 541,\n",
       " 536: 542,\n",
       " 537: 543,\n",
       " 538: 544,\n",
       " 539: 545,\n",
       " 540: 546,\n",
       " 541: 548,\n",
       " 542: 549,\n",
       " 543: 550,\n",
       " 544: 551,\n",
       " 545: 552,\n",
       " 546: 553,\n",
       " 547: 554,\n",
       " 548: 555,\n",
       " 549: 556,\n",
       " 550: 557,\n",
       " 551: 558,\n",
       " 552: 559,\n",
       " 553: 560,\n",
       " 554: 561,\n",
       " 555: 562,\n",
       " 556: 563,\n",
       " 557: 564,\n",
       " 558: 565,\n",
       " 559: 566,\n",
       " 560: 567,\n",
       " 561: 568,\n",
       " 562: 569,\n",
       " 563: 570,\n",
       " 564: 571,\n",
       " 565: 572,\n",
       " 566: 573,\n",
       " 567: 574,\n",
       " 568: 575,\n",
       " 569: 577,\n",
       " 570: 579,\n",
       " 571: 580,\n",
       " 572: 581,\n",
       " 573: 582,\n",
       " 574: 583,\n",
       " 575: 584,\n",
       " 576: 585,\n",
       " 577: 586,\n",
       " 578: 587,\n",
       " 579: 588,\n",
       " 580: 589,\n",
       " 581: 590,\n",
       " 582: 591,\n",
       " 583: 592,\n",
       " 584: 593,\n",
       " 585: 594,\n",
       " 586: 595,\n",
       " 587: 596,\n",
       " 588: 597,\n",
       " 589: 598,\n",
       " 590: 599,\n",
       " 591: 600,\n",
       " 592: 601,\n",
       " 593: 602,\n",
       " 594: 603,\n",
       " 595: 604,\n",
       " 596: 605,\n",
       " 597: 606,\n",
       " 598: 607,\n",
       " 599: 608,\n",
       " 600: 609,\n",
       " 601: 610}"
      ]
     },
     "execution_count": 50,
     "metadata": {},
     "output_type": "execute_result"
    }
   ],
   "source": [
    "id_to_user"
   ]
  },
  {
   "cell_type": "code",
   "execution_count": 51,
   "metadata": {},
   "outputs": [],
   "source": [
    "# mapping movieId into ordered id\n",
    "movie_to_id = {movie : idx for idx,movie in enumerate(rating_data['movieId'].unique())}\n",
    "\n",
    "# mapping ordered id back into movieId\n",
    "id_to_movie = {idx : movie for idx,movie in enumerate(rating_data['movieId'].unique())}"
   ]
  },
  {
   "cell_type": "code",
   "execution_count": 52,
   "metadata": {},
   "outputs": [
    {
     "data": {
      "text/plain": [
       "{1: 0,\n",
       " 3: 1,\n",
       " 6: 2,\n",
       " 47: 3,\n",
       " 70: 4,\n",
       " 110: 5,\n",
       " 235: 6,\n",
       " 260: 7,\n",
       " 296: 8,\n",
       " 316: 9,\n",
       " 333: 10,\n",
       " 349: 11,\n",
       " 356: 12,\n",
       " 480: 13,\n",
       " 527: 14,\n",
       " 590: 15,\n",
       " 592: 16,\n",
       " 593: 17,\n",
       " 608: 18,\n",
       " 736: 19,\n",
       " 780: 20,\n",
       " 1060: 21,\n",
       " 1073: 22,\n",
       " 1080: 23,\n",
       " 1097: 24,\n",
       " 1136: 25,\n",
       " 1196: 26,\n",
       " 1198: 27,\n",
       " 1210: 28,\n",
       " 1214: 29,\n",
       " 1220: 30,\n",
       " 1240: 31,\n",
       " 1270: 32,\n",
       " 1278: 33,\n",
       " 1377: 34,\n",
       " 1573: 35,\n",
       " 1617: 36,\n",
       " 1777: 37,\n",
       " 1967: 38,\n",
       " 2005: 39,\n",
       " 2028: 40,\n",
       " 2078: 41,\n",
       " 2105: 42,\n",
       " 2115: 43,\n",
       " 2268: 44,\n",
       " 2395: 45,\n",
       " 2406: 46,\n",
       " 2529: 47,\n",
       " 2571: 48,\n",
       " 2628: 49,\n",
       " 2640: 50,\n",
       " 2657: 51,\n",
       " 2959: 52,\n",
       " 3147: 53,\n",
       " 3253: 54,\n",
       " 3578: 55,\n",
       " 3671: 56,\n",
       " 318: 57,\n",
       " 1704: 58,\n",
       " 6874: 59,\n",
       " 71535: 60,\n",
       " 91529: 61,\n",
       " 109487: 62,\n",
       " 914: 63,\n",
       " 3949: 64,\n",
       " 32: 65,\n",
       " 345: 66,\n",
       " 492: 67,\n",
       " 588: 68,\n",
       " 904: 69,\n",
       " 908: 70,\n",
       " 1203: 71,\n",
       " 1225: 72,\n",
       " 1250: 73,\n",
       " 1259: 74,\n",
       " 1266: 75,\n",
       " 1923: 76,\n",
       " 2683: 77,\n",
       " 2762: 78,\n",
       " 2770: 79,\n",
       " 2791: 80,\n",
       " 3160: 81,\n",
       " 3897: 82,\n",
       " 3996: 83,\n",
       " 4034: 84,\n",
       " 4226: 85,\n",
       " 4896: 86,\n",
       " 34: 87,\n",
       " 39: 88,\n",
       " 150: 89,\n",
       " 153: 90,\n",
       " 300: 91,\n",
       " 364: 92,\n",
       " 380: 93,\n",
       " 410: 94,\n",
       " 589: 95,\n",
       " 597: 96,\n",
       " 104: 97,\n",
       " 165: 98,\n",
       " 185: 99,\n",
       " 186: 100,\n",
       " 252: 101,\n",
       " 292: 102,\n",
       " 329: 103,\n",
       " 343: 104,\n",
       " 353: 105,\n",
       " 434: 106,\n",
       " 435: 107,\n",
       " 454: 108,\n",
       " 455: 109,\n",
       " 466: 110,\n",
       " 520: 111,\n",
       " 587: 112,\n",
       " 631: 113,\n",
       " 852: 114,\n",
       " 750: 115,\n",
       " 924: 116,\n",
       " 1246: 117,\n",
       " 1584: 118,\n",
       " 1682: 119,\n",
       " 1784: 120,\n",
       " 2671: 121,\n",
       " 3114: 122,\n",
       " 3623: 123,\n",
       " 3916: 124,\n",
       " 3977: 125,\n",
       " 4306: 126,\n",
       " 4963: 127,\n",
       " 4995: 128,\n",
       " 5349: 129,\n",
       " 5378: 130,\n",
       " 5445: 131,\n",
       " 6365: 132,\n",
       " 6539: 133,\n",
       " 7153: 134,\n",
       " 8783: 135,\n",
       " 30816: 136,\n",
       " 32587: 137,\n",
       " 33493: 138,\n",
       " 33836: 139,\n",
       " 34048: 140,\n",
       " 45517: 141,\n",
       " 46530: 142,\n",
       " 586: 143,\n",
       " 5481: 144,\n",
       " 1028: 145,\n",
       " 1247: 146,\n",
       " 1307: 147,\n",
       " 4447: 148,\n",
       " 7458: 149,\n",
       " 54286: 150,\n",
       " 56367: 151,\n",
       " 106696: 152,\n",
       " 1586: 153,\n",
       " 1608: 154,\n",
       " 1405: 155,\n",
       " 3624: 156,\n",
       " 858: 157,\n",
       " 1527: 158,\n",
       " 1909: 159,\n",
       " 2081: 160,\n",
       " 3499: 161,\n",
       " 7438: 162,\n",
       " 50872: 163,\n",
       " 56174: 164,\n",
       " 152081: 165,\n",
       " 1230: 166,\n",
       " 4973: 167,\n",
       " 7361: 168,\n",
       " 1036: 169,\n",
       " 442: 170,\n",
       " 1245: 171,\n",
       " 1356: 172,\n",
       " 1961: 173,\n",
       " 5418: 174,\n",
       " 5903: 175,\n",
       " 6373: 176,\n",
       " 33004: 177,\n",
       " 38061: 178,\n",
       " 44191: 179,\n",
       " 44199: 180,\n",
       " 51540: 181,\n",
       " 54272: 182,\n",
       " 59784: 183,\n",
       " 60684: 184,\n",
       " 76077: 185,\n",
       " 103253: 186,\n",
       " 111362: 187,\n",
       " 160438: 188,\n",
       " 48: 189,\n",
       " 1021: 190,\n",
       " 1269: 191,\n",
       " 1333: 192,\n",
       " 1359: 193,\n",
       " 1690: 194,\n",
       " 1722: 195,\n",
       " 2003: 196,\n",
       " 2248: 197,\n",
       " 2294: 198,\n",
       " 2302: 199,\n",
       " 2321: 200,\n",
       " 2355: 201,\n",
       " 2371: 202,\n",
       " 2394: 203,\n",
       " 2396: 204,\n",
       " 2642: 205,\n",
       " 2804: 206,\n",
       " 3534: 207,\n",
       " 3825: 208,\n",
       " 3826: 209,\n",
       " 2006: 210,\n",
       " 3157: 211,\n",
       " 4369: 212,\n",
       " 4979: 213,\n",
       " 5254: 214,\n",
       " 3633: 215,\n",
       " 3638: 216,\n",
       " 41566: 217,\n",
       " 91630: 218,\n",
       " 108190: 219,\n",
       " 2160: 220,\n",
       " 61323: 221,\n",
       " 3256: 222,\n",
       " 33166: 223,\n",
       " 44195: 224,\n",
       " 48738: 225,\n",
       " 953: 226,\n",
       " 1204: 227,\n",
       " 1393: 228,\n",
       " 786: 229,\n",
       " 4890: 230,\n",
       " 227: 231,\n",
       " 433: 232,\n",
       " 1726: 233,\n",
       " 3987: 234,\n",
       " 737: 235,\n",
       " 69: 236,\n",
       " 3268: 237,\n",
       " 781: 238,\n",
       " 6541: 239,\n",
       " 5026: 240,\n",
       " 34072: 241,\n",
       " 2567: 242,\n",
       " 26712: 243,\n",
       " 1483: 244,\n",
       " 2126: 245,\n",
       " 7981: 246,\n",
       " 53161: 247}"
      ]
     },
     "execution_count": 52,
     "metadata": {},
     "output_type": "execute_result"
    }
   ],
   "source": [
    "movie_to_id"
   ]
  },
  {
   "cell_type": "code",
   "execution_count": 53,
   "metadata": {},
   "outputs": [
    {
     "data": {
      "text/plain": [
       "{0: 1,\n",
       " 1: 3,\n",
       " 2: 6,\n",
       " 3: 47,\n",
       " 4: 70,\n",
       " 5: 110,\n",
       " 6: 235,\n",
       " 7: 260,\n",
       " 8: 296,\n",
       " 9: 316,\n",
       " 10: 333,\n",
       " 11: 349,\n",
       " 12: 356,\n",
       " 13: 480,\n",
       " 14: 527,\n",
       " 15: 590,\n",
       " 16: 592,\n",
       " 17: 593,\n",
       " 18: 608,\n",
       " 19: 736,\n",
       " 20: 780,\n",
       " 21: 1060,\n",
       " 22: 1073,\n",
       " 23: 1080,\n",
       " 24: 1097,\n",
       " 25: 1136,\n",
       " 26: 1196,\n",
       " 27: 1198,\n",
       " 28: 1210,\n",
       " 29: 1214,\n",
       " 30: 1220,\n",
       " 31: 1240,\n",
       " 32: 1270,\n",
       " 33: 1278,\n",
       " 34: 1377,\n",
       " 35: 1573,\n",
       " 36: 1617,\n",
       " 37: 1777,\n",
       " 38: 1967,\n",
       " 39: 2005,\n",
       " 40: 2028,\n",
       " 41: 2078,\n",
       " 42: 2105,\n",
       " 43: 2115,\n",
       " 44: 2268,\n",
       " 45: 2395,\n",
       " 46: 2406,\n",
       " 47: 2529,\n",
       " 48: 2571,\n",
       " 49: 2628,\n",
       " 50: 2640,\n",
       " 51: 2657,\n",
       " 52: 2959,\n",
       " 53: 3147,\n",
       " 54: 3253,\n",
       " 55: 3578,\n",
       " 56: 3671,\n",
       " 57: 318,\n",
       " 58: 1704,\n",
       " 59: 6874,\n",
       " 60: 71535,\n",
       " 61: 91529,\n",
       " 62: 109487,\n",
       " 63: 914,\n",
       " 64: 3949,\n",
       " 65: 32,\n",
       " 66: 345,\n",
       " 67: 492,\n",
       " 68: 588,\n",
       " 69: 904,\n",
       " 70: 908,\n",
       " 71: 1203,\n",
       " 72: 1225,\n",
       " 73: 1250,\n",
       " 74: 1259,\n",
       " 75: 1266,\n",
       " 76: 1923,\n",
       " 77: 2683,\n",
       " 78: 2762,\n",
       " 79: 2770,\n",
       " 80: 2791,\n",
       " 81: 3160,\n",
       " 82: 3897,\n",
       " 83: 3996,\n",
       " 84: 4034,\n",
       " 85: 4226,\n",
       " 86: 4896,\n",
       " 87: 34,\n",
       " 88: 39,\n",
       " 89: 150,\n",
       " 90: 153,\n",
       " 91: 300,\n",
       " 92: 364,\n",
       " 93: 380,\n",
       " 94: 410,\n",
       " 95: 589,\n",
       " 96: 597,\n",
       " 97: 104,\n",
       " 98: 165,\n",
       " 99: 185,\n",
       " 100: 186,\n",
       " 101: 252,\n",
       " 102: 292,\n",
       " 103: 329,\n",
       " 104: 343,\n",
       " 105: 353,\n",
       " 106: 434,\n",
       " 107: 435,\n",
       " 108: 454,\n",
       " 109: 455,\n",
       " 110: 466,\n",
       " 111: 520,\n",
       " 112: 587,\n",
       " 113: 631,\n",
       " 114: 852,\n",
       " 115: 750,\n",
       " 116: 924,\n",
       " 117: 1246,\n",
       " 118: 1584,\n",
       " 119: 1682,\n",
       " 120: 1784,\n",
       " 121: 2671,\n",
       " 122: 3114,\n",
       " 123: 3623,\n",
       " 124: 3916,\n",
       " 125: 3977,\n",
       " 126: 4306,\n",
       " 127: 4963,\n",
       " 128: 4995,\n",
       " 129: 5349,\n",
       " 130: 5378,\n",
       " 131: 5445,\n",
       " 132: 6365,\n",
       " 133: 6539,\n",
       " 134: 7153,\n",
       " 135: 8783,\n",
       " 136: 30816,\n",
       " 137: 32587,\n",
       " 138: 33493,\n",
       " 139: 33836,\n",
       " 140: 34048,\n",
       " 141: 45517,\n",
       " 142: 46530,\n",
       " 143: 586,\n",
       " 144: 5481,\n",
       " 145: 1028,\n",
       " 146: 1247,\n",
       " 147: 1307,\n",
       " 148: 4447,\n",
       " 149: 7458,\n",
       " 150: 54286,\n",
       " 151: 56367,\n",
       " 152: 106696,\n",
       " 153: 1586,\n",
       " 154: 1608,\n",
       " 155: 1405,\n",
       " 156: 3624,\n",
       " 157: 858,\n",
       " 158: 1527,\n",
       " 159: 1909,\n",
       " 160: 2081,\n",
       " 161: 3499,\n",
       " 162: 7438,\n",
       " 163: 50872,\n",
       " 164: 56174,\n",
       " 165: 152081,\n",
       " 166: 1230,\n",
       " 167: 4973,\n",
       " 168: 7361,\n",
       " 169: 1036,\n",
       " 170: 442,\n",
       " 171: 1245,\n",
       " 172: 1356,\n",
       " 173: 1961,\n",
       " 174: 5418,\n",
       " 175: 5903,\n",
       " 176: 6373,\n",
       " 177: 33004,\n",
       " 178: 38061,\n",
       " 179: 44191,\n",
       " 180: 44199,\n",
       " 181: 51540,\n",
       " 182: 54272,\n",
       " 183: 59784,\n",
       " 184: 60684,\n",
       " 185: 76077,\n",
       " 186: 103253,\n",
       " 187: 111362,\n",
       " 188: 160438,\n",
       " 189: 48,\n",
       " 190: 1021,\n",
       " 191: 1269,\n",
       " 192: 1333,\n",
       " 193: 1359,\n",
       " 194: 1690,\n",
       " 195: 1722,\n",
       " 196: 2003,\n",
       " 197: 2248,\n",
       " 198: 2294,\n",
       " 199: 2302,\n",
       " 200: 2321,\n",
       " 201: 2355,\n",
       " 202: 2371,\n",
       " 203: 2394,\n",
       " 204: 2396,\n",
       " 205: 2642,\n",
       " 206: 2804,\n",
       " 207: 3534,\n",
       " 208: 3825,\n",
       " 209: 3826,\n",
       " 210: 2006,\n",
       " 211: 3157,\n",
       " 212: 4369,\n",
       " 213: 4979,\n",
       " 214: 5254,\n",
       " 215: 3633,\n",
       " 216: 3638,\n",
       " 217: 41566,\n",
       " 218: 91630,\n",
       " 219: 108190,\n",
       " 220: 2160,\n",
       " 221: 61323,\n",
       " 222: 3256,\n",
       " 223: 33166,\n",
       " 224: 44195,\n",
       " 225: 48738,\n",
       " 226: 953,\n",
       " 227: 1204,\n",
       " 228: 1393,\n",
       " 229: 786,\n",
       " 230: 4890,\n",
       " 231: 227,\n",
       " 232: 433,\n",
       " 233: 1726,\n",
       " 234: 3987,\n",
       " 235: 737,\n",
       " 236: 69,\n",
       " 237: 3268,\n",
       " 238: 781,\n",
       " 239: 6541,\n",
       " 240: 5026,\n",
       " 241: 34072,\n",
       " 242: 2567,\n",
       " 243: 26712,\n",
       " 244: 1483,\n",
       " 245: 2126,\n",
       " 246: 7981,\n",
       " 247: 53161}"
      ]
     },
     "execution_count": 53,
     "metadata": {},
     "output_type": "execute_result"
    }
   ],
   "source": [
    "id_to_movie"
   ]
  },
  {
   "cell_type": "code",
   "execution_count": 54,
   "metadata": {},
   "outputs": [],
   "source": [
    "# convert dataframe to matrix\n",
    "rating_matrix = rating_data.to_numpy()"
   ]
  },
  {
   "cell_type": "code",
   "execution_count": 55,
   "metadata": {},
   "outputs": [
    {
     "data": {
      "text/plain": [
       "array([[1.00000e+00, 1.00000e+00, 4.00000e+00],\n",
       "       [1.00000e+00, 3.00000e+00, 4.00000e+00],\n",
       "       [1.00000e+00, 6.00000e+00, 4.00000e+00],\n",
       "       ...,\n",
       "       [6.10000e+02, 1.09487e+05, 3.50000e+00],\n",
       "       [6.10000e+02, 1.11362e+05, 4.00000e+00],\n",
       "       [6.10000e+02, 1.52081e+05, 4.00000e+00]])"
      ]
     },
     "execution_count": 55,
     "metadata": {},
     "output_type": "execute_result"
    }
   ],
   "source": [
    "rating_matrix"
   ]
  },
  {
   "cell_type": "code",
   "execution_count": 56,
   "metadata": {},
   "outputs": [
    {
     "name": "stdout",
     "output_type": "stream",
     "text": [
      "Rating matrix shape (20760, 3)\n"
     ]
    }
   ],
   "source": [
    "# check shape\n",
    "print('Rating matrix shape',rating_matrix.shape)"
   ]
  },
  {
   "cell_type": "code",
   "execution_count": 57,
   "metadata": {},
   "outputs": [
    {
     "data": {
      "text/html": [
       "<div>\n",
       "<style scoped>\n",
       "    .dataframe tbody tr th:only-of-type {\n",
       "        vertical-align: middle;\n",
       "    }\n",
       "\n",
       "    .dataframe tbody tr th {\n",
       "        vertical-align: top;\n",
       "    }\n",
       "\n",
       "    .dataframe thead th {\n",
       "        text-align: right;\n",
       "    }\n",
       "</style>\n",
       "<table border=\"1\" class=\"dataframe\">\n",
       "  <thead>\n",
       "    <tr style=\"text-align: right;\">\n",
       "      <th></th>\n",
       "      <th>userId</th>\n",
       "      <th>movieId</th>\n",
       "      <th>rating</th>\n",
       "    </tr>\n",
       "  </thead>\n",
       "  <tbody>\n",
       "    <tr>\n",
       "      <th>0</th>\n",
       "      <td>1</td>\n",
       "      <td>1</td>\n",
       "      <td>4.0</td>\n",
       "    </tr>\n",
       "  </tbody>\n",
       "</table>\n",
       "</div>"
      ],
      "text/plain": [
       "   userId  movieId  rating\n",
       "0       1        1     4.0"
      ]
     },
     "execution_count": 57,
     "metadata": {},
     "output_type": "execute_result"
    }
   ],
   "source": [
    "# compare 1st data in dataframe and array\n",
    "# dataframe\n",
    "rating_data.loc[[0],:]"
   ]
  },
  {
   "cell_type": "code",
   "execution_count": 58,
   "metadata": {},
   "outputs": [
    {
     "data": {
      "text/plain": [
       "array([1., 1., 4.])"
      ]
     },
     "execution_count": 58,
     "metadata": {},
     "output_type": "execute_result"
    }
   ],
   "source": [
    "# array\n",
    "rating_matrix[0,:]"
   ]
  },
  {
   "cell_type": "markdown",
   "metadata": {},
   "source": [
    "It has the same value."
   ]
  },
  {
   "cell_type": "markdown",
   "metadata": {},
   "source": [
    "#### Objective\n",
    "\n"
   ]
  },
  {
   "cell_type": "markdown",
   "metadata": {},
   "source": [
    "$$\\text{Objective}= \\underset{}{\\min}\n",
    "\\left [\n",
    "\\sum_{u \\in U} \\sum_{i \\in I} (r_{ui}-\\hat{r_{ui}})^2\n",
    "\\right ]\n",
    "$$\n",
    "\n",
    "Our main goal is to minimize prediction error, between true rating - predicted rating\n"
   ]
  },
  {
   "cell_type": "markdown",
   "metadata": {},
   "source": [
    "$$\\text{Objective}= \\underset{}{\\min}\n",
    "\\left [\n",
    "\\sum_{u \\in U} \\sum_{i \\in I} (r_{ui}-(p_u .q_i^T)^2\n",
    "\\right ]\n",
    "$$\n",
    "\n"
   ]
  },
  {
   "cell_type": "markdown",
   "metadata": {},
   "source": [
    "Adding Bias factor such as :\n",
    "- Global Mean\n",
    "- User Bias\n",
    "- Item Bias"
   ]
  },
  {
   "cell_type": "markdown",
   "metadata": {},
   "source": [
    "$$\\text{Objective}= \\underset{b_u,b_i,p_u,q_i}{\\min}\n",
    "\\left [\n",
    "\\sum_{u \\in U} \\sum_{i \\in I} (r_{ui}- (\\mu + b_u + b_i + (p_u . q_i^T) ) )^2\n",
    "\\right ]\n",
    "$$\n",
    "\n",
    "\n"
   ]
  },
  {
   "cell_type": "markdown",
   "metadata": {},
   "source": [
    "Adding Regularization\n",
    "\n",
    "the purpose of adding regularization is to make our model can avoid overfitting due to small portion of utility matrix that has known values."
   ]
  },
  {
   "cell_type": "markdown",
   "metadata": {},
   "source": [
    "**Final Objective Function**\n",
    "\n",
    "\n",
    "\n",
    "$$\\text{Objective}= \\underset{b_u,b_i,p_u,q_i}{\\min}\n",
    "\\left [\n",
    "\\sum_{u \\in U} \\sum_{i \\in I} (r_{ui}- \\hat{r_{ui}} )^2\n",
    "\\right ] + \\left [\\sum_{u \\in U} \\sum_{i \\in I}  \\lambda(b_u^2+b_i^2+||p_u||^2 + ||q_i||^2)\n",
    "\\right ]\n",
    "$$"
   ]
  },
  {
   "cell_type": "markdown",
   "metadata": {},
   "source": [
    "But sometimes, to make derivation more simple, usually it add $ 1/2$ term"
   ]
  },
  {
   "cell_type": "markdown",
   "metadata": {},
   "source": [
    "$$\\text{Objective}= \\underset{b_u,b_i,p_u,q_i}{\\min}\n",
    "\\left [\n",
    "\\sum_{u \\in U} \\sum_{i \\in I} \\cfrac{1}{2} (r_{ui}- \\hat{r_{ui}} )^2\n",
    "\\right ] + \\left [\\sum_{u \\in U} \\sum_{i \\in I}  \\cfrac{1}{2}\\lambda(b_u^2+b_i^2+||p_u||^2 + ||q_i||^2)\n",
    "\\right ]\n",
    "$$\n",
    "with :    \n",
    "1. $\\hat{r_{ui}} = \\mu + b_u + b_i + (p_u . q_i^T) $\n",
    "\n"
   ]
  },
  {
   "cell_type": "markdown",
   "metadata": {},
   "source": [
    "#### Initialization"
   ]
  },
  {
   "cell_type": "markdown",
   "metadata": {},
   "source": [
    "Through our objective we can identify what parameter we are going to optimized :    \n",
    "- $b_u$ : bias user size `<n_users,>` vector\n",
    "- $b_i$ : bias item size `<nn_items,>` vector\n",
    "- $p_u$ : user factor size `<n_users,n_factor>` matrix\n",
    "- $q_i$ : item factor size `<n_items,n_factor>` matrix"
   ]
  },
  {
   "cell_type": "markdown",
   "metadata": {},
   "source": [
    "However to optimize the parameter we have to set up the initial value first, we can initialize using numpy, we will generate / draw from Random Variable from Standard Normal distribution\n",
    "\n",
    "$$X \\sim \\mathcal{N}(\\mu,\\,\\sigma^{2})$$\n",
    "\n",
    "with :     \n",
    "- $\\mu$ = 0\n",
    "- $\\sigma^{2}$ = 1\n",
    "\n",
    "\n",
    "$$X \\sim \\mathcal{N}(0,1)$$"
   ]
  },
  {
   "cell_type": "code",
   "execution_count": 63,
   "metadata": {},
   "outputs": [
    {
     "name": "stdout",
     "output_type": "stream",
     "text": [
      "N users 602 & items 248\n"
     ]
    }
   ],
   "source": [
    "# identify number of user and item\n",
    "n_users = rating_data.userId.nunique()\n",
    "n_items = rating_data.movieId.nunique()\n",
    "\n",
    "# print number of users and items\n",
    "print(f'N users {n_users} & items {n_items}')"
   ]
  },
  {
   "cell_type": "code",
   "execution_count": 64,
   "metadata": {},
   "outputs": [],
   "source": [
    "# setting number of n_factor to use\n",
    "n_factors = 50"
   ]
  },
  {
   "cell_type": "markdown",
   "metadata": {},
   "source": [
    "we can generate user factor ($p_u$) and item factor ($q_i$) using `numpy.random.normal`"
   ]
  },
  {
   "cell_type": "code",
   "execution_count": 65,
   "metadata": {},
   "outputs": [],
   "source": [
    "# set random seed\n",
    "np.random.seed(49)\n",
    "\n",
    "bu = np.zeros(n_users)\n",
    "bi = np.zeros(n_items)\n",
    "\n",
    "pu = np.random.normal(0, 1., (n_users,n_factors))\n",
    "qi = np.random.normal(0, 1., (n_items,n_factors))"
   ]
  },
  {
   "cell_type": "code",
   "execution_count": 66,
   "metadata": {},
   "outputs": [],
   "source": [
    "# set random seed\n",
    "np.random.seed(49)\n",
    "\n",
    "bu = np.zeros(n_users)\n",
    "bi = np.zeros(n_items)\n",
    "\n",
    "pu = np.random.normal(0, 1., (n_users,n_factors))\n",
    "qi = np.random.normal(0, 1., (n_items,n_factors))"
   ]
  },
  {
   "cell_type": "code",
   "execution_count": 67,
   "metadata": {},
   "outputs": [],
   "source": [
    "# create copy to compare weight after training\n",
    "bu_copy = bu.copy()\n",
    "bi_copy = bi.copy()\n",
    "pu_copy = pu.copy()\n",
    "qi_copy = qi.copy()"
   ]
  },
  {
   "cell_type": "code",
   "execution_count": 68,
   "metadata": {},
   "outputs": [
    {
     "name": "stdout",
     "output_type": "stream",
     "text": [
      "Bias User Shape (602,)\n",
      "Bias Item Shape (248,)\n",
      "User Factor Shape (602, 50)\n",
      "Item Factor Shape (248, 50)\n"
     ]
    }
   ],
   "source": [
    "# check shape\n",
    "print('Bias User Shape',bu.shape)\n",
    "print('Bias Item Shape',bi.shape)\n",
    "print('User Factor Shape',pu.shape)\n",
    "print('Item Factor Shape',qi.shape)"
   ]
  },
  {
   "cell_type": "code",
   "execution_count": 69,
   "metadata": {},
   "outputs": [
    {
     "data": {
      "text/plain": [
       "array([0., 0., 0., 0., 0., 0., 0., 0., 0., 0., 0., 0., 0., 0., 0., 0., 0.,\n",
       "       0., 0., 0., 0., 0., 0., 0., 0., 0., 0., 0., 0., 0., 0., 0., 0., 0.,\n",
       "       0., 0., 0., 0., 0., 0., 0., 0., 0., 0., 0., 0., 0., 0., 0., 0., 0.,\n",
       "       0., 0., 0., 0., 0., 0., 0., 0., 0., 0., 0., 0., 0., 0., 0., 0., 0.,\n",
       "       0., 0., 0., 0., 0., 0., 0., 0., 0., 0., 0., 0., 0., 0., 0., 0., 0.,\n",
       "       0., 0., 0., 0., 0., 0., 0., 0., 0., 0., 0., 0., 0., 0., 0., 0., 0.,\n",
       "       0., 0., 0., 0., 0., 0., 0., 0., 0., 0., 0., 0., 0., 0., 0., 0., 0.,\n",
       "       0., 0., 0., 0., 0., 0., 0., 0., 0., 0., 0., 0., 0., 0., 0., 0., 0.,\n",
       "       0., 0., 0., 0., 0., 0., 0., 0., 0., 0., 0., 0., 0., 0., 0., 0., 0.,\n",
       "       0., 0., 0., 0., 0., 0., 0., 0., 0., 0., 0., 0., 0., 0., 0., 0., 0.,\n",
       "       0., 0., 0., 0., 0., 0., 0., 0., 0., 0., 0., 0., 0., 0., 0., 0., 0.,\n",
       "       0., 0., 0., 0., 0., 0., 0., 0., 0., 0., 0., 0., 0., 0., 0., 0., 0.,\n",
       "       0., 0., 0., 0., 0., 0., 0., 0., 0., 0., 0., 0., 0., 0., 0., 0., 0.,\n",
       "       0., 0., 0., 0., 0., 0., 0., 0., 0., 0., 0., 0., 0., 0., 0., 0., 0.,\n",
       "       0., 0., 0., 0., 0., 0., 0., 0., 0., 0., 0., 0., 0., 0., 0., 0., 0.,\n",
       "       0., 0., 0., 0., 0., 0., 0., 0., 0., 0., 0., 0., 0., 0., 0., 0., 0.,\n",
       "       0., 0., 0., 0., 0., 0., 0., 0., 0., 0., 0., 0., 0., 0., 0., 0., 0.,\n",
       "       0., 0., 0., 0., 0., 0., 0., 0., 0., 0., 0., 0., 0., 0., 0., 0., 0.,\n",
       "       0., 0., 0., 0., 0., 0., 0., 0., 0., 0., 0., 0., 0., 0., 0., 0., 0.,\n",
       "       0., 0., 0., 0., 0., 0., 0., 0., 0., 0., 0., 0., 0., 0., 0., 0., 0.,\n",
       "       0., 0., 0., 0., 0., 0., 0., 0., 0., 0., 0., 0., 0., 0., 0., 0., 0.,\n",
       "       0., 0., 0., 0., 0., 0., 0., 0., 0., 0., 0., 0., 0., 0., 0., 0., 0.,\n",
       "       0., 0., 0., 0., 0., 0., 0., 0., 0., 0., 0., 0., 0., 0., 0., 0., 0.,\n",
       "       0., 0., 0., 0., 0., 0., 0., 0., 0., 0., 0., 0., 0., 0., 0., 0., 0.,\n",
       "       0., 0., 0., 0., 0., 0., 0., 0., 0., 0., 0., 0., 0., 0., 0., 0., 0.,\n",
       "       0., 0., 0., 0., 0., 0., 0., 0., 0., 0., 0., 0., 0., 0., 0., 0., 0.,\n",
       "       0., 0., 0., 0., 0., 0., 0., 0., 0., 0., 0., 0., 0., 0., 0., 0., 0.,\n",
       "       0., 0., 0., 0., 0., 0., 0., 0., 0., 0., 0., 0., 0., 0., 0., 0., 0.,\n",
       "       0., 0., 0., 0., 0., 0., 0., 0., 0., 0., 0., 0., 0., 0., 0., 0., 0.,\n",
       "       0., 0., 0., 0., 0., 0., 0., 0., 0., 0., 0., 0., 0., 0., 0., 0., 0.,\n",
       "       0., 0., 0., 0., 0., 0., 0., 0., 0., 0., 0., 0., 0., 0., 0., 0., 0.,\n",
       "       0., 0., 0., 0., 0., 0., 0., 0., 0., 0., 0., 0., 0., 0., 0., 0., 0.,\n",
       "       0., 0., 0., 0., 0., 0., 0., 0., 0., 0., 0., 0., 0., 0., 0., 0., 0.,\n",
       "       0., 0., 0., 0., 0., 0., 0., 0., 0., 0., 0., 0., 0., 0., 0., 0., 0.,\n",
       "       0., 0., 0., 0., 0., 0., 0., 0., 0., 0., 0., 0., 0., 0., 0., 0., 0.,\n",
       "       0., 0., 0., 0., 0., 0., 0.])"
      ]
     },
     "execution_count": 69,
     "metadata": {},
     "output_type": "execute_result"
    }
   ],
   "source": [
    "bu"
   ]
  },
  {
   "cell_type": "code",
   "execution_count": 70,
   "metadata": {},
   "outputs": [
    {
     "data": {
      "text/plain": [
       "array([0., 0., 0., 0., 0., 0., 0., 0., 0., 0., 0., 0., 0., 0., 0., 0., 0.,\n",
       "       0., 0., 0., 0., 0., 0., 0., 0., 0., 0., 0., 0., 0., 0., 0., 0., 0.,\n",
       "       0., 0., 0., 0., 0., 0., 0., 0., 0., 0., 0., 0., 0., 0., 0., 0., 0.,\n",
       "       0., 0., 0., 0., 0., 0., 0., 0., 0., 0., 0., 0., 0., 0., 0., 0., 0.,\n",
       "       0., 0., 0., 0., 0., 0., 0., 0., 0., 0., 0., 0., 0., 0., 0., 0., 0.,\n",
       "       0., 0., 0., 0., 0., 0., 0., 0., 0., 0., 0., 0., 0., 0., 0., 0., 0.,\n",
       "       0., 0., 0., 0., 0., 0., 0., 0., 0., 0., 0., 0., 0., 0., 0., 0., 0.,\n",
       "       0., 0., 0., 0., 0., 0., 0., 0., 0., 0., 0., 0., 0., 0., 0., 0., 0.,\n",
       "       0., 0., 0., 0., 0., 0., 0., 0., 0., 0., 0., 0., 0., 0., 0., 0., 0.,\n",
       "       0., 0., 0., 0., 0., 0., 0., 0., 0., 0., 0., 0., 0., 0., 0., 0., 0.,\n",
       "       0., 0., 0., 0., 0., 0., 0., 0., 0., 0., 0., 0., 0., 0., 0., 0., 0.,\n",
       "       0., 0., 0., 0., 0., 0., 0., 0., 0., 0., 0., 0., 0., 0., 0., 0., 0.,\n",
       "       0., 0., 0., 0., 0., 0., 0., 0., 0., 0., 0., 0., 0., 0., 0., 0., 0.,\n",
       "       0., 0., 0., 0., 0., 0., 0., 0., 0., 0., 0., 0., 0., 0., 0., 0., 0.,\n",
       "       0., 0., 0., 0., 0., 0., 0., 0., 0., 0.])"
      ]
     },
     "execution_count": 70,
     "metadata": {},
     "output_type": "execute_result"
    }
   ],
   "source": [
    "bi"
   ]
  },
  {
   "cell_type": "code",
   "execution_count": 71,
   "metadata": {},
   "outputs": [
    {
     "data": {
      "text/plain": [
       "array([[-1.04315908, -0.82085569,  0.66514585, ..., -1.55114627,\n",
       "         1.72763849,  0.16778597],\n",
       "       [ 1.31217095,  1.66447717,  0.0857526 , ...,  0.46059182,\n",
       "        -0.9300368 ,  0.33121438],\n",
       "       [ 0.11681173, -0.69099429, -0.99138131, ..., -2.36009767,\n",
       "         0.69601208, -0.76146573],\n",
       "       ...,\n",
       "       [-0.2982129 , -0.99922266,  0.87082496, ..., -1.59161561,\n",
       "        -0.07967693, -0.17309191],\n",
       "       [-1.75783705, -0.67742913,  1.32331075, ...,  0.05090742,\n",
       "        -1.24423813, -0.78877249],\n",
       "       [-0.67026102, -0.14324443,  0.96783837, ..., -1.26626902,\n",
       "        -0.26099906, -0.21058854]])"
      ]
     },
     "execution_count": 71,
     "metadata": {},
     "output_type": "execute_result"
    }
   ],
   "source": [
    "pu"
   ]
  },
  {
   "cell_type": "code",
   "execution_count": 72,
   "metadata": {},
   "outputs": [
    {
     "data": {
      "text/plain": [
       "array([[-0.10782355,  0.71196843, -1.12041663, ..., -0.26407413,\n",
       "        -0.42535489, -2.18722037],\n",
       "       [-0.66065544, -0.50369364, -0.48220925, ...,  0.23019225,\n",
       "        -0.92240626, -0.35671836],\n",
       "       [-1.88619817, -0.54473619,  0.09513195, ...,  1.92614858,\n",
       "        -0.90304322, -0.35478989],\n",
       "       ...,\n",
       "       [-0.94912388, -0.44175386,  0.84829889, ..., -0.50558658,\n",
       "         0.13590748, -0.31797062],\n",
       "       [-1.1459766 , -1.0684624 ,  1.00371121, ..., -0.17867023,\n",
       "        -1.84955777,  0.81576845],\n",
       "       [ 0.31639663,  0.12177689, -0.19394946, ...,  1.35139355,\n",
       "         1.30650047,  0.05994295]])"
      ]
     },
     "execution_count": 72,
     "metadata": {},
     "output_type": "execute_result"
    }
   ],
   "source": [
    "qi"
   ]
  },
  {
   "cell_type": "markdown",
   "metadata": {},
   "source": [
    "#### Prediction Function"
   ]
  },
  {
   "cell_type": "markdown",
   "metadata": {},
   "source": [
    "$\\hat{r_{ui}} = \\mu + b_u + b_i + (p_u . q_i^T)$\n",
    "\n",
    "with\n",
    "- $\\hat{r_{ui}}$ : predicted rating on user\n",
    "- $\\mu$ : global mean\n",
    "- $b_u$ : bias user\n",
    "- $b_i$ : bias item\n",
    "- $p_u$ : user factor\n",
    "- $q_i$ : item factor"
   ]
  },
  {
   "cell_type": "markdown",
   "metadata": {},
   "source": [
    "#### Optimization"
   ]
  },
  {
   "cell_type": "markdown",
   "metadata": {},
   "source": [
    "- To find optimal parameter above we will find using one of the famous optimization algorithm, **Gradient Descent**.\n",
    "- To perform Gradient Descent we have to find optimal parameter when derivative of cost function with respect to each parameter is 0.\n",
    "- Since our objective is in composite function, $h(x) = f(g(x))$, to find the partial derivative with respect to each parameter we can use **chain rule**."
   ]
  },
  {
   "cell_type": "markdown",
   "metadata": {},
   "source": [
    "$h'(x) = f'(g(x)).g'(x)$"
   ]
  },
  {
   "cell_type": "markdown",
   "metadata": {},
   "source": [
    "##### 1. **$b_u$**\n",
    "\n",
    "$$\n",
    "\\begin{align*}\n",
    "\\cfrac{\\partial \\text{Objective}}{\\partial{b_u}}\n",
    "&=\n",
    "\\frac{\\partial}{\\partial{b_u}}\n",
    "\\underset{}{}\n",
    "\\left [\n",
    "(\\cfrac{1}{2}\\sum_{u \\in U} \\sum_{i \\in I} (r_{ui}- \\hat{r_{ui}} )^2)\\right ] +\\frac{\\partial}{\\partial{b_u}} \\left [ \\cfrac{1}{2} \\sum_{u \\in U} \\sum_{i \\in I}   \\lambda(b_u^2+b_i^2+||p_u||^2 + ||q_i||^2)\n",
    "\\right ]\n",
    "\\end{align*}\n",
    "$$\n",
    "\n",
    "\n"
   ]
  },
  {
   "cell_type": "markdown",
   "metadata": {},
   "source": [
    "###### Derivation Detail of $b_u$"
   ]
  },
  {
   "cell_type": "markdown",
   "metadata": {},
   "source": [
    "**1st Block**\n",
    "\n",
    "Now we take care of each derivative $\\left [ \\text{some function} \\right ]$ block\n",
    "\n",
    "$\n",
    "\\begin{align*}\n",
    "\\cfrac{{\\partial}(\\cfrac{1}{2}\\sum_{u \\in U} \\sum_{i \\in I} (r_{ui}- \\hat{r_{ui}} )^2)}{\\partial{b_u}}\n",
    "\\end{align*}$\n",
    "\n",
    "we can identified  :     \n",
    "- $\\hat{r_{ui}}$ is our prediction function , we can call it as `g(x)`\n",
    "- $\\left [\n",
    "(\\cfrac{1}{2}\\sum_{u \\in U} \\sum_{i \\in I} (r_{ui}- \\hat{r_{ui}} )^2)\\right ]$ is our `f(g(x))`\n"
   ]
  },
  {
   "cell_type": "markdown",
   "metadata": {},
   "source": [
    "Hence, our derivation become :\n",
    "\n",
    "$$\n",
    "\\begin{align*}\n",
    "\\cfrac{{\\partial}(\\cfrac{1}{2}\\sum_{u \\in U} \\sum_{i \\in I} (r_{ui}- \\hat{r_{ui}} )^2)}{\\partial{b_u}}\n",
    "&=\n",
    "\\cfrac{1}{2} \\frac{\\partial{f(g(x))}}{\\partial{g(x)}}. \\frac{\\partial{g(x)}}{\\partial{b_u}}\n",
    "\\end{align*}$$"
   ]
  },
  {
   "cell_type": "markdown",
   "metadata": {},
   "source": [
    "Remember derivative concept, if we have $f(x) = ax^n$, the derivative or $f'(x) = n(ax^{n-1})$"
   ]
  },
  {
   "cell_type": "markdown",
   "metadata": {},
   "source": [
    "$$ \\begin{align*}\n",
    "\\frac{\\partial{f(g(x))}}{\\partial{g(x)}}\n",
    "&= 2(r_{ui} -\\hat{r_{ui}})\n",
    "\\end{align*}\n",
    "$$\n",
    "\n",
    "<center> and </center>\n",
    "\n",
    "$$ \\begin{align*}\n",
    "-\\frac{\\partial{g(x)}}{\\partial{b_u}}\n",
    "&= \\frac{\\partial{(\\mu + b_u + b_i + (p_u.q_i^T))}}{\\partial{b_u}} \\\\\n",
    "&= -1\n",
    "\\end{align*}\n",
    "$$"
   ]
  },
  {
   "cell_type": "markdown",
   "metadata": {},
   "source": [
    "Plug back each component :\n",
    "\n",
    "$$\n",
    "\\begin{align*}\n",
    "\\cfrac{{\\partial}(\\cfrac{1}{2}\\sum_{u \\in U} \\sum_{i \\in I} (r_{ui}- \\hat{r_{ui}} )^2)}{\\partial{b_u}}\n",
    "&=\n",
    "\\cfrac{1}{2} \\frac{\\partial{f(g(x))}}{\\partial{g(x)}}. \\frac{\\partial{g(x)}}{\\partial{b_u}} \\\\\n",
    "&= \\cfrac{1}{2} 2 \\sum_{u \\in U} \\sum_{i \\in I} (r_{ui} -\\hat{r_{ui}}) . -1 \\\\\n",
    "&= -\\sum_{u \\in U} \\sum_{i \\in I} (r_{ui} -\\hat{r_{ui}})\n",
    "\\end{align*}$$"
   ]
  },
  {
   "cell_type": "markdown",
   "metadata": {},
   "source": [
    "**2nd Block**\n",
    "\n",
    "$$\n",
    "\\begin{align*}\n",
    "\\frac{1}{2}\\frac{\\partial{\\left [ \\sum_{u \\in U} \\sum_{i \\in I}   \\lambda(b_u^2+b_i^2+||p_u||^2 + ||q_i||^2)\\right ]} }{\\partial{b_u}}\n",
    "\\end{align*}\n",
    "$$\n",
    "\n",
    "this function does not in form of composite function so we can directly find the partial derivative with respect to $b_u$ we can use $f(x) = ax^n$ form\n",
    "\n",
    "\n",
    "\n"
   ]
  },
  {
   "cell_type": "markdown",
   "metadata": {},
   "source": [
    "$$\n",
    "\\begin{align*}\n",
    "\\frac{\\partial{\\left [ \\sum_{u \\in U} \\sum_{i \\in I}   \\lambda(b_u^2+b_i^2+||p_u||^2 + ||q_i||^2)\\right ]} }{\\partial{b_u}}\n",
    "&= \\frac{1}{2} \\sum_{u \\in U} 2\\lambda b_u \\\\\n",
    "&=  \\sum_{u \\in U} \\lambda b_u\n",
    "\\end{align*}\n",
    "$$"
   ]
  },
  {
   "cell_type": "markdown",
   "metadata": {},
   "source": [
    "**Arrange All Component**"
   ]
  },
  {
   "cell_type": "markdown",
   "metadata": {},
   "source": [
    "$$\n",
    "\\begin{align*}\n",
    "\\cfrac{\\partial \\text{Objective}}{\\partial{b_u}}\n",
    "&=\n",
    "\\frac{\\partial}{\\partial{b_u}}\n",
    "\\underset{}{}\n",
    "\\left [\n",
    "(\\cfrac{1}{2}\\sum_{u \\in U} \\sum_{i \\in I} (r_{ui}- \\hat{r_{ui}} )^2)\\right ] +\\frac{\\partial}{\\partial{b_u}} \\left [ \\cfrac{1}{2} \\sum_{u \\in U} \\sum_{i \\in I}   \\lambda(b_u^2+b_i^2+||p_u||^2 + ||q_i||^2)\n",
    "\\right ] \\\\\n",
    "&= \\left [(2.\\cfrac{1}{2}\\sum_{u \\in U} \\sum_{i \\in I}(r_{ui}- \\hat{r_{ui}} )).-1 \\right ] + \\left[\\cfrac{1}{2}.2  \\sum_{u \\in U}  \\lambda.b_u \\right ] \\\\\n",
    "&= -(\\sum_{u \\in U} \\sum_{i \\in I} r_{ui} - \\hat{r_{ui}}) +  \\sum_{u \\in U}  \\lambda b_u \\\\\\\n",
    "\\text{Multiply with -1} \\\\\n",
    "\\cfrac{\\partial \\text{Objective}}{\\partial{b_u}}\n",
    "&= \\sum_{u \\in U} \\sum_{i \\in I} ((r_{ui} - \\hat{r_{ui}}) + (\\lambda b_u)))\n",
    "\\end{align*}\n",
    "$$"
   ]
  },
  {
   "cell_type": "markdown",
   "metadata": {},
   "source": [
    "##### 2. **$b_i$**\n",
    "\n",
    "\n",
    "Using the same procedure as above\n",
    "\n",
    "$$\n",
    "\\begin{align*}\n",
    "\\cfrac{\\partial \\text{Objective}}{\\partial{b_u}}\n",
    "&= \\sum_{u \\in U} \\sum_{i \\in I} ((r_{ui} - \\hat{r_{ui}}) +   (\\lambda b_i))\n",
    "\\end{align*}\n",
    "$$\n"
   ]
  },
  {
   "cell_type": "markdown",
   "metadata": {},
   "source": [
    "##### 3. **$p_u$**\n",
    "\n",
    "using the same derivation technique\n",
    "\n",
    "$$\n",
    "\\begin{align*}\n",
    "\\cfrac{\\partial \\text{Objective}}{\\partial{p_u}}\n",
    "&= \\sum_{u \\in U} \\sum_{i \\in I} ((r_{ui} - \\hat{r_{ui}}).p_u - \\lambda q_i))\n",
    "\\end{align*}\n",
    "$$\n",
    "\n"
   ]
  },
  {
   "cell_type": "markdown",
   "metadata": {},
   "source": [
    "##### 4. **$q_i$**\n",
    "\n",
    "using the same derivation technique\n",
    "\n",
    "$$\n",
    "\\begin{align*}\n",
    "\\cfrac{\\partial \\text{Objective}}{\\partial{q_i}}\n",
    "&= \\sum_{u \\in U} \\sum_{i \\in I} ((r_{ui} - \\hat{r_{ui}}).p_u - \\lambda p_u))\n",
    "\\end{align*}\n",
    "$$\n",
    "\n",
    "\n"
   ]
  },
  {
   "cell_type": "markdown",
   "metadata": {},
   "source": [
    "To update the parameter to optimal we need other components :     \n",
    "\n",
    "- $\\gamma$ : Learning rate\n",
    "- n_epochs : number of iteration to update the parameter"
   ]
  },
  {
   "cell_type": "markdown",
   "metadata": {},
   "source": [
    "How gradient descent work to update parameter :    \n",
    "For n_iterations do :    \n",
    "Loop all over training samples :     \n",
    "1. Find  partial derivative /gradient of objective function with respect to parameter we want to optimize ( in this case $b_u,b_i,p_u,q_i$)\n",
    "\n",
    "2. Update parameter with those gradient :     \n",
    "\n",
    "  $\\text{parameter}_{\\text{new}} = \\text{parameter}_{\\text{old}} -\\gamma.(\\text{gradient})$\n"
   ]
  },
  {
   "cell_type": "markdown",
   "metadata": {},
   "source": [
    "There are lot of alternatives to original **Gradient Descent**, such as :     \n",
    "1. Mini batch Gradient Descent\n",
    "2. Stochastic Gradient Descent"
   ]
  },
  {
   "cell_type": "code",
   "execution_count": 74,
   "metadata": {},
   "outputs": [
    {
     "name": "stdout",
     "output_type": "stream",
     "text": [
      "3.741859344894027\n"
     ]
    }
   ],
   "source": [
    "# set learning rate\n",
    "lr = 0.001\n",
    "\n",
    "# set n_epochs\n",
    "n_epochs = 20\n",
    "\n",
    "# set regularization\n",
    "lambda_reg = 0.002\n",
    "\n",
    "# global mean\n",
    "global_mean = rating_matrix[:,2].mean()\n",
    "print(global_mean)"
   ]
  },
  {
   "cell_type": "code",
   "execution_count": 76,
   "metadata": {},
   "outputs": [],
   "source": [
    "from numpy.linalg import norm\n",
    "\n",
    "# run update parameter\n",
    "loss_per_epoch = []\n",
    "for _ in range(n_epochs) :\n",
    "    # add empty list to add avg loss per epoch\n",
    "    avg_loss_training_samples = []\n",
    "    # iterate all over training data\n",
    "    for training_samples in rating_matrix :\n",
    "        # extract userid, movieId, rating\n",
    "        user = int(training_samples[0])\n",
    "        movie = int(training_samples[1])\n",
    "        rating = training_samples[2]\n",
    "\n",
    "        # get user idx\n",
    "        user_idx = user_to_id[user]\n",
    "        movie_idx = movie_to_id[movie]\n",
    "        # predict rating\n",
    "\n",
    "        # slice each parameter\n",
    "        b_user = bu[user_idx]\n",
    "        b_item = bi[movie_idx]\n",
    "        p_user = pu[user_idx]\n",
    "        q_item = qi[movie_idx]\n",
    "\n",
    "        # calculate baseline prediction\n",
    "        baseline_prediction = global_mean + b_user + b_item\n",
    "\n",
    "        predicted_rating = baseline_prediction + (p_user.dot(q_item.T))\n",
    "        # calculate loss / objective\n",
    "        loss = 1/2*((rating- predicted_rating)**2) + lambda_reg*(b_user**2 + b_item**2 + norm(p_user)**2 + norm(q_item)**2)\n",
    "\n",
    "        # append loss\n",
    "        avg_loss_training_samples.append(loss)\n",
    "\n",
    "        # calculate gradient , dy / d(parameter)\n",
    "        grad_user_bias = (rating-predicted_rating) - lambda_reg*b_user\n",
    "        grad_item_bias = (rating-predicted_rating) - lambda_reg*b_item\n",
    "        grad_user_factor = (rating-predicted_rating)*q_item - lambda_reg*p_user\n",
    "        grad_item_factor = (rating-predicted_rating)*p_user - lambda_reg*q_item\n",
    "\n",
    "        # update parameter\n",
    "        bu[user_idx] += lr*grad_user_bias\n",
    "        bi[movie_idx] += lr*grad_item_bias\n",
    "        pu[user_idx] += lr*grad_user_factor\n",
    "        qi[movie_idx] += lr*grad_item_factor\n",
    "    avg_loss_training_samples = np.mean(avg_loss_training_samples)\n",
    "    loss_per_epoch.append(avg_loss_training_samples)\n",
    "\n"
   ]
  },
  {
   "cell_type": "code",
   "execution_count": 77,
   "metadata": {},
   "outputs": [
    {
     "data": {
      "text/plain": [
       "Text(0.5, 1.0, 'Loss over 20 epochs')"
      ]
     },
     "execution_count": 77,
     "metadata": {},
     "output_type": "execute_result"
    },
    {
     "data": {
      "image/png": "[encoded data removed]",
      "text/plain": [
       "<Figure size 640x480 with 1 Axes>"
      ]
     },
     "metadata": {},
     "output_type": "display_data"
    }
   ],
   "source": [
    "# we are going to plot the loss function over e_poch\n",
    "import matplotlib.pyplot as plt\n",
    "\n",
    "plt.scatter(x= loss_per_epoch, y= [x+1 for x in range(len(loss_per_epoch))])\n",
    "plt.xlabel('Loss')\n",
    "plt.ylabel('Epochs')\n",
    "plt.title('Loss over 20 epochs')"
   ]
  },
  {
   "cell_type": "markdown",
   "metadata": {},
   "source": [
    "#### Generating Prediction"
   ]
  },
  {
   "cell_type": "markdown",
   "metadata": {},
   "source": [
    "Now, we already optimized our model during training process, we observed as we iterate through our learning process, the average loss is going down.\n",
    "\n",
    "Now, we will try to generate prediction on rating, Let say we want to predict the rating on user 1 on item 1, Here is the process :     \n",
    "1. Get all parameters $bu,bi,pu,qi$\n",
    "2. Create prediction function\n",
    "3. Generate Prediction"
   ]
  },
  {
   "cell_type": "markdown",
   "metadata": {},
   "source": [
    "**Get all parameters $bu,bi,pu,qi$**\n",
    "\n",
    "parameter for user 1 and item 1"
   ]
  },
  {
   "cell_type": "code",
   "execution_count": 78,
   "metadata": {},
   "outputs": [],
   "source": [
    "user1idx = user_to_id[1]\n",
    "movie1idx = movie_to_id[1]"
   ]
  },
  {
   "cell_type": "code",
   "execution_count": 79,
   "metadata": {},
   "outputs": [],
   "source": [
    "# bias\n",
    "bu_1  = bu[user1idx]\n",
    "bi_1 = bi[movie1idx]\n",
    "\n",
    "# factor\n",
    "pu_1 = pu[user1idx]\n",
    "qi_1 = qi[movie1idx]"
   ]
  },
  {
   "cell_type": "code",
   "execution_count": 80,
   "metadata": {},
   "outputs": [
    {
     "name": "stdout",
     "output_type": "stream",
     "text": [
      "Predicted ratings on user 1 and item 1 3.1253594631856325\n"
     ]
    }
   ],
   "source": [
    "# prediction function\n",
    "baseline_prediction = global_mean + bu_1 + bi_1\n",
    "\n",
    "predicted_rating = baseline_prediction + (pu_1.dot(qi_1.T))\n",
    "print('Predicted ratings on user 1 and item 1',predicted_rating)"
   ]
  },
  {
   "cell_type": "markdown",
   "metadata": {},
   "source": [
    "Then, we compare prediction on real rating\n"
   ]
  },
  {
   "cell_type": "code",
   "execution_count": 82,
   "metadata": {},
   "outputs": [
    {
     "data": {
      "text/html": [
       "<div>\n",
       "<style scoped>\n",
       "    .dataframe tbody tr th:only-of-type {\n",
       "        vertical-align: middle;\n",
       "    }\n",
       "\n",
       "    .dataframe tbody tr th {\n",
       "        vertical-align: top;\n",
       "    }\n",
       "\n",
       "    .dataframe thead th {\n",
       "        text-align: right;\n",
       "    }\n",
       "</style>\n",
       "<table border=\"1\" class=\"dataframe\">\n",
       "  <thead>\n",
       "    <tr style=\"text-align: right;\">\n",
       "      <th></th>\n",
       "      <th>userId</th>\n",
       "      <th>movieId</th>\n",
       "      <th>rating</th>\n",
       "    </tr>\n",
       "  </thead>\n",
       "  <tbody>\n",
       "    <tr>\n",
       "      <th>0</th>\n",
       "      <td>1</td>\n",
       "      <td>1</td>\n",
       "      <td>4.0</td>\n",
       "    </tr>\n",
       "  </tbody>\n",
       "</table>\n",
       "</div>"
      ],
      "text/plain": [
       "   userId  movieId  rating\n",
       "0       1        1     4.0"
      ]
     },
     "execution_count": 82,
     "metadata": {},
     "output_type": "execute_result"
    }
   ],
   "source": [
    "rating_data.loc[(rating_data['userId']==1) & (rating_data['movieId']==1)]"
   ]
  },
  {
   "cell_type": "markdown",
   "metadata": {},
   "source": [
    "Yes, we already succeeded creating Funk SVD model from scratch,However we see that from beginning there are lot of step involved during training process its better to be more concise with **OOP** concept"
   ]
  },
  {
   "cell_type": "markdown",
   "metadata": {},
   "source": [
    "#### Object Oriented Code"
   ]
  },
  {
   "cell_type": "code",
   "execution_count": 83,
   "metadata": {},
   "outputs": [],
   "source": [
    "# SVDClass\n",
    "class FunkSVD() :\n",
    "\n",
    "    def __init__(self,n_factors=50, n_epoch=20, lr=0.001, lambda_reg=0.002 ) -> None:\n",
    "        \"\"\"Initializes Model Hyperparameter / Configuration\n",
    "\n",
    "        Parameters\n",
    "        ----------\n",
    "        n_factors : int\n",
    "            Number of latent factor to use.\n",
    "        n_epoch : int\n",
    "            Number of iterations during model training (epochs)\n",
    "        lr : float\n",
    "            learning rate\n",
    "        lamba_reg : float\n",
    "            regularization strength for objective function / model parameter\n",
    "\n",
    "        Returns\n",
    "        -------\n",
    "        -\n",
    "        \"\"\"\n",
    "        self.n_factors = n_factors\n",
    "        self.n_epoch = n_epoch\n",
    "        self.lr = lr\n",
    "        self.lambda_reg = lambda_reg\n",
    "\n",
    "\n",
    "    def generate_mapping(self) :\n",
    "        \"\"\"Function to generate mapping on userId and itemId\"\"\"\n",
    "        self.user_to_id = { user_id : idx for idx,user_id in\n",
    "                                   enumerate(self.utility_matrix[self.user_column].unique())}\n",
    "\n",
    "        self.id_to_user = { idx : user_id for idx,user_id in\n",
    "                                   enumerate(self.utility_matrix[self.user_column].unique())}\n",
    "\n",
    "        self.item_to_id = { item_id : idx for idx,item_id in\n",
    "                                   enumerate(self.utility_matrix[self.item_column].unique())}\n",
    "\n",
    "        self.id_to_item = { idx : item_id for idx,item_id in\n",
    "                                   enumerate(self.utility_matrix[self.item_column].unique())}\n",
    "\n",
    "\n",
    "\n",
    "\n",
    "    def initialize_parameters(self) :\n",
    "        \"\"\"Initializes biases and latent factor matrices.\n",
    "\n",
    "        Parameters\n",
    "        ----------\n",
    "        n_users : int\n",
    "            Number of unique users.\n",
    "        n_items : int\n",
    "            Number of unique items.\n",
    "        n_factors : int\n",
    "            Number of factors.\n",
    "\n",
    "        Returns\n",
    "        -------\n",
    "        bu : numpy.array\n",
    "            User biases vector.\n",
    "        bi : numpy.array\n",
    "            Item biases vector.\n",
    "        pu : numpy.array\n",
    "            User latent factors matrix.\n",
    "        qi : numpy.array\n",
    "            Item latent factors matrix.\n",
    "        \"\"\"\n",
    "        bu = np.zeros(self.n_users)\n",
    "        bi = np.zeros(self.n_items)\n",
    "\n",
    "        pu = np.random.normal(0, .1, (self.n_users,self.n_factors))\n",
    "        qi = np.random.normal(0, .1, (self.n_items,self.n_factors))\n",
    "\n",
    "\n",
    "        return bu,bi,pu,qi\n",
    "\n",
    "\n",
    "\n",
    "    def update_parameter(self,n_epoch,global_mean,bu,bi,pu,qi) :\n",
    "        \"\"\"\n",
    "        Function to update parameter with gradient descent\n",
    "        Parameters\n",
    "        ----------\n",
    "        n_epochs : int\n",
    "            Number of epochs\n",
    "        global_mean : float\n",
    "            global mean for computing baseline prediction\n",
    "        bu : numpy.array\n",
    "            User biases vector.\n",
    "        bi : numpy.array\n",
    "            Item biases vector.\n",
    "        pu : numpy.array\n",
    "            User latent factors matrix.\n",
    "        qi : numpy.array\n",
    "            Item latent factors matrix.\n",
    "\n",
    "\n",
    "        Returns\n",
    "        -------\n",
    "        bu : numpy.array\n",
    "            Updated User biases vector.\n",
    "        bi : numpy.array\n",
    "            Updated Item biases vector.\n",
    "        pu : numpy.array\n",
    "            Updated User latent factors matrix.\n",
    "        qi : numpy.array\n",
    "            Updated Item latent factors matrix.\n",
    "        loss_per_epoch : list\n",
    "            Average loss per epoch\n",
    "        \"\"\"\n",
    "        # copy parameter first to avoid overwriting\n",
    "        bu = bu.copy()\n",
    "        bi = bi.copy()\n",
    "        pu = pu.copy()\n",
    "        qi = qi.copy()\n",
    "\n",
    "        # run update parameter\n",
    "        loss_per_epoch = []\n",
    "        for _ in range(n_epoch) :\n",
    "            # add empty list to add avg loss per epoch\n",
    "            avg_loss_training_samples = []\n",
    "            # iterate all over training data\n",
    "            for training_samples in self.utility_matrix :\n",
    "                # extract userid, movieId, rating\n",
    "                user = int(training_samples[0])\n",
    "                item = int(training_samples[1])\n",
    "                rating = training_samples[2]\n",
    "\n",
    "                # get user idx\n",
    "                user_idx = self.user_to_id[user]\n",
    "                item_idx = self.item_to_id[item]\n",
    "                # predict rating\n",
    "\n",
    "                # slice each parameter\n",
    "                b_user = bu[user_idx]\n",
    "                b_item = bi[item_idx]\n",
    "                p_user = pu[user_idx]\n",
    "                q_item = qi[item_idx]\n",
    "\n",
    "                # calculate baseline prediction\n",
    "                baseline_prediction = global_mean + b_user + b_item\n",
    "\n",
    "                predicted_rating = baseline_prediction + (p_user.dot(q_item.T))\n",
    "                # calculate loss / objective\n",
    "                loss = ((rating- predicted_rating)**2)/2 + (self.lambda_reg*(b_user + b_item + norm(p_user)**2 + norm(q_item)**2))/2\n",
    "\n",
    "                # append loss\n",
    "                avg_loss_training_samples.append(loss)\n",
    "\n",
    "                # calculate gradient , dy / d(parameter)\n",
    "                grad_user_bias = (rating-predicted_rating) - (self.lambda_reg * b_user)\n",
    "                grad_item_bias = (rating-predicted_rating) - (self.lambda_reg * b_item)\n",
    "                grad_user_factor = (rating-predicted_rating)* q_item - (self.lambda_reg * p_user)\n",
    "                grad_item_factor = (rating-predicted_rating)* p_user - (self.lambda_reg * q_item)\n",
    "\n",
    "                # update parameter\n",
    "                bu[user_idx] += self.lr*grad_user_bias\n",
    "                bi[item_idx] += self.lr*grad_item_bias\n",
    "                pu[user_idx] += self.lr*grad_user_factor\n",
    "                qi[item_idx] += self.lr*grad_item_factor\n",
    "            avg_loss_training_samples = np.mean(avg_loss_training_samples)\n",
    "            loss_per_epoch.append(avg_loss_training_samples)\n",
    "\n",
    "        return bu,bi,pu,qi,loss_per_epoch\n",
    "\n",
    "    def fit(self,utility_matrix, user_column, item_column, utility_column) :\n",
    "        \"\"\"\n",
    "\n",
    "\n",
    "        Parameters :\n",
    "        -----------\n",
    "            utility_matrix (pd.DataFrame): _description_\n",
    "            user_column (str): _description_\n",
    "            item_column (str): _description_\n",
    "            utility_column (str): _description_\n",
    "\n",
    "        Returns :\n",
    "        -----------\n",
    "        self (object)\n",
    "        \"\"\"\n",
    "\n",
    "        self.utility_matrix = utility_matrix\n",
    "        self.user_column = user_column\n",
    "        self.item_column = item_column\n",
    "        self.utility_column = utility_column\n",
    "\n",
    "        # setting position of column\n",
    "        self.utility_matrix = self.utility_matrix[[self.user_column,self.item_column,self.utility_column]]\n",
    "        # yield number of user\n",
    "        self.n_users = self.utility_matrix[self.user_column].nunique()\n",
    "        # yield number of items\n",
    "        self.n_items = self.utility_matrix[self.item_column].nunique()\n",
    "\n",
    "        # create id_mapping for user & item\n",
    "        self.generate_mapping()\n",
    "\n",
    "        # convert to numpy array\n",
    "        self.utility_matrix = self.utility_matrix.to_numpy()\n",
    "\n",
    "\n",
    "        # initialize parameters\n",
    "        bu,bi,pu,qi = self.initialize_parameters()\n",
    "\n",
    "        # extract global mean\n",
    "        self.global_mean = self.utility_matrix[:,2].mean()\n",
    "\n",
    "        # update parameters\n",
    "        bu_updated, bi_updated, pu_updated,qi_updated,loss = self.update_parameter(n_epoch = self.n_epoch,\n",
    "                                                                                    global_mean = self.global_mean,\n",
    "                                                                                    bu= bu, bi= bi, pu= pu, qi= qi)\n",
    "\n",
    "\n",
    "        # set updated parameter as part of object\n",
    "        self.bu = bu_updated\n",
    "        self.bi = bi_updated\n",
    "        self.pu = pu_updated\n",
    "        self.qi = qi_updated\n",
    "\n",
    "    def predict_rating(self,user,item) :\n",
    "        \"\"\"\n",
    "\n",
    "\n",
    "        Parameters :\n",
    "        -----------\n",
    "            utility_matrix (pd.DataFrame): _description_\n",
    "            user_column (str): _description_\n",
    "            item_column (str): _description_\n",
    "            utility_column (str): _description_\n",
    "\n",
    "        Returns :\n",
    "        -----------\n",
    "        self (object)\n",
    "        \"\"\"\n",
    "\n",
    "        # get user idx\n",
    "        user_idx = self.user_to_id[user]\n",
    "        item_idx = self.item_to_id[item]\n",
    "        # predict rating\n",
    "\n",
    "        # slice each parameter\n",
    "        b_user = self.bu[user_idx]\n",
    "        b_item = self.bi[item_idx]\n",
    "        p_user = self.pu[user_idx]\n",
    "        q_item = self.qi[item_idx]\n",
    "\n",
    "        # calculate baseline prediction\n",
    "        baseline_prediction = self.global_mean + b_user + b_item\n",
    "\n",
    "        predicted_rating = baseline_prediction + (p_user.dot(q_item.T))\n",
    "\n",
    "        return predicted_rating"
   ]
  },
  {
   "cell_type": "code",
   "execution_count": 84,
   "metadata": {},
   "outputs": [],
   "source": [
    "model = FunkSVD()\n",
    "model.fit(utility_matrix= rating_data, user_column='userId',\n",
    "          item_column= 'movieId',utility_column= 'rating')"
   ]
  },
  {
   "cell_type": "markdown",
   "metadata": {},
   "source": [
    "try to generate prediction user 1 and item 1"
   ]
  },
  {
   "cell_type": "code",
   "execution_count": 85,
   "metadata": {},
   "outputs": [
    {
     "data": {
      "text/plain": [
       "4.337298678956544"
      ]
     },
     "execution_count": 85,
     "metadata": {},
     "output_type": "execute_result"
    }
   ],
   "source": [
    "model.predict_rating(user=1,item=1)"
   ]
  },
  {
   "cell_type": "markdown",
   "metadata": {},
   "source": [
    "______"
   ]
  },
  {
   "cell_type": "markdown",
   "metadata": {},
   "source": [
    "## Train Recommender System Models"
   ]
  },
  {
   "cell_type": "markdown",
   "metadata": {},
   "source": [
    "**Note on Surprise Library**\n",
    "\n",
    "To model the personalized RecSys, we will use a well-defined library called with `surprise`. See the [Surprise Docs.](https://surprise.readthedocs.io/en/stable/index.html)"
   ]
  },
  {
   "cell_type": "code",
   "execution_count": 87,
   "metadata": {},
   "outputs": [
    {
     "name": "stdout",
     "output_type": "stream",
     "text": [
      "Collecting surprise\n",
      "  Downloading surprise-0.1-py2.py3-none-any.whl (1.8 kB)\n",
      "Collecting scikit-surprise (from surprise)\n",
      "  Downloading scikit-surprise-1.1.3.tar.gz (771 kB)\n",
      "                                              0.0/772.0 kB ? eta -:--:--\n",
      "                                              10.2/772.0 kB ? eta -:--:--\n",
      "                                              10.2/772.0 kB ? eta -:--:--\n",
      "     -                                     41.0/772.0 kB 196.9 kB/s eta 0:00:04\n",
      "     ----                                  92.2/772.0 kB 374.1 kB/s eta 0:00:02\n",
      "     -----------------                      348.2/772.0 kB 1.1 MB/s eta 0:00:01\n",
      "     ------------------------------         614.4/772.0 kB 1.7 MB/s eta 0:00:01\n",
      "     -------------------------------------  768.0/772.0 kB 1.8 MB/s eta 0:00:01\n",
      "     -------------------------------------- 772.0/772.0 kB 1.6 MB/s eta 0:00:00\n",
      "  Preparing metadata (setup.py): started\n",
      "  Preparing metadata (setup.py): finished with status 'done'\n",
      "Requirement already satisfied: joblib>=1.0.0 in c:\\users\\daniel.satria\\anaconda3\\envs\\nlp\\lib\\site-packages (from scikit-surprise->surprise) (1.2.0)\n",
      "Requirement already satisfied: numpy>=1.17.3 in c:\\users\\daniel.satria\\anaconda3\\envs\\nlp\\lib\\site-packages (from scikit-surprise->surprise) (1.23.5)\n",
      "Requirement already satisfied: scipy>=1.3.2 in c:\\users\\daniel.satria\\anaconda3\\envs\\nlp\\lib\\site-packages (from scikit-surprise->surprise) (1.10.1)\n",
      "Building wheels for collected packages: scikit-surprise\n",
      "  Building wheel for scikit-surprise (setup.py): started\n",
      "  Building wheel for scikit-surprise (setup.py): finished with status 'done'\n",
      "  Created wheel for scikit-surprise: filename=scikit_surprise-1.1.3-cp310-cp310-win_amd64.whl size=1075668 sha256=3639555972660f86599b2a6251cab7514a24f96afef114a69d64f1571133c113\n",
      "  Stored in directory: c:\\users\\daniel.satria\\appdata\\local\\pip\\cache\\wheels\\a5\\ca\\a8\\4e28def53797fdc4363ca4af740db15a9c2f1595ebc51fb445\n",
      "Successfully built scikit-surprise\n",
      "Installing collected packages: scikit-surprise, surprise\n",
      "Successfully installed scikit-surprise-1.1.3 surprise-0.1\n"
     ]
    }
   ],
   "source": [
    "# Install the library\n",
    "!pip install surprise"
   ]
  },
  {
   "cell_type": "code",
   "execution_count": 88,
   "metadata": {},
   "outputs": [],
   "source": [
    "import surprise"
   ]
  },
  {
   "cell_type": "markdown",
   "metadata": {},
   "source": [
    "### Load the Data\n",
    "\n",
    "Why we do this **again**? Because we works on a specific library that need specific input format."
   ]
  },
  {
   "cell_type": "code",
   "execution_count": 89,
   "metadata": {},
   "outputs": [],
   "source": [
    "# Import some library\n",
    "from surprise import Dataset, Reader"
   ]
  },
  {
   "cell_type": "markdown",
   "metadata": {},
   "source": [
    "Initiate the rating scale"
   ]
  },
  {
   "cell_type": "code",
   "execution_count": 90,
   "metadata": {},
   "outputs": [
    {
     "data": {
      "text/plain": [
       "<surprise.reader.Reader at 0x1e732bdcdf0>"
      ]
     },
     "execution_count": 90,
     "metadata": {},
     "output_type": "execute_result"
    }
   ],
   "source": [
    "reader = Reader(rating_scale = (1, 5))\n",
    "reader"
   ]
  },
  {
   "cell_type": "markdown",
   "metadata": {},
   "source": [
    "Initiate the data. It must be on format `userId`, `itemId`, and `ratings`, respectively."
   ]
  },
  {
   "cell_type": "code",
   "execution_count": 91,
   "metadata": {},
   "outputs": [
    {
     "data": {
      "text/plain": [
       "<surprise.dataset.DatasetAutoFolds at 0x1e7321b3dc0>"
      ]
     },
     "execution_count": 91,
     "metadata": {},
     "output_type": "execute_result"
    }
   ],
   "source": [
    "utility_data = Dataset.load_from_df(\n",
    "                    df = rating_data[['userId', 'movieId', 'rating']].copy(),\n",
    "                    reader = reader\n",
    "                )\n",
    "\n",
    "utility_data"
   ]
  },
  {
   "cell_type": "code",
   "execution_count": 92,
   "metadata": {},
   "outputs": [
    {
     "data": {
      "text/html": [
       "<div>\n",
       "<style scoped>\n",
       "    .dataframe tbody tr th:only-of-type {\n",
       "        vertical-align: middle;\n",
       "    }\n",
       "\n",
       "    .dataframe tbody tr th {\n",
       "        vertical-align: top;\n",
       "    }\n",
       "\n",
       "    .dataframe thead th {\n",
       "        text-align: right;\n",
       "    }\n",
       "</style>\n",
       "<table border=\"1\" class=\"dataframe\">\n",
       "  <thead>\n",
       "    <tr style=\"text-align: right;\">\n",
       "      <th></th>\n",
       "      <th>userId</th>\n",
       "      <th>movieId</th>\n",
       "      <th>rating</th>\n",
       "    </tr>\n",
       "  </thead>\n",
       "  <tbody>\n",
       "    <tr>\n",
       "      <th>0</th>\n",
       "      <td>1</td>\n",
       "      <td>1</td>\n",
       "      <td>4.0</td>\n",
       "    </tr>\n",
       "    <tr>\n",
       "      <th>1</th>\n",
       "      <td>1</td>\n",
       "      <td>3</td>\n",
       "      <td>4.0</td>\n",
       "    </tr>\n",
       "    <tr>\n",
       "      <th>2</th>\n",
       "      <td>1</td>\n",
       "      <td>6</td>\n",
       "      <td>4.0</td>\n",
       "    </tr>\n",
       "    <tr>\n",
       "      <th>3</th>\n",
       "      <td>1</td>\n",
       "      <td>47</td>\n",
       "      <td>5.0</td>\n",
       "    </tr>\n",
       "    <tr>\n",
       "      <th>4</th>\n",
       "      <td>1</td>\n",
       "      <td>70</td>\n",
       "      <td>3.0</td>\n",
       "    </tr>\n",
       "  </tbody>\n",
       "</table>\n",
       "</div>"
      ],
      "text/plain": [
       "   userId  movieId  rating\n",
       "0       1        1     4.0\n",
       "1       1        3     4.0\n",
       "2       1        6     4.0\n",
       "3       1       47     5.0\n",
       "4       1       70     3.0"
      ]
     },
     "execution_count": 92,
     "metadata": {},
     "output_type": "execute_result"
    }
   ],
   "source": [
    "utility_data.df.head()"
   ]
  },
  {
   "cell_type": "code",
   "execution_count": 93,
   "metadata": {},
   "outputs": [
    {
     "data": {
      "text/html": [
       "<div>\n",
       "<style scoped>\n",
       "    .dataframe tbody tr th:only-of-type {\n",
       "        vertical-align: middle;\n",
       "    }\n",
       "\n",
       "    .dataframe tbody tr th {\n",
       "        vertical-align: top;\n",
       "    }\n",
       "\n",
       "    .dataframe thead th {\n",
       "        text-align: right;\n",
       "    }\n",
       "</style>\n",
       "<table border=\"1\" class=\"dataframe\">\n",
       "  <thead>\n",
       "    <tr style=\"text-align: right;\">\n",
       "      <th></th>\n",
       "      <th>userId</th>\n",
       "      <th>movieId</th>\n",
       "      <th>rating</th>\n",
       "    </tr>\n",
       "  </thead>\n",
       "  <tbody>\n",
       "    <tr>\n",
       "      <th>0</th>\n",
       "      <td>1</td>\n",
       "      <td>1</td>\n",
       "      <td>4.0</td>\n",
       "    </tr>\n",
       "    <tr>\n",
       "      <th>1</th>\n",
       "      <td>1</td>\n",
       "      <td>3</td>\n",
       "      <td>4.0</td>\n",
       "    </tr>\n",
       "    <tr>\n",
       "      <th>2</th>\n",
       "      <td>1</td>\n",
       "      <td>6</td>\n",
       "      <td>4.0</td>\n",
       "    </tr>\n",
       "    <tr>\n",
       "      <th>3</th>\n",
       "      <td>1</td>\n",
       "      <td>47</td>\n",
       "      <td>5.0</td>\n",
       "    </tr>\n",
       "    <tr>\n",
       "      <th>4</th>\n",
       "      <td>1</td>\n",
       "      <td>70</td>\n",
       "      <td>3.0</td>\n",
       "    </tr>\n",
       "  </tbody>\n",
       "</table>\n",
       "</div>"
      ],
      "text/plain": [
       "   userId  movieId  rating\n",
       "0       1        1     4.0\n",
       "1       1        3     4.0\n",
       "2       1        6     4.0\n",
       "3       1       47     5.0\n",
       "4       1       70     3.0"
      ]
     },
     "execution_count": 93,
     "metadata": {},
     "output_type": "execute_result"
    }
   ],
   "source": [
    "rating_data.head()"
   ]
  },
  {
   "cell_type": "markdown",
   "metadata": {},
   "source": [
    "### Split Train-Test"
   ]
  },
  {
   "cell_type": "markdown",
   "metadata": {},
   "source": [
    "We then split the train-test data. We use the similar logic from previous section"
   ]
  },
  {
   "cell_type": "code",
   "execution_count": 94,
   "metadata": {},
   "outputs": [],
   "source": [
    "# Load library for deep copy\n",
    "import copy"
   ]
  },
  {
   "cell_type": "code",
   "execution_count": 95,
   "metadata": {},
   "outputs": [],
   "source": [
    "# Create a function\n",
    "def train_test_split(utility_data, test_size, random_state):\n",
    "    \"\"\"\n",
    "    Train test split the data\n",
    "    ref: https://surprise.readthedocs.io/en/stable/FAQ.html#split-data-for-unbiased-estimation-py\n",
    "\n",
    "    Parameters\n",
    "    ----------\n",
    "    utility_data : Surprise utility data\n",
    "        The sample of whole data set\n",
    "\n",
    "    test_size : float, default=0.2\n",
    "        The test size\n",
    "\n",
    "    random_state : int, default=42\n",
    "        For reproducibility\n",
    "\n",
    "    Returns\n",
    "    -------\n",
    "    full_data : Surprise utility data\n",
    "        The new utility data\n",
    "\n",
    "    train_data : Surprise format\n",
    "        The train data\n",
    "\n",
    "    test_data : Surprise format\n",
    "        The test data\n",
    "    \"\"\"\n",
    "    # Deep copy the utility_data\n",
    "    full_data = copy.deepcopy(utility_data)\n",
    "\n",
    "    # Generate random seed\n",
    "    np.random.seed(random_state)\n",
    "\n",
    "    # Shuffle the raw_ratings for reproducibility\n",
    "    raw_ratings = full_data.raw_ratings\n",
    "    np.random.shuffle(raw_ratings)\n",
    "\n",
    "    # Define the threshold\n",
    "    threshold = int((1-test_size) * len(raw_ratings))\n",
    "\n",
    "    # Split the data\n",
    "    train_raw_ratings = raw_ratings[:threshold]\n",
    "    test_raw_ratings = raw_ratings[threshold:]\n",
    "\n",
    "    # Get the data\n",
    "    full_data.raw_ratings = train_raw_ratings\n",
    "    train_data = full_data.build_full_trainset()\n",
    "    test_data = full_data.construct_testset(test_raw_ratings)\n",
    "\n",
    "    return full_data, train_data, test_data\n"
   ]
  },
  {
   "cell_type": "code",
   "execution_count": 96,
   "metadata": {},
   "outputs": [
    {
     "data": {
      "text/plain": [
       "(16608, 4152)"
      ]
     },
     "execution_count": 96,
     "metadata": {},
     "output_type": "execute_result"
    }
   ],
   "source": [
    "# Split the data\n",
    "full_data, train_data, test_data = train_test_split(utility_data,\n",
    "                                                    test_size = 0.2,\n",
    "                                                    random_state = 42)\n",
    "\n",
    "# Validate the splitting\n",
    "train_data.n_ratings, len(test_data)"
   ]
  },
  {
   "cell_type": "markdown",
   "metadata": {},
   "source": [
    "### Create the Model"
   ]
  },
  {
   "cell_type": "markdown",
   "metadata": {},
   "source": [
    "### Experimentation"
   ]
  },
  {
   "cell_type": "markdown",
   "metadata": {},
   "source": [
    "We want to train all model candidate with its hyperparameter so that we can compare which model + settings yield good result"
   ]
  },
  {
   "cell_type": "markdown",
   "metadata": {},
   "source": [
    "\n",
    "<img src=\"https://drive.google.com/uc?id=1UzWBpL1ycd2eyKYC3gJzmdBKyE1Zbefy\">"
   ]
  },
  {
   "cell_type": "markdown",
   "metadata": {},
   "source": [
    "Since *Hyperparameter* Is not yielded through learning process, we have to find it / set it to yield optimal model performance.\n",
    "\n",
    "Some methods  Hyperparameter Tuning :    \n",
    "\n",
    "- GridSearchCV\n",
    "\n",
    "  Fitting model through all combinations of hyperparameter values and compare each fit → which combinations yield the best objective\n",
    "\n",
    "- RandomizedSearchCV\n",
    "\n",
    "  Fitting Model only through sampled hyperparameter candidates. Much more efficient than GridSearchCV\n",
    "\n",
    "Hyperparameter Tuning require **Cross Validation** , making sure the during hyperparameter selection the performance measured is unbias"
   ]
  },
  {
   "cell_type": "markdown",
   "metadata": {},
   "source": [
    "<center>Cross Validation</center>\n",
    "<center> <img src=\"https://drive.google.com/uc?id=1Sa1vKjku_pI6WZoYfKqX7lmNeYcpxZNz\" width=600> </center>\n",
    "<center><a href=\"https://scikit-learn.org/stable/modules/cross_validation.html\">Source</a></center>\n"
   ]
  },
  {
   "cell_type": "markdown",
   "metadata": {},
   "source": [
    "**Hyperparameter** in best models\n",
    "to identify the hyperparameters in models, we need to read its documentation/ paper first,for **surprise** model the model documentation is [here](https://surprise.readthedocs.io/en/stable/knn_inspired.html#surprise.prediction_algorithms.knns.KNNBaseline)\n",
    "Hyperparameters :    \n",
    "\n",
    "- *k* (Number of Neigbors)\n",
    "- similarity function"
   ]
  },
  {
   "cell_type": "markdown",
   "metadata": {},
   "source": [
    "**Cross Validation** Method\n",
    "\n",
    "for this we will choose the **K-Fold** Cross Validation"
   ]
  },
  {
   "cell_type": "markdown",
   "metadata": {},
   "source": [
    "**Hyperparameter Method** : *RandomizedSearchCV*\n",
    "\n",
    "due to high computational cost if we use *GridSearchCV* we we will use *RandomizedSearchCV* ."
   ]
  },
  {
   "cell_type": "markdown",
   "metadata": {},
   "source": [
    "To run hyperparameter tuning, **surprise** package already have builtin function to run hyperparameter tuning"
   ]
  },
  {
   "cell_type": "markdown",
   "metadata": {},
   "source": [
    "**Model Candidate**\n",
    "\n",
    "1. Baseline Model ( Mean Prediction)  (does not have hyperparameter)\n",
    "2. Funk SVD, (Not SVD)"
   ]
  },
  {
   "cell_type": "code",
   "execution_count": 97,
   "metadata": {},
   "outputs": [],
   "source": [
    "# import Random Search CV\n",
    "from surprise.model_selection.search import RandomizedSearchCV\n",
    "\n",
    "# Load the model library\n",
    "# i.e. Baseline, SVD\n",
    "from surprise import AlgoBase, SVD"
   ]
  },
  {
   "cell_type": "markdown",
   "metadata": {},
   "source": [
    "Our Baseline Model just simply predict ratings using mean from all training data provided to model .\n",
    "\n",
    "Since `surprise` library does not provide mean prediction model , we have to create custom algorithm first.\n",
    "\n",
    "Guide `https://surprise.readthedocs.io/en/stable/building_custom_algo.html`"
   ]
  },
  {
   "cell_type": "code",
   "execution_count": 98,
   "metadata": {},
   "outputs": [],
   "source": [
    "class MeanPrediction(AlgoBase):\n",
    "    '''Baseline prediction. Return global mean as prediction'''\n",
    "    def __init__(self):\n",
    "        AlgoBase.__init__(self)\n",
    "\n",
    "    def fit(self, trainset):\n",
    "        '''Fit the train data'''\n",
    "        AlgoBase.fit(self, trainset)\n",
    "\n",
    "    def estimate(self, u, i):\n",
    "        '''Perform the estimation/prediction.'''\n",
    "        est = self.trainset.global_mean\n",
    "        return est"
   ]
  },
  {
   "cell_type": "markdown",
   "metadata": {},
   "source": [
    "**Train Baseline Model**\n",
    "\n",
    "Since our baseline model does not have hyperparameter, we will only cross validate the model"
   ]
  },
  {
   "cell_type": "code",
   "execution_count": 99,
   "metadata": {},
   "outputs": [
    {
     "data": {
      "text/plain": [
       "<__main__.MeanPrediction at 0x1e732681690>"
      ]
     },
     "execution_count": 99,
     "metadata": {},
     "output_type": "execute_result"
    }
   ],
   "source": [
    "# Creating baseline model instance\n",
    "model_baseline = MeanPrediction()\n",
    "model_baseline"
   ]
  },
  {
   "cell_type": "code",
   "execution_count": 100,
   "metadata": {},
   "outputs": [],
   "source": [
    "# Import the cross validation module\n",
    "from surprise.model_selection import cross_validate"
   ]
  },
  {
   "cell_type": "markdown",
   "metadata": {},
   "source": [
    "To perform cross validate\n",
    "`cross_validate(algo, data, cv, measures)`\n",
    "\n",
    "1. `algo` = Surprise model\n",
    "2. `data` = Surprise format data\n",
    "3. `cv` = number of fold of cross validation\n",
    "4. `measures` = metric to measure model performance\n",
    "\n"
   ]
  },
  {
   "cell_type": "code",
   "execution_count": 102,
   "metadata": {},
   "outputs": [],
   "source": [
    "# Use full_data for cross validation\n",
    "# Your results could be different because\n",
    "# there is no random seed stated within this functions\n",
    "cv_baseline = cross_validate(algo = model_baseline,\n",
    "                             data = full_data,\n",
    "                             cv = 5,\n",
    "                             measures = ['rmse'])"
   ]
  },
  {
   "cell_type": "code",
   "execution_count": 103,
   "metadata": {},
   "outputs": [
    {
     "data": {
      "text/plain": [
       "0.9981481819368682"
      ]
     },
     "execution_count": 103,
     "metadata": {},
     "output_type": "execute_result"
    }
   ],
   "source": [
    "# Extract CV results\n",
    "cv_baseline_rmse = cv_baseline['test_rmse'].mean()\n",
    "cv_baseline_rmse"
   ]
  },
  {
   "cell_type": "markdown",
   "metadata": {},
   "source": [
    "to perform RandomizedSearchCV, `RandomizedSearchCV(algo_class, param_distributions,cv)`\n",
    "\n",
    "- **algo_class** : surprise model class, in our case, we are using **KNNBaseline** class, so algo_class=KNNBaseline\n",
    "\n",
    "- **param_distributions** :  dictionary containing param grid, the values should be in `list`\n",
    "\n",
    "- **cv** : number of fold to split, commonly 5\n"
   ]
  },
  {
   "cell_type": "markdown",
   "metadata": {},
   "source": [
    "**Train SVD Model**\n",
    "\n",
    "Hyperparameter that are in Funk SVD models are :     \n",
    "- $\\gamma$ : Learning Rate\n",
    "- n_factors : Number of letent factor\n",
    "- $\\lambda$ : Regularization strength"
   ]
  },
  {
   "cell_type": "markdown",
   "metadata": {},
   "source": [
    "Hyperparameter Candidate :     \n",
    "1. Learning Rate ($\\gamma$)\n",
    "\n",
    "For this experiment we will try several values\n",
    "\n",
    "[1,0.1,0.01,0.001,0.0001]\n",
    "\n",
    "2. Number of latent factors\n",
    "For this experiment we will try some values :    \n",
    "\n",
    "[50,100,200]\n",
    "\n",
    "3. Regularization Strength\n",
    "\n",
    "[1,0.1,0.01,0.02]\n"
   ]
  },
  {
   "cell_type": "code",
   "execution_count": 104,
   "metadata": {},
   "outputs": [],
   "source": [
    "#create dictionary of parameter\n",
    "params_SVD = {'lr_all' : [1,0.1,0.01,0.001,0.0001], 'n_factors' : [50,100,200],\n",
    "              'reg_all' : [1,0.1,0.01,0.02]\n",
    "              }"
   ]
  },
  {
   "cell_type": "code",
   "execution_count": 105,
   "metadata": {},
   "outputs": [],
   "source": [
    "tuning_svd = RandomizedSearchCV(algo_class=SVD, param_distributions = params_SVD,\n",
    "                   cv=5\n",
    "                   )"
   ]
  },
  {
   "cell_type": "code",
   "execution_count": 106,
   "metadata": {},
   "outputs": [],
   "source": [
    "tuning_svd.fit(data=full_data)"
   ]
  },
  {
   "cell_type": "markdown",
   "metadata": {},
   "source": [
    "**Performance comparison**\n",
    "\n",
    "We can summarize the performance"
   ]
  },
  {
   "cell_type": "code",
   "execution_count": 107,
   "metadata": {},
   "outputs": [
    {
     "data": {
      "text/html": [
       "<div>\n",
       "<style scoped>\n",
       "    .dataframe tbody tr th:only-of-type {\n",
       "        vertical-align: middle;\n",
       "    }\n",
       "\n",
       "    .dataframe tbody tr th {\n",
       "        vertical-align: top;\n",
       "    }\n",
       "\n",
       "    .dataframe thead th {\n",
       "        text-align: right;\n",
       "    }\n",
       "</style>\n",
       "<table border=\"1\" class=\"dataframe\">\n",
       "  <thead>\n",
       "    <tr style=\"text-align: right;\">\n",
       "      <th></th>\n",
       "      <th>Model</th>\n",
       "      <th>CV Performance - RMSE</th>\n",
       "      <th>Model Condiguration</th>\n",
       "    </tr>\n",
       "  </thead>\n",
       "  <tbody>\n",
       "    <tr>\n",
       "      <th>0</th>\n",
       "      <td>Baseline</td>\n",
       "      <td>0.998148</td>\n",
       "      <td>N/A</td>\n",
       "    </tr>\n",
       "    <tr>\n",
       "      <th>1</th>\n",
       "      <td>Funk SVD</td>\n",
       "      <td>0.841329</td>\n",
       "      <td>{'lr_all': 0.01, 'n_factors': 50, 'reg_all': 0.1}</td>\n",
       "    </tr>\n",
       "  </tbody>\n",
       "</table>\n",
       "</div>"
      ],
      "text/plain": [
       "      Model  CV Performance - RMSE   \n",
       "0  Baseline               0.998148  \\\n",
       "1  Funk SVD               0.841329   \n",
       "\n",
       "                                 Model Condiguration  \n",
       "0                                                N/A  \n",
       "1  {'lr_all': 0.01, 'n_factors': 50, 'reg_all': 0.1}  "
      ]
     },
     "execution_count": 107,
     "metadata": {},
     "output_type": "execute_result"
    }
   ],
   "source": [
    "summary_df = pd.DataFrame({'Model': ['Baseline', 'Funk SVD'],\n",
    "                           'CV Performance - RMSE': [cv_baseline_rmse,tuning_svd.best_score['rmse'] ],\n",
    "                           'Model Condiguration':['N/A',f'{tuning_svd.best_params[\"rmse\"]}']})\n",
    "\n",
    "summary_df"
   ]
  },
  {
   "cell_type": "markdown",
   "metadata": {},
   "source": [
    "**Best Hyperparameter Combination**"
   ]
  },
  {
   "cell_type": "code",
   "execution_count": 108,
   "metadata": {},
   "outputs": [
    {
     "data": {
      "text/plain": [
       "{'rmse': {'lr_all': 0.01, 'n_factors': 50, 'reg_all': 0.1},\n",
       " 'mae': {'lr_all': 0.01, 'n_factors': 50, 'reg_all': 0.1}}"
      ]
     },
     "execution_count": 108,
     "metadata": {},
     "output_type": "execute_result"
    }
   ],
   "source": [
    "tuning_svd.best_params"
   ]
  },
  {
   "cell_type": "markdown",
   "metadata": {},
   "source": [
    "Finally, we retrain the best model with tuned parameters"
   ]
  },
  {
   "cell_type": "code",
   "execution_count": 109,
   "metadata": {},
   "outputs": [],
   "source": [
    "best_params_svd = tuning_svd.best_params['rmse']"
   ]
  },
  {
   "cell_type": "code",
   "execution_count": 110,
   "metadata": {},
   "outputs": [
    {
     "data": {
      "text/plain": [
       "<surprise.prediction_algorithms.matrix_factorization.SVD at 0x1e732bdc6a0>"
      ]
     },
     "execution_count": 110,
     "metadata": {},
     "output_type": "execute_result"
    }
   ],
   "source": [
    "# Create object\n",
    "model_best = SVD(**best_params_svd)\n",
    "\n",
    "# Retrain on whole train dataset\n",
    "model_best.fit(train_data)"
   ]
  },
  {
   "cell_type": "markdown",
   "metadata": {},
   "source": [
    "### Evaluate the Best Model"
   ]
  },
  {
   "cell_type": "markdown",
   "metadata": {},
   "source": [
    "#### Evaluating RMSE\n",
    "\n",
    "After finding the best model, we can sanity check the performance on the test dataset"
   ]
  },
  {
   "cell_type": "code",
   "execution_count": 111,
   "metadata": {},
   "outputs": [],
   "source": [
    "# import performance library\n",
    "from surprise import accuracy"
   ]
  },
  {
   "cell_type": "markdown",
   "metadata": {},
   "source": [
    "Next step, we predict the test set using our best model"
   ]
  },
  {
   "cell_type": "code",
   "execution_count": 112,
   "metadata": {},
   "outputs": [
    {
     "name": "stdout",
     "output_type": "stream",
     "text": [
      "RMSE: 0.8256\n"
     ]
    },
    {
     "data": {
      "text/plain": [
       "0.8255889489714877"
      ]
     },
     "execution_count": 112,
     "metadata": {},
     "output_type": "execute_result"
    }
   ],
   "source": [
    "test_pred = model_best.test(test_data)\n",
    "test_rmse = accuracy.rmse(test_pred)\n",
    "test_rmse"
   ]
  },
  {
   "cell_type": "markdown",
   "metadata": {},
   "source": [
    "To summarize"
   ]
  },
  {
   "cell_type": "code",
   "execution_count": 114,
   "metadata": {},
   "outputs": [
    {
     "data": {
      "text/html": [
       "<div>\n",
       "<style scoped>\n",
       "    .dataframe tbody tr th:only-of-type {\n",
       "        vertical-align: middle;\n",
       "    }\n",
       "\n",
       "    .dataframe tbody tr th {\n",
       "        vertical-align: top;\n",
       "    }\n",
       "\n",
       "    .dataframe thead th {\n",
       "        text-align: right;\n",
       "    }\n",
       "</style>\n",
       "<table border=\"1\" class=\"dataframe\">\n",
       "  <thead>\n",
       "    <tr style=\"text-align: right;\">\n",
       "      <th></th>\n",
       "      <th>Model</th>\n",
       "      <th>RMSE-Tuning</th>\n",
       "      <th>RMSE-Test</th>\n",
       "    </tr>\n",
       "  </thead>\n",
       "  <tbody>\n",
       "    <tr>\n",
       "      <th>0</th>\n",
       "      <td>User to User CF</td>\n",
       "      <td>0.841329</td>\n",
       "      <td>0.825589</td>\n",
       "    </tr>\n",
       "  </tbody>\n",
       "</table>\n",
       "</div>"
      ],
      "text/plain": [
       "             Model  RMSE-Tuning  RMSE-Test\n",
       "0  User to User CF     0.841329   0.825589"
      ]
     },
     "execution_count": 114,
     "metadata": {},
     "output_type": "execute_result"
    }
   ],
   "source": [
    "summary_test_df = pd.DataFrame({'Model' : ['User to User CF'],\n",
    "                                'RMSE-Tuning': [tuning_svd.best_score['rmse']],\n",
    "                                'RMSE-Test': [test_rmse]})\n",
    "\n",
    "summary_test_df"
   ]
  },
  {
   "cell_type": "markdown",
   "metadata": {},
   "source": [
    "Now, the model can yield a good (if not great) prediction."
   ]
  },
  {
   "cell_type": "markdown",
   "metadata": {},
   "source": [
    "___________________"
   ]
  },
  {
   "cell_type": "markdown",
   "metadata": {},
   "source": [
    "# **3.Predictions / Generating Recommendation**"
   ]
  },
  {
   "cell_type": "markdown",
   "metadata": {},
   "source": [
    "Decision Process is to recommend items to user\n",
    "from our trained model\n",
    "\n",
    "<image src=\"https://www.mdpi.com/applsci/applsci-10-05510/article_deploy/html/images/applsci-10-05510-g001.png\" image>\n",
    "\n",
    "\n",
    "\n",
    "\n",
    "1. User to User Collaborative Filtering\n",
    "\n",
    "  We already trained our best model on full dataset, now its time to utilize our model to generate recommendation.\n",
    "\n"
   ]
  },
  {
   "cell_type": "markdown",
   "metadata": {},
   "source": [
    "How do we generate recommendation ?\n",
    "\n",
    "\n",
    "To generate recommendation :\n",
    "- predict all movies or only unseen movies rating from given users\n",
    "- followed by ordering the movies by its predicted rat"
   ]
  },
  {
   "cell_type": "markdown",
   "metadata": {},
   "source": [
    "## Predict with Best Model : User to User Collaborative Filtering"
   ]
  },
  {
   "cell_type": "code",
   "execution_count": 116,
   "metadata": {},
   "outputs": [
    {
     "name": "stdout",
     "output_type": "stream",
     "text": [
      "Help on method predict in module surprise.prediction_algorithms.algo_base:\n",
      "\n",
      "predict(uid, iid, r_ui=None, clip=True, verbose=False) method of surprise.prediction_algorithms.matrix_factorization.SVD instance\n",
      "    Compute the rating prediction for given user and item.\n",
      "    \n",
      "    The ``predict`` method converts raw ids to inner ids and then calls the\n",
      "    ``estimate`` method which is defined in every derived class. If the\n",
      "    prediction is impossible (e.g. because the user and/or the item is\n",
      "    unknown), the prediction is set according to\n",
      "    :meth:`default_prediction()\n",
      "    <surprise.prediction_algorithms.algo_base.AlgoBase.default_prediction>`.\n",
      "    \n",
      "    Args:\n",
      "        uid: (Raw) id of the user. See :ref:`this note<raw_inner_note>`.\n",
      "        iid: (Raw) id of the item. See :ref:`this note<raw_inner_note>`.\n",
      "        r_ui(float): The true rating :math:`r_{ui}`. Optional, default is\n",
      "            ``None``.\n",
      "        clip(bool): Whether to clip the estimation into the rating scale.\n",
      "            For example, if :math:`\\hat{r}_{ui}` is :math:`5.5` while the\n",
      "            rating scale is :math:`[1, 5]`, then :math:`\\hat{r}_{ui}` is\n",
      "            set to :math:`5`. Same goes if :math:`\\hat{r}_{ui} < 1`.\n",
      "            Default is ``True``.\n",
      "        verbose(bool): Whether to print details of the prediction.  Default\n",
      "            is False.\n",
      "    \n",
      "    Returns:\n",
      "        A :obj:`Prediction            <surprise.prediction_algorithms.predictions.Prediction>` object\n",
      "        containing:\n",
      "    \n",
      "        - The (raw) user id ``uid``.\n",
      "        - The (raw) item id ``iid``.\n",
      "        - The true rating ``r_ui`` (:math:`r_{ui}`).\n",
      "        - The estimated rating (:math:`\\hat{r}_{ui}`).\n",
      "        - Some additional details about the prediction that might be useful\n",
      "          for later analysis.\n",
      "\n"
     ]
    }
   ],
   "source": [
    "# Recommendation based on Best Models\n",
    "# We will try to recommend on sample userid ,userId 1 & 99\n",
    "\n",
    "# We can use model_best.predict method\n",
    "help(model_best.predict)"
   ]
  },
  {
   "cell_type": "markdown",
   "metadata": {},
   "source": [
    "`model_best.predict` has argument\n",
    "- `uid` (i.e., the `userId`) and\n",
    "- `iid` (i.e., the item ID or `movieId`)"
   ]
  },
  {
   "cell_type": "markdown",
   "metadata": {},
   "source": [
    "### Let's predict what is the rating of user 9 to movie 10"
   ]
  },
  {
   "cell_type": "code",
   "execution_count": 118,
   "metadata": {},
   "outputs": [],
   "source": [
    "sample_prediction = model_best.predict(uid = 9,\n",
    "                                      iid = 10)"
   ]
  },
  {
   "cell_type": "code",
   "execution_count": 119,
   "metadata": {},
   "outputs": [
    {
     "data": {
      "text/plain": [
       "Prediction(uid=9, iid=10, r_ui=None, est=4.201534621070885, details={'was_impossible': False})"
      ]
     },
     "execution_count": 119,
     "metadata": {},
     "output_type": "execute_result"
    }
   ],
   "source": [
    "sample_prediction"
   ]
  },
  {
   "cell_type": "markdown",
   "metadata": {},
   "source": [
    "The results tell us\n",
    "- `r_ui` : actual rating --> `None`, means user 9 have yet rated movie 10\n",
    "- `est` : the estimated rating from our model\n",
    "- `details` : whether prediction is impossible or not. So it's possible to predict."
   ]
  },
  {
   "cell_type": "markdown",
   "metadata": {},
   "source": [
    "### Let's predict all the unseen/unrated movie by userId 9"
   ]
  },
  {
   "cell_type": "markdown",
   "metadata": {},
   "source": [
    "**First, we find the unrated movie id from user id 9**"
   ]
  },
  {
   "cell_type": "code",
   "execution_count": 121,
   "metadata": {},
   "outputs": [
    {
     "name": "stdout",
     "output_type": "stream",
     "text": [
      "{54272, 1, 3, 1028, 6, 2567, 520, 2571, 1036, 54286, 527, 152081, 2078, 32, 2081, 34, 1060, 1573, 39, 3623, 3624, 3114, 33836, 47, 1584, 1073, 56367, 1586, 48, 3633, 3638, 1080, 2105, 2115, 2628, 69, 70, 1608, 1097, 586, 3147, 588, 589, 590, 587, 592, 593, 1617, 2640, 8783, 597, 2642, 3671, 3160, 3157, 26712, 41566, 608, 2657, 30816, 48738, 104, 110, 2671, 1136, 2160, 631, 2683, 4226, 5254, 1682, 150, 153, 1690, 108190, 44191, 44195, 165, 44199, 1704, 1196, 38061, 1198, 1203, 1204, 3253, 160438, 50872, 185, 1210, 186, 1722, 3256, 1214, 1726, 7361, 1220, 3268, 106696, 1225, 2762, 2248, 1230, 2770, 4306, 33493, 1240, 6874, 2268, 6365, 1246, 1247, 736, 1245, 1250, 227, 737, 5349, 6373, 2791, 235, 1259, 33004, 750, 1777, 1266, 3825, 2804, 1269, 1270, 2294, 1784, 3826, 252, 1278, 2302, 34048, 5378, 111362, 260, 780, 60684, 7438, 5903, 781, 2321, 4369, 786, 34072, 4890, 1307, 4896, 7458, 292, 296, 5418, 300, 76077, 7981, 2355, 1333, 3897, 316, 318, 2371, 5445, 329, 32587, 3916, 333, 1356, 1359, 852, 51540, 103253, 343, 345, 858, 2395, 2394, 349, 2396, 4447, 1377, 353, 4963, 356, 2406, 5481, 364, 3949, 56174, 71535, 4973, 1393, 4979, 1909, 380, 1405, 1923, 4995, 904, 91529, 3977, 6539, 908, 59784, 61323, 2959, 33166, 6541, 914, 3987, 410, 3996, 924, 5026, 1961, 53161, 3499, 1967, 109487, 433, 434, 435, 953, 442, 4034, 46530, 454, 455, 2126, 1483, 45517, 3534, 466, 2003, 2005, 2006, 480, 2529, 2028, 492, 91630, 7153, 1527, 3578, 1021}\n"
     ]
    }
   ],
   "source": [
    "# Get unique movieId\n",
    "unique_movie_id = set(rating_data['movieId'])\n",
    "print(unique_movie_id)"
   ]
  },
  {
   "cell_type": "code",
   "execution_count": 122,
   "metadata": {},
   "outputs": [
    {
     "name": "stdout",
     "output_type": "stream",
     "text": [
      "{5378, 5445, 5481, 1198, 1270}\n"
     ]
    }
   ],
   "source": [
    "# Get movieId that is rated by user id 9\n",
    "rated_movie_id = set(rating_data.loc[rating_data['userId']==9, 'movieId'])\n",
    "print(rated_movie_id)"
   ]
  },
  {
   "cell_type": "code",
   "execution_count": 123,
   "metadata": {},
   "outputs": [
    {
     "name": "stdout",
     "output_type": "stream",
     "text": [
      "{54272, 1, 3, 1028, 6, 2567, 520, 2571, 1036, 54286, 527, 152081, 2078, 32, 2081, 34, 1060, 1573, 39, 3623, 3624, 3114, 33836, 47, 1584, 1073, 56367, 1586, 48, 3633, 3638, 1080, 2105, 2115, 2628, 69, 70, 1608, 1097, 586, 3147, 588, 589, 590, 587, 592, 593, 1617, 2640, 8783, 597, 2642, 3671, 3160, 3157, 26712, 41566, 608, 2657, 30816, 48738, 104, 110, 2671, 1136, 2160, 631, 2683, 4226, 5254, 1682, 150, 153, 1690, 108190, 44191, 44195, 165, 44199, 1704, 1196, 38061, 1203, 1204, 3253, 160438, 50872, 185, 1210, 186, 1722, 3256, 1214, 1726, 7361, 1220, 3268, 106696, 1225, 2762, 2248, 1230, 2770, 4306, 33493, 1240, 6874, 2268, 6365, 1246, 1247, 736, 1245, 1250, 227, 737, 5349, 6373, 2791, 235, 1259, 33004, 750, 1777, 1266, 3825, 2804, 1269, 2294, 1784, 3826, 252, 1278, 2302, 34048, 111362, 260, 780, 60684, 7438, 5903, 781, 2321, 4369, 786, 34072, 4890, 1307, 4896, 7458, 292, 296, 5418, 300, 76077, 7981, 2355, 1333, 3897, 316, 318, 2371, 329, 32587, 3916, 333, 1356, 1359, 852, 51540, 103253, 343, 345, 858, 2395, 2394, 349, 2396, 4447, 1377, 353, 4963, 356, 2406, 364, 3949, 56174, 71535, 4973, 1393, 4979, 1909, 380, 1405, 1923, 4995, 904, 91529, 3977, 6539, 908, 59784, 61323, 2959, 33166, 6541, 914, 3987, 410, 3996, 924, 5026, 1961, 53161, 3499, 1967, 109487, 433, 434, 435, 953, 442, 4034, 46530, 454, 455, 2126, 1483, 45517, 3534, 466, 2003, 2005, 2006, 480, 2529, 2028, 492, 91630, 7153, 1527, 3578, 1021}\n"
     ]
    }
   ],
   "source": [
    "# Find unrated movieId\n",
    "# Use set operation\n",
    "# unrateddId = wholeId - ratedId\n",
    "unrated_movie_id = unique_movie_id.difference(rated_movie_id)\n",
    "print(unrated_movie_id)"
   ]
  },
  {
   "cell_type": "code",
   "execution_count": 124,
   "metadata": {},
   "outputs": [],
   "source": [
    "# Let's create a function\n",
    "def get_unrated_item(userid, rating_data):\n",
    "    \"\"\"\n",
    "    Get unrated item id from a user id\n",
    "\n",
    "    Parameters\n",
    "    ----------\n",
    "    userid : int\n",
    "        The user id\n",
    "\n",
    "    rating_data : pandas DataFrame\n",
    "        The rating data\n",
    "\n",
    "    Returns\n",
    "    -------\n",
    "    unrated_item_id : set\n",
    "        The unrated item id\n",
    "    \"\"\"\n",
    "    # Find the whole item id\n",
    "    unique_item_id = set(rating_data['movieId'])\n",
    "\n",
    "    # Find the item id that was rated by user id\n",
    "    rated_item_id = set(rating_data.loc[rating_data['userId']==userid, 'movieId'])\n",
    "\n",
    "    # Find the unrated item id\n",
    "    unrated_item_id = unique_item_id.difference(rated_item_id)\n",
    "\n",
    "    return unrated_item_id\n"
   ]
  },
  {
   "cell_type": "code",
   "execution_count": 125,
   "metadata": {},
   "outputs": [
    {
     "name": "stdout",
     "output_type": "stream",
     "text": [
      "{54272, 1, 3, 1028, 6, 2567, 520, 2571, 1036, 54286, 527, 152081, 2078, 32, 2081, 34, 1060, 1573, 39, 3623, 3624, 3114, 33836, 47, 1584, 1073, 56367, 1586, 48, 3633, 3638, 1080, 2105, 2115, 2628, 69, 70, 1608, 1097, 586, 3147, 588, 589, 590, 587, 592, 593, 1617, 2640, 8783, 597, 2642, 3671, 3160, 3157, 26712, 41566, 608, 2657, 30816, 48738, 104, 110, 2671, 1136, 2160, 631, 2683, 4226, 5254, 1682, 150, 153, 1690, 108190, 44191, 44195, 165, 44199, 1704, 1196, 38061, 1203, 1204, 3253, 160438, 50872, 185, 1210, 186, 1722, 3256, 1214, 1726, 7361, 1220, 3268, 106696, 1225, 2762, 2248, 1230, 2770, 4306, 33493, 1240, 6874, 2268, 6365, 1246, 1247, 736, 1245, 1250, 227, 737, 5349, 6373, 2791, 235, 1259, 33004, 750, 1777, 1266, 3825, 2804, 1269, 2294, 1784, 3826, 252, 1278, 2302, 34048, 111362, 260, 780, 60684, 7438, 5903, 781, 2321, 4369, 786, 34072, 4890, 1307, 4896, 7458, 292, 296, 5418, 300, 76077, 7981, 2355, 1333, 3897, 316, 318, 2371, 329, 32587, 3916, 333, 1356, 1359, 852, 51540, 103253, 343, 345, 858, 2395, 2394, 349, 2396, 4447, 1377, 353, 4963, 356, 2406, 364, 3949, 56174, 71535, 4973, 1393, 4979, 1909, 380, 1405, 1923, 4995, 904, 91529, 3977, 6539, 908, 59784, 61323, 2959, 33166, 6541, 914, 3987, 410, 3996, 924, 5026, 1961, 53161, 3499, 1967, 109487, 433, 434, 435, 953, 442, 4034, 46530, 454, 455, 2126, 1483, 45517, 3534, 466, 2003, 2005, 2006, 480, 2529, 2028, 492, 91630, 7153, 1527, 3578, 1021}\n"
     ]
    }
   ],
   "source": [
    "unrated_movie_id = get_unrated_item(userid=9, rating_data=rating_data)\n",
    "print(unrated_movie_id)"
   ]
  },
  {
   "cell_type": "markdown",
   "metadata": {},
   "source": [
    "**Then, we create the prediction from the unrated movie**"
   ]
  },
  {
   "cell_type": "code",
   "execution_count": 126,
   "metadata": {},
   "outputs": [
    {
     "data": {
      "text/plain": [
       "{'userId': 9, 'movieId': [], 'predicted_rating': []}"
      ]
     },
     "execution_count": 126,
     "metadata": {},
     "output_type": "execute_result"
    }
   ],
   "source": [
    "# Initialize dict\n",
    "predicted_unrated_movie = {\n",
    "    'userId': 9,\n",
    "    'movieId': [],\n",
    "    'predicted_rating': []\n",
    "}\n",
    "\n",
    "predicted_unrated_movie"
   ]
  },
  {
   "cell_type": "code",
   "execution_count": 127,
   "metadata": {},
   "outputs": [],
   "source": [
    "# Loop for over all unrated movie Id\n",
    "for id in unrated_movie_id:\n",
    "    # Create a prediction\n",
    "    pred_id = model_best.predict(uid = predicted_unrated_movie['userId'],\n",
    "                                 iid = id)\n",
    "\n",
    "    # Append\n",
    "    predicted_unrated_movie['movieId'].append(id)\n",
    "    predicted_unrated_movie['predicted_rating'].append(pred_id.est)"
   ]
  },
  {
   "cell_type": "code",
   "execution_count": 128,
   "metadata": {},
   "outputs": [
    {
     "data": {
      "text/html": [
       "<div>\n",
       "<style scoped>\n",
       "    .dataframe tbody tr th:only-of-type {\n",
       "        vertical-align: middle;\n",
       "    }\n",
       "\n",
       "    .dataframe tbody tr th {\n",
       "        vertical-align: top;\n",
       "    }\n",
       "\n",
       "    .dataframe thead th {\n",
       "        text-align: right;\n",
       "    }\n",
       "</style>\n",
       "<table border=\"1\" class=\"dataframe\">\n",
       "  <thead>\n",
       "    <tr style=\"text-align: right;\">\n",
       "      <th></th>\n",
       "      <th>userId</th>\n",
       "      <th>movieId</th>\n",
       "      <th>predicted_rating</th>\n",
       "    </tr>\n",
       "  </thead>\n",
       "  <tbody>\n",
       "    <tr>\n",
       "      <th>0</th>\n",
       "      <td>9</td>\n",
       "      <td>54272</td>\n",
       "      <td>4.103527</td>\n",
       "    </tr>\n",
       "    <tr>\n",
       "      <th>1</th>\n",
       "      <td>9</td>\n",
       "      <td>1</td>\n",
       "      <td>4.403096</td>\n",
       "    </tr>\n",
       "    <tr>\n",
       "      <th>2</th>\n",
       "      <td>9</td>\n",
       "      <td>3</td>\n",
       "      <td>3.718131</td>\n",
       "    </tr>\n",
       "    <tr>\n",
       "      <th>3</th>\n",
       "      <td>9</td>\n",
       "      <td>1028</td>\n",
       "      <td>4.283774</td>\n",
       "    </tr>\n",
       "    <tr>\n",
       "      <th>4</th>\n",
       "      <td>9</td>\n",
       "      <td>6</td>\n",
       "      <td>4.218377</td>\n",
       "    </tr>\n",
       "    <tr>\n",
       "      <th>...</th>\n",
       "      <td>...</td>\n",
       "      <td>...</td>\n",
       "      <td>...</td>\n",
       "    </tr>\n",
       "    <tr>\n",
       "      <th>238</th>\n",
       "      <td>9</td>\n",
       "      <td>91630</td>\n",
       "      <td>4.350271</td>\n",
       "    </tr>\n",
       "    <tr>\n",
       "      <th>239</th>\n",
       "      <td>9</td>\n",
       "      <td>7153</td>\n",
       "      <td>4.647837</td>\n",
       "    </tr>\n",
       "    <tr>\n",
       "      <th>240</th>\n",
       "      <td>9</td>\n",
       "      <td>1527</td>\n",
       "      <td>4.146413</td>\n",
       "    </tr>\n",
       "    <tr>\n",
       "      <th>241</th>\n",
       "      <td>9</td>\n",
       "      <td>3578</td>\n",
       "      <td>4.366002</td>\n",
       "    </tr>\n",
       "    <tr>\n",
       "      <th>242</th>\n",
       "      <td>9</td>\n",
       "      <td>1021</td>\n",
       "      <td>2.936779</td>\n",
       "    </tr>\n",
       "  </tbody>\n",
       "</table>\n",
       "<p>243 rows × 3 columns</p>\n",
       "</div>"
      ],
      "text/plain": [
       "     userId  movieId  predicted_rating\n",
       "0         9    54272          4.103527\n",
       "1         9        1          4.403096\n",
       "2         9        3          3.718131\n",
       "3         9     1028          4.283774\n",
       "4         9        6          4.218377\n",
       "..      ...      ...               ...\n",
       "238       9    91630          4.350271\n",
       "239       9     7153          4.647837\n",
       "240       9     1527          4.146413\n",
       "241       9     3578          4.366002\n",
       "242       9     1021          2.936779\n",
       "\n",
       "[243 rows x 3 columns]"
      ]
     },
     "execution_count": 128,
     "metadata": {},
     "output_type": "execute_result"
    }
   ],
   "source": [
    "# Convert to dataframe\n",
    "predicted_unrated_movie = pd.DataFrame(predicted_unrated_movie)\n",
    "predicted_unrated_movie"
   ]
  },
  {
   "cell_type": "code",
   "execution_count": 129,
   "metadata": {},
   "outputs": [
    {
     "data": {
      "text/html": [
       "<div>\n",
       "<style scoped>\n",
       "    .dataframe tbody tr th:only-of-type {\n",
       "        vertical-align: middle;\n",
       "    }\n",
       "\n",
       "    .dataframe tbody tr th {\n",
       "        vertical-align: top;\n",
       "    }\n",
       "\n",
       "    .dataframe thead th {\n",
       "        text-align: right;\n",
       "    }\n",
       "</style>\n",
       "<table border=\"1\" class=\"dataframe\">\n",
       "  <thead>\n",
       "    <tr style=\"text-align: right;\">\n",
       "      <th></th>\n",
       "      <th>userId</th>\n",
       "      <th>movieId</th>\n",
       "      <th>predicted_rating</th>\n",
       "    </tr>\n",
       "  </thead>\n",
       "  <tbody>\n",
       "    <tr>\n",
       "      <th>160</th>\n",
       "      <td>9</td>\n",
       "      <td>318</td>\n",
       "      <td>4.910305</td>\n",
       "    </tr>\n",
       "    <tr>\n",
       "      <th>122</th>\n",
       "      <td>9</td>\n",
       "      <td>750</td>\n",
       "      <td>4.854482</td>\n",
       "    </tr>\n",
       "    <tr>\n",
       "      <th>196</th>\n",
       "      <td>9</td>\n",
       "      <td>904</td>\n",
       "      <td>4.806627</td>\n",
       "    </tr>\n",
       "    <tr>\n",
       "      <th>83</th>\n",
       "      <td>9</td>\n",
       "      <td>1204</td>\n",
       "      <td>4.788168</td>\n",
       "    </tr>\n",
       "    <tr>\n",
       "      <th>203</th>\n",
       "      <td>9</td>\n",
       "      <td>2959</td>\n",
       "      <td>4.765678</td>\n",
       "    </tr>\n",
       "    <tr>\n",
       "      <th>...</th>\n",
       "      <td>...</td>\n",
       "      <td>...</td>\n",
       "      <td>...</td>\n",
       "    </tr>\n",
       "    <tr>\n",
       "      <th>96</th>\n",
       "      <td>9</td>\n",
       "      <td>3268</td>\n",
       "      <td>3.007112</td>\n",
       "    </tr>\n",
       "    <tr>\n",
       "      <th>219</th>\n",
       "      <td>9</td>\n",
       "      <td>435</td>\n",
       "      <td>2.963187</td>\n",
       "    </tr>\n",
       "    <tr>\n",
       "      <th>242</th>\n",
       "      <td>9</td>\n",
       "      <td>1021</td>\n",
       "      <td>2.936779</td>\n",
       "    </tr>\n",
       "    <tr>\n",
       "      <th>130</th>\n",
       "      <td>9</td>\n",
       "      <td>3826</td>\n",
       "      <td>2.787664</td>\n",
       "    </tr>\n",
       "    <tr>\n",
       "      <th>51</th>\n",
       "      <td>9</td>\n",
       "      <td>2642</td>\n",
       "      <td>2.691656</td>\n",
       "    </tr>\n",
       "  </tbody>\n",
       "</table>\n",
       "<p>243 rows × 3 columns</p>\n",
       "</div>"
      ],
      "text/plain": [
       "     userId  movieId  predicted_rating\n",
       "160       9      318          4.910305\n",
       "122       9      750          4.854482\n",
       "196       9      904          4.806627\n",
       "83        9     1204          4.788168\n",
       "203       9     2959          4.765678\n",
       "..      ...      ...               ...\n",
       "96        9     3268          3.007112\n",
       "219       9      435          2.963187\n",
       "242       9     1021          2.936779\n",
       "130       9     3826          2.787664\n",
       "51        9     2642          2.691656\n",
       "\n",
       "[243 rows x 3 columns]"
      ]
     },
     "execution_count": 129,
     "metadata": {},
     "output_type": "execute_result"
    }
   ],
   "source": [
    "# Sort the predicted rating values\n",
    "predicted_unrated_movie = predicted_unrated_movie.sort_values('predicted_rating',\n",
    "                                                              ascending = False)\n",
    "\n",
    "predicted_unrated_movie"
   ]
  },
  {
   "cell_type": "code",
   "execution_count": 130,
   "metadata": {},
   "outputs": [],
   "source": [
    "# Let's create this into a function\n",
    "def get_pred_unrated_item(userid, estimator, unrated_item_id):\n",
    "    \"\"\"\n",
    "    Get the predicted unrated item id from user id\n",
    "\n",
    "    Parameters\n",
    "    ----------\n",
    "    userid : int\n",
    "        The user id\n",
    "\n",
    "    estimator : Surprise object\n",
    "        The estimator\n",
    "\n",
    "    unrated_item_id : set\n",
    "        The unrated item id\n",
    "\n",
    "    Returns\n",
    "    -------\n",
    "    pred_data : pandas Dataframe\n",
    "        The predicted rating of unrated item of user id\n",
    "    \"\"\"\n",
    "    # Initialize dict\n",
    "    pred_dict = {\n",
    "        'userId': userid,\n",
    "        'movieId': [],\n",
    "        'predicted_rating': []\n",
    "    }\n",
    "\n",
    "    # Loop for over all unrated movie Id\n",
    "    for id in unrated_item_id:\n",
    "        # Create a prediction\n",
    "        pred_id = estimator.predict(uid = pred_dict['userId'],\n",
    "                                    iid = id)\n",
    "\n",
    "        # Append\n",
    "        pred_dict['movieId'].append(id)\n",
    "        pred_dict['predicted_rating'].append(pred_id.est)\n",
    "\n",
    "    # Create a dataframe\n",
    "    pred_data = pd.DataFrame(pred_dict).sort_values('predicted_rating',\n",
    "                                                     ascending = False)\n",
    "\n",
    "    return pred_data"
   ]
  },
  {
   "cell_type": "code",
   "execution_count": 131,
   "metadata": {},
   "outputs": [
    {
     "data": {
      "text/html": [
       "<div>\n",
       "<style scoped>\n",
       "    .dataframe tbody tr th:only-of-type {\n",
       "        vertical-align: middle;\n",
       "    }\n",
       "\n",
       "    .dataframe tbody tr th {\n",
       "        vertical-align: top;\n",
       "    }\n",
       "\n",
       "    .dataframe thead th {\n",
       "        text-align: right;\n",
       "    }\n",
       "</style>\n",
       "<table border=\"1\" class=\"dataframe\">\n",
       "  <thead>\n",
       "    <tr style=\"text-align: right;\">\n",
       "      <th></th>\n",
       "      <th>userId</th>\n",
       "      <th>movieId</th>\n",
       "      <th>predicted_rating</th>\n",
       "    </tr>\n",
       "  </thead>\n",
       "  <tbody>\n",
       "    <tr>\n",
       "      <th>160</th>\n",
       "      <td>9</td>\n",
       "      <td>318</td>\n",
       "      <td>4.910305</td>\n",
       "    </tr>\n",
       "    <tr>\n",
       "      <th>122</th>\n",
       "      <td>9</td>\n",
       "      <td>750</td>\n",
       "      <td>4.854482</td>\n",
       "    </tr>\n",
       "    <tr>\n",
       "      <th>196</th>\n",
       "      <td>9</td>\n",
       "      <td>904</td>\n",
       "      <td>4.806627</td>\n",
       "    </tr>\n",
       "    <tr>\n",
       "      <th>83</th>\n",
       "      <td>9</td>\n",
       "      <td>1204</td>\n",
       "      <td>4.788168</td>\n",
       "    </tr>\n",
       "    <tr>\n",
       "      <th>203</th>\n",
       "      <td>9</td>\n",
       "      <td>2959</td>\n",
       "      <td>4.765678</td>\n",
       "    </tr>\n",
       "    <tr>\n",
       "      <th>...</th>\n",
       "      <td>...</td>\n",
       "      <td>...</td>\n",
       "      <td>...</td>\n",
       "    </tr>\n",
       "    <tr>\n",
       "      <th>96</th>\n",
       "      <td>9</td>\n",
       "      <td>3268</td>\n",
       "      <td>3.007112</td>\n",
       "    </tr>\n",
       "    <tr>\n",
       "      <th>219</th>\n",
       "      <td>9</td>\n",
       "      <td>435</td>\n",
       "      <td>2.963187</td>\n",
       "    </tr>\n",
       "    <tr>\n",
       "      <th>242</th>\n",
       "      <td>9</td>\n",
       "      <td>1021</td>\n",
       "      <td>2.936779</td>\n",
       "    </tr>\n",
       "    <tr>\n",
       "      <th>130</th>\n",
       "      <td>9</td>\n",
       "      <td>3826</td>\n",
       "      <td>2.787664</td>\n",
       "    </tr>\n",
       "    <tr>\n",
       "      <th>51</th>\n",
       "      <td>9</td>\n",
       "      <td>2642</td>\n",
       "      <td>2.691656</td>\n",
       "    </tr>\n",
       "  </tbody>\n",
       "</table>\n",
       "<p>243 rows × 3 columns</p>\n",
       "</div>"
      ],
      "text/plain": [
       "     userId  movieId  predicted_rating\n",
       "160       9      318          4.910305\n",
       "122       9      750          4.854482\n",
       "196       9      904          4.806627\n",
       "83        9     1204          4.788168\n",
       "203       9     2959          4.765678\n",
       "..      ...      ...               ...\n",
       "96        9     3268          3.007112\n",
       "219       9      435          2.963187\n",
       "242       9     1021          2.936779\n",
       "130       9     3826          2.787664\n",
       "51        9     2642          2.691656\n",
       "\n",
       "[243 rows x 3 columns]"
      ]
     },
     "execution_count": 131,
     "metadata": {},
     "output_type": "execute_result"
    }
   ],
   "source": [
    "predicted_unrated_movie = get_pred_unrated_item(userid = 9,\n",
    "                                                estimator = model_best,\n",
    "                                                unrated_item_id = unrated_movie_id)\n",
    "\n",
    "predicted_unrated_movie"
   ]
  },
  {
   "cell_type": "markdown",
   "metadata": {},
   "source": [
    "And then we create the top movie predictions."
   ]
  },
  {
   "cell_type": "markdown",
   "metadata": {},
   "source": [
    "It's nice, but we do not know what movie on each `movieId`. We need to extract the movie title for each `movieId`"
   ]
  },
  {
   "cell_type": "code",
   "execution_count": 132,
   "metadata": {},
   "outputs": [],
   "source": [
    "def load_movie_data(movie_path):\n",
    "    \"\"\"\n",
    "    Load movie data from the given path\n",
    "\n",
    "    Parameters\n",
    "    ----------\n",
    "    movie_path : str\n",
    "        The movie data path\n",
    "\n",
    "    Returns\n",
    "    -------\n",
    "    movie_data : pandas DataFrame\n",
    "        The movie metadata\n",
    "    \"\"\"\n",
    "    # Load data\n",
    "    movie_data = pd.read_csv(movie_path,\n",
    "                             index_col='movieId',\n",
    "                             delimiter=',')\n",
    "\n",
    "    print('Movie data shape :', movie_data.shape)\n",
    "    return movie_data\n"
   ]
  },
  {
   "cell_type": "code",
   "execution_count": 133,
   "metadata": {},
   "outputs": [],
   "source": [
    "# Define the movie path\n",
    "movie_path = 'movies.csv'"
   ]
  },
  {
   "cell_type": "code",
   "execution_count": 135,
   "metadata": {},
   "outputs": [
    {
     "name": "stdout",
     "output_type": "stream",
     "text": [
      "Movie data shape : (9742, 2)\n"
     ]
    },
    {
     "data": {
      "text/html": [
       "<div>\n",
       "<style scoped>\n",
       "    .dataframe tbody tr th:only-of-type {\n",
       "        vertical-align: middle;\n",
       "    }\n",
       "\n",
       "    .dataframe tbody tr th {\n",
       "        vertical-align: top;\n",
       "    }\n",
       "\n",
       "    .dataframe thead th {\n",
       "        text-align: right;\n",
       "    }\n",
       "</style>\n",
       "<table border=\"1\" class=\"dataframe\">\n",
       "  <thead>\n",
       "    <tr style=\"text-align: right;\">\n",
       "      <th></th>\n",
       "      <th>title</th>\n",
       "      <th>genres</th>\n",
       "    </tr>\n",
       "    <tr>\n",
       "      <th>movieId</th>\n",
       "      <th></th>\n",
       "      <th></th>\n",
       "    </tr>\n",
       "  </thead>\n",
       "  <tbody>\n",
       "    <tr>\n",
       "      <th>1</th>\n",
       "      <td>Toy Story (1995)</td>\n",
       "      <td>Adventure|Animation|Children|Comedy|Fantasy</td>\n",
       "    </tr>\n",
       "    <tr>\n",
       "      <th>2</th>\n",
       "      <td>Jumanji (1995)</td>\n",
       "      <td>Adventure|Children|Fantasy</td>\n",
       "    </tr>\n",
       "    <tr>\n",
       "      <th>3</th>\n",
       "      <td>Grumpier Old Men (1995)</td>\n",
       "      <td>Comedy|Romance</td>\n",
       "    </tr>\n",
       "    <tr>\n",
       "      <th>4</th>\n",
       "      <td>Waiting to Exhale (1995)</td>\n",
       "      <td>Comedy|Drama|Romance</td>\n",
       "    </tr>\n",
       "    <tr>\n",
       "      <th>5</th>\n",
       "      <td>Father of the Bride Part II (1995)</td>\n",
       "      <td>Comedy</td>\n",
       "    </tr>\n",
       "  </tbody>\n",
       "</table>\n",
       "</div>"
      ],
      "text/plain": [
       "                                      title   \n",
       "movieId                                       \n",
       "1                          Toy Story (1995)  \\\n",
       "2                            Jumanji (1995)   \n",
       "3                   Grumpier Old Men (1995)   \n",
       "4                  Waiting to Exhale (1995)   \n",
       "5        Father of the Bride Part II (1995)   \n",
       "\n",
       "                                              genres  \n",
       "movieId                                               \n",
       "1        Adventure|Animation|Children|Comedy|Fantasy  \n",
       "2                         Adventure|Children|Fantasy  \n",
       "3                                     Comedy|Romance  \n",
       "4                               Comedy|Drama|Romance  \n",
       "5                                             Comedy  "
      ]
     },
     "execution_count": 135,
     "metadata": {},
     "output_type": "execute_result"
    }
   ],
   "source": [
    "# Load movie data using upper function\n",
    "movie_data = load_movie_data(movie_path = movie_path)\n",
    "\n",
    "movie_data.head()"
   ]
  },
  {
   "cell_type": "code",
   "execution_count": 136,
   "metadata": {},
   "outputs": [
    {
     "data": {
      "text/html": [
       "<div>\n",
       "<style scoped>\n",
       "    .dataframe tbody tr th:only-of-type {\n",
       "        vertical-align: middle;\n",
       "    }\n",
       "\n",
       "    .dataframe tbody tr th {\n",
       "        vertical-align: top;\n",
       "    }\n",
       "\n",
       "    .dataframe thead th {\n",
       "        text-align: right;\n",
       "    }\n",
       "</style>\n",
       "<table border=\"1\" class=\"dataframe\">\n",
       "  <thead>\n",
       "    <tr style=\"text-align: right;\">\n",
       "      <th></th>\n",
       "      <th>userId</th>\n",
       "      <th>movieId</th>\n",
       "      <th>predicted_rating</th>\n",
       "    </tr>\n",
       "  </thead>\n",
       "  <tbody>\n",
       "    <tr>\n",
       "      <th>160</th>\n",
       "      <td>9</td>\n",
       "      <td>318</td>\n",
       "      <td>4.910305</td>\n",
       "    </tr>\n",
       "    <tr>\n",
       "      <th>122</th>\n",
       "      <td>9</td>\n",
       "      <td>750</td>\n",
       "      <td>4.854482</td>\n",
       "    </tr>\n",
       "    <tr>\n",
       "      <th>196</th>\n",
       "      <td>9</td>\n",
       "      <td>904</td>\n",
       "      <td>4.806627</td>\n",
       "    </tr>\n",
       "    <tr>\n",
       "      <th>83</th>\n",
       "      <td>9</td>\n",
       "      <td>1204</td>\n",
       "      <td>4.788168</td>\n",
       "    </tr>\n",
       "    <tr>\n",
       "      <th>203</th>\n",
       "      <td>9</td>\n",
       "      <td>2959</td>\n",
       "      <td>4.765678</td>\n",
       "    </tr>\n",
       "  </tbody>\n",
       "</table>\n",
       "</div>"
      ],
      "text/plain": [
       "     userId  movieId  predicted_rating\n",
       "160       9      318          4.910305\n",
       "122       9      750          4.854482\n",
       "196       9      904          4.806627\n",
       "83        9     1204          4.788168\n",
       "203       9     2959          4.765678"
      ]
     },
     "execution_count": 136,
     "metadata": {},
     "output_type": "execute_result"
    }
   ],
   "source": [
    "# Pick top k biggest rating\n",
    "k = 5\n",
    "top_movies = predicted_unrated_movie.head(k).copy()\n",
    "top_movies"
   ]
  },
  {
   "cell_type": "markdown",
   "metadata": {},
   "source": [
    "Finally, we can add the Movie Title"
   ]
  },
  {
   "cell_type": "code",
   "execution_count": 137,
   "metadata": {},
   "outputs": [
    {
     "data": {
      "text/html": [
       "<div>\n",
       "<style scoped>\n",
       "    .dataframe tbody tr th:only-of-type {\n",
       "        vertical-align: middle;\n",
       "    }\n",
       "\n",
       "    .dataframe tbody tr th {\n",
       "        vertical-align: top;\n",
       "    }\n",
       "\n",
       "    .dataframe thead th {\n",
       "        text-align: right;\n",
       "    }\n",
       "</style>\n",
       "<table border=\"1\" class=\"dataframe\">\n",
       "  <thead>\n",
       "    <tr style=\"text-align: right;\">\n",
       "      <th></th>\n",
       "      <th>userId</th>\n",
       "      <th>movieId</th>\n",
       "      <th>predicted_rating</th>\n",
       "      <th>title</th>\n",
       "      <th>genres</th>\n",
       "    </tr>\n",
       "  </thead>\n",
       "  <tbody>\n",
       "    <tr>\n",
       "      <th>160</th>\n",
       "      <td>9</td>\n",
       "      <td>318</td>\n",
       "      <td>4.910305</td>\n",
       "      <td>Shawshank Redemption, The (1994)</td>\n",
       "      <td>Crime|Drama</td>\n",
       "    </tr>\n",
       "    <tr>\n",
       "      <th>122</th>\n",
       "      <td>9</td>\n",
       "      <td>750</td>\n",
       "      <td>4.854482</td>\n",
       "      <td>Dr. Strangelove or: How I Learned to Stop Worr...</td>\n",
       "      <td>Comedy|War</td>\n",
       "    </tr>\n",
       "    <tr>\n",
       "      <th>196</th>\n",
       "      <td>9</td>\n",
       "      <td>904</td>\n",
       "      <td>4.806627</td>\n",
       "      <td>Rear Window (1954)</td>\n",
       "      <td>Mystery|Thriller</td>\n",
       "    </tr>\n",
       "    <tr>\n",
       "      <th>83</th>\n",
       "      <td>9</td>\n",
       "      <td>1204</td>\n",
       "      <td>4.788168</td>\n",
       "      <td>Lawrence of Arabia (1962)</td>\n",
       "      <td>Adventure|Drama|War</td>\n",
       "    </tr>\n",
       "    <tr>\n",
       "      <th>203</th>\n",
       "      <td>9</td>\n",
       "      <td>2959</td>\n",
       "      <td>4.765678</td>\n",
       "      <td>Fight Club (1999)</td>\n",
       "      <td>Action|Crime|Drama|Thriller</td>\n",
       "    </tr>\n",
       "  </tbody>\n",
       "</table>\n",
       "</div>"
      ],
      "text/plain": [
       "     userId  movieId  predicted_rating   \n",
       "160       9      318          4.910305  \\\n",
       "122       9      750          4.854482   \n",
       "196       9      904          4.806627   \n",
       "83        9     1204          4.788168   \n",
       "203       9     2959          4.765678   \n",
       "\n",
       "                                                 title   \n",
       "160                   Shawshank Redemption, The (1994)  \\\n",
       "122  Dr. Strangelove or: How I Learned to Stop Worr...   \n",
       "196                                 Rear Window (1954)   \n",
       "83                           Lawrence of Arabia (1962)   \n",
       "203                                  Fight Club (1999)   \n",
       "\n",
       "                          genres  \n",
       "160                  Crime|Drama  \n",
       "122                   Comedy|War  \n",
       "196             Mystery|Thriller  \n",
       "83           Adventure|Drama|War  \n",
       "203  Action|Crime|Drama|Thriller  "
      ]
     },
     "execution_count": 137,
     "metadata": {},
     "output_type": "execute_result"
    }
   ],
   "source": [
    "# Add the movie title\n",
    "top_movies['title'] = movie_data.loc[top_movies['movieId'], 'title'].values\n",
    "top_movies['genres'] = movie_data.loc[top_movies['movieId'], 'genres'].values\n",
    "\n",
    "top_movies"
   ]
  },
  {
   "cell_type": "code",
   "execution_count": 138,
   "metadata": {},
   "outputs": [],
   "source": [
    "# Wrapping to a function\n",
    "def get_top_highest_unrated(estimator, k, userid, rating_data, movie_data):\n",
    "    \"\"\"\n",
    "    Get top k highest of unrated movie from a Surprise estimator RecSys\n",
    "\n",
    "    Parameters\n",
    "    ----------\n",
    "    estimator : Surprise model\n",
    "        The RecSys model\n",
    "\n",
    "    k : int\n",
    "        The number of Recommendations\n",
    "\n",
    "    userid : int\n",
    "        The user Id to recommend\n",
    "\n",
    "    rating_data : pandas Data Frame\n",
    "        The rating data\n",
    "\n",
    "    movie_data : pandas DataFrame\n",
    "        The movie meta data\n",
    "\n",
    "    Returns\n",
    "    -------\n",
    "    top_item_pred : pandas DataFrame\n",
    "        The top items recommendations\n",
    "    \"\"\"\n",
    "    # 1. Get the unrated item id of a user id\n",
    "    unrated_item_id = get_unrated_item(userid=userid, rating_data=rating_data)\n",
    "\n",
    "    # 2. Create prediction from estimator to all unrated item id\n",
    "    predicted_unrated_item = get_pred_unrated_item(userid = userid,\n",
    "                                                   estimator = estimator,\n",
    "                                                   unrated_item_id = unrated_item_id)\n",
    "\n",
    "    # 3. Sort & add meta data\n",
    "    top_item_pred = predicted_unrated_item.head(k).copy()\n",
    "    top_item_pred['title'] = movie_data.loc[top_item_pred['movieId'], 'title'].values\n",
    "    top_item_pred['genres'] = movie_data.loc[top_item_pred['movieId'], 'genres'].values\n",
    "\n",
    "    return top_item_pred\n"
   ]
  },
  {
   "cell_type": "code",
   "execution_count": 139,
   "metadata": {},
   "outputs": [
    {
     "data": {
      "text/html": [
       "<div>\n",
       "<style scoped>\n",
       "    .dataframe tbody tr th:only-of-type {\n",
       "        vertical-align: middle;\n",
       "    }\n",
       "\n",
       "    .dataframe tbody tr th {\n",
       "        vertical-align: top;\n",
       "    }\n",
       "\n",
       "    .dataframe thead th {\n",
       "        text-align: right;\n",
       "    }\n",
       "</style>\n",
       "<table border=\"1\" class=\"dataframe\">\n",
       "  <thead>\n",
       "    <tr style=\"text-align: right;\">\n",
       "      <th></th>\n",
       "      <th>userId</th>\n",
       "      <th>movieId</th>\n",
       "      <th>predicted_rating</th>\n",
       "      <th>title</th>\n",
       "      <th>genres</th>\n",
       "    </tr>\n",
       "  </thead>\n",
       "  <tbody>\n",
       "    <tr>\n",
       "      <th>74</th>\n",
       "      <td>100</td>\n",
       "      <td>1204</td>\n",
       "      <td>4.361884</td>\n",
       "      <td>Lawrence of Arabia (1962)</td>\n",
       "      <td>Adventure|Drama|War</td>\n",
       "    </tr>\n",
       "    <tr>\n",
       "      <th>108</th>\n",
       "      <td>100</td>\n",
       "      <td>750</td>\n",
       "      <td>4.328687</td>\n",
       "      <td>Dr. Strangelove or: How I Learned to Stop Worr...</td>\n",
       "      <td>Comedy|War</td>\n",
       "    </tr>\n",
       "    <tr>\n",
       "      <th>141</th>\n",
       "      <td>100</td>\n",
       "      <td>318</td>\n",
       "      <td>4.310110</td>\n",
       "      <td>Shawshank Redemption, The (1994)</td>\n",
       "      <td>Crime|Drama</td>\n",
       "    </tr>\n",
       "    <tr>\n",
       "      <th>168</th>\n",
       "      <td>100</td>\n",
       "      <td>4973</td>\n",
       "      <td>4.292716</td>\n",
       "      <td>Amelie (Fabuleux destin d'Amélie Poulain, Le) ...</td>\n",
       "      <td>Comedy|Romance</td>\n",
       "    </tr>\n",
       "    <tr>\n",
       "      <th>136</th>\n",
       "      <td>100</td>\n",
       "      <td>7981</td>\n",
       "      <td>4.254229</td>\n",
       "      <td>Infernal Affairs (Mou gaan dou) (2002)</td>\n",
       "      <td>Crime|Drama|Thriller</td>\n",
       "    </tr>\n",
       "    <tr>\n",
       "      <th>85</th>\n",
       "      <td>100</td>\n",
       "      <td>7361</td>\n",
       "      <td>4.221137</td>\n",
       "      <td>Eternal Sunshine of the Spotless Mind (2004)</td>\n",
       "      <td>Drama|Romance|Sci-Fi</td>\n",
       "    </tr>\n",
       "    <tr>\n",
       "      <th>172</th>\n",
       "      <td>100</td>\n",
       "      <td>904</td>\n",
       "      <td>4.217677</td>\n",
       "      <td>Rear Window (1954)</td>\n",
       "      <td>Mystery|Thriller</td>\n",
       "    </tr>\n",
       "    <tr>\n",
       "      <th>57</th>\n",
       "      <td>100</td>\n",
       "      <td>2160</td>\n",
       "      <td>4.212454</td>\n",
       "      <td>Rosemary's Baby (1968)</td>\n",
       "      <td>Drama|Horror|Thriller</td>\n",
       "    </tr>\n",
       "    <tr>\n",
       "      <th>179</th>\n",
       "      <td>100</td>\n",
       "      <td>2959</td>\n",
       "      <td>4.208106</td>\n",
       "      <td>Fight Club (1999)</td>\n",
       "      <td>Action|Crime|Drama|Thriller</td>\n",
       "    </tr>\n",
       "    <tr>\n",
       "      <th>100</th>\n",
       "      <td>100</td>\n",
       "      <td>1250</td>\n",
       "      <td>4.176682</td>\n",
       "      <td>Bridge on the River Kwai, The (1957)</td>\n",
       "      <td>Adventure|Drama|War</td>\n",
       "    </tr>\n",
       "  </tbody>\n",
       "</table>\n",
       "</div>"
      ],
      "text/plain": [
       "     userId  movieId  predicted_rating   \n",
       "74      100     1204          4.361884  \\\n",
       "108     100      750          4.328687   \n",
       "141     100      318          4.310110   \n",
       "168     100     4973          4.292716   \n",
       "136     100     7981          4.254229   \n",
       "85      100     7361          4.221137   \n",
       "172     100      904          4.217677   \n",
       "57      100     2160          4.212454   \n",
       "179     100     2959          4.208106   \n",
       "100     100     1250          4.176682   \n",
       "\n",
       "                                                 title   \n",
       "74                           Lawrence of Arabia (1962)  \\\n",
       "108  Dr. Strangelove or: How I Learned to Stop Worr...   \n",
       "141                   Shawshank Redemption, The (1994)   \n",
       "168  Amelie (Fabuleux destin d'Amélie Poulain, Le) ...   \n",
       "136             Infernal Affairs (Mou gaan dou) (2002)   \n",
       "85        Eternal Sunshine of the Spotless Mind (2004)   \n",
       "172                                 Rear Window (1954)   \n",
       "57                              Rosemary's Baby (1968)   \n",
       "179                                  Fight Club (1999)   \n",
       "100               Bridge on the River Kwai, The (1957)   \n",
       "\n",
       "                          genres  \n",
       "74           Adventure|Drama|War  \n",
       "108                   Comedy|War  \n",
       "141                  Crime|Drama  \n",
       "168               Comedy|Romance  \n",
       "136         Crime|Drama|Thriller  \n",
       "85          Drama|Romance|Sci-Fi  \n",
       "172             Mystery|Thriller  \n",
       "57         Drama|Horror|Thriller  \n",
       "179  Action|Crime|Drama|Thriller  \n",
       "100          Adventure|Drama|War  "
      ]
     },
     "execution_count": 139,
     "metadata": {},
     "output_type": "execute_result"
    }
   ],
   "source": [
    "# Generate 10 recommendation for user 100\n",
    "get_top_highest_unrated(estimator=model_best,\n",
    "                        k=10,\n",
    "                        userid=100,\n",
    "                        rating_data=rating_data,\n",
    "                        movie_data=movie_data)"
   ]
  },
  {
   "cell_type": "code",
   "execution_count": 140,
   "metadata": {},
   "outputs": [
    {
     "data": {
      "text/html": [
       "<div>\n",
       "<style scoped>\n",
       "    .dataframe tbody tr th:only-of-type {\n",
       "        vertical-align: middle;\n",
       "    }\n",
       "\n",
       "    .dataframe tbody tr th {\n",
       "        vertical-align: top;\n",
       "    }\n",
       "\n",
       "    .dataframe thead th {\n",
       "        text-align: right;\n",
       "    }\n",
       "</style>\n",
       "<table border=\"1\" class=\"dataframe\">\n",
       "  <thead>\n",
       "    <tr style=\"text-align: right;\">\n",
       "      <th></th>\n",
       "      <th>userId</th>\n",
       "      <th>movieId</th>\n",
       "      <th>predicted_rating</th>\n",
       "      <th>title</th>\n",
       "      <th>genres</th>\n",
       "    </tr>\n",
       "  </thead>\n",
       "  <tbody>\n",
       "    <tr>\n",
       "      <th>111</th>\n",
       "      <td>500</td>\n",
       "      <td>750</td>\n",
       "      <td>3.827555</td>\n",
       "      <td>Dr. Strangelove or: How I Learned to Stop Worr...</td>\n",
       "      <td>Comedy|War</td>\n",
       "    </tr>\n",
       "    <tr>\n",
       "      <th>174</th>\n",
       "      <td>500</td>\n",
       "      <td>4973</td>\n",
       "      <td>3.784271</td>\n",
       "      <td>Amelie (Fabuleux destin d'Amélie Poulain, Le) ...</td>\n",
       "      <td>Comedy|Romance</td>\n",
       "    </tr>\n",
       "    <tr>\n",
       "      <th>84</th>\n",
       "      <td>500</td>\n",
       "      <td>7361</td>\n",
       "      <td>3.734619</td>\n",
       "      <td>Eternal Sunshine of the Spotless Mind (2004)</td>\n",
       "      <td>Drama|Romance|Sci-Fi</td>\n",
       "    </tr>\n",
       "    <tr>\n",
       "      <th>146</th>\n",
       "      <td>500</td>\n",
       "      <td>318</td>\n",
       "      <td>3.732327</td>\n",
       "      <td>Shawshank Redemption, The (1994)</td>\n",
       "      <td>Crime|Drama</td>\n",
       "    </tr>\n",
       "    <tr>\n",
       "      <th>181</th>\n",
       "      <td>500</td>\n",
       "      <td>904</td>\n",
       "      <td>3.722679</td>\n",
       "      <td>Rear Window (1954)</td>\n",
       "      <td>Mystery|Thriller</td>\n",
       "    </tr>\n",
       "    <tr>\n",
       "      <th>56</th>\n",
       "      <td>500</td>\n",
       "      <td>2160</td>\n",
       "      <td>3.706901</td>\n",
       "      <td>Rosemary's Baby (1968)</td>\n",
       "      <td>Drama|Horror|Thriller</td>\n",
       "    </tr>\n",
       "    <tr>\n",
       "      <th>74</th>\n",
       "      <td>500</td>\n",
       "      <td>1204</td>\n",
       "      <td>3.705719</td>\n",
       "      <td>Lawrence of Arabia (1962)</td>\n",
       "      <td>Adventure|Drama|War</td>\n",
       "    </tr>\n",
       "    <tr>\n",
       "      <th>50</th>\n",
       "      <td>500</td>\n",
       "      <td>608</td>\n",
       "      <td>3.681407</td>\n",
       "      <td>Fargo (1996)</td>\n",
       "      <td>Comedy|Crime|Drama|Thriller</td>\n",
       "    </tr>\n",
       "    <tr>\n",
       "      <th>66</th>\n",
       "      <td>500</td>\n",
       "      <td>44195</td>\n",
       "      <td>3.657933</td>\n",
       "      <td>Thank You for Smoking (2006)</td>\n",
       "      <td>Comedy|Drama</td>\n",
       "    </tr>\n",
       "    <tr>\n",
       "      <th>160</th>\n",
       "      <td>500</td>\n",
       "      <td>858</td>\n",
       "      <td>3.655964</td>\n",
       "      <td>Godfather, The (1972)</td>\n",
       "      <td>Crime|Drama</td>\n",
       "    </tr>\n",
       "  </tbody>\n",
       "</table>\n",
       "</div>"
      ],
      "text/plain": [
       "     userId  movieId  predicted_rating   \n",
       "111     500      750          3.827555  \\\n",
       "174     500     4973          3.784271   \n",
       "84      500     7361          3.734619   \n",
       "146     500      318          3.732327   \n",
       "181     500      904          3.722679   \n",
       "56      500     2160          3.706901   \n",
       "74      500     1204          3.705719   \n",
       "50      500      608          3.681407   \n",
       "66      500    44195          3.657933   \n",
       "160     500      858          3.655964   \n",
       "\n",
       "                                                 title   \n",
       "111  Dr. Strangelove or: How I Learned to Stop Worr...  \\\n",
       "174  Amelie (Fabuleux destin d'Amélie Poulain, Le) ...   \n",
       "84        Eternal Sunshine of the Spotless Mind (2004)   \n",
       "146                   Shawshank Redemption, The (1994)   \n",
       "181                                 Rear Window (1954)   \n",
       "56                              Rosemary's Baby (1968)   \n",
       "74                           Lawrence of Arabia (1962)   \n",
       "50                                        Fargo (1996)   \n",
       "66                        Thank You for Smoking (2006)   \n",
       "160                              Godfather, The (1972)   \n",
       "\n",
       "                          genres  \n",
       "111                   Comedy|War  \n",
       "174               Comedy|Romance  \n",
       "84          Drama|Romance|Sci-Fi  \n",
       "146                  Crime|Drama  \n",
       "181             Mystery|Thriller  \n",
       "56         Drama|Horror|Thriller  \n",
       "74           Adventure|Drama|War  \n",
       "50   Comedy|Crime|Drama|Thriller  \n",
       "66                  Comedy|Drama  \n",
       "160                  Crime|Drama  "
      ]
     },
     "execution_count": 140,
     "metadata": {},
     "output_type": "execute_result"
    }
   ],
   "source": [
    "# Generate 10 recommendation for user 500\n",
    "get_top_highest_unrated(estimator=model_best,\n",
    "                        k=10,\n",
    "                        userid=500,\n",
    "                        rating_data=rating_data,\n",
    "                        movie_data=movie_data)"
   ]
  },
  {
   "cell_type": "markdown",
   "metadata": {},
   "source": []
  },
  {
   "cell_type": "markdown",
   "metadata": {},
   "source": []
  },
  {
   "cell_type": "markdown",
   "metadata": {},
   "source": []
  },
  {
   "cell_type": "markdown",
   "metadata": {},
   "source": []
  },
  {
   "cell_type": "markdown",
   "metadata": {},
   "source": []
  },
  {
   "cell_type": "markdown",
   "metadata": {},
   "source": []
  },
  {
   "cell_type": "markdown",
   "metadata": {},
   "source": []
  },
  {
   "cell_type": "markdown",
   "metadata": {},
   "source": []
  },
  {
   "cell_type": "markdown",
   "metadata": {},
   "source": []
  },
  {
   "cell_type": "markdown",
   "metadata": {},
   "source": []
  },
  {
   "cell_type": "markdown",
   "metadata": {},
   "source": []
  },
  {
   "cell_type": "markdown",
   "metadata": {},
   "source": []
  },
  {
   "cell_type": "markdown",
   "metadata": {},
   "source": []
  },
  {
   "cell_type": "markdown",
   "metadata": {},
   "source": []
  },
  {
   "cell_type": "markdown",
   "metadata": {},
   "source": []
  }
 ],
 "metadata": {
  "kernelspec": {
   "display_name": "nlp",
   "language": "python",
   "name": "python3"
  },
  "language_info": {
   "codemirror_mode": {
    "name": "ipython",
    "version": 3
   },
   "file_extension": ".py",
   "mimetype": "text/x-python",
   "name": "python",
   "nbconvert_exporter": "python",
   "pygments_lexer": "ipython3",
   "version": "3.10.11"
  }
 },
 "nbformat": 4,
 "nbformat_minor": 2
}
