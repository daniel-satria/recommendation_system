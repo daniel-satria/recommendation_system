{
 "cells": [
  {
   "cell_type": "markdown",
   "metadata": {},
   "source": [
    "# **Model Based Collaborative Filtering**\n",
    "\n",
    "Modeling for Structured Data"
   ]
  },
  {
   "cell_type": "markdown",
   "metadata": {},
   "source": [
    "---\n",
    "## Outline:\n",
    "\n",
    "1. Background\n",
    "2. Simplified Workflows.\n",
    "3. Importing Data\n",
    "4. Data Preparations\n",
    "5. Data Preprocessing\n",
    "6. Modeling\n",
    "7. Hyperparameter Tuning\n",
    "8. Evaluation\n",
    "9. Decision Process (Recommendation Process)"
   ]
  },
  {
   "cell_type": "markdown",
   "metadata": {},
   "source": [
    "# **Background**\n",
    "---"
   ]
  },
  {
   "cell_type": "markdown",
   "metadata": {},
   "source": [
    "## Problem Description\n",
    "\n",
    "\n",
    "- A streaming platform **nonton-yuk.com** are having a problem with its user retention.\n",
    "- In 3 months, the user retention rate dropped almost 15% which really affects **nonton-yuk.com** revenues.\n",
    "- After doing an urgent user research, **nonton-yuk.com** teams found that **users find it difficult** to browse movie in **nonton-yuk.com** which has nearly ~7,000 movies."
   ]
  },
  {
   "cell_type": "markdown",
   "metadata": {},
   "source": [
    "## Business Objective\n",
    "\n",
    "- Our business objective would be **increasing user retention** to **15%** (assumed ofcourse) in 3 months."
   ]
  },
  {
   "cell_type": "markdown",
   "metadata": {},
   "source": [
    "## Solution\n",
    "\n",
    "- We can create a **movie recommendation** to help **users browse** the movie **easily** --> remove the users difficulty in using **nonton-yuk.com** platform.\n",
    "\n",
    "The goal, of our recommendation is to recommend movies that user might like, however we can't directly measure how like user to a movies, thus we need to define what's called as **proxy** label.\n",
    "\n",
    "To approach those, some appropriate proxy labels are :    \n",
    "- Scale of rating (star) user  given to a movie\n",
    "- User click the movie\n",
    "- etc"
   ]
  },
  {
   "cell_type": "markdown",
   "metadata": {},
   "source": [
    "Considering the data we have, we have only records of **rating** data given from user to certain movies, thus we will choose **ratings given** as proxy label from item liked\n",
    "\n",
    "We can move further into machine learning task.\n",
    "\n",
    "**Our task** is to predict number of stars given from user to a movie.\n",
    "\n",
    "With  stars itself is in continous value, hence we can conclude it as **regression task**\n",
    "We now have a clearer picture what we should do, However we need more precise solution in recommender system context.\n",
    "\n",
    "Some recommendations approach:\n",
    "1. **Non-personalized**: recommendation by popularity\n",
    "2. **Personalized**: collaborative filtering\n",
    "\n",
    "Approach in Personalized Recommender System can be divided based on the presence of interaction data (explicit / implicit) data:     \n",
    "1. When the interaction data is not exists, the solution that can be implemented is using content feature, **Content Based** Filtering\n",
    "2. When the interaction data is exists, we can use **Collaborative** Filtering"
   ]
  },
  {
   "cell_type": "markdown",
   "metadata": {},
   "source": [
    "<img src =https://www.researchgate.net/publication/331063850/figure/fig3/AS:729493727621125@1550936266704/Content-based-filtering-and-Collaborative-filtering-recommendation.ppm >\n",
    "\n",
    "<center><a href=https://www.researchgate.net/publication/331063850/figure/fig3/AS:729493727621125@1550936266704/Content-based-filtering-and-Collaborative-filtering-recommendation.ppm>Source</a> </center>"
   ]
  },
  {
   "cell_type": "markdown",
   "metadata": {},
   "source": [
    "Due to presence of interaction, in this case rating data, we will not using **Content Based** filtering, instead we will use collaborative filtering"
   ]
  },
  {
   "cell_type": "markdown",
   "metadata": {},
   "source": [
    "<img src=\"https://drive.google.com/uc?export=view&id=1x16ea0zXDGsefpj6aLkre83wquIWedhI\" width=600>\n"
   ]
  },
  {
   "cell_type": "markdown",
   "metadata": {},
   "source": [
    "Previously we have already used approach neighborhood collaborative filtering, however there are some caveats  :  \n",
    "- The similarity measure is arbitrary, (measured) and cannot be optimized\n",
    "- The similarity measure only care about pairwise between items / users\n",
    "\n",
    "What is the solution ?\n",
    "\n",
    "We can use **Model Based Collaborative Filtering** to encounter weight that previously have not been optimized."
   ]
  },
  {
   "cell_type": "markdown",
   "metadata": {},
   "source": [
    "## Model Metrics\n",
    "\n",
    "We have already established some points :\n",
    "- Our task is to predict stars that will be given by users to certain movies\n",
    "- We will use Collaborative Filtering approach\n",
    "\n",
    "Regarding those, we need to measure the success of our model ( metrics), based on the points mentioned, our goal is to predict as close as possible the predicted rating to user true rating,"
   ]
  },
  {
   "cell_type": "markdown",
   "metadata": {},
   "source": [
    "We want to minimize $(\\text{True Rating - Predicted Rating})$, some choices of appropriate metrics are :     \n",
    "- Mean Absolute Error\n",
    "- Mean Square Error\n",
    "- Root Mean Squared Error\n",
    "\n",
    "Due to its `differentiable` property , we will choose **MSE/RMSE** as our model metrics"
   ]
  },
  {
   "cell_type": "markdown",
   "metadata": {},
   "source": [
    "## Data Description"
   ]
  },
  {
   "cell_type": "markdown",
   "metadata": {},
   "source": [
    "- The data is obtained from [Movielens dataset](https://grouplens.org/datasets/movielens/).\n",
    "- It contains ~100K ratings from 1,000 users and 1,700 movies.\n",
    "\n",
    "There are two files that we use:\n",
    "\n",
    "**The movie rating data** : `rating.csv`\n",
    "\n",
    "<center>\n",
    "\n",
    "|Features|Descriptions|Data Type|\n",
    "|:--|:--|:--:|\n",
    "|`userId`|The user ID|`int`|\n",
    "|`movieId`|The movie ID|`int`|\n",
    "|`rating`|Rating given from user to movie. Ranging from `0` to `5`|`float`|\n",
    "\n"
   ]
  },
  {
   "cell_type": "markdown",
   "metadata": {},
   "source": [
    "**The movie metadata** : `movies.csv`\n",
    "\n",
    "<center>\n",
    "\n",
    "|Features|Descriptions|Data Type|\n",
    "|:--|:--|:--:|\n",
    "|`movieId`|The movie ID|`int`|\n",
    "|`title`|The movie ID title|`str`|\n",
    "|`genres`|The movie ID genres|`str`|"
   ]
  },
  {
   "cell_type": "markdown",
   "metadata": {},
   "source": [
    "_______________"
   ]
  },
  {
   "cell_type": "markdown",
   "metadata": {},
   "source": [
    "# **Recommender System Workflow** (Simplified)"
   ]
  },
  {
   "cell_type": "markdown",
   "metadata": {},
   "source": [
    "## <font color='blue'>1. Importing Data</font>\n",
    "\n",
    "```\n",
    "1. Load the data.\n",
    "2. Check the shape & type of data.\n",
    "3. Handle the duplicates data to maintain data validity.\n",
    "```"
   ]
  },
  {
   "cell_type": "markdown",
   "metadata": {},
   "source": [
    "## <font color='blue'>2.Modelling : Model Based Collaborative Filtering</font>\n",
    "\n",
    "```\n",
    "1. Creating Utility Matrix\n",
    "2. Training + Model Selection  :     \n",
    "    - Baseline Approach\n",
    "    - SVD\n",
    "\n",
    "4. Evaluating Model\n",
    "  - Rating Prediction Task\n",
    "\n",
    "```\n"
   ]
  },
  {
   "cell_type": "markdown",
   "metadata": {},
   "source": [
    "## <font color='blue'>3. Generating Recommendation / Predictions</font>\n",
    "\n",
    "```\n",
    "1. Predict recommendation of user-i to unrated item-j\n",
    "2. Predict recommendation of user-i to all their unrated items\n",
    "```"
   ]
  },
  {
   "cell_type": "markdown",
   "metadata": {},
   "source": [
    "# **1. Importing Data**\n",
    "\n",
    "What do we do?\n",
    "1. Load the data.\n",
    "2. Check the shape & type of data.\n",
    "3. Handle the duplicates data to maintain data validity."
   ]
  },
  {
   "cell_type": "markdown",
   "metadata": {},
   "source": [
    "## Load the data"
   ]
  },
  {
   "cell_type": "code",
   "execution_count": 1,
   "metadata": {},
   "outputs": [],
   "source": [
    "# Load this library\n",
    "import numpy as np\n",
    "import pandas as pd"
   ]
  },
  {
   "cell_type": "code",
   "execution_count": 2,
   "metadata": {},
   "outputs": [
    {
     "data": {
      "text/html": [
       "<div>\n",
       "<style scoped>\n",
       "    .dataframe tbody tr th:only-of-type {\n",
       "        vertical-align: middle;\n",
       "    }\n",
       "\n",
       "    .dataframe tbody tr th {\n",
       "        vertical-align: top;\n",
       "    }\n",
       "\n",
       "    .dataframe thead th {\n",
       "        text-align: right;\n",
       "    }\n",
       "</style>\n",
       "<table border=\"1\" class=\"dataframe\">\n",
       "  <thead>\n",
       "    <tr style=\"text-align: right;\">\n",
       "      <th></th>\n",
       "      <th>userId</th>\n",
       "      <th>movieId</th>\n",
       "      <th>rating</th>\n",
       "    </tr>\n",
       "  </thead>\n",
       "  <tbody>\n",
       "    <tr>\n",
       "      <th>0</th>\n",
       "      <td>1</td>\n",
       "      <td>1</td>\n",
       "      <td>4.0</td>\n",
       "    </tr>\n",
       "    <tr>\n",
       "      <th>1</th>\n",
       "      <td>1</td>\n",
       "      <td>3</td>\n",
       "      <td>4.0</td>\n",
       "    </tr>\n",
       "    <tr>\n",
       "      <th>2</th>\n",
       "      <td>1</td>\n",
       "      <td>6</td>\n",
       "      <td>4.0</td>\n",
       "    </tr>\n",
       "    <tr>\n",
       "      <th>3</th>\n",
       "      <td>1</td>\n",
       "      <td>47</td>\n",
       "      <td>5.0</td>\n",
       "    </tr>\n",
       "    <tr>\n",
       "      <th>4</th>\n",
       "      <td>1</td>\n",
       "      <td>70</td>\n",
       "      <td>3.0</td>\n",
       "    </tr>\n",
       "  </tbody>\n",
       "</table>\n",
       "</div>"
      ],
      "text/plain": [
       "   userId  movieId  rating\n",
       "0       1        1     4.0\n",
       "1       1        3     4.0\n",
       "2       1        6     4.0\n",
       "3       1       47     5.0\n",
       "4       1       70     3.0"
      ]
     },
     "execution_count": 2,
     "metadata": {},
     "output_type": "execute_result"
    }
   ],
   "source": [
    "rating_path = r\"D:\\Daniel\\PACMANN\\RecSys\\rating_sample.csv\"\n",
    "\n",
    "rating_data = pd.read_csv(rating_path,\n",
    "                          delimiter = ',')\n",
    "\n",
    "rating_data.head()"
   ]
  },
  {
   "cell_type": "code",
   "execution_count": 3,
   "metadata": {},
   "outputs": [
    {
     "data": {
      "text/plain": [
       "(20760, 3)"
      ]
     },
     "execution_count": 3,
     "metadata": {},
     "output_type": "execute_result"
    }
   ],
   "source": [
    "# Check data shapes\n",
    "rating_data.shape"
   ]
  },
  {
   "cell_type": "code",
   "execution_count": 4,
   "metadata": {},
   "outputs": [
    {
     "data": {
      "text/plain": [
       "userId       int64\n",
       "movieId      int64\n",
       "rating     float64\n",
       "dtype: object"
      ]
     },
     "execution_count": 4,
     "metadata": {},
     "output_type": "execute_result"
    }
   ],
   "source": [
    "# Check data types\n",
    "rating_data.dtypes"
   ]
  },
  {
   "cell_type": "code",
   "execution_count": 5,
   "metadata": {},
   "outputs": [
    {
     "data": {
      "text/plain": [
       "0"
      ]
     },
     "execution_count": 5,
     "metadata": {},
     "output_type": "execute_result"
    }
   ],
   "source": [
    "# Check duplicate data\n",
    "rating_data.duplicated(subset=['userId', 'movieId']).sum()"
   ]
  },
  {
   "cell_type": "markdown",
   "metadata": {},
   "source": [
    "**Note**\n",
    "- If you have a user ID rates similar movie ID more than one, you can keep the most up to date ones & drop the rest."
   ]
  },
  {
   "cell_type": "markdown",
   "metadata": {},
   "source": [
    "## Create load function\n",
    "\n",
    "Finally, we can create load data function"
   ]
  },
  {
   "cell_type": "code",
   "execution_count": 6,
   "metadata": {},
   "outputs": [],
   "source": [
    "def load_rating_data(rating_path):\n",
    "    \"\"\"\n",
    "    Function to load data & remove from duplicates\n",
    "\n",
    "    Parameters\n",
    "    ----------\n",
    "    rating_path : str\n",
    "        The path of rating data\n",
    "\n",
    "    Returns\n",
    "    -------\n",
    "    rating_data : pandas DataFrame\n",
    "        The sample of rating data\n",
    "    \"\"\"\n",
    "    # Load data\n",
    "    rating_data_raw = pd.read_csv(rating_path, delimiter=',')\n",
    "    print('Original data shape :', rating_data_raw.shape)\n",
    "\n",
    "\n",
    "    return rating_data_raw\n"
   ]
  },
  {
   "cell_type": "code",
   "execution_count": 7,
   "metadata": {},
   "outputs": [
    {
     "name": "stdout",
     "output_type": "stream",
     "text": [
      "Original data shape : (20760, 3)\n"
     ]
    }
   ],
   "source": [
    "# Load rating data\n",
    "rating_data = load_rating_data(rating_path = rating_path)"
   ]
  },
  {
   "cell_type": "code",
   "execution_count": 8,
   "metadata": {},
   "outputs": [
    {
     "data": {
      "text/html": [
       "<div>\n",
       "<style scoped>\n",
       "    .dataframe tbody tr th:only-of-type {\n",
       "        vertical-align: middle;\n",
       "    }\n",
       "\n",
       "    .dataframe tbody tr th {\n",
       "        vertical-align: top;\n",
       "    }\n",
       "\n",
       "    .dataframe thead th {\n",
       "        text-align: right;\n",
       "    }\n",
       "</style>\n",
       "<table border=\"1\" class=\"dataframe\">\n",
       "  <thead>\n",
       "    <tr style=\"text-align: right;\">\n",
       "      <th></th>\n",
       "      <th>userId</th>\n",
       "      <th>movieId</th>\n",
       "      <th>rating</th>\n",
       "    </tr>\n",
       "  </thead>\n",
       "  <tbody>\n",
       "    <tr>\n",
       "      <th>0</th>\n",
       "      <td>1</td>\n",
       "      <td>1</td>\n",
       "      <td>4.0</td>\n",
       "    </tr>\n",
       "    <tr>\n",
       "      <th>1</th>\n",
       "      <td>1</td>\n",
       "      <td>3</td>\n",
       "      <td>4.0</td>\n",
       "    </tr>\n",
       "    <tr>\n",
       "      <th>2</th>\n",
       "      <td>1</td>\n",
       "      <td>6</td>\n",
       "      <td>4.0</td>\n",
       "    </tr>\n",
       "    <tr>\n",
       "      <th>3</th>\n",
       "      <td>1</td>\n",
       "      <td>47</td>\n",
       "      <td>5.0</td>\n",
       "    </tr>\n",
       "    <tr>\n",
       "      <th>4</th>\n",
       "      <td>1</td>\n",
       "      <td>70</td>\n",
       "      <td>3.0</td>\n",
       "    </tr>\n",
       "  </tbody>\n",
       "</table>\n",
       "</div>"
      ],
      "text/plain": [
       "   userId  movieId  rating\n",
       "0       1        1     4.0\n",
       "1       1        3     4.0\n",
       "2       1        6     4.0\n",
       "3       1       47     5.0\n",
       "4       1       70     3.0"
      ]
     },
     "execution_count": 8,
     "metadata": {},
     "output_type": "execute_result"
    }
   ],
   "source": [
    "rating_data.head()"
   ]
  },
  {
   "cell_type": "markdown",
   "metadata": {},
   "source": [
    "________________"
   ]
  },
  {
   "cell_type": "markdown",
   "metadata": {},
   "source": [
    "# **2. Modelling**: Model Based Collaborative Filtering"
   ]
  },
  {
   "cell_type": "markdown",
   "metadata": {},
   "source": [
    "## Background\n",
    "\n",
    "Previously we have tried similarity based / neighborhood collaborative filtering models, We encountered a problem.\n",
    "We define heavily on **similarity**, Even though we cannot optimize the similarity.\n",
    "That means,if we fail to craft similarity, it may fail on prediction.\n",
    "Another problem, is that whenever user is new we can't measure similarity due to not enough rating data available.\n",
    "We need another solution!"
   ]
  },
  {
   "cell_type": "markdown",
   "metadata": {},
   "source": [
    "**Latent Models**\n",
    "\n",
    "Recall again, our utility matrix has component of user and item, which some of it are interacted and yield utility value, e.g. watching movies user give rating to express their likeliness. The solution is we can infer two main factor, user factor and item factor that are behind the process of how utility value / rating are made\n"
   ]
  },
  {
   "cell_type": "markdown",
   "metadata": {},
   "source": [
    "\n",
    "<img src=\"https://drive.google.com/uc?export=view&id=1f7MoLGctHdM9SV1nGT8qZ0zFSzXg7YKo\" width=600>\n"
   ]
  },
  {
   "cell_type": "markdown",
   "metadata": {},
   "source": [
    "We need **Matrix Decomposition**\n",
    "\n",
    "Some approach :    \n",
    "1. Eigendecomposition\n",
    "2. Cholesky Decomposition\n",
    "3. Singular Decomposition"
   ]
  },
  {
   "cell_type": "markdown",
   "metadata": {},
   "source": [
    "Our constrain :    \n",
    "\n",
    "Utility matrix rarely have n_users = n_items, which mean our utility matrix rarely be a `square matrix`"
   ]
  },
  {
   "cell_type": "markdown",
   "metadata": {},
   "source": [
    "Solution :     \n",
    "We can use Singular Value Decomposition which does not require square matrix"
   ]
  },
  {
   "cell_type": "markdown",
   "metadata": {},
   "source": [
    "## Workflow\n",
    "---"
   ]
  },
  {
   "cell_type": "markdown",
   "metadata": {},
   "source": [
    "To create a personalized RecSys, we can follow these steps:\n",
    "\n",
    "```\n",
    "1. Data Preparation --> Create utility matrix & Split Train-Test\n",
    "2. Train recommendation model --> Baseline, User to User CF (KNN) & Item to Item CF (KNN)\n",
    "3. Choosing Best Model\n",
    "5. Evaluate Final Model\n",
    "```"
   ]
  },
  {
   "cell_type": "markdown",
   "metadata": {},
   "source": [
    "## Implementing Model From Scratch\n",
    "---"
   ]
  },
  {
   "cell_type": "markdown",
   "metadata": {},
   "source": [
    "### Pure Singular Value Decomposition\n",
    "---"
   ]
  },
  {
   "cell_type": "markdown",
   "metadata": {},
   "source": [
    "<img src=\"https://drive.google.com/uc?export=view&id=1TPbt_6viDrGzBzNQMQxVnsq380FfPTbV\" width=600>\n"
   ]
  },
  {
   "cell_type": "markdown",
   "metadata": {},
   "source": [
    "#### Data Preparation\n",
    "\n",
    "Why we need to prepare the data ?\n",
    "Because previously our data is in dataframe which have\n",
    " `userId`,`movieId`,`rating`\n",
    "\n",
    "| userId | movieId | rating |\n",
    "|:------:|---------|--------|\n",
    "| 1      | 1       | 4      |\n",
    "| ..     |         |        |\n",
    "| 600    | 1       | 5      |"
   ]
  },
  {
   "cell_type": "markdown",
   "metadata": {},
   "source": [
    "However we want our dataframe become same as utility matrix shape\n",
    "\n",
    "| userId | movieId1     | ..           | movieIdNth   |\n",
    "|:------:|--------------|--------------|--------------|\n",
    "| 1      | rating value | rating value | rating value |\n",
    "| ..     | rating value | rating value | ratig value  |\n",
    "| 600    | rating value | rating value | rating value |\n",
    "\n",
    "We can achieve those by using `pd.pivot`"
   ]
  },
  {
   "cell_type": "code",
   "execution_count": 9,
   "metadata": {},
   "outputs": [
    {
     "data": {
      "text/html": [
       "<div>\n",
       "<style scoped>\n",
       "    .dataframe tbody tr th:only-of-type {\n",
       "        vertical-align: middle;\n",
       "    }\n",
       "\n",
       "    .dataframe tbody tr th {\n",
       "        vertical-align: top;\n",
       "    }\n",
       "\n",
       "    .dataframe thead th {\n",
       "        text-align: right;\n",
       "    }\n",
       "</style>\n",
       "<table border=\"1\" class=\"dataframe\">\n",
       "  <thead>\n",
       "    <tr style=\"text-align: right;\">\n",
       "      <th>movieId</th>\n",
       "      <th>1</th>\n",
       "      <th>3</th>\n",
       "      <th>6</th>\n",
       "      <th>32</th>\n",
       "      <th>34</th>\n",
       "      <th>39</th>\n",
       "      <th>47</th>\n",
       "      <th>48</th>\n",
       "      <th>69</th>\n",
       "      <th>70</th>\n",
       "      <th>...</th>\n",
       "      <th>76077</th>\n",
       "      <th>91529</th>\n",
       "      <th>91630</th>\n",
       "      <th>103253</th>\n",
       "      <th>106696</th>\n",
       "      <th>108190</th>\n",
       "      <th>109487</th>\n",
       "      <th>111362</th>\n",
       "      <th>152081</th>\n",
       "      <th>160438</th>\n",
       "    </tr>\n",
       "    <tr>\n",
       "      <th>userId</th>\n",
       "      <th></th>\n",
       "      <th></th>\n",
       "      <th></th>\n",
       "      <th></th>\n",
       "      <th></th>\n",
       "      <th></th>\n",
       "      <th></th>\n",
       "      <th></th>\n",
       "      <th></th>\n",
       "      <th></th>\n",
       "      <th></th>\n",
       "      <th></th>\n",
       "      <th></th>\n",
       "      <th></th>\n",
       "      <th></th>\n",
       "      <th></th>\n",
       "      <th></th>\n",
       "      <th></th>\n",
       "      <th></th>\n",
       "      <th></th>\n",
       "      <th></th>\n",
       "    </tr>\n",
       "  </thead>\n",
       "  <tbody>\n",
       "    <tr>\n",
       "      <th>1</th>\n",
       "      <td>4.0</td>\n",
       "      <td>4.0</td>\n",
       "      <td>4.0</td>\n",
       "      <td>NaN</td>\n",
       "      <td>NaN</td>\n",
       "      <td>NaN</td>\n",
       "      <td>5.0</td>\n",
       "      <td>NaN</td>\n",
       "      <td>NaN</td>\n",
       "      <td>3.0</td>\n",
       "      <td>...</td>\n",
       "      <td>NaN</td>\n",
       "      <td>NaN</td>\n",
       "      <td>NaN</td>\n",
       "      <td>NaN</td>\n",
       "      <td>NaN</td>\n",
       "      <td>NaN</td>\n",
       "      <td>NaN</td>\n",
       "      <td>NaN</td>\n",
       "      <td>NaN</td>\n",
       "      <td>NaN</td>\n",
       "    </tr>\n",
       "    <tr>\n",
       "      <th>2</th>\n",
       "      <td>NaN</td>\n",
       "      <td>NaN</td>\n",
       "      <td>NaN</td>\n",
       "      <td>NaN</td>\n",
       "      <td>NaN</td>\n",
       "      <td>NaN</td>\n",
       "      <td>NaN</td>\n",
       "      <td>NaN</td>\n",
       "      <td>NaN</td>\n",
       "      <td>NaN</td>\n",
       "      <td>...</td>\n",
       "      <td>NaN</td>\n",
       "      <td>3.5</td>\n",
       "      <td>NaN</td>\n",
       "      <td>NaN</td>\n",
       "      <td>NaN</td>\n",
       "      <td>NaN</td>\n",
       "      <td>3.0</td>\n",
       "      <td>NaN</td>\n",
       "      <td>NaN</td>\n",
       "      <td>NaN</td>\n",
       "    </tr>\n",
       "    <tr>\n",
       "      <th>3</th>\n",
       "      <td>NaN</td>\n",
       "      <td>NaN</td>\n",
       "      <td>NaN</td>\n",
       "      <td>NaN</td>\n",
       "      <td>NaN</td>\n",
       "      <td>NaN</td>\n",
       "      <td>NaN</td>\n",
       "      <td>NaN</td>\n",
       "      <td>NaN</td>\n",
       "      <td>NaN</td>\n",
       "      <td>...</td>\n",
       "      <td>NaN</td>\n",
       "      <td>NaN</td>\n",
       "      <td>NaN</td>\n",
       "      <td>NaN</td>\n",
       "      <td>NaN</td>\n",
       "      <td>NaN</td>\n",
       "      <td>NaN</td>\n",
       "      <td>NaN</td>\n",
       "      <td>NaN</td>\n",
       "      <td>NaN</td>\n",
       "    </tr>\n",
       "    <tr>\n",
       "      <th>4</th>\n",
       "      <td>NaN</td>\n",
       "      <td>NaN</td>\n",
       "      <td>NaN</td>\n",
       "      <td>2.0</td>\n",
       "      <td>NaN</td>\n",
       "      <td>NaN</td>\n",
       "      <td>2.0</td>\n",
       "      <td>NaN</td>\n",
       "      <td>NaN</td>\n",
       "      <td>NaN</td>\n",
       "      <td>...</td>\n",
       "      <td>NaN</td>\n",
       "      <td>NaN</td>\n",
       "      <td>NaN</td>\n",
       "      <td>NaN</td>\n",
       "      <td>NaN</td>\n",
       "      <td>NaN</td>\n",
       "      <td>NaN</td>\n",
       "      <td>NaN</td>\n",
       "      <td>NaN</td>\n",
       "      <td>NaN</td>\n",
       "    </tr>\n",
       "    <tr>\n",
       "      <th>5</th>\n",
       "      <td>4.0</td>\n",
       "      <td>NaN</td>\n",
       "      <td>NaN</td>\n",
       "      <td>NaN</td>\n",
       "      <td>4.0</td>\n",
       "      <td>3.0</td>\n",
       "      <td>NaN</td>\n",
       "      <td>NaN</td>\n",
       "      <td>NaN</td>\n",
       "      <td>NaN</td>\n",
       "      <td>...</td>\n",
       "      <td>NaN</td>\n",
       "      <td>NaN</td>\n",
       "      <td>NaN</td>\n",
       "      <td>NaN</td>\n",
       "      <td>NaN</td>\n",
       "      <td>NaN</td>\n",
       "      <td>NaN</td>\n",
       "      <td>NaN</td>\n",
       "      <td>NaN</td>\n",
       "      <td>NaN</td>\n",
       "    </tr>\n",
       "  </tbody>\n",
       "</table>\n",
       "<p>5 rows × 248 columns</p>\n",
       "</div>"
      ],
      "text/plain": [
       "movieId  1       3       6       32      34      39      47      48       \n",
       "userId                                                                    \n",
       "1           4.0     4.0     4.0     NaN     NaN     NaN     5.0     NaN  \\\n",
       "2           NaN     NaN     NaN     NaN     NaN     NaN     NaN     NaN   \n",
       "3           NaN     NaN     NaN     NaN     NaN     NaN     NaN     NaN   \n",
       "4           NaN     NaN     NaN     2.0     NaN     NaN     2.0     NaN   \n",
       "5           4.0     NaN     NaN     NaN     4.0     3.0     NaN     NaN   \n",
       "\n",
       "movieId  69      70      ...  76077   91529   91630   103253  106696  108190   \n",
       "userId                   ...                                                   \n",
       "1           NaN     3.0  ...     NaN     NaN     NaN     NaN     NaN     NaN  \\\n",
       "2           NaN     NaN  ...     NaN     3.5     NaN     NaN     NaN     NaN   \n",
       "3           NaN     NaN  ...     NaN     NaN     NaN     NaN     NaN     NaN   \n",
       "4           NaN     NaN  ...     NaN     NaN     NaN     NaN     NaN     NaN   \n",
       "5           NaN     NaN  ...     NaN     NaN     NaN     NaN     NaN     NaN   \n",
       "\n",
       "movieId  109487  111362  152081  160438  \n",
       "userId                                   \n",
       "1           NaN     NaN     NaN     NaN  \n",
       "2           3.0     NaN     NaN     NaN  \n",
       "3           NaN     NaN     NaN     NaN  \n",
       "4           NaN     NaN     NaN     NaN  \n",
       "5           NaN     NaN     NaN     NaN  \n",
       "\n",
       "[5 rows x 248 columns]"
      ]
     },
     "execution_count": 9,
     "metadata": {},
     "output_type": "execute_result"
    }
   ],
   "source": [
    "# pivot data\n",
    "rating_data_pivot = rating_data.pivot(index= 'userId', columns= 'movieId', values= 'rating')\n",
    "\n",
    "# take a look after pivoted\n",
    "rating_data_pivot.head()"
   ]
  },
  {
   "cell_type": "code",
   "execution_count": 10,
   "metadata": {},
   "outputs": [
    {
     "data": {
      "text/plain": [
       "(602, 248)"
      ]
     },
     "execution_count": 10,
     "metadata": {},
     "output_type": "execute_result"
    }
   ],
   "source": [
    "#check shape\n",
    "rating_data_pivot.shape"
   ]
  },
  {
   "cell_type": "code",
   "execution_count": 11,
   "metadata": {},
   "outputs": [
    {
     "data": {
      "text/plain": [
       "128536"
      ]
     },
     "execution_count": 11,
     "metadata": {},
     "output_type": "execute_result"
    }
   ],
   "source": [
    "rating_data_pivot.isnull().sum().sum()"
   ]
  },
  {
   "cell_type": "markdown",
   "metadata": {},
   "source": [
    "Se can see that after pivoting data, there are lot of missing values, however we can't measure similarity using missing data, we need imputation later. \n",
    "\n",
    "For easier preparing data we will create a function `prepare_utility_dataframe`"
   ]
  },
  {
   "cell_type": "code",
   "execution_count": 12,
   "metadata": {},
   "outputs": [],
   "source": [
    "def prepare_utility_dataframe(rating_path) :\n",
    "\n",
    "    \"\"\"\n",
    "    Function to prepare rating data into pivoted rating_data (utility matrix form)\n",
    "\n",
    "    Parameters\n",
    "    ----------\n",
    "    rating_path : str\n",
    "        The path of rating data\n",
    "\n",
    "    Returns\n",
    "    -------\n",
    "    rating_data_pivot : pandas DataFrame\n",
    "        rating data in pivoted format\n",
    "\n",
    "\n",
    "\n",
    "\n",
    "\n",
    "    \"\"\"\n",
    "\n",
    "    # load data\n",
    "    rating_data = load_rating_data(rating_path)\n",
    "\n",
    "    # perform pivot\n",
    "    rating_data_pivot = rating_data.pivot(index= 'userId', columns= 'movieId', values= 'rating')\n",
    "\n",
    "    # print pivoted data shape\n",
    "    print('Data Shaped After Pivot', rating_data_pivot.shape)\n",
    "\n",
    "    # checking missing values\n",
    "    print('Number of missing values after pivot',rating_data_pivot.isnull().sum().sum() )\n",
    "\n",
    "\n",
    "    # return data\n",
    "    return rating_data_pivot\n"
   ]
  },
  {
   "cell_type": "code",
   "execution_count": 13,
   "metadata": {},
   "outputs": [
    {
     "name": "stdout",
     "output_type": "stream",
     "text": [
      "Original data shape : (20760, 3)\n",
      "Data Shaped After Pivot (602, 248)\n",
      "Number of missing values after pivot 128536\n"
     ]
    }
   ],
   "source": [
    "# check function\n",
    "rating_data_pivot = prepare_utility_dataframe(rating_path = rating_path)"
   ]
  },
  {
   "cell_type": "code",
   "execution_count": 14,
   "metadata": {},
   "outputs": [
    {
     "data": {
      "text/html": [
       "<div>\n",
       "<style scoped>\n",
       "    .dataframe tbody tr th:only-of-type {\n",
       "        vertical-align: middle;\n",
       "    }\n",
       "\n",
       "    .dataframe tbody tr th {\n",
       "        vertical-align: top;\n",
       "    }\n",
       "\n",
       "    .dataframe thead th {\n",
       "        text-align: right;\n",
       "    }\n",
       "</style>\n",
       "<table border=\"1\" class=\"dataframe\">\n",
       "  <thead>\n",
       "    <tr style=\"text-align: right;\">\n",
       "      <th>movieId</th>\n",
       "      <th>1</th>\n",
       "      <th>3</th>\n",
       "      <th>6</th>\n",
       "      <th>32</th>\n",
       "      <th>34</th>\n",
       "      <th>39</th>\n",
       "      <th>47</th>\n",
       "      <th>48</th>\n",
       "      <th>69</th>\n",
       "      <th>70</th>\n",
       "      <th>...</th>\n",
       "      <th>76077</th>\n",
       "      <th>91529</th>\n",
       "      <th>91630</th>\n",
       "      <th>103253</th>\n",
       "      <th>106696</th>\n",
       "      <th>108190</th>\n",
       "      <th>109487</th>\n",
       "      <th>111362</th>\n",
       "      <th>152081</th>\n",
       "      <th>160438</th>\n",
       "    </tr>\n",
       "    <tr>\n",
       "      <th>userId</th>\n",
       "      <th></th>\n",
       "      <th></th>\n",
       "      <th></th>\n",
       "      <th></th>\n",
       "      <th></th>\n",
       "      <th></th>\n",
       "      <th></th>\n",
       "      <th></th>\n",
       "      <th></th>\n",
       "      <th></th>\n",
       "      <th></th>\n",
       "      <th></th>\n",
       "      <th></th>\n",
       "      <th></th>\n",
       "      <th></th>\n",
       "      <th></th>\n",
       "      <th></th>\n",
       "      <th></th>\n",
       "      <th></th>\n",
       "      <th></th>\n",
       "      <th></th>\n",
       "    </tr>\n",
       "  </thead>\n",
       "  <tbody>\n",
       "    <tr>\n",
       "      <th>1</th>\n",
       "      <td>4.0</td>\n",
       "      <td>4.0</td>\n",
       "      <td>4.0</td>\n",
       "      <td>NaN</td>\n",
       "      <td>NaN</td>\n",
       "      <td>NaN</td>\n",
       "      <td>5.0</td>\n",
       "      <td>NaN</td>\n",
       "      <td>NaN</td>\n",
       "      <td>3.0</td>\n",
       "      <td>...</td>\n",
       "      <td>NaN</td>\n",
       "      <td>NaN</td>\n",
       "      <td>NaN</td>\n",
       "      <td>NaN</td>\n",
       "      <td>NaN</td>\n",
       "      <td>NaN</td>\n",
       "      <td>NaN</td>\n",
       "      <td>NaN</td>\n",
       "      <td>NaN</td>\n",
       "      <td>NaN</td>\n",
       "    </tr>\n",
       "    <tr>\n",
       "      <th>2</th>\n",
       "      <td>NaN</td>\n",
       "      <td>NaN</td>\n",
       "      <td>NaN</td>\n",
       "      <td>NaN</td>\n",
       "      <td>NaN</td>\n",
       "      <td>NaN</td>\n",
       "      <td>NaN</td>\n",
       "      <td>NaN</td>\n",
       "      <td>NaN</td>\n",
       "      <td>NaN</td>\n",
       "      <td>...</td>\n",
       "      <td>NaN</td>\n",
       "      <td>3.5</td>\n",
       "      <td>NaN</td>\n",
       "      <td>NaN</td>\n",
       "      <td>NaN</td>\n",
       "      <td>NaN</td>\n",
       "      <td>3.0</td>\n",
       "      <td>NaN</td>\n",
       "      <td>NaN</td>\n",
       "      <td>NaN</td>\n",
       "    </tr>\n",
       "    <tr>\n",
       "      <th>3</th>\n",
       "      <td>NaN</td>\n",
       "      <td>NaN</td>\n",
       "      <td>NaN</td>\n",
       "      <td>NaN</td>\n",
       "      <td>NaN</td>\n",
       "      <td>NaN</td>\n",
       "      <td>NaN</td>\n",
       "      <td>NaN</td>\n",
       "      <td>NaN</td>\n",
       "      <td>NaN</td>\n",
       "      <td>...</td>\n",
       "      <td>NaN</td>\n",
       "      <td>NaN</td>\n",
       "      <td>NaN</td>\n",
       "      <td>NaN</td>\n",
       "      <td>NaN</td>\n",
       "      <td>NaN</td>\n",
       "      <td>NaN</td>\n",
       "      <td>NaN</td>\n",
       "      <td>NaN</td>\n",
       "      <td>NaN</td>\n",
       "    </tr>\n",
       "    <tr>\n",
       "      <th>4</th>\n",
       "      <td>NaN</td>\n",
       "      <td>NaN</td>\n",
       "      <td>NaN</td>\n",
       "      <td>2.0</td>\n",
       "      <td>NaN</td>\n",
       "      <td>NaN</td>\n",
       "      <td>2.0</td>\n",
       "      <td>NaN</td>\n",
       "      <td>NaN</td>\n",
       "      <td>NaN</td>\n",
       "      <td>...</td>\n",
       "      <td>NaN</td>\n",
       "      <td>NaN</td>\n",
       "      <td>NaN</td>\n",
       "      <td>NaN</td>\n",
       "      <td>NaN</td>\n",
       "      <td>NaN</td>\n",
       "      <td>NaN</td>\n",
       "      <td>NaN</td>\n",
       "      <td>NaN</td>\n",
       "      <td>NaN</td>\n",
       "    </tr>\n",
       "    <tr>\n",
       "      <th>5</th>\n",
       "      <td>4.0</td>\n",
       "      <td>NaN</td>\n",
       "      <td>NaN</td>\n",
       "      <td>NaN</td>\n",
       "      <td>4.0</td>\n",
       "      <td>3.0</td>\n",
       "      <td>NaN</td>\n",
       "      <td>NaN</td>\n",
       "      <td>NaN</td>\n",
       "      <td>NaN</td>\n",
       "      <td>...</td>\n",
       "      <td>NaN</td>\n",
       "      <td>NaN</td>\n",
       "      <td>NaN</td>\n",
       "      <td>NaN</td>\n",
       "      <td>NaN</td>\n",
       "      <td>NaN</td>\n",
       "      <td>NaN</td>\n",
       "      <td>NaN</td>\n",
       "      <td>NaN</td>\n",
       "      <td>NaN</td>\n",
       "    </tr>\n",
       "  </tbody>\n",
       "</table>\n",
       "<p>5 rows × 248 columns</p>\n",
       "</div>"
      ],
      "text/plain": [
       "movieId  1       3       6       32      34      39      47      48       \n",
       "userId                                                                    \n",
       "1           4.0     4.0     4.0     NaN     NaN     NaN     5.0     NaN  \\\n",
       "2           NaN     NaN     NaN     NaN     NaN     NaN     NaN     NaN   \n",
       "3           NaN     NaN     NaN     NaN     NaN     NaN     NaN     NaN   \n",
       "4           NaN     NaN     NaN     2.0     NaN     NaN     2.0     NaN   \n",
       "5           4.0     NaN     NaN     NaN     4.0     3.0     NaN     NaN   \n",
       "\n",
       "movieId  69      70      ...  76077   91529   91630   103253  106696  108190   \n",
       "userId                   ...                                                   \n",
       "1           NaN     3.0  ...     NaN     NaN     NaN     NaN     NaN     NaN  \\\n",
       "2           NaN     NaN  ...     NaN     3.5     NaN     NaN     NaN     NaN   \n",
       "3           NaN     NaN  ...     NaN     NaN     NaN     NaN     NaN     NaN   \n",
       "4           NaN     NaN  ...     NaN     NaN     NaN     NaN     NaN     NaN   \n",
       "5           NaN     NaN  ...     NaN     NaN     NaN     NaN     NaN     NaN   \n",
       "\n",
       "movieId  109487  111362  152081  160438  \n",
       "userId                                   \n",
       "1           NaN     NaN     NaN     NaN  \n",
       "2           3.0     NaN     NaN     NaN  \n",
       "3           NaN     NaN     NaN     NaN  \n",
       "4           NaN     NaN     NaN     NaN  \n",
       "5           NaN     NaN     NaN     NaN  \n",
       "\n",
       "[5 rows x 248 columns]"
      ]
     },
     "execution_count": 14,
     "metadata": {},
     "output_type": "execute_result"
    }
   ],
   "source": [
    "rating_data_pivot.head()"
   ]
  },
  {
   "cell_type": "markdown",
   "metadata": {},
   "source": [
    "#### Fill Missing Values\n",
    "\n",
    "To perform Singular Value Decomposition we can use `scipy.sparse.linalg.svd`"
   ]
  },
  {
   "cell_type": "code",
   "execution_count": 15,
   "metadata": {},
   "outputs": [
    {
     "ename": "ValueError",
     "evalue": "array must not contain infs or NaNs",
     "output_type": "error",
     "traceback": [
      "\u001b[1;31m---------------------------------------------------------------------------\u001b[0m",
      "\u001b[1;31mValueError\u001b[0m                                Traceback (most recent call last)",
      "\u001b[1;32md:\\Daniel\\PACMANN\\RecSys\\Collaborative_Filtering.ipynb Cell 57\u001b[0m line \u001b[0;36m4\n\u001b[0;32m      <a href='vscode-notebook-cell:/d%3A/Daniel/PACMANN/RecSys/Collaborative_Filtering.ipynb#Y110sZmlsZQ%3D%3D?line=0'>1</a>\u001b[0m \u001b[39m# import package\u001b[39;00m\n\u001b[0;32m      <a href='vscode-notebook-cell:/d%3A/Daniel/PACMANN/RecSys/Collaborative_Filtering.ipynb#Y110sZmlsZQ%3D%3D?line=1'>2</a>\u001b[0m \u001b[39mfrom\u001b[39;00m \u001b[39mscipy\u001b[39;00m\u001b[39m.\u001b[39;00m\u001b[39mlinalg\u001b[39;00m \u001b[39mimport\u001b[39;00m svd\n\u001b[1;32m----> <a href='vscode-notebook-cell:/d%3A/Daniel/PACMANN/RecSys/Collaborative_Filtering.ipynb#Y110sZmlsZQ%3D%3D?line=3'>4</a>\u001b[0m u,s,v \u001b[39m=\u001b[39m svd(rating_data_pivot)\n",
      "File \u001b[1;32mc:\\Users\\daniel.satria\\Anaconda3\\envs\\nlp\\lib\\site-packages\\scipy\\linalg\\_decomp_svd.py:108\u001b[0m, in \u001b[0;36msvd\u001b[1;34m(a, full_matrices, compute_uv, overwrite_a, check_finite, lapack_driver)\u001b[0m\n\u001b[0;32m     13\u001b[0m \u001b[39mdef\u001b[39;00m \u001b[39msvd\u001b[39m(a, full_matrices\u001b[39m=\u001b[39m\u001b[39mTrue\u001b[39;00m, compute_uv\u001b[39m=\u001b[39m\u001b[39mTrue\u001b[39;00m, overwrite_a\u001b[39m=\u001b[39m\u001b[39mFalse\u001b[39;00m,\n\u001b[0;32m     14\u001b[0m         check_finite\u001b[39m=\u001b[39m\u001b[39mTrue\u001b[39;00m, lapack_driver\u001b[39m=\u001b[39m\u001b[39m'\u001b[39m\u001b[39mgesdd\u001b[39m\u001b[39m'\u001b[39m):\n\u001b[0;32m     15\u001b[0m \u001b[39m    \u001b[39m\u001b[39m\"\"\"\u001b[39;00m\n\u001b[0;32m     16\u001b[0m \u001b[39m    Singular Value Decomposition.\u001b[39;00m\n\u001b[0;32m     17\u001b[0m \n\u001b[1;32m   (...)\u001b[0m\n\u001b[0;32m    106\u001b[0m \n\u001b[0;32m    107\u001b[0m \u001b[39m    \"\"\"\u001b[39;00m\n\u001b[1;32m--> 108\u001b[0m     a1 \u001b[39m=\u001b[39m _asarray_validated(a, check_finite\u001b[39m=\u001b[39;49mcheck_finite)\n\u001b[0;32m    109\u001b[0m     \u001b[39mif\u001b[39;00m \u001b[39mlen\u001b[39m(a1\u001b[39m.\u001b[39mshape) \u001b[39m!=\u001b[39m \u001b[39m2\u001b[39m:\n\u001b[0;32m    110\u001b[0m         \u001b[39mraise\u001b[39;00m \u001b[39mValueError\u001b[39;00m(\u001b[39m'\u001b[39m\u001b[39mexpected matrix\u001b[39m\u001b[39m'\u001b[39m)\n",
      "File \u001b[1;32mc:\\Users\\daniel.satria\\Anaconda3\\envs\\nlp\\lib\\site-packages\\scipy\\_lib\\_util.py:252\u001b[0m, in \u001b[0;36m_asarray_validated\u001b[1;34m(a, check_finite, sparse_ok, objects_ok, mask_ok, as_inexact)\u001b[0m\n\u001b[0;32m    250\u001b[0m         \u001b[39mraise\u001b[39;00m \u001b[39mValueError\u001b[39;00m(\u001b[39m'\u001b[39m\u001b[39mmasked arrays are not supported\u001b[39m\u001b[39m'\u001b[39m)\n\u001b[0;32m    251\u001b[0m toarray \u001b[39m=\u001b[39m np\u001b[39m.\u001b[39masarray_chkfinite \u001b[39mif\u001b[39;00m check_finite \u001b[39melse\u001b[39;00m np\u001b[39m.\u001b[39masarray\n\u001b[1;32m--> 252\u001b[0m a \u001b[39m=\u001b[39m toarray(a)\n\u001b[0;32m    253\u001b[0m \u001b[39mif\u001b[39;00m \u001b[39mnot\u001b[39;00m objects_ok:\n\u001b[0;32m    254\u001b[0m     \u001b[39mif\u001b[39;00m a\u001b[39m.\u001b[39mdtype \u001b[39mis\u001b[39;00m np\u001b[39m.\u001b[39mdtype(\u001b[39m'\u001b[39m\u001b[39mO\u001b[39m\u001b[39m'\u001b[39m):\n",
      "File \u001b[1;32mc:\\Users\\daniel.satria\\Anaconda3\\envs\\nlp\\lib\\site-packages\\numpy\\lib\\function_base.py:627\u001b[0m, in \u001b[0;36masarray_chkfinite\u001b[1;34m(a, dtype, order)\u001b[0m\n\u001b[0;32m    625\u001b[0m a \u001b[39m=\u001b[39m asarray(a, dtype\u001b[39m=\u001b[39mdtype, order\u001b[39m=\u001b[39morder)\n\u001b[0;32m    626\u001b[0m \u001b[39mif\u001b[39;00m a\u001b[39m.\u001b[39mdtype\u001b[39m.\u001b[39mchar \u001b[39min\u001b[39;00m typecodes[\u001b[39m'\u001b[39m\u001b[39mAllFloat\u001b[39m\u001b[39m'\u001b[39m] \u001b[39mand\u001b[39;00m \u001b[39mnot\u001b[39;00m np\u001b[39m.\u001b[39misfinite(a)\u001b[39m.\u001b[39mall():\n\u001b[1;32m--> 627\u001b[0m     \u001b[39mraise\u001b[39;00m \u001b[39mValueError\u001b[39;00m(\n\u001b[0;32m    628\u001b[0m         \u001b[39m\"\u001b[39m\u001b[39marray must not contain infs or NaNs\u001b[39m\u001b[39m\"\u001b[39m)\n\u001b[0;32m    629\u001b[0m \u001b[39mreturn\u001b[39;00m a\n",
      "\u001b[1;31mValueError\u001b[0m: array must not contain infs or NaNs"
     ]
    }
   ],
   "source": [
    "# # import package\n",
    "# from scipy.linalg import svd\n",
    "\n",
    "# u,s,v = svd(rating_data_pivot)"
   ]
  },
  {
   "cell_type": "markdown",
   "metadata": {},
   "source": [
    "Ups!, remember that we cannot use `SVD` if we have missing values\n",
    "\n",
    "To demonstrate how Singular Value Decomposition work we will impute first the data, using **0**"
   ]
  },
  {
   "cell_type": "code",
   "execution_count": 16,
   "metadata": {},
   "outputs": [],
   "source": [
    "# imputing nan\n",
    "imputed_rating = rating_data_pivot.fillna(0)\n",
    "\n",
    "# convert our imputed ratings into matrix\n",
    "ratings_matrix = imputed_rating.to_numpy()"
   ]
  },
  {
   "cell_type": "code",
   "execution_count": 17,
   "metadata": {},
   "outputs": [
    {
     "data": {
      "text/plain": [
       "array([[4. , 4. , 4. , ..., 0. , 0. , 0. ],\n",
       "       [0. , 0. , 0. , ..., 0. , 0. , 0. ],\n",
       "       [0. , 0. , 0. , ..., 0. , 0. , 0. ],\n",
       "       ...,\n",
       "       [2.5, 2. , 0. , ..., 0. , 0. , 0. ],\n",
       "       [3. , 0. , 0. , ..., 0. , 0. , 0. ],\n",
       "       [5. , 0. , 5. , ..., 4. , 4. , 0. ]])"
      ]
     },
     "execution_count": 17,
     "metadata": {},
     "output_type": "execute_result"
    }
   ],
   "source": [
    "# checking new imputed matrix\n",
    "ratings_matrix"
   ]
  },
  {
   "cell_type": "markdown",
   "metadata": {},
   "source": [
    "#### Performing SVD"
   ]
  },
  {
   "cell_type": "code",
   "execution_count": 18,
   "metadata": {},
   "outputs": [
    {
     "name": "stdout",
     "output_type": "stream",
     "text": [
      "(602, 602)\n"
     ]
    }
   ],
   "source": [
    "# perform svd, extracting 3 components, u,s,v\n",
    "\n",
    "U,S,Vt = svd(ratings_matrix)\n",
    "\n",
    "# check shape\n",
    "print(U.shape)"
   ]
  },
  {
   "cell_type": "code",
   "execution_count": 19,
   "metadata": {},
   "outputs": [
    {
     "name": "stdout",
     "output_type": "stream",
     "text": [
      "(248,)\n"
     ]
    }
   ],
   "source": [
    "# check shape\n",
    "print(S.shape)"
   ]
  },
  {
   "cell_type": "code",
   "execution_count": 20,
   "metadata": {},
   "outputs": [
    {
     "name": "stdout",
     "output_type": "stream",
     "text": [
      "(248, 248)\n"
     ]
    }
   ],
   "source": [
    "# check shape\n",
    "print(Vt.shape)"
   ]
  },
  {
   "cell_type": "markdown",
   "metadata": {},
   "source": [
    "Next, we will take a look at each resulting component"
   ]
  },
  {
   "cell_type": "code",
   "execution_count": 21,
   "metadata": {},
   "outputs": [
    {
     "data": {
      "text/plain": [
       "array([[-6.10986995e-02, -1.40406053e-02,  8.87529304e-02, ...,\n",
       "        -5.05838395e-03,  4.42649553e-04, -5.08079222e-02],\n",
       "       [-6.58970610e-03,  9.00114922e-03, -2.52556453e-02, ...,\n",
       "        -6.28828187e-02,  1.30559298e-02,  6.86276468e-02],\n",
       "       [-5.00299782e-04,  2.28932072e-04,  2.72181322e-04, ...,\n",
       "        -1.15192235e-02,  7.63933037e-02, -3.47478786e-02],\n",
       "       ...,\n",
       "       [-9.97047068e-02,  2.28888773e-02, -4.09372077e-03, ...,\n",
       "         2.77367170e-01,  5.92809407e-03,  1.31309046e-02],\n",
       "       [-1.54748796e-02, -5.56241558e-02, -2.90079969e-02, ...,\n",
       "        -2.93211927e-02,  8.13520054e-01,  2.92182716e-03],\n",
       "       [-1.03603767e-01,  9.34901281e-02, -3.60039556e-02, ...,\n",
       "         2.36520822e-02,  6.07308755e-03,  1.83231528e-01]])"
      ]
     },
     "execution_count": 21,
     "metadata": {},
     "output_type": "execute_result"
    }
   ],
   "source": [
    "U"
   ]
  },
  {
   "cell_type": "code",
   "execution_count": 22,
   "metadata": {},
   "outputs": [
    {
     "data": {
      "text/plain": [
       "(602, 602)"
      ]
     },
     "execution_count": 22,
     "metadata": {},
     "output_type": "execute_result"
    }
   ],
   "source": [
    "U.shape"
   ]
  },
  {
   "cell_type": "code",
   "execution_count": 23,
   "metadata": {},
   "outputs": [
    {
     "data": {
      "text/plain": [
       "array([339.21215777, 131.75155703, 102.97079724,  94.39134529,\n",
       "        85.7511904 ,  71.6504792 ,  66.19318185,  58.39552719,\n",
       "        56.39213009,  55.67866648,  53.04557521,  51.87756309,\n",
       "        50.28978355,  49.99515341,  49.27438074,  47.31526156,\n",
       "        46.62374948,  46.14490778,  45.40407384,  44.51548227,\n",
       "        43.45653386,  43.19464136,  42.87798748,  41.92636037,\n",
       "        41.75426494,  40.99269952,  40.70671585,  40.47013616,\n",
       "        40.18082373,  39.77956871,  39.52039779,  38.83204996,\n",
       "        38.22805471,  37.79959828,  37.62818421,  37.11107868,\n",
       "        36.7841416 ,  36.41688409,  36.19755515,  36.11005467,\n",
       "        35.5681784 ,  35.24195139,  35.11694815,  34.45418756,\n",
       "        34.37938099,  34.06700782,  33.76365576,  33.48189199,\n",
       "        33.38668802,  33.04295229,  32.72714273,  32.48093131,\n",
       "        32.34447498,  32.08010303,  31.92667814,  31.38214849,\n",
       "        31.14570529,  31.03587733,  30.61056076,  30.59024625,\n",
       "        30.21910478,  30.06780253,  29.91175913,  29.55590186,\n",
       "        29.40309955,  29.09902159,  28.80325665,  28.61235647,\n",
       "        28.39446352,  28.23633299,  28.01315022,  27.922594  ,\n",
       "        27.57495264,  27.36450047,  27.24489283,  26.99404174,\n",
       "        26.70133683,  26.58070055,  26.48864283,  26.38512514,\n",
       "        26.12905267,  25.81193251,  25.72240155,  25.54583351,\n",
       "        25.25322267,  25.0782406 ,  24.80668065,  24.75573815,\n",
       "        24.7291681 ,  24.57353189,  24.27469128,  24.07589541,\n",
       "        23.90180562,  23.64527213,  23.45859532,  23.27639027,\n",
       "        23.12943557,  22.95363201,  22.88030215,  22.62679763,\n",
       "        22.5210721 ,  22.3665361 ,  22.20917326,  22.07171024,\n",
       "        21.9595414 ,  21.80191584,  21.52288939,  21.48257928,\n",
       "        21.33116622,  21.12505359,  20.98318704,  20.81215896,\n",
       "        20.5937449 ,  20.51565914,  20.47064141,  20.23540412,\n",
       "        20.21042531,  20.01963396,  19.93988684,  19.72684135,\n",
       "        19.67483649,  19.47040165,  19.30142641,  19.25221052,\n",
       "        19.21033558,  19.02016862,  18.91423318,  18.68635457,\n",
       "        18.47618997,  18.40037656,  18.08306157,  18.02549578,\n",
       "        17.80680091,  17.76780584,  17.57789058,  17.47745314,\n",
       "        17.33859818,  17.18418731,  17.16957042,  16.94081163,\n",
       "        16.71868056,  16.58062797,  16.41279545,  16.26417905,\n",
       "        16.10584526,  15.95448376,  15.80418767,  15.75094638,\n",
       "        15.65687827,  15.44551097,  15.34196263,  15.28344728,\n",
       "        15.14949805,  14.98201477,  14.95739723,  14.74750977,\n",
       "        14.62986187,  14.45119993,  14.29811206,  14.16152955,\n",
       "        14.06476436,  14.00746973,  13.96568624,  13.85852484,\n",
       "        13.67186321,  13.59064554,  13.58036172,  13.25567751,\n",
       "        13.18744247,  13.04356336,  13.02333936,  12.9101052 ,\n",
       "        12.85749676,  12.57491596,  12.55823767,  12.38954899,\n",
       "        12.34977412,  12.30052818,  12.18557476,  12.10727606,\n",
       "        11.85919094,  11.75244738,  11.63696635,  11.56192264,\n",
       "        11.45073615,  11.25902705,  11.08088229,  11.01926067,\n",
       "        10.86274933,  10.84971548,  10.73603792,  10.65623835,\n",
       "        10.43732244,  10.37293592,  10.31589031,  10.21611386,\n",
       "        10.13742924,   9.93153635,   9.71543259,   9.63941043,\n",
       "         9.44428963,   9.35767369,   9.28646895,   9.21515839,\n",
       "         9.04971362,   8.96221867,   8.82576115,   8.66524734,\n",
       "         8.50808316,   8.33491506,   8.23717717,   8.19500044,\n",
       "         8.10812127,   7.93831705,   7.80260237,   7.76170024,\n",
       "         7.71657019,   7.4857068 ,   7.37923196,   7.25870816,\n",
       "         7.02922064,   6.97424097,   6.90906679,   6.82062869,\n",
       "         6.67399948,   6.49894773,   6.37489497,   6.24033452,\n",
       "         6.14080447,   6.03884146,   5.84964405,   5.74533752,\n",
       "         5.66974871,   5.45177682,   5.42624803,   5.28099884,\n",
       "         5.22743018,   4.99127969,   4.88755735,   4.70739516,\n",
       "         4.44970829,   4.21078659,   4.03148624,   3.61111217,\n",
       "         3.55540331,   3.38516619,   2.6682166 ,   1.96560107])"
      ]
     },
     "execution_count": 23,
     "metadata": {},
     "output_type": "execute_result"
    }
   ],
   "source": [
    "S"
   ]
  },
  {
   "cell_type": "code",
   "execution_count": 24,
   "metadata": {},
   "outputs": [
    {
     "data": {
      "text/plain": [
       "(248,)"
      ]
     },
     "execution_count": 24,
     "metadata": {},
     "output_type": "execute_result"
    }
   ],
   "source": [
    "S.shape"
   ]
  },
  {
   "cell_type": "code",
   "execution_count": 25,
   "metadata": {},
   "outputs": [
    {
     "data": {
      "text/plain": [
       "array([[-1.19195485e-01, -2.46238616e-02, -6.52963961e-02, ...,\n",
       "        -2.18047475e-02, -1.80222824e-02, -5.90937469e-03],\n",
       "       [-5.93354056e-02, -4.00549777e-02, -4.64539907e-02, ...,\n",
       "         3.20133848e-02,  2.89744119e-02,  6.09319920e-03],\n",
       "       [ 3.77628925e-02,  4.22598465e-02,  3.19443941e-02, ...,\n",
       "        -1.46226831e-02, -3.12695342e-02,  2.31874390e-03],\n",
       "       ...,\n",
       "       [ 5.47752358e-03, -3.32635456e-02,  1.18720559e-02, ...,\n",
       "        -6.43801810e-02, -1.79636938e-02,  4.54976618e-01],\n",
       "       [-1.25425430e-03, -3.72494507e-02, -2.09651833e-05, ...,\n",
       "         2.21493611e-02,  2.68393904e-02, -6.70822868e-02],\n",
       "       [ 2.83418327e-04,  8.96494023e-03, -7.21521652e-03, ...,\n",
       "        -4.05817490e-02,  2.39229876e-03,  1.87728507e-01]])"
      ]
     },
     "execution_count": 25,
     "metadata": {},
     "output_type": "execute_result"
    }
   ],
   "source": [
    "Vt"
   ]
  },
  {
   "cell_type": "code",
   "execution_count": 26,
   "metadata": {},
   "outputs": [
    {
     "data": {
      "text/plain": [
       "(248, 248)"
      ]
     },
     "execution_count": 26,
     "metadata": {},
     "output_type": "execute_result"
    }
   ],
   "source": [
    "Vt.shape"
   ]
  },
  {
   "cell_type": "markdown",
   "metadata": {},
   "source": [
    "#### Predicting a rating from SVD Components\n",
    "\n",
    "Now, to make things under the hood far more understandable we are going to predict rating from user 1 on item 1.\n",
    "\n",
    "Now, we have already have **U,S,V** components, we can generate prediction on how user will give a rating to an item , what we need to do are :     \n",
    "1. Slice user factor (U)\n",
    "2. Slice item factor (V)\n",
    "3. Perform Dot product $(u.s.v^T)$"
   ]
  },
  {
   "cell_type": "code",
   "execution_count": 27,
   "metadata": {},
   "outputs": [
    {
     "data": {
      "text/plain": [
       "array([-6.10986995e-02, -1.40406053e-02,  8.87529304e-02,  5.47528141e-02,\n",
       "        5.18094713e-02,  8.87199623e-03, -1.07273282e-02, -5.92583702e-02,\n",
       "       -4.10514311e-02,  7.82964028e-02,  5.45425141e-04, -7.62034712e-02,\n",
       "       -6.61876397e-02,  8.14280249e-02, -4.99956387e-02, -1.51804803e-01,\n",
       "       -5.26391778e-02,  3.82218527e-02,  8.79724333e-02, -7.76514655e-03,\n",
       "       -7.07754099e-03, -6.22517258e-02, -1.18292936e-01, -2.96878183e-02,\n",
       "        4.17751305e-02,  5.87610062e-02, -2.91692662e-02,  3.19693674e-02,\n",
       "       -8.81960422e-03, -9.70923355e-02,  3.72105920e-02,  2.10032502e-02,\n",
       "       -6.40964141e-02,  1.51631925e-01, -1.07941024e-02,  5.11747239e-03,\n",
       "        4.22785728e-02, -4.49994020e-02, -1.84601374e-02, -1.12255757e-01,\n",
       "        1.37224475e-01,  1.89959380e-02,  6.56149742e-03, -5.61689817e-02,\n",
       "        1.03701522e-01, -9.39044184e-02,  4.72992799e-02,  2.41742957e-02,\n",
       "        1.07183931e-01, -1.34182253e-02, -1.06624887e-01,  7.05486764e-02,\n",
       "       -4.73448611e-02,  9.17314280e-02,  8.40670579e-02,  5.46087436e-02,\n",
       "       -2.49896604e-02, -8.81792031e-03,  8.37166388e-03,  3.19565504e-03,\n",
       "       -6.92047301e-02,  8.57486159e-02, -5.50719322e-02,  4.93249994e-02,\n",
       "        5.41428158e-02, -1.33142794e-01,  1.52737160e-02, -1.06683146e-01,\n",
       "        4.03792701e-02,  1.07632199e-01,  5.22389573e-03, -3.89076727e-02,\n",
       "       -3.93892930e-02,  2.29150735e-02,  3.62009063e-02, -1.18685854e-02,\n",
       "        1.05874491e-02,  5.01002923e-03, -2.05355707e-02,  8.00822696e-02,\n",
       "        7.44748037e-02, -7.01923352e-03, -3.11136425e-02, -1.50343857e-02,\n",
       "        5.80870190e-03,  4.52105378e-03,  2.12609646e-03, -5.88318874e-02,\n",
       "        2.41461184e-02, -9.06581845e-02,  2.40047311e-02,  9.51905691e-03,\n",
       "       -6.39598981e-02,  9.35390216e-02, -1.91168602e-01, -5.25656990e-02,\n",
       "        5.60488849e-02,  4.50644887e-02,  1.29473113e-02,  5.94279943e-02,\n",
       "       -6.82569098e-02, -3.68593798e-02,  6.00129236e-02,  3.30946803e-02,\n",
       "       -2.81860241e-03, -1.28098638e-02, -5.81583948e-02, -2.09621237e-02,\n",
       "        1.10699565e-01, -2.80981593e-03, -1.34844961e-02, -3.77954750e-02,\n",
       "       -1.60505613e-02, -2.34985253e-02, -5.34551368e-02,  6.34747788e-02,\n",
       "        1.19886635e-01, -4.39281331e-02, -2.18403872e-02,  1.72927869e-02,\n",
       "       -4.93471685e-02,  5.58102681e-04, -4.37434913e-02, -1.73926841e-02,\n",
       "        2.49622210e-02, -5.16319495e-02, -4.27936004e-02, -3.81358156e-03,\n",
       "        3.96693350e-02,  2.80049656e-03, -2.18957420e-02, -6.97490835e-02,\n",
       "        7.51729423e-03,  9.59080633e-03,  6.33399805e-02,  1.55929675e-02,\n",
       "        6.86044185e-02,  9.24506524e-03, -1.21071362e-02,  2.73651368e-02,\n",
       "       -1.03302607e-01, -2.02726688e-02, -5.23232869e-02,  4.53152481e-02,\n",
       "       -2.03978223e-02,  2.58162011e-02, -9.79223791e-02, -9.16119441e-02,\n",
       "        2.23880151e-02, -4.07185644e-02, -5.99192951e-03,  2.32613678e-03,\n",
       "       -4.87546261e-02,  6.87417225e-02,  5.15761405e-02,  2.83833263e-02,\n",
       "       -2.27086376e-02, -1.20341900e-02,  4.64111066e-02, -8.31838656e-03,\n",
       "       -4.07474376e-02, -2.18589539e-03, -3.02187448e-02,  8.54910581e-03,\n",
       "       -2.80659030e-02, -2.51805431e-02,  4.22153494e-02, -1.31989167e-02,\n",
       "       -1.31752467e-02,  3.93254613e-02,  2.20463270e-02,  8.53575743e-02,\n",
       "        8.81940370e-02,  4.78134051e-03,  4.71303690e-02,  3.86776520e-02,\n",
       "       -6.38394589e-02,  3.49128635e-02, -1.39580779e-02,  6.72940212e-04,\n",
       "        2.58556669e-02, -1.14049597e-02, -3.10336994e-02, -2.43736777e-02,\n",
       "       -4.17749083e-02, -4.28458446e-03, -3.38509775e-02,  6.02064580e-02,\n",
       "        3.36831473e-02,  5.27047731e-02,  3.81500893e-02,  4.35411821e-02,\n",
       "       -8.03116970e-02, -1.15084614e-01, -1.84100785e-02,  4.89309430e-04,\n",
       "       -3.03649453e-04,  1.15266507e-02,  1.27713929e-03,  4.57614844e-02,\n",
       "       -5.72743275e-02,  9.53701261e-03, -4.94636262e-02, -2.22700947e-02,\n",
       "        4.93494409e-02, -3.41756777e-02, -2.11146495e-02, -1.68229889e-02,\n",
       "        4.28055984e-02,  6.32071906e-02,  1.20239780e-02, -3.26140125e-03,\n",
       "        1.93071575e-02,  2.27179772e-02,  9.22148993e-03, -2.34565093e-02,\n",
       "       -2.95508366e-02,  3.65648593e-02, -5.57406009e-03, -1.92150549e-02,\n",
       "        1.67627616e-02,  1.67691796e-02,  6.41057511e-02, -1.29594409e-03,\n",
       "        9.65807218e-03,  1.64013229e-02, -2.03053673e-03,  1.73836163e-03,\n",
       "        1.29472001e-02, -5.04566147e-03,  1.09209721e-02,  3.28910101e-02,\n",
       "        6.61990708e-02,  9.33755388e-02,  5.33465055e-02,  2.22753605e-02,\n",
       "       -9.61248307e-03, -5.65826328e-02, -2.75084512e-02, -3.37496000e-02,\n",
       "        5.00710193e-02, -1.70677871e-03,  8.74059800e-03,  2.98622887e-02,\n",
       "       -3.94405450e-03, -1.59686718e-02, -1.58945337e-02,  1.16598574e-02,\n",
       "        7.93636569e-03, -5.92412763e-02,  7.20033859e-03,  3.78061588e-02,\n",
       "       -2.08519820e-02, -2.30535961e-02,  3.17202118e-02, -3.68059454e-02,\n",
       "        2.66682181e-02,  3.51517825e-04, -2.81099136e-02, -4.66601075e-02,\n",
       "       -2.93936822e-02, -1.67781925e-02,  2.82308039e-02,  5.08820894e-03,\n",
       "       -3.69509184e-02, -4.35670082e-02,  1.77487260e-02, -4.50613418e-02,\n",
       "       -1.69498414e-02, -2.06657033e-03, -6.86748263e-02, -4.69679290e-02,\n",
       "       -5.47485235e-03,  1.75160038e-02, -8.16778051e-03, -5.64488745e-02,\n",
       "       -3.66258308e-04, -4.38614726e-02,  2.91381203e-02, -1.16063812e-02,\n",
       "        2.89893405e-02, -2.96426924e-02, -1.29100457e-04, -2.67700126e-02,\n",
       "       -1.40482618e-02, -6.06674091e-02, -6.92371014e-03, -4.61957254e-02,\n",
       "       -1.87027084e-02, -2.85350391e-02, -4.27055995e-02, -1.84412191e-02,\n",
       "       -4.76290115e-02,  2.57563167e-02, -1.01251668e-02, -1.02871051e-02,\n",
       "       -1.42344381e-02, -2.16987070e-02,  3.67198214e-02, -2.31203662e-02,\n",
       "        6.21650079e-02, -3.08698907e-02, -3.01896183e-02, -1.55067059e-02,\n",
       "        2.08822487e-02,  2.09501142e-02,  2.65406985e-02, -2.80097949e-03,\n",
       "       -1.06878714e-02, -3.38841641e-02,  8.02690911e-03,  9.82672328e-03,\n",
       "        1.15768099e-02,  1.01426199e-02, -6.06502180e-02,  6.47444311e-03,\n",
       "        7.34275298e-03, -2.95400758e-03, -5.75094663e-02,  5.56321511e-03,\n",
       "        6.39773460e-02,  7.66021959e-04,  4.37439303e-02, -1.14596018e-02,\n",
       "        8.37956651e-03,  1.24357526e-02, -1.80099304e-03, -8.29280897e-02,\n",
       "        8.47199740e-03, -1.21764398e-02, -2.25633773e-02, -2.18283990e-02,\n",
       "        8.38026475e-03,  1.45263642e-02, -1.44040027e-02,  2.04455665e-02,\n",
       "       -4.88149658e-02, -1.58457300e-02,  5.41050120e-03,  6.08047866e-03,\n",
       "        5.73655706e-02, -2.02532218e-02,  3.25031397e-03, -7.71736059e-03,\n",
       "       -8.25927284e-03, -3.29980404e-02,  4.57910723e-02, -8.29619119e-03,\n",
       "       -1.93662074e-02,  2.22816843e-02, -2.45237241e-02, -3.53182285e-02,\n",
       "       -5.54447923e-02, -4.53090394e-03, -1.97877024e-02, -3.54554494e-03,\n",
       "       -1.15583184e-02, -7.07999045e-02,  1.48025572e-02, -1.33295058e-02,\n",
       "       -1.83592918e-02, -1.95518903e-02, -5.48275367e-02, -2.65168451e-02,\n",
       "        1.78665309e-02,  1.51240267e-02, -7.22543803e-03, -1.19091700e-02,\n",
       "        1.18784538e-02, -1.11165645e-02,  5.44926528e-02,  3.95307913e-02,\n",
       "        1.61589775e-02,  1.28850479e-03,  1.04399612e-02, -6.70142432e-02,\n",
       "       -1.50271466e-02, -3.32421912e-02,  1.33644880e-02,  3.11292262e-03,\n",
       "       -1.09937790e-02, -1.99148205e-02,  3.72751183e-02, -4.38676183e-03,\n",
       "       -2.14009073e-02, -2.62100446e-02, -4.51814777e-02,  6.74071721e-03,\n",
       "        2.96204080e-02,  1.84694695e-02,  2.12514374e-02, -2.66752315e-02,\n",
       "        5.46032389e-03,  5.12356448e-03, -3.34926402e-02,  2.98917331e-03,\n",
       "        1.40696228e-02,  2.28252576e-04, -8.30045929e-03,  5.32691584e-04,\n",
       "       -8.32477049e-02, -2.18886015e-02,  1.53535822e-02, -1.02150679e-02,\n",
       "        2.95986992e-03, -4.68090052e-02, -1.04804820e-02, -2.82086037e-02,\n",
       "       -3.63757100e-02, -8.26569922e-03,  4.05212539e-03,  8.74314856e-03,\n",
       "        6.80458517e-03, -3.89893298e-02,  2.90316529e-02,  6.23397122e-04,\n",
       "        1.91531195e-02, -3.75124417e-02,  3.18552883e-02, -6.21034285e-03,\n",
       "        2.42001684e-02,  1.49354435e-02,  4.52863935e-02,  1.14879333e-02,\n",
       "       -3.41933025e-03, -1.57364117e-03, -5.20270559e-03, -2.19734358e-02,\n",
       "        4.77212278e-03, -2.87731794e-02, -2.81551443e-02,  8.31026338e-03,\n",
       "       -2.77277911e-03, -2.00483740e-02,  2.81472017e-02,  4.91389017e-03,\n",
       "       -3.40985156e-02, -3.79286572e-02,  5.19326594e-02, -1.50168722e-02,\n",
       "        1.33483613e-02,  2.60906935e-02, -3.90542132e-02, -4.82407830e-03,\n",
       "       -3.95463681e-04, -5.45474280e-02,  2.94660580e-02, -5.75602721e-02,\n",
       "       -2.57521812e-04, -1.54912564e-02, -3.04126481e-02,  8.32321072e-03,\n",
       "        1.11681561e-02,  3.14683317e-03, -5.41414731e-02,  2.94440941e-02,\n",
       "        1.49907050e-03,  5.68729843e-02, -5.07603101e-03,  3.72106092e-03,\n",
       "       -5.81881098e-03, -2.28798564e-03, -2.25875258e-02, -6.12242430e-02,\n",
       "       -5.53342814e-02, -6.19583638e-02,  4.32517878e-02,  1.92793163e-02,\n",
       "       -6.20723977e-02,  3.40608112e-02, -7.36175062e-03, -5.34936824e-02,\n",
       "        4.61490580e-02, -4.17185692e-02,  2.86628948e-04,  1.04491715e-02,\n",
       "        7.39860192e-02,  2.65455385e-03, -5.09292175e-02, -7.53200193e-03,\n",
       "        1.54804245e-02, -3.93954494e-02, -1.17976249e-02, -1.08407111e-03,\n",
       "       -3.77710083e-02,  3.44411149e-02,  1.34749313e-02, -2.97997096e-02,\n",
       "        2.05099105e-02, -3.67051972e-02, -9.99191068e-04,  1.76608062e-02,\n",
       "       -8.62700442e-03, -1.63309685e-02, -1.02852159e-02, -3.44356029e-02,\n",
       "       -3.43934600e-02,  5.17768887e-02, -5.00229440e-02, -1.33249911e-03,\n",
       "        3.31680170e-02,  7.34722273e-03, -3.64128939e-03, -1.75261971e-02,\n",
       "        5.65394857e-02, -4.98186772e-02,  4.66071764e-03,  1.10782295e-02,\n",
       "       -2.35368096e-02, -4.33490765e-03, -1.91403248e-02, -3.49014844e-02,\n",
       "        1.72699726e-03,  5.26823634e-03,  6.70241278e-03, -1.49944367e-02,\n",
       "        3.86692553e-03,  8.96910592e-03,  4.43599942e-02, -4.10317860e-02,\n",
       "        1.95610856e-02, -6.96440065e-03,  7.26747572e-03, -1.34682601e-02,\n",
       "       -1.00930843e-02,  1.30445858e-02, -6.72928333e-02, -6.48151511e-02,\n",
       "        4.81469036e-02,  1.71715374e-02, -4.66820567e-02,  4.70403932e-03,\n",
       "       -1.45240285e-02,  1.26882130e-02, -3.28937838e-02, -5.32182802e-02,\n",
       "        1.06258314e-02,  7.41808684e-02, -3.50964202e-02,  1.75504367e-02,\n",
       "       -2.42070031e-02,  2.63184676e-02,  2.52150857e-02, -3.69825686e-02,\n",
       "        4.08847691e-02,  1.07334278e-02,  3.40668609e-02,  1.88106624e-02,\n",
       "       -1.78691696e-02,  2.71988263e-02,  2.70863352e-02,  5.82300910e-02,\n",
       "       -2.05522970e-03, -5.90453649e-02,  1.07366297e-02, -2.62656121e-02,\n",
       "        1.13935391e-02,  2.41888550e-02, -2.83867874e-04, -1.66231112e-02,\n",
       "       -3.21113125e-03, -1.06874033e-02, -2.73028370e-02, -1.59512354e-03,\n",
       "       -2.31049744e-02,  1.33559336e-02, -3.10872321e-02,  2.94842840e-02,\n",
       "        7.96775351e-03, -5.49916880e-03, -3.08960672e-02,  3.88097026e-02,\n",
       "       -1.05259465e-02, -6.78388898e-03, -4.55412208e-02, -3.59451367e-02,\n",
       "       -1.28253756e-02, -1.94445028e-03, -6.36614530e-02, -5.88669625e-02,\n",
       "        2.02873472e-02, -5.19723473e-02,  1.24374090e-02,  2.09948512e-02,\n",
       "        9.65680228e-03, -4.75352957e-03, -6.13296093e-02, -5.20321282e-03,\n",
       "       -6.62276316e-02,  4.83909312e-03, -1.92197092e-02, -5.97045267e-02,\n",
       "        4.15844361e-02, -1.76187769e-02, -7.19092219e-02,  2.57250918e-02,\n",
       "       -4.57009632e-02,  4.16869425e-02, -1.96061898e-02, -5.05838395e-03,\n",
       "        4.42649553e-04, -5.08079222e-02])"
      ]
     },
     "execution_count": 27,
     "metadata": {},
     "output_type": "execute_result"
    }
   ],
   "source": [
    "# slice user factor\n",
    "user_id = 0\n",
    "u_1 = U[user_id,:]\n",
    "\n",
    "# show output\n",
    "u_1"
   ]
  },
  {
   "cell_type": "code",
   "execution_count": 28,
   "metadata": {},
   "outputs": [
    {
     "data": {
      "text/plain": [
       "(602,)"
      ]
     },
     "execution_count": 28,
     "metadata": {},
     "output_type": "execute_result"
    }
   ],
   "source": [
    "u_1.shape"
   ]
  },
  {
   "cell_type": "code",
   "execution_count": 29,
   "metadata": {},
   "outputs": [
    {
     "data": {
      "text/plain": [
       "(248,)"
      ]
     },
     "execution_count": 29,
     "metadata": {},
     "output_type": "execute_result"
    }
   ],
   "source": [
    "# slice item factor\n",
    "item_id = 0\n",
    "v_1 = Vt[:,item_id]\n",
    "\n",
    "v_1.shape"
   ]
  },
  {
   "cell_type": "markdown",
   "metadata": {},
   "source": [
    "For singular values we do not need to slice it, we use all of the singular values , we only need to create diagonal matrix so that we can perform dot product"
   ]
  },
  {
   "cell_type": "code",
   "execution_count": 30,
   "metadata": {},
   "outputs": [],
   "source": [
    "s_diag = np.diag(S)"
   ]
  },
  {
   "cell_type": "code",
   "execution_count": 31,
   "metadata": {},
   "outputs": [
    {
     "data": {
      "text/plain": [
       "(248, 248)"
      ]
     },
     "execution_count": 31,
     "metadata": {},
     "output_type": "execute_result"
    }
   ],
   "source": [
    "s_diag.shape"
   ]
  },
  {
   "cell_type": "code",
   "execution_count": 32,
   "metadata": {},
   "outputs": [
    {
     "name": "stdout",
     "output_type": "stream",
     "text": [
      "(602, 602)\n",
      "(248,)\n",
      "(248, 248)\n"
     ]
    }
   ],
   "source": [
    "print(U.shape)\n",
    "print(S.shape)\n",
    "print(Vt.shape)"
   ]
  },
  {
   "cell_type": "code",
   "execution_count": 33,
   "metadata": {},
   "outputs": [
    {
     "data": {
      "text/plain": [
       "(602, 248)"
      ]
     },
     "execution_count": 33,
     "metadata": {},
     "output_type": "execute_result"
    }
   ],
   "source": [
    "s_new = np.vstack((np.diag(S),np.zeros(shape=(U.shape[0]-Vt.shape[0],Vt.shape[0]))))\n",
    "s_new.shape"
   ]
  },
  {
   "cell_type": "code",
   "execution_count": 34,
   "metadata": {},
   "outputs": [
    {
     "name": "stdout",
     "output_type": "stream",
     "text": [
      "(602, 602)\n",
      "(248,)\n",
      "(248, 248)\n"
     ]
    }
   ],
   "source": [
    "print(U.shape)\n",
    "print(S.shape)\n",
    "print(Vt.shape)"
   ]
  },
  {
   "cell_type": "code",
   "execution_count": 35,
   "metadata": {},
   "outputs": [
    {
     "name": "stdout",
     "output_type": "stream",
     "text": [
      "Us shape (248,)\n"
     ]
    }
   ],
   "source": [
    "# perform dot product U.S\n",
    "us = u_1.dot(s_new)\n",
    "# check us shape\n",
    "print('Us shape',us.shape)"
   ]
  },
  {
   "cell_type": "markdown",
   "metadata": {},
   "source": [
    "It yield correct answer `<1x602>` x `<602x248>` it result `<1x248>`."
   ]
  },
  {
   "cell_type": "code",
   "execution_count": 36,
   "metadata": {},
   "outputs": [],
   "source": [
    "# perform dot product with v_1\n",
    "predicted_rating = us.dot(v_1)"
   ]
  },
  {
   "cell_type": "code",
   "execution_count": 37,
   "metadata": {},
   "outputs": [
    {
     "name": "stdout",
     "output_type": "stream",
     "text": [
      "Predicted rating from user 1 to item 1 4.000000000000006\n"
     ]
    }
   ],
   "source": [
    "print('Predicted rating from user 1 to item 1',predicted_rating)"
   ]
  },
  {
   "cell_type": "code",
   "execution_count": 38,
   "metadata": {},
   "outputs": [
    {
     "data": {
      "text/plain": [
       "4.0"
      ]
     },
     "execution_count": 38,
     "metadata": {},
     "output_type": "execute_result"
    }
   ],
   "source": [
    "imputed_rating.loc[1,1]"
   ]
  },
  {
   "cell_type": "markdown",
   "metadata": {},
   "source": [
    "We can see our prediction is the same as what it supposed to be.\n",
    "Construct Whole Utility matrix.\n",
    "To construct whole utility matrix we can multiply each component $U.S.V^T$."
   ]
  },
  {
   "cell_type": "code",
   "execution_count": 39,
   "metadata": {},
   "outputs": [],
   "source": [
    "utility_matrix = np.dot(U,s_new).dot(Vt)"
   ]
  },
  {
   "cell_type": "code",
   "execution_count": 40,
   "metadata": {},
   "outputs": [
    {
     "data": {
      "text/plain": [
       "array([[ 4.00000000e+00,  4.00000000e+00,  4.00000000e+00, ...,\n",
       "         2.49800181e-15,  1.08246745e-15,  2.16493490e-15],\n",
       "       [-8.60422844e-16,  5.38458167e-15,  4.81559237e-15, ...,\n",
       "        -9.99200722e-16, -1.44328993e-15,  1.04083409e-15],\n",
       "       [ 1.52655666e-16,  1.11369247e-15, -1.38777878e-16, ...,\n",
       "         1.20389809e-15,  1.88109077e-16,  4.43655529e-16],\n",
       "       ...,\n",
       "       [ 2.50000000e+00,  2.00000000e+00, -3.05311332e-15, ...,\n",
       "        -2.82412982e-15, -3.19189120e-15,  2.68882139e-16],\n",
       "       [ 3.00000000e+00,  5.85642645e-15,  3.76088050e-15, ...,\n",
       "         3.88578059e-16,  8.88178420e-16, -4.37150316e-16],\n",
       "       [ 5.00000000e+00, -8.47932835e-15,  5.00000000e+00, ...,\n",
       "         4.00000000e+00,  4.00000000e+00,  1.11022302e-15]])"
      ]
     },
     "execution_count": 40,
     "metadata": {},
     "output_type": "execute_result"
    }
   ],
   "source": [
    "    utility_matrix"
   ]
  },
  {
   "cell_type": "markdown",
   "metadata": {},
   "source": [
    "#### Experimenting\n",
    "\n",
    "We want to experiment how the singular values may give different result if we modify the number of singular value, for benchmarking purpose we will predict rating on user 1 on item 1\n",
    "\n",
    "for number of singular values we are going to take is :\n",
    "- all\n",
    "- 10\n",
    "- 100\n",
    "\n",
    "the true value of rating from user 1 on item 1 is **4.0**"
   ]
  },
  {
   "cell_type": "markdown",
   "metadata": {},
   "source": [
    "we will make function named `slice_singular_values`"
   ]
  },
  {
   "cell_type": "code",
   "execution_count": 41,
   "metadata": {},
   "outputs": [],
   "source": [
    "# create function\n",
    "def singular_values(n_singular,sing_vector) :\n",
    "    \"\"\"Function to slice singular values\"\"\"\n",
    "\n",
    "    # copy to avoid overwriting\n",
    "    sing_vector = sing_vector.copy()\n",
    "\n",
    "    # replace after n singular values with 0\n",
    "    sing_vector[n_singular:] = 0\n",
    "    s_new = np.vstack((np.diag(sing_vector),np.zeros(shape=(U.shape[0]-Vt.shape[0],Vt.shape[0]))))\n",
    "\n",
    "\n",
    "    return s_new\n"
   ]
  },
  {
   "cell_type": "markdown",
   "metadata": {},
   "source": [
    "**10 singular Values**"
   ]
  },
  {
   "cell_type": "code",
   "execution_count": 42,
   "metadata": {},
   "outputs": [
    {
     "data": {
      "text/plain": [
       "2.5879168396164935"
      ]
     },
     "execution_count": 42,
     "metadata": {},
     "output_type": "execute_result"
    }
   ],
   "source": [
    "s_10 = singular_values(n_singular=10,sing_vector=S)\n",
    "\n",
    "predicted_ratigs_10 = np.dot(u_1,s_10).dot(v_1)\n",
    "predicted_ratigs_10"
   ]
  },
  {
   "cell_type": "markdown",
   "metadata": {},
   "source": [
    "**100 Singular Values**"
   ]
  },
  {
   "cell_type": "code",
   "execution_count": 43,
   "metadata": {},
   "outputs": [
    {
     "data": {
      "text/plain": [
       "4.267890021309445"
      ]
     },
     "execution_count": 43,
     "metadata": {},
     "output_type": "execute_result"
    }
   ],
   "source": [
    "s_100 = singular_values(n_singular=100,sing_vector=S)\n",
    "\n",
    "predicted_ratigs_100 = np.dot(u_1,s_100).dot(v_1)\n",
    "predicted_ratigs_100"
   ]
  },
  {
   "cell_type": "markdown",
   "metadata": {},
   "source": [
    "**All Singular Values**"
   ]
  },
  {
   "cell_type": "code",
   "execution_count": 45,
   "metadata": {},
   "outputs": [
    {
     "data": {
      "text/plain": [
       "4.000000000000006"
      ]
     },
     "execution_count": 45,
     "metadata": {},
     "output_type": "execute_result"
    }
   ],
   "source": [
    "s_all = singular_values(n_singular=len(S),sing_vector=S)\n",
    "\n",
    "predicted_ratigs_all = np.dot(u_1,s_all).dot(v_1)\n",
    "predicted_ratigs_all"
   ]
  },
  {
   "cell_type": "markdown",
   "metadata": {},
   "source": [
    "**Wrap Up**\n"
   ]
  },
  {
   "cell_type": "code",
   "execution_count": 46,
   "metadata": {},
   "outputs": [
    {
     "data": {
      "text/html": [
       "<div>\n",
       "<style scoped>\n",
       "    .dataframe tbody tr th:only-of-type {\n",
       "        vertical-align: middle;\n",
       "    }\n",
       "\n",
       "    .dataframe tbody tr th {\n",
       "        vertical-align: top;\n",
       "    }\n",
       "\n",
       "    .dataframe thead th {\n",
       "        text-align: right;\n",
       "    }\n",
       "</style>\n",
       "<table border=\"1\" class=\"dataframe\">\n",
       "  <thead>\n",
       "    <tr style=\"text-align: right;\">\n",
       "      <th></th>\n",
       "      <th>N singular Value</th>\n",
       "      <th>Predicted_ratings</th>\n",
       "    </tr>\n",
       "  </thead>\n",
       "  <tbody>\n",
       "    <tr>\n",
       "      <th>0</th>\n",
       "      <td>10</td>\n",
       "      <td>2.587917</td>\n",
       "    </tr>\n",
       "    <tr>\n",
       "      <th>1</th>\n",
       "      <td>100</td>\n",
       "      <td>4.267890</td>\n",
       "    </tr>\n",
       "    <tr>\n",
       "      <th>2</th>\n",
       "      <td>all</td>\n",
       "      <td>4.000000</td>\n",
       "    </tr>\n",
       "  </tbody>\n",
       "</table>\n",
       "</div>"
      ],
      "text/plain": [
       "  N singular Value  Predicted_ratings\n",
       "0               10           2.587917\n",
       "1              100           4.267890\n",
       "2              all           4.000000"
      ]
     },
     "execution_count": 46,
     "metadata": {},
     "output_type": "execute_result"
    }
   ],
   "source": [
    "summary_singular_value = pd.DataFrame(\n",
    "    data={'N singular Value': [10,100,'all'],\n",
    "          'Predicted_ratings': [predicted_ratigs_10,predicted_ratigs_100,predicted_ratigs_all]\n",
    "          }\n",
    ")\n",
    "summary_singular_value"
   ]
  },
  {
   "cell_type": "markdown",
   "metadata": {},
   "source": [
    "We can see that the more singular value component we add the closer to real value"
   ]
  }
 ],
 "metadata": {
  "kernelspec": {
   "display_name": "nlp",
   "language": "python",
   "name": "python3"
  },
  "language_info": {
   "codemirror_mode": {
    "name": "ipython",
    "version": 3
   },
   "file_extension": ".py",
   "mimetype": "text/x-python",
   "name": "python",
   "nbconvert_exporter": "python",
   "pygments_lexer": "ipython3",
   "version": "3.10.11"
  }
 },
 "nbformat": 4,
 "nbformat_minor": 2
}
