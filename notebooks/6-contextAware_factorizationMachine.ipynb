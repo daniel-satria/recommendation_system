{
 "cells": [
  {
   "cell_type": "markdown",
   "metadata": {},
   "source": [
    "# **Factorization Machine**\n",
    "\n"
   ]
  },
  {
   "cell_type": "markdown",
   "metadata": {},
   "source": [
    "---\n",
    "## Outline:\n",
    "\n",
    "1. Background\n",
    "2. Simplified Workflows.\n",
    "3. Importing Data\n",
    "4. Data Preparations\n",
    "5. Data Preprocessing\n",
    "6. Modeling\n",
    "7. Hyperparameter Tuning\n",
    "8. Evaluation\n",
    "9. Decision Process (Recommendation Process)"
   ]
  },
  {
   "cell_type": "markdown",
   "metadata": {},
   "source": [
    "# **Background**\n",
    "---"
   ]
  },
  {
   "cell_type": "markdown",
   "metadata": {},
   "source": [
    "## Problem Description\n",
    "---"
   ]
  },
  {
   "cell_type": "markdown",
   "metadata": {},
   "source": [
    "- A Travel Company **Trip Advisor** are having a problem with its user retention.\n",
    "- In 3 months, the user retention rate dropped almost 20% which really affects **Trip Advisor** revenues.\n",
    "- After doing an urgent user research, **Trip Advisor** team found that user spend time less in their platform because not knowing what to do in the platform ,"
   ]
  },
  {
   "cell_type": "markdown",
   "metadata": {},
   "source": [
    "## Business Objective\n",
    "---"
   ]
  },
  {
   "cell_type": "markdown",
   "metadata": {},
   "source": [
    "- Our business objective would be **increasing user retention** to **20%** (assumed ofcourse) in 3 months."
   ]
  },
  {
   "cell_type": "markdown",
   "metadata": {},
   "source": [
    "## Solution\n",
    "---\n"
   ]
  },
  {
   "cell_type": "markdown",
   "metadata": {},
   "source": [
    "- We can create a **travel recommendation** to help **users browse** the hotel / venue for their vacation"
   ]
  },
  {
   "cell_type": "markdown",
   "metadata": {},
   "source": [
    "The goal, of our recommendation is to recommend movies hotel / venue they might like, however its quite abstract. We may have to create **proxy label** to approach that problem"
   ]
  },
  {
   "cell_type": "markdown",
   "metadata": {},
   "source": [
    "To approach those, some appropriate proxy labels are :    \n",
    "- Scale of rating (star) user  given to a hotel / venue\n",
    "- User click the movie\n",
    "- etc"
   ]
  },
  {
   "cell_type": "markdown",
   "metadata": {},
   "source": [
    "We have data of user rating towards item , in this case hotel / venue, beside we also have **contextual data**.\n",
    "\n",
    "We can move further into machine learning task."
   ]
  },
  {
   "cell_type": "markdown",
   "metadata": {},
   "source": [
    "**Our task** is to predict number of stars given from user to a movie.\n",
    "\n",
    "With  stars itself is in continous value, hence we can conclude it as **regression task**.\n",
    "\n",
    "We now have a clearer picture what we should do, However we need more precise solution in recommender system context."
   ]
  },
  {
   "cell_type": "markdown",
   "metadata": {},
   "source": [
    "Approach in Personalized Recommender System can be divided based on the presence of interaction data (explicit / implicit) data:     \n",
    "\n",
    "1. When the interaction data is not exists, the solution that can be implemented is using content feature, **Content Based** Filtering\n",
    "\n",
    "2. When the interaction data is exists, we can use **Collaborative** Filtering"
   ]
  },
  {
   "cell_type": "markdown",
   "metadata": {},
   "source": [
    "We can use **Context Aware Recommender System** to utilize context data in our recommender system."
   ]
  },
  {
   "cell_type": "markdown",
   "metadata": {},
   "source": [
    "## Model Metrics\n",
    "---\n",
    "We have already established some points :\n",
    "- Our task is to predict stars that will be given by users to certain movies\n",
    "- We will use Collaborative Filtering approach\n",
    "\n",
    "Regarding those, we need to measure the success of our model ( metrics), based on the points mentioned, our goal is to predict as close as possible the predicted rating to user true rating,\n",
    "\n"
   ]
  },
  {
   "cell_type": "markdown",
   "metadata": {},
   "source": [
    "We want to minimize $(\\text{True Rating - Predicted Rating})$, some choices of appropriate metrics are :     \n",
    "- Mean Absolute Error\n",
    "- Mean Square Error\n",
    "- Root Mean Squared Error"
   ]
  },
  {
   "cell_type": "markdown",
   "metadata": {},
   "source": [
    "Due to its `differentiable` property , we will choose **MSE/RMSE** as our model metrics"
   ]
  },
  {
   "cell_type": "markdown",
   "metadata": {},
   "source": [
    "## Data Description\n",
    "---"
   ]
  },
  {
   "cell_type": "markdown",
   "metadata": {},
   "source": [
    "- The data is obtained from [Trip Advisor dataset](https://grouplens.org/datasets/movielens/).\n"
   ]
  },
  {
   "cell_type": "markdown",
   "metadata": {},
   "source": [
    "Only one file we use\n",
    "\n",
    "**rating data** : `tripadvisor_travel.csv`\n",
    "\n",
    "<center>\n",
    "\n",
    "|Features|Descriptions|Data Type|\n",
    "|:--|:--|:--:|\n",
    "|`user_id`|The user ID|`object`|\n",
    "|`item_id`|The item / hotel ID|`int`|\n",
    "|`rating`|Rating given from user to item. Ranging from `1` to `5`|`float`|\n",
    "|`trip`|Trip Type (Context Data) : `['SOLO', 'FAMILY', 'COUPLES', 'BUSINESS', 'FRIENDS']`|`object`|\n"
   ]
  },
  {
   "cell_type": "markdown",
   "metadata": {},
   "source": [
    "# **Recommender System Workflow** (Simplified)\n",
    "---"
   ]
  },
  {
   "cell_type": "markdown",
   "metadata": {},
   "source": [
    "## <font color='white'>1. Importing Data</font>\n",
    "\n",
    "```\n",
    "1. Load the data.\n",
    "2. Check the shape & type of data.\n",
    "3. Handle the duplicates data to maintain data validity.\n",
    "```"
   ]
  },
  {
   "cell_type": "markdown",
   "metadata": {},
   "source": [
    "## <font color='white'>2.Modelling : Factorization Machine</font>\n",
    "\n",
    "```\n",
    "1. Creating Utility Matrix\n",
    "2. Training + Model Selection  :     \n",
    "    - Baseline (Dummy Classifier)\n",
    "    - Factorization Machines\n",
    "\n",
    "4. Evaluating Model\n",
    "  - Rating Prediction Task\n",
    "\n",
    "```\n"
   ]
  },
  {
   "cell_type": "markdown",
   "metadata": {},
   "source": [
    "## <font color='white'>3. Generating Recommendation / Predictions</font>\n",
    "\n",
    "```\n",
    "1. Predict recommendation of user-i to unrated item-j with context\n",
    "2. Predict recommendation of user-i to all their unrated items with context\n",
    "```"
   ]
  },
  {
   "cell_type": "markdown",
   "metadata": {},
   "source": [
    "# **1. Importing Data**\n",
    "---"
   ]
  },
  {
   "cell_type": "markdown",
   "metadata": {},
   "source": [
    "What do we do?\n",
    "1. Load the data.\n",
    "2. Check the shape & type of data.\n",
    "3. Handle the duplicates data to maintain data validity."
   ]
  },
  {
   "cell_type": "code",
   "execution_count": 1,
   "metadata": {},
   "outputs": [],
   "source": [
    "# Load this library\n",
    "import numpy as np\n",
    "import pandas as pd"
   ]
  },
  {
   "cell_type": "code",
   "execution_count": 2,
   "metadata": {},
   "outputs": [
    {
     "data": {
      "text/html": [
       "<div>\n",
       "<style scoped>\n",
       "    .dataframe tbody tr th:only-of-type {\n",
       "        vertical-align: middle;\n",
       "    }\n",
       "\n",
       "    .dataframe tbody tr th {\n",
       "        vertical-align: top;\n",
       "    }\n",
       "\n",
       "    .dataframe thead th {\n",
       "        text-align: right;\n",
       "    }\n",
       "</style>\n",
       "<table border=\"1\" class=\"dataframe\">\n",
       "  <thead>\n",
       "    <tr style=\"text-align: right;\">\n",
       "      <th></th>\n",
       "      <th>user_id</th>\n",
       "      <th>item_id</th>\n",
       "      <th>rating</th>\n",
       "      <th>trip</th>\n",
       "    </tr>\n",
       "  </thead>\n",
       "  <tbody>\n",
       "    <tr>\n",
       "      <th>0</th>\n",
       "      <td>5C28F393B23BB894523AE7126A7AE445</td>\n",
       "      <td>219668</td>\n",
       "      <td>5</td>\n",
       "      <td>SOLO</td>\n",
       "    </tr>\n",
       "    <tr>\n",
       "      <th>1</th>\n",
       "      <td>3FA27F6E8AC712A82C69C4EDD8B912CC</td>\n",
       "      <td>223860</td>\n",
       "      <td>5</td>\n",
       "      <td>SOLO</td>\n",
       "    </tr>\n",
       "    <tr>\n",
       "      <th>2</th>\n",
       "      <td>B99CFBB5411EDC8881D13B7A4B313ADA</td>\n",
       "      <td>75680</td>\n",
       "      <td>5</td>\n",
       "      <td>FAMILY</td>\n",
       "    </tr>\n",
       "    <tr>\n",
       "      <th>3</th>\n",
       "      <td>3FA27F6E8AC712A82C69C4EDD8B912CC</td>\n",
       "      <td>224783</td>\n",
       "      <td>5</td>\n",
       "      <td>SOLO</td>\n",
       "    </tr>\n",
       "    <tr>\n",
       "      <th>4</th>\n",
       "      <td>7CEFF5C32BA1F3B186E7838C7D3FE25E</td>\n",
       "      <td>222984</td>\n",
       "      <td>5</td>\n",
       "      <td>COUPLES</td>\n",
       "    </tr>\n",
       "  </tbody>\n",
       "</table>\n",
       "</div>"
      ],
      "text/plain": [
       "                            user_id  item_id  rating     trip\n",
       "0  5C28F393B23BB894523AE7126A7AE445   219668       5     SOLO\n",
       "1  3FA27F6E8AC712A82C69C4EDD8B912CC   223860       5     SOLO\n",
       "2  B99CFBB5411EDC8881D13B7A4B313ADA    75680       5   FAMILY\n",
       "3  3FA27F6E8AC712A82C69C4EDD8B912CC   224783       5     SOLO\n",
       "4  7CEFF5C32BA1F3B186E7838C7D3FE25E   222984       5  COUPLES"
      ]
     },
     "execution_count": 2,
     "metadata": {},
     "output_type": "execute_result"
    }
   ],
   "source": [
    "# Giving the path\n",
    "trip_data_path = r\"../data/tripadvisor_travel.csv\"\n",
    "\n",
    "# Loading the data\n",
    "data = pd.read_csv(trip_data_path,\n",
    "                    delimiter = ',')\n",
    "\n",
    "# Showing first 5 data\n",
    "data.head()"
   ]
  },
  {
   "cell_type": "code",
   "execution_count": 3,
   "metadata": {},
   "outputs": [
    {
     "data": {
      "text/plain": [
       "(14175, 4)"
      ]
     },
     "execution_count": 3,
     "metadata": {},
     "output_type": "execute_result"
    }
   ],
   "source": [
    "# Check data shapes\n",
    "data.shape"
   ]
  },
  {
   "cell_type": "code",
   "execution_count": 4,
   "metadata": {},
   "outputs": [
    {
     "data": {
      "text/plain": [
       "user_id    object\n",
       "item_id     int64\n",
       "rating      int64\n",
       "trip       object\n",
       "dtype: object"
      ]
     },
     "execution_count": 4,
     "metadata": {},
     "output_type": "execute_result"
    }
   ],
   "source": [
    "data.dtypes"
   ]
  },
  {
   "cell_type": "markdown",
   "metadata": {},
   "source": [
    "- Features type: `user_id`, `item_id`, `rating`, and `trip`"
   ]
  },
  {
   "cell_type": "code",
   "execution_count": 5,
   "metadata": {},
   "outputs": [
    {
     "data": {
      "text/plain": [
       "326"
      ]
     },
     "execution_count": 5,
     "metadata": {},
     "output_type": "execute_result"
    }
   ],
   "source": [
    "# Check duplicate data\n",
    "data.duplicated(subset=['user_id', 'item_id','trip']).sum()"
   ]
  },
  {
   "cell_type": "code",
   "execution_count": 6,
   "metadata": {},
   "outputs": [],
   "source": [
    "clean_data = data.drop_duplicates(subset=['user_id', 'item_id','trip'])"
   ]
  },
  {
   "cell_type": "code",
   "execution_count": 7,
   "metadata": {},
   "outputs": [
    {
     "data": {
      "text/plain": [
       "0"
      ]
     },
     "execution_count": 7,
     "metadata": {},
     "output_type": "execute_result"
    }
   ],
   "source": [
    "# Check duplicate data\n",
    "clean_data.duplicated(subset=['user_id', 'item_id','trip']).sum()"
   ]
  },
  {
   "cell_type": "code",
   "execution_count": 8,
   "metadata": {},
   "outputs": [
    {
     "name": "stdout",
     "output_type": "stream",
     "text": [
      "- Data Shape before dropping duplicate data (14175, 4)\n",
      "- Data Shape after dropping duplicate data (13849, 4)\n"
     ]
    }
   ],
   "source": [
    "print('- Data Shape before dropping duplicate data', data.shape)\n",
    "print('- Data Shape after dropping duplicate data', clean_data.shape)"
   ]
  },
  {
   "cell_type": "code",
   "execution_count": 9,
   "metadata": {},
   "outputs": [],
   "source": [
    "# Creating loading fucntion\n",
    "def load_trip_data(path):\n",
    "    \"\"\"\n",
    "    Function to load data & remove from duplicates\n",
    "\n",
    "    Parameters\n",
    "    ----------\n",
    "    path : str\n",
    "        The path of trip data\n",
    "\n",
    "    Returns\n",
    "    -------\n",
    "    trip_data : pandas DataFrame\n",
    "        The sample of trip_data data\n",
    "    \"\"\"\n",
    "    # Load data\n",
    "    trip_data = pd.read_csv(path, delimiter=',')\n",
    "    print('- Original data shape :', trip_data.shape)\n",
    "\n",
    "    # drop duplicate data\n",
    "    trip_data = trip_data.drop_duplicates(subset=['user_id', 'item_id','trip'])\n",
    "    print('- After dropping duplicate data shape : ',trip_data.shape)\n",
    "\n",
    "    return trip_data"
   ]
  },
  {
   "cell_type": "code",
   "execution_count": 10,
   "metadata": {},
   "outputs": [
    {
     "name": "stdout",
     "output_type": "stream",
     "text": [
      "- Original data shape : (14175, 4)\n",
      "- After dropping duplicate data shape :  (13849, 4)\n"
     ]
    }
   ],
   "source": [
    "# Loading rating data\n",
    "trip_data = load_trip_data(path = trip_data_path)"
   ]
  },
  {
   "cell_type": "code",
   "execution_count": 11,
   "metadata": {},
   "outputs": [
    {
     "data": {
      "text/html": [
       "<div>\n",
       "<style scoped>\n",
       "    .dataframe tbody tr th:only-of-type {\n",
       "        vertical-align: middle;\n",
       "    }\n",
       "\n",
       "    .dataframe tbody tr th {\n",
       "        vertical-align: top;\n",
       "    }\n",
       "\n",
       "    .dataframe thead th {\n",
       "        text-align: right;\n",
       "    }\n",
       "</style>\n",
       "<table border=\"1\" class=\"dataframe\">\n",
       "  <thead>\n",
       "    <tr style=\"text-align: right;\">\n",
       "      <th></th>\n",
       "      <th>user_id</th>\n",
       "      <th>item_id</th>\n",
       "      <th>rating</th>\n",
       "      <th>trip</th>\n",
       "    </tr>\n",
       "  </thead>\n",
       "  <tbody>\n",
       "    <tr>\n",
       "      <th>0</th>\n",
       "      <td>5C28F393B23BB894523AE7126A7AE445</td>\n",
       "      <td>219668</td>\n",
       "      <td>5</td>\n",
       "      <td>SOLO</td>\n",
       "    </tr>\n",
       "    <tr>\n",
       "      <th>1</th>\n",
       "      <td>3FA27F6E8AC712A82C69C4EDD8B912CC</td>\n",
       "      <td>223860</td>\n",
       "      <td>5</td>\n",
       "      <td>SOLO</td>\n",
       "    </tr>\n",
       "    <tr>\n",
       "      <th>2</th>\n",
       "      <td>B99CFBB5411EDC8881D13B7A4B313ADA</td>\n",
       "      <td>75680</td>\n",
       "      <td>5</td>\n",
       "      <td>FAMILY</td>\n",
       "    </tr>\n",
       "    <tr>\n",
       "      <th>3</th>\n",
       "      <td>3FA27F6E8AC712A82C69C4EDD8B912CC</td>\n",
       "      <td>224783</td>\n",
       "      <td>5</td>\n",
       "      <td>SOLO</td>\n",
       "    </tr>\n",
       "    <tr>\n",
       "      <th>4</th>\n",
       "      <td>7CEFF5C32BA1F3B186E7838C7D3FE25E</td>\n",
       "      <td>222984</td>\n",
       "      <td>5</td>\n",
       "      <td>COUPLES</td>\n",
       "    </tr>\n",
       "  </tbody>\n",
       "</table>\n",
       "</div>"
      ],
      "text/plain": [
       "                            user_id  item_id  rating     trip\n",
       "0  5C28F393B23BB894523AE7126A7AE445   219668       5     SOLO\n",
       "1  3FA27F6E8AC712A82C69C4EDD8B912CC   223860       5     SOLO\n",
       "2  B99CFBB5411EDC8881D13B7A4B313ADA    75680       5   FAMILY\n",
       "3  3FA27F6E8AC712A82C69C4EDD8B912CC   224783       5     SOLO\n",
       "4  7CEFF5C32BA1F3B186E7838C7D3FE25E   222984       5  COUPLES"
      ]
     },
     "execution_count": 11,
     "metadata": {},
     "output_type": "execute_result"
    }
   ],
   "source": [
    "trip_data.head()"
   ]
  },
  {
   "cell_type": "markdown",
   "metadata": {},
   "source": [
    "# **2. Modelling**: Context Aware Collaborative Filtering\n",
    "---"
   ]
  },
  {
   "cell_type": "markdown",
   "metadata": {},
   "source": [
    "## Background\n",
    "---"
   ]
  },
  {
   "cell_type": "markdown",
   "metadata": {},
   "source": [
    "Previously, we createdrecommender system by Matrix Factorization / Latent Factor Model Approach. However, in our matrix factorization approach we have not addressed how to add contextual features, such as : time, place, etc.\n",
    "\n",
    "We might think that now, our utility matrix is not only involved user factor or item factor, but also add **context** factor."
   ]
  },
  {
   "cell_type": "markdown",
   "metadata": {},
   "source": [
    "We learnt that, there are 3 solutions to add context into our modelling :      \n",
    "1. Contextual PreFiltering\n",
    "\n",
    "<img src=\"https://www.researchgate.net/publication/258920113/figure/fig2/AS:297180343619593@1447864723798/Flow-model-of-contextual-pre-filtering-6.png\" img>\n",
    "\n",
    "<a href=\"https://www.researchgate.net/publication/258920113/figure/fig2/AS:297180343619593@1447864723798/Flow-model-of-contextual-pre-filtering-6.png\">Source </a>"
   ]
  },
  {
   "cell_type": "markdown",
   "metadata": {},
   "source": [
    "2. Contextual PostFiltering\n",
    "\n",
    "\n",
    "<img src=\"https://www.researchgate.net/publication/304781330/figure/fig1/AS:381298381213699@1467920026542/Contextual-post-filtering.png\" img>\n",
    "\n",
    "<a href=\"https://www.researchgate.net/publication/304781330/figure/fig1/AS:381298381213699@1467920026542/Contextual-post-filtering.png\">Source </a>\n"
   ]
  },
  {
   "cell_type": "markdown",
   "metadata": {},
   "source": [
    "3.Contextual Modelling\n",
    "\n",
    "In this approach we do'not filter context, instead we use it as \"feature\" in our modelling phase"
   ]
  },
  {
   "cell_type": "markdown",
   "metadata": {},
   "source": [
    "Some approach :    \n",
    "1. Latent Factor Approach\n",
    "\n",
    "  example : Tensor Factorization, Matrix Factorization with Side Features\n",
    "\n",
    "2. Factorization Machines"
   ]
  },
  {
   "cell_type": "markdown",
   "metadata": {},
   "source": [
    "## Workflow\n",
    "---"
   ]
  },
  {
   "cell_type": "markdown",
   "metadata": {},
   "source": [
    "To create a personalized RecSys, we can follow these steps:\n",
    "\n",
    "```\n",
    "1. Data Preparation --> Create utility matrix & Split Train-Test\n",
    "2. Train recommendation model --> Baseline, User to User CF (KNN) & Item to Item CF (KNN)\n",
    "3. Choosing Best Model\n",
    "5. Evaluate Final Model\n",
    "```"
   ]
  },
  {
   "cell_type": "markdown",
   "metadata": {},
   "source": [
    "## Implementing Model From Scratch\n",
    "---"
   ]
  },
  {
   "cell_type": "markdown",
   "metadata": {},
   "source": [
    "### Factorization Machine from Scratch : Regression Task\n",
    "---"
   ]
  },
  {
   "cell_type": "markdown",
   "metadata": {},
   "source": [
    "**Task : Rating Prediction**\n",
    "\n",
    "Factorization Machine is basically the same as our `familiar` Linear Regression model basic form, which is :\n",
    "\n",
    "$$\n",
    "f(x) = mx + c\n",
    "$$"
   ]
  },
  {
   "cell_type": "markdown",
   "metadata": {},
   "source": [
    "When we have lot of feature it will become :\n",
    "$$\n",
    "f(x) = m_1.x_1 + ... m_n.x_n + c \n",
    "$$\n",
    "\n",
    "and to summarize :\n",
    "$$\n",
    "f(x) = \\sum_i^nm_i.x_i + c \n",
    "$$\n",
    "\n",
    "where $m$ is weight or coefficient."
   ]
  },
  {
   "cell_type": "markdown",
   "metadata": {},
   "source": [
    "Where in Recommender System context we hypothesize that our features such as :    \n",
    "1. User\n",
    "2. Item\n",
    "3. Contextual data\n",
    "\n",
    "has relation to each other."
   ]
  },
  {
   "cell_type": "markdown",
   "metadata": {},
   "source": [
    "We can add interaction factor to each feature as follow :\n",
    "\n",
    "$$\n",
    "f(x) = \\sum_i^nm_i.x_i + c + \\sum_{i=1} \\sum_{j=1+1} w_{i,j} x_i.x_j \n",
    "$$"
   ]
  },
  {
   "cell_type": "markdown",
   "metadata": {},
   "source": [
    "instead of using weight to each interaction, we can create interaction term for each feature and represented it as latent factor with below equation :\n",
    "\n",
    "$$\n",
    "f(x) = \\sum_i^nm_i.x_i + c + \\sum_{i=1} \\sum_{j=1+1} <v_i.v_j> x_i.x_j\n",
    "$$"
   ]
  },
  {
   "cell_type": "markdown",
   "metadata": {},
   "source": [
    "Hereby we represent our feature as latent factor, hence we can choose number of number latent factor to represent each feature, let say if we choose 3 latent factor.\n",
    "\n",
    "$$\n",
    "f(x) = \\sum_i^nm_i.x_i + c + \\sum_{f=1}^{k=3} \\sum_{i=1} \\sum_{j=1+1} v_{i,f}.v_{i,f} x_i.x_j\n",
    "$$"
   ]
  },
  {
   "cell_type": "markdown",
   "metadata": {},
   "source": [
    "Or in general we depend on number of latent factor `k`\n",
    "\n",
    "$$\n",
    "f(x) = \\sum_i^nm_i.x_i + c + \\sum_{f=1}^{k} \\sum_{i=1} \\sum_{j=1+1} v_{i,f}.v_{i,f} x_i.x_j\n",
    "$$"
   ]
  },
  {
   "cell_type": "markdown",
   "metadata": {},
   "source": [
    "#### Data Preparation\n",
    "\n",
    "In this process we will prepare our data so that we can continue to training process, the expected output should be array with size `<n_records x features>` with\n",
    "\n",
    "with features ordered :     \n",
    "- feature 1 : `userId`\n",
    "- feature 2 : `movieId`\n",
    "- feature 3 : `rating`\n"
   ]
  },
  {
   "cell_type": "markdown",
   "metadata": {},
   "source": [
    "<img src=\"https://drive.google.com/uc?export=view&id=1Qqp4HD9qVkiwKxn2clVtfdpujSd6kUea\" width=600>\n"
   ]
  },
  {
   "cell_type": "markdown",
   "metadata": {},
   "source": [
    "#### Mapping User and Item ID"
   ]
  },
  {
   "cell_type": "markdown",
   "metadata": {},
   "source": [
    "To create mapping, we can simply create dictionary, which stores :    \n",
    "- UserId to ordered id\n",
    "```python\n",
    "user_to_id = {userid : orderedid}\n",
    "#example\n",
    "user_to_id = {'ab' : 1}\n",
    "```\n",
    "- Ordered id to UserId\n",
    "```python\n",
    "user_to_id = {orderedid : userid }\n",
    "#example\n",
    "user_to_id = {1 : 'ab' }\n",
    "```"
   ]
  },
  {
   "cell_type": "code",
   "execution_count": 12,
   "metadata": {},
   "outputs": [],
   "source": [
    "# mapping user to ordered id\n",
    "user_to_id = {user : idx for idx,user in enumerate(trip_data['user_id'].unique())}\n",
    "\n",
    "id_to_user = {idx : user for idx,user in enumerate(trip_data['user_id'].unique())}"
   ]
  },
  {
   "cell_type": "code",
   "execution_count": 13,
   "metadata": {},
   "outputs": [],
   "source": [
    "# mapping item to ordered id\n",
    "item_to_id = {item : idx for idx,item in enumerate(trip_data['item_id'].unique())}\n",
    "\n",
    "id_to_item = {idx : item for idx,item in enumerate(trip_data['item_id'].unique())}"
   ]
  },
  {
   "cell_type": "code",
   "execution_count": 14,
   "metadata": {},
   "outputs": [],
   "source": [
    "mapped_data = trip_data.copy()\n",
    "mapped_data['user_id'] = mapped_data['user_id'].map(user_to_id)\n",
    "mapped_data['item_id'] = mapped_data['item_id'].map(item_to_id)"
   ]
  },
  {
   "cell_type": "code",
   "execution_count": 15,
   "metadata": {},
   "outputs": [
    {
     "data": {
      "text/html": [
       "<div>\n",
       "<style scoped>\n",
       "    .dataframe tbody tr th:only-of-type {\n",
       "        vertical-align: middle;\n",
       "    }\n",
       "\n",
       "    .dataframe tbody tr th {\n",
       "        vertical-align: top;\n",
       "    }\n",
       "\n",
       "    .dataframe thead th {\n",
       "        text-align: right;\n",
       "    }\n",
       "</style>\n",
       "<table border=\"1\" class=\"dataframe\">\n",
       "  <thead>\n",
       "    <tr style=\"text-align: right;\">\n",
       "      <th></th>\n",
       "      <th>user_id</th>\n",
       "      <th>item_id</th>\n",
       "      <th>rating</th>\n",
       "      <th>trip</th>\n",
       "    </tr>\n",
       "  </thead>\n",
       "  <tbody>\n",
       "    <tr>\n",
       "      <th>0</th>\n",
       "      <td>5C28F393B23BB894523AE7126A7AE445</td>\n",
       "      <td>219668</td>\n",
       "      <td>5</td>\n",
       "      <td>SOLO</td>\n",
       "    </tr>\n",
       "    <tr>\n",
       "      <th>1</th>\n",
       "      <td>3FA27F6E8AC712A82C69C4EDD8B912CC</td>\n",
       "      <td>223860</td>\n",
       "      <td>5</td>\n",
       "      <td>SOLO</td>\n",
       "    </tr>\n",
       "    <tr>\n",
       "      <th>2</th>\n",
       "      <td>B99CFBB5411EDC8881D13B7A4B313ADA</td>\n",
       "      <td>75680</td>\n",
       "      <td>5</td>\n",
       "      <td>FAMILY</td>\n",
       "    </tr>\n",
       "    <tr>\n",
       "      <th>3</th>\n",
       "      <td>3FA27F6E8AC712A82C69C4EDD8B912CC</td>\n",
       "      <td>224783</td>\n",
       "      <td>5</td>\n",
       "      <td>SOLO</td>\n",
       "    </tr>\n",
       "    <tr>\n",
       "      <th>4</th>\n",
       "      <td>7CEFF5C32BA1F3B186E7838C7D3FE25E</td>\n",
       "      <td>222984</td>\n",
       "      <td>5</td>\n",
       "      <td>COUPLES</td>\n",
       "    </tr>\n",
       "  </tbody>\n",
       "</table>\n",
       "</div>"
      ],
      "text/plain": [
       "                            user_id  item_id  rating     trip\n",
       "0  5C28F393B23BB894523AE7126A7AE445   219668       5     SOLO\n",
       "1  3FA27F6E8AC712A82C69C4EDD8B912CC   223860       5     SOLO\n",
       "2  B99CFBB5411EDC8881D13B7A4B313ADA    75680       5   FAMILY\n",
       "3  3FA27F6E8AC712A82C69C4EDD8B912CC   224783       5     SOLO\n",
       "4  7CEFF5C32BA1F3B186E7838C7D3FE25E   222984       5  COUPLES"
      ]
     },
     "execution_count": 15,
     "metadata": {},
     "output_type": "execute_result"
    }
   ],
   "source": [
    "trip_data.head()"
   ]
  },
  {
   "cell_type": "code",
   "execution_count": 16,
   "metadata": {},
   "outputs": [
    {
     "data": {
      "text/html": [
       "<div>\n",
       "<style scoped>\n",
       "    .dataframe tbody tr th:only-of-type {\n",
       "        vertical-align: middle;\n",
       "    }\n",
       "\n",
       "    .dataframe tbody tr th {\n",
       "        vertical-align: top;\n",
       "    }\n",
       "\n",
       "    .dataframe thead th {\n",
       "        text-align: right;\n",
       "    }\n",
       "</style>\n",
       "<table border=\"1\" class=\"dataframe\">\n",
       "  <thead>\n",
       "    <tr style=\"text-align: right;\">\n",
       "      <th></th>\n",
       "      <th>user_id</th>\n",
       "      <th>item_id</th>\n",
       "      <th>rating</th>\n",
       "      <th>trip</th>\n",
       "    </tr>\n",
       "  </thead>\n",
       "  <tbody>\n",
       "    <tr>\n",
       "      <th>0</th>\n",
       "      <td>0</td>\n",
       "      <td>0</td>\n",
       "      <td>5</td>\n",
       "      <td>SOLO</td>\n",
       "    </tr>\n",
       "    <tr>\n",
       "      <th>1</th>\n",
       "      <td>1</td>\n",
       "      <td>1</td>\n",
       "      <td>5</td>\n",
       "      <td>SOLO</td>\n",
       "    </tr>\n",
       "    <tr>\n",
       "      <th>2</th>\n",
       "      <td>2</td>\n",
       "      <td>2</td>\n",
       "      <td>5</td>\n",
       "      <td>FAMILY</td>\n",
       "    </tr>\n",
       "    <tr>\n",
       "      <th>3</th>\n",
       "      <td>1</td>\n",
       "      <td>3</td>\n",
       "      <td>5</td>\n",
       "      <td>SOLO</td>\n",
       "    </tr>\n",
       "    <tr>\n",
       "      <th>4</th>\n",
       "      <td>3</td>\n",
       "      <td>4</td>\n",
       "      <td>5</td>\n",
       "      <td>COUPLES</td>\n",
       "    </tr>\n",
       "  </tbody>\n",
       "</table>\n",
       "</div>"
      ],
      "text/plain": [
       "   user_id  item_id  rating     trip\n",
       "0        0        0       5     SOLO\n",
       "1        1        1       5     SOLO\n",
       "2        2        2       5   FAMILY\n",
       "3        1        3       5     SOLO\n",
       "4        3        4       5  COUPLES"
      ]
     },
     "execution_count": 16,
     "metadata": {},
     "output_type": "execute_result"
    }
   ],
   "source": [
    "mapped_data.head()"
   ]
  },
  {
   "cell_type": "markdown",
   "metadata": {},
   "source": [
    "#### One Hot Encoding"
   ]
  },
  {
   "cell_type": "markdown",
   "metadata": {},
   "source": [
    "Remember that, now beside our utility matrix we have `context` data , in our case, `trip` type"
   ]
  },
  {
   "cell_type": "markdown",
   "metadata": {},
   "source": [
    "Into : \n",
    "     \n",
    "<img src=\"https://drive.google.com/uc?export=view&id=1pAkYN3kJ-O7-p5BLEwucRhjKEr7wxToO\" width=600>\n"
   ]
  },
  {
   "cell_type": "markdown",
   "metadata": {},
   "source": [
    "Converting data into categorical type, so that we could create One Hot Encoding based on available data"
   ]
  },
  {
   "cell_type": "code",
   "execution_count": 17,
   "metadata": {},
   "outputs": [],
   "source": [
    "mapped_data['user_id'] = mapped_data['user_id'].astype('category')\n",
    "mapped_data['item_id'] = mapped_data['item_id'].astype('category')\n",
    "encoded_data = pd.get_dummies(mapped_data[['user_id','item_id','trip']])"
   ]
  },
  {
   "cell_type": "code",
   "execution_count": 18,
   "metadata": {},
   "outputs": [
    {
     "data": {
      "text/html": [
       "<div>\n",
       "<style scoped>\n",
       "    .dataframe tbody tr th:only-of-type {\n",
       "        vertical-align: middle;\n",
       "    }\n",
       "\n",
       "    .dataframe tbody tr th {\n",
       "        vertical-align: top;\n",
       "    }\n",
       "\n",
       "    .dataframe thead th {\n",
       "        text-align: right;\n",
       "    }\n",
       "</style>\n",
       "<table border=\"1\" class=\"dataframe\">\n",
       "  <thead>\n",
       "    <tr style=\"text-align: right;\">\n",
       "      <th></th>\n",
       "      <th>user_id_0</th>\n",
       "      <th>user_id_1</th>\n",
       "      <th>user_id_2</th>\n",
       "      <th>user_id_3</th>\n",
       "      <th>user_id_4</th>\n",
       "      <th>user_id_5</th>\n",
       "      <th>user_id_6</th>\n",
       "      <th>user_id_7</th>\n",
       "      <th>user_id_8</th>\n",
       "      <th>user_id_9</th>\n",
       "      <th>...</th>\n",
       "      <th>item_id_2264</th>\n",
       "      <th>item_id_2265</th>\n",
       "      <th>item_id_2266</th>\n",
       "      <th>item_id_2267</th>\n",
       "      <th>item_id_2268</th>\n",
       "      <th>trip_BUSINESS</th>\n",
       "      <th>trip_COUPLES</th>\n",
       "      <th>trip_FAMILY</th>\n",
       "      <th>trip_FRIENDS</th>\n",
       "      <th>trip_SOLO</th>\n",
       "    </tr>\n",
       "  </thead>\n",
       "  <tbody>\n",
       "    <tr>\n",
       "      <th>0</th>\n",
       "      <td>True</td>\n",
       "      <td>False</td>\n",
       "      <td>False</td>\n",
       "      <td>False</td>\n",
       "      <td>False</td>\n",
       "      <td>False</td>\n",
       "      <td>False</td>\n",
       "      <td>False</td>\n",
       "      <td>False</td>\n",
       "      <td>False</td>\n",
       "      <td>...</td>\n",
       "      <td>False</td>\n",
       "      <td>False</td>\n",
       "      <td>False</td>\n",
       "      <td>False</td>\n",
       "      <td>False</td>\n",
       "      <td>False</td>\n",
       "      <td>False</td>\n",
       "      <td>False</td>\n",
       "      <td>False</td>\n",
       "      <td>True</td>\n",
       "    </tr>\n",
       "    <tr>\n",
       "      <th>1</th>\n",
       "      <td>False</td>\n",
       "      <td>True</td>\n",
       "      <td>False</td>\n",
       "      <td>False</td>\n",
       "      <td>False</td>\n",
       "      <td>False</td>\n",
       "      <td>False</td>\n",
       "      <td>False</td>\n",
       "      <td>False</td>\n",
       "      <td>False</td>\n",
       "      <td>...</td>\n",
       "      <td>False</td>\n",
       "      <td>False</td>\n",
       "      <td>False</td>\n",
       "      <td>False</td>\n",
       "      <td>False</td>\n",
       "      <td>False</td>\n",
       "      <td>False</td>\n",
       "      <td>False</td>\n",
       "      <td>False</td>\n",
       "      <td>True</td>\n",
       "    </tr>\n",
       "    <tr>\n",
       "      <th>2</th>\n",
       "      <td>False</td>\n",
       "      <td>False</td>\n",
       "      <td>True</td>\n",
       "      <td>False</td>\n",
       "      <td>False</td>\n",
       "      <td>False</td>\n",
       "      <td>False</td>\n",
       "      <td>False</td>\n",
       "      <td>False</td>\n",
       "      <td>False</td>\n",
       "      <td>...</td>\n",
       "      <td>False</td>\n",
       "      <td>False</td>\n",
       "      <td>False</td>\n",
       "      <td>False</td>\n",
       "      <td>False</td>\n",
       "      <td>False</td>\n",
       "      <td>False</td>\n",
       "      <td>True</td>\n",
       "      <td>False</td>\n",
       "      <td>False</td>\n",
       "    </tr>\n",
       "    <tr>\n",
       "      <th>3</th>\n",
       "      <td>False</td>\n",
       "      <td>True</td>\n",
       "      <td>False</td>\n",
       "      <td>False</td>\n",
       "      <td>False</td>\n",
       "      <td>False</td>\n",
       "      <td>False</td>\n",
       "      <td>False</td>\n",
       "      <td>False</td>\n",
       "      <td>False</td>\n",
       "      <td>...</td>\n",
       "      <td>False</td>\n",
       "      <td>False</td>\n",
       "      <td>False</td>\n",
       "      <td>False</td>\n",
       "      <td>False</td>\n",
       "      <td>False</td>\n",
       "      <td>False</td>\n",
       "      <td>False</td>\n",
       "      <td>False</td>\n",
       "      <td>True</td>\n",
       "    </tr>\n",
       "    <tr>\n",
       "      <th>4</th>\n",
       "      <td>False</td>\n",
       "      <td>False</td>\n",
       "      <td>False</td>\n",
       "      <td>True</td>\n",
       "      <td>False</td>\n",
       "      <td>False</td>\n",
       "      <td>False</td>\n",
       "      <td>False</td>\n",
       "      <td>False</td>\n",
       "      <td>False</td>\n",
       "      <td>...</td>\n",
       "      <td>False</td>\n",
       "      <td>False</td>\n",
       "      <td>False</td>\n",
       "      <td>False</td>\n",
       "      <td>False</td>\n",
       "      <td>False</td>\n",
       "      <td>True</td>\n",
       "      <td>False</td>\n",
       "      <td>False</td>\n",
       "      <td>False</td>\n",
       "    </tr>\n",
       "  </tbody>\n",
       "</table>\n",
       "<p>5 rows × 4645 columns</p>\n",
       "</div>"
      ],
      "text/plain": [
       "   user_id_0  user_id_1  user_id_2  user_id_3  user_id_4  user_id_5  \\\n",
       "0       True      False      False      False      False      False   \n",
       "1      False       True      False      False      False      False   \n",
       "2      False      False       True      False      False      False   \n",
       "3      False       True      False      False      False      False   \n",
       "4      False      False      False       True      False      False   \n",
       "\n",
       "   user_id_6  user_id_7  user_id_8  user_id_9  ...  item_id_2264  \\\n",
       "0      False      False      False      False  ...         False   \n",
       "1      False      False      False      False  ...         False   \n",
       "2      False      False      False      False  ...         False   \n",
       "3      False      False      False      False  ...         False   \n",
       "4      False      False      False      False  ...         False   \n",
       "\n",
       "   item_id_2265  item_id_2266  item_id_2267  item_id_2268  trip_BUSINESS  \\\n",
       "0         False         False         False         False          False   \n",
       "1         False         False         False         False          False   \n",
       "2         False         False         False         False          False   \n",
       "3         False         False         False         False          False   \n",
       "4         False         False         False         False          False   \n",
       "\n",
       "   trip_COUPLES  trip_FAMILY  trip_FRIENDS  trip_SOLO  \n",
       "0         False        False         False       True  \n",
       "1         False        False         False       True  \n",
       "2         False         True         False      False  \n",
       "3         False        False         False       True  \n",
       "4          True        False         False      False  \n",
       "\n",
       "[5 rows x 4645 columns]"
      ]
     },
     "execution_count": 18,
     "metadata": {},
     "output_type": "execute_result"
    }
   ],
   "source": [
    "encoded_data.head()"
   ]
  },
  {
   "cell_type": "markdown",
   "metadata": {},
   "source": [
    "Now, we have seen that we already prepare all the data, we may want to use the preprocessing step again, we better create the function"
   ]
  },
  {
   "cell_type": "code",
   "execution_count": 19,
   "metadata": {},
   "outputs": [],
   "source": [
    "# Function to map data\n",
    "def map_data(trip_data) :\n",
    "    user_to_id = {user : idx for idx,user in enumerate(trip_data['user_id'].unique())}\n",
    "    id_to_user = {idx : user for idx,user in enumerate(trip_data['user_id'].unique())}\n",
    "\n",
    "    # mapping item to ordered id\n",
    "    item_to_id = {item : idx for idx,item in enumerate(trip_data['item_id'].unique())}\n",
    "    id_to_item = {idx : item for idx,item in enumerate(trip_data['item_id'].unique())}\n",
    "\n",
    "    trip_data['user_id'] = trip_data['user_id'].map(user_to_id)\n",
    "    trip_data['item_id'] = trip_data['item_id'].map(item_to_id)\n",
    "\n",
    "    user_mapping = {\n",
    "        'user_to_id' : user_to_id,\n",
    "        'id_to_user' : id_to_user\n",
    "    }\n",
    "\n",
    "    item_mapping = {\n",
    "        'item_to_id' : item_to_id,\n",
    "        'id_to_item' : id_to_item\n",
    "    }\n",
    "\n",
    "    return trip_data,user_mapping,item_mapping"
   ]
  },
  {
   "cell_type": "markdown",
   "metadata": {},
   "source": [
    "#### Data Preparation Function"
   ]
  },
  {
   "cell_type": "code",
   "execution_count": 20,
   "metadata": {},
   "outputs": [],
   "source": [
    "def preprocess_data(trip_data) :\n",
    "    \"\"\"\n",
    "    Function to preprocess data\n",
    "    Parameters\n",
    "    ----------\n",
    "    trip_data : pandas.DataFrame\n",
    "        contain the trip data\n",
    "\n",
    "    Returns\n",
    "    -------\n",
    "    trip_data : pandas DataFrame\n",
    "        The sample of trip_data data\n",
    "\n",
    "    mapping_user : dict\n",
    "        contain mappers :\n",
    "        1. user to id\n",
    "        2. id to user\n",
    "\n",
    "    mapping_item : dict\n",
    "        contain mappers :\n",
    "        1. item to id\n",
    "        2. id to item\n",
    "\n",
    "    \"\"\"\n",
    "    # copy to avoid overwriting the original dataframe\n",
    "    trip_data = trip_data.copy()\n",
    "\n",
    "    trip_data, mapping_user, mapping_item = map_data(trip_data= trip_data)\n",
    "\n",
    "    # change data type from user and item id to category\n",
    "    trip_data['user_id'] = trip_data['user_id'].astype('category')\n",
    "    trip_data['item_id'] = trip_data['item_id'].astype('category')\n",
    "\n",
    "    # create one hot encoding\n",
    "    encoded_data = pd.get_dummies(trip_data[['user_id','item_id','trip']], dtype=int)\n",
    "\n",
    "    # combine again with the target variable\n",
    "    all_data = pd.concat([encoded_data,trip_data[['rating']]],axis=1)\n",
    "\n",
    "\n",
    "    feature_names = encoded_data.columns.tolist()\n",
    "    return all_data, mapping_user, mapping_item,feature_names"
   ]
  },
  {
   "cell_type": "code",
   "execution_count": 21,
   "metadata": {},
   "outputs": [],
   "source": [
    "processed_data,mapping_user,mapping_item,feature_names = preprocess_data(trip_data=trip_data)"
   ]
  },
  {
   "cell_type": "code",
   "execution_count": 22,
   "metadata": {},
   "outputs": [
    {
     "data": {
      "text/html": [
       "<div>\n",
       "<style scoped>\n",
       "    .dataframe tbody tr th:only-of-type {\n",
       "        vertical-align: middle;\n",
       "    }\n",
       "\n",
       "    .dataframe tbody tr th {\n",
       "        vertical-align: top;\n",
       "    }\n",
       "\n",
       "    .dataframe thead th {\n",
       "        text-align: right;\n",
       "    }\n",
       "</style>\n",
       "<table border=\"1\" class=\"dataframe\">\n",
       "  <thead>\n",
       "    <tr style=\"text-align: right;\">\n",
       "      <th></th>\n",
       "      <th>user_id_0</th>\n",
       "      <th>user_id_1</th>\n",
       "      <th>user_id_2</th>\n",
       "      <th>user_id_3</th>\n",
       "      <th>user_id_4</th>\n",
       "      <th>user_id_5</th>\n",
       "      <th>user_id_6</th>\n",
       "      <th>user_id_7</th>\n",
       "      <th>user_id_8</th>\n",
       "      <th>user_id_9</th>\n",
       "      <th>...</th>\n",
       "      <th>item_id_2265</th>\n",
       "      <th>item_id_2266</th>\n",
       "      <th>item_id_2267</th>\n",
       "      <th>item_id_2268</th>\n",
       "      <th>trip_BUSINESS</th>\n",
       "      <th>trip_COUPLES</th>\n",
       "      <th>trip_FAMILY</th>\n",
       "      <th>trip_FRIENDS</th>\n",
       "      <th>trip_SOLO</th>\n",
       "      <th>rating</th>\n",
       "    </tr>\n",
       "  </thead>\n",
       "  <tbody>\n",
       "    <tr>\n",
       "      <th>0</th>\n",
       "      <td>1</td>\n",
       "      <td>0</td>\n",
       "      <td>0</td>\n",
       "      <td>0</td>\n",
       "      <td>0</td>\n",
       "      <td>0</td>\n",
       "      <td>0</td>\n",
       "      <td>0</td>\n",
       "      <td>0</td>\n",
       "      <td>0</td>\n",
       "      <td>...</td>\n",
       "      <td>0</td>\n",
       "      <td>0</td>\n",
       "      <td>0</td>\n",
       "      <td>0</td>\n",
       "      <td>0</td>\n",
       "      <td>0</td>\n",
       "      <td>0</td>\n",
       "      <td>0</td>\n",
       "      <td>1</td>\n",
       "      <td>5</td>\n",
       "    </tr>\n",
       "    <tr>\n",
       "      <th>1</th>\n",
       "      <td>0</td>\n",
       "      <td>1</td>\n",
       "      <td>0</td>\n",
       "      <td>0</td>\n",
       "      <td>0</td>\n",
       "      <td>0</td>\n",
       "      <td>0</td>\n",
       "      <td>0</td>\n",
       "      <td>0</td>\n",
       "      <td>0</td>\n",
       "      <td>...</td>\n",
       "      <td>0</td>\n",
       "      <td>0</td>\n",
       "      <td>0</td>\n",
       "      <td>0</td>\n",
       "      <td>0</td>\n",
       "      <td>0</td>\n",
       "      <td>0</td>\n",
       "      <td>0</td>\n",
       "      <td>1</td>\n",
       "      <td>5</td>\n",
       "    </tr>\n",
       "    <tr>\n",
       "      <th>2</th>\n",
       "      <td>0</td>\n",
       "      <td>0</td>\n",
       "      <td>1</td>\n",
       "      <td>0</td>\n",
       "      <td>0</td>\n",
       "      <td>0</td>\n",
       "      <td>0</td>\n",
       "      <td>0</td>\n",
       "      <td>0</td>\n",
       "      <td>0</td>\n",
       "      <td>...</td>\n",
       "      <td>0</td>\n",
       "      <td>0</td>\n",
       "      <td>0</td>\n",
       "      <td>0</td>\n",
       "      <td>0</td>\n",
       "      <td>0</td>\n",
       "      <td>1</td>\n",
       "      <td>0</td>\n",
       "      <td>0</td>\n",
       "      <td>5</td>\n",
       "    </tr>\n",
       "    <tr>\n",
       "      <th>3</th>\n",
       "      <td>0</td>\n",
       "      <td>1</td>\n",
       "      <td>0</td>\n",
       "      <td>0</td>\n",
       "      <td>0</td>\n",
       "      <td>0</td>\n",
       "      <td>0</td>\n",
       "      <td>0</td>\n",
       "      <td>0</td>\n",
       "      <td>0</td>\n",
       "      <td>...</td>\n",
       "      <td>0</td>\n",
       "      <td>0</td>\n",
       "      <td>0</td>\n",
       "      <td>0</td>\n",
       "      <td>0</td>\n",
       "      <td>0</td>\n",
       "      <td>0</td>\n",
       "      <td>0</td>\n",
       "      <td>1</td>\n",
       "      <td>5</td>\n",
       "    </tr>\n",
       "    <tr>\n",
       "      <th>4</th>\n",
       "      <td>0</td>\n",
       "      <td>0</td>\n",
       "      <td>0</td>\n",
       "      <td>1</td>\n",
       "      <td>0</td>\n",
       "      <td>0</td>\n",
       "      <td>0</td>\n",
       "      <td>0</td>\n",
       "      <td>0</td>\n",
       "      <td>0</td>\n",
       "      <td>...</td>\n",
       "      <td>0</td>\n",
       "      <td>0</td>\n",
       "      <td>0</td>\n",
       "      <td>0</td>\n",
       "      <td>0</td>\n",
       "      <td>1</td>\n",
       "      <td>0</td>\n",
       "      <td>0</td>\n",
       "      <td>0</td>\n",
       "      <td>5</td>\n",
       "    </tr>\n",
       "  </tbody>\n",
       "</table>\n",
       "<p>5 rows × 4646 columns</p>\n",
       "</div>"
      ],
      "text/plain": [
       "   user_id_0  user_id_1  user_id_2  user_id_3  user_id_4  user_id_5  \\\n",
       "0          1          0          0          0          0          0   \n",
       "1          0          1          0          0          0          0   \n",
       "2          0          0          1          0          0          0   \n",
       "3          0          1          0          0          0          0   \n",
       "4          0          0          0          1          0          0   \n",
       "\n",
       "   user_id_6  user_id_7  user_id_8  user_id_9  ...  item_id_2265  \\\n",
       "0          0          0          0          0  ...             0   \n",
       "1          0          0          0          0  ...             0   \n",
       "2          0          0          0          0  ...             0   \n",
       "3          0          0          0          0  ...             0   \n",
       "4          0          0          0          0  ...             0   \n",
       "\n",
       "   item_id_2266  item_id_2267  item_id_2268  trip_BUSINESS  trip_COUPLES  \\\n",
       "0             0             0             0              0             0   \n",
       "1             0             0             0              0             0   \n",
       "2             0             0             0              0             0   \n",
       "3             0             0             0              0             0   \n",
       "4             0             0             0              0             1   \n",
       "\n",
       "   trip_FAMILY  trip_FRIENDS  trip_SOLO  rating  \n",
       "0            0             0          1       5  \n",
       "1            0             0          1       5  \n",
       "2            1             0          0       5  \n",
       "3            0             0          1       5  \n",
       "4            0             0          0       5  \n",
       "\n",
       "[5 rows x 4646 columns]"
      ]
     },
     "execution_count": 22,
     "metadata": {},
     "output_type": "execute_result"
    }
   ],
   "source": [
    "processed_data.head()"
   ]
  },
  {
   "cell_type": "markdown",
   "metadata": {},
   "source": [
    "Now, we already satistified with `Factorization Machines` requirement, however we see that we have `4646` features with mostly zero values. It will be quite inefficient to store if we store it as dataframe , hence we will convert it to sparse matrix. "
   ]
  },
  {
   "cell_type": "markdown",
   "metadata": {},
   "source": [
    "#### **Converting DataFrame to sparse matrix**"
   ]
  },
  {
   "cell_type": "markdown",
   "metadata": {},
   "source": [
    "##### Data Splitting\n",
    "\n",
    "We are going to split our data into training and test data, we are not splitting like before, because our utility matrix + context now become general machine learning algorithm training samples `<X,Y>`"
   ]
  },
  {
   "cell_type": "code",
   "execution_count": 23,
   "metadata": {},
   "outputs": [],
   "source": [
    "X = processed_data.drop('rating',axis=1)\n",
    "y = processed_data['rating']\n",
    "\n",
    "from sklearn.model_selection import train_test_split\n",
    "\n",
    "# split the data\n",
    "X_train,X_test,y_train,y_test = train_test_split(X.to_numpy(), y.to_numpy(), test_size= 0.2)"
   ]
  },
  {
   "cell_type": "code",
   "execution_count": 24,
   "metadata": {},
   "outputs": [
    {
     "name": "stdout",
     "output_type": "stream",
     "text": [
      "Shape of X_train (11079, 4645)\n",
      "Shape of X_train (2770, 4645)\n",
      "Shape of y_train (11079,)\n",
      "Shape of y_test (2770,)\n"
     ]
    }
   ],
   "source": [
    "print('Shape of X_train',X_train.shape)\n",
    "print('Shape of X_train',X_test.shape)\n",
    "print('Shape of y_train',y_train.shape)\n",
    "print('Shape of y_test',y_test.shape)"
   ]
  },
  {
   "cell_type": "markdown",
   "metadata": {},
   "source": [
    "##### All about Sparse Matrix\n",
    "\n",
    "\n",
    "We previously has formed , `Sparse Data`, mostly with 0 values, however it will deal with serious problem, if we do that in just pure numpy array. We need to utilize what called as **sparse matrix**. "
   ]
  },
  {
   "cell_type": "markdown",
   "metadata": {},
   "source": [
    "There are lot of variety sparse matrix, but most common is `Compressed Sparse Row/Column`\n",
    "\n",
    "<img src=\"https://matteding.github.io/images/csr.gif\" >\n",
    "<center> <a href=\"https://matteding.github.io/images/csr.gif\">Source</center>"
   ]
  },
  {
   "cell_type": "markdown",
   "metadata": {},
   "source": [
    "CSR matrix consist of several elements :      \n",
    "1. Indices\n",
    "\n",
    "   Could be column or row location which contain data,\n",
    "   if we use compressed sparse row --> our indices is the column\n",
    "\n",
    "2. Indices Pointer\n",
    "\n",
    "   This is the opposite of our indices, if our indices is in column , then the pointer is in row,\n",
    "   \n",
    "\n",
    "3. Data\n",
    "\n",
    "   Non Missing Data"
   ]
  },
  {
   "cell_type": "markdown",
   "metadata": {},
   "source": [
    "- Let's say we have a sparse matrix as below :"
   ]
  },
  {
   "cell_type": "code",
   "execution_count": 25,
   "metadata": {},
   "outputs": [
    {
     "data": {
      "text/plain": [
       "array([[8, 0, 2, 0, 0],\n",
       "       [0, 0, 5, 0, 0],\n",
       "       [0, 0, 0, 0, 0],\n",
       "       [0, 0, 0, 0, 0],\n",
       "       [0, 0, 7, 1, 2],\n",
       "       [0, 0, 0, 0, 0],\n",
       "       [0, 0, 0, 9, 0]])"
      ]
     },
     "execution_count": 25,
     "metadata": {},
     "output_type": "execute_result"
    }
   ],
   "source": [
    "sparse_matrix = np.array(\n",
    "        [[8, 0, 2, 0, 0],\n",
    "        [0, 0, 5, 0, 0],\n",
    "        [0, 0, 0, 0, 0],\n",
    "        [0, 0, 0, 0, 0],\n",
    "        [0, 0, 7, 1, 2],\n",
    "        [0, 0, 0, 0, 0],\n",
    "        [0, 0, 0, 9, 0]])\n",
    "\n",
    "sparse_matrix"
   ]
  },
  {
   "cell_type": "markdown",
   "metadata": {},
   "source": [
    "And we could built the sparse matrix version of it as below :"
   ]
  },
  {
   "cell_type": "code",
   "execution_count": 26,
   "metadata": {},
   "outputs": [
    {
     "data": {
      "text/plain": [
       "<7x5 sparse matrix of type '<class 'numpy.int64'>'\n",
       "\twith 7 stored elements in Compressed Sparse Row format>"
      ]
     },
     "execution_count": 26,
     "metadata": {},
     "output_type": "execute_result"
    }
   ],
   "source": [
    "# import scipy\n",
    "import scipy.sparse as sp\n",
    "\n",
    "# convert to csr_matrix\n",
    "s_matrix_csr = sp.csr_matrix(sparse_matrix)\n",
    "s_matrix_csr"
   ]
  },
  {
   "cell_type": "markdown",
   "metadata": {},
   "source": [
    "- Numpy Version of Sparse matrix"
   ]
  },
  {
   "cell_type": "code",
   "execution_count": 27,
   "metadata": {},
   "outputs": [
    {
     "name": "stdout",
     "output_type": "stream",
     "text": [
      "Row : 0 Col : 0 Value :  8\n",
      "Row : 0 Col : 1 Value :  0\n",
      "Row : 0 Col : 2 Value :  2\n",
      "Row : 0 Col : 3 Value :  0\n",
      "Row : 0 Col : 4 Value :  0\n",
      "Row : 1 Col : 0 Value :  0\n",
      "Row : 1 Col : 1 Value :  0\n",
      "Row : 1 Col : 2 Value :  5\n",
      "Row : 1 Col : 3 Value :  0\n",
      "Row : 1 Col : 4 Value :  0\n",
      "Row : 2 Col : 0 Value :  0\n",
      "Row : 2 Col : 1 Value :  0\n",
      "Row : 2 Col : 2 Value :  0\n",
      "Row : 2 Col : 3 Value :  0\n",
      "Row : 2 Col : 4 Value :  0\n",
      "Row : 3 Col : 0 Value :  0\n",
      "Row : 3 Col : 1 Value :  0\n",
      "Row : 3 Col : 2 Value :  0\n",
      "Row : 3 Col : 3 Value :  0\n",
      "Row : 3 Col : 4 Value :  0\n",
      "Row : 4 Col : 0 Value :  0\n",
      "Row : 4 Col : 1 Value :  0\n",
      "Row : 4 Col : 2 Value :  7\n",
      "Row : 4 Col : 3 Value :  1\n",
      "Row : 4 Col : 4 Value :  2\n",
      "Row : 5 Col : 0 Value :  0\n",
      "Row : 5 Col : 1 Value :  0\n",
      "Row : 5 Col : 2 Value :  0\n",
      "Row : 5 Col : 3 Value :  0\n",
      "Row : 5 Col : 4 Value :  0\n",
      "Row : 6 Col : 0 Value :  0\n",
      "Row : 6 Col : 1 Value :  0\n",
      "Row : 6 Col : 2 Value :  0\n",
      "Row : 6 Col : 3 Value :  9\n",
      "Row : 6 Col : 4 Value :  0\n"
     ]
    }
   ],
   "source": [
    "# loop all over row\n",
    "  # loop all over col\n",
    "for row_idx in range(sparse_matrix.shape[0]) :\n",
    "    for col_idx in range(sparse_matrix.shape[1]) :\n",
    "        print(f'Row : {row_idx} Col : {col_idx} Value : ',sparse_matrix[row_idx,col_idx])"
   ]
  },
  {
   "cell_type": "markdown",
   "metadata": {},
   "source": [
    "**Compressed Sparse Row** version"
   ]
  },
  {
   "cell_type": "markdown",
   "metadata": {},
   "source": [
    "in this version of sparse matrix we can only access **Non Zero Values** data"
   ]
  },
  {
   "cell_type": "code",
   "execution_count": 28,
   "metadata": {},
   "outputs": [
    {
     "data": {
      "text/plain": [
       "array([0, 2, 3, 3, 3, 6, 6, 7], dtype=int32)"
      ]
     },
     "execution_count": 28,
     "metadata": {},
     "output_type": "execute_result"
    }
   ],
   "source": [
    "s_matrix_csr.indptr"
   ]
  },
  {
   "cell_type": "code",
   "execution_count": 29,
   "metadata": {},
   "outputs": [
    {
     "data": {
      "text/plain": [
       "array([0, 2, 2, 2, 3, 4, 3], dtype=int32)"
      ]
     },
     "execution_count": 29,
     "metadata": {},
     "output_type": "execute_result"
    }
   ],
   "source": [
    "s_matrix_csr.indices"
   ]
  },
  {
   "cell_type": "code",
   "execution_count": 30,
   "metadata": {},
   "outputs": [
    {
     "name": "stdout",
     "output_type": "stream",
     "text": [
      "data 8\n",
      "data 2\n",
      "data 5\n",
      "data 7\n",
      "data 1\n",
      "data 2\n",
      "data 9\n"
     ]
    }
   ],
   "source": [
    "# we can loop all over indices pointer\n",
    "row_length = sparse_matrix.shape[0]\n",
    "for i in range(row_length)  :\n",
    "    # access indices pointer, we should add +1\n",
    "    for index in range(s_matrix_csr.indptr[i],s_matrix_csr.indptr[i+1]) :\n",
    "      # print('index',index)\n",
    "      print('data',s_matrix_csr.data[index])\n",
    "\n"
   ]
  },
  {
   "cell_type": "code",
   "execution_count": 31,
   "metadata": {},
   "outputs": [],
   "source": [
    "# convert to scipy.csr matrix\n",
    "X_train_sparse = sp.csr_matrix(X_train)\n",
    "X_test_sparse  = sp.csr_matrix(X_test)"
   ]
  },
  {
   "cell_type": "markdown",
   "metadata": {},
   "source": [
    "#### Objective\n",
    "\n",
    "$$\n",
    "\\text{Objective}= \\underset{}{\\min}\n",
    "\\left [\n",
    " \\sum_{n \\in D} (y^{(n)}-\\hat{y}^{(n)})^2\n",
    "\\right ]\n",
    "$$"
   ]
  },
  {
   "cell_type": "markdown",
   "metadata": {},
   "source": [
    "with\n",
    "$$\n",
    "\\begin{align*}\n",
    "\\hat{y}^{(n)}\n",
    "&= w_{0} + \\sum_{i=1}^{n} w_{i} x_{i} + \\frac{1}{2} \\sum_{f=1}^{k} \\left( \\left( \\sum_{i}^{n} v_{i,f}x_{i}^{(n)} \\right)^2  - \\sum_{i=1}^{n} v_{i,f}^2 {x_{i}^{(n)}}^2 \\right)\n",
    "\\end{align*}\n",
    "$$\n",
    "\n",
    "\n",
    "Our main goal is to minimize prediction error, between true rating and predicted rating\n"
   ]
  },
  {
   "cell_type": "markdown",
   "metadata": {},
   "source": [
    "Add term $\\cfrac{1}{2}$ (optional), the purpose is to make the derivative more simple"
   ]
  },
  {
   "cell_type": "markdown",
   "metadata": {},
   "source": [
    "$$\\text{Objective}= \\underset{}{\\min}\n",
    "\\left [\n",
    "\\cfrac{1}{2} \\sum_{n \\in D} (y^{(n)}-\\hat{y}^{(n)})^2\n",
    "\\right ]\n",
    "$$\n"
   ]
  },
  {
   "cell_type": "markdown",
   "metadata": {},
   "source": [
    "$$\n",
    "\\begin{align*}\n",
    "\\text{Objective}\n",
    "&= \\underset{w_0,w^*,v*}{min} \\left [\\cfrac{1}{2}\\sum_{n \\in D} \\left ( y^{n}- ( w_0 + \\sum_{i=1} w_i.x_i^{(n)} +  \\frac{1}{2} \\sum_{f=1}^{k} \\left( \\left( \\sum_{i}^{n} v_{i,f}x_i^{(n)} \\right)^2  - \\sum_{i=1}^{n} v_{i,f}^2 {x_i^{(n)}}^2 \\right) \\right )^2 \\right ]\n",
    "\\end{align*}\n",
    "$$\n"
   ]
  },
  {
   "cell_type": "markdown",
   "metadata": {},
   "source": [
    "Adding Regularization\n",
    "\n",
    "the purpose of adding regularization is to make our model can avoid overfitting, we can add Ridge Regularization"
   ]
  },
  {
   "cell_type": "markdown",
   "metadata": {},
   "source": [
    "**Final Objective Function**\n",
    "\n",
    "$$\n",
    "\\begin{align*}\n",
    "\\text{Objective}\n",
    "&= \\underset{w_0,w^*,v*}{min} \\left [\\cfrac{1}{2}\\sum_{n \\in D} \\left ( y^{n}- ( w_0 + \\sum_{i=1} w_i.x_i^{(n)} +  \\frac{1}{2} \\sum_{f=1}^{k} \\left( \\left( \\sum_{i}^{n} v_{i,f}x_i^{(n)} \\right)^2  - \\sum_{i=1}^{n} v_{i,f}^2 {x_i^{(n)}}^2 \\right) \\right )^2 \\right ] + \\cfrac{\\lambda}{2} \\left [\\sum_{i}(w_i^2 +||v_i||^2 ) \\right ]\n",
    "\\end{align*}\n",
    "$$\n",
    "\n"
   ]
  },
  {
   "cell_type": "markdown",
   "metadata": {},
   "source": [
    "#### Initialization\n",
    "\n",
    "There are three parameters of Factorization Machines :   \n",
    "- $w_0$ : intercept a scalar value\n",
    "- $w_i$ : feature weight , vector with size of `<n_features x 1>`\n",
    "- $v_i$ : feature interaction latent factor, matrix with size of `<n_features x n_factor>`"
   ]
  },
  {
   "cell_type": "code",
   "execution_count": 32,
   "metadata": {},
   "outputs": [],
   "source": [
    "n_sample,n_features = X_train.shape"
   ]
  },
  {
   "cell_type": "code",
   "execution_count": 33,
   "metadata": {},
   "outputs": [],
   "source": [
    "# set number of latent factor\n",
    "n_factor = 50"
   ]
  },
  {
   "cell_type": "code",
   "execution_count": 34,
   "metadata": {},
   "outputs": [],
   "source": [
    "# set seed\n",
    "np.random.seed(49)\n",
    "\n",
    "# initialize parameter\n",
    "# intercept\n",
    "intercept = 0\n",
    "\n",
    "# feature weight\n",
    "w = np.random.normal(size=(n_features,1))\n",
    "\n",
    "# feature interaction weight\n",
    "v = np.random.normal(size=(n_factor,n_features))"
   ]
  },
  {
   "cell_type": "code",
   "execution_count": 35,
   "metadata": {},
   "outputs": [
    {
     "name": "stdout",
     "output_type": "stream",
     "text": [
      "Shape of feature weight (4645, 1)\n",
      "Shape of feature interaction weight (50, 4645)\n"
     ]
    }
   ],
   "source": [
    "# print shape\n",
    "print('Shape of feature weight',w.shape)\n",
    "print('Shape of feature interaction weight',v.shape)"
   ]
  },
  {
   "cell_type": "code",
   "execution_count": 36,
   "metadata": {},
   "outputs": [],
   "source": [
    "# loss function\n",
    "def mse_loss(y_true, y_pred,lambda_coef,lambda_factor,w,v):\n",
    "    \"\"\"\n",
    "    MSE Loss plus regularization term\n",
    "    \"\"\"\n",
    "    loss = ((y_true - y_pred)**2) / 2\n",
    "    regularization_loss = (lambda_coef*(norm(w)**2)) + lambda_factor*(norm(v)**2) / 2\n",
    "    total_loss = loss + regularization_loss\n",
    "    return total_loss"
   ]
  },
  {
   "cell_type": "markdown",
   "metadata": {},
   "source": [
    "#### Prediction Function\n",
    "$$\n",
    "\\begin{align*}\n",
    "\\hat{y}(\\textbf{x})\n",
    "&= w_{0} + \\sum_{i=1}^{n} w_{i} x_{i} + \\frac{1}{2} \\sum_{f=1}^{k} \\left( \\left( \\sum_{i}^{n} v_{i,f}x_{i} \\right)^2  - \\sum_{i=1}^{n} v_{i,f}^2 x_{i}^2 \\right)\n",
    "\\end{align*}\n",
    "$$\n"
   ]
  },
  {
   "cell_type": "markdown",
   "metadata": {},
   "source": [
    "Previously we have prediction function\n",
    "$$\n",
    "\\begin{align}\n",
    "\\hat{y}(\\textbf{x}) = w_{0} + \\sum_{i=1}^{n} w_{i} x_{i} +  \\sum_{i=1}^n \\sum_{j=i+1}^n w_{ij} x_{i} x_{j}\n",
    "\\end{align}\n",
    "$$\n"
   ]
  },
  {
   "cell_type": "markdown",
   "metadata": {},
   "source": [
    "however we see that in\n",
    "$$\n",
    "\\begin{align}\n",
    "\\sum_{i=1}^n \\sum_{j=i+1}^n w_{ij} x_{i} x_{j}\n",
    "\\end{align}\n",
    "$$\n",
    "\n",
    "we have quite expensive computation\n",
    "```{python}\n",
    "# loop 1\n",
    "for i in blabla :\n",
    "  for j in i ..\n",
    "    do something\n",
    "```"
   ]
  },
  {
   "cell_type": "markdown",
   "metadata": {},
   "source": [
    "Could we afford using only one loop instead of looping twice?\n",
    "Yes, we could.. however we should modify it.\n",
    "We could see that index  $j= i+1$, we could remove the term i by substracting them."
   ]
  },
  {
   "cell_type": "markdown",
   "metadata": {},
   "source": [
    "$$\n",
    "\\begin{align*}\n",
    "\\sum_{i=1}^n \\sum_{j=i+1}^n \\langle \\textbf{v}_i, \\textbf{v}_{j} \\rangle x_{i} x_{j}\n",
    "&= \\frac{1}{2} \\sum_{i=1}^n \\sum_{j=1}^n \\langle \\textbf{v}_i, \\textbf{v}_{j} \\rangle x_{i} x_{j} - \\frac{1}{2} \\sum_{i=1}^n \\langle \\textbf{v}_i , \\textbf{v}_{i} \\rangle x_{i} x_{i}\n",
    "\\end{align*}\n",
    "$$"
   ]
  },
  {
   "cell_type": "markdown",
   "metadata": {},
   "source": [
    "As of now, we could recall that in our interaction feature represented by some n-length latent factor\n",
    "\n",
    "$$\n",
    "\\begin{align*}\n",
    "\\langle \\textbf{v}_i, \\textbf{v}_{j} \\rangle = \\sum_{f=1}^k v_{i,f} v_{j,f}\n",
    "\\end{align*}\n",
    "$$\n",
    "\n",
    "plug back to our function :"
   ]
  },
  {
   "cell_type": "markdown",
   "metadata": {},
   "source": [
    "$\n",
    "\\begin{align}\n",
    "\\sum_{i=1}^n \\sum_{j=i+1}^n \\langle \\textbf{v}_i, \\textbf{v}_{j} \\rangle x_{i} x_{j}\n",
    "&= \\frac{1}{2}\\left(\\sum_{i=1}^n \\sum_{j=1}^n \\sum_{f=1}^k v_{i,f} v_{j,f} x_{i} x_{j} \\right) - \\frac{1}{2}\\left( \\sum_{i=1}^n \\sum_{f=1}^k v_{i,f} v_{i,f} x_{i} x_{i} \\right) \\\\\n",
    "&= \\frac{1}{2}\\left(\\sum_{i=1}^n \\sum_{j=1}^n \\sum_{f=1}^k v_{i,f} v_{j,f} x_{i} x_{j}  -  \\sum_{i=1}^n \\sum_{f=1}^k v_{i,f} v_{i,f} x_{i} x_{i} \\right) \\\\\n",
    "&= \\frac{1}{2} \\sum_{f=1}^{k} \\left( \\left(\\sum_{i=1}^n v_{i,f}x_{i} \\right) \\left( \\sum_{j=1}^n v_{j,f}x_{j} \\right) - \\sum_{i=1}^{n} v_{i,f}^2 x_{i}^2 \\right)\n",
    "\\end{align}\n",
    "$"
   ]
  },
  {
   "cell_type": "markdown",
   "metadata": {},
   "source": [
    "Wee see that our index $j=i=1$, hence we can replace the j index with i"
   ]
  },
  {
   "cell_type": "markdown",
   "metadata": {},
   "source": [
    "$\n",
    "\\begin{align}\n",
    "\\sum_{i=1}^n \\sum_{j=i+1}^n \\langle \\textbf{v}_i, \\textbf{v}_{j} \\rangle x_{i} x_{j}\n",
    "&= \\frac{1}{2} \\sum_{f=1}^{k} \\left( \\left(\\sum_{i=1}^n v_{i,f}x_{i} \\right) \\left( \\sum_{i=1}^n v_{i,f}x_{j} \\right) - \\sum_{i=1}^{n} v_{i,f}^2 x_{i}^2 \\right)\n",
    "\\end{align}\n",
    "$"
   ]
  },
  {
   "cell_type": "markdown",
   "metadata": {},
   "source": [
    "Final Form : of Our Prediction Function"
   ]
  },
  {
   "cell_type": "markdown",
   "metadata": {},
   "source": [
    "$\n",
    "\\begin{align}\n",
    "\\sum_{i=1}^n \\sum_{j=i+1}^n \\langle \\textbf{v}_i, \\textbf{v}_{j} \\rangle x_{i} x_{j}\n",
    "&= \\frac{1}{2} \\sum_{f=1}^{k} \\left( \\left( \\sum_{i}^{n} v_{i,f}x_{i} \\right)^2  - \\sum_{i=1}^{n} v_{i,f}^2 x_{i}^2 \\right)\n",
    "\\end{align}\n",
    "$"
   ]
  },
  {
   "cell_type": "code",
   "execution_count": 37,
   "metadata": {},
   "outputs": [],
   "source": [
    "def predict(data,indptr, indices,w_0, w, v, n_factors,n_features,i):\n",
    "    \"\"\"\" Predicting data on single training samples, from sparse matrices \"\"\"\n",
    "\n",
    "    # use this for updating parameter\n",
    "    summed = np.zeros(n_factors)\n",
    "    summed_squared = np.zeros(n_factors)\n",
    "\n",
    "    # linear output w * x\n",
    "    y_pred = w_0\n",
    "\n",
    "    for index in range(indptr[i], indptr[i + 1]):\n",
    "        feature = indices[index]\n",
    "        y_pred += w[feature] * data[index]\n",
    "\n",
    "    # factor output\n",
    "    for factor in range(n_factors):\n",
    "        for index in range(indptr[i], indptr[i + 1]):\n",
    "            feature = indices[index]\n",
    "            term = v[factor, feature] * data[index]\n",
    "            summed[factor] += term\n",
    "            summed_squared[factor] += term * term\n",
    "\n",
    "        y_pred += 0.5 * (summed[factor] * summed[factor] - summed_squared[factor])\n",
    "\n",
    "\n",
    "    return y_pred, summed"
   ]
  },
  {
   "cell_type": "code",
   "execution_count": 38,
   "metadata": {},
   "outputs": [
    {
     "name": "stdout",
     "output_type": "stream",
     "text": [
      "Prediction on sample 1 :  [3.23620285]\n"
     ]
    }
   ],
   "source": [
    "# predict on training samples 1\n",
    "pred,summed = predict(data= X_train_sparse.data,\n",
    "                      indptr = X_train_sparse.indptr,\n",
    "                      indices = X_train_sparse.indices,\n",
    "                      w_0 = intercept, w = w, v = v , n_factors = n_factor,\n",
    "                      n_features = X_train.shape[1],\n",
    "                      i = 1\n",
    "                      )\n",
    "print('Prediction on sample 1 : ', pred)"
   ]
  },
  {
   "cell_type": "markdown",
   "metadata": {},
   "source": [
    "#### Optimization"
   ]
  },
  {
   "cell_type": "markdown",
   "metadata": {},
   "source": [
    "To find optimal parameter above we will find using one of the famous optimization algorithm, **Gradient Descent**, and to perform Gradient Descent we have to find optimal parameter when derivative of cost function with respect to each parameter is 0."
   ]
  },
  {
   "cell_type": "markdown",
   "metadata": {},
   "source": [
    "Since our objective is in composite function, $h(x) = f(g(x))$, to find the partial derivative with respect to each parameter we can use **chain rule**; $h'(x) = f'(g(x)).g'(x)$"
   ]
  },
  {
   "cell_type": "markdown",
   "metadata": {},
   "source": [
    "##### 1. **$w_0$**\n",
    "\n",
    "\n",
    "\n",
    "\n"
   ]
  },
  {
   "cell_type": "markdown",
   "metadata": {},
   "source": [
    "###### Derivation Detail of $w_0$"
   ]
  },
  {
   "cell_type": "markdown",
   "metadata": {},
   "source": [
    "$$\n",
    "\\begin{align*}\n",
    "\\text{Objective}\n",
    "&= \\underset{w_0,w^*,v*}{min} \\left [\\cfrac{1}{2}\\sum_{n \\in D} \\left( y^{n}- \\left (w_0 + \\sum_{i=1} w_i.x_i^n +  \\frac{1}{2} \\sum_{f=1}^{k} ( \\left( \\sum_{i}^{n} v_{i,f}x_i^n \\right)^2  - \\sum_{i=1}^{n} v_{i,f}^2 {x_i^n}^2 \\right)  \\right )^2 \\right ] + \\cfrac{\\lambda}{2} \\left [\\sum_{i}(w_i^2 +||v_i||^2 ) \\right ]\n",
    "\\end{align*}\n",
    "$$"
   ]
  },
  {
   "cell_type": "markdown",
   "metadata": {},
   "source": [
    "**1st Block**\n",
    "\n",
    "Now we take care of each derivative $\\left [ \\text{some function} \\right ]$ block\n",
    "\n",
    "$$\n",
    "\\begin{align*}\n",
    "\\cfrac{{\\partial}(\\cfrac{1}{2}\\sum_{n \\in D}  (y^{(n)}- \\hat{y}^{(n)} )^2)}{\\partial{w_0}}\n",
    "\\end{align*}\n",
    "$$\n",
    "\n",
    "Where we could identify :     \n",
    "- $\\hat{y}^{(n)}$ is our prediction function , we could call it as `g(x)`\n",
    "- $\\left [\n",
    "(\\cfrac{1}{2}\\sum_{n \\in D}  (y^{(n)}- \\hat{y}^{(n)} )^2)\\right ]$ is our `f(g(x))`\n"
   ]
  },
  {
   "cell_type": "markdown",
   "metadata": {},
   "source": [
    "Hence, our derivation become\n",
    "\n",
    "$$\n",
    "\\begin{align*}\n",
    "\\cfrac{{\\partial}(\\cfrac{1}{2}\\sum_{n \\in D}  (y^{(n)}- \\hat{y}^{(n)} )^2)}{\\partial{w_0}}\n",
    "&=\n",
    "\\cfrac{1}{2} \\frac{\\partial{f(g(x))}}{\\partial{g(x)}}. \\frac{\\partial{g(x)}}{\\partial{w_0}}\n",
    "\\end{align*}\n",
    "$$"
   ]
  },
  {
   "cell_type": "markdown",
   "metadata": {},
   "source": [
    "Remember derivative concept, if we have $f(x) = ax^n$, the derivative or $f'(x) = n(ax^{n-1})$"
   ]
  },
  {
   "cell_type": "markdown",
   "metadata": {},
   "source": [
    "$$\n",
    " \\begin{align*}\n",
    "\\frac{\\partial{f(g(x))}}{\\partial{g(x)}}\n",
    "&= 2 \\sum_{n \\in D} (y^{(n)}- \\hat{y}^{(n)} )\n",
    "\\end{align*}\n",
    "$$\n",
    "\n",
    "and\n",
    "\n",
    "$$\n",
    "\\begin{align*}\n",
    "-\\frac{\\partial{g(x)}}{\\partial{w_0}}\n",
    "&= \\frac{\\partial{\\left (w_0 + \\sum_{i=1} w_i.x_i^n +  \\frac{1}{2} \\sum_{f=1}^{k} ( \\left( \\sum_{i}^{n} v_{i,f}x_i^n \\right)^2  - \\sum_{i=1}^{n} v_{i,f}^2 {x_i^n}^2 \\right)}}{\\partial{w_0}} \\\\\n",
    "&= -1\n",
    "\\end{align*}\n",
    "$$"
   ]
  },
  {
   "cell_type": "markdown",
   "metadata": {},
   "source": [
    "Plug back each component\n",
    "\n",
    "$$\n",
    "\\begin{align*}\n",
    "\\cfrac{{\\partial}(\\cfrac{1}{2}\\sum_{n \\in D}  (y^{(n)}- \\hat{y}^{(n)} )^2)}{\\partial{w_0}}\n",
    "&=\n",
    "\\cfrac{1}{2} \\frac{\\partial{f(g(x))}}{\\partial{g(x)}}. \\frac{\\partial{g(x)}}{\\partial{w_0}} \\\\\n",
    "&= \\cfrac{1}{2} 2 \\sum_{n \\in D} (y^{(n)}- \\hat{y}^{(n)} ) . -1 \\\\\n",
    "&= -\\sum_{n \\in D} (y^{(n)}- \\hat{y}^{(n)} )\n",
    "\\end{align*}\n",
    "$$"
   ]
  },
  {
   "cell_type": "markdown",
   "metadata": {},
   "source": [
    "**2nd Block**\n",
    "\n",
    "$$\n",
    "\\begin{align*}\n",
    "\\frac{1}{2}\\frac{\\partial{\\cfrac{\\lambda}{2} \\left [\\sum_{i}(w_i^2 +||v_i||^2 ) \\right ]} }{\\partial{w_0}}\n",
    "\\end{align*}\n",
    "$$\n",
    "\n",
    "Since we don't have $w_0$ term in our regularization, our derivation should be $0$.\n",
    "\n",
    "\n"
   ]
  },
  {
   "cell_type": "markdown",
   "metadata": {},
   "source": [
    "**Arrange All Component**\n",
    "\n",
    "$$\n",
    "\\begin{align*}\n",
    "\\cfrac{\\partial \\text{Objective}}{\\partial{w_0}}\n",
    "&=\n",
    "\\frac{\\partial}{\\partial{w_0}}\n",
    "\\underset{}{}\n",
    "\\left [\n",
    "(\\cfrac{1}{2}\\sum_{n \\in D}  (y^{(n)}- \\hat{y}^{(n)})^2)\\right ] + \\frac{\\partial}{\\partial{w_0}} \\left [ \\cfrac{\\lambda}{2} \\sum_{i} (w_i^2 +||v_i||^2 ) \\right ] \\\\\n",
    "&= \\left [(2.\\cfrac{1}{2}\\sum_{n \\in D} (y^{(n)}- \\hat{y}^{(n)}).-1 \\right ] + 0 \\\\\n",
    "&= -\\sum_{n \\in D} (y^{(n)}- \\hat{y}^{(n)})  \\\\\n",
    "\\text{Multiply with -1} \\\\\n",
    "\\cfrac{\\partial \\text{Objective}}{\\partial{w_0}}\n",
    "&= \\sum_{n \\in D} (y^{(n)}- \\hat{y}^{(n)})\n",
    "\\end{align*}\n",
    "$$"
   ]
  },
  {
   "cell_type": "markdown",
   "metadata": {},
   "source": [
    "$$\n",
    "\\sum_{n \\in D}(y^{(n)} - \\hat{y}^{(n)})\n",
    "$$"
   ]
  },
  {
   "cell_type": "markdown",
   "metadata": {},
   "source": [
    "##### 2. **$w_i$**\n",
    "\n",
    "\n",
    "Using the same procedure as above\n",
    "\n",
    "$$\n",
    "\\begin{align*}\n",
    "\\cfrac{\\partial \\text{Objective}}{\\partial{w_i}}\n",
    "&= \\sum_{n \\in D}(y^{(n)} - \\hat{y}^{(n)}).\\sum_i x_i^{(n)} +   (\\lambda \\sum_i w_i))\n",
    "\\end{align*}\n",
    "$$\n",
    "\n",
    "Remember :      \n",
    "- $ \\sum_i x_i^{(n)} = X^{n} $"
   ]
  },
  {
   "cell_type": "markdown",
   "metadata": {},
   "source": [
    "##### 4. **$v_{i,f}$**\n",
    "Suppose we use the same technique, we will endup with\n",
    "\n",
    "\n",
    "$$\n",
    "\\begin{align*}\n",
    "\\cfrac{\\partial \\text{Objective}}{\\partial{w_{i,f}}}\n",
    "&= \\sum_{n \\in D}(y^{(n)} - \\hat{y}^{(n)}). x_i \\sum_{f=1}^k \\sum_{j=1}^n v_{j,f}.x_j - v_{i,f}x_i^2 + \\lambda\\sum_i \\sum_f^k v_{i,f}\n",
    "\\end{align*}\n",
    "$$\n"
   ]
  },
  {
   "cell_type": "markdown",
   "metadata": {},
   "source": [
    "##### Optimization Detail"
   ]
  },
  {
   "cell_type": "markdown",
   "metadata": {},
   "source": [
    "To update the parameter to optimal we need other components :     \n",
    "\n",
    "- $\\gamma$ : Learning rate\n",
    "- n_epochs : number of iteration to update the parameter"
   ]
  },
  {
   "cell_type": "markdown",
   "metadata": {},
   "source": [
    "How gradient descent work to update parameter :    \n",
    "For n_iterations do :    \n",
    "Loop all over training samples :     \n",
    "1. Find  partial derivative /gradient of objective function with respect to parameter we want to optimize ( in this case $b_u,b_i,p_u,q_i$)\n",
    "\n",
    "2. Update parameter with those gradient :     \n",
    "\n",
    "  $\\text{parameter}_{\\text{new}} = \\text{parameter}_{\\text{old}} -\\gamma.(\\text{gradient})$\n"
   ]
  },
  {
   "cell_type": "markdown",
   "metadata": {},
   "source": [
    "There are lot of alternatives to original **Gradient Descent**, such as :     \n",
    "1. Mini batch Gradient Descent\n",
    "2. Stochastic Gradient Descent"
   ]
  },
  {
   "cell_type": "code",
   "execution_count": 39,
   "metadata": {},
   "outputs": [],
   "source": [
    "from tqdm import tqdm\n",
    "from numpy.linalg import norm"
   ]
  },
  {
   "cell_type": "code",
   "execution_count": 40,
   "metadata": {},
   "outputs": [],
   "source": [
    "# hyperparameter\n",
    "# regularization of coefficient\n",
    "lambda_coef = 0.002\n",
    "# regularization of interaction term\n",
    "lambda_factor = 0.002\n",
    "# learning rate\n",
    "learning_rate = 0.001\n",
    "# n_epoch\n",
    "n_epoch = 100"
   ]
  },
  {
   "cell_type": "code",
   "execution_count": 41,
   "metadata": {},
   "outputs": [
    {
     "name": "stderr",
     "output_type": "stream",
     "text": [
      "  0%|          | 0/100 [00:00<?, ?it/s]/tmp/ipykernel_48232/894921705.py:42: DeprecationWarning: Conversion of an array with ndim > 0 to a scalar is deprecated, and will error in future. Ensure you extract a single element from your array before performing this operation. (Deprecated NumPy 1.25.)\n",
      "  v[factor, feature] += learning_rate * (v_gradient +  lambda_factor * v[factor, feature])\n",
      "100%|██████████| 100/100 [00:00<00:00, 127.65it/s]\n"
     ]
    }
   ],
   "source": [
    "# implement stochastic gradient descent\n",
    "history_loss = []\n",
    "for epoch in tqdm(range(n_epoch)) :\n",
    "  # pick random sample (stochastic)\n",
    "  idx = np.arange(X_train.shape[0])\n",
    "  i = np.random.choice(idx)\n",
    "\n",
    "  # set loss for each epocj\n",
    "  loss = 0.0\n",
    "  # run prediction\n",
    "  y_pred, summed = predict(data= X_train_sparse.data, indptr= X_train_sparse.indptr,\n",
    "                                      indices= X_train_sparse.indices, w_0 = intercept, w= w,\n",
    "                                      v= v , n_factors = n_factor,\n",
    "                                      n_features = n_features,i=i)\n",
    "\n",
    "  # calculate loss and its gradient\n",
    "  loss += mse_loss (y_true= y_train[i], y_pred= y_pred, lambda_coef =lambda_coef,\n",
    "                    lambda_factor=lambda_factor,w=w, v= v)\n",
    "  # add loss\n",
    "  history_loss.append(loss)\n",
    "\n",
    "  # error gradient 1/2 * dy/dx (MSE)\n",
    "  error_gradient = (y_train[i] - y_pred)\n",
    "\n",
    "  # update_intercept\n",
    "  intercept += (learning_rate * error_gradient)\n",
    "\n",
    "  # update weight\n",
    "  # iterate through all pointer (row)\n",
    "  for index in range(X_train_sparse.indptr[i], X_train_sparse.indptr[i + 1]):\n",
    "      # slice indices (row) based on\n",
    "      feature = X_train_sparse.indices[index]\n",
    "      w[feature] += learning_rate * (error_gradient * X_train_sparse.data[index] + lambda_coef * w[feature])\n",
    "\n",
    "\n",
    "  # update each interaction factor\n",
    "  for factor in range(n_factor):\n",
    "      for index in range(X_train_sparse.indptr[i], X_train_sparse.indptr[i + 1]):\n",
    "          feature = X_train_sparse.indices[index]\n",
    "          term = summed[factor] - v[factor, feature] * X_train_sparse.data[index]\n",
    "          v_gradient = error_gradient * X_train_sparse.data[index] * term\n",
    "          v[factor, feature] += learning_rate * (v_gradient +  lambda_factor * v[factor, feature])\n"
   ]
  },
  {
   "cell_type": "code",
   "execution_count": 42,
   "metadata": {},
   "outputs": [],
   "source": [
    "#### Object Oriented Code"
   ]
  },
  {
   "cell_type": "code",
   "execution_count": 43,
   "metadata": {},
   "outputs": [],
   "source": [
    "from sklearn.base import BaseEstimator, RegressorMixin\n",
    "\n",
    "\n",
    "class FMRegressor(BaseEstimator, RegressorMixin):\n",
    "    \"\"\"\n",
    "    Factorizaton Machines for Regression Task\n",
    "\n",
    "    Parameters\n",
    "    ----------\n",
    "    n_epoch : int, default 100\n",
    "        Number of iterations\n",
    "\n",
    "    n_factors : int, default 20\n",
    "        Number of latent factor for feature interaction\n",
    "\n",
    "    lr : float, default 0.001\n",
    "        Learning rate for the Stochastic Gradient Descent\n",
    "\n",
    "    lambda_coef : float, default 0.1\n",
    "        Regularization strength for weights.\n",
    "\n",
    "    lambda_factor : float, default 0.1\n",
    "        Regularization strength for interaction latent factors.\n",
    "\n",
    "    random_state : int, default 49\n",
    "        Seed for reproducibility\n",
    "\n",
    "    \"\"\"\n",
    "\n",
    "    def __init__(self, n_epoch = 10, n_factors = 20,\n",
    "                 lr = 0.01, lambda_coef = 0.1,lambda_factor = 0.1,\n",
    "                 random_state = 49):\n",
    "        self.n_epoch = n_epoch\n",
    "        self.lambda_coef = lambda_coef\n",
    "        self.lambda_factor = lambda_factor\n",
    "        self.n_factors = n_factors\n",
    "        self.random_state = random_state\n",
    "        self.lr = lr\n",
    "\n",
    "    def initialize_parameters(self,n_features) :\n",
    "        \"\"\"Function to initialize parameters\"\"\"\n",
    "\n",
    "        # intercept --> w_0\n",
    "        self.intercept_ = 0.0\n",
    "\n",
    "        # weight --> w_i\n",
    "        self.coef_ = np.zeros(n_features)\n",
    "\n",
    "        # initialized interaction factor for each features (users,item,other features)\n",
    "        self.feature_factors_ = np.random.normal(0.,1.,size = (self.n_factors, n_features))\n",
    "\n",
    "\n",
    "    def fit(self, X, y):\n",
    "        \"\"\"\n",
    "        Fit the model to the input data and label.\n",
    "\n",
    "        Parameters\n",
    "        ----------\n",
    "        X : scipy sparse csr_matrix, shape <n_samples, n_features>\n",
    "            Data in sparse matrix format.\n",
    "\n",
    "        y : 1d ndarray, shape <n_samples,>\n",
    "            Training data's corresponding target (rating).\n",
    "\n",
    "        Returns\n",
    "        -------\n",
    "\n",
    "        \"\"\"\n",
    "\n",
    "        self.n_samples, self.n_features = X.shape\n",
    "\n",
    "        # setting seed\n",
    "        np.random.seed(self.random_state)\n",
    "\n",
    "        self.initialize_parameters(n_features= self.n_features)\n",
    "\n",
    "\n",
    "        self.history_ = []\n",
    "        for epoch in tqdm(range(n_epoch)) :\n",
    "            loss = update_parameter(data = X.data,indptr= X.indptr, indices = X.indices, y = y ,\n",
    "                              n_samples=self.n_samples,\n",
    "                              n_features = self.n_features, w_0 = self.intercept_,\n",
    "                              w = self.coef_, v= self.feature_factors_,\n",
    "                              n_factors = self.n_factors, learning_rate = self.lr,\n",
    "                              lambda_coef= self.lambda_coef,lambda_factor = self.lambda_factor)\n",
    "            self.history_.append(loss)\n",
    "\n",
    "\n",
    "    def predict(self, X):\n",
    "        \"\"\"Prediction function for inference (after training)\"\"\"\n",
    "\n",
    "        # check instance\n",
    "        if isinstance(X,sp._csr.csr_matrix) :\n",
    "            # convert if X is sparse matrix to numpy matrix\n",
    "            X = X.toarray()\n",
    "\n",
    "        # W_i.x_i\n",
    "        linear_output = X.dot(self.coef_).reshape(1,-1)[0]\n",
    "\n",
    "        # feature interaction\n",
    "        v = self.feature_factors_.T\n",
    "        term = (X.dot(v)) ** 2 - ((X**2).dot(v ** 2))\n",
    "        factor_output = 0.5 * np.sum(term, axis = 1)\n",
    "\n",
    "        # sum all prediction\n",
    "        y_pred = self.intercept_ + linear_output + factor_output\n",
    "\n",
    "        # implement clipping\n",
    "        for i in range(len(y_pred)) :\n",
    "          if y_pred[i] > 5 :\n",
    "            y_pred[i] = 5\n",
    "          elif y_pred[i]  < 1 :\n",
    "            y_pred[i]  = 1\n",
    "\n",
    "        return y_pred\n",
    "\n",
    "\n",
    "\n",
    "def update_parameter(data,indptr,indices,y,n_samples, n_features,\n",
    "                w_0, w, v, n_factors, learning_rate, lambda_coef ,lambda_factor):\n",
    "    \"\"\"\n",
    "    Update parameter\n",
    "    \"\"\"\n",
    "    # set loss\n",
    "    loss = 0.0\n",
    "\n",
    "    # pick random sample to update\n",
    "    idx = np.arange(n_samples)\n",
    "    i = np.random.choice(idx)\n",
    "\n",
    "    # generate prediction\n",
    "    y_pred, summed = _predict_instance(data= data, indptr= indptr,\n",
    "                                        indices= indices, w_0 = w_0, w= w,\n",
    "                                        v= v , n_factors = n_factors,\n",
    "                                        n_features = n_features,i=i)\n",
    "\n",
    "    # calculate loss and its gradient\n",
    "    loss += mse_loss (y_true= y[i], y_pred= y_pred, lambda_coef =lambda_coef,\n",
    "                      lambda_factor=lambda_factor,w=w, v= v)\n",
    "\n",
    "    # error gradient 1/2 * dy/dx (MSE)\n",
    "    error_gradient = (y[i] - y_pred)\n",
    "\n",
    "    # update_intercept\n",
    "    w_0 += (learning_rate * error_gradient)\n",
    "\n",
    "    # update weight\n",
    "    # iterate through all pointer (row)\n",
    "    for index in range(indptr[i], indptr[i + 1]):\n",
    "        # find feature that are not have zeros value (sparse)\n",
    "        feature = indices[index]\n",
    "        # update w\n",
    "        w[feature] += learning_rate * (error_gradient * data[index] + lambda_coef * w[feature])\n",
    "\n",
    "\n",
    "    # update each interaction factor\n",
    "    for factor in range(n_factors):\n",
    "        # iterate through all pointer (row)\n",
    "        for index in range(indptr[i], indptr[i + 1]):\n",
    "            # find feature that are not have zeros value (sparse)\n",
    "            feature = indices[index]\n",
    "            # calculate term\n",
    "            term = summed[factor] - v[factor, feature] * (data[index]**2)\n",
    "\n",
    "            # dy / dx\n",
    "            v_gradient = error_gradient * data[index] * term\n",
    "\n",
    "            v[factor, feature] += learning_rate * (v_gradient +  lambda_factor * v[factor, feature])\n",
    "\n",
    "    loss /= n_samples\n",
    "    return loss\n",
    "\n",
    "\n",
    "def _predict_instance(data,indptr, indices,w_0, w, v, n_factors,n_features,i):\n",
    "    \"\"\"predicting a single instance\"\"\"\n",
    "    summed = np.zeros(n_factors)\n",
    "    summed_squared = np.zeros(n_factors)\n",
    "\n",
    "    # linear output w * x\n",
    "    y_pred = w_0\n",
    "\n",
    "    for index in range(indptr[i], indptr[i + 1]):\n",
    "        feature = indices[index]\n",
    "        y_pred += w[feature] * data[index]\n",
    "\n",
    "    # factor output\n",
    "    for factor in range(n_factors):\n",
    "        for index in range(indptr[i], indptr[i + 1]):\n",
    "            feature = indices[index]\n",
    "            term = v[factor, feature] * data[index]\n",
    "            summed[factor] += term\n",
    "            summed_squared[factor] += term * term\n",
    "\n",
    "        y_pred += 0.5 * (summed[factor] * summed[factor] - summed_squared[factor])\n",
    "\n",
    "\n",
    "    return y_pred, summed"
   ]
  },
  {
   "cell_type": "code",
   "execution_count": 44,
   "metadata": {},
   "outputs": [],
   "source": [
    "model = FMRegressor(n_epoch=1000,lambda_coef=0.01,lr=0.01,n_factors=100)"
   ]
  },
  {
   "cell_type": "code",
   "execution_count": 45,
   "metadata": {},
   "outputs": [
    {
     "name": "stderr",
     "output_type": "stream",
     "text": [
      "100%|██████████| 100/100 [00:00<00:00, 179.40it/s]\n"
     ]
    }
   ],
   "source": [
    "%timeit\n",
    "model.fit(X_train_sparse,y_train)"
   ]
  },
  {
   "cell_type": "code",
   "execution_count": 46,
   "metadata": {},
   "outputs": [
    {
     "data": {
      "text/plain": [
       "0.0"
      ]
     },
     "execution_count": 46,
     "metadata": {},
     "output_type": "execute_result"
    }
   ],
   "source": [
    "model.intercept_"
   ]
  },
  {
   "cell_type": "code",
   "execution_count": 47,
   "metadata": {},
   "outputs": [
    {
     "data": {
      "text/plain": [
       "[2.113574925900157,\n",
       " 2.1495163242516835,\n",
       " 2.1314970815441807,\n",
       " 2.1452243703456757,\n",
       " 2.103381248562168,\n",
       " 2.1159574520483413,\n",
       " 2.105742154413046,\n",
       " 2.117199546088413,\n",
       " 2.1050589933330266,\n",
       " 2.1041837190023966,\n",
       " 2.1041492579836305,\n",
       " 2.1154725121473277,\n",
       " 2.103478959632034,\n",
       " 2.126831511926969,\n",
       " 2.104999419037642,\n",
       " 2.121970731422557,\n",
       " 2.1136880657430197,\n",
       " 2.1123015260735976,\n",
       " 2.1036348937857112,\n",
       " 2.1331167089681373,\n",
       " 2.143315173703774,\n",
       " 2.104029235624527,\n",
       " 2.1043994816787635,\n",
       " 2.106440091198834,\n",
       " 2.1038948263675956,\n",
       " 2.1124622488675153,\n",
       " 2.1308273269016786,\n",
       " 2.103885324444623,\n",
       " 2.111375934062985,\n",
       " 2.121104716464118,\n",
       " 2.147418282451875,\n",
       " 2.1235831898815163,\n",
       " 2.1060388356376967,\n",
       " 2.112921261226678,\n",
       " 2.1057443381853083,\n",
       " 2.1190672627386475,\n",
       " 2.15335523025049,\n",
       " 2.1062509167437735,\n",
       " 2.11789585755948,\n",
       " 2.105310752374653,\n",
       " 2.1179453702773405,\n",
       " 2.1315390297627914,\n",
       " 2.1108609115030434,\n",
       " 2.1100452187473846,\n",
       " 2.1289228709190366,\n",
       " 2.1082342782894803,\n",
       " 2.125451142356899,\n",
       " 2.125948906447171,\n",
       " 2.1523059834073264,\n",
       " 2.1289227294626443,\n",
       " 2.1055816887949494,\n",
       " 2.1049109275531124,\n",
       " 2.1133325684742266,\n",
       " 2.109131900737027,\n",
       " 2.105347408674611,\n",
       " 2.10532087929033,\n",
       " 2.1437953844220643,\n",
       " 2.107616507480639,\n",
       " 2.1152228408289178,\n",
       " 2.111689442211648,\n",
       " 2.1357766970236183,\n",
       " 2.1096731254530967,\n",
       " 2.1234095398021173,\n",
       " 2.112599792720877,\n",
       " 2.105306748842108,\n",
       " 2.1459745060318736,\n",
       " 2.1061375876748496,\n",
       " 2.1065489547569576,\n",
       " 2.1069019437545204,\n",
       " 2.108357099198784,\n",
       " 2.161226254106727,\n",
       " 2.1056195090876884,\n",
       " 2.116780170082828,\n",
       " 2.1335035417684205,\n",
       " 2.1242937711000978,\n",
       " 2.1057978970977054,\n",
       " 2.1113930619005674,\n",
       " 2.121331627376221,\n",
       " 2.105871959081926,\n",
       " 2.121224608583697,\n",
       " 2.1672280414159504,\n",
       " 2.1062934303847936,\n",
       " 2.106134541344033,\n",
       " 2.1263349652922834,\n",
       " 2.1092876529465854,\n",
       " 2.113365756418348,\n",
       " 2.1769742321701835,\n",
       " 2.1194322495162496,\n",
       " 2.1075016101378194,\n",
       " 2.1777610474683855,\n",
       " 2.1066452907496944,\n",
       " 2.2057966831316427,\n",
       " 2.141204914034737,\n",
       " 2.1279850871763504,\n",
       " 2.3008072447567,\n",
       " 2.108680667490659,\n",
       " 2.625486771681862,\n",
       " 2.110470657510559,\n",
       " 2.1144431860393382,\n",
       " 2.133031463234277]"
      ]
     },
     "execution_count": 47,
     "metadata": {},
     "output_type": "execute_result"
    }
   ],
   "source": [
    "model.history_"
   ]
  },
  {
   "cell_type": "code",
   "execution_count": 48,
   "metadata": {},
   "outputs": [
    {
     "data": {
      "text/plain": [
       "[<matplotlib.lines.Line2D at 0x747145325c70>]"
      ]
     },
     "execution_count": 48,
     "metadata": {},
     "output_type": "execute_result"
    },
    {
     "data": {
      "image/png": "[encoded data removed]",
      "text/plain": [
       "<Figure size 640x480 with 1 Axes>"
      ]
     },
     "metadata": {},
     "output_type": "display_data"
    }
   ],
   "source": [
    "import matplotlib.pyplot as plt\n",
    "\n",
    "plt.plot([x for x in range(len(model.history_))],model.history_,)"
   ]
  },
  {
   "cell_type": "code",
   "execution_count": 49,
   "metadata": {},
   "outputs": [
    {
     "data": {
      "text/plain": [
       "array([1.        , 1.        , 5.        , ..., 5.        , 1.        ,\n",
       "       1.30284797])"
      ]
     },
     "execution_count": 49,
     "metadata": {},
     "output_type": "execute_result"
    }
   ],
   "source": [
    "y_pred = model.predict(X_train_sparse)\n",
    "y_pred"
   ]
  },
  {
   "cell_type": "code",
   "execution_count": 50,
   "metadata": {},
   "outputs": [
    {
     "data": {
      "text/plain": [
       "2.4976825112920498"
      ]
     },
     "execution_count": 50,
     "metadata": {},
     "output_type": "execute_result"
    }
   ],
   "source": [
    "from sklearn.metrics import mean_squared_error\n",
    "\n",
    "np.sqrt(mean_squared_error(y_train,y_pred))"
   ]
  },
  {
   "cell_type": "markdown",
   "metadata": {},
   "source": [
    "#### Generating Prediction"
   ]
  },
  {
   "cell_type": "markdown",
   "metadata": {},
   "source": [
    "We already train our `Factorization Machine Models`, now we want to generate prediction on  one of our user. We want to predict the rating that will be given by user `5C28F393B23BB894523AE7126A7AE445` on item `219668`, on context `SOLO` trip.\n",
    "Previously, we map the the user and item id, so we retrieve it first"
   ]
  },
  {
   "cell_type": "code",
   "execution_count": 51,
   "metadata": {},
   "outputs": [],
   "source": [
    "target_userid = 'CAFAF8275C721F57AB58686ECC5AEC41'\n",
    "target_itemid = 1149361\n",
    "target_context = 'SOLO'"
   ]
  },
  {
   "cell_type": "code",
   "execution_count": 52,
   "metadata": {},
   "outputs": [
    {
     "name": "stdout",
     "output_type": "stream",
     "text": [
      "Mapped User id : 16, Item id : 10\n"
     ]
    }
   ],
   "source": [
    "# retrieve mapping\n",
    "user_id = user_to_id[target_userid]\n",
    "item_id = item_to_id[target_itemid]\n",
    "\n",
    "print(f'Mapped User id : {user_id}, Item id : {item_id}')"
   ]
  },
  {
   "cell_type": "markdown",
   "metadata": {},
   "source": [
    "We, see that our input for each training data consist of `<4645>` features, we need to process to create format data for inference / prediction."
   ]
  },
  {
   "cell_type": "markdown",
   "metadata": {},
   "source": [
    "We could use the same format as our `processed_data`, and assign values."
   ]
  },
  {
   "cell_type": "code",
   "execution_count": 53,
   "metadata": {},
   "outputs": [
    {
     "data": {
      "text/html": [
       "<div>\n",
       "<style scoped>\n",
       "    .dataframe tbody tr th:only-of-type {\n",
       "        vertical-align: middle;\n",
       "    }\n",
       "\n",
       "    .dataframe tbody tr th {\n",
       "        vertical-align: top;\n",
       "    }\n",
       "\n",
       "    .dataframe thead th {\n",
       "        text-align: right;\n",
       "    }\n",
       "</style>\n",
       "<table border=\"1\" class=\"dataframe\">\n",
       "  <thead>\n",
       "    <tr style=\"text-align: right;\">\n",
       "      <th></th>\n",
       "      <th>user_id_0</th>\n",
       "      <th>user_id_1</th>\n",
       "      <th>user_id_2</th>\n",
       "      <th>user_id_3</th>\n",
       "      <th>user_id_4</th>\n",
       "      <th>user_id_5</th>\n",
       "      <th>user_id_6</th>\n",
       "      <th>user_id_7</th>\n",
       "      <th>user_id_8</th>\n",
       "      <th>user_id_9</th>\n",
       "      <th>...</th>\n",
       "      <th>item_id_2264</th>\n",
       "      <th>item_id_2265</th>\n",
       "      <th>item_id_2266</th>\n",
       "      <th>item_id_2267</th>\n",
       "      <th>item_id_2268</th>\n",
       "      <th>trip_BUSINESS</th>\n",
       "      <th>trip_COUPLES</th>\n",
       "      <th>trip_FAMILY</th>\n",
       "      <th>trip_FRIENDS</th>\n",
       "      <th>trip_SOLO</th>\n",
       "    </tr>\n",
       "  </thead>\n",
       "  <tbody>\n",
       "    <tr>\n",
       "      <th>1</th>\n",
       "      <td>0</td>\n",
       "      <td>1</td>\n",
       "      <td>0</td>\n",
       "      <td>0</td>\n",
       "      <td>0</td>\n",
       "      <td>0</td>\n",
       "      <td>0</td>\n",
       "      <td>0</td>\n",
       "      <td>0</td>\n",
       "      <td>0</td>\n",
       "      <td>...</td>\n",
       "      <td>0</td>\n",
       "      <td>0</td>\n",
       "      <td>0</td>\n",
       "      <td>0</td>\n",
       "      <td>0</td>\n",
       "      <td>0</td>\n",
       "      <td>0</td>\n",
       "      <td>0</td>\n",
       "      <td>0</td>\n",
       "      <td>1</td>\n",
       "    </tr>\n",
       "  </tbody>\n",
       "</table>\n",
       "<p>1 rows × 4645 columns</p>\n",
       "</div>"
      ],
      "text/plain": [
       "   user_id_0  user_id_1  user_id_2  user_id_3  user_id_4  user_id_5  \\\n",
       "1          0          1          0          0          0          0   \n",
       "\n",
       "   user_id_6  user_id_7  user_id_8  user_id_9  ...  item_id_2264  \\\n",
       "1          0          0          0          0  ...             0   \n",
       "\n",
       "   item_id_2265  item_id_2266  item_id_2267  item_id_2268  trip_BUSINESS  \\\n",
       "1             0             0             0             0              0   \n",
       "\n",
       "   trip_COUPLES  trip_FAMILY  trip_FRIENDS  trip_SOLO  \n",
       "1             0            0             0          1  \n",
       "\n",
       "[1 rows x 4645 columns]"
      ]
     },
     "execution_count": 53,
     "metadata": {},
     "output_type": "execute_result"
    }
   ],
   "source": [
    "data_prediction_format = X.iloc[[1]]\n",
    "data_prediction_format"
   ]
  },
  {
   "cell_type": "code",
   "execution_count": 54,
   "metadata": {},
   "outputs": [
    {
     "name": "stderr",
     "output_type": "stream",
     "text": [
      "/tmp/ipykernel_48232/1834625017.py:2: SettingWithCopyWarning: \n",
      "A value is trying to be set on a copy of a slice from a DataFrame\n",
      "\n",
      "See the caveats in the documentation: https://pandas.pydata.org/pandas-docs/stable/user_guide/indexing.html#returning-a-view-versus-a-copy\n",
      "  data_prediction_format.loc[:] = 0\n"
     ]
    },
    {
     "data": {
      "text/html": [
       "<div>\n",
       "<style scoped>\n",
       "    .dataframe tbody tr th:only-of-type {\n",
       "        vertical-align: middle;\n",
       "    }\n",
       "\n",
       "    .dataframe tbody tr th {\n",
       "        vertical-align: top;\n",
       "    }\n",
       "\n",
       "    .dataframe thead th {\n",
       "        text-align: right;\n",
       "    }\n",
       "</style>\n",
       "<table border=\"1\" class=\"dataframe\">\n",
       "  <thead>\n",
       "    <tr style=\"text-align: right;\">\n",
       "      <th></th>\n",
       "      <th>user_id_0</th>\n",
       "      <th>user_id_1</th>\n",
       "      <th>user_id_2</th>\n",
       "      <th>user_id_3</th>\n",
       "      <th>user_id_4</th>\n",
       "      <th>user_id_5</th>\n",
       "      <th>user_id_6</th>\n",
       "      <th>user_id_7</th>\n",
       "      <th>user_id_8</th>\n",
       "      <th>user_id_9</th>\n",
       "      <th>...</th>\n",
       "      <th>item_id_2264</th>\n",
       "      <th>item_id_2265</th>\n",
       "      <th>item_id_2266</th>\n",
       "      <th>item_id_2267</th>\n",
       "      <th>item_id_2268</th>\n",
       "      <th>trip_BUSINESS</th>\n",
       "      <th>trip_COUPLES</th>\n",
       "      <th>trip_FAMILY</th>\n",
       "      <th>trip_FRIENDS</th>\n",
       "      <th>trip_SOLO</th>\n",
       "    </tr>\n",
       "  </thead>\n",
       "  <tbody>\n",
       "    <tr>\n",
       "      <th>1</th>\n",
       "      <td>0</td>\n",
       "      <td>0</td>\n",
       "      <td>0</td>\n",
       "      <td>0</td>\n",
       "      <td>0</td>\n",
       "      <td>0</td>\n",
       "      <td>0</td>\n",
       "      <td>0</td>\n",
       "      <td>0</td>\n",
       "      <td>0</td>\n",
       "      <td>...</td>\n",
       "      <td>0</td>\n",
       "      <td>0</td>\n",
       "      <td>0</td>\n",
       "      <td>0</td>\n",
       "      <td>0</td>\n",
       "      <td>0</td>\n",
       "      <td>0</td>\n",
       "      <td>0</td>\n",
       "      <td>0</td>\n",
       "      <td>0</td>\n",
       "    </tr>\n",
       "  </tbody>\n",
       "</table>\n",
       "<p>1 rows × 4645 columns</p>\n",
       "</div>"
      ],
      "text/plain": [
       "   user_id_0  user_id_1  user_id_2  user_id_3  user_id_4  user_id_5  \\\n",
       "1          0          0          0          0          0          0   \n",
       "\n",
       "   user_id_6  user_id_7  user_id_8  user_id_9  ...  item_id_2264  \\\n",
       "1          0          0          0          0  ...             0   \n",
       "\n",
       "   item_id_2265  item_id_2266  item_id_2267  item_id_2268  trip_BUSINESS  \\\n",
       "1             0             0             0             0              0   \n",
       "\n",
       "   trip_COUPLES  trip_FAMILY  trip_FRIENDS  trip_SOLO  \n",
       "1             0            0             0          0  \n",
       "\n",
       "[1 rows x 4645 columns]"
      ]
     },
     "execution_count": 54,
     "metadata": {},
     "output_type": "execute_result"
    }
   ],
   "source": [
    "# replace all data with 0\n",
    "data_prediction_format.loc[:] = 0\n",
    "data_prediction_format"
   ]
  },
  {
   "cell_type": "code",
   "execution_count": 55,
   "metadata": {},
   "outputs": [],
   "source": [
    "# now will fill the user_id from our target with 1\n",
    "data_prediction_format.loc[:,f'user_id_{user_id}'] = 1"
   ]
  },
  {
   "cell_type": "code",
   "execution_count": 56,
   "metadata": {},
   "outputs": [],
   "source": [
    "# now will fill the item_id from our target with 1\n",
    "data_prediction_format.loc[:,f'item_id_{item_id}'] = 1"
   ]
  },
  {
   "cell_type": "code",
   "execution_count": 57,
   "metadata": {},
   "outputs": [],
   "source": [
    "# now will fill the trip_context from our target with 1\n",
    "data_prediction_format.loc[:,f'trip_{target_context}'] = 1"
   ]
  },
  {
   "cell_type": "markdown",
   "metadata": {},
   "source": [
    "Now, we will convert into numpy array"
   ]
  },
  {
   "cell_type": "code",
   "execution_count": 58,
   "metadata": {},
   "outputs": [],
   "source": [
    "X_samples = data_prediction_format.to_numpy()"
   ]
  },
  {
   "cell_type": "code",
   "execution_count": 59,
   "metadata": {},
   "outputs": [
    {
     "data": {
      "text/plain": [
       "array([1.])"
      ]
     },
     "execution_count": 59,
     "metadata": {},
     "output_type": "execute_result"
    }
   ],
   "source": [
    "# run prediction\n",
    "model.predict(X_samples)"
   ]
  },
  {
   "cell_type": "markdown",
   "metadata": {},
   "source": [
    "Since, later we want to generate prediction, we will create function to prepare inference / prediction data"
   ]
  },
  {
   "cell_type": "code",
   "execution_count": 60,
   "metadata": {},
   "outputs": [],
   "source": [
    "def prepare_prediction_input(user_id, item_id, context,\n",
    "                             data_prediction_format = data_prediction_format) :\n",
    "    \"\"\"Function to prepare prediction / inference data\"\"\"\n",
    "    # copy\n",
    "    data_prediction_format = data_prediction_format.copy()\n",
    "\n",
    "    # assign all values from each column to zero\n",
    "    data_prediction_format.loc[:,] = 0\n",
    "\n",
    "    # now will fill the user_id\n",
    "    data_prediction_format.loc[:,f'user_id_{user_id}'] = 1\n",
    "\n",
    "    # now will fill the item_id\n",
    "    data_prediction_format.loc[:,f'item_id_{item_id}'] = 1\n",
    "\n",
    "    # now will fill the trip_context\n",
    "    data_prediction_format.loc[:,f'trip_{target_context}'] = 1\n",
    "\n",
    "    # return numpy data\n",
    "    return data_prediction_format.to_numpy()"
   ]
  },
  {
   "cell_type": "code",
   "execution_count": 61,
   "metadata": {},
   "outputs": [],
   "source": [
    "y_pred = model.predict(X_test_sparse)"
   ]
  },
  {
   "cell_type": "code",
   "execution_count": 62,
   "metadata": {},
   "outputs": [
    {
     "data": {
      "text/plain": [
       "2.5015462421029695"
      ]
     },
     "execution_count": 62,
     "metadata": {},
     "output_type": "execute_result"
    }
   ],
   "source": [
    "from sklearn.metrics import mean_squared_error\n",
    "\n",
    "np.sqrt(mean_squared_error(y_test,y_pred))"
   ]
  },
  {
   "cell_type": "markdown",
   "metadata": {},
   "source": [
    "## Train Recommender System Models\n",
    "---"
   ]
  },
  {
   "cell_type": "markdown",
   "metadata": {},
   "source": [
    "To Model on Factorization Machine we are going to use polylearn package, which is under sklearn package"
   ]
  },
  {
   "cell_type": "markdown",
   "metadata": {},
   "source": [
    "### Load the Data\n",
    "---"
   ]
  },
  {
   "cell_type": "markdown",
   "metadata": {},
   "source": [
    "Now, we already satistified with `Factorization Machines` requirement"
   ]
  },
  {
   "cell_type": "markdown",
   "metadata": {},
   "source": [
    "### Experiment\n",
    "---"
   ]
  },
  {
   "cell_type": "markdown",
   "metadata": {},
   "source": [
    "We want to train all model candidate with its hyperparameter so that we can compare which model + settings yield good result"
   ]
  },
  {
   "cell_type": "markdown",
   "metadata": {},
   "source": [
    "\n",
    "<img src=\"https://drive.google.com/uc?id=1UzWBpL1ycd2eyKYC3gJzmdBKyE1Zbefy\">"
   ]
  },
  {
   "cell_type": "markdown",
   "metadata": {},
   "source": [
    "Since *Hyperparameter* Is not yielded through learning process, we have to find it / set it to yield optimal model performance. Some methods  Hyperparameter Tuning :    \n",
    "\n",
    "- GridSearchCV\n",
    "\n",
    "  Fitting model through all combinations of hyperparameter values and compare each fit → which combinations yield the best objective\n",
    "\n",
    "- RandomizedSearchCV\n",
    "\n",
    "  Fitting Model only through sampled hyperparameter candidates. Much more efficient than GridSearchCV\n"
   ]
  },
  {
   "cell_type": "markdown",
   "metadata": {},
   "source": [
    "Hyperparameter Tuning require **Cross Validation** , making sure the during hyperparameter selection the performance measured is unbias."
   ]
  },
  {
   "cell_type": "markdown",
   "metadata": {},
   "source": [
    "<center>Cross Validation</center>\n",
    "<center><img src=\"https://drive.google.com/uc?id=1Sa1vKjku_pI6WZoYfKqX7lmNeYcpxZNz\" width=600></center>\n",
    "<center><a href=\"https://scikit-learn.org/stable/modules/cross_validation.html\">Source</a></center>\n"
   ]
  },
  {
   "cell_type": "markdown",
   "metadata": {},
   "source": [
    "**Hyperparameter** in best models\n",
    "to identify the hyperparameters in models, we need to read its documentation/ paper first,for **surprise** model the model documentation is [here](https://surprise.readthedocs.io/en/stable/knn_inspired.html#surprise.prediction_algorithms.knns.KNNBaseline)\n",
    "Hyperparameters :    \n",
    "\n",
    "- *k* (Number of Neigbors)\n",
    "- similarity function"
   ]
  },
  {
   "cell_type": "markdown",
   "metadata": {},
   "source": [
    "**Cross Validation** Method\n",
    "\n",
    "for this we will choose the **K-Fold** Cross Validation"
   ]
  },
  {
   "cell_type": "markdown",
   "metadata": {},
   "source": [
    "**Hyperparameter Method** : *RandomizedSearchCV*\n",
    "\n",
    "due to high computational cost if we use *GridSearchCV* we we will use *RandomizedSearchCV* ."
   ]
  },
  {
   "cell_type": "markdown",
   "metadata": {},
   "source": [
    "To run hyperparameter tuning, **surprise** package already have builtin function to run hyperparameter tuning"
   ]
  },
  {
   "cell_type": "markdown",
   "metadata": {},
   "source": [
    "**Model Candidate**\n",
    "\n",
    "1. Baseline Model ( Mean Prediction)  (does not have hyperparameter)\n",
    "2. Factorization Machine"
   ]
  },
  {
   "cell_type": "markdown",
   "metadata": {},
   "source": [
    "**Create Model Object**"
   ]
  },
  {
   "cell_type": "markdown",
   "metadata": {},
   "source": [
    "##### **Baseline Model**"
   ]
  },
  {
   "cell_type": "code",
   "execution_count": 63,
   "metadata": {},
   "outputs": [],
   "source": [
    "from sklearn.dummy import DummyRegressor\n",
    "\n",
    "model_baseline = DummyRegressor()"
   ]
  },
  {
   "cell_type": "markdown",
   "metadata": {},
   "source": [
    "**Fit Baseline Model**\n",
    "\n"
   ]
  },
  {
   "cell_type": "code",
   "execution_count": 64,
   "metadata": {},
   "outputs": [
    {
     "data": {
      "text/html": [
       "<style>#sk-container-id-1 {\n",
       "  /* Definition of color scheme common for light and dark mode */\n",
       "  --sklearn-color-text: black;\n",
       "  --sklearn-color-line: gray;\n",
       "  /* Definition of color scheme for unfitted estimators */\n",
       "  --sklearn-color-unfitted-level-0: #fff5e6;\n",
       "  --sklearn-color-unfitted-level-1: #f6e4d2;\n",
       "  --sklearn-color-unfitted-level-2: #ffe0b3;\n",
       "  --sklearn-color-unfitted-level-3: chocolate;\n",
       "  /* Definition of color scheme for fitted estimators */\n",
       "  --sklearn-color-fitted-level-0: #f0f8ff;\n",
       "  --sklearn-color-fitted-level-1: #d4ebff;\n",
       "  --sklearn-color-fitted-level-2: #b3dbfd;\n",
       "  --sklearn-color-fitted-level-3: cornflowerblue;\n",
       "\n",
       "  /* Specific color for light theme */\n",
       "  --sklearn-color-text-on-default-background: var(--sg-text-color, var(--theme-code-foreground, var(--jp-content-font-color1, black)));\n",
       "  --sklearn-color-background: var(--sg-background-color, var(--theme-background, var(--jp-layout-color0, white)));\n",
       "  --sklearn-color-border-box: var(--sg-text-color, var(--theme-code-foreground, var(--jp-content-font-color1, black)));\n",
       "  --sklearn-color-icon: #696969;\n",
       "\n",
       "  @media (prefers-color-scheme: dark) {\n",
       "    /* Redefinition of color scheme for dark theme */\n",
       "    --sklearn-color-text-on-default-background: var(--sg-text-color, var(--theme-code-foreground, var(--jp-content-font-color1, white)));\n",
       "    --sklearn-color-background: var(--sg-background-color, var(--theme-background, var(--jp-layout-color0, #111)));\n",
       "    --sklearn-color-border-box: var(--sg-text-color, var(--theme-code-foreground, var(--jp-content-font-color1, white)));\n",
       "    --sklearn-color-icon: #878787;\n",
       "  }\n",
       "}\n",
       "\n",
       "#sk-container-id-1 {\n",
       "  color: var(--sklearn-color-text);\n",
       "}\n",
       "\n",
       "#sk-container-id-1 pre {\n",
       "  padding: 0;\n",
       "}\n",
       "\n",
       "#sk-container-id-1 input.sk-hidden--visually {\n",
       "  border: 0;\n",
       "  clip: rect(1px 1px 1px 1px);\n",
       "  clip: rect(1px, 1px, 1px, 1px);\n",
       "  height: 1px;\n",
       "  margin: -1px;\n",
       "  overflow: hidden;\n",
       "  padding: 0;\n",
       "  position: absolute;\n",
       "  width: 1px;\n",
       "}\n",
       "\n",
       "#sk-container-id-1 div.sk-dashed-wrapped {\n",
       "  border: 1px dashed var(--sklearn-color-line);\n",
       "  margin: 0 0.4em 0.5em 0.4em;\n",
       "  box-sizing: border-box;\n",
       "  padding-bottom: 0.4em;\n",
       "  background-color: var(--sklearn-color-background);\n",
       "}\n",
       "\n",
       "#sk-container-id-1 div.sk-container {\n",
       "  /* jupyter's `normalize.less` sets `[hidden] { display: none; }`\n",
       "     but bootstrap.min.css set `[hidden] { display: none !important; }`\n",
       "     so we also need the `!important` here to be able to override the\n",
       "     default hidden behavior on the sphinx rendered scikit-learn.org.\n",
       "     See: https://github.com/scikit-learn/scikit-learn/issues/21755 */\n",
       "  display: inline-block !important;\n",
       "  position: relative;\n",
       "}\n",
       "\n",
       "#sk-container-id-1 div.sk-text-repr-fallback {\n",
       "  display: none;\n",
       "}\n",
       "\n",
       "div.sk-parallel-item,\n",
       "div.sk-serial,\n",
       "div.sk-item {\n",
       "  /* draw centered vertical line to link estimators */\n",
       "  background-image: linear-gradient(var(--sklearn-color-text-on-default-background), var(--sklearn-color-text-on-default-background));\n",
       "  background-size: 2px 100%;\n",
       "  background-repeat: no-repeat;\n",
       "  background-position: center center;\n",
       "}\n",
       "\n",
       "/* Parallel-specific style estimator block */\n",
       "\n",
       "#sk-container-id-1 div.sk-parallel-item::after {\n",
       "  content: \"\";\n",
       "  width: 100%;\n",
       "  border-bottom: 2px solid var(--sklearn-color-text-on-default-background);\n",
       "  flex-grow: 1;\n",
       "}\n",
       "\n",
       "#sk-container-id-1 div.sk-parallel {\n",
       "  display: flex;\n",
       "  align-items: stretch;\n",
       "  justify-content: center;\n",
       "  background-color: var(--sklearn-color-background);\n",
       "  position: relative;\n",
       "}\n",
       "\n",
       "#sk-container-id-1 div.sk-parallel-item {\n",
       "  display: flex;\n",
       "  flex-direction: column;\n",
       "}\n",
       "\n",
       "#sk-container-id-1 div.sk-parallel-item:first-child::after {\n",
       "  align-self: flex-end;\n",
       "  width: 50%;\n",
       "}\n",
       "\n",
       "#sk-container-id-1 div.sk-parallel-item:last-child::after {\n",
       "  align-self: flex-start;\n",
       "  width: 50%;\n",
       "}\n",
       "\n",
       "#sk-container-id-1 div.sk-parallel-item:only-child::after {\n",
       "  width: 0;\n",
       "}\n",
       "\n",
       "/* Serial-specific style estimator block */\n",
       "\n",
       "#sk-container-id-1 div.sk-serial {\n",
       "  display: flex;\n",
       "  flex-direction: column;\n",
       "  align-items: center;\n",
       "  background-color: var(--sklearn-color-background);\n",
       "  padding-right: 1em;\n",
       "  padding-left: 1em;\n",
       "}\n",
       "\n",
       "\n",
       "/* Toggleable style: style used for estimator/Pipeline/ColumnTransformer box that is\n",
       "clickable and can be expanded/collapsed.\n",
       "- Pipeline and ColumnTransformer use this feature and define the default style\n",
       "- Estimators will overwrite some part of the style using the `sk-estimator` class\n",
       "*/\n",
       "\n",
       "/* Pipeline and ColumnTransformer style (default) */\n",
       "\n",
       "#sk-container-id-1 div.sk-toggleable {\n",
       "  /* Default theme specific background. It is overwritten whether we have a\n",
       "  specific estimator or a Pipeline/ColumnTransformer */\n",
       "  background-color: var(--sklearn-color-background);\n",
       "}\n",
       "\n",
       "/* Toggleable label */\n",
       "#sk-container-id-1 label.sk-toggleable__label {\n",
       "  cursor: pointer;\n",
       "  display: block;\n",
       "  width: 100%;\n",
       "  margin-bottom: 0;\n",
       "  padding: 0.5em;\n",
       "  box-sizing: border-box;\n",
       "  text-align: center;\n",
       "}\n",
       "\n",
       "#sk-container-id-1 label.sk-toggleable__label-arrow:before {\n",
       "  /* Arrow on the left of the label */\n",
       "  content: \"▸\";\n",
       "  float: left;\n",
       "  margin-right: 0.25em;\n",
       "  color: var(--sklearn-color-icon);\n",
       "}\n",
       "\n",
       "#sk-container-id-1 label.sk-toggleable__label-arrow:hover:before {\n",
       "  color: var(--sklearn-color-text);\n",
       "}\n",
       "\n",
       "/* Toggleable content - dropdown */\n",
       "\n",
       "#sk-container-id-1 div.sk-toggleable__content {\n",
       "  max-height: 0;\n",
       "  max-width: 0;\n",
       "  overflow: hidden;\n",
       "  text-align: left;\n",
       "  /* unfitted */\n",
       "  background-color: var(--sklearn-color-unfitted-level-0);\n",
       "}\n",
       "\n",
       "#sk-container-id-1 div.sk-toggleable__content.fitted {\n",
       "  /* fitted */\n",
       "  background-color: var(--sklearn-color-fitted-level-0);\n",
       "}\n",
       "\n",
       "#sk-container-id-1 div.sk-toggleable__content pre {\n",
       "  margin: 0.2em;\n",
       "  border-radius: 0.25em;\n",
       "  color: var(--sklearn-color-text);\n",
       "  /* unfitted */\n",
       "  background-color: var(--sklearn-color-unfitted-level-0);\n",
       "}\n",
       "\n",
       "#sk-container-id-1 div.sk-toggleable__content.fitted pre {\n",
       "  /* unfitted */\n",
       "  background-color: var(--sklearn-color-fitted-level-0);\n",
       "}\n",
       "\n",
       "#sk-container-id-1 input.sk-toggleable__control:checked~div.sk-toggleable__content {\n",
       "  /* Expand drop-down */\n",
       "  max-height: 200px;\n",
       "  max-width: 100%;\n",
       "  overflow: auto;\n",
       "}\n",
       "\n",
       "#sk-container-id-1 input.sk-toggleable__control:checked~label.sk-toggleable__label-arrow:before {\n",
       "  content: \"▾\";\n",
       "}\n",
       "\n",
       "/* Pipeline/ColumnTransformer-specific style */\n",
       "\n",
       "#sk-container-id-1 div.sk-label input.sk-toggleable__control:checked~label.sk-toggleable__label {\n",
       "  color: var(--sklearn-color-text);\n",
       "  background-color: var(--sklearn-color-unfitted-level-2);\n",
       "}\n",
       "\n",
       "#sk-container-id-1 div.sk-label.fitted input.sk-toggleable__control:checked~label.sk-toggleable__label {\n",
       "  background-color: var(--sklearn-color-fitted-level-2);\n",
       "}\n",
       "\n",
       "/* Estimator-specific style */\n",
       "\n",
       "/* Colorize estimator box */\n",
       "#sk-container-id-1 div.sk-estimator input.sk-toggleable__control:checked~label.sk-toggleable__label {\n",
       "  /* unfitted */\n",
       "  background-color: var(--sklearn-color-unfitted-level-2);\n",
       "}\n",
       "\n",
       "#sk-container-id-1 div.sk-estimator.fitted input.sk-toggleable__control:checked~label.sk-toggleable__label {\n",
       "  /* fitted */\n",
       "  background-color: var(--sklearn-color-fitted-level-2);\n",
       "}\n",
       "\n",
       "#sk-container-id-1 div.sk-label label.sk-toggleable__label,\n",
       "#sk-container-id-1 div.sk-label label {\n",
       "  /* The background is the default theme color */\n",
       "  color: var(--sklearn-color-text-on-default-background);\n",
       "}\n",
       "\n",
       "/* On hover, darken the color of the background */\n",
       "#sk-container-id-1 div.sk-label:hover label.sk-toggleable__label {\n",
       "  color: var(--sklearn-color-text);\n",
       "  background-color: var(--sklearn-color-unfitted-level-2);\n",
       "}\n",
       "\n",
       "/* Label box, darken color on hover, fitted */\n",
       "#sk-container-id-1 div.sk-label.fitted:hover label.sk-toggleable__label.fitted {\n",
       "  color: var(--sklearn-color-text);\n",
       "  background-color: var(--sklearn-color-fitted-level-2);\n",
       "}\n",
       "\n",
       "/* Estimator label */\n",
       "\n",
       "#sk-container-id-1 div.sk-label label {\n",
       "  font-family: monospace;\n",
       "  font-weight: bold;\n",
       "  display: inline-block;\n",
       "  line-height: 1.2em;\n",
       "}\n",
       "\n",
       "#sk-container-id-1 div.sk-label-container {\n",
       "  text-align: center;\n",
       "}\n",
       "\n",
       "/* Estimator-specific */\n",
       "#sk-container-id-1 div.sk-estimator {\n",
       "  font-family: monospace;\n",
       "  border: 1px dotted var(--sklearn-color-border-box);\n",
       "  border-radius: 0.25em;\n",
       "  box-sizing: border-box;\n",
       "  margin-bottom: 0.5em;\n",
       "  /* unfitted */\n",
       "  background-color: var(--sklearn-color-unfitted-level-0);\n",
       "}\n",
       "\n",
       "#sk-container-id-1 div.sk-estimator.fitted {\n",
       "  /* fitted */\n",
       "  background-color: var(--sklearn-color-fitted-level-0);\n",
       "}\n",
       "\n",
       "/* on hover */\n",
       "#sk-container-id-1 div.sk-estimator:hover {\n",
       "  /* unfitted */\n",
       "  background-color: var(--sklearn-color-unfitted-level-2);\n",
       "}\n",
       "\n",
       "#sk-container-id-1 div.sk-estimator.fitted:hover {\n",
       "  /* fitted */\n",
       "  background-color: var(--sklearn-color-fitted-level-2);\n",
       "}\n",
       "\n",
       "/* Specification for estimator info (e.g. \"i\" and \"?\") */\n",
       "\n",
       "/* Common style for \"i\" and \"?\" */\n",
       "\n",
       ".sk-estimator-doc-link,\n",
       "a:link.sk-estimator-doc-link,\n",
       "a:visited.sk-estimator-doc-link {\n",
       "  float: right;\n",
       "  font-size: smaller;\n",
       "  line-height: 1em;\n",
       "  font-family: monospace;\n",
       "  background-color: var(--sklearn-color-background);\n",
       "  border-radius: 1em;\n",
       "  height: 1em;\n",
       "  width: 1em;\n",
       "  text-decoration: none !important;\n",
       "  margin-left: 1ex;\n",
       "  /* unfitted */\n",
       "  border: var(--sklearn-color-unfitted-level-1) 1pt solid;\n",
       "  color: var(--sklearn-color-unfitted-level-1);\n",
       "}\n",
       "\n",
       ".sk-estimator-doc-link.fitted,\n",
       "a:link.sk-estimator-doc-link.fitted,\n",
       "a:visited.sk-estimator-doc-link.fitted {\n",
       "  /* fitted */\n",
       "  border: var(--sklearn-color-fitted-level-1) 1pt solid;\n",
       "  color: var(--sklearn-color-fitted-level-1);\n",
       "}\n",
       "\n",
       "/* On hover */\n",
       "div.sk-estimator:hover .sk-estimator-doc-link:hover,\n",
       ".sk-estimator-doc-link:hover,\n",
       "div.sk-label-container:hover .sk-estimator-doc-link:hover,\n",
       ".sk-estimator-doc-link:hover {\n",
       "  /* unfitted */\n",
       "  background-color: var(--sklearn-color-unfitted-level-3);\n",
       "  color: var(--sklearn-color-background);\n",
       "  text-decoration: none;\n",
       "}\n",
       "\n",
       "div.sk-estimator.fitted:hover .sk-estimator-doc-link.fitted:hover,\n",
       ".sk-estimator-doc-link.fitted:hover,\n",
       "div.sk-label-container:hover .sk-estimator-doc-link.fitted:hover,\n",
       ".sk-estimator-doc-link.fitted:hover {\n",
       "  /* fitted */\n",
       "  background-color: var(--sklearn-color-fitted-level-3);\n",
       "  color: var(--sklearn-color-background);\n",
       "  text-decoration: none;\n",
       "}\n",
       "\n",
       "/* Span, style for the box shown on hovering the info icon */\n",
       ".sk-estimator-doc-link span {\n",
       "  display: none;\n",
       "  z-index: 9999;\n",
       "  position: relative;\n",
       "  font-weight: normal;\n",
       "  right: .2ex;\n",
       "  padding: .5ex;\n",
       "  margin: .5ex;\n",
       "  width: min-content;\n",
       "  min-width: 20ex;\n",
       "  max-width: 50ex;\n",
       "  color: var(--sklearn-color-text);\n",
       "  box-shadow: 2pt 2pt 4pt #999;\n",
       "  /* unfitted */\n",
       "  background: var(--sklearn-color-unfitted-level-0);\n",
       "  border: .5pt solid var(--sklearn-color-unfitted-level-3);\n",
       "}\n",
       "\n",
       ".sk-estimator-doc-link.fitted span {\n",
       "  /* fitted */\n",
       "  background: var(--sklearn-color-fitted-level-0);\n",
       "  border: var(--sklearn-color-fitted-level-3);\n",
       "}\n",
       "\n",
       ".sk-estimator-doc-link:hover span {\n",
       "  display: block;\n",
       "}\n",
       "\n",
       "/* \"?\"-specific style due to the `<a>` HTML tag */\n",
       "\n",
       "#sk-container-id-1 a.estimator_doc_link {\n",
       "  float: right;\n",
       "  font-size: 1rem;\n",
       "  line-height: 1em;\n",
       "  font-family: monospace;\n",
       "  background-color: var(--sklearn-color-background);\n",
       "  border-radius: 1rem;\n",
       "  height: 1rem;\n",
       "  width: 1rem;\n",
       "  text-decoration: none;\n",
       "  /* unfitted */\n",
       "  color: var(--sklearn-color-unfitted-level-1);\n",
       "  border: var(--sklearn-color-unfitted-level-1) 1pt solid;\n",
       "}\n",
       "\n",
       "#sk-container-id-1 a.estimator_doc_link.fitted {\n",
       "  /* fitted */\n",
       "  border: var(--sklearn-color-fitted-level-1) 1pt solid;\n",
       "  color: var(--sklearn-color-fitted-level-1);\n",
       "}\n",
       "\n",
       "/* On hover */\n",
       "#sk-container-id-1 a.estimator_doc_link:hover {\n",
       "  /* unfitted */\n",
       "  background-color: var(--sklearn-color-unfitted-level-3);\n",
       "  color: var(--sklearn-color-background);\n",
       "  text-decoration: none;\n",
       "}\n",
       "\n",
       "#sk-container-id-1 a.estimator_doc_link.fitted:hover {\n",
       "  /* fitted */\n",
       "  background-color: var(--sklearn-color-fitted-level-3);\n",
       "}\n",
       "</style><div id=\"sk-container-id-1\" class=\"sk-top-container\"><div class=\"sk-text-repr-fallback\"><pre>DummyRegressor()</pre><b>In a Jupyter environment, please rerun this cell to show the HTML representation or trust the notebook. <br />On GitHub, the HTML representation is unable to render, please try loading this page with nbviewer.org.</b></div><div class=\"sk-container\" hidden><div class=\"sk-item\"><div class=\"sk-estimator fitted sk-toggleable\"><input class=\"sk-toggleable__control sk-hidden--visually\" id=\"sk-estimator-id-1\" type=\"checkbox\" checked><label for=\"sk-estimator-id-1\" class=\"sk-toggleable__label fitted sk-toggleable__label-arrow fitted\">&nbsp;&nbsp;DummyRegressor<a class=\"sk-estimator-doc-link fitted\" rel=\"noreferrer\" target=\"_blank\" href=\"https://scikit-learn.org/1.5/modules/generated/sklearn.dummy.DummyRegressor.html\">?<span>Documentation for DummyRegressor</span></a><span class=\"sk-estimator-doc-link fitted\">i<span>Fitted</span></span></label><div class=\"sk-toggleable__content fitted\"><pre>DummyRegressor()</pre></div> </div></div></div></div>"
      ],
      "text/plain": [
       "DummyRegressor()"
      ]
     },
     "execution_count": 64,
     "metadata": {},
     "output_type": "execute_result"
    }
   ],
   "source": [
    "model_baseline.fit(X_train_sparse,y_train)"
   ]
  },
  {
   "cell_type": "code",
   "execution_count": 65,
   "metadata": {},
   "outputs": [
    {
     "name": "stdout",
     "output_type": "stream",
     "text": [
      "RMSE for baseline_model :  0.93256870367082\n"
     ]
    }
   ],
   "source": [
    "# Calculate Score (MSE) from baseline model\n",
    "baseline_pred = model_baseline.predict(X_train)\n",
    "\n",
    "baseline_mse = np.sqrt(mean_squared_error(y_train,baseline_pred))\n",
    "\n",
    "# print result\n",
    "print('RMSE for baseline_model : ',baseline_mse)"
   ]
  },
  {
   "cell_type": "code",
   "execution_count": 66,
   "metadata": {},
   "outputs": [
    {
     "name": "stdout",
     "output_type": "stream",
     "text": [
      "Test RMSE for baseline_model :  0.9478056621959153\n"
     ]
    }
   ],
   "source": [
    "# predict on test data\n",
    "baseline_pred = model_baseline.predict(X_test)\n",
    "\n",
    "baseline_rmse_test = np.sqrt(mean_squared_error(y_test,baseline_pred))\n",
    "\n",
    "# print result\n",
    "print('Test RMSE for baseline_model : ',baseline_rmse_test)"
   ]
  },
  {
   "cell_type": "markdown",
   "metadata": {},
   "source": [
    "##### **Funk SVD**"
   ]
  },
  {
   "cell_type": "code",
   "execution_count": 67,
   "metadata": {},
   "outputs": [
    {
     "name": "stdout",
     "output_type": "stream",
     "text": [
      "- Original data shape : (14175, 4)\n",
      "- After dropping duplicate data shape :  (13849, 4)\n"
     ]
    },
    {
     "data": {
      "text/html": [
       "<div>\n",
       "<style scoped>\n",
       "    .dataframe tbody tr th:only-of-type {\n",
       "        vertical-align: middle;\n",
       "    }\n",
       "\n",
       "    .dataframe tbody tr th {\n",
       "        vertical-align: top;\n",
       "    }\n",
       "\n",
       "    .dataframe thead th {\n",
       "        text-align: right;\n",
       "    }\n",
       "</style>\n",
       "<table border=\"1\" class=\"dataframe\">\n",
       "  <thead>\n",
       "    <tr style=\"text-align: right;\">\n",
       "      <th></th>\n",
       "      <th>user_id</th>\n",
       "      <th>item_id</th>\n",
       "      <th>rating</th>\n",
       "    </tr>\n",
       "  </thead>\n",
       "  <tbody>\n",
       "    <tr>\n",
       "      <th>0</th>\n",
       "      <td>0</td>\n",
       "      <td>0</td>\n",
       "      <td>5</td>\n",
       "    </tr>\n",
       "    <tr>\n",
       "      <th>1</th>\n",
       "      <td>1</td>\n",
       "      <td>1</td>\n",
       "      <td>5</td>\n",
       "    </tr>\n",
       "    <tr>\n",
       "      <th>2</th>\n",
       "      <td>2</td>\n",
       "      <td>2</td>\n",
       "      <td>5</td>\n",
       "    </tr>\n",
       "    <tr>\n",
       "      <th>3</th>\n",
       "      <td>1</td>\n",
       "      <td>3</td>\n",
       "      <td>5</td>\n",
       "    </tr>\n",
       "    <tr>\n",
       "      <th>4</th>\n",
       "      <td>3</td>\n",
       "      <td>4</td>\n",
       "      <td>5</td>\n",
       "    </tr>\n",
       "  </tbody>\n",
       "</table>\n",
       "</div>"
      ],
      "text/plain": [
       "   user_id  item_id  rating\n",
       "0        0        0       5\n",
       "1        1        1       5\n",
       "2        2        2       5\n",
       "3        1        3       5\n",
       "4        3        4       5"
      ]
     },
     "execution_count": 67,
     "metadata": {},
     "output_type": "execute_result"
    }
   ],
   "source": [
    "# load our data\n",
    "trip_data = load_trip_data(path = trip_data_path)\n",
    "trip_data,user_mapping,item_mapping = map_data(trip_data)\n",
    "\n",
    "# drop trip column\n",
    "trip_data = trip_data.drop('trip',axis=1)\n",
    "trip_data.head()"
   ]
  },
  {
   "cell_type": "code",
   "execution_count": 68,
   "metadata": {},
   "outputs": [
    {
     "data": {
      "text/plain": [
       "<surprise.reader.Reader at 0x747145242c40>"
      ]
     },
     "execution_count": 68,
     "metadata": {},
     "output_type": "execute_result"
    }
   ],
   "source": [
    "# Import some library\n",
    "from surprise import Dataset, Reader\n",
    "\n",
    "# Initiating rating scale\n",
    "reader = Reader(rating_scale = (1, 5))\n",
    "reader"
   ]
  },
  {
   "cell_type": "markdown",
   "metadata": {},
   "source": [
    "Initiate the data. It must be on format `userId`, `itemId`, and `ratings`, respectively."
   ]
  },
  {
   "cell_type": "code",
   "execution_count": 69,
   "metadata": {},
   "outputs": [
    {
     "data": {
      "text/plain": [
       "<surprise.dataset.DatasetAutoFolds at 0x747145268f70>"
      ]
     },
     "execution_count": 69,
     "metadata": {},
     "output_type": "execute_result"
    }
   ],
   "source": [
    "utility_data = Dataset.load_from_df(\n",
    "                df = trip_data[['user_id', 'item_id', 'rating']].copy(),\n",
    "                reader = reader\n",
    ")\n",
    "\n",
    "utility_data"
   ]
  },
  {
   "cell_type": "code",
   "execution_count": 70,
   "metadata": {},
   "outputs": [],
   "source": [
    "# Load library for deep copy\n",
    "import copy\n",
    "\n",
    "# Create a function\n",
    "def train_test_split(utility_data, test_size, random_state):\n",
    "    \"\"\"\n",
    "    Train test split the data\n",
    "    ref: https://surprise.readthedocs.io/en/stable/FAQ.html#split-data-for-unbiased-estimation-py\n",
    "\n",
    "    Parameters\n",
    "    ----------\n",
    "    utility_data : Surprise utility data\n",
    "        The sample of whole data set\n",
    "\n",
    "    test_size : float, default=0.2\n",
    "        The test size\n",
    "\n",
    "    random_state : int, default=42\n",
    "        For reproducibility\n",
    "\n",
    "    Returns\n",
    "    -------\n",
    "    full_data : Surprise utility data\n",
    "        The new utility data\n",
    "\n",
    "    train_data : Surprise format\n",
    "        The train data\n",
    "\n",
    "    test_data : Surprise format\n",
    "        The test data\n",
    "    \"\"\"\n",
    "    # Deep copy the utility_data\n",
    "    full_data = copy.deepcopy(utility_data)\n",
    "\n",
    "    # Generate random seed\n",
    "    np.random.seed(random_state)\n",
    "\n",
    "    # Shuffle the raw_ratings for reproducibility\n",
    "    raw_ratings = full_data.raw_ratings\n",
    "    np.random.shuffle(raw_ratings)\n",
    "\n",
    "    # Define the threshold\n",
    "    threshold = int((1-test_size) * len(raw_ratings))\n",
    "\n",
    "    # Split the data\n",
    "    train_raw_ratings = raw_ratings[:threshold]\n",
    "    test_raw_ratings = raw_ratings[threshold:]\n",
    "\n",
    "    # Get the data\n",
    "    full_data.raw_ratings = train_raw_ratings\n",
    "    train_data = full_data.build_full_trainset()\n",
    "    test_data = full_data.construct_testset(test_raw_ratings)\n",
    "\n",
    "    return full_data, train_data, test_data"
   ]
  },
  {
   "cell_type": "code",
   "execution_count": 71,
   "metadata": {},
   "outputs": [],
   "source": [
    "# Split the data\n",
    "full_data, train_data, test_data = train_test_split(utility_data,\n",
    "                                                    test_size = 0.2,\n",
    "                                                    random_state = 42)"
   ]
  },
  {
   "cell_type": "code",
   "execution_count": 72,
   "metadata": {},
   "outputs": [
    {
     "data": {
      "text/plain": [
       "(11079, 2770)"
      ]
     },
     "execution_count": 72,
     "metadata": {},
     "output_type": "execute_result"
    }
   ],
   "source": [
    "# Validate the splitting\n",
    "train_data.n_ratings, len(test_data)"
   ]
  },
  {
   "cell_type": "code",
   "execution_count": 73,
   "metadata": {},
   "outputs": [],
   "source": [
    "# importing package\n",
    "from surprise.model_selection.search import RandomizedSearchCV\n",
    "\n",
    "# Load the model library\n",
    "# i.e. SVD\n",
    "from surprise import  SVD"
   ]
  },
  {
   "cell_type": "markdown",
   "metadata": {},
   "source": [
    "Hyperparameter that are in Funk SVD models are :     \n",
    "- $\\gamma$ : Learning Rate\n",
    "- n_factors : Number of letent factor\n",
    "- $\\lambda$ : Regularization strength"
   ]
  },
  {
   "cell_type": "markdown",
   "metadata": {},
   "source": [
    "Hyperparameter Candidate :     \n",
    "1. Learning Rate ($\\gamma$)\n",
    "\n",
    "For this experiment we will try several values\n",
    "\n",
    "[1,0.1,0.01,0.001,0.0001]\n",
    "\n",
    "2. Number of latent factors\n",
    "For this experiment we will try some values :    \n",
    "\n",
    "[50,100,200]\n",
    "\n",
    "3. Regularization Strength\n",
    "\n",
    "[1,0.1,0.01,0.02]\n"
   ]
  },
  {
   "cell_type": "code",
   "execution_count": 74,
   "metadata": {},
   "outputs": [],
   "source": [
    "#create dictionary of parameter\n",
    "params_SVD = {'lr_all' : [1,0.1,0.01,0.001,0.0001], 'n_factors' : [50,100,200],\n",
    "              'reg_all' : [1,0.1,0.01,0.02]\n",
    "              }\n",
    "\n",
    "tuning_svd = RandomizedSearchCV(algo_class=SVD, param_distributions = params_SVD,\n",
    "                   cv=5\n",
    "                   )"
   ]
  },
  {
   "cell_type": "code",
   "execution_count": 75,
   "metadata": {},
   "outputs": [],
   "source": [
    "tuning_svd.fit(data=full_data)"
   ]
  },
  {
   "cell_type": "markdown",
   "metadata": {},
   "source": [
    "**Factorization Machine Model**"
   ]
  },
  {
   "cell_type": "markdown",
   "metadata": {},
   "source": [
    "We are gonna use, our previous model created from scratch, However there are still solution such as package :    \n",
    "\n",
    "1. [FastFM](https://github.com/ibayer/fastFM)\n",
    "2. [Polylearn](https://github.com/scikit-learn-contrib/polylearn)\n",
    "3. [Pytorch fm](https://github.com/rixwew/pytorch-fm)"
   ]
  },
  {
   "cell_type": "markdown",
   "metadata": {},
   "source": [
    "##### Factorization Machines"
   ]
  },
  {
   "cell_type": "markdown",
   "metadata": {},
   "source": [
    "**Train Factorization Machines Model**"
   ]
  },
  {
   "cell_type": "markdown",
   "metadata": {},
   "source": [
    "Hyperparameter that are in Factorization Machines   are :     \n",
    "- $\\gamma$ : Learning Rate\n",
    "- n_factors : Number of letent factor\n",
    "- $\\lambda$ : Regularization strength"
   ]
  },
  {
   "cell_type": "markdown",
   "metadata": {},
   "source": [
    "Hyperparameter Candidate :     \n",
    "1. Learning Rate ($\\gamma$)\n",
    "\n",
    "For this experiment we will try several values\n",
    "\n",
    "[1,0.1,0.01,0.001,0.0001]\n",
    "\n",
    "2. Number of latent factors\n",
    "For this experiment we will try some values :    \n",
    "\n",
    "[50,100,200]\n",
    "\n",
    "3. Regularization Strength (lambda_coef & lambda_factor)\n",
    "\n",
    "[1,0.1,0.01,0.02]\n"
   ]
  },
  {
   "cell_type": "code",
   "execution_count": 76,
   "metadata": {},
   "outputs": [],
   "source": [
    "# instanciate model\n",
    "model_fm = FMRegressor()\n",
    "\n",
    "#create dictionary of parameter\n",
    "params_fm = {'lr' : [1,0.1,0.01,0.001,0.0001], 'n_factors' : [50,100,200],\n",
    "              'lambda_factor' : [1,0.1,0.01,0.02], 'lambda_coef' : [1,0.1,0.01,0.02]\n",
    "              }"
   ]
  },
  {
   "cell_type": "markdown",
   "metadata": {},
   "source": [
    "**Hyperparameter Tuning**"
   ]
  },
  {
   "cell_type": "code",
   "execution_count": 77,
   "metadata": {},
   "outputs": [],
   "source": [
    "# importing randomizedsearch to find best parameter\n",
    "from sklearn.model_selection import RandomizedSearchCV\n",
    "\n",
    "# instanciate model selection\n",
    "cv_fm = RandomizedSearchCV(estimator=model_fm,\n",
    "                           param_distributions=params_fm,\n",
    "                           scoring = 'neg_root_mean_squared_error',\n",
    "                           cv = 5)"
   ]
  },
  {
   "cell_type": "code",
   "execution_count": 78,
   "metadata": {},
   "outputs": [
    {
     "name": "stderr",
     "output_type": "stream",
     "text": [
      "100%|██████████| 100/100 [00:00<00:00, 171.74it/s]\n",
      "/tmp/ipykernel_48232/364158928.py:102: RuntimeWarning: overflow encountered in square\n",
      "  term = (X.dot(v)) ** 2 - ((X**2).dot(v ** 2))\n",
      "/home/daniel/Documents/learning/recommendation_system/.venv/lib/python3.9/site-packages/sklearn/model_selection/_validation.py:982: UserWarning: Scoring failed. The score on this train-test partition for these parameters will be set to nan. Details: \n",
      "Traceback (most recent call last):\n",
      "  File \"/home/daniel/Documents/learning/recommendation_system/.venv/lib/python3.9/site-packages/sklearn/model_selection/_validation.py\", line 971, in _score\n",
      "    scores = scorer(estimator, X_test, y_test, **score_params)\n",
      "  File \"/home/daniel/Documents/learning/recommendation_system/.venv/lib/python3.9/site-packages/sklearn/metrics/_scorer.py\", line 279, in __call__\n",
      "    return self._score(partial(_cached_call, None), estimator, X, y_true, **_kwargs)\n",
      "  File \"/home/daniel/Documents/learning/recommendation_system/.venv/lib/python3.9/site-packages/sklearn/metrics/_scorer.py\", line 376, in _score\n",
      "    return self._sign * self._score_func(y_true, y_pred, **scoring_kwargs)\n",
      "  File \"/home/daniel/Documents/learning/recommendation_system/.venv/lib/python3.9/site-packages/sklearn/utils/_param_validation.py\", line 213, in wrapper\n",
      "    return func(*args, **kwargs)\n",
      "  File \"/home/daniel/Documents/learning/recommendation_system/.venv/lib/python3.9/site-packages/sklearn/metrics/_regression.py\", line 581, in root_mean_squared_error\n",
      "    mean_squared_error(\n",
      "  File \"/home/daniel/Documents/learning/recommendation_system/.venv/lib/python3.9/site-packages/sklearn/utils/_param_validation.py\", line 186, in wrapper\n",
      "    return func(*args, **kwargs)\n",
      "  File \"/home/daniel/Documents/learning/recommendation_system/.venv/lib/python3.9/site-packages/sklearn/metrics/_regression.py\", line 506, in mean_squared_error\n",
      "    y_type, y_true, y_pred, multioutput = _check_reg_targets(\n",
      "  File \"/home/daniel/Documents/learning/recommendation_system/.venv/lib/python3.9/site-packages/sklearn/metrics/_regression.py\", line 113, in _check_reg_targets\n",
      "    y_pred = check_array(y_pred, ensure_2d=False, dtype=dtype)\n",
      "  File \"/home/daniel/Documents/learning/recommendation_system/.venv/lib/python3.9/site-packages/sklearn/utils/validation.py\", line 1064, in check_array\n",
      "    _assert_all_finite(\n",
      "  File \"/home/daniel/Documents/learning/recommendation_system/.venv/lib/python3.9/site-packages/sklearn/utils/validation.py\", line 123, in _assert_all_finite\n",
      "    _assert_all_finite_element_wise(\n",
      "  File \"/home/daniel/Documents/learning/recommendation_system/.venv/lib/python3.9/site-packages/sklearn/utils/validation.py\", line 172, in _assert_all_finite_element_wise\n",
      "    raise ValueError(msg_err)\n",
      "ValueError: Input contains NaN.\n",
      "\n",
      "  warnings.warn(\n",
      "100%|██████████| 100/100 [00:00<00:00, 302.33it/s]\n",
      "/tmp/ipykernel_48232/364158928.py:102: RuntimeWarning: overflow encountered in square\n",
      "  term = (X.dot(v)) ** 2 - ((X**2).dot(v ** 2))\n",
      "/home/daniel/Documents/learning/recommendation_system/.venv/lib/python3.9/site-packages/sklearn/model_selection/_validation.py:982: UserWarning: Scoring failed. The score on this train-test partition for these parameters will be set to nan. Details: \n",
      "Traceback (most recent call last):\n",
      "  File \"/home/daniel/Documents/learning/recommendation_system/.venv/lib/python3.9/site-packages/sklearn/model_selection/_validation.py\", line 971, in _score\n",
      "    scores = scorer(estimator, X_test, y_test, **score_params)\n",
      "  File \"/home/daniel/Documents/learning/recommendation_system/.venv/lib/python3.9/site-packages/sklearn/metrics/_scorer.py\", line 279, in __call__\n",
      "    return self._score(partial(_cached_call, None), estimator, X, y_true, **_kwargs)\n",
      "  File \"/home/daniel/Documents/learning/recommendation_system/.venv/lib/python3.9/site-packages/sklearn/metrics/_scorer.py\", line 376, in _score\n",
      "    return self._sign * self._score_func(y_true, y_pred, **scoring_kwargs)\n",
      "  File \"/home/daniel/Documents/learning/recommendation_system/.venv/lib/python3.9/site-packages/sklearn/utils/_param_validation.py\", line 213, in wrapper\n",
      "    return func(*args, **kwargs)\n",
      "  File \"/home/daniel/Documents/learning/recommendation_system/.venv/lib/python3.9/site-packages/sklearn/metrics/_regression.py\", line 581, in root_mean_squared_error\n",
      "    mean_squared_error(\n",
      "  File \"/home/daniel/Documents/learning/recommendation_system/.venv/lib/python3.9/site-packages/sklearn/utils/_param_validation.py\", line 186, in wrapper\n",
      "    return func(*args, **kwargs)\n",
      "  File \"/home/daniel/Documents/learning/recommendation_system/.venv/lib/python3.9/site-packages/sklearn/metrics/_regression.py\", line 506, in mean_squared_error\n",
      "    y_type, y_true, y_pred, multioutput = _check_reg_targets(\n",
      "  File \"/home/daniel/Documents/learning/recommendation_system/.venv/lib/python3.9/site-packages/sklearn/metrics/_regression.py\", line 113, in _check_reg_targets\n",
      "    y_pred = check_array(y_pred, ensure_2d=False, dtype=dtype)\n",
      "  File \"/home/daniel/Documents/learning/recommendation_system/.venv/lib/python3.9/site-packages/sklearn/utils/validation.py\", line 1064, in check_array\n",
      "    _assert_all_finite(\n",
      "  File \"/home/daniel/Documents/learning/recommendation_system/.venv/lib/python3.9/site-packages/sklearn/utils/validation.py\", line 123, in _assert_all_finite\n",
      "    _assert_all_finite_element_wise(\n",
      "  File \"/home/daniel/Documents/learning/recommendation_system/.venv/lib/python3.9/site-packages/sklearn/utils/validation.py\", line 172, in _assert_all_finite_element_wise\n",
      "    raise ValueError(msg_err)\n",
      "ValueError: Input contains NaN.\n",
      "\n",
      "  warnings.warn(\n",
      "100%|██████████| 100/100 [00:00<00:00, 350.98it/s]\n",
      "/tmp/ipykernel_48232/364158928.py:102: RuntimeWarning: overflow encountered in square\n",
      "  term = (X.dot(v)) ** 2 - ((X**2).dot(v ** 2))\n",
      "/home/daniel/Documents/learning/recommendation_system/.venv/lib/python3.9/site-packages/sklearn/model_selection/_validation.py:982: UserWarning: Scoring failed. The score on this train-test partition for these parameters will be set to nan. Details: \n",
      "Traceback (most recent call last):\n",
      "  File \"/home/daniel/Documents/learning/recommendation_system/.venv/lib/python3.9/site-packages/sklearn/model_selection/_validation.py\", line 971, in _score\n",
      "    scores = scorer(estimator, X_test, y_test, **score_params)\n",
      "  File \"/home/daniel/Documents/learning/recommendation_system/.venv/lib/python3.9/site-packages/sklearn/metrics/_scorer.py\", line 279, in __call__\n",
      "    return self._score(partial(_cached_call, None), estimator, X, y_true, **_kwargs)\n",
      "  File \"/home/daniel/Documents/learning/recommendation_system/.venv/lib/python3.9/site-packages/sklearn/metrics/_scorer.py\", line 376, in _score\n",
      "    return self._sign * self._score_func(y_true, y_pred, **scoring_kwargs)\n",
      "  File \"/home/daniel/Documents/learning/recommendation_system/.venv/lib/python3.9/site-packages/sklearn/utils/_param_validation.py\", line 213, in wrapper\n",
      "    return func(*args, **kwargs)\n",
      "  File \"/home/daniel/Documents/learning/recommendation_system/.venv/lib/python3.9/site-packages/sklearn/metrics/_regression.py\", line 581, in root_mean_squared_error\n",
      "    mean_squared_error(\n",
      "  File \"/home/daniel/Documents/learning/recommendation_system/.venv/lib/python3.9/site-packages/sklearn/utils/_param_validation.py\", line 186, in wrapper\n",
      "    return func(*args, **kwargs)\n",
      "  File \"/home/daniel/Documents/learning/recommendation_system/.venv/lib/python3.9/site-packages/sklearn/metrics/_regression.py\", line 506, in mean_squared_error\n",
      "    y_type, y_true, y_pred, multioutput = _check_reg_targets(\n",
      "  File \"/home/daniel/Documents/learning/recommendation_system/.venv/lib/python3.9/site-packages/sklearn/metrics/_regression.py\", line 113, in _check_reg_targets\n",
      "    y_pred = check_array(y_pred, ensure_2d=False, dtype=dtype)\n",
      "  File \"/home/daniel/Documents/learning/recommendation_system/.venv/lib/python3.9/site-packages/sklearn/utils/validation.py\", line 1064, in check_array\n",
      "    _assert_all_finite(\n",
      "  File \"/home/daniel/Documents/learning/recommendation_system/.venv/lib/python3.9/site-packages/sklearn/utils/validation.py\", line 123, in _assert_all_finite\n",
      "    _assert_all_finite_element_wise(\n",
      "  File \"/home/daniel/Documents/learning/recommendation_system/.venv/lib/python3.9/site-packages/sklearn/utils/validation.py\", line 172, in _assert_all_finite_element_wise\n",
      "    raise ValueError(msg_err)\n",
      "ValueError: Input contains NaN.\n",
      "\n",
      "  warnings.warn(\n",
      " 87%|████████▋ | 87/100 [00:00<00:00, 256.42it/s]/tmp/ipykernel_48232/364158928.py:192: RuntimeWarning: overflow encountered in scalar multiply\n",
      "  summed_squared[factor] += term * term\n",
      "/tmp/ipykernel_48232/364158928.py:194: RuntimeWarning: overflow encountered in scalar multiply\n",
      "  y_pred += 0.5 * (summed[factor] * summed[factor] - summed_squared[factor])\n",
      "/tmp/ipykernel_48232/364158928.py:194: RuntimeWarning: invalid value encountered in scalar subtract\n",
      "  y_pred += 0.5 * (summed[factor] * summed[factor] - summed_squared[factor])\n",
      "100%|██████████| 100/100 [00:00<00:00, 258.72it/s]\n",
      "/tmp/ipykernel_48232/364158928.py:102: RuntimeWarning: overflow encountered in square\n",
      "  term = (X.dot(v)) ** 2 - ((X**2).dot(v ** 2))\n",
      "/home/daniel/Documents/learning/recommendation_system/.venv/lib/python3.9/site-packages/sklearn/model_selection/_validation.py:982: UserWarning: Scoring failed. The score on this train-test partition for these parameters will be set to nan. Details: \n",
      "Traceback (most recent call last):\n",
      "  File \"/home/daniel/Documents/learning/recommendation_system/.venv/lib/python3.9/site-packages/sklearn/model_selection/_validation.py\", line 971, in _score\n",
      "    scores = scorer(estimator, X_test, y_test, **score_params)\n",
      "  File \"/home/daniel/Documents/learning/recommendation_system/.venv/lib/python3.9/site-packages/sklearn/metrics/_scorer.py\", line 279, in __call__\n",
      "    return self._score(partial(_cached_call, None), estimator, X, y_true, **_kwargs)\n",
      "  File \"/home/daniel/Documents/learning/recommendation_system/.venv/lib/python3.9/site-packages/sklearn/metrics/_scorer.py\", line 376, in _score\n",
      "    return self._sign * self._score_func(y_true, y_pred, **scoring_kwargs)\n",
      "  File \"/home/daniel/Documents/learning/recommendation_system/.venv/lib/python3.9/site-packages/sklearn/utils/_param_validation.py\", line 213, in wrapper\n",
      "    return func(*args, **kwargs)\n",
      "  File \"/home/daniel/Documents/learning/recommendation_system/.venv/lib/python3.9/site-packages/sklearn/metrics/_regression.py\", line 581, in root_mean_squared_error\n",
      "    mean_squared_error(\n",
      "  File \"/home/daniel/Documents/learning/recommendation_system/.venv/lib/python3.9/site-packages/sklearn/utils/_param_validation.py\", line 186, in wrapper\n",
      "    return func(*args, **kwargs)\n",
      "  File \"/home/daniel/Documents/learning/recommendation_system/.venv/lib/python3.9/site-packages/sklearn/metrics/_regression.py\", line 506, in mean_squared_error\n",
      "    y_type, y_true, y_pred, multioutput = _check_reg_targets(\n",
      "  File \"/home/daniel/Documents/learning/recommendation_system/.venv/lib/python3.9/site-packages/sklearn/metrics/_regression.py\", line 113, in _check_reg_targets\n",
      "    y_pred = check_array(y_pred, ensure_2d=False, dtype=dtype)\n",
      "  File \"/home/daniel/Documents/learning/recommendation_system/.venv/lib/python3.9/site-packages/sklearn/utils/validation.py\", line 1064, in check_array\n",
      "    _assert_all_finite(\n",
      "  File \"/home/daniel/Documents/learning/recommendation_system/.venv/lib/python3.9/site-packages/sklearn/utils/validation.py\", line 123, in _assert_all_finite\n",
      "    _assert_all_finite_element_wise(\n",
      "  File \"/home/daniel/Documents/learning/recommendation_system/.venv/lib/python3.9/site-packages/sklearn/utils/validation.py\", line 172, in _assert_all_finite_element_wise\n",
      "    raise ValueError(msg_err)\n",
      "ValueError: Input contains NaN.\n",
      "\n",
      "  warnings.warn(\n",
      "100%|██████████| 100/100 [00:00<00:00, 149.41it/s]\n",
      "/tmp/ipykernel_48232/364158928.py:102: RuntimeWarning: overflow encountered in square\n",
      "  term = (X.dot(v)) ** 2 - ((X**2).dot(v ** 2))\n",
      "/home/daniel/Documents/learning/recommendation_system/.venv/lib/python3.9/site-packages/sklearn/model_selection/_validation.py:982: UserWarning: Scoring failed. The score on this train-test partition for these parameters will be set to nan. Details: \n",
      "Traceback (most recent call last):\n",
      "  File \"/home/daniel/Documents/learning/recommendation_system/.venv/lib/python3.9/site-packages/sklearn/model_selection/_validation.py\", line 971, in _score\n",
      "    scores = scorer(estimator, X_test, y_test, **score_params)\n",
      "  File \"/home/daniel/Documents/learning/recommendation_system/.venv/lib/python3.9/site-packages/sklearn/metrics/_scorer.py\", line 279, in __call__\n",
      "    return self._score(partial(_cached_call, None), estimator, X, y_true, **_kwargs)\n",
      "  File \"/home/daniel/Documents/learning/recommendation_system/.venv/lib/python3.9/site-packages/sklearn/metrics/_scorer.py\", line 376, in _score\n",
      "    return self._sign * self._score_func(y_true, y_pred, **scoring_kwargs)\n",
      "  File \"/home/daniel/Documents/learning/recommendation_system/.venv/lib/python3.9/site-packages/sklearn/utils/_param_validation.py\", line 213, in wrapper\n",
      "    return func(*args, **kwargs)\n",
      "  File \"/home/daniel/Documents/learning/recommendation_system/.venv/lib/python3.9/site-packages/sklearn/metrics/_regression.py\", line 581, in root_mean_squared_error\n",
      "    mean_squared_error(\n",
      "  File \"/home/daniel/Documents/learning/recommendation_system/.venv/lib/python3.9/site-packages/sklearn/utils/_param_validation.py\", line 186, in wrapper\n",
      "    return func(*args, **kwargs)\n",
      "  File \"/home/daniel/Documents/learning/recommendation_system/.venv/lib/python3.9/site-packages/sklearn/metrics/_regression.py\", line 506, in mean_squared_error\n",
      "    y_type, y_true, y_pred, multioutput = _check_reg_targets(\n",
      "  File \"/home/daniel/Documents/learning/recommendation_system/.venv/lib/python3.9/site-packages/sklearn/metrics/_regression.py\", line 113, in _check_reg_targets\n",
      "    y_pred = check_array(y_pred, ensure_2d=False, dtype=dtype)\n",
      "  File \"/home/daniel/Documents/learning/recommendation_system/.venv/lib/python3.9/site-packages/sklearn/utils/validation.py\", line 1064, in check_array\n",
      "    _assert_all_finite(\n",
      "  File \"/home/daniel/Documents/learning/recommendation_system/.venv/lib/python3.9/site-packages/sklearn/utils/validation.py\", line 123, in _assert_all_finite\n",
      "    _assert_all_finite_element_wise(\n",
      "  File \"/home/daniel/Documents/learning/recommendation_system/.venv/lib/python3.9/site-packages/sklearn/utils/validation.py\", line 172, in _assert_all_finite_element_wise\n",
      "    raise ValueError(msg_err)\n",
      "ValueError: Input contains NaN.\n",
      "\n",
      "  warnings.warn(\n",
      "100%|██████████| 100/100 [00:00<00:00, 210.94it/s]\n",
      "100%|██████████| 100/100 [00:00<00:00, 292.74it/s]\n",
      "100%|██████████| 100/100 [00:00<00:00, 380.08it/s]\n",
      "100%|██████████| 100/100 [00:00<00:00, 365.86it/s]\n",
      "100%|██████████| 100/100 [00:00<00:00, 351.72it/s]\n",
      "100%|██████████| 100/100 [00:00<00:00, 148.88it/s]\n",
      "100%|██████████| 100/100 [00:00<00:00, 194.16it/s]\n",
      "100%|██████████| 100/100 [00:00<00:00, 163.88it/s]\n",
      "100%|██████████| 100/100 [00:00<00:00, 168.53it/s]\n",
      "100%|██████████| 100/100 [00:00<00:00, 170.12it/s]\n",
      "100%|██████████| 100/100 [00:01<00:00, 84.44it/s]\n",
      "100%|██████████| 100/100 [00:01<00:00, 90.13it/s]\n",
      "100%|██████████| 100/100 [00:01<00:00, 81.13it/s]\n",
      "100%|██████████| 100/100 [00:01<00:00, 79.61it/s]\n",
      "100%|██████████| 100/100 [00:00<00:00, 114.49it/s]\n",
      "100%|██████████| 100/100 [00:00<00:00, 220.22it/s]\n",
      "100%|██████████| 100/100 [00:00<00:00, 339.36it/s]\n",
      "100%|██████████| 100/100 [00:00<00:00, 300.96it/s]\n",
      "100%|██████████| 100/100 [00:00<00:00, 190.49it/s]\n",
      "100%|██████████| 100/100 [00:00<00:00, 199.17it/s]\n",
      "100%|██████████| 100/100 [00:00<00:00, 173.69it/s]\n",
      "/tmp/ipykernel_48232/364158928.py:102: RuntimeWarning: overflow encountered in square\n",
      "  term = (X.dot(v)) ** 2 - ((X**2).dot(v ** 2))\n",
      "/home/daniel/Documents/learning/recommendation_system/.venv/lib/python3.9/site-packages/sklearn/model_selection/_validation.py:982: UserWarning: Scoring failed. The score on this train-test partition for these parameters will be set to nan. Details: \n",
      "Traceback (most recent call last):\n",
      "  File \"/home/daniel/Documents/learning/recommendation_system/.venv/lib/python3.9/site-packages/sklearn/model_selection/_validation.py\", line 971, in _score\n",
      "    scores = scorer(estimator, X_test, y_test, **score_params)\n",
      "  File \"/home/daniel/Documents/learning/recommendation_system/.venv/lib/python3.9/site-packages/sklearn/metrics/_scorer.py\", line 279, in __call__\n",
      "    return self._score(partial(_cached_call, None), estimator, X, y_true, **_kwargs)\n",
      "  File \"/home/daniel/Documents/learning/recommendation_system/.venv/lib/python3.9/site-packages/sklearn/metrics/_scorer.py\", line 376, in _score\n",
      "    return self._sign * self._score_func(y_true, y_pred, **scoring_kwargs)\n",
      "  File \"/home/daniel/Documents/learning/recommendation_system/.venv/lib/python3.9/site-packages/sklearn/utils/_param_validation.py\", line 213, in wrapper\n",
      "    return func(*args, **kwargs)\n",
      "  File \"/home/daniel/Documents/learning/recommendation_system/.venv/lib/python3.9/site-packages/sklearn/metrics/_regression.py\", line 581, in root_mean_squared_error\n",
      "    mean_squared_error(\n",
      "  File \"/home/daniel/Documents/learning/recommendation_system/.venv/lib/python3.9/site-packages/sklearn/utils/_param_validation.py\", line 186, in wrapper\n",
      "    return func(*args, **kwargs)\n",
      "  File \"/home/daniel/Documents/learning/recommendation_system/.venv/lib/python3.9/site-packages/sklearn/metrics/_regression.py\", line 506, in mean_squared_error\n",
      "    y_type, y_true, y_pred, multioutput = _check_reg_targets(\n",
      "  File \"/home/daniel/Documents/learning/recommendation_system/.venv/lib/python3.9/site-packages/sklearn/metrics/_regression.py\", line 113, in _check_reg_targets\n",
      "    y_pred = check_array(y_pred, ensure_2d=False, dtype=dtype)\n",
      "  File \"/home/daniel/Documents/learning/recommendation_system/.venv/lib/python3.9/site-packages/sklearn/utils/validation.py\", line 1064, in check_array\n",
      "    _assert_all_finite(\n",
      "  File \"/home/daniel/Documents/learning/recommendation_system/.venv/lib/python3.9/site-packages/sklearn/utils/validation.py\", line 123, in _assert_all_finite\n",
      "    _assert_all_finite_element_wise(\n",
      "  File \"/home/daniel/Documents/learning/recommendation_system/.venv/lib/python3.9/site-packages/sklearn/utils/validation.py\", line 172, in _assert_all_finite_element_wise\n",
      "    raise ValueError(msg_err)\n",
      "ValueError: Input contains NaN.\n",
      "\n",
      "  warnings.warn(\n",
      "100%|██████████| 100/100 [00:00<00:00, 130.83it/s]\n",
      "100%|██████████| 100/100 [00:00<00:00, 167.78it/s]\n",
      "100%|██████████| 100/100 [00:00<00:00, 144.81it/s]\n",
      "100%|██████████| 100/100 [00:00<00:00, 156.19it/s]\n",
      "100%|██████████| 100/100 [00:00<00:00, 190.14it/s]\n",
      "100%|██████████| 100/100 [00:00<00:00, 148.40it/s]\n",
      "100%|██████████| 100/100 [00:00<00:00, 128.88it/s]\n",
      "100%|██████████| 100/100 [00:00<00:00, 145.28it/s]\n",
      "100%|██████████| 100/100 [00:00<00:00, 150.22it/s]\n",
      "100%|██████████| 100/100 [00:01<00:00, 82.77it/s]\n",
      "100%|██████████| 100/100 [00:01<00:00, 76.40it/s]\n",
      "100%|██████████| 100/100 [00:01<00:00, 77.98it/s]\n",
      "100%|██████████| 100/100 [00:01<00:00, 84.03it/s]\n",
      "100%|██████████| 100/100 [00:01<00:00, 90.15it/s]\n",
      "100%|██████████| 100/100 [00:00<00:00, 157.33it/s]\n",
      "100%|██████████| 100/100 [00:00<00:00, 172.40it/s]\n",
      "100%|██████████| 100/100 [00:00<00:00, 146.01it/s]\n",
      "100%|██████████| 100/100 [00:00<00:00, 153.80it/s]\n",
      "100%|██████████| 100/100 [00:00<00:00, 152.75it/s]\n",
      "100%|██████████| 100/100 [00:01<00:00, 93.96it/s]\n",
      "100%|██████████| 100/100 [00:01<00:00, 89.76it/s]\n",
      "100%|██████████| 100/100 [00:01<00:00, 76.38it/s]\n",
      "100%|██████████| 100/100 [00:01<00:00, 71.21it/s]\n",
      "100%|██████████| 100/100 [00:01<00:00, 86.34it/s]\n",
      "/home/daniel/Documents/learning/recommendation_system/.venv/lib/python3.9/site-packages/sklearn/model_selection/_search.py:1103: UserWarning: One or more of the test scores are non-finite: [        nan -2.56348359 -2.57512781 -2.34775055 -2.6088018          nan\n",
      " -2.578158   -2.34246363 -2.32177282 -2.54206093]\n",
      "  warnings.warn(\n",
      "100%|██████████| 100/100 [00:00<00:00, 146.74it/s]\n"
     ]
    },
    {
     "data": {
      "text/html": [
       "<style>#sk-container-id-2 {\n",
       "  /* Definition of color scheme common for light and dark mode */\n",
       "  --sklearn-color-text: black;\n",
       "  --sklearn-color-line: gray;\n",
       "  /* Definition of color scheme for unfitted estimators */\n",
       "  --sklearn-color-unfitted-level-0: #fff5e6;\n",
       "  --sklearn-color-unfitted-level-1: #f6e4d2;\n",
       "  --sklearn-color-unfitted-level-2: #ffe0b3;\n",
       "  --sklearn-color-unfitted-level-3: chocolate;\n",
       "  /* Definition of color scheme for fitted estimators */\n",
       "  --sklearn-color-fitted-level-0: #f0f8ff;\n",
       "  --sklearn-color-fitted-level-1: #d4ebff;\n",
       "  --sklearn-color-fitted-level-2: #b3dbfd;\n",
       "  --sklearn-color-fitted-level-3: cornflowerblue;\n",
       "\n",
       "  /* Specific color for light theme */\n",
       "  --sklearn-color-text-on-default-background: var(--sg-text-color, var(--theme-code-foreground, var(--jp-content-font-color1, black)));\n",
       "  --sklearn-color-background: var(--sg-background-color, var(--theme-background, var(--jp-layout-color0, white)));\n",
       "  --sklearn-color-border-box: var(--sg-text-color, var(--theme-code-foreground, var(--jp-content-font-color1, black)));\n",
       "  --sklearn-color-icon: #696969;\n",
       "\n",
       "  @media (prefers-color-scheme: dark) {\n",
       "    /* Redefinition of color scheme for dark theme */\n",
       "    --sklearn-color-text-on-default-background: var(--sg-text-color, var(--theme-code-foreground, var(--jp-content-font-color1, white)));\n",
       "    --sklearn-color-background: var(--sg-background-color, var(--theme-background, var(--jp-layout-color0, #111)));\n",
       "    --sklearn-color-border-box: var(--sg-text-color, var(--theme-code-foreground, var(--jp-content-font-color1, white)));\n",
       "    --sklearn-color-icon: #878787;\n",
       "  }\n",
       "}\n",
       "\n",
       "#sk-container-id-2 {\n",
       "  color: var(--sklearn-color-text);\n",
       "}\n",
       "\n",
       "#sk-container-id-2 pre {\n",
       "  padding: 0;\n",
       "}\n",
       "\n",
       "#sk-container-id-2 input.sk-hidden--visually {\n",
       "  border: 0;\n",
       "  clip: rect(1px 1px 1px 1px);\n",
       "  clip: rect(1px, 1px, 1px, 1px);\n",
       "  height: 1px;\n",
       "  margin: -1px;\n",
       "  overflow: hidden;\n",
       "  padding: 0;\n",
       "  position: absolute;\n",
       "  width: 1px;\n",
       "}\n",
       "\n",
       "#sk-container-id-2 div.sk-dashed-wrapped {\n",
       "  border: 1px dashed var(--sklearn-color-line);\n",
       "  margin: 0 0.4em 0.5em 0.4em;\n",
       "  box-sizing: border-box;\n",
       "  padding-bottom: 0.4em;\n",
       "  background-color: var(--sklearn-color-background);\n",
       "}\n",
       "\n",
       "#sk-container-id-2 div.sk-container {\n",
       "  /* jupyter's `normalize.less` sets `[hidden] { display: none; }`\n",
       "     but bootstrap.min.css set `[hidden] { display: none !important; }`\n",
       "     so we also need the `!important` here to be able to override the\n",
       "     default hidden behavior on the sphinx rendered scikit-learn.org.\n",
       "     See: https://github.com/scikit-learn/scikit-learn/issues/21755 */\n",
       "  display: inline-block !important;\n",
       "  position: relative;\n",
       "}\n",
       "\n",
       "#sk-container-id-2 div.sk-text-repr-fallback {\n",
       "  display: none;\n",
       "}\n",
       "\n",
       "div.sk-parallel-item,\n",
       "div.sk-serial,\n",
       "div.sk-item {\n",
       "  /* draw centered vertical line to link estimators */\n",
       "  background-image: linear-gradient(var(--sklearn-color-text-on-default-background), var(--sklearn-color-text-on-default-background));\n",
       "  background-size: 2px 100%;\n",
       "  background-repeat: no-repeat;\n",
       "  background-position: center center;\n",
       "}\n",
       "\n",
       "/* Parallel-specific style estimator block */\n",
       "\n",
       "#sk-container-id-2 div.sk-parallel-item::after {\n",
       "  content: \"\";\n",
       "  width: 100%;\n",
       "  border-bottom: 2px solid var(--sklearn-color-text-on-default-background);\n",
       "  flex-grow: 1;\n",
       "}\n",
       "\n",
       "#sk-container-id-2 div.sk-parallel {\n",
       "  display: flex;\n",
       "  align-items: stretch;\n",
       "  justify-content: center;\n",
       "  background-color: var(--sklearn-color-background);\n",
       "  position: relative;\n",
       "}\n",
       "\n",
       "#sk-container-id-2 div.sk-parallel-item {\n",
       "  display: flex;\n",
       "  flex-direction: column;\n",
       "}\n",
       "\n",
       "#sk-container-id-2 div.sk-parallel-item:first-child::after {\n",
       "  align-self: flex-end;\n",
       "  width: 50%;\n",
       "}\n",
       "\n",
       "#sk-container-id-2 div.sk-parallel-item:last-child::after {\n",
       "  align-self: flex-start;\n",
       "  width: 50%;\n",
       "}\n",
       "\n",
       "#sk-container-id-2 div.sk-parallel-item:only-child::after {\n",
       "  width: 0;\n",
       "}\n",
       "\n",
       "/* Serial-specific style estimator block */\n",
       "\n",
       "#sk-container-id-2 div.sk-serial {\n",
       "  display: flex;\n",
       "  flex-direction: column;\n",
       "  align-items: center;\n",
       "  background-color: var(--sklearn-color-background);\n",
       "  padding-right: 1em;\n",
       "  padding-left: 1em;\n",
       "}\n",
       "\n",
       "\n",
       "/* Toggleable style: style used for estimator/Pipeline/ColumnTransformer box that is\n",
       "clickable and can be expanded/collapsed.\n",
       "- Pipeline and ColumnTransformer use this feature and define the default style\n",
       "- Estimators will overwrite some part of the style using the `sk-estimator` class\n",
       "*/\n",
       "\n",
       "/* Pipeline and ColumnTransformer style (default) */\n",
       "\n",
       "#sk-container-id-2 div.sk-toggleable {\n",
       "  /* Default theme specific background. It is overwritten whether we have a\n",
       "  specific estimator or a Pipeline/ColumnTransformer */\n",
       "  background-color: var(--sklearn-color-background);\n",
       "}\n",
       "\n",
       "/* Toggleable label */\n",
       "#sk-container-id-2 label.sk-toggleable__label {\n",
       "  cursor: pointer;\n",
       "  display: block;\n",
       "  width: 100%;\n",
       "  margin-bottom: 0;\n",
       "  padding: 0.5em;\n",
       "  box-sizing: border-box;\n",
       "  text-align: center;\n",
       "}\n",
       "\n",
       "#sk-container-id-2 label.sk-toggleable__label-arrow:before {\n",
       "  /* Arrow on the left of the label */\n",
       "  content: \"▸\";\n",
       "  float: left;\n",
       "  margin-right: 0.25em;\n",
       "  color: var(--sklearn-color-icon);\n",
       "}\n",
       "\n",
       "#sk-container-id-2 label.sk-toggleable__label-arrow:hover:before {\n",
       "  color: var(--sklearn-color-text);\n",
       "}\n",
       "\n",
       "/* Toggleable content - dropdown */\n",
       "\n",
       "#sk-container-id-2 div.sk-toggleable__content {\n",
       "  max-height: 0;\n",
       "  max-width: 0;\n",
       "  overflow: hidden;\n",
       "  text-align: left;\n",
       "  /* unfitted */\n",
       "  background-color: var(--sklearn-color-unfitted-level-0);\n",
       "}\n",
       "\n",
       "#sk-container-id-2 div.sk-toggleable__content.fitted {\n",
       "  /* fitted */\n",
       "  background-color: var(--sklearn-color-fitted-level-0);\n",
       "}\n",
       "\n",
       "#sk-container-id-2 div.sk-toggleable__content pre {\n",
       "  margin: 0.2em;\n",
       "  border-radius: 0.25em;\n",
       "  color: var(--sklearn-color-text);\n",
       "  /* unfitted */\n",
       "  background-color: var(--sklearn-color-unfitted-level-0);\n",
       "}\n",
       "\n",
       "#sk-container-id-2 div.sk-toggleable__content.fitted pre {\n",
       "  /* unfitted */\n",
       "  background-color: var(--sklearn-color-fitted-level-0);\n",
       "}\n",
       "\n",
       "#sk-container-id-2 input.sk-toggleable__control:checked~div.sk-toggleable__content {\n",
       "  /* Expand drop-down */\n",
       "  max-height: 200px;\n",
       "  max-width: 100%;\n",
       "  overflow: auto;\n",
       "}\n",
       "\n",
       "#sk-container-id-2 input.sk-toggleable__control:checked~label.sk-toggleable__label-arrow:before {\n",
       "  content: \"▾\";\n",
       "}\n",
       "\n",
       "/* Pipeline/ColumnTransformer-specific style */\n",
       "\n",
       "#sk-container-id-2 div.sk-label input.sk-toggleable__control:checked~label.sk-toggleable__label {\n",
       "  color: var(--sklearn-color-text);\n",
       "  background-color: var(--sklearn-color-unfitted-level-2);\n",
       "}\n",
       "\n",
       "#sk-container-id-2 div.sk-label.fitted input.sk-toggleable__control:checked~label.sk-toggleable__label {\n",
       "  background-color: var(--sklearn-color-fitted-level-2);\n",
       "}\n",
       "\n",
       "/* Estimator-specific style */\n",
       "\n",
       "/* Colorize estimator box */\n",
       "#sk-container-id-2 div.sk-estimator input.sk-toggleable__control:checked~label.sk-toggleable__label {\n",
       "  /* unfitted */\n",
       "  background-color: var(--sklearn-color-unfitted-level-2);\n",
       "}\n",
       "\n",
       "#sk-container-id-2 div.sk-estimator.fitted input.sk-toggleable__control:checked~label.sk-toggleable__label {\n",
       "  /* fitted */\n",
       "  background-color: var(--sklearn-color-fitted-level-2);\n",
       "}\n",
       "\n",
       "#sk-container-id-2 div.sk-label label.sk-toggleable__label,\n",
       "#sk-container-id-2 div.sk-label label {\n",
       "  /* The background is the default theme color */\n",
       "  color: var(--sklearn-color-text-on-default-background);\n",
       "}\n",
       "\n",
       "/* On hover, darken the color of the background */\n",
       "#sk-container-id-2 div.sk-label:hover label.sk-toggleable__label {\n",
       "  color: var(--sklearn-color-text);\n",
       "  background-color: var(--sklearn-color-unfitted-level-2);\n",
       "}\n",
       "\n",
       "/* Label box, darken color on hover, fitted */\n",
       "#sk-container-id-2 div.sk-label.fitted:hover label.sk-toggleable__label.fitted {\n",
       "  color: var(--sklearn-color-text);\n",
       "  background-color: var(--sklearn-color-fitted-level-2);\n",
       "}\n",
       "\n",
       "/* Estimator label */\n",
       "\n",
       "#sk-container-id-2 div.sk-label label {\n",
       "  font-family: monospace;\n",
       "  font-weight: bold;\n",
       "  display: inline-block;\n",
       "  line-height: 1.2em;\n",
       "}\n",
       "\n",
       "#sk-container-id-2 div.sk-label-container {\n",
       "  text-align: center;\n",
       "}\n",
       "\n",
       "/* Estimator-specific */\n",
       "#sk-container-id-2 div.sk-estimator {\n",
       "  font-family: monospace;\n",
       "  border: 1px dotted var(--sklearn-color-border-box);\n",
       "  border-radius: 0.25em;\n",
       "  box-sizing: border-box;\n",
       "  margin-bottom: 0.5em;\n",
       "  /* unfitted */\n",
       "  background-color: var(--sklearn-color-unfitted-level-0);\n",
       "}\n",
       "\n",
       "#sk-container-id-2 div.sk-estimator.fitted {\n",
       "  /* fitted */\n",
       "  background-color: var(--sklearn-color-fitted-level-0);\n",
       "}\n",
       "\n",
       "/* on hover */\n",
       "#sk-container-id-2 div.sk-estimator:hover {\n",
       "  /* unfitted */\n",
       "  background-color: var(--sklearn-color-unfitted-level-2);\n",
       "}\n",
       "\n",
       "#sk-container-id-2 div.sk-estimator.fitted:hover {\n",
       "  /* fitted */\n",
       "  background-color: var(--sklearn-color-fitted-level-2);\n",
       "}\n",
       "\n",
       "/* Specification for estimator info (e.g. \"i\" and \"?\") */\n",
       "\n",
       "/* Common style for \"i\" and \"?\" */\n",
       "\n",
       ".sk-estimator-doc-link,\n",
       "a:link.sk-estimator-doc-link,\n",
       "a:visited.sk-estimator-doc-link {\n",
       "  float: right;\n",
       "  font-size: smaller;\n",
       "  line-height: 1em;\n",
       "  font-family: monospace;\n",
       "  background-color: var(--sklearn-color-background);\n",
       "  border-radius: 1em;\n",
       "  height: 1em;\n",
       "  width: 1em;\n",
       "  text-decoration: none !important;\n",
       "  margin-left: 1ex;\n",
       "  /* unfitted */\n",
       "  border: var(--sklearn-color-unfitted-level-1) 1pt solid;\n",
       "  color: var(--sklearn-color-unfitted-level-1);\n",
       "}\n",
       "\n",
       ".sk-estimator-doc-link.fitted,\n",
       "a:link.sk-estimator-doc-link.fitted,\n",
       "a:visited.sk-estimator-doc-link.fitted {\n",
       "  /* fitted */\n",
       "  border: var(--sklearn-color-fitted-level-1) 1pt solid;\n",
       "  color: var(--sklearn-color-fitted-level-1);\n",
       "}\n",
       "\n",
       "/* On hover */\n",
       "div.sk-estimator:hover .sk-estimator-doc-link:hover,\n",
       ".sk-estimator-doc-link:hover,\n",
       "div.sk-label-container:hover .sk-estimator-doc-link:hover,\n",
       ".sk-estimator-doc-link:hover {\n",
       "  /* unfitted */\n",
       "  background-color: var(--sklearn-color-unfitted-level-3);\n",
       "  color: var(--sklearn-color-background);\n",
       "  text-decoration: none;\n",
       "}\n",
       "\n",
       "div.sk-estimator.fitted:hover .sk-estimator-doc-link.fitted:hover,\n",
       ".sk-estimator-doc-link.fitted:hover,\n",
       "div.sk-label-container:hover .sk-estimator-doc-link.fitted:hover,\n",
       ".sk-estimator-doc-link.fitted:hover {\n",
       "  /* fitted */\n",
       "  background-color: var(--sklearn-color-fitted-level-3);\n",
       "  color: var(--sklearn-color-background);\n",
       "  text-decoration: none;\n",
       "}\n",
       "\n",
       "/* Span, style for the box shown on hovering the info icon */\n",
       ".sk-estimator-doc-link span {\n",
       "  display: none;\n",
       "  z-index: 9999;\n",
       "  position: relative;\n",
       "  font-weight: normal;\n",
       "  right: .2ex;\n",
       "  padding: .5ex;\n",
       "  margin: .5ex;\n",
       "  width: min-content;\n",
       "  min-width: 20ex;\n",
       "  max-width: 50ex;\n",
       "  color: var(--sklearn-color-text);\n",
       "  box-shadow: 2pt 2pt 4pt #999;\n",
       "  /* unfitted */\n",
       "  background: var(--sklearn-color-unfitted-level-0);\n",
       "  border: .5pt solid var(--sklearn-color-unfitted-level-3);\n",
       "}\n",
       "\n",
       ".sk-estimator-doc-link.fitted span {\n",
       "  /* fitted */\n",
       "  background: var(--sklearn-color-fitted-level-0);\n",
       "  border: var(--sklearn-color-fitted-level-3);\n",
       "}\n",
       "\n",
       ".sk-estimator-doc-link:hover span {\n",
       "  display: block;\n",
       "}\n",
       "\n",
       "/* \"?\"-specific style due to the `<a>` HTML tag */\n",
       "\n",
       "#sk-container-id-2 a.estimator_doc_link {\n",
       "  float: right;\n",
       "  font-size: 1rem;\n",
       "  line-height: 1em;\n",
       "  font-family: monospace;\n",
       "  background-color: var(--sklearn-color-background);\n",
       "  border-radius: 1rem;\n",
       "  height: 1rem;\n",
       "  width: 1rem;\n",
       "  text-decoration: none;\n",
       "  /* unfitted */\n",
       "  color: var(--sklearn-color-unfitted-level-1);\n",
       "  border: var(--sklearn-color-unfitted-level-1) 1pt solid;\n",
       "}\n",
       "\n",
       "#sk-container-id-2 a.estimator_doc_link.fitted {\n",
       "  /* fitted */\n",
       "  border: var(--sklearn-color-fitted-level-1) 1pt solid;\n",
       "  color: var(--sklearn-color-fitted-level-1);\n",
       "}\n",
       "\n",
       "/* On hover */\n",
       "#sk-container-id-2 a.estimator_doc_link:hover {\n",
       "  /* unfitted */\n",
       "  background-color: var(--sklearn-color-unfitted-level-3);\n",
       "  color: var(--sklearn-color-background);\n",
       "  text-decoration: none;\n",
       "}\n",
       "\n",
       "#sk-container-id-2 a.estimator_doc_link.fitted:hover {\n",
       "  /* fitted */\n",
       "  background-color: var(--sklearn-color-fitted-level-3);\n",
       "}\n",
       "</style><div id=\"sk-container-id-2\" class=\"sk-top-container\"><div class=\"sk-text-repr-fallback\"><pre>RandomizedSearchCV(cv=5, estimator=FMRegressor(),\n",
       "                   param_distributions={&#x27;lambda_coef&#x27;: [1, 0.1, 0.01, 0.02],\n",
       "                                        &#x27;lambda_factor&#x27;: [1, 0.1, 0.01, 0.02],\n",
       "                                        &#x27;lr&#x27;: [1, 0.1, 0.01, 0.001, 0.0001],\n",
       "                                        &#x27;n_factors&#x27;: [50, 100, 200]},\n",
       "                   scoring=&#x27;neg_root_mean_squared_error&#x27;)</pre><b>In a Jupyter environment, please rerun this cell to show the HTML representation or trust the notebook. <br />On GitHub, the HTML representation is unable to render, please try loading this page with nbviewer.org.</b></div><div class=\"sk-container\" hidden><div class=\"sk-item sk-dashed-wrapped\"><div class=\"sk-label-container\"><div class=\"sk-label fitted sk-toggleable\"><input class=\"sk-toggleable__control sk-hidden--visually\" id=\"sk-estimator-id-2\" type=\"checkbox\" ><label for=\"sk-estimator-id-2\" class=\"sk-toggleable__label fitted sk-toggleable__label-arrow fitted\">&nbsp;&nbsp;RandomizedSearchCV<a class=\"sk-estimator-doc-link fitted\" rel=\"noreferrer\" target=\"_blank\" href=\"https://scikit-learn.org/1.5/modules/generated/sklearn.model_selection.RandomizedSearchCV.html\">?<span>Documentation for RandomizedSearchCV</span></a><span class=\"sk-estimator-doc-link fitted\">i<span>Fitted</span></span></label><div class=\"sk-toggleable__content fitted\"><pre>RandomizedSearchCV(cv=5, estimator=FMRegressor(),\n",
       "                   param_distributions={&#x27;lambda_coef&#x27;: [1, 0.1, 0.01, 0.02],\n",
       "                                        &#x27;lambda_factor&#x27;: [1, 0.1, 0.01, 0.02],\n",
       "                                        &#x27;lr&#x27;: [1, 0.1, 0.01, 0.001, 0.0001],\n",
       "                                        &#x27;n_factors&#x27;: [50, 100, 200]},\n",
       "                   scoring=&#x27;neg_root_mean_squared_error&#x27;)</pre></div> </div></div><div class=\"sk-parallel\"><div class=\"sk-parallel-item\"><div class=\"sk-item\"><div class=\"sk-label-container\"><div class=\"sk-label fitted sk-toggleable\"><input class=\"sk-toggleable__control sk-hidden--visually\" id=\"sk-estimator-id-3\" type=\"checkbox\" ><label for=\"sk-estimator-id-3\" class=\"sk-toggleable__label fitted sk-toggleable__label-arrow fitted\">best_estimator_: FMRegressor</label><div class=\"sk-toggleable__content fitted\"><pre>FMRegressor(lr=0.1, n_factors=100)</pre></div> </div></div><div class=\"sk-serial\"><div class=\"sk-item\"><div class=\"sk-estimator fitted sk-toggleable\"><input class=\"sk-toggleable__control sk-hidden--visually\" id=\"sk-estimator-id-4\" type=\"checkbox\" ><label for=\"sk-estimator-id-4\" class=\"sk-toggleable__label fitted sk-toggleable__label-arrow fitted\">FMRegressor</label><div class=\"sk-toggleable__content fitted\"><pre>FMRegressor(lr=0.1, n_factors=100)</pre></div> </div></div></div></div></div></div></div></div></div>"
      ],
      "text/plain": [
       "RandomizedSearchCV(cv=5, estimator=FMRegressor(),\n",
       "                   param_distributions={'lambda_coef': [1, 0.1, 0.01, 0.02],\n",
       "                                        'lambda_factor': [1, 0.1, 0.01, 0.02],\n",
       "                                        'lr': [1, 0.1, 0.01, 0.001, 0.0001],\n",
       "                                        'n_factors': [50, 100, 200]},\n",
       "                   scoring='neg_root_mean_squared_error')"
      ]
     },
     "execution_count": 78,
     "metadata": {},
     "output_type": "execute_result"
    }
   ],
   "source": [
    "# fit hyperparameter tuning\n",
    "cv_fm.fit(X_train_sparse,y_train)"
   ]
  },
  {
   "cell_type": "code",
   "execution_count": 79,
   "metadata": {},
   "outputs": [
    {
     "data": {
      "text/plain": [
       "{'n_factors': 100, 'lr': 0.1, 'lambda_factor': 0.1, 'lambda_coef': 0.1}"
      ]
     },
     "execution_count": 79,
     "metadata": {},
     "output_type": "execute_result"
    }
   ],
   "source": [
    "cv_fm.best_params_"
   ]
  },
  {
   "cell_type": "code",
   "execution_count": 80,
   "metadata": {},
   "outputs": [
    {
     "data": {
      "text/plain": [
       "-2.321772824800004"
      ]
     },
     "execution_count": 80,
     "metadata": {},
     "output_type": "execute_result"
    }
   ],
   "source": [
    "cv_fm.best_score_"
   ]
  },
  {
   "cell_type": "markdown",
   "metadata": {},
   "source": [
    "#### **Summary**"
   ]
  },
  {
   "cell_type": "markdown",
   "metadata": {},
   "source": [
    "Thus, we run experiment to our model, its better to recap the performance of our model."
   ]
  },
  {
   "cell_type": "code",
   "execution_count": 81,
   "metadata": {},
   "outputs": [
    {
     "data": {
      "text/html": [
       "<div>\n",
       "<style scoped>\n",
       "    .dataframe tbody tr th:only-of-type {\n",
       "        vertical-align: middle;\n",
       "    }\n",
       "\n",
       "    .dataframe tbody tr th {\n",
       "        vertical-align: top;\n",
       "    }\n",
       "\n",
       "    .dataframe thead th {\n",
       "        text-align: right;\n",
       "    }\n",
       "</style>\n",
       "<table border=\"1\" class=\"dataframe\">\n",
       "  <thead>\n",
       "    <tr style=\"text-align: right;\">\n",
       "      <th></th>\n",
       "      <th>Model</th>\n",
       "      <th>CV Performance - RMSE</th>\n",
       "      <th>Model Condiguration</th>\n",
       "    </tr>\n",
       "  </thead>\n",
       "  <tbody>\n",
       "    <tr>\n",
       "      <th>0</th>\n",
       "      <td>Baseline</td>\n",
       "      <td>0.965696</td>\n",
       "      <td>N/A</td>\n",
       "    </tr>\n",
       "    <tr>\n",
       "      <th>1</th>\n",
       "      <td>Funk SVD</td>\n",
       "      <td>0.936941</td>\n",
       "      <td>{'lr_all': 0.0001, 'n_factors': 100, 'reg_all'...</td>\n",
       "    </tr>\n",
       "    <tr>\n",
       "      <th>2</th>\n",
       "      <td>Factorization Machines</td>\n",
       "      <td>2.321773</td>\n",
       "      <td>{'n_factors': 100, 'lr': 0.1, 'lambda_factor':...</td>\n",
       "    </tr>\n",
       "  </tbody>\n",
       "</table>\n",
       "</div>"
      ],
      "text/plain": [
       "                    Model  CV Performance - RMSE  \\\n",
       "0                Baseline               0.965696   \n",
       "1                Funk SVD               0.936941   \n",
       "2  Factorization Machines               2.321773   \n",
       "\n",
       "                                 Model Condiguration  \n",
       "0                                                N/A  \n",
       "1  {'lr_all': 0.0001, 'n_factors': 100, 'reg_all'...  \n",
       "2  {'n_factors': 100, 'lr': 0.1, 'lambda_factor':...  "
      ]
     },
     "execution_count": 81,
     "metadata": {},
     "output_type": "execute_result"
    }
   ],
   "source": [
    "summary_df = pd.DataFrame({'Model': ['Baseline', 'Funk SVD','Factorization Machines'],\n",
    "                           'CV Performance - RMSE': [np.sqrt(baseline_mse),tuning_svd.best_score['rmse'],-1*cv_fm.best_score_ ],\n",
    "                           'Model Condiguration':['N/A',f'{tuning_svd.best_params[\"rmse\"]}',\n",
    "                                                  f'{cv_fm.best_params_}']})\n",
    "\n",
    "summary_df"
   ]
  },
  {
   "cell_type": "markdown",
   "metadata": {},
   "source": [
    "We have seen that even though our Factorization Machines can handle `context` data however the performances is still under `Funk SVD` model, likely its because :    \n",
    "- Model Complexity (Interaction Term)\n",
    "- Less Data"
   ]
  },
  {
   "cell_type": "markdown",
   "metadata": {},
   "source": [
    "### Training Best Model\n",
    "---"
   ]
  },
  {
   "cell_type": "code",
   "execution_count": 82,
   "metadata": {},
   "outputs": [
    {
     "data": {
      "text/plain": [
       "<surprise.prediction_algorithms.matrix_factorization.SVD at 0x74714515fd60>"
      ]
     },
     "execution_count": 82,
     "metadata": {},
     "output_type": "execute_result"
    }
   ],
   "source": [
    "# Create object\n",
    "best_params_svd = tuning_svd.best_params[\"rmse\"]\n",
    "model_best = SVD(**best_params_svd)\n",
    "\n",
    "# Retrain on whole train dataset\n",
    "model_best.fit(train_data)"
   ]
  },
  {
   "cell_type": "markdown",
   "metadata": {},
   "source": [
    "### Evaluate the Best Model\n",
    "---"
   ]
  },
  {
   "cell_type": "markdown",
   "metadata": {},
   "source": [
    "#### Evaluating RMSE"
   ]
  },
  {
   "cell_type": "code",
   "execution_count": 83,
   "metadata": {},
   "outputs": [
    {
     "name": "stdout",
     "output_type": "stream",
     "text": [
      "RMSE: 0.9547\n"
     ]
    },
    {
     "data": {
      "text/plain": [
       "0.95466780769664"
      ]
     },
     "execution_count": 83,
     "metadata": {},
     "output_type": "execute_result"
    }
   ],
   "source": [
    "# import performance library\n",
    "from surprise import accuracy\n",
    "\n",
    "# predicting the test set using our best model\n",
    "test_pred = model_best.test(test_data)\n",
    "test_rmse = accuracy.rmse(test_pred)\n",
    "test_rmse"
   ]
  },
  {
   "cell_type": "code",
   "execution_count": 84,
   "metadata": {},
   "outputs": [
    {
     "data": {
      "text/html": [
       "<div>\n",
       "<style scoped>\n",
       "    .dataframe tbody tr th:only-of-type {\n",
       "        vertical-align: middle;\n",
       "    }\n",
       "\n",
       "    .dataframe tbody tr th {\n",
       "        vertical-align: top;\n",
       "    }\n",
       "\n",
       "    .dataframe thead th {\n",
       "        text-align: right;\n",
       "    }\n",
       "</style>\n",
       "<table border=\"1\" class=\"dataframe\">\n",
       "  <thead>\n",
       "    <tr style=\"text-align: right;\">\n",
       "      <th></th>\n",
       "      <th>Model</th>\n",
       "      <th>RMSE-Tuning</th>\n",
       "      <th>RMSE-Test</th>\n",
       "    </tr>\n",
       "  </thead>\n",
       "  <tbody>\n",
       "    <tr>\n",
       "      <th>0</th>\n",
       "      <td>Funk SVD</td>\n",
       "      <td>0.936941</td>\n",
       "      <td>0.954668</td>\n",
       "    </tr>\n",
       "  </tbody>\n",
       "</table>\n",
       "</div>"
      ],
      "text/plain": [
       "      Model  RMSE-Tuning  RMSE-Test\n",
       "0  Funk SVD     0.936941   0.954668"
      ]
     },
     "execution_count": 84,
     "metadata": {},
     "output_type": "execute_result"
    }
   ],
   "source": [
    "summary_test_df = pd.DataFrame({'Model' : ['Funk SVD'],\n",
    "                                'RMSE-Tuning': [tuning_svd.best_score['rmse']],\n",
    "                                'RMSE-Test': [test_rmse]})\n",
    "\n",
    "summary_test_df"
   ]
  },
  {
   "cell_type": "markdown",
   "metadata": {},
   "source": [
    "# **3.Predictions / Generating Recommendation**\n",
    "---"
   ]
  },
  {
   "cell_type": "markdown",
   "metadata": {},
   "source": [
    "Decision Process is to recommend items to user\n",
    "from our trained model\n",
    "\n",
    "<img src=\"../assets/applsci-10-05510-g001.webp\"/>\n",
    "\n",
    "\n",
    "\n",
    "\n",
    "1. User to User Collaborative Filtering\n",
    "\n",
    "  We already trained our best model on full dataset, now its time to utilize our model to generate recommendation.\n",
    "\n"
   ]
  },
  {
   "cell_type": "markdown",
   "metadata": {},
   "source": [
    "How do we generate recommendation ?\n",
    "\n",
    "\n",
    "To generate recommendation :\n",
    "- predict all movies or only unseen movies rating from given users\n",
    "- followed by ordering the movies by its predicted rat"
   ]
  },
  {
   "cell_type": "markdown",
   "metadata": {},
   "source": [
    "## Predict with Best Model : User to User Collaborative Filtering"
   ]
  },
  {
   "cell_type": "code",
   "execution_count": 85,
   "metadata": {},
   "outputs": [
    {
     "name": "stdout",
     "output_type": "stream",
     "text": [
      "Help on method predict in module surprise.prediction_algorithms.algo_base:\n",
      "\n",
      "predict(uid, iid, r_ui=None, clip=True, verbose=False) method of surprise.prediction_algorithms.matrix_factorization.SVD instance\n",
      "    Compute the rating prediction for given user and item.\n",
      "    \n",
      "    The ``predict`` method converts raw ids to inner ids and then calls the\n",
      "    ``estimate`` method which is defined in every derived class. If the\n",
      "    prediction is impossible (e.g. because the user and/or the item is\n",
      "    unknown), the prediction is set according to\n",
      "    :meth:`default_prediction()\n",
      "    <surprise.prediction_algorithms.algo_base.AlgoBase.default_prediction>`.\n",
      "    \n",
      "    Args:\n",
      "        uid: (Raw) id of the user. See :ref:`this note<raw_inner_note>`.\n",
      "        iid: (Raw) id of the item. See :ref:`this note<raw_inner_note>`.\n",
      "        r_ui(float): The true rating :math:`r_{ui}`. Optional, default is\n",
      "            ``None``.\n",
      "        clip(bool): Whether to clip the estimation into the rating scale.\n",
      "            For example, if :math:`\\hat{r}_{ui}` is :math:`5.5` while the\n",
      "            rating scale is :math:`[1, 5]`, then :math:`\\hat{r}_{ui}` is\n",
      "            set to :math:`5`. Same goes if :math:`\\hat{r}_{ui} < 1`.\n",
      "            Default is ``True``.\n",
      "        verbose(bool): Whether to print details of the prediction.  Default\n",
      "            is False.\n",
      "    \n",
      "    Returns:\n",
      "        A :obj:`Prediction            <surprise.prediction_algorithms.predictions.Prediction>` object\n",
      "        containing:\n",
      "    \n",
      "        - The (raw) user id ``uid``.\n",
      "        - The (raw) item id ``iid``.\n",
      "        - The true rating ``r_ui`` (:math:`r_{ui}`).\n",
      "        - The estimated rating (:math:`\\hat{r}_{ui}`).\n",
      "        - Some additional details about the prediction that might be useful\n",
      "          for later analysis.\n",
      "\n"
     ]
    }
   ],
   "source": [
    "# Recommendation based on Best Models\n",
    "# We will try to recommend on sample userid ,userId 1 & 99\n",
    "\n",
    "# We can use model_best.predict method\n",
    "help(model_best.predict)"
   ]
  },
  {
   "cell_type": "markdown",
   "metadata": {},
   "source": [
    "`model_best.predict` has argument\n",
    "- `uid` (i.e., the `user_id`) and\n",
    "- `iid` (i.e., the item ID or `item_id`)"
   ]
  },
  {
   "cell_type": "markdown",
   "metadata": {},
   "source": [
    "### Predicting what is the rating of user 9 to movie 10"
   ]
  },
  {
   "cell_type": "code",
   "execution_count": 86,
   "metadata": {},
   "outputs": [],
   "source": [
    "sample_prediction = model_best.predict(uid = 9,\n",
    "                                      iid = 10)"
   ]
  },
  {
   "cell_type": "code",
   "execution_count": 87,
   "metadata": {},
   "outputs": [
    {
     "data": {
      "text/plain": [
       "Prediction(uid=9, iid=10, r_ui=None, est=4.186780911340028, details={'was_impossible': False})"
      ]
     },
     "execution_count": 87,
     "metadata": {},
     "output_type": "execute_result"
    }
   ],
   "source": [
    "sample_prediction"
   ]
  },
  {
   "cell_type": "markdown",
   "metadata": {},
   "source": [
    "The results tell us\n",
    "- `r_ui` : actual rating --> `None`, means user 9 have yet rated movie 10\n",
    "- `est` : the estimated rating from our model\n",
    "- `details` : whether prediction is impossible or not. So it's possible to predict."
   ]
  },
  {
   "cell_type": "markdown",
   "metadata": {},
   "source": [
    "### Let's predict all the unseen/unrated movie by userId 9"
   ]
  },
  {
   "cell_type": "code",
   "execution_count": 88,
   "metadata": {},
   "outputs": [
    {
     "data": {
      "text/html": [
       "<div>\n",
       "<style scoped>\n",
       "    .dataframe tbody tr th:only-of-type {\n",
       "        vertical-align: middle;\n",
       "    }\n",
       "\n",
       "    .dataframe tbody tr th {\n",
       "        vertical-align: top;\n",
       "    }\n",
       "\n",
       "    .dataframe thead th {\n",
       "        text-align: right;\n",
       "    }\n",
       "</style>\n",
       "<table border=\"1\" class=\"dataframe\">\n",
       "  <thead>\n",
       "    <tr style=\"text-align: right;\">\n",
       "      <th></th>\n",
       "      <th>user_id</th>\n",
       "      <th>item_id</th>\n",
       "      <th>rating</th>\n",
       "    </tr>\n",
       "  </thead>\n",
       "  <tbody>\n",
       "    <tr>\n",
       "      <th>0</th>\n",
       "      <td>0</td>\n",
       "      <td>0</td>\n",
       "      <td>5</td>\n",
       "    </tr>\n",
       "    <tr>\n",
       "      <th>1</th>\n",
       "      <td>1</td>\n",
       "      <td>1</td>\n",
       "      <td>5</td>\n",
       "    </tr>\n",
       "    <tr>\n",
       "      <th>2</th>\n",
       "      <td>2</td>\n",
       "      <td>2</td>\n",
       "      <td>5</td>\n",
       "    </tr>\n",
       "    <tr>\n",
       "      <th>3</th>\n",
       "      <td>1</td>\n",
       "      <td>3</td>\n",
       "      <td>5</td>\n",
       "    </tr>\n",
       "    <tr>\n",
       "      <th>4</th>\n",
       "      <td>3</td>\n",
       "      <td>4</td>\n",
       "      <td>5</td>\n",
       "    </tr>\n",
       "    <tr>\n",
       "      <th>...</th>\n",
       "      <td>...</td>\n",
       "      <td>...</td>\n",
       "      <td>...</td>\n",
       "    </tr>\n",
       "    <tr>\n",
       "      <th>14170</th>\n",
       "      <td>2159</td>\n",
       "      <td>1089</td>\n",
       "      <td>1</td>\n",
       "    </tr>\n",
       "    <tr>\n",
       "      <th>14171</th>\n",
       "      <td>2220</td>\n",
       "      <td>202</td>\n",
       "      <td>1</td>\n",
       "    </tr>\n",
       "    <tr>\n",
       "      <th>14172</th>\n",
       "      <td>2224</td>\n",
       "      <td>791</td>\n",
       "      <td>1</td>\n",
       "    </tr>\n",
       "    <tr>\n",
       "      <th>14173</th>\n",
       "      <td>2223</td>\n",
       "      <td>2268</td>\n",
       "      <td>1</td>\n",
       "    </tr>\n",
       "    <tr>\n",
       "      <th>14174</th>\n",
       "      <td>2232</td>\n",
       "      <td>1233</td>\n",
       "      <td>1</td>\n",
       "    </tr>\n",
       "  </tbody>\n",
       "</table>\n",
       "<p>13849 rows × 3 columns</p>\n",
       "</div>"
      ],
      "text/plain": [
       "       user_id  item_id  rating\n",
       "0            0        0       5\n",
       "1            1        1       5\n",
       "2            2        2       5\n",
       "3            1        3       5\n",
       "4            3        4       5\n",
       "...        ...      ...     ...\n",
       "14170     2159     1089       1\n",
       "14171     2220      202       1\n",
       "14172     2224      791       1\n",
       "14173     2223     2268       1\n",
       "14174     2232     1233       1\n",
       "\n",
       "[13849 rows x 3 columns]"
      ]
     },
     "execution_count": 88,
     "metadata": {},
     "output_type": "execute_result"
    }
   ],
   "source": [
    "trip_data"
   ]
  },
  {
   "cell_type": "code",
   "execution_count": 89,
   "metadata": {},
   "outputs": [
    {
     "name": "stdout",
     "output_type": "stream",
     "text": [
      "{0, 1, 2, 3, 4, 5, 6, 7, 8, 9, 10, 11, 12, 13, 14, 15, 16, 17, 18, 19, 20, 21, 22, 23, 24, 25, 26, 27, 28, 29, 30, 31, 32, 33, 34, 35, 36, 37, 38, 39, 40, 41, 42, 43, 44, 45, 46, 47, 48, 49, 50, 51, 52, 53, 54, 55, 56, 57, 58, 59, 60, 61, 62, 63, 64, 65, 66, 67, 68, 69, 70, 71, 72, 73, 74, 75, 76, 77, 78, 79, 80, 81, 82, 83, 84, 85, 86, 87, 88, 89, 90, 91, 92, 93, 94, 95, 96, 97, 98, 99, 100, 101, 102, 103, 104, 105, 106, 107, 108, 109, 110, 111, 112, 113, 114, 115, 116, 117, 118, 119, 120, 121, 122, 123, 124, 125, 126, 127, 128, 129, 130, 131, 132, 133, 134, 135, 136, 137, 138, 139, 140, 141, 142, 143, 144, 145, 146, 147, 148, 149, 150, 151, 152, 153, 154, 155, 156, 157, 158, 159, 160, 161, 162, 163, 164, 165, 166, 167, 168, 169, 170, 171, 172, 173, 174, 175, 176, 177, 178, 179, 180, 181, 182, 183, 184, 185, 186, 187, 188, 189, 190, 191, 192, 193, 194, 195, 196, 197, 198, 199, 200, 201, 202, 203, 204, 205, 206, 207, 208, 209, 210, 211, 212, 213, 214, 215, 216, 217, 218, 219, 220, 221, 222, 223, 224, 225, 226, 227, 228, 229, 230, 231, 232, 233, 234, 235, 236, 237, 238, 239, 240, 241, 242, 243, 244, 245, 246, 247, 248, 249, 250, 251, 252, 253, 254, 255, 256, 257, 258, 259, 260, 261, 262, 263, 264, 265, 266, 267, 268, 269, 270, 271, 272, 273, 274, 275, 276, 277, 278, 279, 280, 281, 282, 283, 284, 285, 286, 287, 288, 289, 290, 291, 292, 293, 294, 295, 296, 297, 298, 299, 300, 301, 302, 303, 304, 305, 306, 307, 308, 309, 310, 311, 312, 313, 314, 315, 316, 317, 318, 319, 320, 321, 322, 323, 324, 325, 326, 327, 328, 329, 330, 331, 332, 333, 334, 335, 336, 337, 338, 339, 340, 341, 342, 343, 344, 345, 346, 347, 348, 349, 350, 351, 352, 353, 354, 355, 356, 357, 358, 359, 360, 361, 362, 363, 364, 365, 366, 367, 368, 369, 370, 371, 372, 373, 374, 375, 376, 377, 378, 379, 380, 381, 382, 383, 384, 385, 386, 387, 388, 389, 390, 391, 392, 393, 394, 395, 396, 397, 398, 399, 400, 401, 402, 403, 404, 405, 406, 407, 408, 409, 410, 411, 412, 413, 414, 415, 416, 417, 418, 419, 420, 421, 422, 423, 424, 425, 426, 427, 428, 429, 430, 431, 432, 433, 434, 435, 436, 437, 438, 439, 440, 441, 442, 443, 444, 445, 446, 447, 448, 449, 450, 451, 452, 453, 454, 455, 456, 457, 458, 459, 460, 461, 462, 463, 464, 465, 466, 467, 468, 469, 470, 471, 472, 473, 474, 475, 476, 477, 478, 479, 480, 481, 482, 483, 484, 485, 486, 487, 488, 489, 490, 491, 492, 493, 494, 495, 496, 497, 498, 499, 500, 501, 502, 503, 504, 505, 506, 507, 508, 509, 510, 511, 512, 513, 514, 515, 516, 517, 518, 519, 520, 521, 522, 523, 524, 525, 526, 527, 528, 529, 530, 531, 532, 533, 534, 535, 536, 537, 538, 539, 540, 541, 542, 543, 544, 545, 546, 547, 548, 549, 550, 551, 552, 553, 554, 555, 556, 557, 558, 559, 560, 561, 562, 563, 564, 565, 566, 567, 568, 569, 570, 571, 572, 573, 574, 575, 576, 577, 578, 579, 580, 581, 582, 583, 584, 585, 586, 587, 588, 589, 590, 591, 592, 593, 594, 595, 596, 597, 598, 599, 600, 601, 602, 603, 604, 605, 606, 607, 608, 609, 610, 611, 612, 613, 614, 615, 616, 617, 618, 619, 620, 621, 622, 623, 624, 625, 626, 627, 628, 629, 630, 631, 632, 633, 634, 635, 636, 637, 638, 639, 640, 641, 642, 643, 644, 645, 646, 647, 648, 649, 650, 651, 652, 653, 654, 655, 656, 657, 658, 659, 660, 661, 662, 663, 664, 665, 666, 667, 668, 669, 670, 671, 672, 673, 674, 675, 676, 677, 678, 679, 680, 681, 682, 683, 684, 685, 686, 687, 688, 689, 690, 691, 692, 693, 694, 695, 696, 697, 698, 699, 700, 701, 702, 703, 704, 705, 706, 707, 708, 709, 710, 711, 712, 713, 714, 715, 716, 717, 718, 719, 720, 721, 722, 723, 724, 725, 726, 727, 728, 729, 730, 731, 732, 733, 734, 735, 736, 737, 738, 739, 740, 741, 742, 743, 744, 745, 746, 747, 748, 749, 750, 751, 752, 753, 754, 755, 756, 757, 758, 759, 760, 761, 762, 763, 764, 765, 766, 767, 768, 769, 770, 771, 772, 773, 774, 775, 776, 777, 778, 779, 780, 781, 782, 783, 784, 785, 786, 787, 788, 789, 790, 791, 792, 793, 794, 795, 796, 797, 798, 799, 800, 801, 802, 803, 804, 805, 806, 807, 808, 809, 810, 811, 812, 813, 814, 815, 816, 817, 818, 819, 820, 821, 822, 823, 824, 825, 826, 827, 828, 829, 830, 831, 832, 833, 834, 835, 836, 837, 838, 839, 840, 841, 842, 843, 844, 845, 846, 847, 848, 849, 850, 851, 852, 853, 854, 855, 856, 857, 858, 859, 860, 861, 862, 863, 864, 865, 866, 867, 868, 869, 870, 871, 872, 873, 874, 875, 876, 877, 878, 879, 880, 881, 882, 883, 884, 885, 886, 887, 888, 889, 890, 891, 892, 893, 894, 895, 896, 897, 898, 899, 900, 901, 902, 903, 904, 905, 906, 907, 908, 909, 910, 911, 912, 913, 914, 915, 916, 917, 918, 919, 920, 921, 922, 923, 924, 925, 926, 927, 928, 929, 930, 931, 932, 933, 934, 935, 936, 937, 938, 939, 940, 941, 942, 943, 944, 945, 946, 947, 948, 949, 950, 951, 952, 953, 954, 955, 956, 957, 958, 959, 960, 961, 962, 963, 964, 965, 966, 967, 968, 969, 970, 971, 972, 973, 974, 975, 976, 977, 978, 979, 980, 981, 982, 983, 984, 985, 986, 987, 988, 989, 990, 991, 992, 993, 994, 995, 996, 997, 998, 999, 1000, 1001, 1002, 1003, 1004, 1005, 1006, 1007, 1008, 1009, 1010, 1011, 1012, 1013, 1014, 1015, 1016, 1017, 1018, 1019, 1020, 1021, 1022, 1023, 1024, 1025, 1026, 1027, 1028, 1029, 1030, 1031, 1032, 1033, 1034, 1035, 1036, 1037, 1038, 1039, 1040, 1041, 1042, 1043, 1044, 1045, 1046, 1047, 1048, 1049, 1050, 1051, 1052, 1053, 1054, 1055, 1056, 1057, 1058, 1059, 1060, 1061, 1062, 1063, 1064, 1065, 1066, 1067, 1068, 1069, 1070, 1071, 1072, 1073, 1074, 1075, 1076, 1077, 1078, 1079, 1080, 1081, 1082, 1083, 1084, 1085, 1086, 1087, 1088, 1089, 1090, 1091, 1092, 1093, 1094, 1095, 1096, 1097, 1098, 1099, 1100, 1101, 1102, 1103, 1104, 1105, 1106, 1107, 1108, 1109, 1110, 1111, 1112, 1113, 1114, 1115, 1116, 1117, 1118, 1119, 1120, 1121, 1122, 1123, 1124, 1125, 1126, 1127, 1128, 1129, 1130, 1131, 1132, 1133, 1134, 1135, 1136, 1137, 1138, 1139, 1140, 1141, 1142, 1143, 1144, 1145, 1146, 1147, 1148, 1149, 1150, 1151, 1152, 1153, 1154, 1155, 1156, 1157, 1158, 1159, 1160, 1161, 1162, 1163, 1164, 1165, 1166, 1167, 1168, 1169, 1170, 1171, 1172, 1173, 1174, 1175, 1176, 1177, 1178, 1179, 1180, 1181, 1182, 1183, 1184, 1185, 1186, 1187, 1188, 1189, 1190, 1191, 1192, 1193, 1194, 1195, 1196, 1197, 1198, 1199, 1200, 1201, 1202, 1203, 1204, 1205, 1206, 1207, 1208, 1209, 1210, 1211, 1212, 1213, 1214, 1215, 1216, 1217, 1218, 1219, 1220, 1221, 1222, 1223, 1224, 1225, 1226, 1227, 1228, 1229, 1230, 1231, 1232, 1233, 1234, 1235, 1236, 1237, 1238, 1239, 1240, 1241, 1242, 1243, 1244, 1245, 1246, 1247, 1248, 1249, 1250, 1251, 1252, 1253, 1254, 1255, 1256, 1257, 1258, 1259, 1260, 1261, 1262, 1263, 1264, 1265, 1266, 1267, 1268, 1269, 1270, 1271, 1272, 1273, 1274, 1275, 1276, 1277, 1278, 1279, 1280, 1281, 1282, 1283, 1284, 1285, 1286, 1287, 1288, 1289, 1290, 1291, 1292, 1293, 1294, 1295, 1296, 1297, 1298, 1299, 1300, 1301, 1302, 1303, 1304, 1305, 1306, 1307, 1308, 1309, 1310, 1311, 1312, 1313, 1314, 1315, 1316, 1317, 1318, 1319, 1320, 1321, 1322, 1323, 1324, 1325, 1326, 1327, 1328, 1329, 1330, 1331, 1332, 1333, 1334, 1335, 1336, 1337, 1338, 1339, 1340, 1341, 1342, 1343, 1344, 1345, 1346, 1347, 1348, 1349, 1350, 1351, 1352, 1353, 1354, 1355, 1356, 1357, 1358, 1359, 1360, 1361, 1362, 1363, 1364, 1365, 1366, 1367, 1368, 1369, 1370, 1371, 1372, 1373, 1374, 1375, 1376, 1377, 1378, 1379, 1380, 1381, 1382, 1383, 1384, 1385, 1386, 1387, 1388, 1389, 1390, 1391, 1392, 1393, 1394, 1395, 1396, 1397, 1398, 1399, 1400, 1401, 1402, 1403, 1404, 1405, 1406, 1407, 1408, 1409, 1410, 1411, 1412, 1413, 1414, 1415, 1416, 1417, 1418, 1419, 1420, 1421, 1422, 1423, 1424, 1425, 1426, 1427, 1428, 1429, 1430, 1431, 1432, 1433, 1434, 1435, 1436, 1437, 1438, 1439, 1440, 1441, 1442, 1443, 1444, 1445, 1446, 1447, 1448, 1449, 1450, 1451, 1452, 1453, 1454, 1455, 1456, 1457, 1458, 1459, 1460, 1461, 1462, 1463, 1464, 1465, 1466, 1467, 1468, 1469, 1470, 1471, 1472, 1473, 1474, 1475, 1476, 1477, 1478, 1479, 1480, 1481, 1482, 1483, 1484, 1485, 1486, 1487, 1488, 1489, 1490, 1491, 1492, 1493, 1494, 1495, 1496, 1497, 1498, 1499, 1500, 1501, 1502, 1503, 1504, 1505, 1506, 1507, 1508, 1509, 1510, 1511, 1512, 1513, 1514, 1515, 1516, 1517, 1518, 1519, 1520, 1521, 1522, 1523, 1524, 1525, 1526, 1527, 1528, 1529, 1530, 1531, 1532, 1533, 1534, 1535, 1536, 1537, 1538, 1539, 1540, 1541, 1542, 1543, 1544, 1545, 1546, 1547, 1548, 1549, 1550, 1551, 1552, 1553, 1554, 1555, 1556, 1557, 1558, 1559, 1560, 1561, 1562, 1563, 1564, 1565, 1566, 1567, 1568, 1569, 1570, 1571, 1572, 1573, 1574, 1575, 1576, 1577, 1578, 1579, 1580, 1581, 1582, 1583, 1584, 1585, 1586, 1587, 1588, 1589, 1590, 1591, 1592, 1593, 1594, 1595, 1596, 1597, 1598, 1599, 1600, 1601, 1602, 1603, 1604, 1605, 1606, 1607, 1608, 1609, 1610, 1611, 1612, 1613, 1614, 1615, 1616, 1617, 1618, 1619, 1620, 1621, 1622, 1623, 1624, 1625, 1626, 1627, 1628, 1629, 1630, 1631, 1632, 1633, 1634, 1635, 1636, 1637, 1638, 1639, 1640, 1641, 1642, 1643, 1644, 1645, 1646, 1647, 1648, 1649, 1650, 1651, 1652, 1653, 1654, 1655, 1656, 1657, 1658, 1659, 1660, 1661, 1662, 1663, 1664, 1665, 1666, 1667, 1668, 1669, 1670, 1671, 1672, 1673, 1674, 1675, 1676, 1677, 1678, 1679, 1680, 1681, 1682, 1683, 1684, 1685, 1686, 1687, 1688, 1689, 1690, 1691, 1692, 1693, 1694, 1695, 1696, 1697, 1698, 1699, 1700, 1701, 1702, 1703, 1704, 1705, 1706, 1707, 1708, 1709, 1710, 1711, 1712, 1713, 1714, 1715, 1716, 1717, 1718, 1719, 1720, 1721, 1722, 1723, 1724, 1725, 1726, 1727, 1728, 1729, 1730, 1731, 1732, 1733, 1734, 1735, 1736, 1737, 1738, 1739, 1740, 1741, 1742, 1743, 1744, 1745, 1746, 1747, 1748, 1749, 1750, 1751, 1752, 1753, 1754, 1755, 1756, 1757, 1758, 1759, 1760, 1761, 1762, 1763, 1764, 1765, 1766, 1767, 1768, 1769, 1770, 1771, 1772, 1773, 1774, 1775, 1776, 1777, 1778, 1779, 1780, 1781, 1782, 1783, 1784, 1785, 1786, 1787, 1788, 1789, 1790, 1791, 1792, 1793, 1794, 1795, 1796, 1797, 1798, 1799, 1800, 1801, 1802, 1803, 1804, 1805, 1806, 1807, 1808, 1809, 1810, 1811, 1812, 1813, 1814, 1815, 1816, 1817, 1818, 1819, 1820, 1821, 1822, 1823, 1824, 1825, 1826, 1827, 1828, 1829, 1830, 1831, 1832, 1833, 1834, 1835, 1836, 1837, 1838, 1839, 1840, 1841, 1842, 1843, 1844, 1845, 1846, 1847, 1848, 1849, 1850, 1851, 1852, 1853, 1854, 1855, 1856, 1857, 1858, 1859, 1860, 1861, 1862, 1863, 1864, 1865, 1866, 1867, 1868, 1869, 1870, 1871, 1872, 1873, 1874, 1875, 1876, 1877, 1878, 1879, 1880, 1881, 1882, 1883, 1884, 1885, 1886, 1887, 1888, 1889, 1890, 1891, 1892, 1893, 1894, 1895, 1896, 1897, 1898, 1899, 1900, 1901, 1902, 1903, 1904, 1905, 1906, 1907, 1908, 1909, 1910, 1911, 1912, 1913, 1914, 1915, 1916, 1917, 1918, 1919, 1920, 1921, 1922, 1923, 1924, 1925, 1926, 1927, 1928, 1929, 1930, 1931, 1932, 1933, 1934, 1935, 1936, 1937, 1938, 1939, 1940, 1941, 1942, 1943, 1944, 1945, 1946, 1947, 1948, 1949, 1950, 1951, 1952, 1953, 1954, 1955, 1956, 1957, 1958, 1959, 1960, 1961, 1962, 1963, 1964, 1965, 1966, 1967, 1968, 1969, 1970, 1971, 1972, 1973, 1974, 1975, 1976, 1977, 1978, 1979, 1980, 1981, 1982, 1983, 1984, 1985, 1986, 1987, 1988, 1989, 1990, 1991, 1992, 1993, 1994, 1995, 1996, 1997, 1998, 1999, 2000, 2001, 2002, 2003, 2004, 2005, 2006, 2007, 2008, 2009, 2010, 2011, 2012, 2013, 2014, 2015, 2016, 2017, 2018, 2019, 2020, 2021, 2022, 2023, 2024, 2025, 2026, 2027, 2028, 2029, 2030, 2031, 2032, 2033, 2034, 2035, 2036, 2037, 2038, 2039, 2040, 2041, 2042, 2043, 2044, 2045, 2046, 2047, 2048, 2049, 2050, 2051, 2052, 2053, 2054, 2055, 2056, 2057, 2058, 2059, 2060, 2061, 2062, 2063, 2064, 2065, 2066, 2067, 2068, 2069, 2070, 2071, 2072, 2073, 2074, 2075, 2076, 2077, 2078, 2079, 2080, 2081, 2082, 2083, 2084, 2085, 2086, 2087, 2088, 2089, 2090, 2091, 2092, 2093, 2094, 2095, 2096, 2097, 2098, 2099, 2100, 2101, 2102, 2103, 2104, 2105, 2106, 2107, 2108, 2109, 2110, 2111, 2112, 2113, 2114, 2115, 2116, 2117, 2118, 2119, 2120, 2121, 2122, 2123, 2124, 2125, 2126, 2127, 2128, 2129, 2130, 2131, 2132, 2133, 2134, 2135, 2136, 2137, 2138, 2139, 2140, 2141, 2142, 2143, 2144, 2145, 2146, 2147, 2148, 2149, 2150, 2151, 2152, 2153, 2154, 2155, 2156, 2157, 2158, 2159, 2160, 2161, 2162, 2163, 2164, 2165, 2166, 2167, 2168, 2169, 2170, 2171, 2172, 2173, 2174, 2175, 2176, 2177, 2178, 2179, 2180, 2181, 2182, 2183, 2184, 2185, 2186, 2187, 2188, 2189, 2190, 2191, 2192, 2193, 2194, 2195, 2196, 2197, 2198, 2199, 2200, 2201, 2202, 2203, 2204, 2205, 2206, 2207, 2208, 2209, 2210, 2211, 2212, 2213, 2214, 2215, 2216, 2217, 2218, 2219, 2220, 2221, 2222, 2223, 2224, 2225, 2226, 2227, 2228, 2229, 2230, 2231, 2232, 2233, 2234, 2235, 2236, 2237, 2238, 2239, 2240, 2241, 2242, 2243, 2244, 2245, 2246, 2247, 2248, 2249, 2250, 2251, 2252, 2253, 2254, 2255, 2256, 2257, 2258, 2259, 2260, 2261, 2262, 2263, 2264, 2265, 2266, 2267, 2268}\n"
     ]
    }
   ],
   "source": [
    "# Get unique item_id\n",
    "unique_item_id = set(trip_data['item_id'])\n",
    "print(unique_item_id)"
   ]
  },
  {
   "cell_type": "code",
   "execution_count": 90,
   "metadata": {},
   "outputs": [
    {
     "name": "stdout",
     "output_type": "stream",
     "text": [
      "{32, 290, 1578, 17, 25}\n"
     ]
    }
   ],
   "source": [
    "# Get movieId that is rated by user id 9\n",
    "rated_item_id = set(trip_data.loc[trip_data['user_id']==9, 'item_id'])\n",
    "print(rated_item_id)"
   ]
  },
  {
   "cell_type": "code",
   "execution_count": 91,
   "metadata": {},
   "outputs": [
    {
     "name": "stdout",
     "output_type": "stream",
     "text": [
      "{0, 1, 2, 3, 4, 5, 6, 7, 8, 9, 10, 11, 12, 13, 14, 15, 16, 18, 19, 20, 21, 22, 23, 24, 26, 27, 28, 29, 30, 31, 33, 34, 35, 36, 37, 38, 39, 40, 41, 42, 43, 44, 45, 46, 47, 48, 49, 50, 51, 52, 53, 54, 55, 56, 57, 58, 59, 60, 61, 62, 63, 64, 65, 66, 67, 68, 69, 70, 71, 72, 73, 74, 75, 76, 77, 78, 79, 80, 81, 82, 83, 84, 85, 86, 87, 88, 89, 90, 91, 92, 93, 94, 95, 96, 97, 98, 99, 100, 101, 102, 103, 104, 105, 106, 107, 108, 109, 110, 111, 112, 113, 114, 115, 116, 117, 118, 119, 120, 121, 122, 123, 124, 125, 126, 127, 128, 129, 130, 131, 132, 133, 134, 135, 136, 137, 138, 139, 140, 141, 142, 143, 144, 145, 146, 147, 148, 149, 150, 151, 152, 153, 154, 155, 156, 157, 158, 159, 160, 161, 162, 163, 164, 165, 166, 167, 168, 169, 170, 171, 172, 173, 174, 175, 176, 177, 178, 179, 180, 181, 182, 183, 184, 185, 186, 187, 188, 189, 190, 191, 192, 193, 194, 195, 196, 197, 198, 199, 200, 201, 202, 203, 204, 205, 206, 207, 208, 209, 210, 211, 212, 213, 214, 215, 216, 217, 218, 219, 220, 221, 222, 223, 224, 225, 226, 227, 228, 229, 230, 231, 232, 233, 234, 235, 236, 237, 238, 239, 240, 241, 242, 243, 244, 245, 246, 247, 248, 249, 250, 251, 252, 253, 254, 255, 256, 257, 258, 259, 260, 261, 262, 263, 264, 265, 266, 267, 268, 269, 270, 271, 272, 273, 274, 275, 276, 277, 278, 279, 280, 281, 282, 283, 284, 285, 286, 287, 288, 289, 291, 292, 293, 294, 295, 296, 297, 298, 299, 300, 301, 302, 303, 304, 305, 306, 307, 308, 309, 310, 311, 312, 313, 314, 315, 316, 317, 318, 319, 320, 321, 322, 323, 324, 325, 326, 327, 328, 329, 330, 331, 332, 333, 334, 335, 336, 337, 338, 339, 340, 341, 342, 343, 344, 345, 346, 347, 348, 349, 350, 351, 352, 353, 354, 355, 356, 357, 358, 359, 360, 361, 362, 363, 364, 365, 366, 367, 368, 369, 370, 371, 372, 373, 374, 375, 376, 377, 378, 379, 380, 381, 382, 383, 384, 385, 386, 387, 388, 389, 390, 391, 392, 393, 394, 395, 396, 397, 398, 399, 400, 401, 402, 403, 404, 405, 406, 407, 408, 409, 410, 411, 412, 413, 414, 415, 416, 417, 418, 419, 420, 421, 422, 423, 424, 425, 426, 427, 428, 429, 430, 431, 432, 433, 434, 435, 436, 437, 438, 439, 440, 441, 442, 443, 444, 445, 446, 447, 448, 449, 450, 451, 452, 453, 454, 455, 456, 457, 458, 459, 460, 461, 462, 463, 464, 465, 466, 467, 468, 469, 470, 471, 472, 473, 474, 475, 476, 477, 478, 479, 480, 481, 482, 483, 484, 485, 486, 487, 488, 489, 490, 491, 492, 493, 494, 495, 496, 497, 498, 499, 500, 501, 502, 503, 504, 505, 506, 507, 508, 509, 510, 511, 512, 513, 514, 515, 516, 517, 518, 519, 520, 521, 522, 523, 524, 525, 526, 527, 528, 529, 530, 531, 532, 533, 534, 535, 536, 537, 538, 539, 540, 541, 542, 543, 544, 545, 546, 547, 548, 549, 550, 551, 552, 553, 554, 555, 556, 557, 558, 559, 560, 561, 562, 563, 564, 565, 566, 567, 568, 569, 570, 571, 572, 573, 574, 575, 576, 577, 578, 579, 580, 581, 582, 583, 584, 585, 586, 587, 588, 589, 590, 591, 592, 593, 594, 595, 596, 597, 598, 599, 600, 601, 602, 603, 604, 605, 606, 607, 608, 609, 610, 611, 612, 613, 614, 615, 616, 617, 618, 619, 620, 621, 622, 623, 624, 625, 626, 627, 628, 629, 630, 631, 632, 633, 634, 635, 636, 637, 638, 639, 640, 641, 642, 643, 644, 645, 646, 647, 648, 649, 650, 651, 652, 653, 654, 655, 656, 657, 658, 659, 660, 661, 662, 663, 664, 665, 666, 667, 668, 669, 670, 671, 672, 673, 674, 675, 676, 677, 678, 679, 680, 681, 682, 683, 684, 685, 686, 687, 688, 689, 690, 691, 692, 693, 694, 695, 696, 697, 698, 699, 700, 701, 702, 703, 704, 705, 706, 707, 708, 709, 710, 711, 712, 713, 714, 715, 716, 717, 718, 719, 720, 721, 722, 723, 724, 725, 726, 727, 728, 729, 730, 731, 732, 733, 734, 735, 736, 737, 738, 739, 740, 741, 742, 743, 744, 745, 746, 747, 748, 749, 750, 751, 752, 753, 754, 755, 756, 757, 758, 759, 760, 761, 762, 763, 764, 765, 766, 767, 768, 769, 770, 771, 772, 773, 774, 775, 776, 777, 778, 779, 780, 781, 782, 783, 784, 785, 786, 787, 788, 789, 790, 791, 792, 793, 794, 795, 796, 797, 798, 799, 800, 801, 802, 803, 804, 805, 806, 807, 808, 809, 810, 811, 812, 813, 814, 815, 816, 817, 818, 819, 820, 821, 822, 823, 824, 825, 826, 827, 828, 829, 830, 831, 832, 833, 834, 835, 836, 837, 838, 839, 840, 841, 842, 843, 844, 845, 846, 847, 848, 849, 850, 851, 852, 853, 854, 855, 856, 857, 858, 859, 860, 861, 862, 863, 864, 865, 866, 867, 868, 869, 870, 871, 872, 873, 874, 875, 876, 877, 878, 879, 880, 881, 882, 883, 884, 885, 886, 887, 888, 889, 890, 891, 892, 893, 894, 895, 896, 897, 898, 899, 900, 901, 902, 903, 904, 905, 906, 907, 908, 909, 910, 911, 912, 913, 914, 915, 916, 917, 918, 919, 920, 921, 922, 923, 924, 925, 926, 927, 928, 929, 930, 931, 932, 933, 934, 935, 936, 937, 938, 939, 940, 941, 942, 943, 944, 945, 946, 947, 948, 949, 950, 951, 952, 953, 954, 955, 956, 957, 958, 959, 960, 961, 962, 963, 964, 965, 966, 967, 968, 969, 970, 971, 972, 973, 974, 975, 976, 977, 978, 979, 980, 981, 982, 983, 984, 985, 986, 987, 988, 989, 990, 991, 992, 993, 994, 995, 996, 997, 998, 999, 1000, 1001, 1002, 1003, 1004, 1005, 1006, 1007, 1008, 1009, 1010, 1011, 1012, 1013, 1014, 1015, 1016, 1017, 1018, 1019, 1020, 1021, 1022, 1023, 1024, 1025, 1026, 1027, 1028, 1029, 1030, 1031, 1032, 1033, 1034, 1035, 1036, 1037, 1038, 1039, 1040, 1041, 1042, 1043, 1044, 1045, 1046, 1047, 1048, 1049, 1050, 1051, 1052, 1053, 1054, 1055, 1056, 1057, 1058, 1059, 1060, 1061, 1062, 1063, 1064, 1065, 1066, 1067, 1068, 1069, 1070, 1071, 1072, 1073, 1074, 1075, 1076, 1077, 1078, 1079, 1080, 1081, 1082, 1083, 1084, 1085, 1086, 1087, 1088, 1089, 1090, 1091, 1092, 1093, 1094, 1095, 1096, 1097, 1098, 1099, 1100, 1101, 1102, 1103, 1104, 1105, 1106, 1107, 1108, 1109, 1110, 1111, 1112, 1113, 1114, 1115, 1116, 1117, 1118, 1119, 1120, 1121, 1122, 1123, 1124, 1125, 1126, 1127, 1128, 1129, 1130, 1131, 1132, 1133, 1134, 1135, 1136, 1137, 1138, 1139, 1140, 1141, 1142, 1143, 1144, 1145, 1146, 1147, 1148, 1149, 1150, 1151, 1152, 1153, 1154, 1155, 1156, 1157, 1158, 1159, 1160, 1161, 1162, 1163, 1164, 1165, 1166, 1167, 1168, 1169, 1170, 1171, 1172, 1173, 1174, 1175, 1176, 1177, 1178, 1179, 1180, 1181, 1182, 1183, 1184, 1185, 1186, 1187, 1188, 1189, 1190, 1191, 1192, 1193, 1194, 1195, 1196, 1197, 1198, 1199, 1200, 1201, 1202, 1203, 1204, 1205, 1206, 1207, 1208, 1209, 1210, 1211, 1212, 1213, 1214, 1215, 1216, 1217, 1218, 1219, 1220, 1221, 1222, 1223, 1224, 1225, 1226, 1227, 1228, 1229, 1230, 1231, 1232, 1233, 1234, 1235, 1236, 1237, 1238, 1239, 1240, 1241, 1242, 1243, 1244, 1245, 1246, 1247, 1248, 1249, 1250, 1251, 1252, 1253, 1254, 1255, 1256, 1257, 1258, 1259, 1260, 1261, 1262, 1263, 1264, 1265, 1266, 1267, 1268, 1269, 1270, 1271, 1272, 1273, 1274, 1275, 1276, 1277, 1278, 1279, 1280, 1281, 1282, 1283, 1284, 1285, 1286, 1287, 1288, 1289, 1290, 1291, 1292, 1293, 1294, 1295, 1296, 1297, 1298, 1299, 1300, 1301, 1302, 1303, 1304, 1305, 1306, 1307, 1308, 1309, 1310, 1311, 1312, 1313, 1314, 1315, 1316, 1317, 1318, 1319, 1320, 1321, 1322, 1323, 1324, 1325, 1326, 1327, 1328, 1329, 1330, 1331, 1332, 1333, 1334, 1335, 1336, 1337, 1338, 1339, 1340, 1341, 1342, 1343, 1344, 1345, 1346, 1347, 1348, 1349, 1350, 1351, 1352, 1353, 1354, 1355, 1356, 1357, 1358, 1359, 1360, 1361, 1362, 1363, 1364, 1365, 1366, 1367, 1368, 1369, 1370, 1371, 1372, 1373, 1374, 1375, 1376, 1377, 1378, 1379, 1380, 1381, 1382, 1383, 1384, 1385, 1386, 1387, 1388, 1389, 1390, 1391, 1392, 1393, 1394, 1395, 1396, 1397, 1398, 1399, 1400, 1401, 1402, 1403, 1404, 1405, 1406, 1407, 1408, 1409, 1410, 1411, 1412, 1413, 1414, 1415, 1416, 1417, 1418, 1419, 1420, 1421, 1422, 1423, 1424, 1425, 1426, 1427, 1428, 1429, 1430, 1431, 1432, 1433, 1434, 1435, 1436, 1437, 1438, 1439, 1440, 1441, 1442, 1443, 1444, 1445, 1446, 1447, 1448, 1449, 1450, 1451, 1452, 1453, 1454, 1455, 1456, 1457, 1458, 1459, 1460, 1461, 1462, 1463, 1464, 1465, 1466, 1467, 1468, 1469, 1470, 1471, 1472, 1473, 1474, 1475, 1476, 1477, 1478, 1479, 1480, 1481, 1482, 1483, 1484, 1485, 1486, 1487, 1488, 1489, 1490, 1491, 1492, 1493, 1494, 1495, 1496, 1497, 1498, 1499, 1500, 1501, 1502, 1503, 1504, 1505, 1506, 1507, 1508, 1509, 1510, 1511, 1512, 1513, 1514, 1515, 1516, 1517, 1518, 1519, 1520, 1521, 1522, 1523, 1524, 1525, 1526, 1527, 1528, 1529, 1530, 1531, 1532, 1533, 1534, 1535, 1536, 1537, 1538, 1539, 1540, 1541, 1542, 1543, 1544, 1545, 1546, 1547, 1548, 1549, 1550, 1551, 1552, 1553, 1554, 1555, 1556, 1557, 1558, 1559, 1560, 1561, 1562, 1563, 1564, 1565, 1566, 1567, 1568, 1569, 1570, 1571, 1572, 1573, 1574, 1575, 1576, 1577, 1579, 1580, 1581, 1582, 1583, 1584, 1585, 1586, 1587, 1588, 1589, 1590, 1591, 1592, 1593, 1594, 1595, 1596, 1597, 1598, 1599, 1600, 1601, 1602, 1603, 1604, 1605, 1606, 1607, 1608, 1609, 1610, 1611, 1612, 1613, 1614, 1615, 1616, 1617, 1618, 1619, 1620, 1621, 1622, 1623, 1624, 1625, 1626, 1627, 1628, 1629, 1630, 1631, 1632, 1633, 1634, 1635, 1636, 1637, 1638, 1639, 1640, 1641, 1642, 1643, 1644, 1645, 1646, 1647, 1648, 1649, 1650, 1651, 1652, 1653, 1654, 1655, 1656, 1657, 1658, 1659, 1660, 1661, 1662, 1663, 1664, 1665, 1666, 1667, 1668, 1669, 1670, 1671, 1672, 1673, 1674, 1675, 1676, 1677, 1678, 1679, 1680, 1681, 1682, 1683, 1684, 1685, 1686, 1687, 1688, 1689, 1690, 1691, 1692, 1693, 1694, 1695, 1696, 1697, 1698, 1699, 1700, 1701, 1702, 1703, 1704, 1705, 1706, 1707, 1708, 1709, 1710, 1711, 1712, 1713, 1714, 1715, 1716, 1717, 1718, 1719, 1720, 1721, 1722, 1723, 1724, 1725, 1726, 1727, 1728, 1729, 1730, 1731, 1732, 1733, 1734, 1735, 1736, 1737, 1738, 1739, 1740, 1741, 1742, 1743, 1744, 1745, 1746, 1747, 1748, 1749, 1750, 1751, 1752, 1753, 1754, 1755, 1756, 1757, 1758, 1759, 1760, 1761, 1762, 1763, 1764, 1765, 1766, 1767, 1768, 1769, 1770, 1771, 1772, 1773, 1774, 1775, 1776, 1777, 1778, 1779, 1780, 1781, 1782, 1783, 1784, 1785, 1786, 1787, 1788, 1789, 1790, 1791, 1792, 1793, 1794, 1795, 1796, 1797, 1798, 1799, 1800, 1801, 1802, 1803, 1804, 1805, 1806, 1807, 1808, 1809, 1810, 1811, 1812, 1813, 1814, 1815, 1816, 1817, 1818, 1819, 1820, 1821, 1822, 1823, 1824, 1825, 1826, 1827, 1828, 1829, 1830, 1831, 1832, 1833, 1834, 1835, 1836, 1837, 1838, 1839, 1840, 1841, 1842, 1843, 1844, 1845, 1846, 1847, 1848, 1849, 1850, 1851, 1852, 1853, 1854, 1855, 1856, 1857, 1858, 1859, 1860, 1861, 1862, 1863, 1864, 1865, 1866, 1867, 1868, 1869, 1870, 1871, 1872, 1873, 1874, 1875, 1876, 1877, 1878, 1879, 1880, 1881, 1882, 1883, 1884, 1885, 1886, 1887, 1888, 1889, 1890, 1891, 1892, 1893, 1894, 1895, 1896, 1897, 1898, 1899, 1900, 1901, 1902, 1903, 1904, 1905, 1906, 1907, 1908, 1909, 1910, 1911, 1912, 1913, 1914, 1915, 1916, 1917, 1918, 1919, 1920, 1921, 1922, 1923, 1924, 1925, 1926, 1927, 1928, 1929, 1930, 1931, 1932, 1933, 1934, 1935, 1936, 1937, 1938, 1939, 1940, 1941, 1942, 1943, 1944, 1945, 1946, 1947, 1948, 1949, 1950, 1951, 1952, 1953, 1954, 1955, 1956, 1957, 1958, 1959, 1960, 1961, 1962, 1963, 1964, 1965, 1966, 1967, 1968, 1969, 1970, 1971, 1972, 1973, 1974, 1975, 1976, 1977, 1978, 1979, 1980, 1981, 1982, 1983, 1984, 1985, 1986, 1987, 1988, 1989, 1990, 1991, 1992, 1993, 1994, 1995, 1996, 1997, 1998, 1999, 2000, 2001, 2002, 2003, 2004, 2005, 2006, 2007, 2008, 2009, 2010, 2011, 2012, 2013, 2014, 2015, 2016, 2017, 2018, 2019, 2020, 2021, 2022, 2023, 2024, 2025, 2026, 2027, 2028, 2029, 2030, 2031, 2032, 2033, 2034, 2035, 2036, 2037, 2038, 2039, 2040, 2041, 2042, 2043, 2044, 2045, 2046, 2047, 2048, 2049, 2050, 2051, 2052, 2053, 2054, 2055, 2056, 2057, 2058, 2059, 2060, 2061, 2062, 2063, 2064, 2065, 2066, 2067, 2068, 2069, 2070, 2071, 2072, 2073, 2074, 2075, 2076, 2077, 2078, 2079, 2080, 2081, 2082, 2083, 2084, 2085, 2086, 2087, 2088, 2089, 2090, 2091, 2092, 2093, 2094, 2095, 2096, 2097, 2098, 2099, 2100, 2101, 2102, 2103, 2104, 2105, 2106, 2107, 2108, 2109, 2110, 2111, 2112, 2113, 2114, 2115, 2116, 2117, 2118, 2119, 2120, 2121, 2122, 2123, 2124, 2125, 2126, 2127, 2128, 2129, 2130, 2131, 2132, 2133, 2134, 2135, 2136, 2137, 2138, 2139, 2140, 2141, 2142, 2143, 2144, 2145, 2146, 2147, 2148, 2149, 2150, 2151, 2152, 2153, 2154, 2155, 2156, 2157, 2158, 2159, 2160, 2161, 2162, 2163, 2164, 2165, 2166, 2167, 2168, 2169, 2170, 2171, 2172, 2173, 2174, 2175, 2176, 2177, 2178, 2179, 2180, 2181, 2182, 2183, 2184, 2185, 2186, 2187, 2188, 2189, 2190, 2191, 2192, 2193, 2194, 2195, 2196, 2197, 2198, 2199, 2200, 2201, 2202, 2203, 2204, 2205, 2206, 2207, 2208, 2209, 2210, 2211, 2212, 2213, 2214, 2215, 2216, 2217, 2218, 2219, 2220, 2221, 2222, 2223, 2224, 2225, 2226, 2227, 2228, 2229, 2230, 2231, 2232, 2233, 2234, 2235, 2236, 2237, 2238, 2239, 2240, 2241, 2242, 2243, 2244, 2245, 2246, 2247, 2248, 2249, 2250, 2251, 2252, 2253, 2254, 2255, 2256, 2257, 2258, 2259, 2260, 2261, 2262, 2263, 2264, 2265, 2266, 2267, 2268}\n"
     ]
    }
   ],
   "source": [
    "#find unrated item_id\n",
    "# unrateddId = wholeId - ratedId\n",
    "unrated_item_id = unique_item_id.difference(rated_item_id)\n",
    "print(unrated_item_id)"
   ]
  },
  {
   "cell_type": "code",
   "execution_count": 92,
   "metadata": {},
   "outputs": [],
   "source": [
    "# Let's create a function\n",
    "def get_unrated_item(userid, trip_data):\n",
    "    \"\"\"\n",
    "    Get unrated item id from a user id\n",
    "\n",
    "    Parameters\n",
    "    ----------\n",
    "    userid : int\n",
    "        The user id\n",
    "\n",
    "    trip_data : pandas DataFrame\n",
    "        The trip_data\n",
    "\n",
    "    Returns\n",
    "    -------\n",
    "    unrated_item_id : set\n",
    "        The unrated item id\n",
    "    \"\"\"\n",
    "    # Find the whole item id\n",
    "    unique_item_id = set(trip_data['item_id'])\n",
    "\n",
    "    # Find the item id that was rated by user id\n",
    "    rated_item_id = set(trip_data.loc[trip_data['user_id']==userid, 'item_id'])\n",
    "\n",
    "    # Find the unrated item id\n",
    "    unrated_item_id = unique_item_id.difference(rated_item_id)\n",
    "\n",
    "    return unrated_item_id"
   ]
  },
  {
   "cell_type": "code",
   "execution_count": 93,
   "metadata": {},
   "outputs": [
    {
     "name": "stdout",
     "output_type": "stream",
     "text": [
      "{0, 1, 2, 3, 4, 5, 6, 7, 8, 9, 10, 11, 12, 13, 14, 15, 16, 18, 19, 20, 21, 22, 23, 24, 26, 27, 28, 29, 30, 31, 33, 34, 35, 36, 37, 38, 39, 40, 41, 42, 43, 44, 45, 46, 47, 48, 49, 50, 51, 52, 53, 54, 55, 56, 57, 58, 59, 60, 61, 62, 63, 64, 65, 66, 67, 68, 69, 70, 71, 72, 73, 74, 75, 76, 77, 78, 79, 80, 81, 82, 83, 84, 85, 86, 87, 88, 89, 90, 91, 92, 93, 94, 95, 96, 97, 98, 99, 100, 101, 102, 103, 104, 105, 106, 107, 108, 109, 110, 111, 112, 113, 114, 115, 116, 117, 118, 119, 120, 121, 122, 123, 124, 125, 126, 127, 128, 129, 130, 131, 132, 133, 134, 135, 136, 137, 138, 139, 140, 141, 142, 143, 144, 145, 146, 147, 148, 149, 150, 151, 152, 153, 154, 155, 156, 157, 158, 159, 160, 161, 162, 163, 164, 165, 166, 167, 168, 169, 170, 171, 172, 173, 174, 175, 176, 177, 178, 179, 180, 181, 182, 183, 184, 185, 186, 187, 188, 189, 190, 191, 192, 193, 194, 195, 196, 197, 198, 199, 200, 201, 202, 203, 204, 205, 206, 207, 208, 209, 210, 211, 212, 213, 214, 215, 216, 217, 218, 219, 220, 221, 222, 223, 224, 225, 226, 227, 228, 229, 230, 231, 232, 233, 234, 235, 236, 237, 238, 239, 240, 241, 242, 243, 244, 245, 246, 247, 248, 249, 250, 251, 252, 253, 254, 255, 256, 257, 258, 259, 260, 261, 262, 263, 264, 265, 266, 267, 268, 269, 270, 271, 272, 273, 274, 275, 276, 277, 278, 279, 280, 281, 282, 283, 284, 285, 286, 287, 288, 289, 291, 292, 293, 294, 295, 296, 297, 298, 299, 300, 301, 302, 303, 304, 305, 306, 307, 308, 309, 310, 311, 312, 313, 314, 315, 316, 317, 318, 319, 320, 321, 322, 323, 324, 325, 326, 327, 328, 329, 330, 331, 332, 333, 334, 335, 336, 337, 338, 339, 340, 341, 342, 343, 344, 345, 346, 347, 348, 349, 350, 351, 352, 353, 354, 355, 356, 357, 358, 359, 360, 361, 362, 363, 364, 365, 366, 367, 368, 369, 370, 371, 372, 373, 374, 375, 376, 377, 378, 379, 380, 381, 382, 383, 384, 385, 386, 387, 388, 389, 390, 391, 392, 393, 394, 395, 396, 397, 398, 399, 400, 401, 402, 403, 404, 405, 406, 407, 408, 409, 410, 411, 412, 413, 414, 415, 416, 417, 418, 419, 420, 421, 422, 423, 424, 425, 426, 427, 428, 429, 430, 431, 432, 433, 434, 435, 436, 437, 438, 439, 440, 441, 442, 443, 444, 445, 446, 447, 448, 449, 450, 451, 452, 453, 454, 455, 456, 457, 458, 459, 460, 461, 462, 463, 464, 465, 466, 467, 468, 469, 470, 471, 472, 473, 474, 475, 476, 477, 478, 479, 480, 481, 482, 483, 484, 485, 486, 487, 488, 489, 490, 491, 492, 493, 494, 495, 496, 497, 498, 499, 500, 501, 502, 503, 504, 505, 506, 507, 508, 509, 510, 511, 512, 513, 514, 515, 516, 517, 518, 519, 520, 521, 522, 523, 524, 525, 526, 527, 528, 529, 530, 531, 532, 533, 534, 535, 536, 537, 538, 539, 540, 541, 542, 543, 544, 545, 546, 547, 548, 549, 550, 551, 552, 553, 554, 555, 556, 557, 558, 559, 560, 561, 562, 563, 564, 565, 566, 567, 568, 569, 570, 571, 572, 573, 574, 575, 576, 577, 578, 579, 580, 581, 582, 583, 584, 585, 586, 587, 588, 589, 590, 591, 592, 593, 594, 595, 596, 597, 598, 599, 600, 601, 602, 603, 604, 605, 606, 607, 608, 609, 610, 611, 612, 613, 614, 615, 616, 617, 618, 619, 620, 621, 622, 623, 624, 625, 626, 627, 628, 629, 630, 631, 632, 633, 634, 635, 636, 637, 638, 639, 640, 641, 642, 643, 644, 645, 646, 647, 648, 649, 650, 651, 652, 653, 654, 655, 656, 657, 658, 659, 660, 661, 662, 663, 664, 665, 666, 667, 668, 669, 670, 671, 672, 673, 674, 675, 676, 677, 678, 679, 680, 681, 682, 683, 684, 685, 686, 687, 688, 689, 690, 691, 692, 693, 694, 695, 696, 697, 698, 699, 700, 701, 702, 703, 704, 705, 706, 707, 708, 709, 710, 711, 712, 713, 714, 715, 716, 717, 718, 719, 720, 721, 722, 723, 724, 725, 726, 727, 728, 729, 730, 731, 732, 733, 734, 735, 736, 737, 738, 739, 740, 741, 742, 743, 744, 745, 746, 747, 748, 749, 750, 751, 752, 753, 754, 755, 756, 757, 758, 759, 760, 761, 762, 763, 764, 765, 766, 767, 768, 769, 770, 771, 772, 773, 774, 775, 776, 777, 778, 779, 780, 781, 782, 783, 784, 785, 786, 787, 788, 789, 790, 791, 792, 793, 794, 795, 796, 797, 798, 799, 800, 801, 802, 803, 804, 805, 806, 807, 808, 809, 810, 811, 812, 813, 814, 815, 816, 817, 818, 819, 820, 821, 822, 823, 824, 825, 826, 827, 828, 829, 830, 831, 832, 833, 834, 835, 836, 837, 838, 839, 840, 841, 842, 843, 844, 845, 846, 847, 848, 849, 850, 851, 852, 853, 854, 855, 856, 857, 858, 859, 860, 861, 862, 863, 864, 865, 866, 867, 868, 869, 870, 871, 872, 873, 874, 875, 876, 877, 878, 879, 880, 881, 882, 883, 884, 885, 886, 887, 888, 889, 890, 891, 892, 893, 894, 895, 896, 897, 898, 899, 900, 901, 902, 903, 904, 905, 906, 907, 908, 909, 910, 911, 912, 913, 914, 915, 916, 917, 918, 919, 920, 921, 922, 923, 924, 925, 926, 927, 928, 929, 930, 931, 932, 933, 934, 935, 936, 937, 938, 939, 940, 941, 942, 943, 944, 945, 946, 947, 948, 949, 950, 951, 952, 953, 954, 955, 956, 957, 958, 959, 960, 961, 962, 963, 964, 965, 966, 967, 968, 969, 970, 971, 972, 973, 974, 975, 976, 977, 978, 979, 980, 981, 982, 983, 984, 985, 986, 987, 988, 989, 990, 991, 992, 993, 994, 995, 996, 997, 998, 999, 1000, 1001, 1002, 1003, 1004, 1005, 1006, 1007, 1008, 1009, 1010, 1011, 1012, 1013, 1014, 1015, 1016, 1017, 1018, 1019, 1020, 1021, 1022, 1023, 1024, 1025, 1026, 1027, 1028, 1029, 1030, 1031, 1032, 1033, 1034, 1035, 1036, 1037, 1038, 1039, 1040, 1041, 1042, 1043, 1044, 1045, 1046, 1047, 1048, 1049, 1050, 1051, 1052, 1053, 1054, 1055, 1056, 1057, 1058, 1059, 1060, 1061, 1062, 1063, 1064, 1065, 1066, 1067, 1068, 1069, 1070, 1071, 1072, 1073, 1074, 1075, 1076, 1077, 1078, 1079, 1080, 1081, 1082, 1083, 1084, 1085, 1086, 1087, 1088, 1089, 1090, 1091, 1092, 1093, 1094, 1095, 1096, 1097, 1098, 1099, 1100, 1101, 1102, 1103, 1104, 1105, 1106, 1107, 1108, 1109, 1110, 1111, 1112, 1113, 1114, 1115, 1116, 1117, 1118, 1119, 1120, 1121, 1122, 1123, 1124, 1125, 1126, 1127, 1128, 1129, 1130, 1131, 1132, 1133, 1134, 1135, 1136, 1137, 1138, 1139, 1140, 1141, 1142, 1143, 1144, 1145, 1146, 1147, 1148, 1149, 1150, 1151, 1152, 1153, 1154, 1155, 1156, 1157, 1158, 1159, 1160, 1161, 1162, 1163, 1164, 1165, 1166, 1167, 1168, 1169, 1170, 1171, 1172, 1173, 1174, 1175, 1176, 1177, 1178, 1179, 1180, 1181, 1182, 1183, 1184, 1185, 1186, 1187, 1188, 1189, 1190, 1191, 1192, 1193, 1194, 1195, 1196, 1197, 1198, 1199, 1200, 1201, 1202, 1203, 1204, 1205, 1206, 1207, 1208, 1209, 1210, 1211, 1212, 1213, 1214, 1215, 1216, 1217, 1218, 1219, 1220, 1221, 1222, 1223, 1224, 1225, 1226, 1227, 1228, 1229, 1230, 1231, 1232, 1233, 1234, 1235, 1236, 1237, 1238, 1239, 1240, 1241, 1242, 1243, 1244, 1245, 1246, 1247, 1248, 1249, 1250, 1251, 1252, 1253, 1254, 1255, 1256, 1257, 1258, 1259, 1260, 1261, 1262, 1263, 1264, 1265, 1266, 1267, 1268, 1269, 1270, 1271, 1272, 1273, 1274, 1275, 1276, 1277, 1278, 1279, 1280, 1281, 1282, 1283, 1284, 1285, 1286, 1287, 1288, 1289, 1290, 1291, 1292, 1293, 1294, 1295, 1296, 1297, 1298, 1299, 1300, 1301, 1302, 1303, 1304, 1305, 1306, 1307, 1308, 1309, 1310, 1311, 1312, 1313, 1314, 1315, 1316, 1317, 1318, 1319, 1320, 1321, 1322, 1323, 1324, 1325, 1326, 1327, 1328, 1329, 1330, 1331, 1332, 1333, 1334, 1335, 1336, 1337, 1338, 1339, 1340, 1341, 1342, 1343, 1344, 1345, 1346, 1347, 1348, 1349, 1350, 1351, 1352, 1353, 1354, 1355, 1356, 1357, 1358, 1359, 1360, 1361, 1362, 1363, 1364, 1365, 1366, 1367, 1368, 1369, 1370, 1371, 1372, 1373, 1374, 1375, 1376, 1377, 1378, 1379, 1380, 1381, 1382, 1383, 1384, 1385, 1386, 1387, 1388, 1389, 1390, 1391, 1392, 1393, 1394, 1395, 1396, 1397, 1398, 1399, 1400, 1401, 1402, 1403, 1404, 1405, 1406, 1407, 1408, 1409, 1410, 1411, 1412, 1413, 1414, 1415, 1416, 1417, 1418, 1419, 1420, 1421, 1422, 1423, 1424, 1425, 1426, 1427, 1428, 1429, 1430, 1431, 1432, 1433, 1434, 1435, 1436, 1437, 1438, 1439, 1440, 1441, 1442, 1443, 1444, 1445, 1446, 1447, 1448, 1449, 1450, 1451, 1452, 1453, 1454, 1455, 1456, 1457, 1458, 1459, 1460, 1461, 1462, 1463, 1464, 1465, 1466, 1467, 1468, 1469, 1470, 1471, 1472, 1473, 1474, 1475, 1476, 1477, 1478, 1479, 1480, 1481, 1482, 1483, 1484, 1485, 1486, 1487, 1488, 1489, 1490, 1491, 1492, 1493, 1494, 1495, 1496, 1497, 1498, 1499, 1500, 1501, 1502, 1503, 1504, 1505, 1506, 1507, 1508, 1509, 1510, 1511, 1512, 1513, 1514, 1515, 1516, 1517, 1518, 1519, 1520, 1521, 1522, 1523, 1524, 1525, 1526, 1527, 1528, 1529, 1530, 1531, 1532, 1533, 1534, 1535, 1536, 1537, 1538, 1539, 1540, 1541, 1542, 1543, 1544, 1545, 1546, 1547, 1548, 1549, 1550, 1551, 1552, 1553, 1554, 1555, 1556, 1557, 1558, 1559, 1560, 1561, 1562, 1563, 1564, 1565, 1566, 1567, 1568, 1569, 1570, 1571, 1572, 1573, 1574, 1575, 1576, 1577, 1579, 1580, 1581, 1582, 1583, 1584, 1585, 1586, 1587, 1588, 1589, 1590, 1591, 1592, 1593, 1594, 1595, 1596, 1597, 1598, 1599, 1600, 1601, 1602, 1603, 1604, 1605, 1606, 1607, 1608, 1609, 1610, 1611, 1612, 1613, 1614, 1615, 1616, 1617, 1618, 1619, 1620, 1621, 1622, 1623, 1624, 1625, 1626, 1627, 1628, 1629, 1630, 1631, 1632, 1633, 1634, 1635, 1636, 1637, 1638, 1639, 1640, 1641, 1642, 1643, 1644, 1645, 1646, 1647, 1648, 1649, 1650, 1651, 1652, 1653, 1654, 1655, 1656, 1657, 1658, 1659, 1660, 1661, 1662, 1663, 1664, 1665, 1666, 1667, 1668, 1669, 1670, 1671, 1672, 1673, 1674, 1675, 1676, 1677, 1678, 1679, 1680, 1681, 1682, 1683, 1684, 1685, 1686, 1687, 1688, 1689, 1690, 1691, 1692, 1693, 1694, 1695, 1696, 1697, 1698, 1699, 1700, 1701, 1702, 1703, 1704, 1705, 1706, 1707, 1708, 1709, 1710, 1711, 1712, 1713, 1714, 1715, 1716, 1717, 1718, 1719, 1720, 1721, 1722, 1723, 1724, 1725, 1726, 1727, 1728, 1729, 1730, 1731, 1732, 1733, 1734, 1735, 1736, 1737, 1738, 1739, 1740, 1741, 1742, 1743, 1744, 1745, 1746, 1747, 1748, 1749, 1750, 1751, 1752, 1753, 1754, 1755, 1756, 1757, 1758, 1759, 1760, 1761, 1762, 1763, 1764, 1765, 1766, 1767, 1768, 1769, 1770, 1771, 1772, 1773, 1774, 1775, 1776, 1777, 1778, 1779, 1780, 1781, 1782, 1783, 1784, 1785, 1786, 1787, 1788, 1789, 1790, 1791, 1792, 1793, 1794, 1795, 1796, 1797, 1798, 1799, 1800, 1801, 1802, 1803, 1804, 1805, 1806, 1807, 1808, 1809, 1810, 1811, 1812, 1813, 1814, 1815, 1816, 1817, 1818, 1819, 1820, 1821, 1822, 1823, 1824, 1825, 1826, 1827, 1828, 1829, 1830, 1831, 1832, 1833, 1834, 1835, 1836, 1837, 1838, 1839, 1840, 1841, 1842, 1843, 1844, 1845, 1846, 1847, 1848, 1849, 1850, 1851, 1852, 1853, 1854, 1855, 1856, 1857, 1858, 1859, 1860, 1861, 1862, 1863, 1864, 1865, 1866, 1867, 1868, 1869, 1870, 1871, 1872, 1873, 1874, 1875, 1876, 1877, 1878, 1879, 1880, 1881, 1882, 1883, 1884, 1885, 1886, 1887, 1888, 1889, 1890, 1891, 1892, 1893, 1894, 1895, 1896, 1897, 1898, 1899, 1900, 1901, 1902, 1903, 1904, 1905, 1906, 1907, 1908, 1909, 1910, 1911, 1912, 1913, 1914, 1915, 1916, 1917, 1918, 1919, 1920, 1921, 1922, 1923, 1924, 1925, 1926, 1927, 1928, 1929, 1930, 1931, 1932, 1933, 1934, 1935, 1936, 1937, 1938, 1939, 1940, 1941, 1942, 1943, 1944, 1945, 1946, 1947, 1948, 1949, 1950, 1951, 1952, 1953, 1954, 1955, 1956, 1957, 1958, 1959, 1960, 1961, 1962, 1963, 1964, 1965, 1966, 1967, 1968, 1969, 1970, 1971, 1972, 1973, 1974, 1975, 1976, 1977, 1978, 1979, 1980, 1981, 1982, 1983, 1984, 1985, 1986, 1987, 1988, 1989, 1990, 1991, 1992, 1993, 1994, 1995, 1996, 1997, 1998, 1999, 2000, 2001, 2002, 2003, 2004, 2005, 2006, 2007, 2008, 2009, 2010, 2011, 2012, 2013, 2014, 2015, 2016, 2017, 2018, 2019, 2020, 2021, 2022, 2023, 2024, 2025, 2026, 2027, 2028, 2029, 2030, 2031, 2032, 2033, 2034, 2035, 2036, 2037, 2038, 2039, 2040, 2041, 2042, 2043, 2044, 2045, 2046, 2047, 2048, 2049, 2050, 2051, 2052, 2053, 2054, 2055, 2056, 2057, 2058, 2059, 2060, 2061, 2062, 2063, 2064, 2065, 2066, 2067, 2068, 2069, 2070, 2071, 2072, 2073, 2074, 2075, 2076, 2077, 2078, 2079, 2080, 2081, 2082, 2083, 2084, 2085, 2086, 2087, 2088, 2089, 2090, 2091, 2092, 2093, 2094, 2095, 2096, 2097, 2098, 2099, 2100, 2101, 2102, 2103, 2104, 2105, 2106, 2107, 2108, 2109, 2110, 2111, 2112, 2113, 2114, 2115, 2116, 2117, 2118, 2119, 2120, 2121, 2122, 2123, 2124, 2125, 2126, 2127, 2128, 2129, 2130, 2131, 2132, 2133, 2134, 2135, 2136, 2137, 2138, 2139, 2140, 2141, 2142, 2143, 2144, 2145, 2146, 2147, 2148, 2149, 2150, 2151, 2152, 2153, 2154, 2155, 2156, 2157, 2158, 2159, 2160, 2161, 2162, 2163, 2164, 2165, 2166, 2167, 2168, 2169, 2170, 2171, 2172, 2173, 2174, 2175, 2176, 2177, 2178, 2179, 2180, 2181, 2182, 2183, 2184, 2185, 2186, 2187, 2188, 2189, 2190, 2191, 2192, 2193, 2194, 2195, 2196, 2197, 2198, 2199, 2200, 2201, 2202, 2203, 2204, 2205, 2206, 2207, 2208, 2209, 2210, 2211, 2212, 2213, 2214, 2215, 2216, 2217, 2218, 2219, 2220, 2221, 2222, 2223, 2224, 2225, 2226, 2227, 2228, 2229, 2230, 2231, 2232, 2233, 2234, 2235, 2236, 2237, 2238, 2239, 2240, 2241, 2242, 2243, 2244, 2245, 2246, 2247, 2248, 2249, 2250, 2251, 2252, 2253, 2254, 2255, 2256, 2257, 2258, 2259, 2260, 2261, 2262, 2263, 2264, 2265, 2266, 2267, 2268}\n"
     ]
    }
   ],
   "source": [
    "unrated_item_id = get_unrated_item(userid=9, trip_data=trip_data)\n",
    "print(unrated_item_id)"
   ]
  },
  {
   "cell_type": "markdown",
   "metadata": {},
   "source": [
    "**Later, we create the prediction from the unrated movie**"
   ]
  },
  {
   "cell_type": "code",
   "execution_count": 94,
   "metadata": {},
   "outputs": [
    {
     "data": {
      "text/plain": [
       "{'user_id': 9, 'item_id': [], 'predicted_rating': []}"
      ]
     },
     "execution_count": 94,
     "metadata": {},
     "output_type": "execute_result"
    }
   ],
   "source": [
    "# Initialize dict\n",
    "predicted_unrated_travel = {\n",
    "    'user_id': 9,\n",
    "    'item_id': [],\n",
    "    'predicted_rating': []\n",
    "}\n",
    "\n",
    "predicted_unrated_travel"
   ]
  },
  {
   "cell_type": "code",
   "execution_count": 95,
   "metadata": {},
   "outputs": [],
   "source": [
    "# Loop for over all unrated item  Id\n",
    "for id in unrated_item_id:\n",
    "    # Create a prediction\n",
    "    pred_id = model_best.predict(uid = predicted_unrated_travel['user_id'],\n",
    "                                 iid = id)\n",
    "\n",
    "    # Append\n",
    "    predicted_unrated_travel['item_id'].append(id)\n",
    "    predicted_unrated_travel['predicted_rating'].append(pred_id.est)"
   ]
  },
  {
   "cell_type": "code",
   "execution_count": 96,
   "metadata": {},
   "outputs": [
    {
     "data": {
      "text/html": [
       "<div>\n",
       "<style scoped>\n",
       "    .dataframe tbody tr th:only-of-type {\n",
       "        vertical-align: middle;\n",
       "    }\n",
       "\n",
       "    .dataframe tbody tr th {\n",
       "        vertical-align: top;\n",
       "    }\n",
       "\n",
       "    .dataframe thead th {\n",
       "        text-align: right;\n",
       "    }\n",
       "</style>\n",
       "<table border=\"1\" class=\"dataframe\">\n",
       "  <thead>\n",
       "    <tr style=\"text-align: right;\">\n",
       "      <th></th>\n",
       "      <th>user_id</th>\n",
       "      <th>item_id</th>\n",
       "      <th>predicted_rating</th>\n",
       "    </tr>\n",
       "  </thead>\n",
       "  <tbody>\n",
       "    <tr>\n",
       "      <th>0</th>\n",
       "      <td>9</td>\n",
       "      <td>0</td>\n",
       "      <td>4.263288</td>\n",
       "    </tr>\n",
       "    <tr>\n",
       "      <th>1</th>\n",
       "      <td>9</td>\n",
       "      <td>1</td>\n",
       "      <td>4.223237</td>\n",
       "    </tr>\n",
       "    <tr>\n",
       "      <th>2</th>\n",
       "      <td>9</td>\n",
       "      <td>2</td>\n",
       "      <td>4.206567</td>\n",
       "    </tr>\n",
       "    <tr>\n",
       "      <th>3</th>\n",
       "      <td>9</td>\n",
       "      <td>3</td>\n",
       "      <td>4.209963</td>\n",
       "    </tr>\n",
       "    <tr>\n",
       "      <th>4</th>\n",
       "      <td>9</td>\n",
       "      <td>4</td>\n",
       "      <td>4.191376</td>\n",
       "    </tr>\n",
       "    <tr>\n",
       "      <th>...</th>\n",
       "      <td>...</td>\n",
       "      <td>...</td>\n",
       "      <td>...</td>\n",
       "    </tr>\n",
       "    <tr>\n",
       "      <th>2259</th>\n",
       "      <td>9</td>\n",
       "      <td>2264</td>\n",
       "      <td>4.275646</td>\n",
       "    </tr>\n",
       "    <tr>\n",
       "      <th>2260</th>\n",
       "      <td>9</td>\n",
       "      <td>2265</td>\n",
       "      <td>4.162224</td>\n",
       "    </tr>\n",
       "    <tr>\n",
       "      <th>2261</th>\n",
       "      <td>9</td>\n",
       "      <td>2266</td>\n",
       "      <td>4.098858</td>\n",
       "    </tr>\n",
       "    <tr>\n",
       "      <th>2262</th>\n",
       "      <td>9</td>\n",
       "      <td>2267</td>\n",
       "      <td>4.293101</td>\n",
       "    </tr>\n",
       "    <tr>\n",
       "      <th>2263</th>\n",
       "      <td>9</td>\n",
       "      <td>2268</td>\n",
       "      <td>4.027535</td>\n",
       "    </tr>\n",
       "  </tbody>\n",
       "</table>\n",
       "<p>2264 rows × 3 columns</p>\n",
       "</div>"
      ],
      "text/plain": [
       "      user_id  item_id  predicted_rating\n",
       "0           9        0          4.263288\n",
       "1           9        1          4.223237\n",
       "2           9        2          4.206567\n",
       "3           9        3          4.209963\n",
       "4           9        4          4.191376\n",
       "...       ...      ...               ...\n",
       "2259        9     2264          4.275646\n",
       "2260        9     2265          4.162224\n",
       "2261        9     2266          4.098858\n",
       "2262        9     2267          4.293101\n",
       "2263        9     2268          4.027535\n",
       "\n",
       "[2264 rows x 3 columns]"
      ]
     },
     "execution_count": 96,
     "metadata": {},
     "output_type": "execute_result"
    }
   ],
   "source": [
    "# Convert to dataframe\n",
    "predicted_unrated_travel_df = pd.DataFrame(predicted_unrated_travel)\n",
    "predicted_unrated_travel_df"
   ]
  },
  {
   "cell_type": "code",
   "execution_count": 97,
   "metadata": {},
   "outputs": [
    {
     "data": {
      "text/html": [
       "<div>\n",
       "<style scoped>\n",
       "    .dataframe tbody tr th:only-of-type {\n",
       "        vertical-align: middle;\n",
       "    }\n",
       "\n",
       "    .dataframe tbody tr th {\n",
       "        vertical-align: top;\n",
       "    }\n",
       "\n",
       "    .dataframe thead th {\n",
       "        text-align: right;\n",
       "    }\n",
       "</style>\n",
       "<table border=\"1\" class=\"dataframe\">\n",
       "  <thead>\n",
       "    <tr style=\"text-align: right;\">\n",
       "      <th></th>\n",
       "      <th>user_id</th>\n",
       "      <th>item_id</th>\n",
       "      <th>predicted_rating</th>\n",
       "    </tr>\n",
       "  </thead>\n",
       "  <tbody>\n",
       "    <tr>\n",
       "      <th>count</th>\n",
       "      <td>2264.0</td>\n",
       "      <td>2264.000000</td>\n",
       "      <td>2264.000000</td>\n",
       "    </tr>\n",
       "    <tr>\n",
       "      <th>mean</th>\n",
       "      <td>9.0</td>\n",
       "      <td>1135.646643</td>\n",
       "      <td>4.161772</td>\n",
       "    </tr>\n",
       "    <tr>\n",
       "      <th>std</th>\n",
       "      <td>0.0</td>\n",
       "      <td>654.317550</td>\n",
       "      <td>0.086562</td>\n",
       "    </tr>\n",
       "    <tr>\n",
       "      <th>min</th>\n",
       "      <td>9.0</td>\n",
       "      <td>0.000000</td>\n",
       "      <td>3.845924</td>\n",
       "    </tr>\n",
       "    <tr>\n",
       "      <th>25%</th>\n",
       "      <td>9.0</td>\n",
       "      <td>569.750000</td>\n",
       "      <td>4.106018</td>\n",
       "    </tr>\n",
       "    <tr>\n",
       "      <th>50%</th>\n",
       "      <td>9.0</td>\n",
       "      <td>1135.500000</td>\n",
       "      <td>4.162224</td>\n",
       "    </tr>\n",
       "    <tr>\n",
       "      <th>75%</th>\n",
       "      <td>9.0</td>\n",
       "      <td>1702.250000</td>\n",
       "      <td>4.215360</td>\n",
       "    </tr>\n",
       "    <tr>\n",
       "      <th>max</th>\n",
       "      <td>9.0</td>\n",
       "      <td>2268.000000</td>\n",
       "      <td>4.463771</td>\n",
       "    </tr>\n",
       "  </tbody>\n",
       "</table>\n",
       "</div>"
      ],
      "text/plain": [
       "       user_id      item_id  predicted_rating\n",
       "count   2264.0  2264.000000       2264.000000\n",
       "mean       9.0  1135.646643          4.161772\n",
       "std        0.0   654.317550          0.086562\n",
       "min        9.0     0.000000          3.845924\n",
       "25%        9.0   569.750000          4.106018\n",
       "50%        9.0  1135.500000          4.162224\n",
       "75%        9.0  1702.250000          4.215360\n",
       "max        9.0  2268.000000          4.463771"
      ]
     },
     "execution_count": 97,
     "metadata": {},
     "output_type": "execute_result"
    }
   ],
   "source": [
    "predicted_unrated_travel_df.describe()"
   ]
  },
  {
   "cell_type": "code",
   "execution_count": 98,
   "metadata": {},
   "outputs": [
    {
     "data": {
      "text/html": [
       "<div>\n",
       "<style scoped>\n",
       "    .dataframe tbody tr th:only-of-type {\n",
       "        vertical-align: middle;\n",
       "    }\n",
       "\n",
       "    .dataframe tbody tr th {\n",
       "        vertical-align: top;\n",
       "    }\n",
       "\n",
       "    .dataframe thead th {\n",
       "        text-align: right;\n",
       "    }\n",
       "</style>\n",
       "<table border=\"1\" class=\"dataframe\">\n",
       "  <thead>\n",
       "    <tr style=\"text-align: right;\">\n",
       "      <th></th>\n",
       "      <th>user_id</th>\n",
       "      <th>item_id</th>\n",
       "      <th>predicted_rating</th>\n",
       "    </tr>\n",
       "  </thead>\n",
       "  <tbody>\n",
       "    <tr>\n",
       "      <th>48</th>\n",
       "      <td>9</td>\n",
       "      <td>51</td>\n",
       "      <td>4.463771</td>\n",
       "    </tr>\n",
       "    <tr>\n",
       "      <th>1872</th>\n",
       "      <td>9</td>\n",
       "      <td>1877</td>\n",
       "      <td>4.442840</td>\n",
       "    </tr>\n",
       "    <tr>\n",
       "      <th>1605</th>\n",
       "      <td>9</td>\n",
       "      <td>1610</td>\n",
       "      <td>4.433984</td>\n",
       "    </tr>\n",
       "    <tr>\n",
       "      <th>1954</th>\n",
       "      <td>9</td>\n",
       "      <td>1959</td>\n",
       "      <td>4.427443</td>\n",
       "    </tr>\n",
       "    <tr>\n",
       "      <th>1944</th>\n",
       "      <td>9</td>\n",
       "      <td>1949</td>\n",
       "      <td>4.426140</td>\n",
       "    </tr>\n",
       "    <tr>\n",
       "      <th>...</th>\n",
       "      <td>...</td>\n",
       "      <td>...</td>\n",
       "      <td>...</td>\n",
       "    </tr>\n",
       "    <tr>\n",
       "      <th>2013</th>\n",
       "      <td>9</td>\n",
       "      <td>2018</td>\n",
       "      <td>3.878541</td>\n",
       "    </tr>\n",
       "    <tr>\n",
       "      <th>2234</th>\n",
       "      <td>9</td>\n",
       "      <td>2239</td>\n",
       "      <td>3.873220</td>\n",
       "    </tr>\n",
       "    <tr>\n",
       "      <th>992</th>\n",
       "      <td>9</td>\n",
       "      <td>996</td>\n",
       "      <td>3.872239</td>\n",
       "    </tr>\n",
       "    <tr>\n",
       "      <th>134</th>\n",
       "      <td>9</td>\n",
       "      <td>137</td>\n",
       "      <td>3.871873</td>\n",
       "    </tr>\n",
       "    <tr>\n",
       "      <th>1959</th>\n",
       "      <td>9</td>\n",
       "      <td>1964</td>\n",
       "      <td>3.845924</td>\n",
       "    </tr>\n",
       "  </tbody>\n",
       "</table>\n",
       "<p>2264 rows × 3 columns</p>\n",
       "</div>"
      ],
      "text/plain": [
       "      user_id  item_id  predicted_rating\n",
       "48          9       51          4.463771\n",
       "1872        9     1877          4.442840\n",
       "1605        9     1610          4.433984\n",
       "1954        9     1959          4.427443\n",
       "1944        9     1949          4.426140\n",
       "...       ...      ...               ...\n",
       "2013        9     2018          3.878541\n",
       "2234        9     2239          3.873220\n",
       "992         9      996          3.872239\n",
       "134         9      137          3.871873\n",
       "1959        9     1964          3.845924\n",
       "\n",
       "[2264 rows x 3 columns]"
      ]
     },
     "execution_count": 98,
     "metadata": {},
     "output_type": "execute_result"
    }
   ],
   "source": [
    "# Sort the predicted rating values\n",
    "predicted_unrated_movie = predicted_unrated_travel_df.sort_values('predicted_rating',\n",
    "                                                              ascending = False)\n",
    "\n",
    "predicted_unrated_movie"
   ]
  },
  {
   "cell_type": "code",
   "execution_count": 99,
   "metadata": {},
   "outputs": [],
   "source": [
    "# Let's create this into a function\n",
    "def get_pred_unrated_item(userid, estimator, unrated_item_id):\n",
    "    \"\"\"\n",
    "    Get the predicted unrated item id from user id\n",
    "\n",
    "    Parameters\n",
    "    ----------\n",
    "    userid : int\n",
    "        The user id\n",
    "\n",
    "    estimator : Surprise object\n",
    "        The estimator\n",
    "\n",
    "    unrated_item_id : set\n",
    "        The unrated item id\n",
    "\n",
    "    Returns\n",
    "    -------\n",
    "    pred_data : pandas Dataframe\n",
    "        The predicted rating of unrated item of user id\n",
    "    \"\"\"\n",
    "    # Initialize dict\n",
    "    pred_dict = {\n",
    "        'user_id': userid,\n",
    "        'item_id': [],\n",
    "        'predicted_rating': []\n",
    "    }\n",
    "\n",
    "    # Loop for over all unrated movie Id\n",
    "    for id in unrated_item_id:\n",
    "        # Create a prediction\n",
    "        pred_id = estimator.predict(uid = pred_dict['user_id'],\n",
    "                                    iid = id)\n",
    "\n",
    "        # Append\n",
    "        pred_dict['item_id'].append(id)\n",
    "        pred_dict['predicted_rating'].append(pred_id.est)\n",
    "\n",
    "    # Create a dataframe\n",
    "    pred_data = pd.DataFrame(pred_dict).sort_values('predicted_rating',\n",
    "                                                     ascending = False)\n",
    "\n",
    "    return pred_data"
   ]
  },
  {
   "cell_type": "code",
   "execution_count": 100,
   "metadata": {},
   "outputs": [
    {
     "data": {
      "text/html": [
       "<div>\n",
       "<style scoped>\n",
       "    .dataframe tbody tr th:only-of-type {\n",
       "        vertical-align: middle;\n",
       "    }\n",
       "\n",
       "    .dataframe tbody tr th {\n",
       "        vertical-align: top;\n",
       "    }\n",
       "\n",
       "    .dataframe thead th {\n",
       "        text-align: right;\n",
       "    }\n",
       "</style>\n",
       "<table border=\"1\" class=\"dataframe\">\n",
       "  <thead>\n",
       "    <tr style=\"text-align: right;\">\n",
       "      <th></th>\n",
       "      <th>user_id</th>\n",
       "      <th>item_id</th>\n",
       "      <th>predicted_rating</th>\n",
       "    </tr>\n",
       "  </thead>\n",
       "  <tbody>\n",
       "    <tr>\n",
       "      <th>48</th>\n",
       "      <td>9</td>\n",
       "      <td>51</td>\n",
       "      <td>4.463771</td>\n",
       "    </tr>\n",
       "    <tr>\n",
       "      <th>1872</th>\n",
       "      <td>9</td>\n",
       "      <td>1877</td>\n",
       "      <td>4.442840</td>\n",
       "    </tr>\n",
       "    <tr>\n",
       "      <th>1605</th>\n",
       "      <td>9</td>\n",
       "      <td>1610</td>\n",
       "      <td>4.433984</td>\n",
       "    </tr>\n",
       "    <tr>\n",
       "      <th>1954</th>\n",
       "      <td>9</td>\n",
       "      <td>1959</td>\n",
       "      <td>4.427443</td>\n",
       "    </tr>\n",
       "    <tr>\n",
       "      <th>1944</th>\n",
       "      <td>9</td>\n",
       "      <td>1949</td>\n",
       "      <td>4.426140</td>\n",
       "    </tr>\n",
       "    <tr>\n",
       "      <th>...</th>\n",
       "      <td>...</td>\n",
       "      <td>...</td>\n",
       "      <td>...</td>\n",
       "    </tr>\n",
       "    <tr>\n",
       "      <th>2013</th>\n",
       "      <td>9</td>\n",
       "      <td>2018</td>\n",
       "      <td>3.878541</td>\n",
       "    </tr>\n",
       "    <tr>\n",
       "      <th>2234</th>\n",
       "      <td>9</td>\n",
       "      <td>2239</td>\n",
       "      <td>3.873220</td>\n",
       "    </tr>\n",
       "    <tr>\n",
       "      <th>992</th>\n",
       "      <td>9</td>\n",
       "      <td>996</td>\n",
       "      <td>3.872239</td>\n",
       "    </tr>\n",
       "    <tr>\n",
       "      <th>134</th>\n",
       "      <td>9</td>\n",
       "      <td>137</td>\n",
       "      <td>3.871873</td>\n",
       "    </tr>\n",
       "    <tr>\n",
       "      <th>1959</th>\n",
       "      <td>9</td>\n",
       "      <td>1964</td>\n",
       "      <td>3.845924</td>\n",
       "    </tr>\n",
       "  </tbody>\n",
       "</table>\n",
       "<p>2264 rows × 3 columns</p>\n",
       "</div>"
      ],
      "text/plain": [
       "      user_id  item_id  predicted_rating\n",
       "48          9       51          4.463771\n",
       "1872        9     1877          4.442840\n",
       "1605        9     1610          4.433984\n",
       "1954        9     1959          4.427443\n",
       "1944        9     1949          4.426140\n",
       "...       ...      ...               ...\n",
       "2013        9     2018          3.878541\n",
       "2234        9     2239          3.873220\n",
       "992         9      996          3.872239\n",
       "134         9      137          3.871873\n",
       "1959        9     1964          3.845924\n",
       "\n",
       "[2264 rows x 3 columns]"
      ]
     },
     "execution_count": 100,
     "metadata": {},
     "output_type": "execute_result"
    }
   ],
   "source": [
    "predicted_unrated_movie = get_pred_unrated_item(userid = 9,\n",
    "                                                estimator = model_best,\n",
    "                                                unrated_item_id = unrated_item_id)\n",
    "\n",
    "predicted_unrated_movie"
   ]
  },
  {
   "cell_type": "code",
   "execution_count": 101,
   "metadata": {},
   "outputs": [],
   "source": [
    "# Function to get highest unrated data\n",
    "def get_top_highest_unrated(estimator, k, userid, trip_data):\n",
    "    \"\"\"\n",
    "    Get top k highest of unrated movie from a Surprise estimator RecSys\n",
    "\n",
    "    Parameters\n",
    "    ----------\n",
    "    estimator : Surprise model\n",
    "        The RecSys model\n",
    "\n",
    "    k : int\n",
    "        The number of Recommendations\n",
    "\n",
    "    userid : int\n",
    "        The user Id to recommend\n",
    "\n",
    "    trip_data : pandas Data Frame\n",
    "        The rtrip data\n",
    "\n",
    "\n",
    "\n",
    "    Returns\n",
    "    -------\n",
    "    top_item_pred : pandas DataFrame\n",
    "        The top items recommendations\n",
    "    \"\"\"\n",
    "    # 1. Get the unrated item id of a user id\n",
    "    unrated_item_id = get_unrated_item(userid=userid, trip_data=trip_data)\n",
    "\n",
    "    # 2. Create prediction from estimator to all unrated item id\n",
    "    predicted_unrated_item = get_pred_unrated_item(userid = userid,\n",
    "                                                   estimator = estimator,\n",
    "                                                   unrated_item_id = unrated_item_id)\n",
    "\n",
    "    # 3. Sort & add meta data\n",
    "    top_item_pred = predicted_unrated_item.head(k).copy()\n",
    "\n",
    "    return top_item_pred\n"
   ]
  },
  {
   "cell_type": "code",
   "execution_count": 102,
   "metadata": {},
   "outputs": [
    {
     "data": {
      "text/html": [
       "<div>\n",
       "<style scoped>\n",
       "    .dataframe tbody tr th:only-of-type {\n",
       "        vertical-align: middle;\n",
       "    }\n",
       "\n",
       "    .dataframe tbody tr th {\n",
       "        vertical-align: top;\n",
       "    }\n",
       "\n",
       "    .dataframe thead th {\n",
       "        text-align: right;\n",
       "    }\n",
       "</style>\n",
       "<table border=\"1\" class=\"dataframe\">\n",
       "  <thead>\n",
       "    <tr style=\"text-align: right;\">\n",
       "      <th></th>\n",
       "      <th>user_id</th>\n",
       "      <th>item_id</th>\n",
       "      <th>predicted_rating</th>\n",
       "    </tr>\n",
       "  </thead>\n",
       "  <tbody>\n",
       "    <tr>\n",
       "      <th>1446</th>\n",
       "      <td>100</td>\n",
       "      <td>1451</td>\n",
       "      <td>4.569965</td>\n",
       "    </tr>\n",
       "    <tr>\n",
       "      <th>1007</th>\n",
       "      <td>100</td>\n",
       "      <td>1012</td>\n",
       "      <td>4.547189</td>\n",
       "    </tr>\n",
       "    <tr>\n",
       "      <th>1114</th>\n",
       "      <td>100</td>\n",
       "      <td>1119</td>\n",
       "      <td>4.507984</td>\n",
       "    </tr>\n",
       "    <tr>\n",
       "      <th>2182</th>\n",
       "      <td>100</td>\n",
       "      <td>2187</td>\n",
       "      <td>4.489651</td>\n",
       "    </tr>\n",
       "    <tr>\n",
       "      <th>1348</th>\n",
       "      <td>100</td>\n",
       "      <td>1353</td>\n",
       "      <td>4.487835</td>\n",
       "    </tr>\n",
       "    <tr>\n",
       "      <th>510</th>\n",
       "      <td>100</td>\n",
       "      <td>515</td>\n",
       "      <td>4.485577</td>\n",
       "    </tr>\n",
       "    <tr>\n",
       "      <th>653</th>\n",
       "      <td>100</td>\n",
       "      <td>658</td>\n",
       "      <td>4.473255</td>\n",
       "    </tr>\n",
       "    <tr>\n",
       "      <th>1037</th>\n",
       "      <td>100</td>\n",
       "      <td>1042</td>\n",
       "      <td>4.458402</td>\n",
       "    </tr>\n",
       "    <tr>\n",
       "      <th>564</th>\n",
       "      <td>100</td>\n",
       "      <td>569</td>\n",
       "      <td>4.456327</td>\n",
       "    </tr>\n",
       "    <tr>\n",
       "      <th>676</th>\n",
       "      <td>100</td>\n",
       "      <td>681</td>\n",
       "      <td>4.452969</td>\n",
       "    </tr>\n",
       "  </tbody>\n",
       "</table>\n",
       "</div>"
      ],
      "text/plain": [
       "      user_id  item_id  predicted_rating\n",
       "1446      100     1451          4.569965\n",
       "1007      100     1012          4.547189\n",
       "1114      100     1119          4.507984\n",
       "2182      100     2187          4.489651\n",
       "1348      100     1353          4.487835\n",
       "510       100      515          4.485577\n",
       "653       100      658          4.473255\n",
       "1037      100     1042          4.458402\n",
       "564       100      569          4.456327\n",
       "676       100      681          4.452969"
      ]
     },
     "execution_count": 102,
     "metadata": {},
     "output_type": "execute_result"
    }
   ],
   "source": [
    "# Generate 10 recommendation for user 100\n",
    "get_top_highest_unrated(estimator=model_best,\n",
    "                        k=10,\n",
    "                        userid=100,\n",
    "                        trip_data=trip_data)"
   ]
  },
  {
   "cell_type": "code",
   "execution_count": 103,
   "metadata": {},
   "outputs": [
    {
     "data": {
      "text/html": [
       "<div>\n",
       "<style scoped>\n",
       "    .dataframe tbody tr th:only-of-type {\n",
       "        vertical-align: middle;\n",
       "    }\n",
       "\n",
       "    .dataframe tbody tr th {\n",
       "        vertical-align: top;\n",
       "    }\n",
       "\n",
       "    .dataframe thead th {\n",
       "        text-align: right;\n",
       "    }\n",
       "</style>\n",
       "<table border=\"1\" class=\"dataframe\">\n",
       "  <thead>\n",
       "    <tr style=\"text-align: right;\">\n",
       "      <th></th>\n",
       "      <th>user_id</th>\n",
       "      <th>item_id</th>\n",
       "      <th>predicted_rating</th>\n",
       "    </tr>\n",
       "  </thead>\n",
       "  <tbody>\n",
       "    <tr>\n",
       "      <th>1497</th>\n",
       "      <td>500</td>\n",
       "      <td>1502</td>\n",
       "      <td>4.448485</td>\n",
       "    </tr>\n",
       "    <tr>\n",
       "      <th>2148</th>\n",
       "      <td>500</td>\n",
       "      <td>2153</td>\n",
       "      <td>4.408230</td>\n",
       "    </tr>\n",
       "    <tr>\n",
       "      <th>1102</th>\n",
       "      <td>500</td>\n",
       "      <td>1107</td>\n",
       "      <td>4.403723</td>\n",
       "    </tr>\n",
       "    <tr>\n",
       "      <th>323</th>\n",
       "      <td>500</td>\n",
       "      <td>326</td>\n",
       "      <td>4.402254</td>\n",
       "    </tr>\n",
       "    <tr>\n",
       "      <th>558</th>\n",
       "      <td>500</td>\n",
       "      <td>562</td>\n",
       "      <td>4.400589</td>\n",
       "    </tr>\n",
       "    <tr>\n",
       "      <th>1050</th>\n",
       "      <td>500</td>\n",
       "      <td>1055</td>\n",
       "      <td>4.400414</td>\n",
       "    </tr>\n",
       "    <tr>\n",
       "      <th>81</th>\n",
       "      <td>500</td>\n",
       "      <td>81</td>\n",
       "      <td>4.399173</td>\n",
       "    </tr>\n",
       "    <tr>\n",
       "      <th>2010</th>\n",
       "      <td>500</td>\n",
       "      <td>2015</td>\n",
       "      <td>4.396826</td>\n",
       "    </tr>\n",
       "    <tr>\n",
       "      <th>372</th>\n",
       "      <td>500</td>\n",
       "      <td>375</td>\n",
       "      <td>4.395880</td>\n",
       "    </tr>\n",
       "    <tr>\n",
       "      <th>818</th>\n",
       "      <td>500</td>\n",
       "      <td>823</td>\n",
       "      <td>4.392304</td>\n",
       "    </tr>\n",
       "  </tbody>\n",
       "</table>\n",
       "</div>"
      ],
      "text/plain": [
       "      user_id  item_id  predicted_rating\n",
       "1497      500     1502          4.448485\n",
       "2148      500     2153          4.408230\n",
       "1102      500     1107          4.403723\n",
       "323       500      326          4.402254\n",
       "558       500      562          4.400589\n",
       "1050      500     1055          4.400414\n",
       "81        500       81          4.399173\n",
       "2010      500     2015          4.396826\n",
       "372       500      375          4.395880\n",
       "818       500      823          4.392304"
      ]
     },
     "execution_count": 103,
     "metadata": {},
     "output_type": "execute_result"
    }
   ],
   "source": [
    "# Generate 10 recommendation for user 500\n",
    "get_top_highest_unrated(estimator=model_best,\n",
    "                        k=10,\n",
    "                        userid=500,\n",
    "                        trip_data=trip_data)"
   ]
  }
 ],
 "metadata": {
  "kernelspec": {
   "display_name": ".venv",
   "language": "python",
   "name": "python3"
  },
  "language_info": {
   "codemirror_mode": {
    "name": "ipython",
    "version": 3
   },
   "file_extension": ".py",
   "mimetype": "text/x-python",
   "name": "python",
   "nbconvert_exporter": "python",
   "pygments_lexer": "ipython3",
   "version": "3.9.20"
  }
 },
 "nbformat": 4,
 "nbformat_minor": 2
}
