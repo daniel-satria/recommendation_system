{
 "cells": [
  {
   "cell_type": "markdown",
   "metadata": {
    "id": "7cO5oLZWWEaB"
   },
   "source": [
    "# **1. Recommender System Introduction & Workflow**"
   ]
  },
  {
   "cell_type": "markdown",
   "metadata": {
    "id": "CAYgWFXeDm2o"
   },
   "source": [
    "---\n",
    "## Outline:\n",
    "\n",
    "1. Background\n",
    "2. Simplified Workflows.\n",
    "3. Importing Data\n",
    "4. Find Top-$k$ Recommendations\n",
    "5. Data Preparations\n",
    "6. Data Preprocessing\n",
    "7. Modeling\n",
    "8. Decision Process (Recommendation Process)"
   ]
  },
  {
   "cell_type": "markdown",
   "metadata": {
    "id": "5EAOjNJgu9OX"
   },
   "source": [
    "# **Background**\n",
    "---"
   ]
  },
  {
   "cell_type": "markdown",
   "metadata": {
    "id": "D76jLNLOvB12"
   },
   "source": [
    "## Problem Description\n",
    "---"
   ]
  },
  {
   "cell_type": "markdown",
   "metadata": {
    "id": "G8InAK8UEcaX"
   },
   "source": [
    "- A streaming platform **nonton-yuk.com** are having a problem with its user retention.\n",
    "- In 3 months, the user retention rate dropped almost 15% which really affects **nonton-yuk.com** revenues.\n",
    "- After doing an urgent user research, **nonton-yuk.com** teams found that **users find it difficult** to browse movie in **nonton-yuk.com** which has nearly ~7,000 movies."
   ]
  },
  {
   "cell_type": "markdown",
   "metadata": {
    "id": "yGJI2hoKFZLJ"
   },
   "source": [
    "## Business Objective\n",
    "---"
   ]
  },
  {
   "cell_type": "markdown",
   "metadata": {
    "id": "iTWpKavPFdjR"
   },
   "source": [
    "Our business objective would be **increasing user retention** to **15%** (assumed ofcourse) in 3 months."
   ]
  },
  {
   "cell_type": "markdown",
   "metadata": {
    "id": "ZuZaweARFsio"
   },
   "source": [
    "## Solution\n",
    "---\n"
   ]
  },
  {
   "cell_type": "markdown",
   "metadata": {
    "id": "9JqHRyToJiIX"
   },
   "source": [
    "- We can create a **movie recommendation** to help **users browse** the movie **easily** --> remove the users difficulty in using **nonton-yuk.com** platform."
   ]
  },
  {
   "cell_type": "markdown",
   "metadata": {
    "id": "d40EcFE-Jjwf"
   },
   "source": [
    "Some recommendations approach:\n",
    "1. **Non-personalized**: recommendation by popularity\n",
    "2. **Personalized**: collaborative filtering"
   ]
  },
  {
   "cell_type": "markdown",
   "metadata": {
    "id": "BZ6nwtH_J0mS"
   },
   "source": [
    "## Data Description\n",
    "---"
   ]
  },
  {
   "cell_type": "markdown",
   "metadata": {
    "id": "vJsYDiHAJ6Ci"
   },
   "source": [
    "- The data is obtained from [Movielens dataset](https://grouplens.org/datasets/movielens/).\n",
    "- It contains ~100K ratings from 1,000 users and 1,700 movies."
   ]
  },
  {
   "cell_type": "markdown",
   "metadata": {
    "id": "Wncaz3ZzKK-2"
   },
   "source": [
    "There are two files that we use:\n",
    "\n",
    "**The movie rating data** : `rating.csv`\n",
    "\n",
    "<center>\n",
    "\n",
    "|Features|Descriptions|Data Type|\n",
    "|:--|:--|:--:|\n",
    "|`userId`|The user ID|`int`|\n",
    "|`movieId`|The movie ID|`int`|\n",
    "|`rating`|Rating given from user to movie. Ranging from `0` to `5`|`float`|\n",
    "\n"
   ]
  },
  {
   "cell_type": "markdown",
   "metadata": {
    "id": "pRUZ9M6RK8x-"
   },
   "source": [
    "**The movie metadata** : `movies.csv`\n",
    "\n",
    "<center>\n",
    "\n",
    "|Features|Descriptions|Data Type|\n",
    "|:--|:--|:--:|\n",
    "|`movieId`|The movie ID|`int`|\n",
    "|`title`|The movie ID title|`str`|\n",
    "|`genres`|The movie ID genres|`str`|"
   ]
  },
  {
   "cell_type": "markdown",
   "metadata": {
    "id": "TekCSl-aefIf"
   },
   "source": [
    "# **Recommender System Workflow** (Simplified)\n",
    "---"
   ]
  },
  {
   "cell_type": "markdown",
   "metadata": {
    "id": "WoTzq7gGTk9s"
   },
   "source": [
    "## 1. Importing Data\n",
    "\n",
    "1. Load the data.\n",
    "2. Check the shape & type of data.\n",
    "3. Handle the duplicates data to maintain data validity."
   ]
  },
  {
   "cell_type": "markdown",
   "metadata": {
    "id": "ywTaT6iOT7sP"
   },
   "source": [
    "## 2. Non personalized recommendations\n",
    "\n",
    "1. Get the movie-rating aggregate data\n",
    "2. Extract the top k, most rated movie"
   ]
  },
  {
   "cell_type": "markdown",
   "metadata": {
    "id": "bVd-hGcCTD1f"
   },
   "source": [
    "## 3. Personalized recommendations\n",
    "\n",
    "1. Create a Utility Matrix\n",
    "2. Split Train-Test\n",
    "3. Train & Find the Best Model\n",
    "4. Evaluation"
   ]
  },
  {
   "cell_type": "markdown",
   "metadata": {
    "id": "jqmDuT4ufLrS"
   },
   "source": [
    "## 4. Personalized recommendations: Predictions\n",
    "\n",
    "1. Predict recommendation of user-i to unrated item-j\n",
    "2. Predict recommendation of user-i to all their unrated items"
   ]
  },
  {
   "cell_type": "markdown",
   "metadata": {
    "id": "4UbxpDTqMjwD"
   },
   "source": [
    "# **1. Importing Data**\n",
    "---"
   ]
  },
  {
   "cell_type": "markdown",
   "metadata": {
    "id": "_sFY159MLpWx"
   },
   "source": [
    "What do we do?\n",
    "1. Load the data.\n",
    "2. Check the shape & type of data.\n",
    "3. Handle the duplicates data to maintain data validity."
   ]
  },
  {
   "cell_type": "markdown",
   "metadata": {
    "id": "UxpX-m6jL41l"
   },
   "source": [
    "## Load the data"
   ]
  },
  {
   "cell_type": "code",
   "execution_count": 1,
   "metadata": {
    "id": "BfsCMoXbL79v"
   },
   "outputs": [],
   "source": [
    "# Load this library\n",
    "import numpy as np\n",
    "import pandas as pd"
   ]
  },
  {
   "cell_type": "markdown",
   "metadata": {
    "id": "GvnaCpj_MDyS"
   },
   "source": [
    "Load the data from given data path"
   ]
  },
  {
   "cell_type": "code",
   "execution_count": 2,
   "metadata": {
    "id": "GoBpkqdkMBoY"
   },
   "outputs": [],
   "source": [
    "rating_path = '../data/ratings.csv'"
   ]
  },
  {
   "cell_type": "code",
   "execution_count": 3,
   "metadata": {
    "id": "9XcQoL6zMNug"
   },
   "outputs": [],
   "source": [
    "rating_data = pd.read_csv(rating_path,\n",
    "                          delimiter = ',')"
   ]
  },
  {
   "cell_type": "code",
   "execution_count": 4,
   "metadata": {
    "colab": {
     "base_uri": "https://localhost:8080/",
     "height": 206
    },
    "id": "bfOIdNH4MU27",
    "outputId": "9a54405a-f426-40dd-99ea-89f0b039ff1d"
   },
   "outputs": [
    {
     "data": {
      "text/html": [
       "<div>\n",
       "<style scoped>\n",
       "    .dataframe tbody tr th:only-of-type {\n",
       "        vertical-align: middle;\n",
       "    }\n",
       "\n",
       "    .dataframe tbody tr th {\n",
       "        vertical-align: top;\n",
       "    }\n",
       "\n",
       "    .dataframe thead th {\n",
       "        text-align: right;\n",
       "    }\n",
       "</style>\n",
       "<table border=\"1\" class=\"dataframe\">\n",
       "  <thead>\n",
       "    <tr style=\"text-align: right;\">\n",
       "      <th></th>\n",
       "      <th>userId</th>\n",
       "      <th>movieId</th>\n",
       "      <th>rating</th>\n",
       "      <th>timestamp</th>\n",
       "    </tr>\n",
       "  </thead>\n",
       "  <tbody>\n",
       "    <tr>\n",
       "      <th>0</th>\n",
       "      <td>1</td>\n",
       "      <td>1</td>\n",
       "      <td>4.0</td>\n",
       "      <td>964982703</td>\n",
       "    </tr>\n",
       "    <tr>\n",
       "      <th>1</th>\n",
       "      <td>1</td>\n",
       "      <td>3</td>\n",
       "      <td>4.0</td>\n",
       "      <td>964981247</td>\n",
       "    </tr>\n",
       "    <tr>\n",
       "      <th>2</th>\n",
       "      <td>1</td>\n",
       "      <td>6</td>\n",
       "      <td>4.0</td>\n",
       "      <td>964982224</td>\n",
       "    </tr>\n",
       "    <tr>\n",
       "      <th>3</th>\n",
       "      <td>1</td>\n",
       "      <td>47</td>\n",
       "      <td>5.0</td>\n",
       "      <td>964983815</td>\n",
       "    </tr>\n",
       "    <tr>\n",
       "      <th>4</th>\n",
       "      <td>1</td>\n",
       "      <td>50</td>\n",
       "      <td>5.0</td>\n",
       "      <td>964982931</td>\n",
       "    </tr>\n",
       "  </tbody>\n",
       "</table>\n",
       "</div>"
      ],
      "text/plain": [
       "   userId  movieId  rating  timestamp\n",
       "0       1        1     4.0  964982703\n",
       "1       1        3     4.0  964981247\n",
       "2       1        6     4.0  964982224\n",
       "3       1       47     5.0  964983815\n",
       "4       1       50     5.0  964982931"
      ]
     },
     "execution_count": 4,
     "metadata": {},
     "output_type": "execute_result"
    }
   ],
   "source": [
    "rating_data.head()"
   ]
  },
  {
   "cell_type": "markdown",
   "metadata": {
    "id": "ukcxisgSMXL-"
   },
   "source": [
    "## Check data shapes & types"
   ]
  },
  {
   "cell_type": "code",
   "execution_count": 5,
   "metadata": {
    "colab": {
     "base_uri": "https://localhost:8080/"
    },
    "id": "1nmiCwI3MZ8M",
    "outputId": "6ed7c5e2-96cc-4212-89cb-b0b867eee8e3"
   },
   "outputs": [
    {
     "data": {
      "text/plain": [
       "(100836, 4)"
      ]
     },
     "execution_count": 5,
     "metadata": {},
     "output_type": "execute_result"
    }
   ],
   "source": [
    "# Check data shapes\n",
    "rating_data.shape"
   ]
  },
  {
   "cell_type": "markdown",
   "metadata": {
    "id": "XTvgHiJvMizE"
   },
   "source": [
    "The data has 4 feature with ~100,000 user rating recorded."
   ]
  },
  {
   "cell_type": "code",
   "execution_count": 6,
   "metadata": {
    "colab": {
     "base_uri": "https://localhost:8080/"
    },
    "id": "C0Vb3EMbMwiW",
    "outputId": "72d2ad0e-dd2f-480b-eed4-40003cf79e1e"
   },
   "outputs": [
    {
     "data": {
      "text/plain": [
       "userId         int64\n",
       "movieId        int64\n",
       "rating       float64\n",
       "timestamp      int64\n",
       "dtype: object"
      ]
     },
     "execution_count": 6,
     "metadata": {},
     "output_type": "execute_result"
    }
   ],
   "source": [
    "# Check data types\n",
    "rating_data.dtypes"
   ]
  },
  {
   "cell_type": "markdown",
   "metadata": {
    "id": "ETzkhNFvMUEf"
   },
   "source": [
    "Correct features type: `userId`, `movieId`, and `rating`"
   ]
  },
  {
   "cell_type": "markdown",
   "metadata": {
    "id": "qzjojuJXL7RK"
   },
   "source": [
    "Wait, we do not need `timestamp` features for now, so we drop it."
   ]
  },
  {
   "cell_type": "code",
   "execution_count": 7,
   "metadata": {
    "id": "l8vaBOLXNNsg"
   },
   "outputs": [],
   "source": [
    "# Drop timestamp\n",
    "rating_data_dropped = rating_data.drop(columns=['timestamp'], axis=1)\n",
    "\n",
    "# Validate\n",
    "assert len(rating_data_dropped.columns) == 3\n",
    "assert rating_data_dropped.columns.tolist() == ['userId', 'movieId', 'rating']\n",
    "assert len(rating_data_dropped) == len(rating_data)"
   ]
  },
  {
   "cell_type": "code",
   "execution_count": 8,
   "metadata": {
    "colab": {
     "base_uri": "https://localhost:8080/",
     "height": 206
    },
    "id": "owVaW_5yN6K3",
    "outputId": "2bdc3eae-1eb4-4b3f-8544-0e6deea8e1ce"
   },
   "outputs": [
    {
     "data": {
      "text/html": [
       "<div>\n",
       "<style scoped>\n",
       "    .dataframe tbody tr th:only-of-type {\n",
       "        vertical-align: middle;\n",
       "    }\n",
       "\n",
       "    .dataframe tbody tr th {\n",
       "        vertical-align: top;\n",
       "    }\n",
       "\n",
       "    .dataframe thead th {\n",
       "        text-align: right;\n",
       "    }\n",
       "</style>\n",
       "<table border=\"1\" class=\"dataframe\">\n",
       "  <thead>\n",
       "    <tr style=\"text-align: right;\">\n",
       "      <th></th>\n",
       "      <th>userId</th>\n",
       "      <th>movieId</th>\n",
       "      <th>rating</th>\n",
       "    </tr>\n",
       "  </thead>\n",
       "  <tbody>\n",
       "    <tr>\n",
       "      <th>0</th>\n",
       "      <td>1</td>\n",
       "      <td>1</td>\n",
       "      <td>4.0</td>\n",
       "    </tr>\n",
       "    <tr>\n",
       "      <th>1</th>\n",
       "      <td>1</td>\n",
       "      <td>3</td>\n",
       "      <td>4.0</td>\n",
       "    </tr>\n",
       "    <tr>\n",
       "      <th>2</th>\n",
       "      <td>1</td>\n",
       "      <td>6</td>\n",
       "      <td>4.0</td>\n",
       "    </tr>\n",
       "    <tr>\n",
       "      <th>3</th>\n",
       "      <td>1</td>\n",
       "      <td>47</td>\n",
       "      <td>5.0</td>\n",
       "    </tr>\n",
       "    <tr>\n",
       "      <th>4</th>\n",
       "      <td>1</td>\n",
       "      <td>50</td>\n",
       "      <td>5.0</td>\n",
       "    </tr>\n",
       "  </tbody>\n",
       "</table>\n",
       "</div>"
      ],
      "text/plain": [
       "   userId  movieId  rating\n",
       "0       1        1     4.0\n",
       "1       1        3     4.0\n",
       "2       1        6     4.0\n",
       "3       1       47     5.0\n",
       "4       1       50     5.0"
      ]
     },
     "execution_count": 8,
     "metadata": {},
     "output_type": "execute_result"
    }
   ],
   "source": [
    "rating_data_dropped.head()"
   ]
  },
  {
   "cell_type": "code",
   "execution_count": 9,
   "metadata": {
    "colab": {
     "base_uri": "https://localhost:8080/"
    },
    "id": "qdsk54PoOLhq",
    "outputId": "5f2f92de-df56-4a0d-ae6a-b336da64db71"
   },
   "outputs": [
    {
     "data": {
      "text/plain": [
       "(100836, 3)"
      ]
     },
     "execution_count": 9,
     "metadata": {},
     "output_type": "execute_result"
    }
   ],
   "source": [
    "rating_data_dropped.shape"
   ]
  },
  {
   "cell_type": "markdown",
   "metadata": {
    "id": "vZL6d6o4OXYK"
   },
   "source": [
    "## Handling duplicates data\n"
   ]
  },
  {
   "cell_type": "markdown",
   "metadata": {
    "id": "-srWu4GEOhLk"
   },
   "source": [
    "We need to check that there is no user ID that rates similar movie ID more than one."
   ]
  },
  {
   "cell_type": "code",
   "execution_count": 10,
   "metadata": {
    "colab": {
     "base_uri": "https://localhost:8080/"
    },
    "id": "lWv_zR5IOqs4",
    "outputId": "fc8a3f05-d64c-47b3-8b76-c9d28cbff419"
   },
   "outputs": [
    {
     "data": {
      "text/plain": [
       "0"
      ]
     },
     "execution_count": 10,
     "metadata": {},
     "output_type": "execute_result"
    }
   ],
   "source": [
    "# Check duplicate data\n",
    "rating_data_dropped.duplicated(subset=['userId', 'movieId']).sum()"
   ]
  },
  {
   "cell_type": "markdown",
   "metadata": {
    "id": "r1_8HkE9OyXd"
   },
   "source": [
    "Great! Our data is free from duplicate rates.\n",
    "\n",
    "**Note**\n",
    "- If you have a user ID rates similar movie ID more than one, you can keep the most up to date ones & drop the rest."
   ]
  },
  {
   "cell_type": "markdown",
   "metadata": {
    "id": "SxoYxbNEPFVy"
   },
   "source": [
    "## Create load function"
   ]
  },
  {
   "cell_type": "markdown",
   "metadata": {
    "id": "ngQSDSTdPIbq"
   },
   "source": [
    "Finally, we can create load data function"
   ]
  },
  {
   "cell_type": "code",
   "execution_count": 11,
   "metadata": {
    "id": "21EWxr09PTMd"
   },
   "outputs": [],
   "source": [
    "def load_rating_data(rating_path):\n",
    "    \"\"\"\n",
    "    Function to load data & remove from duplicates\n",
    "\n",
    "    Parameters\n",
    "    ----------\n",
    "    rating_path : str\n",
    "        The path of rating data\n",
    "\n",
    "    Returns\n",
    "    -------\n",
    "    rating_data : pandas DataFrame\n",
    "        The sample of rating data\n",
    "    \"\"\"\n",
    "    # Load data\n",
    "    rating_data_raw = pd.read_csv(rating_path, delimiter=',')\n",
    "    print('Original data shape :', rating_data_raw.shape)\n",
    "\n",
    "    # Drop timestamp\n",
    "    rating_data = rating_data_raw.drop(columns=['timestamp'], axis=1)\n",
    "    print('Dropped data shape  :', rating_data.shape)\n",
    "\n",
    "    return rating_data\n"
   ]
  },
  {
   "cell_type": "code",
   "execution_count": 12,
   "metadata": {
    "colab": {
     "base_uri": "https://localhost:8080/"
    },
    "id": "4Dfv1PUKQDVX",
    "outputId": "89eda3b0-bf65-42fd-8723-c6b02aadc480"
   },
   "outputs": [
    {
     "name": "stdout",
     "output_type": "stream",
     "text": [
      "Original data shape : (100836, 4)\n",
      "Dropped data shape  : (100836, 3)\n"
     ]
    }
   ],
   "source": [
    "# Load rating data\n",
    "rating_data = load_rating_data(rating_path = rating_path)"
   ]
  },
  {
   "cell_type": "code",
   "execution_count": 13,
   "metadata": {
    "colab": {
     "base_uri": "https://localhost:8080/",
     "height": 206
    },
    "id": "GmCsrRbrQIQa",
    "outputId": "303307a2-226f-4906-b7db-993de387df5d"
   },
   "outputs": [
    {
     "data": {
      "text/html": [
       "<div>\n",
       "<style scoped>\n",
       "    .dataframe tbody tr th:only-of-type {\n",
       "        vertical-align: middle;\n",
       "    }\n",
       "\n",
       "    .dataframe tbody tr th {\n",
       "        vertical-align: top;\n",
       "    }\n",
       "\n",
       "    .dataframe thead th {\n",
       "        text-align: right;\n",
       "    }\n",
       "</style>\n",
       "<table border=\"1\" class=\"dataframe\">\n",
       "  <thead>\n",
       "    <tr style=\"text-align: right;\">\n",
       "      <th></th>\n",
       "      <th>userId</th>\n",
       "      <th>movieId</th>\n",
       "      <th>rating</th>\n",
       "    </tr>\n",
       "  </thead>\n",
       "  <tbody>\n",
       "    <tr>\n",
       "      <th>0</th>\n",
       "      <td>1</td>\n",
       "      <td>1</td>\n",
       "      <td>4.0</td>\n",
       "    </tr>\n",
       "    <tr>\n",
       "      <th>1</th>\n",
       "      <td>1</td>\n",
       "      <td>3</td>\n",
       "      <td>4.0</td>\n",
       "    </tr>\n",
       "    <tr>\n",
       "      <th>2</th>\n",
       "      <td>1</td>\n",
       "      <td>6</td>\n",
       "      <td>4.0</td>\n",
       "    </tr>\n",
       "    <tr>\n",
       "      <th>3</th>\n",
       "      <td>1</td>\n",
       "      <td>47</td>\n",
       "      <td>5.0</td>\n",
       "    </tr>\n",
       "    <tr>\n",
       "      <th>4</th>\n",
       "      <td>1</td>\n",
       "      <td>50</td>\n",
       "      <td>5.0</td>\n",
       "    </tr>\n",
       "  </tbody>\n",
       "</table>\n",
       "</div>"
      ],
      "text/plain": [
       "   userId  movieId  rating\n",
       "0       1        1     4.0\n",
       "1       1        3     4.0\n",
       "2       1        6     4.0\n",
       "3       1       47     5.0\n",
       "4       1       50     5.0"
      ]
     },
     "execution_count": 13,
     "metadata": {},
     "output_type": "execute_result"
    }
   ],
   "source": [
    "rating_data.head()"
   ]
  },
  {
   "cell_type": "markdown",
   "metadata": {
    "id": "RnMXg_eJmcr3"
   },
   "source": [
    "# **2. Non-Personalized Recommender Systems** : Top Rating Approach\n",
    "---"
   ]
  },
  {
   "cell_type": "markdown",
   "metadata": {
    "id": "EH8IUePaUb-R"
   },
   "source": [
    "This is the most easiest way to recommend movies for our user, i.e. by recommending movies that was rated the most by users."
   ]
  },
  {
   "cell_type": "markdown",
   "metadata": {
    "id": "6hywIzGtVXTu"
   },
   "source": [
    "## How do we do that?\n",
    "---"
   ]
  },
  {
   "cell_type": "markdown",
   "metadata": {
    "id": "qTJoo47uVbdE"
   },
   "source": [
    "Easy, you find rating aggregate (count of rating) for each movie Id.\n",
    "\n",
    "But how?\n",
    "1. Group by the `rating_data` by `movieId`\n",
    "2. Then take aggregate `count` from `rating` column. With this you know how many users have rated the movie.\n",
    "3. Sort the results from highest to lowest count rating.\n",
    "4. Retrieve the top $k$ most rated `movieId`."
   ]
  },
  {
   "cell_type": "markdown",
   "metadata": {
    "id": "Ay4M3_wfc8q6"
   },
   "source": [
    "## Get the movie-rating aggregate data\n",
    "---"
   ]
  },
  {
   "cell_type": "markdown",
   "metadata": {
    "id": "6VkS0EB2XKfN"
   },
   "source": [
    "**First**, group by the `rating_data` by `movieId` and aggregate its counts."
   ]
  },
  {
   "cell_type": "code",
   "execution_count": 14,
   "metadata": {
    "colab": {
     "base_uri": "https://localhost:8080/",
     "height": 424
    },
    "id": "eNownkKRXKJh",
    "outputId": "b562dd9d-2f80-4bad-d0e7-9d987847dcd8"
   },
   "outputs": [
    {
     "data": {
      "text/html": [
       "<div>\n",
       "<style scoped>\n",
       "    .dataframe tbody tr th:only-of-type {\n",
       "        vertical-align: middle;\n",
       "    }\n",
       "\n",
       "    .dataframe tbody tr th {\n",
       "        vertical-align: top;\n",
       "    }\n",
       "\n",
       "    .dataframe thead th {\n",
       "        text-align: right;\n",
       "    }\n",
       "</style>\n",
       "<table border=\"1\" class=\"dataframe\">\n",
       "  <thead>\n",
       "    <tr style=\"text-align: right;\">\n",
       "      <th></th>\n",
       "      <th>userId</th>\n",
       "      <th>movieId</th>\n",
       "      <th>rating</th>\n",
       "    </tr>\n",
       "  </thead>\n",
       "  <tbody>\n",
       "    <tr>\n",
       "      <th>0</th>\n",
       "      <td>1</td>\n",
       "      <td>1</td>\n",
       "      <td>4.0</td>\n",
       "    </tr>\n",
       "    <tr>\n",
       "      <th>1</th>\n",
       "      <td>1</td>\n",
       "      <td>3</td>\n",
       "      <td>4.0</td>\n",
       "    </tr>\n",
       "    <tr>\n",
       "      <th>2</th>\n",
       "      <td>1</td>\n",
       "      <td>6</td>\n",
       "      <td>4.0</td>\n",
       "    </tr>\n",
       "    <tr>\n",
       "      <th>3</th>\n",
       "      <td>1</td>\n",
       "      <td>47</td>\n",
       "      <td>5.0</td>\n",
       "    </tr>\n",
       "    <tr>\n",
       "      <th>4</th>\n",
       "      <td>1</td>\n",
       "      <td>50</td>\n",
       "      <td>5.0</td>\n",
       "    </tr>\n",
       "    <tr>\n",
       "      <th>...</th>\n",
       "      <td>...</td>\n",
       "      <td>...</td>\n",
       "      <td>...</td>\n",
       "    </tr>\n",
       "    <tr>\n",
       "      <th>100823</th>\n",
       "      <td>610</td>\n",
       "      <td>160836</td>\n",
       "      <td>3.0</td>\n",
       "    </tr>\n",
       "    <tr>\n",
       "      <th>100825</th>\n",
       "      <td>610</td>\n",
       "      <td>161634</td>\n",
       "      <td>4.0</td>\n",
       "    </tr>\n",
       "    <tr>\n",
       "      <th>100827</th>\n",
       "      <td>610</td>\n",
       "      <td>163937</td>\n",
       "      <td>3.5</td>\n",
       "    </tr>\n",
       "    <tr>\n",
       "      <th>100828</th>\n",
       "      <td>610</td>\n",
       "      <td>163981</td>\n",
       "      <td>3.5</td>\n",
       "    </tr>\n",
       "    <tr>\n",
       "      <th>100835</th>\n",
       "      <td>610</td>\n",
       "      <td>170875</td>\n",
       "      <td>3.0</td>\n",
       "    </tr>\n",
       "  </tbody>\n",
       "</table>\n",
       "<p>28812 rows × 3 columns</p>\n",
       "</div>"
      ],
      "text/plain": [
       "        userId  movieId  rating\n",
       "0            1        1     4.0\n",
       "1            1        3     4.0\n",
       "2            1        6     4.0\n",
       "3            1       47     5.0\n",
       "4            1       50     5.0\n",
       "...        ...      ...     ...\n",
       "100823     610   160836     3.0\n",
       "100825     610   161634     4.0\n",
       "100827     610   163937     3.5\n",
       "100828     610   163981     3.5\n",
       "100835     610   170875     3.0\n",
       "\n",
       "[28812 rows x 3 columns]"
      ]
     },
     "execution_count": 14,
     "metadata": {},
     "output_type": "execute_result"
    }
   ],
   "source": [
    "# Group by & aggregate\n",
    "rating_data_grouped = rating_data.groupby('movieId', as_index=False)\n",
    "\n",
    "rating_data_grouped.head()"
   ]
  },
  {
   "cell_type": "markdown",
   "metadata": {
    "id": "MMkk0OMqbAfe"
   },
   "source": [
    "**Then**, aggregate the previous data by `counts` to find how many rating that a `movieId` receives?"
   ]
  },
  {
   "cell_type": "code",
   "execution_count": 15,
   "metadata": {
    "colab": {
     "base_uri": "https://localhost:8080/",
     "height": 206
    },
    "id": "AltrUecUbLlT",
    "outputId": "6eddd9a8-da54-46d7-ab1e-3a4856b3543c"
   },
   "outputs": [
    {
     "data": {
      "text/html": [
       "<div>\n",
       "<style scoped>\n",
       "    .dataframe tbody tr th:only-of-type {\n",
       "        vertical-align: middle;\n",
       "    }\n",
       "\n",
       "    .dataframe tbody tr th {\n",
       "        vertical-align: top;\n",
       "    }\n",
       "\n",
       "    .dataframe thead th {\n",
       "        text-align: right;\n",
       "    }\n",
       "</style>\n",
       "<table border=\"1\" class=\"dataframe\">\n",
       "  <thead>\n",
       "    <tr style=\"text-align: right;\">\n",
       "      <th></th>\n",
       "      <th>movieId</th>\n",
       "      <th>rating_count</th>\n",
       "    </tr>\n",
       "  </thead>\n",
       "  <tbody>\n",
       "    <tr>\n",
       "      <th>0</th>\n",
       "      <td>1</td>\n",
       "      <td>215</td>\n",
       "    </tr>\n",
       "    <tr>\n",
       "      <th>1</th>\n",
       "      <td>2</td>\n",
       "      <td>110</td>\n",
       "    </tr>\n",
       "    <tr>\n",
       "      <th>2</th>\n",
       "      <td>3</td>\n",
       "      <td>52</td>\n",
       "    </tr>\n",
       "    <tr>\n",
       "      <th>3</th>\n",
       "      <td>4</td>\n",
       "      <td>7</td>\n",
       "    </tr>\n",
       "    <tr>\n",
       "      <th>4</th>\n",
       "      <td>5</td>\n",
       "      <td>49</td>\n",
       "    </tr>\n",
       "  </tbody>\n",
       "</table>\n",
       "</div>"
      ],
      "text/plain": [
       "   movieId  rating_count\n",
       "0        1           215\n",
       "1        2           110\n",
       "2        3            52\n",
       "3        4             7\n",
       "4        5            49"
      ]
     },
     "execution_count": 15,
     "metadata": {},
     "output_type": "execute_result"
    }
   ],
   "source": [
    "# Group by & aggregate\n",
    "rating_data_agg = rating_data_grouped.agg(\n",
    "                    rating_count=pd.NamedAgg(column='rating',\n",
    "                                             aggfunc='count')\n",
    "                  )\n",
    "\n",
    "rating_data_agg.head()"
   ]
  },
  {
   "cell_type": "code",
   "execution_count": 16,
   "metadata": {
    "colab": {
     "base_uri": "https://localhost:8080/"
    },
    "id": "rRlwjPwpYbwZ",
    "outputId": "37cef4ee-639f-43c3-8435-d02581772986"
   },
   "outputs": [
    {
     "data": {
      "text/plain": [
       "(9724, 2)"
      ]
     },
     "execution_count": 16,
     "metadata": {},
     "output_type": "execute_result"
    }
   ],
   "source": [
    "rating_data_agg.shape"
   ]
  },
  {
   "cell_type": "markdown",
   "metadata": {
    "id": "LkaCEW_vZ2lC"
   },
   "source": [
    "**Next**, we sort the rating count in descending order (high to low order)"
   ]
  },
  {
   "cell_type": "code",
   "execution_count": 17,
   "metadata": {
    "colab": {
     "base_uri": "https://localhost:8080/",
     "height": 206
    },
    "id": "HF6ipIodbmH6",
    "outputId": "42c49e56-c06d-4d17-8235-9c1c0561c8a9"
   },
   "outputs": [
    {
     "data": {
      "text/html": [
       "<div>\n",
       "<style scoped>\n",
       "    .dataframe tbody tr th:only-of-type {\n",
       "        vertical-align: middle;\n",
       "    }\n",
       "\n",
       "    .dataframe tbody tr th {\n",
       "        vertical-align: top;\n",
       "    }\n",
       "\n",
       "    .dataframe thead th {\n",
       "        text-align: right;\n",
       "    }\n",
       "</style>\n",
       "<table border=\"1\" class=\"dataframe\">\n",
       "  <thead>\n",
       "    <tr style=\"text-align: right;\">\n",
       "      <th></th>\n",
       "      <th>movieId</th>\n",
       "      <th>rating_count</th>\n",
       "    </tr>\n",
       "  </thead>\n",
       "  <tbody>\n",
       "    <tr>\n",
       "      <th>314</th>\n",
       "      <td>356</td>\n",
       "      <td>329</td>\n",
       "    </tr>\n",
       "    <tr>\n",
       "      <th>277</th>\n",
       "      <td>318</td>\n",
       "      <td>317</td>\n",
       "    </tr>\n",
       "    <tr>\n",
       "      <th>257</th>\n",
       "      <td>296</td>\n",
       "      <td>307</td>\n",
       "    </tr>\n",
       "    <tr>\n",
       "      <th>510</th>\n",
       "      <td>593</td>\n",
       "      <td>279</td>\n",
       "    </tr>\n",
       "    <tr>\n",
       "      <th>1938</th>\n",
       "      <td>2571</td>\n",
       "      <td>278</td>\n",
       "    </tr>\n",
       "  </tbody>\n",
       "</table>\n",
       "</div>"
      ],
      "text/plain": [
       "      movieId  rating_count\n",
       "314       356           329\n",
       "277       318           317\n",
       "257       296           307\n",
       "510       593           279\n",
       "1938     2571           278"
      ]
     },
     "execution_count": 17,
     "metadata": {},
     "output_type": "execute_result"
    }
   ],
   "source": [
    "rating_data_sorted = rating_data_agg.sort_values('rating_count',\n",
    "                                                 ascending=False)\n",
    "\n",
    "rating_data_sorted.head()"
   ]
  },
  {
   "cell_type": "code",
   "execution_count": 18,
   "metadata": {
    "colab": {
     "base_uri": "https://localhost:8080/"
    },
    "id": "BPZp-imRb5Nx",
    "outputId": "06cac051-d533-48f3-846d-0e7ea0dc4d73"
   },
   "outputs": [
    {
     "data": {
      "text/plain": [
       "(9724, 2)"
      ]
     },
     "execution_count": 18,
     "metadata": {},
     "output_type": "execute_result"
    }
   ],
   "source": [
    "rating_data_sorted.shape"
   ]
  },
  {
   "cell_type": "markdown",
   "metadata": {
    "id": "hN1DWwl9b9dV"
   },
   "source": [
    "**A fast way** to create previous steps are"
   ]
  },
  {
   "cell_type": "code",
   "execution_count": 19,
   "metadata": {
    "colab": {
     "base_uri": "https://localhost:8080/",
     "height": 224
    },
    "id": "XT5dR3UJcFTs",
    "outputId": "2d26e144-db83-4d69-fb5a-d33b64e8d83e"
   },
   "outputs": [
    {
     "name": "stdout",
     "output_type": "stream",
     "text": [
      "Sorted grouped rating data shape : (9724, 2)\n"
     ]
    },
    {
     "data": {
      "text/html": [
       "<div>\n",
       "<style scoped>\n",
       "    .dataframe tbody tr th:only-of-type {\n",
       "        vertical-align: middle;\n",
       "    }\n",
       "\n",
       "    .dataframe tbody tr th {\n",
       "        vertical-align: top;\n",
       "    }\n",
       "\n",
       "    .dataframe thead th {\n",
       "        text-align: right;\n",
       "    }\n",
       "</style>\n",
       "<table border=\"1\" class=\"dataframe\">\n",
       "  <thead>\n",
       "    <tr style=\"text-align: right;\">\n",
       "      <th></th>\n",
       "      <th>movieId</th>\n",
       "      <th>rating_count</th>\n",
       "    </tr>\n",
       "  </thead>\n",
       "  <tbody>\n",
       "    <tr>\n",
       "      <th>314</th>\n",
       "      <td>356</td>\n",
       "      <td>329</td>\n",
       "    </tr>\n",
       "    <tr>\n",
       "      <th>277</th>\n",
       "      <td>318</td>\n",
       "      <td>317</td>\n",
       "    </tr>\n",
       "    <tr>\n",
       "      <th>257</th>\n",
       "      <td>296</td>\n",
       "      <td>307</td>\n",
       "    </tr>\n",
       "    <tr>\n",
       "      <th>510</th>\n",
       "      <td>593</td>\n",
       "      <td>279</td>\n",
       "    </tr>\n",
       "    <tr>\n",
       "      <th>1938</th>\n",
       "      <td>2571</td>\n",
       "      <td>278</td>\n",
       "    </tr>\n",
       "  </tbody>\n",
       "</table>\n",
       "</div>"
      ],
      "text/plain": [
       "      movieId  rating_count\n",
       "314       356           329\n",
       "277       318           317\n",
       "257       296           307\n",
       "510       593           279\n",
       "1938     2571           278"
      ]
     },
     "execution_count": 19,
     "metadata": {},
     "output_type": "execute_result"
    }
   ],
   "source": [
    "# Groupby, aggregate, and sort data\n",
    "rating_data_grouped = (rating_data\n",
    "                            .groupby('movieId', as_index=False)\n",
    "                            .agg(rating_count=pd.NamedAgg(column='rating',\n",
    "                                                          aggfunc='count'))\n",
    "                            .sort_values('rating_count', ascending=False)\n",
    "                       )\n",
    "\n",
    "\n",
    "# Print shape\n",
    "print('Sorted grouped rating data shape :', rating_data_grouped.shape)\n",
    "rating_data_grouped.head()"
   ]
  },
  {
   "cell_type": "markdown",
   "metadata": {
    "id": "PsgH1QUKdPJS"
   },
   "source": [
    "Create the function"
   ]
  },
  {
   "cell_type": "code",
   "execution_count": 20,
   "metadata": {
    "id": "L-N6wCdudQp-"
   },
   "outputs": [],
   "source": [
    "def get_aggregate_data(rating_data):\n",
    "    \"\"\"\n",
    "    Get the aggregate of rating data.\n",
    "        1. Group by data by movieId\n",
    "        2. Count number of rating given to each movieId\n",
    "\n",
    "    Parameters\n",
    "    ----------\n",
    "    rating_data : pandas DataFrame\n",
    "        The rating data sample\n",
    "\n",
    "    Returns\n",
    "    -------\n",
    "    rating_data_grouped : pandas DataFrame\n",
    "        The grouped rating data\n",
    "    \"\"\"\n",
    "    # Groupby, aggregate, and sort data\n",
    "    rating_data_grouped = (rating_data\n",
    "                                .groupby('movieId', as_index=False)\n",
    "                                .agg(\n",
    "                                    rating_count=pd.NamedAgg(column='rating',\n",
    "                                                            aggfunc='count'))\n",
    "                                .sort_values('rating_count', ascending=False))\n",
    "\n",
    "    # Print shape\n",
    "    print('Sorted grouped rating data shape :', rating_data_grouped.shape)\n",
    "\n",
    "    return rating_data_grouped"
   ]
  },
  {
   "cell_type": "code",
   "execution_count": 21,
   "metadata": {
    "colab": {
     "base_uri": "https://localhost:8080/",
     "height": 224
    },
    "id": "Td-v2hTBdxP1",
    "outputId": "76fd6ace-5dce-4293-e9fc-95c4c0eda46c"
   },
   "outputs": [
    {
     "name": "stdout",
     "output_type": "stream",
     "text": [
      "Sorted grouped rating data shape : (9724, 2)\n"
     ]
    },
    {
     "data": {
      "text/html": [
       "<div>\n",
       "<style scoped>\n",
       "    .dataframe tbody tr th:only-of-type {\n",
       "        vertical-align: middle;\n",
       "    }\n",
       "\n",
       "    .dataframe tbody tr th {\n",
       "        vertical-align: top;\n",
       "    }\n",
       "\n",
       "    .dataframe thead th {\n",
       "        text-align: right;\n",
       "    }\n",
       "</style>\n",
       "<table border=\"1\" class=\"dataframe\">\n",
       "  <thead>\n",
       "    <tr style=\"text-align: right;\">\n",
       "      <th></th>\n",
       "      <th>movieId</th>\n",
       "      <th>rating_count</th>\n",
       "    </tr>\n",
       "  </thead>\n",
       "  <tbody>\n",
       "    <tr>\n",
       "      <th>314</th>\n",
       "      <td>356</td>\n",
       "      <td>329</td>\n",
       "    </tr>\n",
       "    <tr>\n",
       "      <th>277</th>\n",
       "      <td>318</td>\n",
       "      <td>317</td>\n",
       "    </tr>\n",
       "    <tr>\n",
       "      <th>257</th>\n",
       "      <td>296</td>\n",
       "      <td>307</td>\n",
       "    </tr>\n",
       "    <tr>\n",
       "      <th>510</th>\n",
       "      <td>593</td>\n",
       "      <td>279</td>\n",
       "    </tr>\n",
       "    <tr>\n",
       "      <th>1938</th>\n",
       "      <td>2571</td>\n",
       "      <td>278</td>\n",
       "    </tr>\n",
       "  </tbody>\n",
       "</table>\n",
       "</div>"
      ],
      "text/plain": [
       "      movieId  rating_count\n",
       "314       356           329\n",
       "277       318           317\n",
       "257       296           307\n",
       "510       593           279\n",
       "1938     2571           278"
      ]
     },
     "execution_count": 21,
     "metadata": {},
     "output_type": "execute_result"
    }
   ],
   "source": [
    "# Get the grouped rating data\n",
    "rating_data_grouped = get_aggregate_data(rating_data = rating_data)\n",
    "\n",
    "rating_data_grouped.head()"
   ]
  },
  {
   "cell_type": "markdown",
   "metadata": {
    "id": "XT4l5_3id6lQ"
   },
   "source": [
    "## Extract the top $k$ most rated movie\n",
    "---"
   ]
  },
  {
   "cell_type": "markdown",
   "metadata": {
    "id": "CJXz2GozeBNI"
   },
   "source": [
    "From the previous process, we can find the top $k$ most rated movie"
   ]
  },
  {
   "cell_type": "code",
   "execution_count": 22,
   "metadata": {
    "colab": {
     "base_uri": "https://localhost:8080/",
     "height": 363
    },
    "id": "MllnrZCEeHEK",
    "outputId": "e69b939d-4dc0-46ad-f995-49dba04d23da"
   },
   "outputs": [
    {
     "data": {
      "text/html": [
       "<div>\n",
       "<style scoped>\n",
       "    .dataframe tbody tr th:only-of-type {\n",
       "        vertical-align: middle;\n",
       "    }\n",
       "\n",
       "    .dataframe tbody tr th {\n",
       "        vertical-align: top;\n",
       "    }\n",
       "\n",
       "    .dataframe thead th {\n",
       "        text-align: right;\n",
       "    }\n",
       "</style>\n",
       "<table border=\"1\" class=\"dataframe\">\n",
       "  <thead>\n",
       "    <tr style=\"text-align: right;\">\n",
       "      <th></th>\n",
       "      <th>movieId</th>\n",
       "      <th>rating_count</th>\n",
       "    </tr>\n",
       "  </thead>\n",
       "  <tbody>\n",
       "    <tr>\n",
       "      <th>314</th>\n",
       "      <td>356</td>\n",
       "      <td>329</td>\n",
       "    </tr>\n",
       "    <tr>\n",
       "      <th>277</th>\n",
       "      <td>318</td>\n",
       "      <td>317</td>\n",
       "    </tr>\n",
       "    <tr>\n",
       "      <th>257</th>\n",
       "      <td>296</td>\n",
       "      <td>307</td>\n",
       "    </tr>\n",
       "    <tr>\n",
       "      <th>510</th>\n",
       "      <td>593</td>\n",
       "      <td>279</td>\n",
       "    </tr>\n",
       "    <tr>\n",
       "      <th>1938</th>\n",
       "      <td>2571</td>\n",
       "      <td>278</td>\n",
       "    </tr>\n",
       "    <tr>\n",
       "      <th>224</th>\n",
       "      <td>260</td>\n",
       "      <td>251</td>\n",
       "    </tr>\n",
       "    <tr>\n",
       "      <th>418</th>\n",
       "      <td>480</td>\n",
       "      <td>238</td>\n",
       "    </tr>\n",
       "    <tr>\n",
       "      <th>97</th>\n",
       "      <td>110</td>\n",
       "      <td>237</td>\n",
       "    </tr>\n",
       "    <tr>\n",
       "      <th>507</th>\n",
       "      <td>589</td>\n",
       "      <td>224</td>\n",
       "    </tr>\n",
       "    <tr>\n",
       "      <th>461</th>\n",
       "      <td>527</td>\n",
       "      <td>220</td>\n",
       "    </tr>\n",
       "  </tbody>\n",
       "</table>\n",
       "</div>"
      ],
      "text/plain": [
       "      movieId  rating_count\n",
       "314       356           329\n",
       "277       318           317\n",
       "257       296           307\n",
       "510       593           279\n",
       "1938     2571           278\n",
       "224       260           251\n",
       "418       480           238\n",
       "97        110           237\n",
       "507       589           224\n",
       "461       527           220"
      ]
     },
     "execution_count": 22,
     "metadata": {},
     "output_type": "execute_result"
    }
   ],
   "source": [
    "# Say we want to extract top 10 most rated movie\n",
    "k = 10\n",
    "\n",
    "# Extract\n",
    "top_k_movies = rating_data_grouped.head(k).copy()\n",
    "top_k_movies"
   ]
  },
  {
   "cell_type": "markdown",
   "metadata": {
    "id": "ocRrQpidef41"
   },
   "source": [
    "It's nice, but we do not know what movie on each `movieId`. We need to extract the movie title for each `movieId`"
   ]
  },
  {
   "cell_type": "markdown",
   "metadata": {
    "id": "9M6FRu7repZi"
   },
   "source": [
    "Let's load the movie metadata files"
   ]
  },
  {
   "cell_type": "code",
   "execution_count": 23,
   "metadata": {
    "id": "wCC722CPfD19"
   },
   "outputs": [],
   "source": [
    "def load_movie_data(movie_path):\n",
    "    \"\"\"\n",
    "    Load movie data from the given path\n",
    "\n",
    "    Parameters\n",
    "    ----------\n",
    "    movie_path : str\n",
    "        The movie data path\n",
    "\n",
    "    Returns\n",
    "    -------\n",
    "    movie_data : pandas DataFrame\n",
    "        The movie metadata\n",
    "    \"\"\"\n",
    "    # Load data\n",
    "    movie_data = pd.read_csv(movie_path,\n",
    "                             index_col='movieId',\n",
    "                             delimiter=',')\n",
    "\n",
    "    print('Movie data shape :', movie_data.shape)\n",
    "    return movie_data\n"
   ]
  },
  {
   "cell_type": "code",
   "execution_count": 24,
   "metadata": {
    "id": "VX9AwTl7fcJ_"
   },
   "outputs": [],
   "source": [
    "# Define the movie path\n",
    "movie_path = '../data/movies.csv'"
   ]
  },
  {
   "cell_type": "code",
   "execution_count": 25,
   "metadata": {
    "colab": {
     "base_uri": "https://localhost:8080/",
     "height": 255
    },
    "id": "uZKrIXk9fonb",
    "outputId": "bd8c3f71-7651-4704-dcc5-43475a52704c"
   },
   "outputs": [
    {
     "name": "stdout",
     "output_type": "stream",
     "text": [
      "Movie data shape : (9742, 2)\n"
     ]
    },
    {
     "data": {
      "text/html": [
       "<div>\n",
       "<style scoped>\n",
       "    .dataframe tbody tr th:only-of-type {\n",
       "        vertical-align: middle;\n",
       "    }\n",
       "\n",
       "    .dataframe tbody tr th {\n",
       "        vertical-align: top;\n",
       "    }\n",
       "\n",
       "    .dataframe thead th {\n",
       "        text-align: right;\n",
       "    }\n",
       "</style>\n",
       "<table border=\"1\" class=\"dataframe\">\n",
       "  <thead>\n",
       "    <tr style=\"text-align: right;\">\n",
       "      <th></th>\n",
       "      <th>title</th>\n",
       "      <th>genres</th>\n",
       "    </tr>\n",
       "    <tr>\n",
       "      <th>movieId</th>\n",
       "      <th></th>\n",
       "      <th></th>\n",
       "    </tr>\n",
       "  </thead>\n",
       "  <tbody>\n",
       "    <tr>\n",
       "      <th>1</th>\n",
       "      <td>Toy Story (1995)</td>\n",
       "      <td>Adventure|Animation|Children|Comedy|Fantasy</td>\n",
       "    </tr>\n",
       "    <tr>\n",
       "      <th>2</th>\n",
       "      <td>Jumanji (1995)</td>\n",
       "      <td>Adventure|Children|Fantasy</td>\n",
       "    </tr>\n",
       "    <tr>\n",
       "      <th>3</th>\n",
       "      <td>Grumpier Old Men (1995)</td>\n",
       "      <td>Comedy|Romance</td>\n",
       "    </tr>\n",
       "    <tr>\n",
       "      <th>4</th>\n",
       "      <td>Waiting to Exhale (1995)</td>\n",
       "      <td>Comedy|Drama|Romance</td>\n",
       "    </tr>\n",
       "    <tr>\n",
       "      <th>5</th>\n",
       "      <td>Father of the Bride Part II (1995)</td>\n",
       "      <td>Comedy</td>\n",
       "    </tr>\n",
       "  </tbody>\n",
       "</table>\n",
       "</div>"
      ],
      "text/plain": [
       "                                      title  \\\n",
       "movieId                                       \n",
       "1                          Toy Story (1995)   \n",
       "2                            Jumanji (1995)   \n",
       "3                   Grumpier Old Men (1995)   \n",
       "4                  Waiting to Exhale (1995)   \n",
       "5        Father of the Bride Part II (1995)   \n",
       "\n",
       "                                              genres  \n",
       "movieId                                               \n",
       "1        Adventure|Animation|Children|Comedy|Fantasy  \n",
       "2                         Adventure|Children|Fantasy  \n",
       "3                                     Comedy|Romance  \n",
       "4                               Comedy|Drama|Romance  \n",
       "5                                             Comedy  "
      ]
     },
     "execution_count": 25,
     "metadata": {},
     "output_type": "execute_result"
    }
   ],
   "source": [
    "# Load movie data\n",
    "movie_data = load_movie_data(movie_path = movie_path)\n",
    "\n",
    "movie_data.head()"
   ]
  },
  {
   "cell_type": "markdown",
   "metadata": {
    "id": "uL1Sf3gzf2Q4"
   },
   "source": [
    "Finally, we can extract the title of the `top_k_movies`"
   ]
  },
  {
   "cell_type": "code",
   "execution_count": 26,
   "metadata": {
    "colab": {
     "base_uri": "https://localhost:8080/",
     "height": 363
    },
    "id": "DO1OnJi4gCMV",
    "outputId": "3002d772-8217-4272-8e4e-5d0111446f16"
   },
   "outputs": [
    {
     "data": {
      "text/html": [
       "<div>\n",
       "<style scoped>\n",
       "    .dataframe tbody tr th:only-of-type {\n",
       "        vertical-align: middle;\n",
       "    }\n",
       "\n",
       "    .dataframe tbody tr th {\n",
       "        vertical-align: top;\n",
       "    }\n",
       "\n",
       "    .dataframe thead th {\n",
       "        text-align: right;\n",
       "    }\n",
       "</style>\n",
       "<table border=\"1\" class=\"dataframe\">\n",
       "  <thead>\n",
       "    <tr style=\"text-align: right;\">\n",
       "      <th></th>\n",
       "      <th>movieId</th>\n",
       "      <th>rating_count</th>\n",
       "      <th>title</th>\n",
       "      <th>genres</th>\n",
       "    </tr>\n",
       "  </thead>\n",
       "  <tbody>\n",
       "    <tr>\n",
       "      <th>314</th>\n",
       "      <td>356</td>\n",
       "      <td>329</td>\n",
       "      <td>Forrest Gump (1994)</td>\n",
       "      <td>Comedy|Drama|Romance|War</td>\n",
       "    </tr>\n",
       "    <tr>\n",
       "      <th>277</th>\n",
       "      <td>318</td>\n",
       "      <td>317</td>\n",
       "      <td>Shawshank Redemption, The (1994)</td>\n",
       "      <td>Crime|Drama</td>\n",
       "    </tr>\n",
       "    <tr>\n",
       "      <th>257</th>\n",
       "      <td>296</td>\n",
       "      <td>307</td>\n",
       "      <td>Pulp Fiction (1994)</td>\n",
       "      <td>Comedy|Crime|Drama|Thriller</td>\n",
       "    </tr>\n",
       "    <tr>\n",
       "      <th>510</th>\n",
       "      <td>593</td>\n",
       "      <td>279</td>\n",
       "      <td>Silence of the Lambs, The (1991)</td>\n",
       "      <td>Crime|Horror|Thriller</td>\n",
       "    </tr>\n",
       "    <tr>\n",
       "      <th>1938</th>\n",
       "      <td>2571</td>\n",
       "      <td>278</td>\n",
       "      <td>Matrix, The (1999)</td>\n",
       "      <td>Action|Sci-Fi|Thriller</td>\n",
       "    </tr>\n",
       "    <tr>\n",
       "      <th>224</th>\n",
       "      <td>260</td>\n",
       "      <td>251</td>\n",
       "      <td>Star Wars: Episode IV - A New Hope (1977)</td>\n",
       "      <td>Action|Adventure|Sci-Fi</td>\n",
       "    </tr>\n",
       "    <tr>\n",
       "      <th>418</th>\n",
       "      <td>480</td>\n",
       "      <td>238</td>\n",
       "      <td>Jurassic Park (1993)</td>\n",
       "      <td>Action|Adventure|Sci-Fi|Thriller</td>\n",
       "    </tr>\n",
       "    <tr>\n",
       "      <th>97</th>\n",
       "      <td>110</td>\n",
       "      <td>237</td>\n",
       "      <td>Braveheart (1995)</td>\n",
       "      <td>Action|Drama|War</td>\n",
       "    </tr>\n",
       "    <tr>\n",
       "      <th>507</th>\n",
       "      <td>589</td>\n",
       "      <td>224</td>\n",
       "      <td>Terminator 2: Judgment Day (1991)</td>\n",
       "      <td>Action|Sci-Fi</td>\n",
       "    </tr>\n",
       "    <tr>\n",
       "      <th>461</th>\n",
       "      <td>527</td>\n",
       "      <td>220</td>\n",
       "      <td>Schindler's List (1993)</td>\n",
       "      <td>Drama|War</td>\n",
       "    </tr>\n",
       "  </tbody>\n",
       "</table>\n",
       "</div>"
      ],
      "text/plain": [
       "      movieId  rating_count                                      title  \\\n",
       "314       356           329                        Forrest Gump (1994)   \n",
       "277       318           317           Shawshank Redemption, The (1994)   \n",
       "257       296           307                        Pulp Fiction (1994)   \n",
       "510       593           279           Silence of the Lambs, The (1991)   \n",
       "1938     2571           278                         Matrix, The (1999)   \n",
       "224       260           251  Star Wars: Episode IV - A New Hope (1977)   \n",
       "418       480           238                       Jurassic Park (1993)   \n",
       "97        110           237                          Braveheart (1995)   \n",
       "507       589           224          Terminator 2: Judgment Day (1991)   \n",
       "461       527           220                    Schindler's List (1993)   \n",
       "\n",
       "                                genres  \n",
       "314           Comedy|Drama|Romance|War  \n",
       "277                        Crime|Drama  \n",
       "257        Comedy|Crime|Drama|Thriller  \n",
       "510              Crime|Horror|Thriller  \n",
       "1938            Action|Sci-Fi|Thriller  \n",
       "224            Action|Adventure|Sci-Fi  \n",
       "418   Action|Adventure|Sci-Fi|Thriller  \n",
       "97                    Action|Drama|War  \n",
       "507                      Action|Sci-Fi  \n",
       "461                          Drama|War  "
      ]
     },
     "execution_count": 26,
     "metadata": {},
     "output_type": "execute_result"
    }
   ],
   "source": [
    "top_k_movies['title'] = movie_data.loc[top_k_movies['movieId'], 'title'].tolist()\n",
    "top_k_movies['genres'] = movie_data.loc[top_k_movies['movieId'], 'genres'].tolist()\n",
    "top_k_movies"
   ]
  },
  {
   "cell_type": "markdown",
   "metadata": {
    "id": "srUaDLUtycJo"
   },
   "source": [
    "Nice, we can see get the top 10 most rated movie (even though they are old movies)"
   ]
  },
  {
   "cell_type": "markdown",
   "metadata": {
    "id": "9exiTyZ5ib7Q"
   },
   "source": [
    "## Create get top rated movies functions\n",
    "---"
   ]
  },
  {
   "cell_type": "markdown",
   "metadata": {
    "id": "OOAAfZipikhW"
   },
   "source": [
    "Let's summarize all of our code"
   ]
  },
  {
   "cell_type": "code",
   "execution_count": 27,
   "metadata": {
    "id": "EY-r0iFFinVU"
   },
   "outputs": [],
   "source": [
    "# get the top K most rated movie\n",
    "def get_top_rated_movie(k, rating_data_grouped, movie_data):\n",
    "    \"\"\"\n",
    "    Get the top k most rated movie\n",
    "\n",
    "    Parameters\n",
    "    ----------\n",
    "    k : int\n",
    "        Number of top k most rated movie\n",
    "\n",
    "    rating_data_grouped : pandas DataFrame\n",
    "        The grouped rating data\n",
    "\n",
    "    movie_data : pandas DataFrame\n",
    "        The movie metadata (contains movie title)\n",
    "\n",
    "    Returns\n",
    "    -------\n",
    "    top_movies_data : pandas DataFrame\n",
    "        The top k movies data\n",
    "    \"\"\"\n",
    "    # Extract the top k most rated movie\n",
    "    top_movies = rating_data_grouped.head(k).copy()\n",
    "\n",
    "    # Add the title\n",
    "    top_movies['title'] = movie_data.loc[top_movies['movieId'], 'title'].tolist()\n",
    "    top_movies['genres'] = movie_data.loc[top_movies['movieId'], 'genres'].tolist()\n",
    "\n",
    "    print(f'The top {k} most rated movie shape :', top_movies.shape)\n",
    "    return top_movies\n"
   ]
  },
  {
   "cell_type": "code",
   "execution_count": 28,
   "metadata": {
    "colab": {
     "base_uri": "https://localhost:8080/",
     "height": 380
    },
    "id": "0c640Paujp9Z",
    "outputId": "c8f8065d-5039-40d4-aaac-47e1dedb8732"
   },
   "outputs": [
    {
     "name": "stdout",
     "output_type": "stream",
     "text": [
      "The top 10 most rated movie shape : (10, 4)\n"
     ]
    },
    {
     "data": {
      "text/html": [
       "<div>\n",
       "<style scoped>\n",
       "    .dataframe tbody tr th:only-of-type {\n",
       "        vertical-align: middle;\n",
       "    }\n",
       "\n",
       "    .dataframe tbody tr th {\n",
       "        vertical-align: top;\n",
       "    }\n",
       "\n",
       "    .dataframe thead th {\n",
       "        text-align: right;\n",
       "    }\n",
       "</style>\n",
       "<table border=\"1\" class=\"dataframe\">\n",
       "  <thead>\n",
       "    <tr style=\"text-align: right;\">\n",
       "      <th></th>\n",
       "      <th>movieId</th>\n",
       "      <th>rating_count</th>\n",
       "      <th>title</th>\n",
       "      <th>genres</th>\n",
       "    </tr>\n",
       "  </thead>\n",
       "  <tbody>\n",
       "    <tr>\n",
       "      <th>314</th>\n",
       "      <td>356</td>\n",
       "      <td>329</td>\n",
       "      <td>Forrest Gump (1994)</td>\n",
       "      <td>Comedy|Drama|Romance|War</td>\n",
       "    </tr>\n",
       "    <tr>\n",
       "      <th>277</th>\n",
       "      <td>318</td>\n",
       "      <td>317</td>\n",
       "      <td>Shawshank Redemption, The (1994)</td>\n",
       "      <td>Crime|Drama</td>\n",
       "    </tr>\n",
       "    <tr>\n",
       "      <th>257</th>\n",
       "      <td>296</td>\n",
       "      <td>307</td>\n",
       "      <td>Pulp Fiction (1994)</td>\n",
       "      <td>Comedy|Crime|Drama|Thriller</td>\n",
       "    </tr>\n",
       "    <tr>\n",
       "      <th>510</th>\n",
       "      <td>593</td>\n",
       "      <td>279</td>\n",
       "      <td>Silence of the Lambs, The (1991)</td>\n",
       "      <td>Crime|Horror|Thriller</td>\n",
       "    </tr>\n",
       "    <tr>\n",
       "      <th>1938</th>\n",
       "      <td>2571</td>\n",
       "      <td>278</td>\n",
       "      <td>Matrix, The (1999)</td>\n",
       "      <td>Action|Sci-Fi|Thriller</td>\n",
       "    </tr>\n",
       "    <tr>\n",
       "      <th>224</th>\n",
       "      <td>260</td>\n",
       "      <td>251</td>\n",
       "      <td>Star Wars: Episode IV - A New Hope (1977)</td>\n",
       "      <td>Action|Adventure|Sci-Fi</td>\n",
       "    </tr>\n",
       "    <tr>\n",
       "      <th>418</th>\n",
       "      <td>480</td>\n",
       "      <td>238</td>\n",
       "      <td>Jurassic Park (1993)</td>\n",
       "      <td>Action|Adventure|Sci-Fi|Thriller</td>\n",
       "    </tr>\n",
       "    <tr>\n",
       "      <th>97</th>\n",
       "      <td>110</td>\n",
       "      <td>237</td>\n",
       "      <td>Braveheart (1995)</td>\n",
       "      <td>Action|Drama|War</td>\n",
       "    </tr>\n",
       "    <tr>\n",
       "      <th>507</th>\n",
       "      <td>589</td>\n",
       "      <td>224</td>\n",
       "      <td>Terminator 2: Judgment Day (1991)</td>\n",
       "      <td>Action|Sci-Fi</td>\n",
       "    </tr>\n",
       "    <tr>\n",
       "      <th>461</th>\n",
       "      <td>527</td>\n",
       "      <td>220</td>\n",
       "      <td>Schindler's List (1993)</td>\n",
       "      <td>Drama|War</td>\n",
       "    </tr>\n",
       "  </tbody>\n",
       "</table>\n",
       "</div>"
      ],
      "text/plain": [
       "      movieId  rating_count                                      title  \\\n",
       "314       356           329                        Forrest Gump (1994)   \n",
       "277       318           317           Shawshank Redemption, The (1994)   \n",
       "257       296           307                        Pulp Fiction (1994)   \n",
       "510       593           279           Silence of the Lambs, The (1991)   \n",
       "1938     2571           278                         Matrix, The (1999)   \n",
       "224       260           251  Star Wars: Episode IV - A New Hope (1977)   \n",
       "418       480           238                       Jurassic Park (1993)   \n",
       "97        110           237                          Braveheart (1995)   \n",
       "507       589           224          Terminator 2: Judgment Day (1991)   \n",
       "461       527           220                    Schindler's List (1993)   \n",
       "\n",
       "                                genres  \n",
       "314           Comedy|Drama|Romance|War  \n",
       "277                        Crime|Drama  \n",
       "257        Comedy|Crime|Drama|Thriller  \n",
       "510              Crime|Horror|Thriller  \n",
       "1938            Action|Sci-Fi|Thriller  \n",
       "224            Action|Adventure|Sci-Fi  \n",
       "418   Action|Adventure|Sci-Fi|Thriller  \n",
       "97                    Action|Drama|War  \n",
       "507                      Action|Sci-Fi  \n",
       "461                          Drama|War  "
      ]
     },
     "execution_count": 28,
     "metadata": {},
     "output_type": "execute_result"
    }
   ],
   "source": [
    "top_movies = get_top_rated_movie(k = 10,\n",
    "                                 rating_data_grouped = rating_data_grouped,\n",
    "                                 movie_data = movie_data)\n",
    "\n",
    "top_movies"
   ]
  },
  {
   "cell_type": "markdown",
   "metadata": {
    "id": "DHMH6tYajoq2"
   },
   "source": [
    "Nice!\n",
    "\n",
    "Let's recreate the whole process"
   ]
  },
  {
   "cell_type": "code",
   "execution_count": 29,
   "metadata": {
    "colab": {
     "base_uri": "https://localhost:8080/",
     "height": 224
    },
    "id": "hMUPzFLsmiRU",
    "outputId": "3b2e0ae5-854c-43ff-ae7a-6ed01f2c71b1"
   },
   "outputs": [
    {
     "name": "stdout",
     "output_type": "stream",
     "text": [
      "Sorted grouped rating data shape : (9724, 2)\n"
     ]
    },
    {
     "data": {
      "text/html": [
       "<div>\n",
       "<style scoped>\n",
       "    .dataframe tbody tr th:only-of-type {\n",
       "        vertical-align: middle;\n",
       "    }\n",
       "\n",
       "    .dataframe tbody tr th {\n",
       "        vertical-align: top;\n",
       "    }\n",
       "\n",
       "    .dataframe thead th {\n",
       "        text-align: right;\n",
       "    }\n",
       "</style>\n",
       "<table border=\"1\" class=\"dataframe\">\n",
       "  <thead>\n",
       "    <tr style=\"text-align: right;\">\n",
       "      <th></th>\n",
       "      <th>movieId</th>\n",
       "      <th>rating_count</th>\n",
       "    </tr>\n",
       "  </thead>\n",
       "  <tbody>\n",
       "    <tr>\n",
       "      <th>314</th>\n",
       "      <td>356</td>\n",
       "      <td>329</td>\n",
       "    </tr>\n",
       "    <tr>\n",
       "      <th>277</th>\n",
       "      <td>318</td>\n",
       "      <td>317</td>\n",
       "    </tr>\n",
       "    <tr>\n",
       "      <th>257</th>\n",
       "      <td>296</td>\n",
       "      <td>307</td>\n",
       "    </tr>\n",
       "    <tr>\n",
       "      <th>510</th>\n",
       "      <td>593</td>\n",
       "      <td>279</td>\n",
       "    </tr>\n",
       "    <tr>\n",
       "      <th>1938</th>\n",
       "      <td>2571</td>\n",
       "      <td>278</td>\n",
       "    </tr>\n",
       "  </tbody>\n",
       "</table>\n",
       "</div>"
      ],
      "text/plain": [
       "      movieId  rating_count\n",
       "314       356           329\n",
       "277       318           317\n",
       "257       296           307\n",
       "510       593           279\n",
       "1938     2571           278"
      ]
     },
     "execution_count": 29,
     "metadata": {},
     "output_type": "execute_result"
    }
   ],
   "source": [
    "# Generate grouped rating data\n",
    "rating_data_grouped = get_aggregate_data(rating_data = rating_data)\n",
    "\n",
    "rating_data_grouped.head()"
   ]
  },
  {
   "cell_type": "code",
   "execution_count": 30,
   "metadata": {
    "colab": {
     "base_uri": "https://localhost:8080/",
     "height": 255
    },
    "id": "GyCddHaZmsQ7",
    "outputId": "66f4eea9-6daa-4cf5-e6f3-1914927eaf31"
   },
   "outputs": [
    {
     "name": "stdout",
     "output_type": "stream",
     "text": [
      "Movie data shape : (9742, 2)\n"
     ]
    },
    {
     "data": {
      "text/html": [
       "<div>\n",
       "<style scoped>\n",
       "    .dataframe tbody tr th:only-of-type {\n",
       "        vertical-align: middle;\n",
       "    }\n",
       "\n",
       "    .dataframe tbody tr th {\n",
       "        vertical-align: top;\n",
       "    }\n",
       "\n",
       "    .dataframe thead th {\n",
       "        text-align: right;\n",
       "    }\n",
       "</style>\n",
       "<table border=\"1\" class=\"dataframe\">\n",
       "  <thead>\n",
       "    <tr style=\"text-align: right;\">\n",
       "      <th></th>\n",
       "      <th>title</th>\n",
       "      <th>genres</th>\n",
       "    </tr>\n",
       "    <tr>\n",
       "      <th>movieId</th>\n",
       "      <th></th>\n",
       "      <th></th>\n",
       "    </tr>\n",
       "  </thead>\n",
       "  <tbody>\n",
       "    <tr>\n",
       "      <th>1</th>\n",
       "      <td>Toy Story (1995)</td>\n",
       "      <td>Adventure|Animation|Children|Comedy|Fantasy</td>\n",
       "    </tr>\n",
       "    <tr>\n",
       "      <th>2</th>\n",
       "      <td>Jumanji (1995)</td>\n",
       "      <td>Adventure|Children|Fantasy</td>\n",
       "    </tr>\n",
       "    <tr>\n",
       "      <th>3</th>\n",
       "      <td>Grumpier Old Men (1995)</td>\n",
       "      <td>Comedy|Romance</td>\n",
       "    </tr>\n",
       "    <tr>\n",
       "      <th>4</th>\n",
       "      <td>Waiting to Exhale (1995)</td>\n",
       "      <td>Comedy|Drama|Romance</td>\n",
       "    </tr>\n",
       "    <tr>\n",
       "      <th>5</th>\n",
       "      <td>Father of the Bride Part II (1995)</td>\n",
       "      <td>Comedy</td>\n",
       "    </tr>\n",
       "  </tbody>\n",
       "</table>\n",
       "</div>"
      ],
      "text/plain": [
       "                                      title  \\\n",
       "movieId                                       \n",
       "1                          Toy Story (1995)   \n",
       "2                            Jumanji (1995)   \n",
       "3                   Grumpier Old Men (1995)   \n",
       "4                  Waiting to Exhale (1995)   \n",
       "5        Father of the Bride Part II (1995)   \n",
       "\n",
       "                                              genres  \n",
       "movieId                                               \n",
       "1        Adventure|Animation|Children|Comedy|Fantasy  \n",
       "2                         Adventure|Children|Fantasy  \n",
       "3                                     Comedy|Romance  \n",
       "4                               Comedy|Drama|Romance  \n",
       "5                                             Comedy  "
      ]
     },
     "execution_count": 30,
     "metadata": {},
     "output_type": "execute_result"
    }
   ],
   "source": [
    "# Load movie data\n",
    "movie_data = load_movie_data(movie_path = movie_path)\n",
    "\n",
    "movie_data.head()"
   ]
  },
  {
   "cell_type": "code",
   "execution_count": 31,
   "metadata": {
    "colab": {
     "base_uri": "https://localhost:8080/",
     "height": 224
    },
    "id": "oW3wOVSemyEi",
    "outputId": "047376ed-5573-4089-d109-5d3ab9f069ce"
   },
   "outputs": [
    {
     "name": "stdout",
     "output_type": "stream",
     "text": [
      "The top 5 most rated movie shape : (5, 4)\n"
     ]
    },
    {
     "data": {
      "text/html": [
       "<div>\n",
       "<style scoped>\n",
       "    .dataframe tbody tr th:only-of-type {\n",
       "        vertical-align: middle;\n",
       "    }\n",
       "\n",
       "    .dataframe tbody tr th {\n",
       "        vertical-align: top;\n",
       "    }\n",
       "\n",
       "    .dataframe thead th {\n",
       "        text-align: right;\n",
       "    }\n",
       "</style>\n",
       "<table border=\"1\" class=\"dataframe\">\n",
       "  <thead>\n",
       "    <tr style=\"text-align: right;\">\n",
       "      <th></th>\n",
       "      <th>movieId</th>\n",
       "      <th>rating_count</th>\n",
       "      <th>title</th>\n",
       "      <th>genres</th>\n",
       "    </tr>\n",
       "  </thead>\n",
       "  <tbody>\n",
       "    <tr>\n",
       "      <th>314</th>\n",
       "      <td>356</td>\n",
       "      <td>329</td>\n",
       "      <td>Forrest Gump (1994)</td>\n",
       "      <td>Comedy|Drama|Romance|War</td>\n",
       "    </tr>\n",
       "    <tr>\n",
       "      <th>277</th>\n",
       "      <td>318</td>\n",
       "      <td>317</td>\n",
       "      <td>Shawshank Redemption, The (1994)</td>\n",
       "      <td>Crime|Drama</td>\n",
       "    </tr>\n",
       "    <tr>\n",
       "      <th>257</th>\n",
       "      <td>296</td>\n",
       "      <td>307</td>\n",
       "      <td>Pulp Fiction (1994)</td>\n",
       "      <td>Comedy|Crime|Drama|Thriller</td>\n",
       "    </tr>\n",
       "    <tr>\n",
       "      <th>510</th>\n",
       "      <td>593</td>\n",
       "      <td>279</td>\n",
       "      <td>Silence of the Lambs, The (1991)</td>\n",
       "      <td>Crime|Horror|Thriller</td>\n",
       "    </tr>\n",
       "    <tr>\n",
       "      <th>1938</th>\n",
       "      <td>2571</td>\n",
       "      <td>278</td>\n",
       "      <td>Matrix, The (1999)</td>\n",
       "      <td>Action|Sci-Fi|Thriller</td>\n",
       "    </tr>\n",
       "  </tbody>\n",
       "</table>\n",
       "</div>"
      ],
      "text/plain": [
       "      movieId  rating_count                             title  \\\n",
       "314       356           329               Forrest Gump (1994)   \n",
       "277       318           317  Shawshank Redemption, The (1994)   \n",
       "257       296           307               Pulp Fiction (1994)   \n",
       "510       593           279  Silence of the Lambs, The (1991)   \n",
       "1938     2571           278                Matrix, The (1999)   \n",
       "\n",
       "                           genres  \n",
       "314      Comedy|Drama|Romance|War  \n",
       "277                   Crime|Drama  \n",
       "257   Comedy|Crime|Drama|Thriller  \n",
       "510         Crime|Horror|Thriller  \n",
       "1938       Action|Sci-Fi|Thriller  "
      ]
     },
     "execution_count": 31,
     "metadata": {},
     "output_type": "execute_result"
    }
   ],
   "source": [
    "# Get the top 5 recommendations\n",
    "top_movies = get_top_rated_movie(k = 5,\n",
    "                                 rating_data_grouped = rating_data_grouped,\n",
    "                                 movie_data = movie_data)\n",
    "\n",
    "top_movies"
   ]
  },
  {
   "cell_type": "markdown",
   "metadata": {
    "id": "Aoc0m8HsnFZT"
   },
   "source": [
    "We can visualize the top rated movies"
   ]
  },
  {
   "cell_type": "code",
   "execution_count": 32,
   "metadata": {
    "id": "PwkTpVj8nJvZ"
   },
   "outputs": [],
   "source": [
    "import matplotlib.pyplot as plt\n",
    "import seaborn as sns"
   ]
  },
  {
   "cell_type": "code",
   "execution_count": 33,
   "metadata": {
    "colab": {
     "base_uri": "https://localhost:8080/",
     "height": 487
    },
    "id": "R786ANRlnOeC",
    "outputId": "9da1b3e1-9717-481f-8c6c-c6d6382cc8be"
   },
   "outputs": [
    {
     "data": {
      "image/png": "[encoded data removed]",
      "text/plain": [
       "<Figure size 500x500 with 1 Axes>"
      ]
     },
     "metadata": {},
     "output_type": "display_data"
    }
   ],
   "source": [
    "fig, ax = plt.subplots(nrows=1, ncols=1, figsize=(5, 5))\n",
    "\n",
    "sns.barplot(data = top_movies,\n",
    "            x = 'rating_count',\n",
    "            y = 'title',\n",
    "            color = 'tab:blue',\n",
    "            ax = ax)\n",
    "\n",
    "plt.title('Top 5 Most Rated Movies')\n",
    "plt.show()"
   ]
  },
  {
   "cell_type": "markdown",
   "metadata": {
    "id": "uIQOAyy-oDFE"
   },
   "source": [
    "Finally, we've made our top $k$ recommendation systems by the most rated movies.\n",
    "\n",
    "What do you think? **Would it be enough to increase the user retention if we recommend these movies to all users?**"
   ]
  },
  {
   "cell_type": "markdown",
   "metadata": {
    "id": "4Kd6ty1Ims7K"
   },
   "source": [
    "# **3. Personalized Recommender Systems**: Collaborative Filtering\n",
    "---"
   ]
  },
  {
   "cell_type": "markdown",
   "metadata": {
    "id": "RFV2ZJ0wq-Xv"
   },
   "source": [
    "## Background\n",
    "---"
   ]
  },
  {
   "cell_type": "markdown",
   "metadata": {
    "id": "jIoIqGEHp9vn"
   },
   "source": [
    "One drawback from a non-personalized RecSys is **user** might dislikes the recommendations.\n",
    "\n",
    "e.g.\n",
    "- You might **dislike** horror movie recommendation if you **like** action more."
   ]
  },
  {
   "cell_type": "markdown",
   "metadata": {
    "id": "BYhzFD3Cqgu5"
   },
   "source": [
    "In reality, each user has their own movie preferences. So, what if we can create a RecSys that personalized to each user? Baam! A **personalized RecSys** via collaborative filtering."
   ]
  },
  {
   "cell_type": "markdown",
   "metadata": {
    "id": "vgQpsHggq9on"
   },
   "source": [
    "To build a personalized RecSys, you can start by creating a **user-rating** or **utility** matrix."
   ]
  },
  {
   "cell_type": "markdown",
   "metadata": {
    "id": "oF_Qv7FprU_l"
   },
   "source": [
    "<center>\n",
    "\n",
    "<image src=\"../assets/user_film_matrix.png\">\n",
    "<br>\n",
    "<a href=\"https://thecattlecrew.net\">Source: The Calttle Crew</a>\n",
    "\n",
    "</center>"
   ]
  },
  {
   "cell_type": "markdown",
   "metadata": {
    "id": "d8-lr9TLrnbm"
   },
   "source": [
    "- The utility matrix store the rating (utility) from users to items (read: movies).\n",
    "- The shape of utility matrix is `(#users x #items)`. If you have 500 users with 2,000 movies, your utility matrix shape should be `(500, 2000)`\n",
    "- The value of `5, 1, 3, 5, 4, 3, ...` is the rating that is given by users to movies.\n",
    "- What is `?` ? It means that user-`i` haven't rate movie-`j` yet.\n",
    "\n"
   ]
  },
  {
   "cell_type": "markdown",
   "metadata": {
    "id": "9kKieHJ3tLK4"
   },
   "source": [
    "- From the utility matrix, we can get the characters of each user or each items.\n",
    "- From user and item characters, we can create a personalized recommendations.\n"
   ]
  },
  {
   "cell_type": "markdown",
   "metadata": {
    "id": "KKtB2-8N1OP-"
   },
   "source": [
    "**Sparse Matrix**\n",
    "\n",
    "---\n",
    "\n",
    "- Utility matrix is a sparse matrix (only small % of utility matrix are filled with utility value)"
   ]
  },
  {
   "cell_type": "markdown",
   "metadata": {
    "id": "oMywvd0z1qV-"
   },
   "source": [
    "<center>\n",
    "\n",
    "<image src=\"../assets/sparse_matrix.png\">\n",
    "<br>\n",
    "<a href=\"https://cmdlinetips.com/\">Source: The CMD Line Tips</a>\n",
    "\n",
    "</center>"
   ]
  },
  {
   "cell_type": "markdown",
   "metadata": {
    "id": "zG8GOkEZ18rH"
   },
   "source": [
    "**Problems**:\n",
    "- If you create a full-shaped utility matrix, it needs **a lot of memory** to save and operate.\n",
    "\n",
    "\n",
    "**Solutions**:\n",
    "- We can use other matrix format to define the utility matrix.\n",
    "  1. COO\n",
    "  2. CSR\n"
   ]
  },
  {
   "cell_type": "markdown",
   "metadata": {
    "id": "WUb5ncnz2N5g"
   },
   "source": [
    "**COO matrix format**\n",
    "\n",
    "---\n",
    "\n",
    "- It map the non-zero values by storing its position (row and columns).\n",
    "\n",
    "<center>\n",
    "\n",
    "<image src=\"../assets/coo.gif\">\n",
    "<br>\n",
    "<a href=\"https://matteding.github.io/\">Source: The Matt Eding Github</a>\n",
    "\n",
    "</center>"
   ]
  },
  {
   "cell_type": "markdown",
   "metadata": {
    "id": "u1SHzpGytFTD"
   },
   "source": [
    "## Workflow\n",
    "---"
   ]
  },
  {
   "cell_type": "markdown",
   "metadata": {
    "id": "p4_cLVQQttS4"
   },
   "source": [
    "To create a personalized RecSys, we can follow these steps:\n",
    "\n",
    "```\n",
    "1. Data Preparation --> Create utility matrix & Split Train-Test\n",
    "2. Data Preprocessing --> Handling missing values\n",
    "3. Train recommendation model --> Baseline, Neighbor-based (K-NN) & Matrix Factorization (SVD-like)\n",
    "```"
   ]
  },
  {
   "cell_type": "markdown",
   "metadata": {
    "id": "VVb1pJpwuNCV"
   },
   "source": [
    "## Data Preparation : Create Utility Matrix & Split Train-Test\n",
    "---"
   ]
  },
  {
   "cell_type": "markdown",
   "metadata": {
    "id": "wlOkJ5L-uQ37"
   },
   "source": [
    "### Create Utility Matrix in COO format"
   ]
  },
  {
   "cell_type": "markdown",
   "metadata": {
    "id": "Mcu3f9IM03jh"
   },
   "source": [
    "For now, we create the utility matrix in COO format easily using `SciPy` library."
   ]
  },
  {
   "cell_type": "code",
   "execution_count": 34,
   "metadata": {
    "id": "dACSWMZX3KFl"
   },
   "outputs": [],
   "source": [
    "# Load library\n",
    "from scipy.sparse import coo_matrix"
   ]
  },
  {
   "cell_type": "code",
   "execution_count": 35,
   "metadata": {
    "id": "0lq30qqz3OoX"
   },
   "outputs": [],
   "source": [
    "# Prepare the data\n",
    "row = rating_data['userId'].values\n",
    "col = rating_data['movieId'].values\n",
    "data = rating_data['rating'].values"
   ]
  },
  {
   "cell_type": "code",
   "execution_count": 36,
   "metadata": {
    "colab": {
     "base_uri": "https://localhost:8080/"
    },
    "id": "yd63WXYi3wA5",
    "outputId": "233981e0-0541-4a9d-b7ab-6090056822ae"
   },
   "outputs": [
    {
     "name": "stdout",
     "output_type": "stream",
     "text": [
      "  (1, 1)\t4.0\n",
      "  (1, 3)\t4.0\n",
      "  (1, 6)\t4.0\n",
      "  (1, 47)\t5.0\n",
      "  (1, 50)\t5.0\n",
      "  (1, 70)\t3.0\n",
      "  (1, 101)\t5.0\n",
      "  (1, 110)\t4.0\n",
      "  (1, 151)\t5.0\n",
      "  (1, 157)\t5.0\n",
      "  (1, 163)\t5.0\n",
      "  (1, 216)\t5.0\n",
      "  (1, 223)\t3.0\n",
      "  (1, 231)\t5.0\n",
      "  (1, 235)\t4.0\n",
      "  (1, 260)\t5.0\n",
      "  (1, 296)\t3.0\n",
      "  (1, 316)\t3.0\n",
      "  (1, 333)\t5.0\n",
      "  (1, 349)\t4.0\n",
      "  (1, 356)\t4.0\n",
      "  (1, 362)\t5.0\n",
      "  (1, 367)\t4.0\n",
      "  (1, 423)\t3.0\n",
      "  (1, 441)\t4.0\n",
      "  :\t:\n",
      "  (610, 156371)\t5.0\n",
      "  (610, 156726)\t4.5\n",
      "  (610, 157296)\t4.0\n",
      "  (610, 158238)\t5.0\n",
      "  (610, 158721)\t3.5\n",
      "  (610, 158872)\t3.5\n",
      "  (610, 158956)\t3.0\n",
      "  (610, 159093)\t3.0\n",
      "  (610, 160080)\t3.0\n",
      "  (610, 160341)\t2.5\n",
      "  (610, 160527)\t4.5\n",
      "  (610, 160571)\t3.0\n",
      "  (610, 160836)\t3.0\n",
      "  (610, 161582)\t4.0\n",
      "  (610, 161634)\t4.0\n",
      "  (610, 162350)\t3.5\n",
      "  (610, 163937)\t3.5\n",
      "  (610, 163981)\t3.5\n",
      "  (610, 164179)\t5.0\n",
      "  (610, 166528)\t4.0\n",
      "  (610, 166534)\t4.0\n",
      "  (610, 168248)\t5.0\n",
      "  (610, 168250)\t5.0\n",
      "  (610, 168252)\t5.0\n",
      "  (610, 170875)\t3.0\n"
     ]
    }
   ],
   "source": [
    "# Create the utility matrix in COO format\n",
    "coo_data = coo_matrix((data, (row, col)))\n",
    "print(coo_data)"
   ]
  },
  {
   "cell_type": "markdown",
   "metadata": {
    "id": "ZigG15Yu4R3M"
   },
   "source": [
    "`coo_matrix` has several attributes:\n",
    "1. `.data` --> get the matrix value\n",
    "2. `.row` --> get the row index, in this context, userId\n",
    "3. `.col` --> get the col index, in this context, movieId\n",
    "4. `.nnz` --> get the matrix value"
   ]
  },
  {
   "cell_type": "code",
   "execution_count": 37,
   "metadata": {
    "colab": {
     "base_uri": "https://localhost:8080/"
    },
    "id": "K15TUKOh4o0_",
    "outputId": "38cf4f05-d5aa-4a86-836f-85a6ded4875c"
   },
   "outputs": [
    {
     "data": {
      "text/plain": [
       "(array([4., 4., 4., ..., 5., 5., 3.]), 100836)"
      ]
     },
     "execution_count": 37,
     "metadata": {},
     "output_type": "execute_result"
    }
   ],
   "source": [
    "coo_data.data, len(coo_data.data)"
   ]
  },
  {
   "cell_type": "code",
   "execution_count": 38,
   "metadata": {
    "colab": {
     "base_uri": "https://localhost:8080/"
    },
    "id": "gjR_1SD64rs-",
    "outputId": "82bb67e0-9a79-4176-b495-841da7012220"
   },
   "outputs": [
    {
     "data": {
      "text/plain": [
       "array([  1,   1,   1, ..., 610, 610, 610], dtype=int32)"
      ]
     },
     "execution_count": 38,
     "metadata": {},
     "output_type": "execute_result"
    }
   ],
   "source": [
    "coo_data.row"
   ]
  },
  {
   "cell_type": "code",
   "execution_count": 39,
   "metadata": {
    "colab": {
     "base_uri": "https://localhost:8080/"
    },
    "id": "9GCkukFR4t0B",
    "outputId": "848fb9e9-5e4d-4f9f-e499-76387f1846a3"
   },
   "outputs": [
    {
     "data": {
      "text/plain": [
       "array([     1,      3,      6, ..., 168250, 168252, 170875], dtype=int32)"
      ]
     },
     "execution_count": 39,
     "metadata": {},
     "output_type": "execute_result"
    }
   ],
   "source": [
    "coo_data.col"
   ]
  },
  {
   "cell_type": "code",
   "execution_count": 40,
   "metadata": {
    "colab": {
     "base_uri": "https://localhost:8080/"
    },
    "id": "ZnuIwoJN4wbY",
    "outputId": "3efac21b-5dc6-42a1-feb8-1a0c1a90b3a2"
   },
   "outputs": [
    {
     "data": {
      "text/plain": [
       "100836"
      ]
     },
     "execution_count": 40,
     "metadata": {},
     "output_type": "execute_result"
    }
   ],
   "source": [
    "coo_data.nnz"
   ]
  },
  {
   "cell_type": "markdown",
   "metadata": {
    "id": "mGJsLj2-46MB"
   },
   "source": [
    "Let's create a function"
   ]
  },
  {
   "cell_type": "code",
   "execution_count": 41,
   "metadata": {
    "id": "FRW5xUpx48CA"
   },
   "outputs": [],
   "source": [
    "def get_utility_matrix(rating_data):\n",
    "    \"\"\"\n",
    "    Get a COO format utility matrix\n",
    "\n",
    "    Parameters\n",
    "    ----------\n",
    "    rating_data : pandas DataFrame\n",
    "        The sample of rating data\n",
    "\n",
    "    Returns\n",
    "    -------\n",
    "    coo_data : scipy COO format\n",
    "        The utility matrix in COO format\n",
    "    \"\"\"\n",
    "    # Prepare the data\n",
    "    row = rating_data['userId'].values\n",
    "    col = rating_data['movieId'].values\n",
    "    data = rating_data['rating'].values\n",
    "\n",
    "    # Create the utility matrix in COO format\n",
    "    coo_data = coo_matrix((data, (row, col)))\n",
    "\n",
    "    return coo_data\n"
   ]
  },
  {
   "cell_type": "code",
   "execution_count": 42,
   "metadata": {
    "colab": {
     "base_uri": "https://localhost:8080/"
    },
    "id": "PSFpwIhd5TIH",
    "outputId": "b8daac12-9b24-450d-a626-2ecd7021d397"
   },
   "outputs": [
    {
     "data": {
      "text/plain": [
       "<611x193610 sparse matrix of type '<class 'numpy.float64'>'\n",
       "\twith 100836 stored elements in COOrdinate format>"
      ]
     },
     "execution_count": 42,
     "metadata": {},
     "output_type": "execute_result"
    }
   ],
   "source": [
    "coo_data = get_utility_matrix(rating_data = rating_data)\n",
    "coo_data"
   ]
  },
  {
   "cell_type": "markdown",
   "metadata": {
    "id": "BNTTmNB-5cf1"
   },
   "source": [
    "### Split Train-Test"
   ]
  },
  {
   "cell_type": "markdown",
   "metadata": {
    "id": "vCVV2mbo6v86"
   },
   "source": [
    "- To ensure that our model is **learning** not **memorizing**, we need to evaluate the model with a set of **unseen** data.\n",
    "\n",
    "- Problem: we do not have set of **unseen** data\n",
    "\n",
    "- Solution:\n",
    "  - We split our current data to Train & Test set.\n",
    "  - We train the model in Train set.\n",
    "  - We evaluate the model performance in Test set."
   ]
  },
  {
   "cell_type": "markdown",
   "metadata": {
    "id": "hMe93_BA7P9J"
   },
   "source": [
    "How do we do the splitting?\n",
    "- Split the data randomly based on non-missing rating.\n",
    "- Split size proportion --> train : test = 80% : 20%"
   ]
  },
  {
   "cell_type": "code",
   "execution_count": 43,
   "metadata": {
    "id": "2oI3Ia_67jVS"
   },
   "outputs": [],
   "source": [
    "# Define the test size\n",
    "test_size = 0.2"
   ]
  },
  {
   "cell_type": "code",
   "execution_count": 44,
   "metadata": {
    "id": "z9kk4-nyRaOy"
   },
   "outputs": [],
   "source": [
    "# Generate random seed for reproducibility\n",
    "np.random.seed(42)\n",
    "\n",
    "# Shuffle rating data\n",
    "raw_index = rating_data.index.tolist().copy()\n",
    "np.random.shuffle(raw_index)\n",
    "\n",
    "# Define the threshold\n",
    "threshold = int((1-test_size) * len(raw_index))\n",
    "\n",
    "# Split the index\n",
    "train_index = raw_index[:threshold]\n",
    "test_index = raw_index[threshold:]\n",
    "\n",
    "#print(train_index)\n",
    "#print(test_index)"
   ]
  },
  {
   "cell_type": "code",
   "execution_count": 45,
   "metadata": {
    "id": "zWcJYTRb8Uf4"
   },
   "outputs": [],
   "source": [
    "# Next, extract the train & test data based on test mask\n",
    "coo_data_train = get_utility_matrix(rating_data = rating_data.loc[train_index])\n",
    "coo_data_test = get_utility_matrix(rating_data = rating_data.loc[test_index])"
   ]
  },
  {
   "cell_type": "code",
   "execution_count": 46,
   "metadata": {
    "colab": {
     "base_uri": "https://localhost:8080/"
    },
    "id": "12jhe7R29OQi",
    "outputId": "a89afde1-c923-452f-b619-f81504ee6e39"
   },
   "outputs": [
    {
     "data": {
      "text/plain": [
       "(80668, 20168)"
      ]
     },
     "execution_count": 46,
     "metadata": {},
     "output_type": "execute_result"
    }
   ],
   "source": [
    "# Validate shape of non-missing rating\n",
    "coo_data_train.nnz, coo_data_test.nnz"
   ]
  },
  {
   "cell_type": "markdown",
   "metadata": {
    "id": "g0o2SMv09Yc7"
   },
   "source": [
    "Great! The test data set should be 20% of whole data."
   ]
  },
  {
   "cell_type": "markdown",
   "metadata": {
    "id": "91N-vvkR9f10"
   },
   "source": [
    "Let's create all the functions"
   ]
  },
  {
   "cell_type": "code",
   "execution_count": 47,
   "metadata": {
    "id": "OKQfQgjE9hxI"
   },
   "outputs": [],
   "source": [
    "def split_train_test(rating_data, test_size=0.2, random_state=42):\n",
    "    \"\"\"\n",
    "    Function to create train & test utility matrix in COO format\n",
    "\n",
    "    Parameters\n",
    "    ----------\n",
    "    rating_data : pandas DataFrame\n",
    "        The rating data\n",
    "\n",
    "    test_size : float, default=0.2\n",
    "        The test size\n",
    "\n",
    "    random_state : int, default=42\n",
    "        For reproducibility\n",
    "    \"\"\"\n",
    "    # Generate random seed for reproducibility\n",
    "    np.random.seed(random_state)\n",
    "\n",
    "    # Shuffle rating data\n",
    "    raw_index = rating_data.index.tolist().copy()\n",
    "    np.random.shuffle(raw_index)\n",
    "\n",
    "    # Define the threshold\n",
    "    threshold = int((1-test_size) * len(raw_index))\n",
    "\n",
    "    # Split the index\n",
    "    train_index = raw_index[:threshold]\n",
    "    test_index = raw_index[threshold:]\n",
    "\n",
    "    # Next, extract the train & test data based on test mask\n",
    "    coo_data_train = get_utility_matrix(rating_data = rating_data.loc[train_index])\n",
    "    coo_data_test = get_utility_matrix(rating_data = rating_data.loc[test_index])\n",
    "\n",
    "    # validate\n",
    "    print('Train, Test shape:', (coo_data_train.nnz, coo_data_test.nnz))\n",
    "\n",
    "    return coo_data_train, coo_data_test\n"
   ]
  },
  {
   "cell_type": "code",
   "execution_count": 48,
   "metadata": {
    "colab": {
     "base_uri": "https://localhost:8080/"
    },
    "id": "Y-PIU5Bv-RMb",
    "outputId": "3dd7d4e8-bd28-4d7f-c895-9afcbfe25a7c"
   },
   "outputs": [
    {
     "name": "stdout",
     "output_type": "stream",
     "text": [
      "Train, Test shape: (80668, 20168)\n"
     ]
    }
   ],
   "source": [
    "# Split the data\n",
    "coo_data_train, coo_data_test = split_train_test(rating_data = rating_data,\n",
    "                                                 test_size = 0.2,\n",
    "                                                 random_state = 42)"
   ]
  },
  {
   "cell_type": "code",
   "execution_count": 49,
   "metadata": {
    "colab": {
     "base_uri": "https://localhost:8080/"
    },
    "id": "Pgf__u6s-ikN",
    "outputId": "075abdea-22a3-408e-ba2f-751ea8fdd23b"
   },
   "outputs": [
    {
     "data": {
      "text/plain": [
       "(611, 193610)"
      ]
     },
     "execution_count": 49,
     "metadata": {},
     "output_type": "execute_result"
    }
   ],
   "source": [
    "# utility train shape\n",
    "coo_data_train.shape"
   ]
  },
  {
   "cell_type": "code",
   "execution_count": 50,
   "metadata": {
    "colab": {
     "base_uri": "https://localhost:8080/"
    },
    "id": "cuDaj7QT-oA_",
    "outputId": "a815cc9b-16a7-4ab6-a196-68f68098c591"
   },
   "outputs": [
    {
     "data": {
      "text/plain": [
       "(611, 193586)"
      ]
     },
     "execution_count": 50,
     "metadata": {},
     "output_type": "execute_result"
    }
   ],
   "source": [
    "# utility test shape\n",
    "coo_data_test.shape"
   ]
  },
  {
   "cell_type": "markdown",
   "metadata": {
    "id": "mWXVtzp88gCz"
   },
   "source": [
    "If your data has been splitted, you can\n",
    "- Process the **Train** data\n",
    "- Model in the **Train** data\n",
    "- and Evaluate in the **Test** data"
   ]
  },
  {
   "cell_type": "markdown",
   "metadata": {
    "id": "O9zmIBEi9e-N"
   },
   "source": [
    "## Data Preprocessing\n",
    "---"
   ]
  },
  {
   "cell_type": "markdown",
   "metadata": {
    "id": "B5oVBclc9haw"
   },
   "source": [
    "**Missing Value Imputation**\n",
    "\n",
    "Eventough our utility matrix contains **a lot** of missing value. In our current (next) approach in Non-Personalized Recommender System only recommend popular items. Not Through Learning Process such as : Optimization,etc.\n",
    "\n",
    "We don't need yet to impute missing values"
   ]
  },
  {
   "cell_type": "markdown",
   "metadata": {
    "id": "rgi2B5xP9HJp"
   },
   "source": [
    "## Train Recommender System Models\n",
    "---"
   ]
  },
  {
   "cell_type": "markdown",
   "metadata": {
    "id": "K6m9PHYC_QI2"
   },
   "source": [
    "There are many models to use. In this class we will use:\n",
    "1. Baseline Recomennder System (Mean for All global rating)\n",
    "1. Neighbourhood Based Recommender System\n",
    "2. SVD-like Recommender System"
   ]
  },
  {
   "cell_type": "markdown",
   "metadata": {
    "id": "YahOdX1q_hwH"
   },
   "source": [
    "**How do those models work?**\n",
    "\n",
    "Easy! We will cover it on the next course. Now, we focus on workflow of modeling."
   ]
  },
  {
   "cell_type": "markdown",
   "metadata": {
    "id": "JsRVDPW9_0Bv"
   },
   "source": [
    "**Note on Surprise Library**\n",
    "\n",
    "To model the personalized RecSys, we will use a well-defined library called with `surprise`. See the [Surprise Docs.](https://surprise.readthedocs.io/en/stable/index.html)"
   ]
  },
  {
   "cell_type": "markdown",
   "metadata": {
    "id": "w-Y6nlUjAYsf"
   },
   "source": [
    "Then load the library"
   ]
  },
  {
   "cell_type": "code",
   "execution_count": 51,
   "metadata": {
    "id": "VWa0XVSYAcBx"
   },
   "outputs": [],
   "source": [
    "import surprise"
   ]
  },
  {
   "cell_type": "markdown",
   "metadata": {
    "id": "VV1hp5--AdzY"
   },
   "source": [
    "Now let's start modeling."
   ]
  },
  {
   "cell_type": "markdown",
   "metadata": {
    "id": "fFA3Tu6XAhwe"
   },
   "source": [
    "### Load the Data\n",
    "---"
   ]
  },
  {
   "cell_type": "markdown",
   "metadata": {
    "id": "XI3B0A1jApK8"
   },
   "source": [
    "Why we do this **again**? Because we works on a specific library that need specific input format.\n",
    "\n",
    "So, let's do this"
   ]
  },
  {
   "cell_type": "code",
   "execution_count": 52,
   "metadata": {
    "id": "6W94qKsXAocH"
   },
   "outputs": [],
   "source": [
    "# Import some library\n",
    "from surprise import Dataset, Reader"
   ]
  },
  {
   "cell_type": "markdown",
   "metadata": {
    "id": "TnkpKgWkA7Ra"
   },
   "source": [
    "Initiate the rating scale"
   ]
  },
  {
   "cell_type": "code",
   "execution_count": 53,
   "metadata": {
    "colab": {
     "base_uri": "https://localhost:8080/"
    },
    "id": "alkP6ftnA-lN",
    "outputId": "847986a4-5988-4344-cd45-e8aa3d9b12c6"
   },
   "outputs": [
    {
     "data": {
      "text/plain": [
       "<surprise.reader.Reader at 0x7f8ce97f16f0>"
      ]
     },
     "execution_count": 53,
     "metadata": {},
     "output_type": "execute_result"
    }
   ],
   "source": [
    "reader = Reader(rating_scale = (1, 5))\n",
    "reader"
   ]
  },
  {
   "cell_type": "markdown",
   "metadata": {
    "id": "aGB6ziTUBDNm"
   },
   "source": [
    "Initiate the data. It must be on format `userId`, `itemId`, and `ratings`, respectively."
   ]
  },
  {
   "cell_type": "code",
   "execution_count": 54,
   "metadata": {
    "colab": {
     "base_uri": "https://localhost:8080/"
    },
    "id": "_Mv5grE4BM7j",
    "outputId": "9bf77a8c-be6e-4cec-b80f-e84a3f1e9294"
   },
   "outputs": [
    {
     "data": {
      "text/plain": [
       "<surprise.dataset.DatasetAutoFolds at 0x7f8cebeb3af0>"
      ]
     },
     "execution_count": 54,
     "metadata": {},
     "output_type": "execute_result"
    }
   ],
   "source": [
    "utility_data = Dataset.load_from_df(\n",
    "                    df = rating_data[['userId', 'movieId', 'rating']].copy(),\n",
    "                    reader = reader\n",
    "                )\n",
    "\n",
    "utility_data"
   ]
  },
  {
   "cell_type": "markdown",
   "metadata": {
    "id": "E5_ERZOTBkck"
   },
   "source": [
    "Let's print the data"
   ]
  },
  {
   "cell_type": "code",
   "execution_count": 55,
   "metadata": {
    "colab": {
     "base_uri": "https://localhost:8080/",
     "height": 206
    },
    "id": "4b45KrQRBqVs",
    "outputId": "b855d6e9-7f3e-48f6-b638-93b886871b30"
   },
   "outputs": [
    {
     "data": {
      "text/html": [
       "<div>\n",
       "<style scoped>\n",
       "    .dataframe tbody tr th:only-of-type {\n",
       "        vertical-align: middle;\n",
       "    }\n",
       "\n",
       "    .dataframe tbody tr th {\n",
       "        vertical-align: top;\n",
       "    }\n",
       "\n",
       "    .dataframe thead th {\n",
       "        text-align: right;\n",
       "    }\n",
       "</style>\n",
       "<table border=\"1\" class=\"dataframe\">\n",
       "  <thead>\n",
       "    <tr style=\"text-align: right;\">\n",
       "      <th></th>\n",
       "      <th>userId</th>\n",
       "      <th>movieId</th>\n",
       "      <th>rating</th>\n",
       "    </tr>\n",
       "  </thead>\n",
       "  <tbody>\n",
       "    <tr>\n",
       "      <th>0</th>\n",
       "      <td>1</td>\n",
       "      <td>1</td>\n",
       "      <td>4.0</td>\n",
       "    </tr>\n",
       "    <tr>\n",
       "      <th>1</th>\n",
       "      <td>1</td>\n",
       "      <td>3</td>\n",
       "      <td>4.0</td>\n",
       "    </tr>\n",
       "    <tr>\n",
       "      <th>2</th>\n",
       "      <td>1</td>\n",
       "      <td>6</td>\n",
       "      <td>4.0</td>\n",
       "    </tr>\n",
       "    <tr>\n",
       "      <th>3</th>\n",
       "      <td>1</td>\n",
       "      <td>47</td>\n",
       "      <td>5.0</td>\n",
       "    </tr>\n",
       "    <tr>\n",
       "      <th>4</th>\n",
       "      <td>1</td>\n",
       "      <td>50</td>\n",
       "      <td>5.0</td>\n",
       "    </tr>\n",
       "  </tbody>\n",
       "</table>\n",
       "</div>"
      ],
      "text/plain": [
       "   userId  movieId  rating\n",
       "0       1        1     4.0\n",
       "1       1        3     4.0\n",
       "2       1        6     4.0\n",
       "3       1       47     5.0\n",
       "4       1       50     5.0"
      ]
     },
     "execution_count": 55,
     "metadata": {},
     "output_type": "execute_result"
    }
   ],
   "source": [
    "utility_data.df.head()"
   ]
  },
  {
   "cell_type": "code",
   "execution_count": 56,
   "metadata": {
    "colab": {
     "base_uri": "https://localhost:8080/",
     "height": 206
    },
    "id": "ISsD0gSiB2DG",
    "outputId": "37e39e46-b38e-40bd-ac03-868b12d0006d"
   },
   "outputs": [
    {
     "data": {
      "text/html": [
       "<div>\n",
       "<style scoped>\n",
       "    .dataframe tbody tr th:only-of-type {\n",
       "        vertical-align: middle;\n",
       "    }\n",
       "\n",
       "    .dataframe tbody tr th {\n",
       "        vertical-align: top;\n",
       "    }\n",
       "\n",
       "    .dataframe thead th {\n",
       "        text-align: right;\n",
       "    }\n",
       "</style>\n",
       "<table border=\"1\" class=\"dataframe\">\n",
       "  <thead>\n",
       "    <tr style=\"text-align: right;\">\n",
       "      <th></th>\n",
       "      <th>userId</th>\n",
       "      <th>movieId</th>\n",
       "      <th>rating</th>\n",
       "    </tr>\n",
       "  </thead>\n",
       "  <tbody>\n",
       "    <tr>\n",
       "      <th>0</th>\n",
       "      <td>1</td>\n",
       "      <td>1</td>\n",
       "      <td>4.0</td>\n",
       "    </tr>\n",
       "    <tr>\n",
       "      <th>1</th>\n",
       "      <td>1</td>\n",
       "      <td>3</td>\n",
       "      <td>4.0</td>\n",
       "    </tr>\n",
       "    <tr>\n",
       "      <th>2</th>\n",
       "      <td>1</td>\n",
       "      <td>6</td>\n",
       "      <td>4.0</td>\n",
       "    </tr>\n",
       "    <tr>\n",
       "      <th>3</th>\n",
       "      <td>1</td>\n",
       "      <td>47</td>\n",
       "      <td>5.0</td>\n",
       "    </tr>\n",
       "    <tr>\n",
       "      <th>4</th>\n",
       "      <td>1</td>\n",
       "      <td>50</td>\n",
       "      <td>5.0</td>\n",
       "    </tr>\n",
       "  </tbody>\n",
       "</table>\n",
       "</div>"
      ],
      "text/plain": [
       "   userId  movieId  rating\n",
       "0       1        1     4.0\n",
       "1       1        3     4.0\n",
       "2       1        6     4.0\n",
       "3       1       47     5.0\n",
       "4       1       50     5.0"
      ]
     },
     "execution_count": 56,
     "metadata": {},
     "output_type": "execute_result"
    }
   ],
   "source": [
    "rating_data.head()"
   ]
  },
  {
   "cell_type": "markdown",
   "metadata": {
    "id": "ZK7EjPYnB3x6"
   },
   "source": [
    "Nice! we have similar dataset"
   ]
  },
  {
   "cell_type": "markdown",
   "metadata": {
    "id": "NpV4CjKeB_WP"
   },
   "source": [
    "### Split Train-Test\n",
    "---"
   ]
  },
  {
   "cell_type": "markdown",
   "metadata": {
    "id": "QLC8bobTCEHH"
   },
   "source": [
    "We then split the train-test data. We use the similar logic from previous section"
   ]
  },
  {
   "cell_type": "code",
   "execution_count": 57,
   "metadata": {
    "id": "LzDl6BFFL6C9"
   },
   "outputs": [],
   "source": [
    "# Load library for deep copy\n",
    "import copy"
   ]
  },
  {
   "cell_type": "code",
   "execution_count": 58,
   "metadata": {
    "id": "Ge7FOi8tKLoI"
   },
   "outputs": [],
   "source": [
    "# Create a function\n",
    "def train_test_split(utility_data, test_size, random_state):\n",
    "    \"\"\"\n",
    "    Train test split the data\n",
    "    ref: https://surprise.readthedocs.io/en/stable/FAQ.html#split-data-for-unbiased-estimation-py\n",
    "\n",
    "    Parameters\n",
    "    ----------\n",
    "    utility_data : Surprise utility data\n",
    "        The sample of whole data set\n",
    "\n",
    "    test_size : float, default=0.2\n",
    "        The test size\n",
    "\n",
    "    random_state : int, default=42\n",
    "        For reproducibility\n",
    "\n",
    "    Returns\n",
    "    -------\n",
    "    full_data : Surprise utility data\n",
    "        The new utility data\n",
    "\n",
    "    train_data : Surprise format\n",
    "        The train data\n",
    "\n",
    "    test_data : Surprise format\n",
    "        The test data\n",
    "    \"\"\"\n",
    "    # Deep copy the utility_data\n",
    "    full_data = copy.deepcopy(utility_data)\n",
    "\n",
    "    # Generate random seed\n",
    "    np.random.seed(random_state)\n",
    "\n",
    "    # Shuffle the raw_ratings for reproducibility\n",
    "    raw_ratings = full_data.raw_ratings\n",
    "    np.random.shuffle(raw_ratings)\n",
    "\n",
    "    # Define the threshold\n",
    "    threshold = int((1-test_size) * len(raw_ratings))\n",
    "\n",
    "    # Split the data\n",
    "    train_raw_ratings = raw_ratings[:threshold]\n",
    "    test_raw_ratings = raw_ratings[threshold:]\n",
    "\n",
    "    # Get the data\n",
    "    full_data.raw_ratings = train_raw_ratings\n",
    "    train_data = full_data.build_full_trainset()\n",
    "    test_data = full_data.construct_testset(test_raw_ratings)\n",
    "\n",
    "    return full_data, train_data, test_data\n"
   ]
  },
  {
   "cell_type": "code",
   "execution_count": 59,
   "metadata": {
    "id": "2h6uIddcMoou"
   },
   "outputs": [],
   "source": [
    "# Split the data\n",
    "full_data, train_data, test_data = train_test_split(utility_data,\n",
    "                                                    test_size = 0.2,\n",
    "                                                    random_state = 42)"
   ]
  },
  {
   "cell_type": "code",
   "execution_count": 60,
   "metadata": {
    "colab": {
     "base_uri": "https://localhost:8080/"
    },
    "id": "qgoAwEHvM4D8",
    "outputId": "6c53670a-be83-49b0-9ebb-288b4a67c6ba"
   },
   "outputs": [
    {
     "data": {
      "text/plain": [
       "(80668, 20168)"
      ]
     },
     "execution_count": 60,
     "metadata": {},
     "output_type": "execute_result"
    }
   ],
   "source": [
    "# Validate the splitting\n",
    "train_data.n_ratings, len(test_data)"
   ]
  },
  {
   "cell_type": "markdown",
   "metadata": {
    "id": "WL6TfRqADhMP"
   },
   "source": [
    "Great! The test size is around 20% of all dataset"
   ]
  },
  {
   "cell_type": "markdown",
   "metadata": {
    "id": "2aPnPoYUDnll"
   },
   "source": [
    "Now we are ready to create the model."
   ]
  },
  {
   "cell_type": "markdown",
   "metadata": {
    "id": "HEeZQxotDrkk"
   },
   "source": [
    "### Create the Model\n",
    "---"
   ]
  },
  {
   "cell_type": "markdown",
   "metadata": {
    "id": "RrYAIkxtDxpJ"
   },
   "source": [
    "We want to create two models & get the best model.\n",
    "\n",
    "To do that, we need to perform a cross validation thus we evaluate the model objectively."
   ]
  },
  {
   "cell_type": "code",
   "execution_count": 61,
   "metadata": {
    "id": "bBvlwLhjEAEu"
   },
   "outputs": [],
   "source": [
    "# Load the model library\n",
    "# i.e. Baseline, KNN, and SVD\n",
    "from surprise import AlgoBase, KNNBasic, SVD"
   ]
  },
  {
   "cell_type": "markdown",
   "metadata": {
    "id": "Bq72U5WoEHBR"
   },
   "source": [
    "Then, create the model object"
   ]
  },
  {
   "cell_type": "markdown",
   "metadata": {
    "id": "TLiviEFDh49i"
   },
   "source": [
    "Our Baseline Model just simply predict ratings using mean from all training data provided to model .\n",
    "\n",
    "Since `surprise` library does not provide mean prediction model , we have to create custom algorithm first.\n",
    "\n",
    "Guide `https://surprise.readthedocs.io/en/stable/building_custom_algo.html`"
   ]
  },
  {
   "cell_type": "code",
   "execution_count": 62,
   "metadata": {
    "id": "ziI79bgM2ykF"
   },
   "outputs": [],
   "source": [
    "class MeanPrediction(AlgoBase):\n",
    "    '''Baseline prediction. Return global mean as prediction'''\n",
    "    def __init__(self):\n",
    "        AlgoBase.__init__(self)\n",
    "\n",
    "    def fit(self, trainset):\n",
    "        '''Fit the train data'''\n",
    "        AlgoBase.fit(self, trainset)\n",
    "\n",
    "    def estimate(self, u, i):\n",
    "        '''Perform the estimation/prediction.'''\n",
    "        est = self.trainset.global_mean\n",
    "        return est"
   ]
  },
  {
   "cell_type": "code",
   "execution_count": 63,
   "metadata": {
    "colab": {
     "base_uri": "https://localhost:8080/"
    },
    "id": "aHEdIZQ6dnaR",
    "outputId": "426e70b7-6b7d-46e6-a79b-7bc965f98db1"
   },
   "outputs": [
    {
     "data": {
      "text/plain": [
       "<__main__.MeanPrediction at 0x7f8ce97f2f20>"
      ]
     },
     "execution_count": 63,
     "metadata": {},
     "output_type": "execute_result"
    }
   ],
   "source": [
    "# Create baseline model\n",
    "model_baseline = MeanPrediction()\n",
    "model_baseline"
   ]
  },
  {
   "cell_type": "code",
   "execution_count": 64,
   "metadata": {
    "colab": {
     "base_uri": "https://localhost:8080/"
    },
    "id": "zt6FWqxXEPZw",
    "outputId": "445d5c56-0107-4c7f-8510-6c0898a3319e"
   },
   "outputs": [
    {
     "data": {
      "text/plain": [
       "<surprise.prediction_algorithms.knns.KNNBasic at 0x7f8ce97f2e00>"
      ]
     },
     "execution_count": 64,
     "metadata": {},
     "output_type": "execute_result"
    }
   ],
   "source": [
    "# Create Neighbor-based model -- K-Nearest Neighbor\n",
    "model_knn = KNNBasic(random_state=42)\n",
    "model_knn"
   ]
  },
  {
   "cell_type": "code",
   "execution_count": 65,
   "metadata": {
    "colab": {
     "base_uri": "https://localhost:8080/"
    },
    "id": "yPzqHw2UEUSs",
    "outputId": "96f5b399-abd3-4ec4-ef6d-dadabafcfbff"
   },
   "outputs": [
    {
     "data": {
      "text/plain": [
       "<surprise.prediction_algorithms.matrix_factorization.SVD at 0x7f8ce97f2e60>"
      ]
     },
     "execution_count": 65,
     "metadata": {},
     "output_type": "execute_result"
    }
   ],
   "source": [
    "# Create matrix factorization model -- SVD-like\n",
    "model_svd = SVD(n_factors=100, random_state=42)\n",
    "model_svd"
   ]
  },
  {
   "cell_type": "markdown",
   "metadata": {
    "id": "k9mRNALgEYBt"
   },
   "source": [
    "Next, fit & cross-validate the model."
   ]
  },
  {
   "cell_type": "markdown",
   "metadata": {
    "id": "Z521GYq-Odcv"
   },
   "source": [
    "### Find the Best Model with Cross-Validation\n",
    "---"
   ]
  },
  {
   "cell_type": "code",
   "execution_count": 66,
   "metadata": {
    "id": "vd6kvtlIDdsE"
   },
   "outputs": [],
   "source": [
    "# Import the cross validation module\n",
    "from surprise.model_selection import cross_validate"
   ]
  },
  {
   "cell_type": "markdown",
   "metadata": {
    "id": "UNHOuamoFZ6k"
   },
   "source": [
    "To perform cross validate\n",
    "`cross_validate(algo, data, cv, measures)`\n",
    "\n",
    "1. `algo` = Surprise model\n",
    "2. `data` = Surprise format data\n",
    "3. `cv` = number of fold of cross validation\n",
    "4. `measures` = metric to measure model performance\n",
    "\n"
   ]
  },
  {
   "cell_type": "markdown",
   "metadata": {
    "id": "BhCJABt4EmrJ"
   },
   "source": [
    "First, we will do a $5$-fold cross validation. Next, we measure the performance using RMSE metric because we want to predict the rating (continuous data type)"
   ]
  },
  {
   "cell_type": "markdown",
   "metadata": {
    "id": "TTNcwJSHUzXp"
   },
   "source": [
    "**Baseline** model"
   ]
  },
  {
   "cell_type": "code",
   "execution_count": 67,
   "metadata": {
    "id": "lDOaxMyqU1RE"
   },
   "outputs": [],
   "source": [
    "# Use full_data for cross validation\n",
    "# Your results could be different because\n",
    "# there is no random seed stated within this functions\n",
    "cv_baseline = cross_validate(algo = model_baseline,\n",
    "                             data = full_data,\n",
    "                             cv = 5,\n",
    "                             measures = ['rmse'])"
   ]
  },
  {
   "cell_type": "code",
   "execution_count": 68,
   "metadata": {
    "colab": {
     "base_uri": "https://localhost:8080/"
    },
    "id": "eGxTnAL4XJP5",
    "outputId": "c56919f8-c1ea-4866-f1e8-de69ae2776e1"
   },
   "outputs": [
    {
     "data": {
      "text/plain": [
       "1.0420126162986096"
      ]
     },
     "execution_count": 68,
     "metadata": {},
     "output_type": "execute_result"
    }
   ],
   "source": [
    "# Extract CV results\n",
    "cv_baseline_rmse = cv_baseline['test_rmse'].mean()\n",
    "cv_baseline_rmse"
   ]
  },
  {
   "cell_type": "markdown",
   "metadata": {
    "id": "YQAnAZy4Njia"
   },
   "source": [
    "**K-Nearest Neighbor** model"
   ]
  },
  {
   "cell_type": "code",
   "execution_count": 69,
   "metadata": {
    "colab": {
     "base_uri": "https://localhost:8080/"
    },
    "id": "goz-M6ZGIHEd",
    "outputId": "59768dd3-4e31-4246-dbc7-300ca47446c1"
   },
   "outputs": [
    {
     "name": "stdout",
     "output_type": "stream",
     "text": [
      "Computing the msd similarity matrix...\n",
      "Done computing similarity matrix.\n"
     ]
    },
    {
     "name": "stdout",
     "output_type": "stream",
     "text": [
      "Computing the msd similarity matrix...\n",
      "Done computing similarity matrix.\n",
      "Computing the msd similarity matrix...\n",
      "Done computing similarity matrix.\n",
      "Computing the msd similarity matrix...\n",
      "Done computing similarity matrix.\n",
      "Computing the msd similarity matrix...\n",
      "Done computing similarity matrix.\n"
     ]
    }
   ],
   "source": [
    "cv_knn = cross_validate(algo = model_knn,\n",
    "                        data = full_data,\n",
    "                        cv = 5,\n",
    "                        measures = ['rmse'])"
   ]
  },
  {
   "cell_type": "code",
   "execution_count": 70,
   "metadata": {
    "colab": {
     "base_uri": "https://localhost:8080/"
    },
    "id": "4fwLqfFeNaxm",
    "outputId": "037fc00a-3f72-4026-ff53-61482bc8fd2c"
   },
   "outputs": [
    {
     "data": {
      "text/plain": [
       "0.9589057865687737"
      ]
     },
     "execution_count": 70,
     "metadata": {},
     "output_type": "execute_result"
    }
   ],
   "source": [
    "# Extract CV results\n",
    "cv_knn_rmse = cv_knn['test_rmse'].mean()\n",
    "cv_knn_rmse"
   ]
  },
  {
   "cell_type": "markdown",
   "metadata": {
    "id": "QQ5p7ABDNmeR"
   },
   "source": [
    "**SVD-like** model"
   ]
  },
  {
   "cell_type": "code",
   "execution_count": 71,
   "metadata": {
    "id": "aH3kdtDuFvlh"
   },
   "outputs": [],
   "source": [
    "cv_svd = cross_validate(algo = model_svd,\n",
    "                        data = full_data,\n",
    "                        cv = 5,\n",
    "                        measures = ['rmse'])"
   ]
  },
  {
   "cell_type": "code",
   "execution_count": 72,
   "metadata": {
    "colab": {
     "base_uri": "https://localhost:8080/"
    },
    "id": "NPkpR0DMHulr",
    "outputId": "a91d666c-1b3c-4219-d939-632b69a5bc24"
   },
   "outputs": [
    {
     "data": {
      "text/plain": [
       "0.8793607027046333"
      ]
     },
     "execution_count": 72,
     "metadata": {},
     "output_type": "execute_result"
    }
   ],
   "source": [
    "# Extract CV results\n",
    "cv_svd_rmse = cv_svd['test_rmse'].mean()\n",
    "cv_svd_rmse"
   ]
  },
  {
   "cell_type": "markdown",
   "metadata": {
    "id": "qt9J9R2CNygR"
   },
   "source": [
    "**Performance comparison**\n",
    "\n",
    "We can summarize the performance"
   ]
  },
  {
   "cell_type": "code",
   "execution_count": 73,
   "metadata": {
    "colab": {
     "base_uri": "https://localhost:8080/",
     "height": 143
    },
    "id": "UBCmwF1N3Ygk",
    "outputId": "02545acc-2f7b-4f2e-95e3-5f4e1d801159"
   },
   "outputs": [
    {
     "data": {
      "text/html": [
       "<div>\n",
       "<style scoped>\n",
       "    .dataframe tbody tr th:only-of-type {\n",
       "        vertical-align: middle;\n",
       "    }\n",
       "\n",
       "    .dataframe tbody tr th {\n",
       "        vertical-align: top;\n",
       "    }\n",
       "\n",
       "    .dataframe thead th {\n",
       "        text-align: right;\n",
       "    }\n",
       "</style>\n",
       "<table border=\"1\" class=\"dataframe\">\n",
       "  <thead>\n",
       "    <tr style=\"text-align: right;\">\n",
       "      <th></th>\n",
       "      <th>Model</th>\n",
       "      <th>CV Performance - RMSE</th>\n",
       "    </tr>\n",
       "  </thead>\n",
       "  <tbody>\n",
       "    <tr>\n",
       "      <th>0</th>\n",
       "      <td>Baseline</td>\n",
       "      <td>1.042013</td>\n",
       "    </tr>\n",
       "    <tr>\n",
       "      <th>1</th>\n",
       "      <td>KNN</td>\n",
       "      <td>0.958906</td>\n",
       "    </tr>\n",
       "    <tr>\n",
       "      <th>2</th>\n",
       "      <td>SVD</td>\n",
       "      <td>0.879361</td>\n",
       "    </tr>\n",
       "  </tbody>\n",
       "</table>\n",
       "</div>"
      ],
      "text/plain": [
       "      Model  CV Performance - RMSE\n",
       "0  Baseline               1.042013\n",
       "1       KNN               0.958906\n",
       "2       SVD               0.879361"
      ]
     },
     "execution_count": 73,
     "metadata": {},
     "output_type": "execute_result"
    }
   ],
   "source": [
    "summary_df = pd.DataFrame({'Model': ['Baseline', 'KNN', 'SVD'],\n",
    "                           'CV Performance - RMSE': [cv_baseline_rmse, cv_knn_rmse, cv_svd_rmse]})\n",
    "\n",
    "summary_df"
   ]
  },
  {
   "cell_type": "markdown",
   "metadata": {
    "id": "4Wx8_JdzOOsJ"
   },
   "source": [
    "The best model is **SVD** with better CV performance, i.e. lower RMSE"
   ]
  },
  {
   "cell_type": "markdown",
   "metadata": {
    "id": "s79wAQf3OjNm"
   },
   "source": [
    "Finally, we retrain the SVD model with the whole train dataset"
   ]
  },
  {
   "cell_type": "code",
   "execution_count": 74,
   "metadata": {
    "colab": {
     "base_uri": "https://localhost:8080/"
    },
    "id": "280dkiwBOpSb",
    "outputId": "b5250af6-9617-4e9c-89e3-00dccccad868"
   },
   "outputs": [
    {
     "data": {
      "text/plain": [
       "<surprise.prediction_algorithms.matrix_factorization.SVD at 0x7f8ce97f3c70>"
      ]
     },
     "execution_count": 74,
     "metadata": {},
     "output_type": "execute_result"
    }
   ],
   "source": [
    "# Create object\n",
    "model_best = SVD(n_factors=100, random_state=42)\n",
    "\n",
    "# Retrain on whole train dataset\n",
    "model_best.fit(train_data)"
   ]
  },
  {
   "cell_type": "markdown",
   "metadata": {
    "id": "p11h-V--PA6B"
   },
   "source": [
    "### Evaluate the Best Model\n",
    "---"
   ]
  },
  {
   "cell_type": "markdown",
   "metadata": {
    "id": "yBG_BtNMPGLa"
   },
   "source": [
    "After finding the best model, we can sanity check the performance on the test dataset"
   ]
  },
  {
   "cell_type": "code",
   "execution_count": 75,
   "metadata": {
    "id": "uV2ZF5IcPNok"
   },
   "outputs": [],
   "source": [
    "# import performance library\n",
    "from surprise import accuracy"
   ]
  },
  {
   "cell_type": "markdown",
   "metadata": {
    "id": "fKTYWue2PW3N"
   },
   "source": [
    "Next, we predict the test set using our best model"
   ]
  },
  {
   "cell_type": "code",
   "execution_count": 76,
   "metadata": {
    "colab": {
     "base_uri": "https://localhost:8080/"
    },
    "id": "29Kq0-gPPXlb",
    "outputId": "e85303f4-aea4-45e2-ce2a-81a99c42a060"
   },
   "outputs": [
    {
     "name": "stdout",
     "output_type": "stream",
     "text": [
      "RMSE: 0.8807\n"
     ]
    },
    {
     "data": {
      "text/plain": [
       "0.8807462819979623"
      ]
     },
     "execution_count": 76,
     "metadata": {},
     "output_type": "execute_result"
    }
   ],
   "source": [
    "test_pred = model_best.test(test_data)\n",
    "test_rmse = accuracy.rmse(test_pred)\n",
    "test_rmse"
   ]
  },
  {
   "cell_type": "markdown",
   "metadata": {
    "id": "0N4myb-zSiYH"
   },
   "source": [
    "To summarize"
   ]
  },
  {
   "cell_type": "code",
   "execution_count": 77,
   "metadata": {
    "colab": {
     "base_uri": "https://localhost:8080/",
     "height": 81
    },
    "id": "bCuzkXXq6a2T",
    "outputId": "870c7538-5c78-43ba-8675-64a7318e46a1"
   },
   "outputs": [
    {
     "data": {
      "text/html": [
       "<div>\n",
       "<style scoped>\n",
       "    .dataframe tbody tr th:only-of-type {\n",
       "        vertical-align: middle;\n",
       "    }\n",
       "\n",
       "    .dataframe tbody tr th {\n",
       "        vertical-align: top;\n",
       "    }\n",
       "\n",
       "    .dataframe thead th {\n",
       "        text-align: right;\n",
       "    }\n",
       "</style>\n",
       "<table border=\"1\" class=\"dataframe\">\n",
       "  <thead>\n",
       "    <tr style=\"text-align: right;\">\n",
       "      <th></th>\n",
       "      <th>Model</th>\n",
       "      <th>RMSE-CV</th>\n",
       "      <th>RMSE-Test</th>\n",
       "    </tr>\n",
       "  </thead>\n",
       "  <tbody>\n",
       "    <tr>\n",
       "      <th>0</th>\n",
       "      <td>SVD</td>\n",
       "      <td>0.879361</td>\n",
       "      <td>0.880746</td>\n",
       "    </tr>\n",
       "  </tbody>\n",
       "</table>\n",
       "</div>"
      ],
      "text/plain": [
       "  Model   RMSE-CV  RMSE-Test\n",
       "0   SVD  0.879361   0.880746"
      ]
     },
     "execution_count": 77,
     "metadata": {},
     "output_type": "execute_result"
    }
   ],
   "source": [
    "summary_test_df = pd.DataFrame({'Model' : ['SVD'],\n",
    "                                'RMSE-CV': [cv_svd_rmse],\n",
    "                                'RMSE-Test': [test_rmse]})\n",
    "\n",
    "summary_test_df"
   ]
  },
  {
   "cell_type": "markdown",
   "metadata": {
    "id": "rwiMG-9wSrWI"
   },
   "source": [
    "Great predictions!"
   ]
  },
  {
   "cell_type": "markdown",
   "metadata": {
    "id": "Aeo2bgSdQKeC"
   },
   "source": [
    "# **4. Personalized Recommender Systems**: Predictions\n",
    "---"
   ]
  },
  {
   "cell_type": "markdown",
   "metadata": {
    "id": "jWtF8kXsQDKi"
   },
   "source": [
    "Decision Process is to recommend items to user\n",
    "from our trained model\n",
    "\n",
    "<image src=\"../assets/applsci-10-05510-g001.webp\" image>\n",
    "\n",
    "\n",
    "\n",
    "\n",
    "1. SVD Like-Recommender System\n",
    "The Model will lookup latent factor (vector) both movie and user factor based on its' userId and movieId. Rating prediction would be multiplication between user factor and item factor. After that the predicted rating will be ordered and will be picked Top K Highest Predicted rating and recommend the movie to user.\n",
    "\n",
    "Also if user already seen a movie it could be removed.\n"
   ]
  },
  {
   "cell_type": "markdown",
   "metadata": {
    "id": "B8YELCZRd3lV"
   },
   "source": [
    "## Predict with Best Model : SVD-Like Recommender System"
   ]
  },
  {
   "cell_type": "code",
   "execution_count": 78,
   "metadata": {
    "colab": {
     "base_uri": "https://localhost:8080/"
    },
    "id": "gDj0r8bCQM4w",
    "outputId": "76e73fd5-1620-4e22-dd76-d305a4a2fc56"
   },
   "outputs": [
    {
     "name": "stdout",
     "output_type": "stream",
     "text": [
      "Help on method predict in module surprise.prediction_algorithms.algo_base:\n",
      "\n",
      "predict(uid, iid, r_ui=None, clip=True, verbose=False) method of surprise.prediction_algorithms.matrix_factorization.SVD instance\n",
      "    Compute the rating prediction for given user and item.\n",
      "    \n",
      "    The ``predict`` method converts raw ids to inner ids and then calls the\n",
      "    ``estimate`` method which is defined in every derived class. If the\n",
      "    prediction is impossible (e.g. because the user and/or the item is\n",
      "    unknown), the prediction is set according to\n",
      "    :meth:`default_prediction()\n",
      "    <surprise.prediction_algorithms.algo_base.AlgoBase.default_prediction>`.\n",
      "    \n",
      "    Args:\n",
      "        uid: (Raw) id of the user. See :ref:`this note<raw_inner_note>`.\n",
      "        iid: (Raw) id of the item. See :ref:`this note<raw_inner_note>`.\n",
      "        r_ui(float): The true rating :math:`r_{ui}`. Optional, default is\n",
      "            ``None``.\n",
      "        clip(bool): Whether to clip the estimation into the rating scale.\n",
      "            For example, if :math:`\\hat{r}_{ui}` is :math:`5.5` while the\n",
      "            rating scale is :math:`[1, 5]`, then :math:`\\hat{r}_{ui}` is\n",
      "            set to :math:`5`. Same goes if :math:`\\hat{r}_{ui} < 1`.\n",
      "            Default is ``True``.\n",
      "        verbose(bool): Whether to print details of the prediction.  Default\n",
      "            is False.\n",
      "    \n",
      "    Returns:\n",
      "        A :obj:`Prediction            <surprise.prediction_algorithms.predictions.Prediction>` object\n",
      "        containing:\n",
      "    \n",
      "        - The (raw) user id ``uid``.\n",
      "        - The (raw) item id ``iid``.\n",
      "        - The true rating ``r_ui`` (:math:`r_{ui}`).\n",
      "        - The estimated rating (:math:`\\hat{r}_{ui}`).\n",
      "        - Some additional details about the prediction that might be useful\n",
      "          for later analysis.\n",
      "\n"
     ]
    }
   ],
   "source": [
    "# Recommendation based on SVD-like Recommender System Model\n",
    "# We will try to recommend on sample userid ,userId 1 & 99\n",
    "\n",
    "# We can use model_best.predict method\n",
    "help(model_best.predict)"
   ]
  },
  {
   "cell_type": "markdown",
   "metadata": {
    "id": "ZBONDlFdLzD3"
   },
   "source": [
    "`model_best.predict` has argument\n",
    "- `uid` (i.e., the `userId`) and\n",
    "- `iid` (i.e., the item ID or `movieId`)"
   ]
  },
  {
   "cell_type": "markdown",
   "metadata": {
    "id": "zDWtBMWsUOAH"
   },
   "source": [
    "### Let's predict what is the rating of user 9 to movie 10"
   ]
  },
  {
   "cell_type": "code",
   "execution_count": 79,
   "metadata": {
    "id": "Ulsfp4NCMCk9"
   },
   "outputs": [],
   "source": [
    "sample_prediction = model_svd.predict(uid = 9,\n",
    "                                      iid = 10)"
   ]
  },
  {
   "cell_type": "code",
   "execution_count": 80,
   "metadata": {
    "colab": {
     "base_uri": "https://localhost:8080/"
    },
    "id": "3NH3zD_2UZ93",
    "outputId": "8b3e59bb-b5ff-4172-9b95-d6793c8790b0"
   },
   "outputs": [
    {
     "data": {
      "text/plain": [
       "Prediction(uid=9, iid=10, r_ui=None, est=3.2224705698626694, details={'was_impossible': False})"
      ]
     },
     "execution_count": 80,
     "metadata": {},
     "output_type": "execute_result"
    }
   ],
   "source": [
    "sample_prediction"
   ]
  },
  {
   "cell_type": "markdown",
   "metadata": {
    "id": "nZqaYZHQUfrc"
   },
   "source": [
    "The results tell us\n",
    "- `r_ui` : actual rating --> `None`, means user 9 have yet rated movie 10\n",
    "- `est` : the estimated rating from our model\n",
    "- `details` : whether prediction is impossible or not. So it's possible to predict."
   ]
  },
  {
   "cell_type": "markdown",
   "metadata": {
    "id": "JNEwEX2FU-yH"
   },
   "source": [
    "### Let's predict all the unseen/unrated movie by userId 9"
   ]
  },
  {
   "cell_type": "markdown",
   "metadata": {
    "id": "2tkkGXNMWmFI"
   },
   "source": [
    "**First, we find the unrated movie id from user id 9**"
   ]
  },
  {
   "cell_type": "code",
   "execution_count": 81,
   "metadata": {
    "colab": {
     "base_uri": "https://localhost:8080/"
    },
    "id": "HA32JKzJVEW6",
    "outputId": "16548edb-325d-4e08-8d94-1d4efca39f7b"
   },
   "outputs": [
    {
     "name": "stdout",
     "output_type": "stream",
     "text": [
      "{1, 2, 3, 4, 5, 6, 7, 8, 9, 10, 11, 12, 13, 14, 15, 16, 17, 18, 19, 20, 21, 22, 23, 24, 25, 26, 27, 28, 29, 131098, 31, 32, 131104, 34, 30, 36, 32799, 38, 39, 40, 41, 65577, 43, 44, 45, 46, 47, 48, 65585, 50, 49, 52, 53, 54, 55, 65588, 57, 58, 98361, 60, 61, 62, 65596, 64, 65, 66, 131130, 68, 69, 70, 71, 72, 73, 74, 75, 76, 77, 78, 79, 80, 81, 82, 83, 85, 86, 87, 88, 89, 163925, 92, 93, 94, 95, 65631, 97, 96, 99, 100, 101, 102, 103, 104, 105, 106, 107, 32875, 65642, 110, 111, 112, 113, 108, 65651, 116, 117, 118, 119, 121, 122, 123, 32892, 125, 126, 128, 129, 32898, 132, 135, 137, 32906, 140, 141, 163981, 144, 145, 146, 147, 65682, 148, 150, 151, 163985, 153, 154, 155, 156, 157, 158, 159, 160, 161, 162, 163, 164, 165, 131237, 166, 168, 169, 170, 171, 172, 173, 174, 175, 176, 177, 178, 179, 180, 181, 183, 184, 185, 186, 187, 98491, 189, 190, 191, 188, 193, 194, 195, 196, 98499, 198, 199, 98503, 201, 65738, 203, 204, 205, 65740, 207, 208, 209, 210, 211, 212, 213, 214, 215, 216, 217, 218, 219, 42, 220, 222, 223, 224, 225, 227, 228, 229, 230, 231, 232, 233, 234, 235, 236, 237, 33004, 239, 240, 238, 242, 243, 6560, 241, 246, 247, 248, 249, 250, 251, 252, 253, 254, 255, 256, 257, 258, 259, 260, 261, 262, 263, 265, 266, 267, 65802, 269, 270, 271, 272, 273, 274, 275, 276, 277, 65810, 279, 280, 281, 282, 98585, 283, 278, 284, 287, 288, 289, 290, 291, 292, 293, 294, 295, 296, 298, 299, 300, 98604, 302, 303, 304, 305, 306, 307, 308, 98607, 310, 311, 312, 313, 314, 315, 316, 317, 318, 319, 63, 321, 322, 33090, 324, 325, 326, 327, 328, 329, 330, 331, 332, 333, 334, 335, 336, 337, 338, 339, 340, 164179, 342, 343, 344, 345, 346, 347, 348, 349, 350, 351, 352, 353, 354, 355, 356, 357, 358, 359, 360, 361, 362, 33124, 364, 365, 366, 367, 368, 369, 370, 371, 372, 131439, 374, 373, 376, 377, 378, 33145, 380, 381, 382, 383, 379, 385, 33154, 387, 164226, 384, 390, 391, 33158, 393, 33162, 388, 33164, 389, 33166, 98697, 33171, 405, 406, 407, 408, 409, 410, 131480, 412, 413, 414, 415, 416, 417, 418, 419, 420, 421, 422, 423, 424, 425, 426, 427, 428, 429, 430, 431, 432, 433, 434, 435, 436, 437, 33201, 438, 440, 441, 442, 164280, 444, 445, 65982, 446, 448, 449, 450, 451, 452, 453, 454, 455, 456, 457, 458, 459, 460, 461, 464, 466, 467, 468, 469, 470, 471, 472, 473, 474, 475, 476, 477, 478, 479, 480, 481, 482, 484, 485, 486, 487, 488, 489, 490, 491, 492, 493, 494, 98799, 496, 497, 495, 499, 500, 501, 502, 504, 505, 98809, 507, 508, 509, 510, 511, 512, 513, 514, 515, 516, 517, 518, 519, 520, 521, 522, 523, 524, 33294, 527, 528, 529, 164367, 531, 532, 533, 534, 535, 536, 537, 538, 539, 540, 541, 542, 543, 544, 131610, 546, 547, 548, 33312, 550, 551, 552, 553, 549, 555, 556, 66090, 558, 66097, 562, 563, 564, 567, 568, 569, 573, 574, 575, 577, 579, 580, 581, 583, 131656, 585, 586, 587, 588, 589, 590, 592, 593, 594, 595, 596, 597, 599, 600, 602, 98908, 605, 606, 608, 609, 610, 611, 612, 613, 615, 616, 617, 618, 619, 626, 627, 628, 631, 632, 633, 634, 635, 66171, 637, 638, 639, 640, 636, 131714, 645, 647, 648, 649, 650, 131724, 653, 33421, 656, 98961, 661, 662, 663, 66198, 665, 667, 66203, 33437, 668, 671, 670, 673, 674, 131739, 33435, 131749, 678, 679, 680, 685, 688, 691, 692, 694, 695, 697, 698, 700, 99005, 164540, 99007, 704, 703, 706, 707, 708, 709, 710, 711, 66240, 714, 715, 718, 719, 720, 722, 724, 33493, 726, 33495, 728, 725, 131796, 33499, 731, 733, 99030, 735, 736, 737, 741, 742, 743, 745, 747, 748, 750, 149, 131826, 757, 759, 760, 761, 762, 66297, 764, 765, 766, 152, 773, 66310, 775, 778, 779, 780, 781, 782, 783, 784, 785, 786, 66320, 788, 99087, 33558, 791, 790, 795, 33564, 798, 799, 800, 801, 802, 66335, 804, 805, 99106, 164647, 808, 99112, 99114, 810, 809, 99117, 813, 164655, 818, 99122, 823, 824, 99130, 828, 829, 830, 832, 833, 835, 836, 837, 838, 839, 66371, 99145, 842, 840, 841, 99149, 33615, 848, 849, 131920, 851, 852, 858, 861, 131934, 33629, 866, 867, 164707, 869, 870, 33639, 875, 33644, 876, 33646, 879, 880, 881, 882, 33649, 885, 886, 99191, 888, 889, 891, 892, 33660, 893, 66427, 896, 897, 898, 899, 900, 901, 902, 903, 904, 33672, 906, 905, 908, 909, 910, 33679, 912, 913, 914, 911, 915, 916, 918, 919, 920, 921, 922, 923, 924, 917, 926, 927, 928, 929, 930, 931, 932, 933, 934, 935, 936, 937, 938, 940, 941, 942, 943, 944, 945, 946, 947, 948, 949, 950, 951, 952, 953, 954, 955, 956, 33725, 959, 961, 963, 965, 968, 969, 970, 971, 66509, 132046, 66511, 973, 976, 979, 981, 982, 984, 986, 987, 988, 990, 991, 993, 994, 996, 998, 999, 1003, 1004, 1005, 1006, 1007, 1008, 1009, 1010, 1011, 1012, 1013, 33781, 1015, 1016, 1014, 1018, 33779, 1020, 1021, 1022, 1023, 1024, 1025, 33794, 1027, 1028, 1029, 1030, 1031, 1032, 1033, 1034, 1035, 1036, 1037, 32770, 206, 1040, 1041, 1042, 1043, 164881, 1046, 1047, 33815, 1049, 1050, 1051, 1053, 1054, 1055, 1056, 1057, 33826, 1059, 1060, 1061, 33830, 1064, 1066, 33834, 33836, 164909, 33838, 1068, 1073, 1077, 1078, 1079, 1080, 1081, 1082, 1083, 1084, 132157, 1086, 132153, 1088, 1089, 1090, 1091, 1092, 1093, 1094, 1095, 1096, 1097, 1099, 1100, 1101, 1103, 1104, 1105, 1107, 1111, 33880, 99415, 1112, 1114, 1116, 1117, 1119, 1120, 1121, 1123, 1124, 1125, 1126, 1127, 33896, 1129, 66665, 1131, 1132, 99437, 1130, 1135, 1136, 1137, 33903, 1140, 1144, 1147, 1148, 1150, 1151, 1156, 1161, 1162, 1163, 1167, 1170, 1171, 1172, 1173, 1175, 1176, 1177, 1178, 1179, 1180, 1183, 1184, 1185, 1186, 1187, 1188, 1189, 1190, 1191, 1192, 1193, 1194, 1196, 1197, 1198, 1199, 1200, 1201, 1202, 1203, 1204, 33966, 1206, 1207, 1208, 1209, 1210, 1211, 1212, 1213, 1214, 1215, 1216, 1217, 1218, 1219, 1220, 1221, 1222, 1223, 1224, 1225, 1226, 1227, 1228, 99532, 1230, 1231, 1232, 1233, 1234, 1235, 1236, 1237, 1238, 165075, 1240, 1241, 1242, 1243, 1244, 1245, 1246, 1247, 1248, 1249, 1250, 1251, 1252, 1253, 1254, 1255, 1256, 1257, 1258, 1259, 1260, 1261, 66798, 1262, 1263, 1265, 1266, 1267, 1268, 1269, 1270, 1271, 1272, 1273, 1274, 1275, 1276, 1277, 1278, 1279, 34048, 1281, 1282, 1283, 1284, 1285, 1280, 1287, 1288, 1289, 1286, 1291, 1292, 1293, 1290, 1295, 1296, 1297, 1298, 1299, 1300, 1301, 1302, 1303, 1304, 34072, 1305, 1307, 1306, 1310, 1312, 1318, 1320, 1321, 1322, 1323, 1324, 1325, 1326, 1327, 1328, 1329, 1330, 1331, 99636, 1333, 1334, 1332, 1335, 1337, 1336, 1339, 1340, 1341, 1342, 1343, 1344, 1345, 1346, 1347, 1348, 1349, 1350, 132422, 132424, 1353, 1354, 1355, 1356, 1357, 1358, 1359, 1351, 1361, 34129, 1363, 1365, 1366, 1367, 1370, 1371, 1372, 1373, 1374, 1375, 1376, 1377, 1378, 1379, 1380, 1381, 34150, 1382, 34143, 1385, 34153, 1387, 1388, 1389, 1390, 1391, 1392, 1393, 1394, 34162, 1396, 1395, 66934, 1399, 34164, 1401, 1398, 1397, 1405, 1406, 1407, 1408, 1409, 66943, 1411, 1412, 1413, 1414, 1415, 1416, 1417, 132488, 1419, 99721, 1422, 1423, 99728, 1425, 132496, 1427, 1428, 1429, 1430, 1431, 1432, 1426, 285, 1437, 1438, 1439, 1440, 1441, 1442, 1445, 1446, 1447, 99750, 1449, 1453, 1454, 1456, 1457, 1458, 1459, 99764, 1461, 1460, 1464, 1465, 1466, 1468, 1473, 1474, 1475, 1476, 1477, 1479, 1480, 1483, 1484, 1485, 1487, 1488, 1489, 1490, 1493, 1495, 1496, 1497, 1498, 1499, 1500, 32862, 1502, 34271, 1503, 165343, 165347, 1507, 99813, 132584, 1513, 1514, 1515, 1516, 1517, 1518, 1519, 301, 34292, 1526, 1527, 1529, 1533, 1537, 1541, 1542, 99846, 1544, 1545, 34312, 1547, 1546, 99853, 1550, 34319, 1552, 1551, 67087, 1554, 1556, 34321, 34323, 34326, 1562, 34330, 1564, 34332, 1566, 34334, 34336, 1569, 34338, 1571, 1572, 1573, 1574, 1580, 1581, 1582, 1583, 1584, 1585, 1586, 1587, 1588, 132660, 1590, 1591, 1592, 1593, 1589, 1594, 1596, 1597, 1598, 1599, 1600, 1601, 1602, 1603, 1604, 1605, 1606, 99910, 1608, 1609, 1610, 1611, 320, 99917, 1614, 1615, 1616, 1617, 1612, 1619, 1620, 1621, 1613, 1623, 1624, 1625, 1626, 1627, 34397, 1629, 1631, 67168, 1633, 1635, 34405, 1639, 1641, 1642, 1643, 1644, 1645, 1646, 165483, 1648, 1649, 67186, 1647, 1650, 1653, 165489, 1655, 1656, 1652, 1658, 1659, 1660, 1661, 67197, 1663, 1662, 1665, 67193, 1667, 34437, 1670, 1671, 1672, 1673, 1674, 1675, 1676, 1677, 1678, 1679, 1680, 1681, 1682, 1683, 1684, 1685, 1686, 1687, 1688, 1689, 1690, 99992, 165529, 1693, 1694, 1695, 1696, 1699, 1701, 1702, 1703, 1704, 1707, 165549, 1711, 165551, 1713, 341, 1717, 1718, 1719, 67255, 1721, 1722, 132796, 1726, 1727, 132800, 1729, 1730, 67267, 1732, 1733, 1734, 1735, 1731, 1739, 100044, 1746, 1747, 1748, 34520, 1753, 1754, 1755, 1752, 34523, 1757, 67295, 1760, 34528, 1762, 34530, 34532, 100068, 34534, 1767, 34536, 1769, 1770, 1771, 1772, 34540, 34542, 32917, 1777, 1779, 100083, 1783, 1784, 1785, 1791, 1792, 1793, 1794, 165635, 1797, 1798, 1799, 165639, 1801, 100106, 1804, 1805, 1806, 165645, 1807, 1809, 1810, 1812, 1816, 132888, 1821, 1824, 67361, 1826, 1827, 363, 1829, 1825, 1831, 165671, 1833, 1834, 1835, 1836, 1837, 1839, 1840, 1841, 1844, 1845, 1848, 1855, 1856, 1857, 1858, 1859, 1860, 100163, 1862, 1863, 100159, 1866, 1867, 1870, 67408, 1873, 1875, 1876, 1881, 1882, 1883, 1884, 1885, 1887, 1888, 1889, 100194, 1891, 1892, 1893, 1894, 1895, 1897, 1900, 1902, 1904, 1906, 1907, 1909, 1910, 1911, 1912, 1913, 1914, 1916, 1917, 1918, 1919, 1920, 1921, 1922, 1923, 1924, 100226, 1926, 1927, 1928, 1929, 1931, 1932, 1933, 1934, 1936, 1937, 1938, 1939, 1940, 1941, 1942, 386, 1944, 1945, 1946, 1947, 1948, 1949, 1950, 1951, 1952, 1953, 1954, 1955, 1956, 1957, 1958, 1959, 1960, 1961, 1962, 1963, 1964, 1965, 1966, 1967, 1968, 1969, 1970, 1971, 1972, 1973, 1974, 1975, 1976, 67508, 100277, 1979, 1977, 1981, 1982, 1983, 1984, 1978, 1986, 1987, 1985, 1980, 1990, 1991, 1992, 1993, 1994, 1995, 1996, 1997, 67534, 1999, 2000, 2001, 2002, 2003, 2004, 2005, 2006, 165843, 2007, 2009, 2010, 2011, 2012, 2013, 2014, 2015, 2016, 2017, 2018, 2019, 2020, 2021, 2022, 2023, 2024, 2025, 2026, 2027, 2028, 100326, 2032, 2033, 2034, 2035, 2036, 2037, 2038, 34800, 2040, 2041, 2042, 2043, 2044, 133115, 2046, 34811, 2048, 2050, 2051, 2052, 2053, 2054, 2055, 2056, 2057, 2058, 2059, 2060, 2064, 2065, 2066, 2067, 2068, 2069, 2070, 2071, 2072, 2073, 2074, 2075, 2076, 2077, 2078, 100383, 2080, 2081, 2082, 2083, 67618, 2085, 100390, 2087, 2088, 2089, 2090, 2091, 2092, 2093, 2094, 2095, 2096, 2097, 2098, 2099, 2100, 100397, 2102, 2103, 2104, 2105, 2106, 165947, 2108, 2109, 2110, 2111, 2112, 2107, 2114, 2115, 2116, 2117, 2118, 165959, 2120, 2121, 2122, 2123, 2124, 2125, 2126, 2119, 133195, 165969, 2130, 2131, 2132, 2133, 2134, 2135, 2136, 2137, 2138, 2139, 2140, 2141, 2142, 2143, 2144, 2145, 2146, 133217, 2148, 2147, 2150, 2151, 2152, 2153, 2149, 2155, 2154, 2156, 2159, 2160, 2161, 67695, 2162, 2164, 2165, 2166, 2167, 2163, 2169, 2170, 2171, 2172, 2174, 166015, 2176, 2177, 2178, 2179, 2180, 2181, 2182, 2183, 2184, 166024, 2186, 100487, 2188, 2185, 2190, 2187, 6948, 2193, 2194, 2195, 100498, 2196, 67734, 2201, 2202, 2203, 2204, 100507, 2206, 2205, 2208, 133281, 2210, 2211, 2212, 2207, 100527, 2226, 2227, 2231, 2232, 2236, 2239, 2240, 2241, 2243, 2244, 2245, 2247, 2248, 2249, 100553, 35015, 2252, 2253, 67788, 2255, 100556, 2257, 2256, 2259, 2260, 2261, 2262, 2263, 67799, 2265, 2266, 2267, 2268, 2269, 2264, 2271, 2272, 2273, 2275, 100579, 2278, 2279, 2280, 2281, 2282, 2283, 2286, 2287, 2288, 2289, 2290, 2291, 2292, 133365, 2294, 2295, 2296, 2297, 2298, 2300, 2301, 2302, 2303, 2304, 133377, 2306, 100611, 2307, 2310, 2311, 2312, 2313, 2314, 2315, 2316, 2318, 2320, 2321, 2322, 2323, 2324, 2325, 2327, 2328, 2329, 2330, 2331, 2332, 2333, 2334, 2335, 2336, 2337, 2338, 2339, 2340, 2342, 166183, 2344, 2346, 133419, 2348, 2349, 2350, 2351, 2352, 2353, 2354, 2355, 2356, 2357, 2358, 2359, 2360, 67888, 2361, 2363, 2364, 166203, 2366, 2367, 2365, 2369, 2370, 2371, 2372, 2373, 2374, 2375, 2376, 2377, 2378, 2379, 2380, 2381, 2382, 2383, 2384, 2385, 2387, 67923, 2389, 2390, 2391, 2392, 2393, 2394, 2395, 2396, 2388, 2398, 2399, 2400, 2401, 2402, 2403, 2404, 2405, 2406, 2407, 2408, 2409, 2410, 2411, 2412, 2413, 2414, 100714, 2416, 2415, 2418, 2419, 2420, 2421, 2422, 2423, 2424, 2425, 2417, 2427, 2428, 2429, 2430, 2431, 2432, 2433, 100737, 2435, 2436, 2439, 2442, 2443, 2445, 2446, 2447, 2448, 2450, 166291, 2451, 2453, 2454, 2455, 2456, 2457, 2458, 2459, 2460, 67997, 2462, 2463, 2465, 2467, 2468, 2469, 2470, 2471, 2472, 2473, 2474, 2475, 2476, 2477, 2478, 133545, 2481, 2482, 2483, 2485, 2488, 2490, 2491, 2492, 2493, 2494, 2495, 2496, 2497, 2498, 2500, 2501, 2502, 2503, 2504, 2505, 100810, 2506, 2511, 2512, 2513, 2514, 2515, 2516, 2517, 2518, 2520, 2521, 2522, 2523, 2524, 2525, 2526, 2527, 2528, 2529, 2530, 2531, 2532, 2533, 2534, 2535, 68073, 2537, 2539, 100843, 2541, 2542, 2540, 2538, 2544, 2546, 506, 2548, 2549, 2550, 2551, 2552, 2553, 2554, 2555, 2557, 2558, 2559, 2560, 2561, 2563, 2565, 2566, 2567, 2568, 2570, 2571, 2572, 2573, 2574, 2575, 133645, 2577, 100882, 2579, 2580, 2581, 2582, 2583, 35347, 2585, 2586, 2587, 2589, 2590, 2593, 2594, 2596, 2597, 2598, 2599, 68135, 2600, 100906, 2605, 2606, 2607, 2609, 2611, 2612, 2613, 2614, 2615, 2616, 2617, 2618, 33085, 2620, 68157, 2622, 68159, 166461, 2625, 2624, 2623, 2628, 2629, 2630, 2632, 2633, 2634, 2639, 2640, 2641, 2642, 2643, 2644, 133712, 133716, 526, 2648, 2651, 166492, 2652, 2654, 2655, 2656, 2657, 68194, 2659, 2660, 2661, 2662, 2664, 2665, 2668, 68205, 2670, 2671, 2672, 2669, 2674, 2676, 2677, 2681, 2682, 2683, 2686, 2687, 2688, 166528, 2690, 2691, 2692, 2693, 2694, 166534, 2696, 2695, 2697, 2699, 2700, 2701, 68237, 2702, 133771, 2698, 2706, 2707, 133780, 2709, 2710, 2708, 2712, 2713, 133782, 2716, 2717, 2718, 2719, 2720, 101025, 2722, 2723, 2724, 166558, 2726, 133798, 2728, 2729, 2730, 2731, 2732, 2733, 2734, 2735, 2736, 133802, 68269, 2739, 2740, 2741, 2742, 2743, 2744, 2745, 2746, 2747, 2748, 2749, 2750, 2751, 2752, 7059, 2754, 2757, 7061, 2759, 133832, 2761, 2762, 2763, 2764, 2765, 2766, 7062, 101072, 2769, 2770, 2771, 2772, 101076, 101070, 2775, 2774, 101074, 2779, 2782, 68319, 2784, 101088, 2786, 2787, 2788, 2789, 2790, 2791, 2792, 2793, 2794, 166635, 2795, 2797, 2796, 133867, 2798, 2799, 2802, 166643, 2804, 2805, 2806, 2803, 2808, 133879, 101112, 2810, 2812, 2807, 68347, 2815, 2816, 2817, 2818, 2819, 2820, 2813, 68358, 2822, 2824, 2826, 2827, 2828, 2829, 33126, 2835, 2836, 2837, 101142, 2839, 2840, 2841, 2843, 2844, 2846, 2847, 2848, 2851, 2852, 33132, 2857, 2858, 2859, 2860, 2861, 2856, 2863, 2862, 166705, 2866, 2867, 2868, 2865, 2870, 2871, 2872, 2874, 2875, 2876, 2877, 2878, 2879, 2880, 2881, 2882, 2883, 2884, 2885, 2886, 33138, 2888, 2889, 2890, 2891, 2887, 2893, 2894, 2892, 2896, 2897, 2898, 2899, 2900, 2901, 2902, 2903, 2905, 2906, 2907, 2908, 68444, 2912, 2915, 2916, 2917, 2918, 2919, 2921, 2922, 2924, 2925, 2926, 2927, 2928, 2929, 2930, 2931, 134004, 2932, 2935, 2936, 33148, 2937, 2940, 2941, 2942, 2943, 2944, 68480, 2946, 2947, 2948, 2949, 2950, 2951, 2952, 2953, 68486, 134019, 2956, 134021, 2959, 2961, 2962, 2964, 2965, 2966, 2967, 2968, 134041, 2969, 2970, 2971, 2973, 2974, 2975, 2976, 2977, 2978, 101283, 2979, 2972, 2982, 2983, 2984, 2985, 2986, 2987, 2988, 2989, 2990, 2991, 2992, 2993, 68522, 2995, 2996, 2997, 3000, 68536, 3002, 3003, 3004, 3005, 3006, 3007, 3008, 3010, 3011, 3013, 3014, 3015, 3016, 3017, 68554, 3019, 3020, 3018, 3022, 134095, 3024, 3021, 7114, 3028, 3029, 3030, 3031, 3032, 3033, 3034, 3035, 3036, 134109, 3037, 3039, 3040, 3041, 35807, 3042, 3044, 3045, 3038, 3046, 3048, 3043, 3051, 3052, 3053, 3054, 3055, 3056, 3057, 134130, 101362, 3060, 3061, 3062, 3063, 3064, 68597, 3066, 3067, 35836, 3068, 3070, 3071, 3072, 68600, 3074, 3075, 3076, 3077, 3078, 3079, 3073, 3081, 3082, 3083, 3086, 3087, 3088, 3089, 3090, 3091, 134158, 3093, 3094, 3095, 3096, 3097, 3098, 134170, 3100, 3101, 3102, 3103, 3104, 3105, 3099, 3107, 3108, 3106, 166946, 101415, 134184, 3113, 3114, 3115, 3111, 3117, 3109, 3112, 3120, 68650, 101423, 68659, 3125, 3127, 3129, 3130, 3132, 3134, 3135, 3138, 33188, 3141, 3142, 134214, 3143, 3145, 3146, 3147, 3148, 3150, 3152, 3153, 3155, 3156, 3157, 3158, 3159, 3160, 3161, 3162, 3163, 3165, 3167, 3168, 3169, 3171, 3173, 3174, 3175, 3176, 3177, 3178, 167018, 3179, 3181, 3182, 134252, 134248, 3185, 3186, 3183, 3189, 3190, 35957, 3192, 3194, 167036, 3196, 3198, 3197, 3200, 3201, 3203, 3204, 3206, 3208, 3210, 3211, 3213, 3214, 3217, 3219, 101525, 3221, 3223, 3224, 3225, 101529, 101531, 167064, 3230, 3235, 3238, 3240, 3241, 3243, 3244, 3246, 3247, 3248, 3249, 3250, 3251, 3252, 3253, 3254, 3255, 68791, 3257, 3258, 68793, 3256, 3260, 3262, 3263, 3264, 3265, 3266, 3267, 3259, 3261, 3268, 3269, 3270, 3271, 3273, 3272, 3275, 3274, 3276, 101577, 3280, 3281, 3283, 3284, 3285, 3286, 3287, 3289, 3294, 3295, 134368, 3296, 3298, 3299, 3300, 3301, 3302, 68835, 3303, 3306, 3307, 3308, 101612, 3310, 68848, 3313, 3315, 3316, 3317, 134393, 3323, 3324, 3325, 3326, 3327, 3328, 3329, 3330, 3331, 3334, 68872, 3341, 3342, 3344, 3345, 3347, 3350, 68886, 3353, 3354, 3355, 3357, 3358, 3359, 3360, 3361, 3362, 3363, 3364, 3365, 3368, 3370, 3372, 3374, 3378, 3379, 3384, 3385, 3386, 3387, 3388, 3389, 3390, 3391, 3392, 3393, 3394, 3395, 3396, 3397, 3398, 68932, 3400, 3401, 3402, 3403, 3404, 3405, 3406, 3408, 3409, 3410, 68945, 3412, 3414, 3415, 68952, 3417, 68954, 3418, 3420, 3421, 3422, 68959, 3424, 3425, 3426, 3423, 3428, 3429, 3430, 3431, 3432, 3433, 3434, 3435, 3436, 101741, 3438, 3439, 3440, 3441, 101739, 134515, 3444, 3445, 3446, 3447, 3448, 3442, 3450, 3451, 3452, 3453, 3454, 134524, 134528, 3455, 167296, 3459, 3461, 3462, 101765, 3466, 3467, 3468, 3469, 3470, 3471, 3473, 3474, 3475, 3476, 3477, 3478, 3479, 3480, 3481, 3483, 3484, 3489, 3492, 3494, 3496, 3497, 3498, 3499, 3500, 3501, 3502, 3503, 3504, 3505, 3506, 3507, 3508, 36276, 3510, 3511, 3512, 3513, 3514, 3515, 3516, 3519, 3521, 36289, 3524, 3525, 3526, 3527, 3528, 3529, 167370, 3531, 69069, 3534, 3535, 3536, 3537, 3538, 3539, 167380, 3543, 3544, 3545, 3546, 3548, 3549, 3550, 3551, 3552, 3553, 3554, 3555, 3556, 3557, 3559, 101864, 3563, 3564, 3565, 3566, 3567, 3568, 3569, 3571, 3572, 3573, 3574, 3576, 3577, 3578, 3580, 3581, 69118, 101884, 3584, 69122, 3587, 3586, 3590, 3591, 3592, 3593, 3594, 36363, 3596, 3597, 69134, 3599, 3598, 69131, 3604, 69140, 3606, 3608, 3609, 3614, 3615, 3616, 3617, 3618, 3619, 3622, 3623, 3624, 3625, 3626, 3627, 3628, 3629, 36397, 3632, 3633, 36401, 3635, 3634, 3637, 3638, 3639, 3640, 3641, 3643, 3646, 3648, 3649, 3652, 3653, 3654, 3655, 101962, 3658, 3660, 3661, 3662, 3663, 3664, 3667, 3668, 101973, 3669, 3671, 3672, 3673, 3674, 3675, 69211, 3677, 3676, 3679, 3680, 3681, 3682, 3683, 3684, 3685, 3686, 3687, 3688, 3689, 3690, 3691, 3692, 3693, 3694, 3695, 3696, 3697, 3698, 3699, 167538, 3701, 3702, 3703, 3704, 3705, 3706, 3707, 3708, 102007, 3710, 3711, 3712, 3713, 134783, 69251, 3716, 3717, 3714, 3719, 3715, 102025, 3720, 3723, 3724, 3725, 3726, 3727, 3728, 3729, 3730, 102033, 3732, 3733, 3731, 3735, 134808, 3737, 3738, 69275, 3740, 3741, 69278, 3743, 3744, 3745, 3746, 3742, 3747, 36517, 36509, 3751, 36519, 3753, 3752, 3754, 3755, 36525, 3758, 36527, 102058, 36529, 3761, 3763, 3764, 36533, 3766, 36535, 69304, 3769, 3770, 3768, 69306, 3773, 3774, 134847, 3767, 134849, 3771, 102084, 134853, 3783, 3784, 3785, 3786, 134859, 3788, 134861, 65882, 3791, 3790, 3793, 167634, 3795, 3794, 3797, 3798, 3799, 3792, 3801, 3802, 3806, 3807, 3808, 3809, 3810, 3811, 3812, 134881, 3814, 3813, 3816, 102123, 3819, 3821, 102125, 3822, 3824, 3825, 3826, 3827, 3823, 3830, 3831, 3832, 3833, 3834, 3835, 3836, 3837, 3838, 3839, 3840, 3841, 3843, 3844, 3845, 3846, 3847, 3849, 3851, 3852, 3855, 3857, 69394, 3858, 3859, 3861, 3862, 3863, 3864, 3865, 102165, 167706, 3868, 3869, 69406, 3871, 3872, 3873, 3870, 3877, 3879, 3882, 3884, 3888, 3889, 102194, 167732, 3893, 3894, 3895, 3896, 3897, 3898, 3899, 69436, 3901, 3900, 167746, 3906, 3908, 3909, 3910, 3911, 3912, 102217, 3914, 3915, 3916, 3917, 3918, 3919, 69453, 3920, 3922, 3925, 3926, 3927, 3928, 3929, 3930, 167772, 69469, 3932, 3933, 3937, 3938, 3939, 36708, 3940, 3941, 3943, 3942, 69481, 3946, 3947, 3948, 3949, 3950, 167790, 3952, 3951, 3953, 3955, 3957, 3958, 3959, 69495, 3962, 3963, 3964, 3965, 3966, 3967, 3968, 3969, 3971, 3972, 3973, 3974, 102278, 3977, 3978, 3979, 3980, 3981, 69516, 3983, 3984, 3985, 3986, 3987, 3988, 69524, 3990, 69526, 3991, 69529, 3994, 3992, 3996, 3997, 3998, 3999, 3993, 4000, 4002, 4003, 4005, 4006, 4007, 4008, 4009, 4010, 4011, 4012, 167854, 4015, 4014, 4016, 4017, 4018, 4019, 4020, 4021, 4022, 4023, 4025, 4024, 4027, 4029, 4030, 4031, 4032, 4033, 4034, 4035, 4036, 4037, 102338, 4039, 4040, 4041, 4042, 4043, 803, 4046, 4047, 4051, 4052, 4053, 4054, 4055, 4056, 806, 135133, 4062, 4063, 4061, 135137, 4066, 4067, 4068, 4069, 69606, 135143, 4064, 4065, 4074, 102378, 69604, 4077, 4078, 4079, 4080, 4081, 4082, 4083, 4084, 4085, 4086, 36850, 4089, 4090, 4091, 4092, 4093, 4102, 102407, 69640, 4104, 4105, 4103, 69644, 4109, 4110, 4111, 4113, 4115, 4116, 4117, 69654, 4121, 4123, 4124, 4125, 4126, 4127, 4128, 4129, 4130, 4131, 4132, 4133, 135198, 4135, 4138, 4139, 102445, 4141, 4142, 4144, 4143, 4146, 4147, 4148, 4149, 69685, 135216, 4152, 4153, 4154, 4155, 4156, 4157, 4158, 4159, 4160, 4161, 36931, 4164, 4166, 4167, 4168, 4171, 4174, 4175, 69712, 102481, 4178, 4180, 4181, 69720, 4184, 168026, 4187, 4189, 4190, 4191, 4193, 4195, 4197, 4198, 4200, 4202, 4203, 4204, 4205, 4207, 4210, 4211, 69746, 4212, 4214, 4215, 135288, 4217, 4218, 4219, 4220, 69757, 4221, 4223, 4224, 4225, 4226, 4228, 4229, 4231, 4232, 4233, 4234, 4235, 4236, 4237, 4238, 4239, 4240, 4241, 4242, 4243, 4246, 4247, 69784, 4248, 168090, 4251, 4252, 4254, 4255, 4256, 4259, 4260, 4262, 4263, 4265, 4267, 4268, 69805, 4270, 4273, 4275, 4276, 4278, 4280, 4282, 4284, 4285, 102590, 4289, 4290, 4291, 4292, 4293, 4294, 4296, 4297, 102602, 4299, 4300, 4298, 4304, 168144, 4306, 4305, 4308, 69844, 4310, 4307, 4312, 69849, 4313, 4316, 4317, 4321, 4322, 4323, 69860, 4325, 4326, 4327, 4329, 4333, 4334, 168174, 4337, 4338, 4339, 4340, 4342, 4343, 4344, 4345, 4347, 4349, 4350, 4351, 4353, 4354, 4355, 4356, 4357, 4359, 4361, 102666, 135436, 4366, 4367, 69904, 4369, 4370, 4368, 4372, 4373, 4371, 4374, 4378, 168218, 4380, 4381, 102686, 4383, 135456, 102684, 4386, 4387, 4388, 4389, 4384, 4390, 4392, 4393, 4394, 4395, 4396, 4397, 4399, 4402, 4403, 4404, 4406, 4407, 168248, 4408, 168250, 4409, 168252, 102716, 168254, 69951, 102720, 4412, 69953, 4419, 4420, 4422, 4424, 168266, 4427, 4426, 4429, 4428, 102735, 4432, 4433, 4434, 4436, 4437, 4438, 4439, 4440, 102742, 4442, 102747, 4443, 4444, 4446, 4447, 135518, 4449, 4448, 4450, 69988, 4452, 4451, 4453, 4454, 102760, 4458, 4459, 135532, 4462, 4463, 135536, 4464, 4466, 4465, 4467, 135534, 4470, 4471, 37240, 4473, 4474, 4475, 4476, 4477, 4478, 70015, 4480, 4482, 4483, 4484, 168326, 4487, 4488, 4489, 4490, 4492, 135567, 4496, 135569, 4498, 4499, 4500, 4495, 4502, 102800, 4504, 4505, 4506, 102802, 4508, 4509, 168350, 4511, 102819, 4516, 4517, 4518, 4519, 4520, 102823, 4522, 4523, 4524, 4521, 168366, 4527, 4526, 4529, 4531, 4533, 4534, 4535, 4537, 4541, 4544, 4545, 4546, 102852, 4552, 4553, 4557, 4558, 4562, 4563, 4564, 4565, 907, 4568, 4571, 4572, 4573, 4574, 102880, 4577, 168418, 4578, 4580, 4581, 4583, 4584, 4585, 4587, 4589, 4591, 4593, 4594, 4595, 4597, 102903, 4599, 4600, 4602, 4603, 4605, 4608, 4610, 4611, 37380, 4613, 37382, 4612, 4616, 37384, 37386, 4619, 4614, 4621, 4622, 4623, 4624, 70159, 4626, 4625, 4628, 4629, 4630, 4632, 4634, 4635, 4636, 4638, 4639, 4640, 4641, 4642, 4643, 4644, 4645, 4646, 70183, 4649, 168492, 4653, 4654, 4658, 4660, 4661, 4662, 4663, 4666, 4670, 4671, 4672, 4673, 70206, 4675, 37444, 4677, 4678, 4679, 102984, 4681, 4676, 4683, 98623, 4686, 4687, 4688, 102993, 4690, 4689, 4695, 4697, 4699, 4700, 4701, 4703, 4704, 135777, 4705, 37475, 4708, 37477, 4709, 4711, 4710, 4713, 4714, 4715, 135787, 4717, 4718, 4719, 4720, 4721, 4722, 4723, 103027, 4725, 4727, 4728, 37495, 98633, 135803, 4732, 4733, 4734, 4735, 4736, 103042, 4738, 4740, 4741, 4743, 4744, 103048, 4745, 135815, 4748, 4749, 70286, 4750, 4754, 4756, 70293, 4757, 4759, 4765, 70301, 4766, 168608, 70305, 4770, 103075, 4772, 4773, 4774, 4771, 4776, 37545, 168612, 4777, 4780, 4775, 4782, 4783, 4784, 4785, 4786, 4787, 4788, 135861, 4789, 168632, 4792, 4794, 4795, 4796, 70334, 4799, 70336, 4800, 4802, 4803, 103107, 4798, 4801, 4804, 4808, 4809, 4810, 4811, 4812, 4813, 4814, 135887, 4816, 4815, 4818, 135885, 4821, 4822, 4823, 70361, 4826, 4825, 4827, 4828, 4830, 4831, 103137, 4833, 4835, 4836, 103141, 72603, 4840, 4844, 4845, 4846, 4847, 4848, 4849, 4850, 4852, 4855, 4857, 4860, 4862, 4863, 4864, 4865, 135937, 103171, 4866, 4867, 4871, 168712, 4873, 4874, 4876, 4877, 4878, 4879, 4880, 4881, 4883, 4885, 4886, 4887, 4888, 4889, 4890, 4893, 4896, 4898, 4899, 4900, 4901, 4902, 4903, 103210, 4909, 4911, 4912, 4914, 4915, 4916, 4917, 70451, 4919, 4920, 4921, 103221, 103219, 103228, 4925, 4926, 4927, 4928, 4929, 103233, 103235, 4932, 4936, 4939, 136012, 4941, 4942, 103245, 136016, 103249, 136018, 4945, 136020, 103253, 4946, 4951, 37720, 4947, 4954, 4953, 70492, 4957, 4958, 37727, 4959, 37729, 4956, 4963, 37731, 37733, 4964, 4967, 4966, 4969, 37736, 37739, 4971, 37741, 4973, 4974, 4975, 4976, 4978, 4979, 4980, 4981, 4977, 70521, 4985, 4987, 4988, 4989, 4990, 4991, 4992, 4993, 4994, 4995, 70533, 4998, 5004, 168846, 5007, 5008, 5009, 5010, 5011, 70545, 5013, 5014, 5015, 5016, 5012, 5021, 5023, 5025, 5026, 5027, 5028, 70565, 103335, 5033, 5034, 103339, 103341, 5039, 5040, 5041, 5046, 5047, 5048, 5049, 5051, 5053, 5054, 5055, 5059, 5060, 37830, 70599, 5064, 5065, 5066, 5062, 103372, 5068, 5063, 5071, 5072, 5073, 5074, 5075, 5076, 5077, 5069, 37844, 103384, 5080, 5081, 5083, 37853, 202, 5088, 37857, 5092, 5093, 5094, 5095, 5096, 5099, 70637, 5102, 5103, 70641, 5106, 5107, 5108, 5109, 5110, 5105, 5112, 5113, 5114, 5111, 5116, 1017, 5120, 5121, 1019, 5127, 5128, 70663, 5131, 5134, 5135, 5136, 5137, 5139, 103449, 5146, 5147, 5151, 5152, 70687, 5155, 5156, 5159, 70697, 5165, 70703, 5168, 5170, 5171, 70708, 5177, 5178, 103483, 5181, 5187, 5189, 70728, 169034, 5197, 103502, 5198, 5202, 5205, 5209, 5212, 5213, 5214, 5218, 5219, 5220, 5221, 5222, 5224, 5225, 5226, 136297, 5231, 136305, 103539, 5237, 5238, 103543, 5240, 5241, 5239, 5244, 5246, 5247, 5248, 5250, 5254, 5255, 5256, 5258, 5264, 5265, 5266, 5267, 5268, 136341, 38038, 5269, 5272, 5275, 5278, 5279, 136353, 5282, 5283, 136355, 5284, 5285, 136359, 5288, 5291, 5292, 38061, 5293, 5294, 5296, 103596, 103602, 5299, 5300, 5298, 103606, 5303, 5304, 5297, 103609, 5307, 5308, 5309, 5311, 5312, 5313, 5316, 5319, 103624, 5321, 5322, 5323, 5324, 5325, 70862, 38095, 5328, 5329, 5333, 5334, 5337, 5338, 5339, 169180, 5341, 5345, 5346, 5347, 5348, 5349, 103655, 5353, 5356, 5357, 5358, 5361, 5363, 5364, 5365, 136443, 5372, 5373, 136445, 136447, 5375, 5377, 5378, 5379, 5380, 136449, 5382, 103685, 103688, 5385, 5384, 5387, 5388, 5389, 5390, 38159, 5391, 38164, 5397, 5398, 136471, 5400, 5401, 136469, 70932, 5404, 5409, 70946, 5410, 5414, 5415, 5416, 5417, 5418, 5419, 5420, 5421, 5422, 5423, 5424, 5425, 5427, 5428, 38198, 136503, 5433, 5434, 5435, 5437, 5438, 136511, 5440, 5442, 5443, 5444, 5445, 5446, 5447, 70984, 5449, 5450, 5451, 5452, 103755, 70990, 5454, 5456, 5455, 5458, 5459, 5460, 1085, 70994, 5463, 5464, 5462, 5466, 5465, 103772, 5468, 5470, 136540, 5472, 5471, 5475, 5476, 5477, 5478, 5479, 5480, 5481, 137859, 5483, 136556, 5485, 5486, 5489, 136562, 5490, 136564, 5493, 103801, 71033, 5498, 5500, 5501, 5502, 5497, 5504, 5505, 103810, 5507, 5508, 5506, 5503, 5512, 5513, 103819, 5515, 71057, 5522, 5523, 5524, 5521, 136598, 5527, 5528, 5529, 5530, 38294, 5531, 5532, 5525, 136602, 38304, 5537, 5538, 5539, 5540, 5541, 5543, 5544, 5548, 5550, 5553, 5556, 33669, 5560, 103865, 5562, 5563, 5564, 5568, 5569, 71106, 5570, 71108, 5572, 5574, 5573, 5575, 5577, 103883, 5580, 5581, 5582, 136654, 5584, 5585, 5588, 5589, 5590, 5591, 136664, 71129, 136666, 71131, 5596, 5597, 33677, 71135, 5601, 5602, 5603, 5604, 5607, 5608, 5609, 5610, 5611, 5612, 71147, 5613, 5615, 5614, 5617, 5618, 5619, 38388, 5620, 71156, 5621, 33681, 5625, 71160, 33683, 5628, 5630, 5629, 5632, 5633, 5635, 5636, 5637, 5638, 5640, 5643, 5644, 5646, 5649, 5650, 5651, 5657, 5663, 5664, 5665, 5666, 5667, 5668, 5669, 71205, 5670, 5672, 5673, 71211, 103980, 1128, 5678, 5679, 103984, 5680, 5682, 5675, 5684, 5685, 5688, 5689, 5690, 5693, 5694, 5696, 5699, 5700, 5704, 5706, 5707, 136778, 5710, 5712, 71248, 136786, 104017, 71252, 71254, 5720, 5723, 71264, 136800, 71268, 5733, 5735, 5736, 5741, 5742, 136816, 5745, 5746, 5747, 71282, 5749, 98836, 5752, 5755, 136834, 5764, 104069, 71302, 136838, 71304, 136840, 104074, 5771, 5772, 104076, 104078, 5773, 5767, 5768, 136850, 5779, 5780, 5782, 5784, 5785, 5786, 5787, 5788, 136859, 5791, 136864, 5792, 71327, 5796, 5797, 5799, 5801, 5802, 5803, 5804, 71341, 5809, 5810, 5812, 38583, 5816, 5817, 5818, 5820, 104129, 5826, 5828, 5829, 169670, 5833, 5836, 104141, 5838, 5839, 136912, 5841, 5840, 5843, 71379, 5847, 5849, 5853, 5856, 5863, 5867, 5872, 5873, 5874, 5875, 5876, 5878, 5879, 5880, 5881, 5882, 5883, 5884, 136958, 5888, 5889, 5890, 5891, 5893, 71429, 5896, 5899, 5900, 5901, 5902, 5903, 71438, 104211, 5909, 5912, 104218, 5915, 71453, 5919, 5922, 5925, 71462, 5927, 71464, 5929, 71466, 5932, 71468, 104241, 5938, 104243, 5941, 5942, 5943, 5944, 5945, 104245, 5947, 71484, 5949, 5951, 5952, 5953, 5954, 5955, 5956, 5957, 71494, 5959, 5961, 5962, 5963, 71500, 5965, 104272, 5969, 5970, 5971, 5968, 5974, 5975, 104283, 5980, 5979, 71518, 71520, 5984, 5986, 5988, 5989, 5990, 5991, 5992, 5993, 71530, 5995, 5994, 71535, 5999, 6001, 6002, 6003, 104303, 6005, 6006, 6009, 6012, 6013, 6014, 71550, 6016, 6020, 6021, 6022, 6023, 6025, 6027, 6030, 38798, 6031, 6033, 104337, 104339, 6035, 6036, 6039, 6040, 6041, 6042, 71579, 6044, 6049, 6051, 6055, 6057, 6058, 6059, 6060, 6062, 6063, 6064, 169904, 6067, 104374, 6070, 169912, 6078, 71619, 6086, 6090, 6093, 6095, 6100, 6101, 6104, 71640, 6107, 6111, 104419, 6116, 38886, 6119, 169958, 6122, 6123, 6124, 6125, 71668, 6140, 6141, 169982, 6143, 169984, 6145, 137218, 6148, 169992, 6153, 104457, 6155, 6156, 6157, 6158, 6159, 6162, 6163, 6166, 6169, 6170, 6178, 6181, 6182, 6183, 6184, 6185, 6186, 6187, 6188, 6192, 6193, 6195, 6196, 6197, 71732, 6201, 6202, 6203, 6204, 71745, 6210, 6212, 6213, 6214, 6215, 6216, 6217, 6218, 6219, 6220, 6222, 6223, 38992, 6225, 33801, 6228, 6232, 6234, 6235, 6237, 6238, 6239, 6241, 6242, 6244, 6245, 6246, 6249, 6250, 6251, 6252, 6254, 6263, 6264, 137337, 6266, 6265, 6268, 6269, 6270, 6271, 6267, 6273, 71810, 137345, 6279, 6280, 6281, 6283, 6285, 6286, 6287, 6288, 71823, 6290, 6291, 6289, 6294, 6295, 6296, 6297, 6298, 6299, 6300, 6301, 71838, 6303, 6302, 6305, 6306, 6308, 6310, 6313, 6314, 6315, 6316, 6319, 6320, 6322, 6323, 6324, 6327, 6329, 6330, 6331, 6332, 6333, 6334, 6335, 71867, 6337, 6338, 6339, 104644, 6341, 6336, 6342, 6344, 6345, 6347, 6348, 6349, 6350, 6357, 6358, 1264, 71899, 6365, 71902, 6367, 6368, 6370, 6371, 6373, 6374, 6375, 6376, 6377, 6378, 6379, 6380, 71910, 6382, 6383, 6385, 6386, 6387, 6390, 6395, 6400, 6402, 6405, 6407, 6408, 6410, 6412, 39183, 6415, 6417, 6422, 6424, 6425, 6427, 6428, 6429, 6433, 71970, 6434, 6436, 6440, 6442, 137517, 6448, 170289, 6449, 6452, 6453, 6454, 104760, 170297, 6460, 6461, 39231, 6464, 71999, 39234, 6465, 6466, 72011, 104780, 6476, 6477, 6480, 6482, 6483, 6484, 6493, 6502, 6503, 6506, 6509, 6510, 6514, 170355, 6515, 170357, 6517, 6516, 137595, 39292, 6523, 6527, 6528, 6530, 6533, 6534, 6535, 6536, 104841, 6537, 6539, 39307, 6541, 6538, 6542, 6545, 6547, 6548, 6549, 6550, 6551, 6552, 6553, 6554, 6557, 6558, 104863, 170399, 170401, 6559, 6561, 6564, 6565, 6566, 6567, 72104, 6568, 6563, 104875, 170411, 6571, 6572, 104879, 6574, 6577, 6573, 6579, 6578, 6581, 6582, 6583, 6584, 6586, 6587, 6588, 6591, 6592, 72129, 6593, 6595, 6596, 6597, 6598, 104906, 6603, 6604, 104908, 72142, 104913, 6609, 6611, 6612, 39381, 6614, 6615, 6616, 6617, 6618, 6619, 6620, 104925, 6624, 6625, 6628, 6629, 72165, 72167, 39400, 6631, 72171, 6636, 6638, 6639, 104944, 72178, 6643, 131578, 6645, 39414, 6644, 6650, 6654, 6656, 6658, 6659, 39427, 6660, 6662, 6663, 6664, 6665, 6666, 39435, 6667, 6669, 6670, 6671, 39444, 39446, 6678, 6679, 39449, 6684, 33893, 6686, 6687, 6688, 6689, 72226, 72224, 6692, 6691, 6695, 6696, 6699, 6702, 6705, 6706, 6707, 6708, 6709, 6710, 6711, 170551, 6713, 6715, 105020, 6718, 6720, 6721, 6722, 6723, 6724, 6731, 6732, 105037, 6734, 6744, 6746, 6748, 39516, 6750, 6751, 6752, 6753, 6754, 6755, 170597, 72294, 6760, 6763, 6764, 6765, 6768, 6769, 6770, 6772, 6773, 6774, 6775, 6776, 6777, 72308, 6780, 6782, 6783, 137857, 6786, 6787, 6785, 6788, 6790, 6791, 137863, 6793, 72330, 6794, 6796, 6797, 6798, 6800, 1352, 6804, 6803, 6807, 6808, 6809, 6810, 6811, 6812, 6814, 6816, 6817, 6818, 105121, 72356, 6820, 6821, 6827, 6832, 6835, 6836, 6837, 72378, 6850, 6851, 6852, 6853, 6856, 6857, 6858, 72395, 170697, 6860, 6862, 6863, 170705, 6867, 6868, 72405, 6870, 72407, 6872, 6873, 6874, 6869, 6879, 6880, 6881, 6882, 6883, 6884, 6885, 6886, 6887, 6888, 6889, 6890, 72424, 6893, 105197, 6898, 6899, 6902, 105211, 105213, 6909, 6911, 6912, 6918, 6920, 6927, 164200, 6932, 6934, 6935, 6936, 170777, 6938, 6939, 6942, 105246, 6944, 6945, 105250, 39715, 6947, 6946, 6949, 6950, 6952, 6953, 72489, 6951, 105254, 6957, 6958, 6959, 6954, 6789, 6962, 6963, 138036, 6965, 6966, 6967, 6961, 6969, 6970, 6971, 170813, 6974, 6975, 6973, 170817, 6978, 6979, 6981, 6982, 6983, 6984, 6985, 6986, 170827, 6987, 6989, 6990, 6992, 6993, 6994, 6996, 6997, 170837, 6999, 7000, 7001, 6998, 7004, 7005, 7007, 7008, 7009, 7010, 7012, 7013, 7015, 7016, 7017, 7018, 7019, 72554, 105325, 7022, 7023, 7024, 7025, 7026, 7027, 7028, 7030, 7031, 7032, 7033, 7034, 170875, 7036, 39801, 7038, 7037, 7040, 7041, 7044, 7045, 7046, 105351, 7048, 7049, 7050, 105355, 7051, 7052, 7054, 72591, 7056, 170897, 7053, 7055, 7060, 7057, 7058, 7063, 7064, 7065, 72601, 7067, 170907, 7069, 72605, 7071, 7072, 7070, 7073, 7074, 7076, 7075, 7078, 7079, 7080, 7082, 7083, 7084, 7085, 7086, 7087, 72624, 7089, 7090, 7088, 7091, 7092, 7093, 7096, 170937, 7099, 170939, 39869, 7102, 7103, 7104, 72641, 7101, 7107, 170945, 7108, 7109, 138186, 7115, 7116, 170957, 7118, 7117, 66544, 7121, 7122, 7123, 7124, 7125, 7127, 7131, 7132, 138204, 7134, 138208, 7137, 138210, 7139, 7141, 7142, 7143, 7147, 7149, 7150, 7151, 7153, 7154, 7155, 7156, 72692, 7158, 170993, 7160, 7161, 7162, 7163, 7164, 72701, 72696, 7165, 7167, 7169, 105468, 171011, 7171, 7173, 7175, 7176, 7177, 72714, 7178, 7179, 7181, 171023, 72720, 7184, 7190, 7191, 7192, 7193, 72731, 72733, 105504, 72737, 7202, 7205, 7206, 7208, 7209, 7211, 7212, 7215, 7216, 7217, 7218, 7219, 7222, 7223, 7225, 7228, 7234, 7235, 105540, 7236, 7238, 7243, 7245, 7247, 7248, 7251, 7254, 7255, 7256, 7257, 7258, 7259, 7260, 7261, 7262, 7263, 7264, 7265, 7266, 105585, 7282, 7285, 105593, 7292, 7293, 7294, 7297, 7299, 7301, 7302, 7303, 7304, 7305, 7306, 7307, 7308, 7310, 7311, 7312, 34018, 7315, 7316, 7317, 7318, 7319, 7320, 7321, 7323, 7324, 7325, 138396, 7327, 7328, 7326, 7333, 7335, 7336, 72874, 7340, 7344, 7345, 7346, 7347, 7348, 105653, 7349, 7352, 7354, 7357, 7360, 7361, 7362, 7364, 7366, 7367, 7368, 7369, 7371, 7372, 7373, 7375, 7376, 7377, 7379, 7380, 7381, 40148, 7382, 72919, 72921, 7386, 7387, 7390, 7394, 7395, 7396, 7411, 171251, 7414, 105720, 7419, 105731, 7438, 7439, 7440, 105746, 7443, 7444, 7445, 72982, 7448, 7449, 7450, 7451, 105755, 7454, 7455, 7457, 7458, 7459, 7460, 72998, 138546, 7477, 73015, 7479, 73017, 7482, 7481, 7486, 73023, 7487, 7492, 7493, 105801, 73042, 40278, 105835, 138610, 105844, 7541, 7560, 7561, 7562, 138632, 7564, 7566, 7569, 7570, 73106, 40339, 7573, 7572, 7579, 7581, 7584, 7587, 7614, 7615, 7616, 7618, 7619, 7620, 7624, 73160, 138702, 7636, 40412, 40414, 7647, 7646, 7649, 105954, 7650, 171495, 7657, 7669, 73211, 106002, 7698, 7700, 7701, 7702, 7704, 7705, 7706, 7707, 7708, 40478, 7713, 7714, 7716, 7720, 40491, 138798, 7727, 7728, 73266, 7730, 73268, 7742, 7743, 7745, 7748, 7749, 7753, 73290, 7756, 7757, 106062, 7762, 138835, 7766, 7767, 106072, 7772, 7773, 7781, 7782, 73319, 73321, 7786, 73323, 7789, 171631, 1549, 106100, 7802, 73344, 7810, 7811, 7812, 40581, 164375, 40583, 7815, 40578, 7820, 7822, 7826, 40597, 7831, 7832, 7833, 7834, 7835, 7839, 106144, 7841, 7842, 7843, 7844, 7845, 7846, 40614, 7840, 40617, 73386, 171695, 40629, 171701, 1565, 7879, 7882, 7883, 7884, 7888, 7889, 7891, 7894, 73431, 138966, 7895, 7896, 7899, 7900, 171749, 171751, 7916, 171759, 7920, 171763, 7924, 171765, 7926, 7925, 40697, 7930, 7932, 7934, 7936, 7937, 7938, 7939, 7940, 7943, 7944, 7951, 73488, 40723, 73499, 40732, 73501, 34148, 171811, 7976, 73515, 7980, 7981, 7982, 7983, 7979, 139052, 7986, 7987, 7988, 7984, 7991, 7993, 8008, 8010, 8011, 8012, 8014, 8015, 8016, 8019, 8024, 8025, 106330, 171867, 8033, 73569, 8035, 8042, 8043, 8044, 8045, 40815, 40819, 171891, 8057, 40826, 139130, 171917, 40851, 139157, 8092, 8093, 8094, 40870, 8117, 8118, 8119, 8121, 8125, 66744, 8126, 8128, 8131, 8132, 106438, 8136, 106441, 8138, 8137, 73676, 8142, 8143, 73681, 8147, 8153, 8154, 8157, 8158, 8167, 8169, 172013, 40946, 8183, 106487, 106489, 106491, 40955, 8188, 8190, 40959, 8191, 8189, 40962, 8195, 8196, 8197, 40966, 8199, 73741, 8207, 8225, 8228, 8232, 8235, 106540, 8236, 8238, 8239, 106542, 8241, 41014, 8253, 8254, 8261, 8264, 8266, 8268, 73804, 8270, 73808, 8275, 73822, 106594, 8290, 8293, 8302, 139385, 73854, 73858, 66783, 1654, 8327, 8331, 66785, 8335, 8336, 8337, 106642, 8338, 8340, 8341, 73876, 139415, 106648, 73881, 8360, 8361, 8362, 8363, 8364, 8366, 8368, 8369, 8370, 8371, 8372, 8373, 172215, 8376, 8375, 8378, 8379, 8380, 8382, 8383, 8385, 8387, 172229, 8391, 106696, 73929, 172233, 8402, 8405, 8410, 172253, 8424, 8425, 8426, 8427, 139511, 8446, 8447, 8450, 8451, 8454, 8456, 8458, 8459, 8461, 106766, 8462, 8464, 8463, 8465, 8477, 106782, 172321, 106785, 8481, 8484, 8482, 8487, 8491, 8492, 8493, 8494, 8495, 8500, 8501, 8502, 8506, 8507, 8511, 8512, 41285, 8518, 8521, 8526, 8528, 8529, 8530, 8531, 8532, 8533, 8534, 106839, 8535, 74075, 8542, 74089, 74095, 139640, 106873, 139642, 8571, 139644, 8574, 8575, 8577, 8578, 106883, 8580, 8581, 8582, 139655, 106889, 8587, 8588, 8591, 8593, 8596, 8600, 8601, 8604, 8605, 8607, 8609, 8610, 8611, 106916, 106918, 8614, 106920, 8617, 74154, 8620, 172461, 8622, 8623, 106927, 8626, 8632, 8633, 8636, 8638, 8640, 8641, 8643, 8644, 139717, 8645, 8650, 8656, 172497, 8665, 8666, 8667, 8670, 139747, 8677, 8684, 8685, 74226, 8690, 74228, 8695, 172547, 107013, 8711, 8712, 8713, 8714, 8718, 8720, 8724, 8727, 8730, 172577, 8738, 74275, 172583, 8743, 172585, 74282, 172587, 8748, 172589, 172591, 8753, 8754, 8755, 41527, 107069, 8771, 8772, 8773, 8774, 8778, 8781, 8782, 8783, 8784, 139855, 139857, 139859, 74324, 8795, 8796, 172637, 8798, 41566, 8799, 41569, 8800, 41571, 8804, 41573, 74342, 8807, 8808, 8809, 8810, 8813, 8814, 8815, 8827, 32914, 8830, 8831, 8832, 8833, 74370, 8835, 8836, 107141, 8838, 8840, 139915, 8844, 8848, 41617, 1759, 107159, 41627, 8860, 8861, 8864, 8865, 8866, 172705, 8869, 8870, 8873, 8874, 8875, 8879, 8880, 8894, 8905, 8906, 8907, 8908, 8910, 8911, 8912, 74450, 8914, 8916, 8917, 8918, 74452, 8915, 8919, 74458, 139994, 8920, 8921, 8928, 8933, 8934, 8937, 8938, 8939, 8943, 140016, 41712, 8946, 8947, 8948, 8949, 8950, 8951, 41716, 172793, 8952, 8954, 41724, 8957, 8958, 8959, 8955, 8961, 8964, 8965, 8966, 140038, 8968, 8969, 8970, 8967, 8972, 8973, 74510, 8974, 74508, 8977, 8978, 8979, 8981, 8982, 8983, 8984, 8985, 172825, 8987, 66915, 8989, 74530, 74532, 8998, 41769, 9004, 9005, 9008, 74545, 9010, 107314, 74553, 9018, 34359, 107338, 172875, 140110, 172881, 107348, 74580, 172887, 41828, 140133, 172909, 74624, 140162, 41863, 140174, 107406, 107408, 107410, 107412, 74647, 74668, 107436, 74677, 107447, 107449, 74683, 74685, 74688, 107462, 74696, 74698, 140237, 140247, 132084, 74727, 140265, 140267, 74750, 140289, 74754, 140301, 41997, 42002, 42004, 42007, 42009, 42011, 42013, 42015, 42018, 74789, 74791, 74795, 107565, 140359, 173145, 74851, 107630, 74868, 173197, 173205, 173209, 74916, 173235, 107702, 42176, 140481, 74946, 74948, 173253, 173255, 107723, 42191, 173291, 140523, 140525, 99574, 173307, 107771, 140541, 107780, 173317, 34450, 140561, 173351, 173355, 42285, 107846, 140627, 140711, 107945, 140715, 107951, 107953, 42418, 140725, 42422, 107962, 140737, 107997, 173535, 107999, 164753, 140816, 108078, 140850, 173619, 140852, 99638, 108090, 42556, 42559, 75341, 42602, 108156, 75389, 140928, 75395, 42632, 42638, 75416, 140956, 108188, 108190, 108192, 75446, 173751, 141004, 42718, 42723, 42725, 42728, 42730, 42732, 42734, 42738, 42740, 42761, 173873, 1998, 141131, 173925, 173941, 2008, 173963, 42943, 42946, 174045, 174053, 174055, 108540, 75803, 75805, 75813, 75816, 108601, 174141, 141400, 141408, 141422, 108689, 108715, 75947, 108727, 108729, 141513, 132333, 75985, 132335, 141544, 2084, 108795, 76030, 76054, 43289, 76060, 164917, 76077, 76091, 76093, 174403, 43333, 141646, 132362, 141668, 76143, 43376, 141688, 108928, 108932, 43396, 76173, 76175, 174479, 108945, 108949, 141718, 43419, 108981, 141749, 43460, 174551, 76251, 141799, 141810, 109042, 141816, 141818, 141820, 76293, 141830, 141836, 76301, 141844, 141846, 43549, 43556, 43558, 43560, 141866, 141890, 174681, 141928, 109161, 109183, 109187, 109191, 174727, 174737, 43677, 43679, 43684, 141994, 109241, 43708, 2175, 142020, 174815, 43744, 109282, 142056, 109295, 142074, 109313, 109317, 142115, 132454, 43836, 174909, 109374, 109372, 109383, 132462, 43869, 43871, 109416, 142196, 43904, 43908, 43912, 43914, 43917, 142222, 43919, 43921, 43928, 43930, 43932, 43936, 109483, 109487, 76738, 76743, 76751, 76763, 44004, 44020, 44022, 109569, 109576, 109578, 109596, 142366, 142372, 109633, 142420, 142422, 142424, 175197, 175199, 109673, 142444, 142448, 109687, 142456, 142488, 109723, 44189, 44191, 44193, 44195, 44197, 44199, 142507, 44204, 142509, 175293, 44225, 175303, 142536, 165101, 44238, 44241, 165103, 44243, 142550, 142558, 142598, 142602, 44301, 109846, 109848, 109850, 175387, 109853, 175397, 109864, 175401, 175431, 109895, 109897, 175435, 44397, 44399, 175475, 109941, 77177, 175485, 77191, 165139, 109968, 77201, 109971, 77206, 77233, 175569, 77266, 175577, 44511, 175585, 142831, 44555, 110102, 2347, 175661, 110127, 110130, 77364, 44597, 44613, 175693, 175705, 44633, 175707, 132618, 77414, 2362, 77421, 142961, 44657, 77427, 44665, 175743, 2368, 77455, 142997, 44694, 143001, 175781, 44709, 65601, 44719, 143031, 44731, 110281, 110286, 44759, 44761, 110297, 44773, 44777, 44788, 77561, 110330, 110350, 44828, 44840, 44849, 44851, 110387, 44864, 44889, 77667, 77688, 44929, 44931, 44937, 143245, 77709, 44943, 143255, 143257, 110501, 44972, 44974, 176051, 110541, 110553, 77795, 45028, 176101, 77798, 77800, 110586, 143355, 110591, 143365, 45062, 143367, 110603, 77841, 45074, 110611, 77846, 143385, 45081, 77866, 45106, 143410, 77881, 110655, 77893, 110669, 143458, 77931, 143472, 45175, 110718, 45183, 45186, 110730, 143511, 45208, 45210, 110746, 45221, 143525, 110771, 110773, 110781, 143559, 176329, 78034, 78039, 78041, 110826, 176371, 176389, 78088, 78103, 78105, 176413, 176415, 110882, 176419, 78116, 176423, 45361, 78142, 45382, 78160, 78174, 45431, 45440, 78209, 45442, 45447, 78218, 78264, 78266, 45499, 45501, 45503, 176579, 45517, 67665, 176601, 78316, 176621, 143859, 111113, 78349, 143896, 111146, 45635, 45648, 45658, 45662, 143969, 45666, 45668, 45672, 176751, 78467, 78469, 45720, 45722, 45726, 45728, 45730, 78499, 45732, 176805, 78544, 111320, 78574, 111360, 111362, 111364, 111375, 111384, 78620, 78626, 176935, 78637, 45880, 100302, 100304, 144210, 111443, 100306, 144222, 45928, 78703, 45950, 144262, 45969, 78746, 78772, 111551, 144352, 46062, 78836, 111617, 111622, 46105, 177185, 111659, 78893, 111663, 111680, 144478, 78959, 111732, 111743, 177285, 7047, 144522, 111759, 46231, 79006, 79008, 111781, 111785, 111795, 111800, 111817, 79057, 144606, 79073, 111844, 144620, 46322, 79091, 46335, 46337, 46347, 79132, 79134, 46367, 79139, 111913, 111921, 144714, 144716, 79185, 144734, 79224, 112006, 79242, 2725, 79251, 2727, 79259, 79274, 177593, 79293, 46530, 79299, 112070, 2737, 177615, 2738, 46559, 79333, 46572, 46574, 46578, 79357, 112138, 112171, 112175, 112183, 79428, 46664, 144976, 177763, 177765, 46723, 79501, 112290, 112303, 79536, 46772, 145080, 112316, 79553, 112326, 112334, 79572, 79590, 65685, 79592, 112370, 145150, 46850, 46855, 2800, 2801, 46862, 46865, 177939, 112421, 79677, 112450, 79684, 112454, 112460, 79695, 79702, 46948, 112497, 46965, 46967, 46970, 46972, 46974, 46976, 112512, 145283, 112515, 178061, 112552, 112556, 79798, 178111, 47044, 112580, 178129, 112623, 47099, 79868, 79879, 145418, 47122, 47124, 79895, 79897, 79946, 145491, 112727, 47200, 47202, 112749, 178323, 112788, 47254, 47261, 112804, 112818, 80083, 112852, 80094, 112868, 80124, 80126, 112897, 80139, 112911, 47382, 47384, 80162, 80166, 47404, 112940, 145724, 47423, 145745, 47446, 80219, 47465, 80241, 47491, 47516, 47518, 145839, 47538, 178613, 178615, 47566, 80363, 47610, 113159, 47629, 145935, 47640, 47644, 47646, 145951, 113186, 113207, 80454, 113225, 145994, 80463, 80478, 113252, 146024, 80489, 47721, 146028, 47725, 47736, 113275, 113278, 113280, 178827, 47774, 113313, 80549, 80551, 80553, 47793, 80572, 113345, 47810, 113348, 113350, 80584, 80586, 80590, 113374, 113378, 80615, 113394, 113416, 47894, 146210, 113453, 80693, 47937, 146244, 47950, 47952, 80727, 47970, 47978, 80748, 179053, 113532, 47997, 47999, 179073, 48001, 146309, 113565, 48032, 113573, 48043, 48045, 179119, 179133, 80831, 179135, 80834, 113604, 80839, 80846, 48082, 80858, 80860, 80862, 80864, 80880, 80906, 179211, 48142, 80917, 48150, 48161, 113705, 80969, 113741, 48214, 113780, 81018, 48262, 113829, 48304, 113849, 81087, 48319, 48322, 48326, 113862, 179401, 48342, 146656, 179427, 146662, 81132, 146682, 146684, 146688, 48385, 81156, 81158, 48394, 48412, 48414, 48416, 179491, 81191, 146730, 179511, 81229, 81257, 114028, 114044, 48516, 48518, 48520, 114060, 114066, 114074, 48560, 114126, 48593, 48596, 48598, 81383, 179709, 48638, 114180, 114184, 81417, 48649, 179749, 48678, 146986, 81456, 48696, 48698, 147002, 114246, 114265, 48738, 179813, 48741, 179815, 81512, 179817, 48744, 179819, 104837, 81520, 81535, 81537, 48774, 48780, 48783, 81562, 81564, 114335, 81591, 147142, 114396, 48872, 48877, 48879, 179953, 48883, 147196, 81681, 147250, 114494, 180031, 180045, 147282, 48982, 147286, 147300, 48997, 49013, 81782, 81784, 81786, 114554, 81788, 147326, 180095, 147328, 81791, 147330, 81819, 81831, 114601, 81834, 147372, 147374, 147376, 147378, 147380, 81845, 147382, 81847, 147384, 114627, 147410, 49110, 114662, 49130, 49132, 114670, 114678, 81910, 180231, 81932, 114707, 114713, 81949, 180263, 180265, 49220, 180297, 114762, 114795, 49263, 49265, 49272, 82041, 49274, 49276, 49278, 49280, 114818, 49284, 82053, 49286, 114847, 49314, 82088, 82093, 82095, 49347, 147657, 147662, 82152, 49389, 114925, 49396, 82167, 114935, 82169, 180497, 82202, 82242, 49524, 115065, 49530, 115111, 115122, 82366, 82378, 115149, 115151, 147936, 115170, 49647, 49649, 49651, 49666, 115203, 115210, 115216, 49688, 82459, 82461, 115231, 180777, 33237, 82499, 49735, 82527, 82534, 49772, 49793, 49822, 49824, 148166, 148172, 82641, 82667, 49910, 180985, 180987, 82684, 49917, 49932, 148238, 49957, 49961, 115502, 82744, 68552, 181065, 82765, 82767, 50003, 50005, 115569, 50064, 181139, 50068, 82848, 115617, 82852, 82854, 82857, 148424, 3449, 115664, 115667, 115680, 50147, 50158, 50160, 115713, 148482, 50189, 115727, 181315, 50274, 115819, 148592, 115828, 83086, 148626, 148632, 115877, 181413, 148652, 50354, 50356, 148667, 83132, 83134, 148671, 148675, 148709, 83177, 115969, 50440, 50442, 50445, 148775, 83270, 116044, 50514, 148881, 83349, 148888, 181659, 83369, 50601, 116138, 83374, 50610, 50613, 116169, 181719, 148956, 50658, 116207, 148978, 148982, 50685, 149011, 83480, 50740, 50792, 50794, 50796, 50798, 50800, 50802, 50804, 50806, 83601, 149144, 50842, 149146, 83613, 50851, 50872, 116411, 116413, 116419, 50912, 50923, 50942, 50954, 116505, 116529, 50999, 51024, 149330, 83796, 149334, 83803, 51037, 149350, 149352, 149354, 83827, 149380, 51077, 51080, 51082, 51084, 51086, 51088, 51091, 149406, 116668, 83910, 51167, 51174, 116718, 116724, 83969, 116738, 149508, 83976, 101360, 182293, 182297, 182299, 51255, 116797, 149566, 116799, 3678, 116817, 149590, 116823, 149612, 116849, 51314, 116887, 51357, 116897, 84152, 3700, 84156, 166526, 116941, 51412, 84187, 84189, 116963, 3709, 116977, 116985, 51471, 84240, 84246, 51498, 84273, 149830, 51540, 51545, 33310, 51562, 3736, 182639, 117107, 117109, 51573, 51575, 3739, 117133, 149902, 84374, 166568, 84392, 117176, 182715, 84414, 182727, 117192, 182731, 51662, 3756, 51666, 182749, 3760, 51694, 51698, 51705, 51709, 3765, 182793, 84512, 182823, 84523, 84553, 3787, 117364, 117368, 84601, 51834, 3789, 84615, 84637, 51884, 51903, 117444, 51925, 51927, 84696, 117466, 51931, 51933, 51935, 51937, 51939, 183011, 84716, 150254, 117511, 117529, 117531, 117533, 84772, 117545, 84799, 117572, 52042, 117590, 84844, 84847, 117630, 150401, 117646, 183197, 183199, 183227, 84942, 84944, 84950, 84952, 84954, 183295, 183301, 52241, 150548, 52245, 183317, 150554, 85020, 85022, 85025, 52279, 52281, 52283, 52287, 85056, 150596, 52299, 150604, 117849, 117851, 52319, 52328, 117867, 117877, 117881, 117887, 117895, 85131, 52375, 117922, 150696, 85179, 52435, 85213, 36477, 52458, 52462, 85259, 85261, 85295, 183611, 118082, 85316, 183635, 85334, 85342, 52579, 85354, 85367, 52604, 3945, 85394, 85397, 118166, 85399, 85401, 52644, 85412, 85414, 118198, 52668, 85438, 150993, 52694, 52712, 118248, 52715, 52722, 52724, 52730, 118270, 85510, 118290, 36537, 52767, 52784, 118326, 118354, 183897, 52831, 134246, 3989, 183911, 52867, 52885, 183959, 184015, 52950, 52952, 52967, 85736, 52973, 52975, 118512, 184053, 118530, 53000, 85774, 151311, 151315, 85780, 151317, 85788, 53022, 53024, 85796, 118572, 85881, 85885, 53121, 53123, 53125, 53127, 53129, 53138, 53140, 53143, 151455, 118696, 53161, 118700, 118702, 118706, 184245, 151479, 184253, 184257, 151501, 86000, 134326, 86014, 118784, 151557, 151559, 86028, 134334, 184349, 118814, 53280, 86059, 118834, 86066, 86068, 53318, 53322, 118862, 53326, 118880, 151653, 118888, 53355, 118894, 118896, 118900, 69224, 86142, 151687, 69227, 118924, 151695, 118930, 184471, 86190, 53435, 151739, 151745, 53447, 118985, 53450, 53453, 151759, 151763, 53460, 118997, 53464, 151769, 53466, 53468, 86237, 151777, 151781, 86279, 86286, 53519, 86290, 86293, 86295, 86298, 119068, 53550, 86320, 86332, 184641, 53574, 86345, 53578, 86347, 86355, 119141, 119145, 86377, 119153, 119155, 119167, 184721, 119218, 184791, 86487, 152037, 86504, 152063, 152065, 152071, 152077, 152079, 152081, 152083, 86548, 152085, 152091, 152105, 53808, 86593, 184931, 86628, 152173, 86644, 53883, 53894, 72479, 86668, 101895, 184987, 53921, 184997, 53953, 86721, 53956, 185029, 185031, 185033, 152270, 53972, 53974, 152284, 53993, 53996, 54001, 54004, 86781, 86815, 86817, 185135, 86833, 86835, 152372, 86864, 86880, 86882, 54116, 119655, 54121, 86892, 86898, 86911, 86922, 119714, 54185, 54190, 86960, 54256, 54259, 87028, 54272, 54274, 54276, 54281, 54286, 152591, 119828, 54354, 152658, 185435, 54372, 185473, 152711, 87192, 87194, 119964, 87197, 87222, 87232, 87234, 54503, 185585, 87287, 87298, 87304, 87306, 120130, 120138, 54617, 87413, 54648, 87430, 152970, 87444, 54686, 87483, 87485, 54732, 54734, 54736, 54745, 87520, 87522, 87529, 153070, 54768, 102066, 54771, 54780, 54785, 54787, 102070, 54796, 102088, 54881, 87660, 54908, 54910, 120466, 153236, 54934, 120478, 4410, 54962, 54995, 54997, 54999, 87785, 55020, 55036, 55052, 55061, 87834, 55067, 55069, 55071, 55080, 153386, 120625, 55094, 87867, 120635, 87869, 120637, 153408, 87876, 55110, 55112, 4441, 55116, 55118, 4445, 55156, 55167, 55190, 87960, 55205, 55207, 120761, 55232, 55241, 55245, 55247, 120783, 55250, 55253, 55259, 55261, 120799, 55267, 55269, 120807, 55272, 55274, 55276, 120813, 55278, 55280, 55282, 55290, 120827, 55292, 55294, 88069, 88094, 88108, 88125, 88129, 55363, 88140, 120919, 55391, 4497, 88163, 88179, 55442, 55444, 55451, 88235, 121007, 55492, 134775, 88267, 121035, 88272, 186587, 55553, 55555, 88327, 121097, 121099, 55577, 88345, 88356, 121129, 134796, 55620, 121169, 121171, 88405, 88448, 55687, 121231, 121253, 55721, 55729, 88515, 154065, 55765, 55768, 121338, 55805, 121342, 55814, 55820, 88593, 55830, 121372, 121374, 55844, 55854, 55872, 88672, 55908, 88697, 88699, 121469, 55946, 187031, 88744, 88746, 4615, 55995, 4617, 56003, 56012, 88785, 56022, 88810, 88812, 154358, 56060, 88911, 56145, 37211, 56152, 56156, 88932, 56169, 56171, 56174, 56176, 121715, 88954, 121781, 56251, 89028, 89030, 89039, 56274, 89047, 56286, 89072, 89085, 89087, 89090, 56333, 56336, 56339, 89118, 56367, 56379, 56389, 89190, 89208, 187541, 89281, 187593, 187595, 89305, 122092, 56563, 89343, 56587, 56607, 89386, 89388, 56620, 187717, 167570, 89427, 154975, 89470, 122246, 56715, 89492, 122260, 56757, 155064, 4769, 56775, 56782, 56788, 56801, 56805, 89580, 89582, 89586, 56837, 155168, 56869, 122433, 56908, 89678, 56915, 56921, 56941, 56949, 122490, 89745, 155288, 89753, 89759, 89761, 89774, 89804, 155358, 89837, 89840, 122627, 89862, 89864, 188189, 89898, 89904, 57147, 89939, 89945, 57183, 155509, 188301, 57243, 57274, 155589, 90057, 57326, 122882, 122884, 122886, 122888, 122890, 155659, 122892, 122896, 122898, 122900, 122902, 122904, 57368, 122906, 122912, 122916, 122918, 122920, 122922, 122924, 122926, 122932, 57421, 155743, 155774, 90243, 90245, 90249, 57499, 57502, 57504, 155812, 155820, 57522, 57526, 57528, 57532, 57536, 90343, 90345, 90353, 155892, 90357, 188675, 90374, 90376, 90384, 90403, 90405, 57637, 57640, 90428, 90430, 123200, 57669, 90439, 188751, 4952, 90469, 90471, 156025, 188797, 4961, 4962, 4965, 90522, 90524, 90528, 188833, 90531, 57772, 4970, 123310, 90576, 90600, 90603, 57843, 90630, 90647, 57910, 90717, 57951, 90719, 90738, 189043, 90746, 90769, 123545, 123553, 58025, 189111, 90809, 58047, 156371, 58078, 156387, 90863, 90866, 58103, 58105, 58107, 90888, 90890, 58154, 58156, 58162, 90943, 90945, 58191, 102749, 156553, 189333, 58287, 58291, 58293, 58295, 58297, 58299, 58301, 156605, 156607, 58303, 156609, 58306, 91077, 58309, 91079, 189381, 58315, 70208, 91094, 58332, 91104, 58347, 58351, 91126, 91128, 156675, 58376, 156706, 58404, 123947, 156726, 58425, 91233, 189547, 156781, 156783, 58492, 91261, 91266, 91273, 25746, 25750, 25752, 25753, 25757, 25769, 25771, 25773, 25782, 58554, 91323, 25788, 91325, 58559, 25795, 25797, 91337, 25805, 91353, 91355, 25825, 25826, 25827, 25833, 25834, 25841, 91386, 25850, 25856, 58627, 25865, 25870, 189713, 91414, 25886, 25887, 58655, 25898, 25905, 25906, 25923, 25927, 91470, 25937, 25940, 25946, 91483, 25947, 91485, 25952, 91488, 25959, 25962, 25963, 91500, 124273, 91529, 25996, 91535, 25999, 26002, 26003, 91542, 58783, 58803, 157108, 91571, 157110, 58806, 26038, 26048, 157122, 26052, 157130, 26059, 58826, 58839, 26073, 58842, 26078, 26082, 26084, 91622, 91628, 91630, 26095, 124404, 157172, 58870, 58876, 58879, 26116, 91653, 91658, 26122, 91660, 26124, 157200, 91666, 26131, 26133, 91671, 26142, 26147, 26150, 26151, 26152, 91688, 91690, 26158, 26159, 26169, 26171, 26172, 26176, 124484, 26183, 26184, 26195, 58964, 157270, 26198, 58972, 58975, 157296, 26225, 58998, 26231, 26236, 26237, 157312, 26242, 59014, 91784, 26249, 59018, 59016, 59022, 26258, 59026, 26265, 157340, 59037, 26283, 26285, 157369, 26303, 91842, 26308, 26313, 26317, 26322, 91860, 26326, 91869, 59103, 157407, 91873, 26340, 190183, 26344, 26347, 26350, 59118, 91890, 26357, 59126, 26359, 157432, 59129, 59131, 26365, 26366, 190207, 190209, 190213, 59141, 59143, 26375, 190215, 190219, 190221, 26386, 26391, 26394, 91935, 26399, 26401, 26409, 91947, 26413, 26422, 26429, 91974, 91976, 91978, 26444, 91981, 59220, 26453, 26464, 26467, 26471, 92008, 26472, 59258, 26492, 26498, 26504, 92046, 26510, 92048, 26523, 26524, 59295, 26528, 26527, 59306, 26539, 72694, 26542, 59315, 124851, 124853, 26547, 26554, 26555, 124859, 92094, 26562, 26564, 59333, 26567, 59336, 26578, 26585, 26587, 26590, 26593, 26599, 59369, 26603, 26606, 26612, 26614, 59387, 26622, 157699, 26629, 26630, 26631, 26645, 26649, 59421, 92192, 59429, 26662, 92198, 59440, 26676, 26680, 26681, 26686, 26693, 26694, 26695, 26696, 92234, 26700, 26701, 157775, 26704, 92243, 26712, 26713, 26717, 92259, 26726, 92264, 26729, 26732, 59501, 26736, 26741, 26743, 26745, 26750, 26761, 26764, 26765, 92309, 26776, 26777, 26778, 59549, 26782, 26791, 26792, 157865, 26796, 26797, 26810, 26812, 92348, 26819, 26828, 59604, 26838, 26840, 59615, 26849, 26854, 92391, 26861, 26865, 26870, 26871, 26875, 92420, 92422, 26887, 92427, 59667, 26900, 26901, 26903, 92439, 26913, 125221, 26928, 92475, 26940, 26947, 158022, 158027, 59725, 92494, 59727, 26958, 59731, 158035, 26965, 59738, 92507, 92509, 26974, 26985, 92535, 26999, 27002, 27003, 27006, 27008, 59784, 27020, 27022, 27032, 27036, 59810, 59814, 27074, 27075, 92637, 27105, 92643, 27124, 103085, 92665, 59900, 27134, 92674, 27140, 92681, 59915, 27155, 27156, 92694, 191005, 158238, 27176, 27178, 59947, 158254, 27186, 27193, 92730, 59985, 92760, 59995, 27246, 27251, 27255, 60030, 27266, 60037, 60040, 60046, 60069, 60072, 60074, 27306, 27311, 158388, 27317, 27320, 158398, 27328, 27329, 158402, 60126, 60128, 27368, 27369, 27370, 60141, 27373, 60161, 27397, 92938, 27408, 5448, 27416, 92954, 27420, 27426, 27434, 27441, 27450, 158528, 93006, 93008, 27473, 5461, 27478, 27480, 27482, 93022, 27491, 93040, 27513, 60289, 27523, 60291, 60293, 60303, 27537, 27539, 27549, 27555, 27563, 60333, 93114, 27584, 27592, 60363, 27595, 60365, 93134, 93139, 27604, 125914, 27611, 125916, 27618, 27619, 60389, 27627, 60397, 60408, 27644, 158721, 93193, 27660, 27664, 125970, 5499, 27667, 125974, 93208, 27674, 27683, 27685, 27689, 27692, 27695, 60471, 27704, 27705, 27706, 93242, 27708, 158783, 27716, 60487, 27721, 27722, 27728, 27731, 93270, 93272, 27741, 158813, 27744, 60514, 27746, 60516, 93287, 27751, 60522, 158830, 93297, 27762, 27768, 27769, 60538, 158842, 27772, 27773, 27776, 27778, 126088, 93320, 126090, 27784, 27788, 93326, 27790, 27793, 158872, 27801, 27802, 27803, 158874, 27808, 158882, 27815, 27816, 27820, 27821, 27822, 27826, 93363, 27829, 27830, 27831, 27834, 27837, 27838, 27839, 126142, 27846, 27850, 168358, 27865, 27866, 27869, 27873, 27878, 60647, 27879, 27882, 158956, 158966, 27899, 158972, 27904, 27905, 60674, 93443, 27912, 60684, 93502, 60735, 60737, 93510, 93512, 60753, 60756, 159061, 60760, 159069, 60766, 159077, 159093, 93563, 60803, 60818, 93598, 60832, 93610, 159161, 60857, 126420, 60885, 159193, 126426, 126430, 60894, 60904, 60937, 60941, 60943, 126482, 60950, 93721, 93723, 93740, 163937, 60979, 93766, 61011, 126548, 93790, 61024, 61026, 93805, 126577, 93819, 93831, 93838, 61071, 93840, 61073, 93855, 159403, 159415, 168456, 61123, 61132, 159441, 61160, 61167, 159510, 61210, 93980, 93982, 93988, 61236, 61240, 94011, 61246, 94015, 61248, 61250, 94018, 61255, 61257, 61262, 61289, 94070, 103366, 61319, 61323, 61348, 61350, 61352, 94122, 94130, 94150, 126921, 159690, 94160, 61394, 61401, 61406, 159717, 159755, 61465, 159779, 94262, 94266, 159811, 159817, 127052, 159849, 159858, 94323, 94325, 127096, 127098, 127108, 127114, 127116, 127130, 127132, 127134, 127136, 127146, 127152, 61628, 127164, 127172, 94405, 127180, 127184, 127194, 127198, 127202, 127204, 159976, 127212, 61692, 61697, 61705, 94478, 94494, 61729, 94503, 127298, 160080, 136024, 127319, 127323, 61818, 127390, 94661, 94677, 160271, 94735, 160289, 61986, 62008, 94777, 94780, 94799, 160341, 94810, 94833, 62081, 94864, 160400, 94867, 62113, 160422, 94896, 160438, 160440, 94919, 62155, 94931, 94953, 94959, 62208, 94985, 160527, 95004, 62250, 160563, 160565, 160567, 160569, 160571, 160573, 62293, 95067, 62299, 95088, 62336, 95105, 160644, 160646, 62344, 95135, 62374, 62376, 95145, 95147, 160684, 95149, 62383, 62394, 95163, 95165, 95167, 95170, 95175, 160718, 95182, 95193, 160730, 95199, 95201, 62434, 62437, 62439, 95207, 95218, 193565, 193567, 193571, 193573, 193579, 193581, 193583, 62511, 193585, 193587, 160836, 193609, 95307, 95309, 95311, 160848, 95313, 128087, 128089, 62553, 128097, 128099, 160872, 62586, 95377, 62644, 160954, 128197, 62662, 95441, 160978, 160980, 95449, 161008, 95473, 95475, 62718, 161024, 161032, 95497, 95499, 95508, 161044, 95510, 95519, 95543, 95558, 62792, 62799, 95583, 161127, 128360, 161131, 128366, 62834, 62836, 62849, 95624, 95633, 95654, 95690, 95717, 95720, 128488, 62956, 95738, 62970, 128512, 95744, 128520, 161290, 95761, 62999, 95771, 128542, 95780, 95796, 63033, 161354, 128592, 128594, 63062, 95839, 63072, 95843, 63082, 128620, 95858, 95873, 95875, 63113, 63131, 128695, 95939, 63179, 95949, 95965, 128736, 63222, 96004, 96007, 63239, 96020, 161580, 63276, 161582, 161594, 128832, 128838, 128842, 96079, 63312, 128852, 96084, 161634, 96110, 96114, 96121, 128900, 128902, 128908, 128914, 96150, 63393, 128944, 128968, 63433, 63436, 128975, 128991, 30707, 129011, 63479, 30745, 96281, 63515, 96283, 30749, 161830, 63540, 30793, 30803, 30810, 30812, 30816, 30818, 30820, 30822, 30825, 96373, 30846, 161918, 30848, 161922, 30850, 96411, 96417, 30883, 30890, 161966, 30894, 96432, 96430, 30898, 96448, 129229, 96471, 129250, 96488, 96518, 96520, 96530, 30994, 31000, 63768, 129313, 162082, 96563, 129333, 31030, 96567, 31038, 63808, 31049, 129354, 96588, 63826, 96606, 96608, 96610, 96616, 31083, 63853, 31086, 63859, 129397, 31101, 63876, 31114, 31116, 96655, 31123, 129428, 31150, 96691, 31162, 31184, 96726, 96728, 31193, 96737, 129514, 31221, 31223, 63992, 31225, 64010, 31260, 64030, 64032, 64034, 162344, 96811, 162350, 96815, 96821, 96829, 96832, 31297, 31309, 96861, 162414, 64114, 64116, 129657, 129659, 31364, 31367, 96917, 96935, 64167, 162478, 96945, 31410, 31420, 31422, 31424, 31427, 96964, 64197, 31431, 31433, 129737, 31435, 31437, 96975, 31445, 64231, 129779, 64249, 97024, 162578, 64278, 64285, 162590, 31522, 162598, 162600, 162602, 162606, 31545, 31553, 31590, 31610, 31617, 97168, 129937, 97172, 97188, 31658, 97194, 31660, 31664, 31685, 97225, 31692, 31694, 97230, 31696, 31698, 31700, 31702, 64497, 64499, 64501, 31737, 130050, 130052, 97285, 162828, 97304, 130073, 97306, 130083, 130087, 97328, 31804, 64575, 64614, 31851, 64620, 64622, 31867, 31878, 162968, 31903, 31909, 162982, 31921, 31923, 31925, 64695, 97470, 64716, 31952, 31973, 163056, 163072, 32009, 32011, 32017, 32019, 32022, 32029, 32031, 163112, 32058, 32060, 163134, 64839, 97643, 32116, 97665, 32139, 130444, 130450, 130452, 97701, 130482, 32179, 130490, 64957, 130498, 64969, 97742, 32213, 130518, 64983, 97752, 130520, 97757, 64993, 64997, 32234, 32243, 97785, 65037, 130576, 130578, 32289, 32291, 32294, 32296, 32298, 97836, 32300, 32302, 163386, 32314, 65088, 97858, 97860, 130634, 97866, 97870, 65126, 65130, 65133, 65135, 97904, 97913, 130686, 97921, 97923, 32387, 32392, 97936, 97938, 97950, 65188, 65193, 32440, 32442, 65216, 97988, 163527, 32456, 65225, 32460, 65230, 32469, 65261, 32511, 32515, 98061, 130840, 130842, 98083, 32554, 163639, 163645, 163653, 65350, 32582, 32584, 98122, 32587, 98124, 32589, 65359, 32596, 32598, 32600, 98154, 32620, 98160, 32632, 98175, 32649, 32657, 32659, 130970, 98203, 32666, 130976, 130978, 98230, 98239, 98243, 131013, 131023, 32728, 163809, 98279, 32743, 65514, 98296}\n"
     ]
    }
   ],
   "source": [
    "# Get unique movieId\n",
    "unique_movie_id = set(rating_data['movieId'])\n",
    "print(unique_movie_id)"
   ]
  },
  {
   "cell_type": "code",
   "execution_count": 82,
   "metadata": {
    "colab": {
     "base_uri": "https://localhost:8080/"
    },
    "id": "Oz2-84WUVg4a",
    "outputId": "98dec737-efc1-4024-ab1b-e9d72d748f81"
   },
   "outputs": [
    {
     "name": "stdout",
     "output_type": "stream",
     "text": [
      "{3328, 4993, 5378, 5507, 5890, 5891, 5893, 1674, 1037, 5902, 3735, 922, 923, 6044, 4131, 41, 1198, 187, 2877, 5952, 1987, 5956, 5445, 1095, 5447, 5962, 5451, 5965, 4558, 5841, 5843, 2901, 2011, 2012, 223, 5218, 5988, 3173, 2023, 5481, 5872, 6001, 371, 627, 1270, 2300}\n"
     ]
    }
   ],
   "source": [
    "# Get movieId that is rated by user id 9\n",
    "rated_movie_id = set(rating_data.loc[rating_data['userId']==9, 'movieId'])\n",
    "print(rated_movie_id)"
   ]
  },
  {
   "cell_type": "code",
   "execution_count": 83,
   "metadata": {
    "colab": {
     "base_uri": "https://localhost:8080/"
    },
    "id": "CtXlFibYV1z6",
    "outputId": "00d514ad-0c98-4155-8592-52f40b502f7a"
   },
   "outputs": [
    {
     "name": "stdout",
     "output_type": "stream",
     "text": [
      "{1, 2, 3, 4, 5, 6, 7, 8, 9, 10, 11, 12, 13, 14, 15, 16, 17, 18, 19, 20, 21, 22, 23, 24, 25, 26, 27, 28, 29, 131098, 31, 32, 131104, 34, 30, 36, 32799, 38, 39, 40, 65577, 43, 44, 45, 46, 47, 48, 65585, 50, 49, 52, 53, 54, 55, 65588, 57, 58, 98361, 60, 61, 62, 65596, 64, 65, 66, 131130, 68, 69, 70, 71, 72, 73, 74, 75, 76, 77, 78, 79, 80, 81, 82, 83, 85, 86, 87, 88, 89, 163925, 92, 93, 94, 95, 65631, 97, 96, 99, 100, 101, 102, 103, 104, 105, 106, 107, 32875, 65642, 110, 111, 112, 113, 108, 65651, 116, 117, 118, 119, 121, 122, 123, 32892, 125, 126, 128, 129, 32898, 132, 135, 137, 32906, 140, 141, 163981, 144, 145, 146, 147, 65682, 148, 150, 151, 163985, 153, 154, 155, 156, 157, 158, 159, 160, 161, 162, 163, 164, 165, 131237, 166, 168, 169, 170, 171, 172, 173, 174, 175, 176, 177, 178, 179, 180, 181, 183, 184, 185, 186, 98491, 189, 190, 191, 188, 193, 194, 195, 196, 98499, 198, 199, 98503, 201, 65738, 203, 204, 205, 65740, 207, 208, 209, 210, 211, 212, 213, 214, 215, 216, 217, 218, 219, 42, 220, 222, 224, 225, 227, 228, 229, 230, 231, 232, 233, 234, 235, 236, 237, 33004, 239, 240, 238, 242, 243, 6560, 241, 246, 247, 248, 249, 250, 251, 252, 253, 254, 255, 256, 257, 258, 259, 260, 261, 262, 263, 265, 266, 267, 65802, 269, 270, 271, 272, 273, 274, 275, 276, 277, 65810, 279, 280, 281, 282, 98585, 283, 278, 284, 287, 288, 289, 290, 291, 292, 293, 294, 295, 296, 298, 299, 300, 98604, 302, 303, 304, 305, 306, 307, 308, 98607, 310, 311, 312, 313, 314, 315, 316, 317, 318, 319, 63, 321, 322, 33090, 324, 325, 326, 327, 328, 329, 330, 331, 332, 333, 334, 335, 336, 337, 338, 339, 340, 164179, 342, 343, 344, 345, 346, 347, 348, 349, 350, 351, 352, 353, 354, 355, 356, 357, 358, 359, 360, 361, 362, 33124, 364, 365, 366, 367, 368, 369, 370, 372, 131439, 374, 373, 376, 377, 378, 33145, 380, 381, 382, 383, 379, 385, 33154, 387, 164226, 384, 390, 391, 33158, 393, 33162, 388, 33164, 389, 33166, 98697, 33171, 405, 406, 407, 408, 409, 410, 131480, 412, 413, 414, 415, 416, 417, 418, 419, 420, 421, 422, 423, 424, 425, 426, 427, 428, 429, 430, 431, 432, 433, 434, 435, 436, 437, 33201, 438, 440, 441, 442, 164280, 444, 445, 65982, 446, 448, 449, 450, 451, 452, 453, 454, 455, 456, 457, 458, 459, 460, 461, 464, 466, 467, 468, 469, 470, 471, 472, 473, 474, 475, 476, 477, 478, 479, 480, 481, 482, 484, 485, 486, 487, 488, 489, 490, 491, 492, 493, 494, 98799, 496, 497, 495, 499, 500, 501, 502, 504, 505, 98809, 507, 508, 509, 510, 511, 512, 513, 514, 515, 516, 517, 518, 519, 520, 521, 522, 523, 524, 33294, 527, 528, 529, 164367, 531, 532, 533, 534, 535, 536, 537, 538, 539, 540, 541, 542, 543, 544, 131610, 546, 547, 548, 33312, 550, 551, 552, 553, 549, 555, 556, 66090, 558, 66097, 562, 563, 564, 567, 568, 569, 573, 574, 575, 577, 579, 580, 581, 583, 131656, 585, 586, 587, 588, 589, 590, 592, 593, 594, 595, 596, 597, 599, 600, 602, 98908, 605, 606, 608, 609, 610, 611, 612, 613, 615, 616, 617, 618, 619, 626, 628, 631, 632, 633, 634, 635, 66171, 637, 638, 639, 640, 636, 131714, 645, 647, 648, 649, 650, 131724, 653, 33421, 656, 98961, 661, 662, 663, 66198, 665, 667, 66203, 33437, 668, 671, 670, 673, 674, 131739, 33435, 131749, 678, 679, 680, 685, 688, 691, 692, 694, 695, 697, 698, 700, 99005, 164540, 99007, 704, 703, 706, 707, 708, 709, 710, 711, 66240, 714, 715, 718, 719, 720, 722, 724, 33493, 726, 33495, 728, 725, 131796, 33499, 731, 733, 99030, 735, 736, 737, 741, 742, 743, 745, 747, 748, 750, 149, 131826, 757, 759, 760, 761, 762, 66297, 764, 765, 766, 152, 773, 66310, 775, 778, 779, 780, 781, 782, 783, 784, 785, 786, 66320, 788, 99087, 33558, 791, 790, 795, 33564, 798, 799, 800, 801, 802, 66335, 804, 805, 99106, 164647, 808, 99112, 99114, 810, 809, 99117, 813, 164655, 818, 99122, 823, 824, 99130, 828, 829, 830, 832, 833, 835, 836, 837, 838, 839, 66371, 99145, 842, 840, 841, 99149, 33615, 848, 849, 131920, 851, 852, 858, 861, 131934, 33629, 866, 867, 164707, 869, 870, 33639, 875, 33644, 876, 33646, 879, 880, 881, 882, 33649, 885, 886, 99191, 888, 889, 891, 892, 33660, 893, 66427, 896, 897, 898, 899, 900, 901, 902, 903, 904, 33672, 906, 905, 908, 909, 910, 33679, 912, 913, 914, 911, 915, 916, 918, 919, 920, 921, 924, 917, 926, 927, 928, 929, 930, 931, 932, 933, 934, 935, 936, 937, 938, 940, 941, 942, 943, 944, 945, 946, 947, 948, 949, 950, 951, 952, 953, 954, 955, 956, 33725, 959, 961, 963, 965, 968, 969, 970, 971, 66509, 132046, 66511, 973, 976, 979, 981, 982, 984, 986, 987, 988, 990, 991, 993, 994, 996, 998, 999, 1003, 1004, 1005, 1006, 1007, 1008, 1009, 1010, 1011, 1012, 1013, 33781, 1015, 1016, 1014, 1018, 33779, 1020, 1021, 1022, 1023, 1024, 1025, 33794, 1027, 1028, 1029, 1030, 1031, 1032, 1033, 1034, 1035, 1036, 32770, 206, 1040, 1041, 1042, 1043, 164881, 1046, 1047, 33815, 1049, 1050, 1051, 1053, 1054, 1055, 1056, 1057, 33826, 1059, 1060, 1061, 33830, 1064, 1066, 33834, 33836, 164909, 33838, 1068, 1073, 1077, 1078, 1079, 1080, 1081, 1082, 1083, 1084, 132157, 1086, 132153, 1088, 1089, 1090, 1091, 1092, 1093, 1094, 1096, 1097, 1099, 1100, 1101, 1103, 1104, 1105, 1107, 1111, 33880, 99415, 1112, 1114, 1116, 1117, 1119, 1120, 1121, 1123, 1124, 1125, 1126, 1127, 33896, 1129, 66665, 1131, 1132, 99437, 1130, 1135, 1136, 1137, 33903, 1140, 1144, 1147, 1148, 1150, 1151, 1156, 1161, 1162, 1163, 1167, 1170, 1171, 1172, 1173, 1175, 1176, 1177, 1178, 1179, 1180, 1183, 1184, 1185, 1186, 1187, 1188, 1189, 1190, 1191, 1192, 1193, 1194, 1196, 1197, 1199, 1200, 1201, 1202, 1203, 1204, 33966, 1206, 1207, 1208, 1209, 1210, 1211, 1212, 1213, 1214, 1215, 1216, 1217, 1218, 1219, 1220, 1221, 1222, 1223, 1224, 1225, 1226, 1227, 1228, 99532, 1230, 1231, 1232, 1233, 1234, 1235, 1236, 1237, 1238, 165075, 1240, 1241, 1242, 1243, 1244, 1245, 1246, 1247, 1248, 1249, 1250, 1251, 1252, 1253, 1254, 1255, 1256, 1257, 1258, 1259, 1260, 1261, 66798, 1262, 1263, 1265, 1266, 1267, 1268, 1269, 1271, 1272, 1273, 1274, 1275, 1276, 1277, 1278, 1279, 34048, 1281, 1282, 1283, 1284, 1285, 1280, 1287, 1288, 1289, 1286, 1291, 1292, 1293, 1290, 1295, 1296, 1297, 1298, 1299, 1300, 1301, 1302, 1303, 1304, 34072, 1305, 1307, 1306, 1310, 1312, 1318, 1320, 1321, 1322, 1323, 1324, 1325, 1326, 1327, 1328, 1329, 1330, 1331, 99636, 1333, 1334, 1332, 1335, 1337, 1336, 1339, 1340, 1341, 1342, 1343, 1344, 1345, 1346, 1347, 1348, 1349, 1350, 132422, 132424, 1353, 1354, 1355, 1356, 1357, 1358, 1359, 1351, 1361, 34129, 1363, 1365, 1366, 1367, 1370, 1371, 1372, 1373, 1374, 1375, 1376, 1377, 1378, 1379, 1380, 1381, 34150, 1382, 34143, 1385, 34153, 1387, 1388, 1389, 1390, 1391, 1392, 1393, 1394, 34162, 1396, 1395, 66934, 1399, 34164, 1401, 1398, 1397, 1405, 1406, 1407, 1408, 1409, 66943, 1411, 1412, 1413, 1414, 1415, 1416, 1417, 132488, 1419, 99721, 1422, 1423, 99728, 1425, 132496, 1427, 1428, 1429, 1430, 1431, 1432, 1426, 285, 1437, 1438, 1439, 1440, 1441, 1442, 1445, 1446, 1447, 99750, 1449, 1453, 1454, 1456, 1457, 1458, 1459, 99764, 1461, 1460, 1464, 1465, 1466, 1468, 1473, 1474, 1475, 1476, 1477, 1479, 1480, 1483, 1484, 1485, 1487, 1488, 1489, 1490, 1493, 1495, 1496, 1497, 1498, 1499, 1500, 32862, 1502, 34271, 1503, 165343, 165347, 1507, 99813, 132584, 1513, 1514, 1515, 1516, 1517, 1518, 1519, 301, 34292, 1526, 1527, 1529, 1533, 1537, 1541, 1542, 99846, 1544, 1545, 34312, 1547, 1546, 99853, 1550, 34319, 1552, 1551, 67087, 1554, 1556, 34321, 34323, 34326, 1562, 34330, 1564, 34332, 1566, 34334, 34336, 1569, 34338, 1571, 1572, 1573, 1574, 1580, 1581, 1582, 1583, 1584, 1585, 1586, 1587, 1588, 132660, 1590, 1591, 1592, 1593, 1589, 1594, 1596, 1597, 1598, 1599, 1600, 1601, 1602, 1603, 1604, 1605, 1606, 99910, 1608, 1609, 1610, 1611, 320, 99917, 1614, 1615, 1616, 1617, 1612, 1619, 1620, 1621, 1613, 1623, 1624, 1625, 1626, 1627, 34397, 1629, 1631, 67168, 1633, 1635, 34405, 1639, 1641, 1642, 1643, 1644, 1645, 1646, 165483, 1648, 1649, 67186, 1647, 1650, 1653, 165489, 1655, 1656, 1652, 1658, 1659, 1660, 1661, 67197, 1663, 1662, 1665, 67193, 1667, 34437, 1670, 1671, 1672, 1673, 1675, 1676, 1677, 1678, 1679, 1680, 1681, 1682, 1683, 1684, 1685, 1686, 1687, 1688, 1689, 1690, 99992, 165529, 1693, 1694, 1695, 1696, 1699, 1701, 1702, 1703, 1704, 1707, 165549, 1711, 165551, 1713, 341, 1717, 1718, 1719, 67255, 1721, 1722, 132796, 1726, 1727, 132800, 1729, 1730, 67267, 1732, 1733, 1734, 1735, 1731, 1739, 100044, 1746, 1747, 1748, 34520, 1753, 1754, 1755, 1752, 34523, 1757, 67295, 1760, 34528, 1762, 34530, 34532, 100068, 34534, 1767, 34536, 1769, 1770, 1771, 1772, 34540, 34542, 32917, 1777, 1779, 100083, 1783, 1784, 1785, 1791, 1792, 1793, 1794, 165635, 1797, 1798, 1799, 165639, 1801, 100106, 1804, 1805, 1806, 165645, 1807, 1809, 1810, 1812, 1816, 132888, 1821, 1824, 67361, 1826, 1827, 363, 1829, 1825, 1831, 165671, 1833, 1834, 1835, 1836, 1837, 1839, 1840, 1841, 1844, 1845, 1848, 1855, 1856, 1857, 1858, 1859, 1860, 100163, 1862, 1863, 100159, 1866, 1867, 1870, 67408, 1873, 1875, 1876, 1881, 1882, 1883, 1884, 1885, 1887, 1888, 1889, 100194, 1891, 1892, 1893, 1894, 1895, 1897, 1900, 1902, 1904, 1906, 1907, 1909, 1910, 1911, 1912, 1913, 1914, 1916, 1917, 1918, 1919, 1920, 1921, 1922, 1923, 1924, 100226, 1926, 1927, 1928, 1929, 1931, 1932, 1933, 1934, 1936, 1937, 1938, 1939, 1940, 1941, 1942, 386, 1944, 1945, 1946, 1947, 1948, 1949, 1950, 1951, 1952, 1953, 1954, 1955, 1956, 1957, 1958, 1959, 1960, 1961, 1962, 1963, 1964, 1965, 1966, 1967, 1968, 1969, 1970, 1971, 1972, 1973, 1974, 1975, 1976, 67508, 100277, 1979, 1977, 1981, 1982, 1983, 1984, 1978, 1986, 1985, 1980, 1990, 1991, 1992, 1993, 1994, 1995, 1996, 1997, 67534, 1999, 2000, 2001, 2002, 2003, 2004, 2005, 2006, 165843, 2007, 2009, 2010, 2013, 2014, 2015, 2016, 2017, 2018, 2019, 2020, 2021, 2022, 2024, 2025, 2026, 2027, 2028, 100326, 2032, 2033, 2034, 2035, 2036, 2037, 2038, 34800, 2040, 2041, 2042, 2043, 2044, 133115, 2046, 34811, 2048, 2050, 2051, 2052, 2053, 2054, 2055, 2056, 2057, 2058, 2059, 2060, 2064, 2065, 2066, 2067, 2068, 2069, 2070, 2071, 2072, 2073, 2074, 2075, 2076, 2077, 2078, 100383, 2080, 2081, 2082, 2083, 67618, 2085, 100390, 2087, 2088, 2089, 2090, 2091, 2092, 2093, 2094, 2095, 2096, 2097, 2098, 2099, 2100, 100397, 2102, 2103, 2104, 2105, 2106, 165947, 2108, 2109, 2110, 2111, 2112, 2107, 2114, 2115, 2116, 2117, 2118, 165959, 2120, 2121, 2122, 2123, 2124, 2125, 2126, 2119, 133195, 165969, 2130, 2131, 2132, 2133, 2134, 2135, 2136, 2137, 2138, 2139, 2140, 2141, 2142, 2143, 2144, 2145, 2146, 133217, 2148, 2147, 2150, 2151, 2152, 2153, 2149, 2155, 2154, 2156, 2159, 2160, 2161, 67695, 2162, 2164, 2165, 2166, 2167, 2163, 2169, 2170, 2171, 2172, 2174, 166015, 2176, 2177, 2178, 2179, 2180, 2181, 2182, 2183, 2184, 166024, 2186, 100487, 2188, 2185, 2190, 2187, 6948, 2193, 2194, 2195, 100498, 2196, 67734, 2201, 2202, 2203, 2204, 100507, 2206, 2205, 2208, 133281, 2210, 2211, 2212, 2207, 100527, 2226, 2227, 2231, 2232, 2236, 2239, 2240, 2241, 2243, 2244, 2245, 2247, 2248, 2249, 100553, 35015, 2252, 2253, 67788, 2255, 100556, 2257, 2256, 2259, 2260, 2261, 2262, 2263, 67799, 2265, 2266, 2267, 2268, 2269, 2264, 2271, 2272, 2273, 2275, 100579, 2278, 2279, 2280, 2281, 2282, 2283, 2286, 2287, 2288, 2289, 2290, 2291, 2292, 133365, 2294, 2295, 2296, 2297, 2298, 2301, 2302, 2303, 2304, 133377, 2306, 100611, 2307, 2310, 2311, 2312, 2313, 2314, 2315, 2316, 2318, 2320, 2321, 2322, 2323, 2324, 2325, 2327, 2328, 2329, 2330, 2331, 2332, 2333, 2334, 2335, 2336, 2337, 2338, 2339, 2340, 2342, 166183, 2344, 2346, 133419, 2348, 2349, 2350, 2351, 2352, 2353, 2354, 2355, 2356, 2357, 2358, 2359, 2360, 67888, 2361, 2363, 2364, 166203, 2366, 2367, 2365, 2369, 2370, 2371, 2372, 2373, 2374, 2375, 2376, 2377, 2378, 2379, 2380, 2381, 2382, 2383, 2384, 2385, 2387, 67923, 2389, 2390, 2391, 2392, 2393, 2394, 2395, 2396, 2388, 2398, 2399, 2400, 2401, 2402, 2403, 2404, 2405, 2406, 2407, 2408, 2409, 2410, 2411, 2412, 2413, 2414, 100714, 2416, 2415, 2418, 2419, 2420, 2421, 2422, 2423, 2424, 2425, 2417, 2427, 2428, 2429, 2430, 2431, 2432, 2433, 100737, 2435, 2436, 2439, 2442, 2443, 2445, 2446, 2447, 2448, 2450, 166291, 2451, 2453, 2454, 2455, 2456, 2457, 2458, 2459, 2460, 67997, 2462, 2463, 2465, 2467, 2468, 2469, 2470, 2471, 2472, 2473, 2474, 2475, 2476, 2477, 2478, 133545, 2481, 2482, 2483, 2485, 2488, 2490, 2491, 2492, 2493, 2494, 2495, 2496, 2497, 2498, 2500, 2501, 2502, 2503, 2504, 2505, 100810, 2506, 2511, 2512, 2513, 2514, 2515, 2516, 2517, 2518, 2520, 2521, 2522, 2523, 2524, 2525, 2526, 2527, 2528, 2529, 2530, 2531, 2532, 2533, 2534, 2535, 68073, 2537, 2539, 100843, 2541, 2542, 2540, 2538, 2544, 2546, 506, 2548, 2549, 2550, 2551, 2552, 2553, 2554, 2555, 2557, 2558, 2559, 2560, 2561, 2563, 2565, 2566, 2567, 2568, 2570, 2571, 2572, 2573, 2574, 2575, 133645, 2577, 100882, 2579, 2580, 2581, 2582, 2583, 35347, 2585, 2586, 2587, 2589, 2590, 2593, 2594, 2596, 2597, 2598, 2599, 68135, 2600, 100906, 2605, 2606, 2607, 2609, 2611, 2612, 2613, 2614, 2615, 2616, 2617, 2618, 33085, 2620, 68157, 2622, 68159, 166461, 2625, 2624, 2623, 2628, 2629, 2630, 2632, 2633, 2634, 2639, 2640, 2641, 2642, 2643, 2644, 133712, 133716, 526, 2648, 2651, 166492, 2652, 2654, 2655, 2656, 2657, 68194, 2659, 2660, 2661, 2662, 2664, 2665, 2668, 68205, 2670, 2671, 2672, 2669, 2674, 2676, 2677, 2681, 2682, 2683, 2686, 2687, 2688, 166528, 2690, 2691, 2692, 2693, 2694, 166534, 2696, 2695, 2697, 2699, 2700, 2701, 68237, 2702, 133771, 2698, 2706, 2707, 133780, 2709, 2710, 2708, 2712, 2713, 133782, 2716, 2717, 2718, 2719, 2720, 101025, 2722, 2723, 2724, 166558, 2726, 133798, 2728, 2729, 2730, 2731, 2732, 2733, 2734, 2735, 2736, 133802, 68269, 2739, 2740, 2741, 2742, 2743, 2744, 2745, 2746, 2747, 2748, 2749, 2750, 2751, 2752, 7059, 2754, 2757, 7061, 2759, 133832, 2761, 2762, 2763, 2764, 2765, 2766, 7062, 101072, 2769, 2770, 2771, 2772, 101076, 101070, 2775, 2774, 101074, 2779, 2782, 68319, 2784, 101088, 2786, 2787, 2788, 2789, 2790, 2791, 2792, 2793, 2794, 166635, 2795, 2797, 2796, 133867, 2798, 2799, 2802, 166643, 2804, 2805, 2806, 2803, 2808, 133879, 101112, 2810, 2812, 2807, 68347, 2815, 2816, 2817, 2818, 2819, 2820, 2813, 68358, 2822, 2824, 2826, 2827, 2828, 2829, 33126, 2835, 2836, 2837, 101142, 2839, 2840, 2841, 2843, 2844, 2846, 2847, 2848, 2851, 2852, 33132, 2857, 2858, 2859, 2860, 2861, 2856, 2863, 2862, 166705, 2866, 2867, 2868, 2865, 2870, 2871, 2872, 2874, 2875, 2876, 2878, 2879, 2880, 2881, 2882, 2883, 2884, 2885, 2886, 33138, 2888, 2889, 2890, 2891, 2887, 2893, 2894, 2892, 2896, 2897, 2898, 2899, 2900, 2902, 2903, 2905, 2906, 2907, 2908, 68444, 2912, 2915, 2916, 2917, 2918, 2919, 2921, 2922, 2924, 2925, 2926, 2927, 2928, 2929, 2930, 2931, 134004, 2932, 2935, 2936, 33148, 2937, 2940, 2941, 2942, 2943, 2944, 68480, 2946, 2947, 2948, 2949, 2950, 2951, 2952, 2953, 68486, 134019, 2956, 134021, 2959, 2961, 2962, 2964, 2965, 2966, 2967, 2968, 134041, 2969, 2970, 2971, 2973, 2974, 2975, 2976, 2977, 2978, 101283, 2979, 2972, 2982, 2983, 2984, 2985, 2986, 2987, 2988, 2989, 2990, 2991, 2992, 2993, 68522, 2995, 2996, 2997, 3000, 68536, 3002, 3003, 3004, 3005, 3006, 3007, 3008, 3010, 3011, 3013, 3014, 3015, 3016, 3017, 68554, 3019, 3020, 3018, 3022, 134095, 3024, 3021, 7114, 3028, 3029, 3030, 3031, 3032, 3033, 3034, 3035, 3036, 134109, 3037, 3039, 3040, 3041, 35807, 3042, 3044, 3045, 3038, 3046, 3048, 3043, 3051, 3052, 3053, 3054, 3055, 3056, 3057, 134130, 101362, 3060, 3061, 3062, 3063, 3064, 68597, 3066, 3067, 35836, 3068, 3070, 3071, 3072, 68600, 3074, 3075, 3076, 3077, 3078, 3079, 3073, 3081, 3082, 3083, 3086, 3087, 3088, 3089, 3090, 3091, 134158, 3093, 3094, 3095, 3096, 3097, 3098, 134170, 3100, 3101, 3102, 3103, 3104, 3105, 3099, 3107, 3108, 3106, 166946, 101415, 134184, 3113, 3114, 3115, 3111, 3117, 3109, 3112, 3120, 68650, 101423, 68659, 3125, 3127, 3129, 3130, 3132, 3134, 3135, 3138, 33188, 3141, 3142, 134214, 3143, 3145, 3146, 3147, 3148, 3150, 3152, 3153, 3155, 3156, 3157, 3158, 3159, 3160, 3161, 3162, 3163, 3165, 3167, 3168, 3169, 3171, 3174, 3175, 3176, 3177, 3178, 167018, 3179, 3181, 3182, 134252, 134248, 3185, 3186, 3183, 3189, 3190, 35957, 3192, 3194, 167036, 3196, 3198, 3197, 3200, 3201, 3203, 3204, 3206, 3208, 3210, 3211, 3213, 3214, 3217, 3219, 101525, 3221, 3223, 3224, 3225, 101529, 101531, 167064, 3230, 3235, 3238, 3240, 3241, 3243, 3244, 3246, 3247, 3248, 3249, 3250, 3251, 3252, 3253, 3254, 3255, 68791, 3257, 3258, 68793, 3256, 3260, 3262, 3263, 3264, 3265, 3266, 3267, 3259, 3261, 3268, 3269, 3270, 3271, 3273, 3272, 3275, 3274, 3276, 101577, 3280, 3281, 3283, 3284, 3285, 3286, 3287, 3289, 3294, 3295, 134368, 3296, 3298, 3299, 3300, 3301, 3302, 68835, 3303, 3306, 3307, 3308, 101612, 3310, 68848, 3313, 3315, 3316, 3317, 134393, 3323, 3324, 3325, 3326, 3327, 3329, 3330, 3331, 3334, 68872, 3341, 3342, 3344, 3345, 3347, 3350, 68886, 3353, 3354, 3355, 3357, 3358, 3359, 3360, 3361, 3362, 3363, 3364, 3365, 3368, 3370, 3372, 3374, 3378, 3379, 3384, 3385, 3386, 3387, 3388, 3389, 3390, 3391, 3392, 3393, 3394, 3395, 3396, 3397, 3398, 68932, 3400, 3401, 3402, 3403, 3404, 3405, 3406, 3408, 3409, 3410, 68945, 3412, 3414, 3415, 68952, 3417, 68954, 3418, 3420, 3421, 3422, 68959, 3424, 3425, 3426, 3423, 3428, 3429, 3430, 3431, 3432, 3433, 3434, 3435, 3436, 101741, 3438, 3439, 3440, 3441, 101739, 134515, 3444, 3445, 3446, 3447, 3448, 3442, 3450, 3451, 3452, 3453, 3454, 134524, 134528, 3455, 167296, 3459, 3461, 3462, 101765, 3466, 3467, 3468, 3469, 3470, 3471, 3473, 3474, 3475, 3476, 3477, 3478, 3479, 3480, 3481, 3483, 3484, 3489, 3492, 3494, 3496, 3497, 3498, 3499, 3500, 3501, 3502, 3503, 3504, 3505, 3506, 3507, 3508, 36276, 3510, 3511, 3512, 3513, 3514, 3515, 3516, 3519, 3521, 36289, 3524, 3525, 3526, 3527, 3528, 3529, 167370, 3531, 69069, 3534, 3535, 3536, 3537, 3538, 3539, 167380, 3543, 3544, 3545, 3546, 3548, 3549, 3550, 3551, 3552, 3553, 3554, 3555, 3556, 3557, 3559, 101864, 3563, 3564, 3565, 3566, 3567, 3568, 3569, 3571, 3572, 3573, 3574, 3576, 3577, 3578, 3580, 3581, 69118, 101884, 3584, 69122, 3587, 3586, 3590, 3591, 3592, 3593, 3594, 36363, 3596, 3597, 69134, 3599, 3598, 69131, 3604, 69140, 3606, 3608, 3609, 3614, 3615, 3616, 3617, 3618, 3619, 3622, 3623, 3624, 3625, 3626, 3627, 3628, 3629, 36397, 3632, 3633, 36401, 3635, 3634, 3637, 3638, 3639, 3640, 3641, 3643, 3646, 3648, 3649, 3652, 3653, 3654, 3655, 101962, 3658, 3660, 3661, 3662, 3663, 3664, 3667, 3668, 101973, 3669, 3671, 3672, 3673, 3674, 3675, 69211, 3677, 3676, 3679, 3680, 3681, 3682, 3683, 3684, 3685, 3686, 3687, 3688, 3689, 3690, 3691, 3692, 3693, 3694, 3695, 3696, 3697, 3698, 3699, 167538, 3701, 3702, 3703, 3704, 3705, 3706, 3707, 3708, 102007, 3710, 3711, 3712, 3713, 134783, 69251, 3716, 3717, 3714, 3719, 3715, 102025, 3720, 3723, 3724, 3725, 3726, 3727, 3728, 3729, 3730, 102033, 3732, 3733, 3731, 134808, 3737, 3738, 69275, 3740, 3741, 69278, 3743, 3744, 3745, 3746, 3742, 3747, 36517, 36509, 3751, 36519, 3753, 3752, 3754, 3755, 36525, 3758, 36527, 102058, 36529, 3761, 3763, 3764, 36533, 3766, 36535, 69304, 3769, 3770, 3768, 69306, 3773, 3774, 134847, 3767, 134849, 3771, 102084, 134853, 3783, 3784, 3785, 3786, 134859, 3788, 134861, 65882, 3791, 3790, 3793, 167634, 3795, 3794, 3797, 3798, 3799, 3792, 3801, 3802, 3806, 3807, 3808, 3809, 3810, 3811, 3812, 134881, 3814, 3813, 3816, 102123, 3819, 3821, 102125, 3822, 3824, 3825, 3826, 3827, 3823, 3830, 3831, 3832, 3833, 3834, 3835, 3836, 3837, 3838, 3839, 3840, 3841, 3843, 3844, 3845, 3846, 3847, 3849, 3851, 3852, 3855, 3857, 69394, 3858, 3859, 3861, 3862, 3863, 3864, 3865, 102165, 167706, 3868, 3869, 69406, 3871, 3872, 3873, 3870, 3877, 3879, 3882, 3884, 3888, 3889, 102194, 167732, 3893, 3894, 3895, 3896, 3897, 3898, 3899, 69436, 3901, 3900, 167746, 3906, 3908, 3909, 3910, 3911, 3912, 102217, 3914, 3915, 3916, 3917, 3918, 3919, 69453, 3920, 3922, 3925, 3926, 3927, 3928, 3929, 3930, 167772, 69469, 3932, 3933, 3937, 3938, 3939, 36708, 3940, 3941, 3943, 3942, 69481, 3946, 3947, 3948, 3949, 3950, 167790, 3952, 3951, 3953, 3955, 3957, 3958, 3959, 69495, 3962, 3963, 3964, 3965, 3966, 3967, 3968, 3969, 3971, 3972, 3973, 3974, 102278, 3977, 3978, 3979, 3980, 3981, 69516, 3983, 3984, 3985, 3986, 3987, 3988, 69524, 3990, 69526, 3991, 69529, 3994, 3992, 3996, 3997, 3998, 3999, 3993, 4000, 4002, 4003, 4005, 4006, 4007, 4008, 4009, 4010, 4011, 4012, 167854, 4015, 4014, 4016, 4017, 4018, 4019, 4020, 4021, 4022, 4023, 4025, 4024, 4027, 4029, 4030, 4031, 4032, 4033, 4034, 4035, 4036, 4037, 102338, 4039, 4040, 4041, 4042, 4043, 803, 4046, 4047, 4051, 4052, 4053, 4054, 4055, 4056, 806, 135133, 4062, 4063, 4061, 135137, 4066, 4067, 4068, 4069, 69606, 135143, 4064, 4065, 4074, 102378, 69604, 4077, 4078, 4079, 4080, 4081, 4082, 4083, 4084, 4085, 4086, 36850, 4089, 4090, 4091, 4092, 4093, 4102, 102407, 69640, 4104, 4105, 4103, 69644, 4109, 4110, 4111, 4113, 4115, 4116, 4117, 69654, 4121, 4123, 4124, 4125, 4126, 4127, 4128, 4129, 4130, 4132, 4133, 135198, 4135, 4138, 4139, 102445, 4141, 4142, 4144, 4143, 4146, 4147, 4148, 4149, 69685, 135216, 4152, 4153, 4154, 4155, 4156, 4157, 4158, 4159, 4160, 4161, 36931, 4164, 4166, 4167, 4168, 4171, 4174, 4175, 69712, 102481, 4178, 4180, 4181, 69720, 4184, 168026, 4187, 4189, 4190, 4191, 4193, 4195, 4197, 4198, 4200, 4202, 4203, 4204, 4205, 4207, 4210, 4211, 69746, 4212, 4214, 4215, 135288, 4217, 4218, 4219, 4220, 69757, 4221, 4223, 4224, 4225, 4226, 4228, 4229, 4231, 4232, 4233, 4234, 4235, 4236, 4237, 4238, 4239, 4240, 4241, 4242, 4243, 4246, 4247, 69784, 4248, 168090, 4251, 4252, 4254, 4255, 4256, 4259, 4260, 4262, 4263, 4265, 4267, 4268, 69805, 4270, 4273, 4275, 4276, 4278, 4280, 4282, 4284, 4285, 102590, 4289, 4290, 4291, 4292, 4293, 4294, 4296, 4297, 102602, 4299, 4300, 4298, 4304, 168144, 4306, 4305, 4308, 69844, 4310, 4307, 4312, 69849, 4313, 4316, 4317, 4321, 4322, 4323, 69860, 4325, 4326, 4327, 4329, 4333, 4334, 168174, 4337, 4338, 4339, 4340, 4342, 4343, 4344, 4345, 4347, 4349, 4350, 4351, 4353, 4354, 4355, 4356, 4357, 4359, 4361, 102666, 135436, 4366, 4367, 69904, 4369, 4370, 4368, 4372, 4373, 4371, 4374, 4378, 168218, 4380, 4381, 102686, 4383, 135456, 102684, 4386, 4387, 4388, 4389, 4384, 4390, 4392, 4393, 4394, 4395, 4396, 4397, 4399, 4402, 4403, 4404, 4406, 4407, 168248, 4408, 168250, 4409, 168252, 102716, 168254, 69951, 102720, 4412, 69953, 4419, 4420, 4422, 4424, 168266, 4427, 4426, 4429, 4428, 102735, 4432, 4433, 4434, 4436, 4437, 4438, 4439, 4440, 102742, 4442, 102747, 4443, 4444, 4446, 4447, 135518, 4449, 4448, 4450, 69988, 4452, 4451, 4453, 4454, 102760, 4458, 4459, 135532, 4462, 4463, 135536, 4464, 4466, 4465, 4467, 135534, 4470, 4471, 37240, 4473, 4474, 4475, 4476, 4477, 4478, 70015, 4480, 4482, 4483, 4484, 168326, 4487, 4488, 4489, 4490, 4492, 135567, 4496, 135569, 4498, 4499, 4500, 4495, 4502, 102800, 4504, 4505, 4506, 102802, 4508, 4509, 168350, 4511, 102819, 4516, 4517, 4518, 4519, 4520, 102823, 4522, 4523, 4524, 4521, 168366, 4527, 4526, 4529, 4531, 4533, 4534, 4535, 4537, 4541, 4544, 4545, 4546, 102852, 4552, 4553, 4557, 4562, 4563, 4564, 4565, 907, 4568, 4571, 4572, 4573, 4574, 102880, 4577, 168418, 4578, 4580, 4581, 4583, 4584, 4585, 4587, 4589, 4591, 4593, 4594, 4595, 4597, 102903, 4599, 4600, 4602, 4603, 4605, 4608, 4610, 4611, 37380, 4613, 37382, 4612, 4616, 37384, 37386, 4619, 4614, 4621, 4622, 4623, 4624, 70159, 4626, 4625, 4628, 4629, 4630, 4632, 4634, 4635, 4636, 4638, 4639, 4640, 4641, 4642, 4643, 4644, 4645, 4646, 70183, 4649, 168492, 4653, 4654, 4658, 4660, 4661, 4662, 4663, 4666, 4670, 4671, 4672, 4673, 70206, 4675, 37444, 4677, 4678, 4679, 102984, 4681, 4676, 4683, 98623, 4686, 4687, 4688, 102993, 4690, 4689, 4695, 4697, 4699, 4700, 4701, 4703, 4704, 135777, 4705, 37475, 4708, 37477, 4709, 4711, 4710, 4713, 4714, 4715, 135787, 4717, 4718, 4719, 4720, 4721, 4722, 4723, 103027, 4725, 4727, 4728, 37495, 98633, 135803, 4732, 4733, 4734, 4735, 4736, 103042, 4738, 4740, 4741, 4743, 4744, 103048, 4745, 135815, 4748, 4749, 70286, 4750, 4754, 4756, 70293, 4757, 4759, 4765, 70301, 4766, 168608, 70305, 4770, 103075, 4772, 4773, 4774, 4771, 4776, 37545, 168612, 4777, 4780, 4775, 4782, 4783, 4784, 4785, 4786, 4787, 4788, 135861, 4789, 168632, 4792, 4794, 4795, 4796, 70334, 4799, 70336, 4800, 4802, 4803, 103107, 4798, 4801, 4804, 4808, 4809, 4810, 4811, 4812, 4813, 4814, 135887, 4816, 4815, 4818, 135885, 4821, 4822, 4823, 70361, 4826, 4825, 4827, 4828, 4830, 4831, 103137, 4833, 4835, 4836, 103141, 72603, 4840, 4844, 4845, 4846, 4847, 4848, 4849, 4850, 4852, 4855, 4857, 4860, 4862, 4863, 4864, 4865, 135937, 103171, 4866, 4867, 4871, 168712, 4873, 4874, 4876, 4877, 4878, 4879, 4880, 4881, 4883, 4885, 4886, 4887, 4888, 4889, 4890, 4893, 4896, 4898, 4899, 4900, 4901, 4902, 4903, 103210, 4909, 4911, 4912, 4914, 4915, 4916, 4917, 70451, 4919, 4920, 4921, 103221, 103219, 103228, 4925, 4926, 4927, 4928, 4929, 103233, 103235, 4932, 4936, 4939, 136012, 4941, 4942, 103245, 136016, 103249, 136018, 4945, 136020, 103253, 4946, 4951, 37720, 4947, 4954, 4953, 70492, 4957, 4958, 37727, 4959, 37729, 4956, 4963, 37731, 37733, 4964, 4967, 4966, 4969, 37736, 37739, 4971, 37741, 4973, 4974, 4975, 4976, 4978, 4979, 4980, 4981, 4977, 70521, 4985, 4987, 4988, 4989, 4990, 4991, 4992, 4994, 4995, 70533, 4998, 5004, 168846, 5007, 5008, 5009, 5010, 5011, 70545, 5013, 5014, 5015, 5016, 5012, 5021, 5023, 5025, 5026, 5027, 5028, 70565, 103335, 5033, 5034, 103339, 103341, 5039, 5040, 5041, 5046, 5047, 5048, 5049, 5051, 5053, 5054, 5055, 5059, 5060, 37830, 70599, 5064, 5065, 5066, 5062, 103372, 5068, 5063, 5071, 5072, 5073, 5074, 5075, 5076, 5077, 5069, 37844, 103384, 5080, 5081, 5083, 37853, 202, 5088, 37857, 5092, 5093, 5094, 5095, 5096, 5099, 70637, 5102, 5103, 70641, 5106, 5107, 5108, 5109, 5110, 5105, 5112, 5113, 5114, 5111, 5116, 1017, 5120, 5121, 1019, 5127, 5128, 70663, 5131, 5134, 5135, 5136, 5137, 5139, 103449, 5146, 5147, 5151, 5152, 70687, 5155, 5156, 5159, 70697, 5165, 70703, 5168, 5170, 5171, 70708, 5177, 5178, 103483, 5181, 5187, 5189, 70728, 169034, 5197, 103502, 5198, 5202, 5205, 5209, 5212, 5213, 5214, 5219, 5220, 5221, 5222, 5224, 5225, 5226, 136297, 5231, 136305, 103539, 5237, 5238, 103543, 5240, 5241, 5239, 5244, 5246, 5247, 5248, 5250, 5254, 5255, 5256, 5258, 5264, 5265, 5266, 5267, 5268, 136341, 38038, 5269, 5272, 5275, 5278, 5279, 136353, 5282, 5283, 136355, 5284, 5285, 136359, 5288, 5291, 5292, 38061, 5293, 5294, 5296, 103596, 103602, 5299, 5300, 5298, 103606, 5303, 5304, 5297, 103609, 5307, 5308, 5309, 5311, 5312, 5313, 5316, 5319, 103624, 5321, 5322, 5323, 5324, 5325, 70862, 38095, 5328, 5329, 5333, 5334, 5337, 5338, 5339, 169180, 5341, 5345, 5346, 5347, 5348, 5349, 103655, 5353, 5356, 5357, 5358, 5361, 5363, 5364, 5365, 136443, 5372, 5373, 136445, 136447, 5375, 5377, 5379, 5380, 136449, 5382, 103685, 103688, 5385, 5384, 5387, 5388, 5389, 5390, 38159, 5391, 38164, 5397, 5398, 136471, 5400, 5401, 136469, 70932, 5404, 5409, 70946, 5410, 5414, 5415, 5416, 5417, 5418, 5419, 5420, 5421, 5422, 5423, 5424, 5425, 5427, 5428, 38198, 136503, 5433, 5434, 5435, 5437, 5438, 136511, 5440, 5442, 5443, 5444, 5446, 70984, 5449, 5450, 5452, 103755, 70990, 5454, 5456, 5455, 5458, 5459, 5460, 1085, 70994, 5463, 5464, 5462, 5466, 5465, 103772, 5468, 5470, 136540, 5472, 5471, 5475, 5476, 5477, 5478, 5479, 5480, 137859, 5483, 136556, 5485, 5486, 5489, 136562, 5490, 136564, 5493, 103801, 71033, 5498, 5500, 5501, 5502, 5497, 5504, 5505, 103810, 5508, 5506, 5503, 5512, 5513, 103819, 5515, 71057, 5522, 5523, 5524, 5521, 136598, 5527, 5528, 5529, 5530, 38294, 5531, 5532, 5525, 136602, 38304, 5537, 5538, 5539, 5540, 5541, 5543, 5544, 5548, 5550, 5553, 5556, 33669, 5560, 103865, 5562, 5563, 5564, 5568, 5569, 71106, 5570, 71108, 5572, 5574, 5573, 5575, 5577, 103883, 5580, 5581, 5582, 136654, 5584, 5585, 5588, 5589, 5590, 5591, 136664, 71129, 136666, 71131, 5596, 5597, 33677, 71135, 5601, 5602, 5603, 5604, 5607, 5608, 5609, 5610, 5611, 5612, 71147, 5613, 5615, 5614, 5617, 5618, 5619, 38388, 5620, 71156, 5621, 33681, 5625, 71160, 33683, 5628, 5630, 5629, 5632, 5633, 5635, 5636, 5637, 5638, 5640, 5643, 5644, 5646, 5649, 5650, 5651, 5657, 5663, 5664, 5665, 5666, 5667, 5668, 5669, 71205, 5670, 5672, 5673, 71211, 103980, 1128, 5678, 5679, 103984, 5680, 5682, 5675, 5684, 5685, 5688, 5689, 5690, 5693, 5694, 5696, 5699, 5700, 5704, 5706, 5707, 136778, 5710, 5712, 71248, 136786, 104017, 71252, 71254, 5720, 5723, 71264, 136800, 71268, 5733, 5735, 5736, 5741, 5742, 136816, 5745, 5746, 5747, 71282, 5749, 98836, 5752, 5755, 136834, 5764, 104069, 71302, 136838, 71304, 136840, 104074, 5771, 5772, 104076, 104078, 5773, 5767, 5768, 136850, 5779, 5780, 5782, 5784, 5785, 5786, 5787, 5788, 136859, 5791, 136864, 5792, 71327, 5796, 5797, 5799, 5801, 5802, 5803, 5804, 71341, 5809, 5810, 5812, 38583, 5816, 5817, 5818, 5820, 104129, 5826, 5828, 5829, 169670, 5833, 5836, 104141, 5838, 5839, 136912, 5840, 71379, 5847, 5849, 5853, 5856, 5863, 5867, 5873, 5874, 5875, 5876, 5878, 5879, 5880, 5881, 5882, 5883, 5884, 136958, 5888, 5889, 71429, 5896, 5899, 5900, 5901, 5903, 71438, 104211, 5909, 5912, 104218, 5915, 71453, 5919, 5922, 5925, 71462, 5927, 71464, 5929, 71466, 5932, 71468, 104241, 5938, 104243, 5941, 5942, 5943, 5944, 5945, 104245, 5947, 71484, 5949, 5951, 5953, 5954, 5955, 5957, 71494, 5959, 5961, 5963, 71500, 104272, 5969, 5970, 5971, 5968, 5974, 5975, 104283, 5980, 5979, 71518, 71520, 5984, 5986, 5989, 5990, 5991, 5992, 5993, 71530, 5995, 5994, 71535, 5999, 6002, 6003, 104303, 6005, 6006, 6009, 6012, 6013, 6014, 71550, 6016, 6020, 6021, 6022, 6023, 6025, 6027, 6030, 38798, 6031, 6033, 104337, 104339, 6035, 6036, 6039, 6040, 6041, 6042, 71579, 6049, 6051, 6055, 6057, 6058, 6059, 6060, 6062, 6063, 6064, 169904, 6067, 104374, 6070, 169912, 6078, 71619, 6086, 6090, 6093, 6095, 6100, 6101, 6104, 71640, 6107, 6111, 104419, 6116, 38886, 6119, 169958, 6122, 6123, 6124, 6125, 71668, 6140, 6141, 169982, 6143, 169984, 6145, 137218, 6148, 169992, 6153, 104457, 6155, 6156, 6157, 6158, 6159, 6162, 6163, 6166, 6169, 6170, 6178, 6181, 6182, 6183, 6184, 6185, 6186, 6187, 6188, 6192, 6193, 6195, 6196, 6197, 71732, 6201, 6202, 6203, 6204, 71745, 6210, 6212, 6213, 6214, 6215, 6216, 6217, 6218, 6219, 6220, 6222, 6223, 38992, 6225, 33801, 6228, 6232, 6234, 6235, 6237, 6238, 6239, 6241, 6242, 6244, 6245, 6246, 6249, 6250, 6251, 6252, 6254, 6263, 6264, 137337, 6266, 6265, 6268, 6269, 6270, 6271, 6267, 6273, 71810, 137345, 6279, 6280, 6281, 6283, 6285, 6286, 6287, 6288, 71823, 6290, 6291, 6289, 6294, 6295, 6296, 6297, 6298, 6299, 6300, 6301, 71838, 6303, 6302, 6305, 6306, 6308, 6310, 6313, 6314, 6315, 6316, 6319, 6320, 6322, 6323, 6324, 6327, 6329, 6330, 6331, 6332, 6333, 6334, 6335, 71867, 6337, 6338, 6339, 104644, 6341, 6336, 6342, 6344, 6345, 6347, 6348, 6349, 6350, 6357, 6358, 1264, 71899, 6365, 71902, 6367, 6368, 6370, 6371, 6373, 6374, 6375, 6376, 6377, 6378, 6379, 6380, 71910, 6382, 6383, 6385, 6386, 6387, 6390, 6395, 6400, 6402, 6405, 6407, 6408, 6410, 6412, 39183, 6415, 6417, 6422, 6424, 6425, 6427, 6428, 6429, 6433, 71970, 6434, 6436, 6440, 6442, 137517, 6448, 170289, 6449, 6452, 6453, 6454, 104760, 170297, 6460, 6461, 39231, 6464, 71999, 39234, 6465, 6466, 72011, 104780, 6476, 6477, 6480, 6482, 6483, 6484, 6493, 6502, 6503, 6506, 6509, 6510, 6514, 170355, 6515, 170357, 6517, 6516, 137595, 39292, 6523, 6527, 6528, 6530, 6533, 6534, 6535, 6536, 104841, 6537, 6539, 39307, 6541, 6538, 6542, 6545, 6547, 6548, 6549, 6550, 6551, 6552, 6553, 6554, 6557, 6558, 104863, 170399, 170401, 6559, 6561, 6564, 6565, 6566, 6567, 72104, 6568, 6563, 104875, 170411, 6571, 6572, 104879, 6574, 6577, 6573, 6579, 6578, 6581, 6582, 6583, 6584, 6586, 6587, 6588, 6591, 6592, 72129, 6593, 6595, 6596, 6597, 6598, 104906, 6603, 6604, 104908, 72142, 104913, 6609, 6611, 6612, 39381, 6614, 6615, 6616, 6617, 6618, 6619, 6620, 104925, 6624, 6625, 6628, 6629, 72165, 72167, 39400, 6631, 72171, 6636, 6638, 6639, 104944, 72178, 6643, 131578, 6645, 39414, 6644, 6650, 6654, 6656, 6658, 6659, 39427, 6660, 6662, 6663, 6664, 6665, 6666, 39435, 6667, 6669, 6670, 6671, 39444, 39446, 6678, 6679, 39449, 6684, 33893, 6686, 6687, 6688, 6689, 72226, 72224, 6692, 6691, 6695, 6696, 6699, 6702, 6705, 6706, 6707, 6708, 6709, 6710, 6711, 170551, 6713, 6715, 105020, 6718, 6720, 6721, 6722, 6723, 6724, 6731, 6732, 105037, 6734, 6744, 6746, 6748, 39516, 6750, 6751, 6752, 6753, 6754, 6755, 170597, 72294, 6760, 6763, 6764, 6765, 6768, 6769, 6770, 6772, 6773, 6774, 6775, 6776, 6777, 72308, 6780, 6782, 6783, 137857, 6786, 6787, 6785, 6788, 6790, 6791, 137863, 6793, 72330, 6794, 6796, 6797, 6798, 6800, 1352, 6804, 6803, 6807, 6808, 6809, 6810, 6811, 6812, 6814, 6816, 6817, 6818, 105121, 72356, 6820, 6821, 6827, 6832, 6835, 6836, 6837, 72378, 6850, 6851, 6852, 6853, 6856, 6857, 6858, 72395, 170697, 6860, 6862, 6863, 170705, 6867, 6868, 72405, 6870, 72407, 6872, 6873, 6874, 6869, 6879, 6880, 6881, 6882, 6883, 6884, 6885, 6886, 6887, 6888, 6889, 6890, 72424, 6893, 105197, 6898, 6899, 6902, 105211, 105213, 6909, 6911, 6912, 6918, 6920, 6927, 164200, 6932, 6934, 6935, 6936, 170777, 6938, 6939, 6942, 105246, 6944, 6945, 105250, 39715, 6947, 6946, 6949, 6950, 6952, 6953, 72489, 6951, 105254, 6957, 6958, 6959, 6954, 6789, 6962, 6963, 138036, 6965, 6966, 6967, 6961, 6969, 6970, 6971, 170813, 6974, 6975, 6973, 170817, 6978, 6979, 6981, 6982, 6983, 6984, 6985, 6986, 170827, 6987, 6989, 6990, 6992, 6993, 6994, 6996, 6997, 170837, 6999, 7000, 7001, 6998, 7004, 7005, 7007, 7008, 7009, 7010, 7012, 7013, 7015, 7016, 7017, 7018, 7019, 72554, 105325, 7022, 7023, 7024, 7025, 7026, 7027, 7028, 7030, 7031, 7032, 7033, 7034, 170875, 7036, 39801, 7038, 7037, 7040, 7041, 7044, 7045, 7046, 105351, 7048, 7049, 7050, 105355, 7051, 7052, 7054, 72591, 7056, 170897, 7053, 7055, 7060, 7057, 7058, 7063, 7064, 7065, 72601, 7067, 170907, 7069, 72605, 7071, 7072, 7070, 7073, 7074, 7076, 7075, 7078, 7079, 7080, 7082, 7083, 7084, 7085, 7086, 7087, 72624, 7089, 7090, 7088, 7091, 7092, 7093, 7096, 170937, 7099, 170939, 39869, 7102, 7103, 7104, 72641, 7101, 7107, 170945, 7108, 7109, 138186, 7115, 7116, 170957, 7118, 7117, 66544, 7121, 7122, 7123, 7124, 7125, 7127, 7131, 7132, 138204, 7134, 138208, 7137, 138210, 7139, 7141, 7142, 7143, 7147, 7149, 7150, 7151, 7153, 7154, 7155, 7156, 72692, 7158, 170993, 7160, 7161, 7162, 7163, 7164, 72701, 72696, 7165, 7167, 7169, 105468, 171011, 7171, 7173, 7175, 7176, 7177, 72714, 7178, 7179, 7181, 171023, 72720, 7184, 7190, 7191, 7192, 7193, 72731, 72733, 105504, 72737, 7202, 7205, 7206, 7208, 7209, 7211, 7212, 7215, 7216, 7217, 7218, 7219, 7222, 7223, 7225, 7228, 7234, 7235, 105540, 7236, 7238, 7243, 7245, 7247, 7248, 7251, 7254, 7255, 7256, 7257, 7258, 7259, 7260, 7261, 7262, 7263, 7264, 7265, 7266, 105585, 7282, 7285, 105593, 7292, 7293, 7294, 7297, 7299, 7301, 7302, 7303, 7304, 7305, 7306, 7307, 7308, 7310, 7311, 7312, 34018, 7315, 7316, 7317, 7318, 7319, 7320, 7321, 7323, 7324, 7325, 138396, 7327, 7328, 7326, 7333, 7335, 7336, 72874, 7340, 7344, 7345, 7346, 7347, 7348, 105653, 7349, 7352, 7354, 7357, 7360, 7361, 7362, 7364, 7366, 7367, 7368, 7369, 7371, 7372, 7373, 7375, 7376, 7377, 7379, 7380, 7381, 40148, 7382, 72919, 72921, 7386, 7387, 7390, 7394, 7395, 7396, 7411, 171251, 7414, 105720, 7419, 105731, 7438, 7439, 7440, 105746, 7443, 7444, 7445, 72982, 7448, 7449, 7450, 7451, 105755, 7454, 7455, 7457, 7458, 7459, 7460, 72998, 138546, 7477, 73015, 7479, 73017, 7482, 7481, 7486, 73023, 7487, 7492, 7493, 105801, 73042, 40278, 105835, 138610, 105844, 7541, 7560, 7561, 7562, 138632, 7564, 7566, 7569, 7570, 73106, 40339, 7573, 7572, 7579, 7581, 7584, 7587, 7614, 7615, 7616, 7618, 7619, 7620, 7624, 73160, 138702, 7636, 40412, 40414, 7647, 7646, 7649, 105954, 7650, 171495, 7657, 7669, 73211, 106002, 7698, 7700, 7701, 7702, 7704, 7705, 7706, 7707, 7708, 40478, 7713, 7714, 7716, 7720, 40491, 138798, 7727, 7728, 73266, 7730, 73268, 7742, 7743, 7745, 7748, 7749, 7753, 73290, 7756, 7757, 106062, 7762, 138835, 7766, 7767, 106072, 7772, 7773, 7781, 7782, 73319, 73321, 7786, 73323, 7789, 171631, 1549, 106100, 7802, 73344, 7810, 7811, 7812, 40581, 164375, 40583, 7815, 40578, 7820, 7822, 7826, 40597, 7831, 7832, 7833, 7834, 7835, 7839, 106144, 7841, 7842, 7843, 7844, 7845, 7846, 40614, 7840, 40617, 73386, 171695, 40629, 171701, 1565, 7879, 7882, 7883, 7884, 7888, 7889, 7891, 7894, 73431, 138966, 7895, 7896, 7899, 7900, 171749, 171751, 7916, 171759, 7920, 171763, 7924, 171765, 7926, 7925, 40697, 7930, 7932, 7934, 7936, 7937, 7938, 7939, 7940, 7943, 7944, 7951, 73488, 40723, 73499, 40732, 73501, 34148, 171811, 7976, 73515, 7980, 7981, 7982, 7983, 7979, 139052, 7986, 7987, 7988, 7984, 7991, 7993, 8008, 8010, 8011, 8012, 8014, 8015, 8016, 8019, 8024, 8025, 106330, 171867, 8033, 73569, 8035, 8042, 8043, 8044, 8045, 40815, 40819, 171891, 8057, 40826, 139130, 171917, 40851, 139157, 8092, 8093, 8094, 40870, 8117, 8118, 8119, 8121, 8125, 66744, 8126, 8128, 8131, 8132, 106438, 8136, 106441, 8138, 8137, 73676, 8142, 8143, 73681, 8147, 8153, 8154, 8157, 8158, 8167, 8169, 172013, 40946, 8183, 106487, 106489, 106491, 40955, 8188, 8190, 40959, 8191, 8189, 40962, 8195, 8196, 8197, 40966, 8199, 73741, 8207, 8225, 8228, 8232, 8235, 106540, 8236, 8238, 8239, 106542, 8241, 41014, 8253, 8254, 8261, 8264, 8266, 8268, 73804, 8270, 73808, 8275, 73822, 106594, 8290, 8293, 8302, 139385, 73854, 73858, 66783, 1654, 8327, 8331, 66785, 8335, 8336, 8337, 106642, 8338, 8340, 8341, 73876, 139415, 106648, 73881, 8360, 8361, 8362, 8363, 8364, 8366, 8368, 8369, 8370, 8371, 8372, 8373, 172215, 8376, 8375, 8378, 8379, 8380, 8382, 8383, 8385, 8387, 172229, 8391, 106696, 73929, 172233, 8402, 8405, 8410, 172253, 8424, 8425, 8426, 8427, 139511, 8446, 8447, 8450, 8451, 8454, 8456, 8458, 8459, 8461, 106766, 8462, 8464, 8463, 8465, 8477, 106782, 172321, 106785, 8481, 8484, 8482, 8487, 8491, 8492, 8493, 8494, 8495, 8500, 8501, 8502, 8506, 8507, 8511, 8512, 41285, 8518, 8521, 8526, 8528, 8529, 8530, 8531, 8532, 8533, 8534, 106839, 8535, 74075, 8542, 74089, 74095, 139640, 106873, 139642, 8571, 139644, 8574, 8575, 8577, 8578, 106883, 8580, 8581, 8582, 139655, 106889, 8587, 8588, 8591, 8593, 8596, 8600, 8601, 8604, 8605, 8607, 8609, 8610, 8611, 106916, 106918, 8614, 106920, 8617, 74154, 8620, 172461, 8622, 8623, 106927, 8626, 8632, 8633, 8636, 8638, 8640, 8641, 8643, 8644, 139717, 8645, 8650, 8656, 172497, 8665, 8666, 8667, 8670, 139747, 8677, 8684, 8685, 74226, 8690, 74228, 8695, 172547, 107013, 8711, 8712, 8713, 8714, 8718, 8720, 8724, 8727, 8730, 172577, 8738, 74275, 172583, 8743, 172585, 74282, 172587, 8748, 172589, 172591, 8753, 8754, 8755, 41527, 107069, 8771, 8772, 8773, 8774, 8778, 8781, 8782, 8783, 8784, 139855, 139857, 139859, 74324, 8795, 8796, 172637, 8798, 41566, 8799, 41569, 8800, 41571, 8804, 41573, 74342, 8807, 8808, 8809, 8810, 8813, 8814, 8815, 8827, 32914, 8830, 8831, 8832, 8833, 74370, 8835, 8836, 107141, 8838, 8840, 139915, 8844, 8848, 41617, 1759, 107159, 41627, 8860, 8861, 8864, 8865, 8866, 172705, 8869, 8870, 8873, 8874, 8875, 8879, 8880, 8894, 8905, 8906, 8907, 8908, 8910, 8911, 8912, 74450, 8914, 8916, 8917, 8918, 74452, 8915, 8919, 74458, 139994, 8920, 8921, 8928, 8933, 8934, 8937, 8938, 8939, 8943, 140016, 41712, 8946, 8947, 8948, 8949, 8950, 8951, 41716, 172793, 8952, 8954, 41724, 8957, 8958, 8959, 8955, 8961, 8964, 8965, 8966, 140038, 8968, 8969, 8970, 8967, 8972, 8973, 74510, 8974, 74508, 8977, 8978, 8979, 8981, 8982, 8983, 8984, 8985, 172825, 8987, 66915, 8989, 74530, 74532, 8998, 41769, 9004, 9005, 9008, 74545, 9010, 107314, 74553, 9018, 34359, 107338, 172875, 140110, 172881, 107348, 74580, 172887, 41828, 140133, 172909, 74624, 140162, 41863, 140174, 107406, 107408, 107410, 107412, 74647, 74668, 107436, 74677, 107447, 107449, 74683, 74685, 74688, 107462, 74696, 74698, 140237, 140247, 132084, 74727, 140265, 140267, 74750, 140289, 74754, 140301, 41997, 42002, 42004, 42007, 42009, 42011, 42013, 42015, 42018, 74789, 74791, 74795, 107565, 140359, 173145, 74851, 107630, 74868, 173197, 173205, 173209, 74916, 173235, 107702, 42176, 140481, 74946, 74948, 173253, 173255, 107723, 42191, 173291, 140523, 140525, 99574, 173307, 107771, 140541, 107780, 173317, 34450, 140561, 173351, 173355, 42285, 107846, 140627, 140711, 107945, 140715, 107951, 107953, 42418, 140725, 42422, 107962, 140737, 107997, 173535, 107999, 164753, 140816, 108078, 140850, 173619, 140852, 99638, 108090, 42556, 42559, 75341, 42602, 108156, 75389, 140928, 75395, 42632, 42638, 75416, 140956, 108188, 108190, 108192, 75446, 173751, 141004, 42718, 42723, 42725, 42728, 42730, 42732, 42734, 42738, 42740, 42761, 173873, 1998, 141131, 173925, 173941, 2008, 173963, 42943, 42946, 174045, 174053, 174055, 108540, 75803, 75805, 75813, 75816, 108601, 174141, 141400, 141408, 141422, 108689, 108715, 75947, 108727, 108729, 141513, 132333, 75985, 132335, 141544, 2084, 108795, 76030, 76054, 43289, 76060, 164917, 76077, 76091, 76093, 174403, 43333, 141646, 132362, 141668, 76143, 43376, 141688, 108928, 108932, 43396, 76173, 76175, 174479, 108945, 108949, 141718, 43419, 108981, 141749, 43460, 174551, 76251, 141799, 141810, 109042, 141816, 141818, 141820, 76293, 141830, 141836, 76301, 141844, 141846, 43549, 43556, 43558, 43560, 141866, 141890, 174681, 141928, 109161, 109183, 109187, 109191, 174727, 174737, 43677, 43679, 43684, 141994, 109241, 43708, 2175, 142020, 174815, 43744, 109282, 142056, 109295, 142074, 109313, 109317, 142115, 132454, 43836, 174909, 109374, 109372, 109383, 132462, 43869, 43871, 109416, 142196, 43904, 43908, 43912, 43914, 43917, 142222, 43919, 43921, 43928, 43930, 43932, 43936, 109483, 109487, 76738, 76743, 76751, 76763, 44004, 44020, 44022, 109569, 109576, 109578, 109596, 142366, 142372, 109633, 142420, 142422, 142424, 175197, 175199, 109673, 142444, 142448, 109687, 142456, 142488, 109723, 44189, 44191, 44193, 44195, 44197, 44199, 142507, 44204, 142509, 175293, 44225, 175303, 142536, 165101, 44238, 44241, 165103, 44243, 142550, 142558, 142598, 142602, 44301, 109846, 109848, 109850, 175387, 109853, 175397, 109864, 175401, 175431, 109895, 109897, 175435, 44397, 44399, 175475, 109941, 77177, 175485, 77191, 165139, 109968, 77201, 109971, 77206, 77233, 175569, 77266, 175577, 44511, 175585, 142831, 44555, 110102, 2347, 175661, 110127, 110130, 77364, 44597, 44613, 175693, 175705, 44633, 175707, 132618, 77414, 2362, 77421, 142961, 44657, 77427, 44665, 175743, 2368, 77455, 142997, 44694, 143001, 175781, 44709, 65601, 44719, 143031, 44731, 110281, 110286, 44759, 44761, 110297, 44773, 44777, 44788, 77561, 110330, 110350, 44828, 44840, 44849, 44851, 110387, 44864, 44889, 77667, 77688, 44929, 44931, 44937, 143245, 77709, 44943, 143255, 143257, 110501, 44972, 44974, 176051, 110541, 110553, 77795, 45028, 176101, 77798, 77800, 110586, 143355, 110591, 143365, 45062, 143367, 110603, 77841, 45074, 110611, 77846, 143385, 45081, 77866, 45106, 143410, 77881, 110655, 77893, 110669, 143458, 77931, 143472, 45175, 110718, 45183, 45186, 110730, 143511, 45208, 45210, 110746, 45221, 143525, 110771, 110773, 110781, 143559, 176329, 78034, 78039, 78041, 110826, 176371, 176389, 78088, 78103, 78105, 176413, 176415, 110882, 176419, 78116, 176423, 45361, 78142, 45382, 78160, 78174, 45431, 45440, 78209, 45442, 45447, 78218, 78264, 78266, 45499, 45501, 45503, 176579, 45517, 67665, 176601, 78316, 176621, 143859, 111113, 78349, 143896, 111146, 45635, 45648, 45658, 45662, 143969, 45666, 45668, 45672, 176751, 78467, 78469, 45720, 45722, 45726, 45728, 45730, 78499, 45732, 176805, 78544, 111320, 78574, 111360, 111362, 111364, 111375, 111384, 78620, 78626, 176935, 78637, 45880, 100302, 100304, 144210, 111443, 100306, 144222, 45928, 78703, 45950, 144262, 45969, 78746, 78772, 111551, 144352, 46062, 78836, 111617, 111622, 46105, 177185, 111659, 78893, 111663, 111680, 144478, 78959, 111732, 111743, 177285, 7047, 144522, 111759, 46231, 79006, 79008, 111781, 111785, 111795, 111800, 111817, 79057, 144606, 79073, 111844, 144620, 46322, 79091, 46335, 46337, 46347, 79132, 79134, 46367, 79139, 111913, 111921, 144714, 144716, 79185, 144734, 79224, 112006, 79242, 2725, 79251, 2727, 79259, 79274, 177593, 79293, 46530, 79299, 112070, 2737, 177615, 2738, 46559, 79333, 46572, 46574, 46578, 79357, 112138, 112171, 112175, 112183, 79428, 46664, 144976, 177763, 177765, 46723, 79501, 112290, 112303, 79536, 46772, 145080, 112316, 79553, 112326, 112334, 79572, 79590, 65685, 79592, 112370, 145150, 46850, 46855, 2800, 2801, 46862, 46865, 177939, 112421, 79677, 112450, 79684, 112454, 112460, 79695, 79702, 46948, 112497, 46965, 46967, 46970, 46972, 46974, 46976, 112512, 145283, 112515, 178061, 112552, 112556, 79798, 178111, 47044, 112580, 178129, 112623, 47099, 79868, 79879, 145418, 47122, 47124, 79895, 79897, 79946, 145491, 112727, 47200, 47202, 112749, 178323, 112788, 47254, 47261, 112804, 112818, 80083, 112852, 80094, 112868, 80124, 80126, 112897, 80139, 112911, 47382, 47384, 80162, 80166, 47404, 112940, 145724, 47423, 145745, 47446, 80219, 47465, 80241, 47491, 47516, 47518, 145839, 47538, 178613, 178615, 47566, 80363, 47610, 113159, 47629, 145935, 47640, 47644, 47646, 145951, 113186, 113207, 80454, 113225, 145994, 80463, 80478, 113252, 146024, 80489, 47721, 146028, 47725, 47736, 113275, 113278, 113280, 178827, 47774, 113313, 80549, 80551, 80553, 47793, 80572, 113345, 47810, 113348, 113350, 80584, 80586, 80590, 113374, 113378, 80615, 113394, 113416, 47894, 146210, 113453, 80693, 47937, 146244, 47950, 47952, 80727, 47970, 47978, 80748, 179053, 113532, 47997, 47999, 179073, 48001, 146309, 113565, 48032, 113573, 48043, 48045, 179119, 179133, 80831, 179135, 80834, 113604, 80839, 80846, 48082, 80858, 80860, 80862, 80864, 80880, 80906, 179211, 48142, 80917, 48150, 48161, 113705, 80969, 113741, 48214, 113780, 81018, 48262, 113829, 48304, 113849, 81087, 48319, 48322, 48326, 113862, 179401, 48342, 146656, 179427, 146662, 81132, 146682, 146684, 146688, 48385, 81156, 81158, 48394, 48412, 48414, 48416, 179491, 81191, 146730, 179511, 81229, 81257, 114028, 114044, 48516, 48518, 48520, 114060, 114066, 114074, 48560, 114126, 48593, 48596, 48598, 81383, 179709, 48638, 114180, 114184, 81417, 48649, 179749, 48678, 146986, 81456, 48696, 48698, 147002, 114246, 114265, 48738, 179813, 48741, 179815, 81512, 179817, 48744, 179819, 104837, 81520, 81535, 81537, 48774, 48780, 48783, 81562, 81564, 114335, 81591, 147142, 114396, 48872, 48877, 48879, 179953, 48883, 147196, 81681, 147250, 114494, 180031, 180045, 147282, 48982, 147286, 147300, 48997, 49013, 81782, 81784, 81786, 114554, 81788, 147326, 180095, 147328, 81791, 147330, 81819, 81831, 114601, 81834, 147372, 147374, 147376, 147378, 147380, 81845, 147382, 81847, 147384, 114627, 147410, 49110, 114662, 49130, 49132, 114670, 114678, 81910, 180231, 81932, 114707, 114713, 81949, 180263, 180265, 49220, 180297, 114762, 114795, 49263, 49265, 49272, 82041, 49274, 49276, 49278, 49280, 114818, 49284, 82053, 49286, 114847, 49314, 82088, 82093, 82095, 49347, 147657, 147662, 82152, 49389, 114925, 49396, 82167, 114935, 82169, 180497, 82202, 82242, 49524, 115065, 49530, 115111, 115122, 82366, 82378, 115149, 115151, 147936, 115170, 49647, 49649, 49651, 49666, 115203, 115210, 115216, 49688, 82459, 82461, 115231, 180777, 33237, 82499, 49735, 82527, 82534, 49772, 49793, 49822, 49824, 148166, 148172, 82641, 82667, 49910, 180985, 180987, 82684, 49917, 49932, 148238, 49957, 49961, 115502, 82744, 68552, 181065, 82765, 82767, 50003, 50005, 115569, 50064, 181139, 50068, 82848, 115617, 82852, 82854, 82857, 148424, 3449, 115664, 115667, 115680, 50147, 50158, 50160, 115713, 148482, 50189, 115727, 181315, 50274, 115819, 148592, 115828, 83086, 148626, 148632, 115877, 181413, 148652, 50354, 50356, 148667, 83132, 83134, 148671, 148675, 148709, 83177, 115969, 50440, 50442, 50445, 148775, 83270, 116044, 50514, 148881, 83349, 148888, 181659, 83369, 50601, 116138, 83374, 50610, 50613, 116169, 181719, 148956, 50658, 116207, 148978, 148982, 50685, 149011, 83480, 50740, 50792, 50794, 50796, 50798, 50800, 50802, 50804, 50806, 83601, 149144, 50842, 149146, 83613, 50851, 50872, 116411, 116413, 116419, 50912, 50923, 50942, 50954, 116505, 116529, 50999, 51024, 149330, 83796, 149334, 83803, 51037, 149350, 149352, 149354, 83827, 149380, 51077, 51080, 51082, 51084, 51086, 51088, 51091, 149406, 116668, 83910, 51167, 51174, 116718, 116724, 83969, 116738, 149508, 83976, 101360, 182293, 182297, 182299, 51255, 116797, 149566, 116799, 3678, 116817, 149590, 116823, 149612, 116849, 51314, 116887, 51357, 116897, 84152, 3700, 84156, 166526, 116941, 51412, 84187, 84189, 116963, 3709, 116977, 116985, 51471, 84240, 84246, 51498, 84273, 149830, 51540, 51545, 33310, 51562, 3736, 182639, 117107, 117109, 51573, 51575, 3739, 117133, 149902, 84374, 166568, 84392, 117176, 182715, 84414, 182727, 117192, 182731, 51662, 3756, 51666, 182749, 3760, 51694, 51698, 51705, 51709, 3765, 182793, 84512, 182823, 84523, 84553, 3787, 117364, 117368, 84601, 51834, 3789, 84615, 84637, 51884, 51903, 117444, 51925, 51927, 84696, 117466, 51931, 51933, 51935, 51937, 51939, 183011, 84716, 150254, 117511, 117529, 117531, 117533, 84772, 117545, 84799, 117572, 52042, 117590, 84844, 84847, 117630, 150401, 117646, 183197, 183199, 183227, 84942, 84944, 84950, 84952, 84954, 183295, 183301, 52241, 150548, 52245, 183317, 150554, 85020, 85022, 85025, 52279, 52281, 52283, 52287, 85056, 150596, 52299, 150604, 117849, 117851, 52319, 52328, 117867, 117877, 117881, 117887, 117895, 85131, 52375, 117922, 150696, 85179, 52435, 85213, 36477, 52458, 52462, 85259, 85261, 85295, 183611, 118082, 85316, 183635, 85334, 85342, 52579, 85354, 85367, 52604, 3945, 85394, 85397, 118166, 85399, 85401, 52644, 85412, 85414, 118198, 52668, 85438, 150993, 52694, 52712, 118248, 52715, 52722, 52724, 52730, 118270, 85510, 118290, 36537, 52767, 52784, 118326, 118354, 183897, 52831, 134246, 3989, 183911, 52867, 52885, 183959, 184015, 52950, 52952, 52967, 85736, 52973, 52975, 118512, 184053, 118530, 53000, 85774, 151311, 151315, 85780, 151317, 85788, 53022, 53024, 85796, 118572, 85881, 85885, 53121, 53123, 53125, 53127, 53129, 53138, 53140, 53143, 151455, 118696, 53161, 118700, 118702, 118706, 184245, 151479, 184253, 184257, 151501, 86000, 134326, 86014, 118784, 151557, 151559, 86028, 134334, 184349, 118814, 53280, 86059, 118834, 86066, 86068, 53318, 53322, 118862, 53326, 118880, 151653, 118888, 53355, 118894, 118896, 118900, 69224, 86142, 151687, 69227, 118924, 151695, 118930, 184471, 86190, 53435, 151739, 151745, 53447, 118985, 53450, 53453, 151759, 151763, 53460, 118997, 53464, 151769, 53466, 53468, 86237, 151777, 151781, 86279, 86286, 53519, 86290, 86293, 86295, 86298, 119068, 53550, 86320, 86332, 184641, 53574, 86345, 53578, 86347, 86355, 119141, 119145, 86377, 119153, 119155, 119167, 184721, 119218, 184791, 86487, 152037, 86504, 152063, 152065, 152071, 152077, 152079, 152081, 152083, 86548, 152085, 152091, 152105, 53808, 86593, 184931, 86628, 152173, 86644, 53883, 53894, 72479, 86668, 101895, 184987, 53921, 184997, 53953, 86721, 53956, 185029, 185031, 185033, 152270, 53972, 53974, 152284, 53993, 53996, 54001, 54004, 86781, 86815, 86817, 185135, 86833, 86835, 152372, 86864, 86880, 86882, 54116, 119655, 54121, 86892, 86898, 86911, 86922, 119714, 54185, 54190, 86960, 54256, 54259, 87028, 54272, 54274, 54276, 54281, 54286, 152591, 119828, 54354, 152658, 185435, 54372, 185473, 152711, 87192, 87194, 119964, 87197, 87222, 87232, 87234, 54503, 185585, 87287, 87298, 87304, 87306, 120130, 120138, 54617, 87413, 54648, 87430, 152970, 87444, 54686, 87483, 87485, 54732, 54734, 54736, 54745, 87520, 87522, 87529, 153070, 54768, 102066, 54771, 54780, 54785, 54787, 102070, 54796, 102088, 54881, 87660, 54908, 54910, 120466, 153236, 54934, 120478, 4410, 54962, 54995, 54997, 54999, 87785, 55020, 55036, 55052, 55061, 87834, 55067, 55069, 55071, 55080, 153386, 120625, 55094, 87867, 120635, 87869, 120637, 153408, 87876, 55110, 55112, 4441, 55116, 55118, 4445, 55156, 55167, 55190, 87960, 55205, 55207, 120761, 55232, 55241, 55245, 55247, 120783, 55250, 55253, 55259, 55261, 120799, 55267, 55269, 120807, 55272, 55274, 55276, 120813, 55278, 55280, 55282, 55290, 120827, 55292, 55294, 88069, 88094, 88108, 88125, 88129, 55363, 88140, 120919, 55391, 4497, 88163, 88179, 55442, 55444, 55451, 88235, 121007, 55492, 134775, 88267, 121035, 88272, 186587, 55553, 55555, 88327, 121097, 121099, 55577, 88345, 88356, 121129, 134796, 55620, 121169, 121171, 88405, 88448, 55687, 121231, 121253, 55721, 55729, 88515, 154065, 55765, 55768, 121338, 55805, 121342, 55814, 55820, 88593, 55830, 121372, 121374, 55844, 55854, 55872, 88672, 55908, 88697, 88699, 121469, 55946, 187031, 88744, 88746, 4615, 55995, 4617, 56003, 56012, 88785, 56022, 88810, 88812, 154358, 56060, 88911, 56145, 37211, 56152, 56156, 88932, 56169, 56171, 56174, 56176, 121715, 88954, 121781, 56251, 89028, 89030, 89039, 56274, 89047, 56286, 89072, 89085, 89087, 89090, 56333, 56336, 56339, 89118, 56367, 56379, 56389, 89190, 89208, 187541, 89281, 187593, 187595, 89305, 122092, 56563, 89343, 56587, 56607, 89386, 89388, 56620, 187717, 167570, 89427, 154975, 89470, 122246, 56715, 89492, 122260, 56757, 155064, 4769, 56775, 56782, 56788, 56801, 56805, 89580, 89582, 89586, 56837, 155168, 56869, 122433, 56908, 89678, 56915, 56921, 56941, 56949, 122490, 89745, 155288, 89753, 89759, 89761, 89774, 89804, 155358, 89837, 89840, 122627, 89862, 89864, 188189, 89898, 89904, 57147, 89939, 89945, 57183, 155509, 188301, 57243, 57274, 155589, 90057, 57326, 122882, 122884, 122886, 122888, 122890, 155659, 122892, 122896, 122898, 122900, 122902, 122904, 57368, 122906, 122912, 122916, 122918, 122920, 122922, 122924, 122926, 122932, 57421, 155743, 155774, 90243, 90245, 90249, 57499, 57502, 57504, 155812, 155820, 57522, 57526, 57528, 57532, 57536, 90343, 90345, 90353, 155892, 90357, 188675, 90374, 90376, 90384, 90403, 90405, 57637, 57640, 90428, 90430, 123200, 57669, 90439, 188751, 4952, 90469, 90471, 156025, 188797, 4961, 4962, 4965, 90522, 90524, 90528, 188833, 90531, 57772, 4970, 123310, 90576, 90600, 90603, 57843, 90630, 90647, 57910, 90717, 57951, 90719, 90738, 189043, 90746, 90769, 123545, 123553, 58025, 189111, 90809, 58047, 156371, 58078, 156387, 90863, 90866, 58103, 58105, 58107, 90888, 90890, 58154, 58156, 58162, 90943, 90945, 58191, 102749, 156553, 189333, 58287, 58291, 58293, 58295, 58297, 58299, 58301, 156605, 156607, 58303, 156609, 58306, 91077, 58309, 91079, 189381, 58315, 70208, 91094, 58332, 91104, 58347, 58351, 91126, 91128, 156675, 58376, 156706, 58404, 123947, 156726, 58425, 91233, 189547, 156781, 156783, 58492, 91261, 91266, 91273, 25746, 25750, 25752, 25753, 25757, 25769, 25771, 25773, 25782, 58554, 91323, 25788, 91325, 58559, 25795, 25797, 91337, 25805, 91353, 91355, 25825, 25826, 25827, 25833, 25834, 25841, 91386, 25850, 25856, 58627, 25865, 25870, 189713, 91414, 25886, 25887, 58655, 25898, 25905, 25906, 25923, 25927, 91470, 25937, 25940, 25946, 91483, 25947, 91485, 25952, 91488, 25959, 25962, 25963, 91500, 124273, 91529, 25996, 91535, 25999, 26002, 26003, 91542, 58783, 58803, 157108, 91571, 157110, 58806, 26038, 26048, 157122, 26052, 157130, 26059, 58826, 58839, 26073, 58842, 26078, 26082, 26084, 91622, 91628, 91630, 26095, 124404, 157172, 58870, 58876, 58879, 26116, 91653, 91658, 26122, 91660, 26124, 157200, 91666, 26131, 26133, 91671, 26142, 26147, 26150, 26151, 26152, 91688, 91690, 26158, 26159, 26169, 26171, 26172, 26176, 124484, 26183, 26184, 26195, 58964, 157270, 26198, 58972, 58975, 157296, 26225, 58998, 26231, 26236, 26237, 157312, 26242, 59014, 91784, 26249, 59018, 59016, 59022, 26258, 59026, 26265, 157340, 59037, 26283, 26285, 157369, 26303, 91842, 26308, 26313, 26317, 26322, 91860, 26326, 91869, 59103, 157407, 91873, 26340, 190183, 26344, 26347, 26350, 59118, 91890, 26357, 59126, 26359, 157432, 59129, 59131, 26365, 26366, 190207, 190209, 190213, 59141, 59143, 26375, 190215, 190219, 190221, 26386, 26391, 26394, 91935, 26399, 26401, 26409, 91947, 26413, 26422, 26429, 91974, 91976, 91978, 26444, 91981, 59220, 26453, 26464, 26467, 26471, 92008, 26472, 59258, 26492, 26498, 26504, 92046, 26510, 92048, 26523, 26524, 59295, 26528, 26527, 59306, 26539, 72694, 26542, 59315, 124851, 124853, 26547, 26554, 26555, 124859, 92094, 26562, 26564, 59333, 26567, 59336, 26578, 26585, 26587, 26590, 26593, 26599, 59369, 26603, 26606, 26612, 26614, 59387, 26622, 157699, 26629, 26630, 26631, 26645, 26649, 59421, 92192, 59429, 26662, 92198, 59440, 26676, 26680, 26681, 26686, 26693, 26694, 26695, 26696, 92234, 26700, 26701, 157775, 26704, 92243, 26712, 26713, 26717, 92259, 26726, 92264, 26729, 26732, 59501, 26736, 26741, 26743, 26745, 26750, 26761, 26764, 26765, 92309, 26776, 26777, 26778, 59549, 26782, 26791, 26792, 157865, 26796, 26797, 26810, 26812, 92348, 26819, 26828, 59604, 26838, 26840, 59615, 26849, 26854, 92391, 26861, 26865, 26870, 26871, 26875, 92420, 92422, 26887, 92427, 59667, 26900, 26901, 26903, 92439, 26913, 125221, 26928, 92475, 26940, 26947, 158022, 158027, 59725, 92494, 59727, 26958, 59731, 158035, 26965, 59738, 92507, 92509, 26974, 26985, 92535, 26999, 27002, 27003, 27006, 27008, 59784, 27020, 27022, 27032, 27036, 59810, 59814, 27074, 27075, 92637, 27105, 92643, 27124, 103085, 92665, 59900, 27134, 92674, 27140, 92681, 59915, 27155, 27156, 92694, 191005, 158238, 27176, 27178, 59947, 158254, 27186, 27193, 92730, 59985, 92760, 59995, 27246, 27251, 27255, 60030, 27266, 60037, 60040, 60046, 60069, 60072, 60074, 27306, 27311, 158388, 27317, 27320, 158398, 27328, 27329, 158402, 60126, 60128, 27368, 27369, 27370, 60141, 27373, 60161, 27397, 92938, 27408, 5448, 27416, 92954, 27420, 27426, 27434, 27441, 27450, 158528, 93006, 93008, 27473, 5461, 27478, 27480, 27482, 93022, 27491, 93040, 27513, 60289, 27523, 60291, 60293, 60303, 27537, 27539, 27549, 27555, 27563, 60333, 93114, 27584, 27592, 60363, 27595, 60365, 93134, 93139, 27604, 125914, 27611, 125916, 27618, 27619, 60389, 27627, 60397, 60408, 27644, 158721, 93193, 27660, 27664, 125970, 5499, 27667, 125974, 93208, 27674, 27683, 27685, 27689, 27692, 27695, 60471, 27704, 27705, 27706, 93242, 27708, 158783, 27716, 60487, 27721, 27722, 27728, 27731, 93270, 93272, 27741, 158813, 27744, 60514, 27746, 60516, 93287, 27751, 60522, 158830, 93297, 27762, 27768, 27769, 60538, 158842, 27772, 27773, 27776, 27778, 126088, 93320, 126090, 27784, 27788, 93326, 27790, 27793, 158872, 27801, 27802, 27803, 158874, 27808, 158882, 27815, 27816, 27820, 27821, 27822, 27826, 93363, 27829, 27830, 27831, 27834, 27837, 27838, 27839, 126142, 27846, 27850, 168358, 27865, 27866, 27869, 27873, 27878, 60647, 27879, 27882, 158956, 158966, 27899, 158972, 27904, 27905, 60674, 93443, 27912, 60684, 93502, 60735, 60737, 93510, 93512, 60753, 60756, 159061, 60760, 159069, 60766, 159077, 159093, 93563, 60803, 60818, 93598, 60832, 93610, 159161, 60857, 126420, 60885, 159193, 126426, 126430, 60894, 60904, 60937, 60941, 60943, 126482, 60950, 93721, 93723, 93740, 163937, 60979, 93766, 61011, 126548, 93790, 61024, 61026, 93805, 126577, 93819, 93831, 93838, 61071, 93840, 61073, 93855, 159403, 159415, 168456, 61123, 61132, 159441, 61160, 61167, 159510, 61210, 93980, 93982, 93988, 61236, 61240, 94011, 61246, 94015, 61248, 61250, 94018, 61255, 61257, 61262, 61289, 94070, 103366, 61319, 61323, 61348, 61350, 61352, 94122, 94130, 94150, 126921, 159690, 94160, 61394, 61401, 61406, 159717, 159755, 61465, 159779, 94262, 94266, 159811, 159817, 127052, 159849, 159858, 94323, 94325, 127096, 127098, 127108, 127114, 127116, 127130, 127132, 127134, 127136, 127146, 127152, 61628, 127164, 127172, 94405, 127180, 127184, 127194, 127198, 127202, 127204, 159976, 127212, 61692, 61697, 61705, 94478, 94494, 61729, 94503, 127298, 160080, 136024, 127319, 127323, 61818, 127390, 94661, 94677, 160271, 94735, 160289, 61986, 62008, 94777, 94780, 94799, 160341, 94810, 94833, 62081, 94864, 160400, 94867, 62113, 160422, 94896, 160438, 160440, 94919, 62155, 94931, 94953, 94959, 62208, 94985, 160527, 95004, 62250, 160563, 160565, 160567, 160569, 160571, 160573, 62293, 95067, 62299, 95088, 62336, 95105, 160644, 160646, 62344, 95135, 62374, 62376, 95145, 95147, 160684, 95149, 62383, 62394, 95163, 95165, 95167, 95170, 95175, 160718, 95182, 95193, 160730, 95199, 95201, 62434, 62437, 62439, 95207, 95218, 193565, 193567, 193571, 193573, 193579, 193581, 193583, 62511, 193585, 193587, 160836, 193609, 95307, 95309, 95311, 160848, 95313, 128087, 128089, 62553, 128097, 128099, 160872, 62586, 95377, 62644, 160954, 128197, 62662, 95441, 160978, 160980, 95449, 161008, 95473, 95475, 62718, 161024, 161032, 95497, 95499, 95508, 161044, 95510, 95519, 95543, 95558, 62792, 62799, 95583, 161127, 128360, 161131, 128366, 62834, 62836, 62849, 95624, 95633, 95654, 95690, 95717, 95720, 128488, 62956, 95738, 62970, 128512, 95744, 128520, 161290, 95761, 62999, 95771, 128542, 95780, 95796, 63033, 161354, 128592, 128594, 63062, 95839, 63072, 95843, 63082, 128620, 95858, 95873, 95875, 63113, 63131, 128695, 95939, 63179, 95949, 95965, 128736, 63222, 96004, 96007, 63239, 96020, 161580, 63276, 161582, 161594, 128832, 128838, 128842, 96079, 63312, 128852, 96084, 161634, 96110, 96114, 96121, 128900, 128902, 128908, 128914, 96150, 63393, 128944, 128968, 63433, 63436, 128975, 128991, 30707, 129011, 63479, 30745, 96281, 63515, 96283, 30749, 161830, 63540, 30793, 30803, 30810, 30812, 30816, 30818, 30820, 30822, 30825, 96373, 30846, 161918, 30848, 161922, 30850, 96411, 96417, 30883, 30890, 161966, 30894, 96432, 96430, 30898, 96448, 129229, 96471, 129250, 96488, 96518, 96520, 96530, 30994, 31000, 63768, 129313, 162082, 96563, 129333, 31030, 96567, 31038, 63808, 31049, 129354, 96588, 63826, 96606, 96608, 96610, 96616, 31083, 63853, 31086, 63859, 129397, 31101, 63876, 31114, 31116, 96655, 31123, 129428, 31150, 96691, 31162, 31184, 96726, 96728, 31193, 96737, 129514, 31221, 31223, 63992, 31225, 64010, 31260, 64030, 64032, 64034, 162344, 96811, 162350, 96815, 96821, 96829, 96832, 31297, 31309, 96861, 162414, 64114, 64116, 129657, 129659, 31364, 31367, 96917, 96935, 64167, 162478, 96945, 31410, 31420, 31422, 31424, 31427, 96964, 64197, 31431, 31433, 129737, 31435, 31437, 96975, 31445, 64231, 129779, 64249, 97024, 162578, 64278, 64285, 162590, 31522, 162598, 162600, 162602, 162606, 31545, 31553, 31590, 31610, 31617, 97168, 129937, 97172, 97188, 31658, 97194, 31660, 31664, 31685, 97225, 31692, 31694, 97230, 31696, 31698, 31700, 31702, 64497, 64499, 64501, 31737, 130050, 130052, 97285, 162828, 97304, 130073, 97306, 130083, 130087, 97328, 31804, 64575, 64614, 31851, 64620, 64622, 31867, 31878, 162968, 31903, 31909, 162982, 31921, 31923, 31925, 64695, 97470, 64716, 31952, 31973, 163056, 163072, 32009, 32011, 32017, 32019, 32022, 32029, 32031, 163112, 32058, 32060, 163134, 64839, 97643, 32116, 97665, 32139, 130444, 130450, 130452, 97701, 130482, 32179, 130490, 64957, 130498, 64969, 97742, 32213, 130518, 64983, 97752, 130520, 97757, 64993, 64997, 32234, 32243, 97785, 65037, 130576, 130578, 32289, 32291, 32294, 32296, 32298, 97836, 32300, 32302, 163386, 32314, 65088, 97858, 97860, 130634, 97866, 97870, 65126, 65130, 65133, 65135, 97904, 97913, 130686, 97921, 97923, 32387, 32392, 97936, 97938, 97950, 65188, 65193, 32440, 32442, 65216, 97988, 163527, 32456, 65225, 32460, 65230, 32469, 65261, 32511, 32515, 98061, 130840, 130842, 98083, 32554, 163639, 163645, 163653, 65350, 32582, 32584, 98122, 32587, 98124, 32589, 65359, 32596, 32598, 32600, 98154, 32620, 98160, 32632, 98175, 32649, 32657, 32659, 130970, 98203, 32666, 130976, 130978, 98230, 98239, 98243, 131013, 131023, 32728, 163809, 98279, 32743, 65514, 98296}\n"
     ]
    }
   ],
   "source": [
    "# Find unrated movieId\n",
    "# Use set operation\n",
    "# unrateddId = wholeId - ratedId\n",
    "unrated_movie_id = unique_movie_id.difference(rated_movie_id)\n",
    "print(unrated_movie_id)"
   ]
  },
  {
   "cell_type": "code",
   "execution_count": 84,
   "metadata": {
    "id": "ANRoxvc9ZqWc"
   },
   "outputs": [],
   "source": [
    "# Let's create a function\n",
    "def get_unrated_item(userid, rating_data):\n",
    "    \"\"\"\n",
    "    Get unrated item id from a user id\n",
    "\n",
    "    Parameters\n",
    "    ----------\n",
    "    userid : int\n",
    "        The user id\n",
    "\n",
    "    rating_data : pandas DataFrame\n",
    "        The rating data\n",
    "\n",
    "    Returns\n",
    "    -------\n",
    "    unrated_item_id : set\n",
    "        The unrated item id\n",
    "    \"\"\"\n",
    "    # Find the whole item id\n",
    "    unique_item_id = set(rating_data['movieId'])\n",
    "\n",
    "    # Find the item id that was rated by user id\n",
    "    rated_item_id = set(rating_data.loc[rating_data['userId']==userid, 'movieId'])\n",
    "\n",
    "    # Find the unrated item id\n",
    "    unrated_item_id = unique_item_id.difference(rated_item_id)\n",
    "\n",
    "    return unrated_item_id\n"
   ]
  },
  {
   "cell_type": "code",
   "execution_count": 85,
   "metadata": {
    "colab": {
     "base_uri": "https://localhost:8080/"
    },
    "id": "k5Pe3H1daWQt",
    "outputId": "fae3a702-818d-41b5-d2b6-f0deb785b83c"
   },
   "outputs": [
    {
     "name": "stdout",
     "output_type": "stream",
     "text": [
      "{1, 2, 3, 4, 5, 6, 7, 8, 9, 10, 11, 12, 13, 14, 15, 16, 17, 18, 19, 20, 21, 22, 23, 24, 25, 26, 27, 28, 29, 131098, 31, 32, 131104, 34, 30, 36, 32799, 38, 39, 40, 65577, 43, 44, 45, 46, 47, 48, 65585, 50, 49, 52, 53, 54, 55, 65588, 57, 58, 98361, 60, 61, 62, 65596, 64, 65, 66, 131130, 68, 69, 70, 71, 72, 73, 74, 75, 76, 77, 78, 79, 80, 81, 82, 83, 85, 86, 87, 88, 89, 163925, 92, 93, 94, 95, 65631, 97, 96, 99, 100, 101, 102, 103, 104, 105, 106, 107, 32875, 65642, 110, 111, 112, 113, 108, 65651, 116, 117, 118, 119, 121, 122, 123, 32892, 125, 126, 128, 129, 32898, 132, 135, 137, 32906, 140, 141, 163981, 144, 145, 146, 147, 65682, 148, 150, 151, 163985, 153, 154, 155, 156, 157, 158, 159, 160, 161, 162, 163, 164, 165, 131237, 166, 168, 169, 170, 171, 172, 173, 174, 175, 176, 177, 178, 179, 180, 181, 183, 184, 185, 186, 98491, 189, 190, 191, 188, 193, 194, 195, 196, 98499, 198, 199, 98503, 201, 65738, 203, 204, 205, 65740, 207, 208, 209, 210, 211, 212, 213, 214, 215, 216, 217, 218, 219, 42, 220, 222, 224, 225, 227, 228, 229, 230, 231, 232, 233, 234, 235, 236, 237, 33004, 239, 240, 238, 242, 243, 6560, 241, 246, 247, 248, 249, 250, 251, 252, 253, 254, 255, 256, 257, 258, 259, 260, 261, 262, 263, 265, 266, 267, 65802, 269, 270, 271, 272, 273, 274, 275, 276, 277, 65810, 279, 280, 281, 282, 98585, 283, 278, 284, 287, 288, 289, 290, 291, 292, 293, 294, 295, 296, 298, 299, 300, 98604, 302, 303, 304, 305, 306, 307, 308, 98607, 310, 311, 312, 313, 314, 315, 316, 317, 318, 319, 63, 321, 322, 33090, 324, 325, 326, 327, 328, 329, 330, 331, 332, 333, 334, 335, 336, 337, 338, 339, 340, 164179, 342, 343, 344, 345, 346, 347, 348, 349, 350, 351, 352, 353, 354, 355, 356, 357, 358, 359, 360, 361, 362, 33124, 364, 365, 366, 367, 368, 369, 370, 372, 131439, 374, 373, 376, 377, 378, 33145, 380, 381, 382, 383, 379, 385, 33154, 387, 164226, 384, 390, 391, 33158, 393, 33162, 388, 33164, 389, 33166, 98697, 33171, 405, 406, 407, 408, 409, 410, 131480, 412, 413, 414, 415, 416, 417, 418, 419, 420, 421, 422, 423, 424, 425, 426, 427, 428, 429, 430, 431, 432, 433, 434, 435, 436, 437, 33201, 438, 440, 441, 442, 164280, 444, 445, 65982, 446, 448, 449, 450, 451, 452, 453, 454, 455, 456, 457, 458, 459, 460, 461, 464, 466, 467, 468, 469, 470, 471, 472, 473, 474, 475, 476, 477, 478, 479, 480, 481, 482, 484, 485, 486, 487, 488, 489, 490, 491, 492, 493, 494, 98799, 496, 497, 495, 499, 500, 501, 502, 504, 505, 98809, 507, 508, 509, 510, 511, 512, 513, 514, 515, 516, 517, 518, 519, 520, 521, 522, 523, 524, 33294, 527, 528, 529, 164367, 531, 532, 533, 534, 535, 536, 537, 538, 539, 540, 541, 542, 543, 544, 131610, 546, 547, 548, 33312, 550, 551, 552, 553, 549, 555, 556, 66090, 558, 66097, 562, 563, 564, 567, 568, 569, 573, 574, 575, 577, 579, 580, 581, 583, 131656, 585, 586, 587, 588, 589, 590, 592, 593, 594, 595, 596, 597, 599, 600, 602, 98908, 605, 606, 608, 609, 610, 611, 612, 613, 615, 616, 617, 618, 619, 626, 628, 631, 632, 633, 634, 635, 66171, 637, 638, 639, 640, 636, 131714, 645, 647, 648, 649, 650, 131724, 653, 33421, 656, 98961, 661, 662, 663, 66198, 665, 667, 66203, 33437, 668, 671, 670, 673, 674, 131739, 33435, 131749, 678, 679, 680, 685, 688, 691, 692, 694, 695, 697, 698, 700, 99005, 164540, 99007, 704, 703, 706, 707, 708, 709, 710, 711, 66240, 714, 715, 718, 719, 720, 722, 724, 33493, 726, 33495, 728, 725, 131796, 33499, 731, 733, 99030, 735, 736, 737, 741, 742, 743, 745, 747, 748, 750, 149, 131826, 757, 759, 760, 761, 762, 66297, 764, 765, 766, 152, 773, 66310, 775, 778, 779, 780, 781, 782, 783, 784, 785, 786, 66320, 788, 99087, 33558, 791, 790, 795, 33564, 798, 799, 800, 801, 802, 66335, 804, 805, 99106, 164647, 808, 99112, 99114, 810, 809, 99117, 813, 164655, 818, 99122, 823, 824, 99130, 828, 829, 830, 832, 833, 835, 836, 837, 838, 839, 66371, 99145, 842, 840, 841, 99149, 33615, 848, 849, 131920, 851, 852, 858, 861, 131934, 33629, 866, 867, 164707, 869, 870, 33639, 875, 33644, 876, 33646, 879, 880, 881, 882, 33649, 885, 886, 99191, 888, 889, 891, 892, 33660, 893, 66427, 896, 897, 898, 899, 900, 901, 902, 903, 904, 33672, 906, 905, 908, 909, 910, 33679, 912, 913, 914, 911, 915, 916, 918, 919, 920, 921, 924, 917, 926, 927, 928, 929, 930, 931, 932, 933, 934, 935, 936, 937, 938, 940, 941, 942, 943, 944, 945, 946, 947, 948, 949, 950, 951, 952, 953, 954, 955, 956, 33725, 959, 961, 963, 965, 968, 969, 970, 971, 66509, 132046, 66511, 973, 976, 979, 981, 982, 984, 986, 987, 988, 990, 991, 993, 994, 996, 998, 999, 1003, 1004, 1005, 1006, 1007, 1008, 1009, 1010, 1011, 1012, 1013, 33781, 1015, 1016, 1014, 1018, 33779, 1020, 1021, 1022, 1023, 1024, 1025, 33794, 1027, 1028, 1029, 1030, 1031, 1032, 1033, 1034, 1035, 1036, 32770, 206, 1040, 1041, 1042, 1043, 164881, 1046, 1047, 33815, 1049, 1050, 1051, 1053, 1054, 1055, 1056, 1057, 33826, 1059, 1060, 1061, 33830, 1064, 1066, 33834, 33836, 164909, 33838, 1068, 1073, 1077, 1078, 1079, 1080, 1081, 1082, 1083, 1084, 132157, 1086, 132153, 1088, 1089, 1090, 1091, 1092, 1093, 1094, 1096, 1097, 1099, 1100, 1101, 1103, 1104, 1105, 1107, 1111, 33880, 99415, 1112, 1114, 1116, 1117, 1119, 1120, 1121, 1123, 1124, 1125, 1126, 1127, 33896, 1129, 66665, 1131, 1132, 99437, 1130, 1135, 1136, 1137, 33903, 1140, 1144, 1147, 1148, 1150, 1151, 1156, 1161, 1162, 1163, 1167, 1170, 1171, 1172, 1173, 1175, 1176, 1177, 1178, 1179, 1180, 1183, 1184, 1185, 1186, 1187, 1188, 1189, 1190, 1191, 1192, 1193, 1194, 1196, 1197, 1199, 1200, 1201, 1202, 1203, 1204, 33966, 1206, 1207, 1208, 1209, 1210, 1211, 1212, 1213, 1214, 1215, 1216, 1217, 1218, 1219, 1220, 1221, 1222, 1223, 1224, 1225, 1226, 1227, 1228, 99532, 1230, 1231, 1232, 1233, 1234, 1235, 1236, 1237, 1238, 165075, 1240, 1241, 1242, 1243, 1244, 1245, 1246, 1247, 1248, 1249, 1250, 1251, 1252, 1253, 1254, 1255, 1256, 1257, 1258, 1259, 1260, 1261, 66798, 1262, 1263, 1265, 1266, 1267, 1268, 1269, 1271, 1272, 1273, 1274, 1275, 1276, 1277, 1278, 1279, 34048, 1281, 1282, 1283, 1284, 1285, 1280, 1287, 1288, 1289, 1286, 1291, 1292, 1293, 1290, 1295, 1296, 1297, 1298, 1299, 1300, 1301, 1302, 1303, 1304, 34072, 1305, 1307, 1306, 1310, 1312, 1318, 1320, 1321, 1322, 1323, 1324, 1325, 1326, 1327, 1328, 1329, 1330, 1331, 99636, 1333, 1334, 1332, 1335, 1337, 1336, 1339, 1340, 1341, 1342, 1343, 1344, 1345, 1346, 1347, 1348, 1349, 1350, 132422, 132424, 1353, 1354, 1355, 1356, 1357, 1358, 1359, 1351, 1361, 34129, 1363, 1365, 1366, 1367, 1370, 1371, 1372, 1373, 1374, 1375, 1376, 1377, 1378, 1379, 1380, 1381, 34150, 1382, 34143, 1385, 34153, 1387, 1388, 1389, 1390, 1391, 1392, 1393, 1394, 34162, 1396, 1395, 66934, 1399, 34164, 1401, 1398, 1397, 1405, 1406, 1407, 1408, 1409, 66943, 1411, 1412, 1413, 1414, 1415, 1416, 1417, 132488, 1419, 99721, 1422, 1423, 99728, 1425, 132496, 1427, 1428, 1429, 1430, 1431, 1432, 1426, 285, 1437, 1438, 1439, 1440, 1441, 1442, 1445, 1446, 1447, 99750, 1449, 1453, 1454, 1456, 1457, 1458, 1459, 99764, 1461, 1460, 1464, 1465, 1466, 1468, 1473, 1474, 1475, 1476, 1477, 1479, 1480, 1483, 1484, 1485, 1487, 1488, 1489, 1490, 1493, 1495, 1496, 1497, 1498, 1499, 1500, 32862, 1502, 34271, 1503, 165343, 165347, 1507, 99813, 132584, 1513, 1514, 1515, 1516, 1517, 1518, 1519, 301, 34292, 1526, 1527, 1529, 1533, 1537, 1541, 1542, 99846, 1544, 1545, 34312, 1547, 1546, 99853, 1550, 34319, 1552, 1551, 67087, 1554, 1556, 34321, 34323, 34326, 1562, 34330, 1564, 34332, 1566, 34334, 34336, 1569, 34338, 1571, 1572, 1573, 1574, 1580, 1581, 1582, 1583, 1584, 1585, 1586, 1587, 1588, 132660, 1590, 1591, 1592, 1593, 1589, 1594, 1596, 1597, 1598, 1599, 1600, 1601, 1602, 1603, 1604, 1605, 1606, 99910, 1608, 1609, 1610, 1611, 320, 99917, 1614, 1615, 1616, 1617, 1612, 1619, 1620, 1621, 1613, 1623, 1624, 1625, 1626, 1627, 34397, 1629, 1631, 67168, 1633, 1635, 34405, 1639, 1641, 1642, 1643, 1644, 1645, 1646, 165483, 1648, 1649, 67186, 1647, 1650, 1653, 165489, 1655, 1656, 1652, 1658, 1659, 1660, 1661, 67197, 1663, 1662, 1665, 67193, 1667, 34437, 1670, 1671, 1672, 1673, 1675, 1676, 1677, 1678, 1679, 1680, 1681, 1682, 1683, 1684, 1685, 1686, 1687, 1688, 1689, 1690, 99992, 165529, 1693, 1694, 1695, 1696, 1699, 1701, 1702, 1703, 1704, 1707, 165549, 1711, 165551, 1713, 341, 1717, 1718, 1719, 67255, 1721, 1722, 132796, 1726, 1727, 132800, 1729, 1730, 67267, 1732, 1733, 1734, 1735, 1731, 1739, 100044, 1746, 1747, 1748, 34520, 1753, 1754, 1755, 1752, 34523, 1757, 67295, 1760, 34528, 1762, 34530, 34532, 100068, 34534, 1767, 34536, 1769, 1770, 1771, 1772, 34540, 34542, 32917, 1777, 1779, 100083, 1783, 1784, 1785, 1791, 1792, 1793, 1794, 165635, 1797, 1798, 1799, 165639, 1801, 100106, 1804, 1805, 1806, 165645, 1807, 1809, 1810, 1812, 1816, 132888, 1821, 1824, 67361, 1826, 1827, 363, 1829, 1825, 1831, 165671, 1833, 1834, 1835, 1836, 1837, 1839, 1840, 1841, 1844, 1845, 1848, 1855, 1856, 1857, 1858, 1859, 1860, 100163, 1862, 1863, 100159, 1866, 1867, 1870, 67408, 1873, 1875, 1876, 1881, 1882, 1883, 1884, 1885, 1887, 1888, 1889, 100194, 1891, 1892, 1893, 1894, 1895, 1897, 1900, 1902, 1904, 1906, 1907, 1909, 1910, 1911, 1912, 1913, 1914, 1916, 1917, 1918, 1919, 1920, 1921, 1922, 1923, 1924, 100226, 1926, 1927, 1928, 1929, 1931, 1932, 1933, 1934, 1936, 1937, 1938, 1939, 1940, 1941, 1942, 386, 1944, 1945, 1946, 1947, 1948, 1949, 1950, 1951, 1952, 1953, 1954, 1955, 1956, 1957, 1958, 1959, 1960, 1961, 1962, 1963, 1964, 1965, 1966, 1967, 1968, 1969, 1970, 1971, 1972, 1973, 1974, 1975, 1976, 67508, 100277, 1979, 1977, 1981, 1982, 1983, 1984, 1978, 1986, 1985, 1980, 1990, 1991, 1992, 1993, 1994, 1995, 1996, 1997, 67534, 1999, 2000, 2001, 2002, 2003, 2004, 2005, 2006, 165843, 2007, 2009, 2010, 2013, 2014, 2015, 2016, 2017, 2018, 2019, 2020, 2021, 2022, 2024, 2025, 2026, 2027, 2028, 100326, 2032, 2033, 2034, 2035, 2036, 2037, 2038, 34800, 2040, 2041, 2042, 2043, 2044, 133115, 2046, 34811, 2048, 2050, 2051, 2052, 2053, 2054, 2055, 2056, 2057, 2058, 2059, 2060, 2064, 2065, 2066, 2067, 2068, 2069, 2070, 2071, 2072, 2073, 2074, 2075, 2076, 2077, 2078, 100383, 2080, 2081, 2082, 2083, 67618, 2085, 100390, 2087, 2088, 2089, 2090, 2091, 2092, 2093, 2094, 2095, 2096, 2097, 2098, 2099, 2100, 100397, 2102, 2103, 2104, 2105, 2106, 165947, 2108, 2109, 2110, 2111, 2112, 2107, 2114, 2115, 2116, 2117, 2118, 165959, 2120, 2121, 2122, 2123, 2124, 2125, 2126, 2119, 133195, 165969, 2130, 2131, 2132, 2133, 2134, 2135, 2136, 2137, 2138, 2139, 2140, 2141, 2142, 2143, 2144, 2145, 2146, 133217, 2148, 2147, 2150, 2151, 2152, 2153, 2149, 2155, 2154, 2156, 2159, 2160, 2161, 67695, 2162, 2164, 2165, 2166, 2167, 2163, 2169, 2170, 2171, 2172, 2174, 166015, 2176, 2177, 2178, 2179, 2180, 2181, 2182, 2183, 2184, 166024, 2186, 100487, 2188, 2185, 2190, 2187, 6948, 2193, 2194, 2195, 100498, 2196, 67734, 2201, 2202, 2203, 2204, 100507, 2206, 2205, 2208, 133281, 2210, 2211, 2212, 2207, 100527, 2226, 2227, 2231, 2232, 2236, 2239, 2240, 2241, 2243, 2244, 2245, 2247, 2248, 2249, 100553, 35015, 2252, 2253, 67788, 2255, 100556, 2257, 2256, 2259, 2260, 2261, 2262, 2263, 67799, 2265, 2266, 2267, 2268, 2269, 2264, 2271, 2272, 2273, 2275, 100579, 2278, 2279, 2280, 2281, 2282, 2283, 2286, 2287, 2288, 2289, 2290, 2291, 2292, 133365, 2294, 2295, 2296, 2297, 2298, 2301, 2302, 2303, 2304, 133377, 2306, 100611, 2307, 2310, 2311, 2312, 2313, 2314, 2315, 2316, 2318, 2320, 2321, 2322, 2323, 2324, 2325, 2327, 2328, 2329, 2330, 2331, 2332, 2333, 2334, 2335, 2336, 2337, 2338, 2339, 2340, 2342, 166183, 2344, 2346, 133419, 2348, 2349, 2350, 2351, 2352, 2353, 2354, 2355, 2356, 2357, 2358, 2359, 2360, 67888, 2361, 2363, 2364, 166203, 2366, 2367, 2365, 2369, 2370, 2371, 2372, 2373, 2374, 2375, 2376, 2377, 2378, 2379, 2380, 2381, 2382, 2383, 2384, 2385, 2387, 67923, 2389, 2390, 2391, 2392, 2393, 2394, 2395, 2396, 2388, 2398, 2399, 2400, 2401, 2402, 2403, 2404, 2405, 2406, 2407, 2408, 2409, 2410, 2411, 2412, 2413, 2414, 100714, 2416, 2415, 2418, 2419, 2420, 2421, 2422, 2423, 2424, 2425, 2417, 2427, 2428, 2429, 2430, 2431, 2432, 2433, 100737, 2435, 2436, 2439, 2442, 2443, 2445, 2446, 2447, 2448, 2450, 166291, 2451, 2453, 2454, 2455, 2456, 2457, 2458, 2459, 2460, 67997, 2462, 2463, 2465, 2467, 2468, 2469, 2470, 2471, 2472, 2473, 2474, 2475, 2476, 2477, 2478, 133545, 2481, 2482, 2483, 2485, 2488, 2490, 2491, 2492, 2493, 2494, 2495, 2496, 2497, 2498, 2500, 2501, 2502, 2503, 2504, 2505, 100810, 2506, 2511, 2512, 2513, 2514, 2515, 2516, 2517, 2518, 2520, 2521, 2522, 2523, 2524, 2525, 2526, 2527, 2528, 2529, 2530, 2531, 2532, 2533, 2534, 2535, 68073, 2537, 2539, 100843, 2541, 2542, 2540, 2538, 2544, 2546, 506, 2548, 2549, 2550, 2551, 2552, 2553, 2554, 2555, 2557, 2558, 2559, 2560, 2561, 2563, 2565, 2566, 2567, 2568, 2570, 2571, 2572, 2573, 2574, 2575, 133645, 2577, 100882, 2579, 2580, 2581, 2582, 2583, 35347, 2585, 2586, 2587, 2589, 2590, 2593, 2594, 2596, 2597, 2598, 2599, 68135, 2600, 100906, 2605, 2606, 2607, 2609, 2611, 2612, 2613, 2614, 2615, 2616, 2617, 2618, 33085, 2620, 68157, 2622, 68159, 166461, 2625, 2624, 2623, 2628, 2629, 2630, 2632, 2633, 2634, 2639, 2640, 2641, 2642, 2643, 2644, 133712, 133716, 526, 2648, 2651, 166492, 2652, 2654, 2655, 2656, 2657, 68194, 2659, 2660, 2661, 2662, 2664, 2665, 2668, 68205, 2670, 2671, 2672, 2669, 2674, 2676, 2677, 2681, 2682, 2683, 2686, 2687, 2688, 166528, 2690, 2691, 2692, 2693, 2694, 166534, 2696, 2695, 2697, 2699, 2700, 2701, 68237, 2702, 133771, 2698, 2706, 2707, 133780, 2709, 2710, 2708, 2712, 2713, 133782, 2716, 2717, 2718, 2719, 2720, 101025, 2722, 2723, 2724, 166558, 2726, 133798, 2728, 2729, 2730, 2731, 2732, 2733, 2734, 2735, 2736, 133802, 68269, 2739, 2740, 2741, 2742, 2743, 2744, 2745, 2746, 2747, 2748, 2749, 2750, 2751, 2752, 7059, 2754, 2757, 7061, 2759, 133832, 2761, 2762, 2763, 2764, 2765, 2766, 7062, 101072, 2769, 2770, 2771, 2772, 101076, 101070, 2775, 2774, 101074, 2779, 2782, 68319, 2784, 101088, 2786, 2787, 2788, 2789, 2790, 2791, 2792, 2793, 2794, 166635, 2795, 2797, 2796, 133867, 2798, 2799, 2802, 166643, 2804, 2805, 2806, 2803, 2808, 133879, 101112, 2810, 2812, 2807, 68347, 2815, 2816, 2817, 2818, 2819, 2820, 2813, 68358, 2822, 2824, 2826, 2827, 2828, 2829, 33126, 2835, 2836, 2837, 101142, 2839, 2840, 2841, 2843, 2844, 2846, 2847, 2848, 2851, 2852, 33132, 2857, 2858, 2859, 2860, 2861, 2856, 2863, 2862, 166705, 2866, 2867, 2868, 2865, 2870, 2871, 2872, 2874, 2875, 2876, 2878, 2879, 2880, 2881, 2882, 2883, 2884, 2885, 2886, 33138, 2888, 2889, 2890, 2891, 2887, 2893, 2894, 2892, 2896, 2897, 2898, 2899, 2900, 2902, 2903, 2905, 2906, 2907, 2908, 68444, 2912, 2915, 2916, 2917, 2918, 2919, 2921, 2922, 2924, 2925, 2926, 2927, 2928, 2929, 2930, 2931, 134004, 2932, 2935, 2936, 33148, 2937, 2940, 2941, 2942, 2943, 2944, 68480, 2946, 2947, 2948, 2949, 2950, 2951, 2952, 2953, 68486, 134019, 2956, 134021, 2959, 2961, 2962, 2964, 2965, 2966, 2967, 2968, 134041, 2969, 2970, 2971, 2973, 2974, 2975, 2976, 2977, 2978, 101283, 2979, 2972, 2982, 2983, 2984, 2985, 2986, 2987, 2988, 2989, 2990, 2991, 2992, 2993, 68522, 2995, 2996, 2997, 3000, 68536, 3002, 3003, 3004, 3005, 3006, 3007, 3008, 3010, 3011, 3013, 3014, 3015, 3016, 3017, 68554, 3019, 3020, 3018, 3022, 134095, 3024, 3021, 7114, 3028, 3029, 3030, 3031, 3032, 3033, 3034, 3035, 3036, 134109, 3037, 3039, 3040, 3041, 35807, 3042, 3044, 3045, 3038, 3046, 3048, 3043, 3051, 3052, 3053, 3054, 3055, 3056, 3057, 134130, 101362, 3060, 3061, 3062, 3063, 3064, 68597, 3066, 3067, 35836, 3068, 3070, 3071, 3072, 68600, 3074, 3075, 3076, 3077, 3078, 3079, 3073, 3081, 3082, 3083, 3086, 3087, 3088, 3089, 3090, 3091, 134158, 3093, 3094, 3095, 3096, 3097, 3098, 134170, 3100, 3101, 3102, 3103, 3104, 3105, 3099, 3107, 3108, 3106, 166946, 101415, 134184, 3113, 3114, 3115, 3111, 3117, 3109, 3112, 3120, 68650, 101423, 68659, 3125, 3127, 3129, 3130, 3132, 3134, 3135, 3138, 33188, 3141, 3142, 134214, 3143, 3145, 3146, 3147, 3148, 3150, 3152, 3153, 3155, 3156, 3157, 3158, 3159, 3160, 3161, 3162, 3163, 3165, 3167, 3168, 3169, 3171, 3174, 3175, 3176, 3177, 3178, 167018, 3179, 3181, 3182, 134252, 134248, 3185, 3186, 3183, 3189, 3190, 35957, 3192, 3194, 167036, 3196, 3198, 3197, 3200, 3201, 3203, 3204, 3206, 3208, 3210, 3211, 3213, 3214, 3217, 3219, 101525, 3221, 3223, 3224, 3225, 101529, 101531, 167064, 3230, 3235, 3238, 3240, 3241, 3243, 3244, 3246, 3247, 3248, 3249, 3250, 3251, 3252, 3253, 3254, 3255, 68791, 3257, 3258, 68793, 3256, 3260, 3262, 3263, 3264, 3265, 3266, 3267, 3259, 3261, 3268, 3269, 3270, 3271, 3273, 3272, 3275, 3274, 3276, 101577, 3280, 3281, 3283, 3284, 3285, 3286, 3287, 3289, 3294, 3295, 134368, 3296, 3298, 3299, 3300, 3301, 3302, 68835, 3303, 3306, 3307, 3308, 101612, 3310, 68848, 3313, 3315, 3316, 3317, 134393, 3323, 3324, 3325, 3326, 3327, 3329, 3330, 3331, 3334, 68872, 3341, 3342, 3344, 3345, 3347, 3350, 68886, 3353, 3354, 3355, 3357, 3358, 3359, 3360, 3361, 3362, 3363, 3364, 3365, 3368, 3370, 3372, 3374, 3378, 3379, 3384, 3385, 3386, 3387, 3388, 3389, 3390, 3391, 3392, 3393, 3394, 3395, 3396, 3397, 3398, 68932, 3400, 3401, 3402, 3403, 3404, 3405, 3406, 3408, 3409, 3410, 68945, 3412, 3414, 3415, 68952, 3417, 68954, 3418, 3420, 3421, 3422, 68959, 3424, 3425, 3426, 3423, 3428, 3429, 3430, 3431, 3432, 3433, 3434, 3435, 3436, 101741, 3438, 3439, 3440, 3441, 101739, 134515, 3444, 3445, 3446, 3447, 3448, 3442, 3450, 3451, 3452, 3453, 3454, 134524, 134528, 3455, 167296, 3459, 3461, 3462, 101765, 3466, 3467, 3468, 3469, 3470, 3471, 3473, 3474, 3475, 3476, 3477, 3478, 3479, 3480, 3481, 3483, 3484, 3489, 3492, 3494, 3496, 3497, 3498, 3499, 3500, 3501, 3502, 3503, 3504, 3505, 3506, 3507, 3508, 36276, 3510, 3511, 3512, 3513, 3514, 3515, 3516, 3519, 3521, 36289, 3524, 3525, 3526, 3527, 3528, 3529, 167370, 3531, 69069, 3534, 3535, 3536, 3537, 3538, 3539, 167380, 3543, 3544, 3545, 3546, 3548, 3549, 3550, 3551, 3552, 3553, 3554, 3555, 3556, 3557, 3559, 101864, 3563, 3564, 3565, 3566, 3567, 3568, 3569, 3571, 3572, 3573, 3574, 3576, 3577, 3578, 3580, 3581, 69118, 101884, 3584, 69122, 3587, 3586, 3590, 3591, 3592, 3593, 3594, 36363, 3596, 3597, 69134, 3599, 3598, 69131, 3604, 69140, 3606, 3608, 3609, 3614, 3615, 3616, 3617, 3618, 3619, 3622, 3623, 3624, 3625, 3626, 3627, 3628, 3629, 36397, 3632, 3633, 36401, 3635, 3634, 3637, 3638, 3639, 3640, 3641, 3643, 3646, 3648, 3649, 3652, 3653, 3654, 3655, 101962, 3658, 3660, 3661, 3662, 3663, 3664, 3667, 3668, 101973, 3669, 3671, 3672, 3673, 3674, 3675, 69211, 3677, 3676, 3679, 3680, 3681, 3682, 3683, 3684, 3685, 3686, 3687, 3688, 3689, 3690, 3691, 3692, 3693, 3694, 3695, 3696, 3697, 3698, 3699, 167538, 3701, 3702, 3703, 3704, 3705, 3706, 3707, 3708, 102007, 3710, 3711, 3712, 3713, 134783, 69251, 3716, 3717, 3714, 3719, 3715, 102025, 3720, 3723, 3724, 3725, 3726, 3727, 3728, 3729, 3730, 102033, 3732, 3733, 3731, 134808, 3737, 3738, 69275, 3740, 3741, 69278, 3743, 3744, 3745, 3746, 3742, 3747, 36517, 36509, 3751, 36519, 3753, 3752, 3754, 3755, 36525, 3758, 36527, 102058, 36529, 3761, 3763, 3764, 36533, 3766, 36535, 69304, 3769, 3770, 3768, 69306, 3773, 3774, 134847, 3767, 134849, 3771, 102084, 134853, 3783, 3784, 3785, 3786, 134859, 3788, 134861, 65882, 3791, 3790, 3793, 167634, 3795, 3794, 3797, 3798, 3799, 3792, 3801, 3802, 3806, 3807, 3808, 3809, 3810, 3811, 3812, 134881, 3814, 3813, 3816, 102123, 3819, 3821, 102125, 3822, 3824, 3825, 3826, 3827, 3823, 3830, 3831, 3832, 3833, 3834, 3835, 3836, 3837, 3838, 3839, 3840, 3841, 3843, 3844, 3845, 3846, 3847, 3849, 3851, 3852, 3855, 3857, 69394, 3858, 3859, 3861, 3862, 3863, 3864, 3865, 102165, 167706, 3868, 3869, 69406, 3871, 3872, 3873, 3870, 3877, 3879, 3882, 3884, 3888, 3889, 102194, 167732, 3893, 3894, 3895, 3896, 3897, 3898, 3899, 69436, 3901, 3900, 167746, 3906, 3908, 3909, 3910, 3911, 3912, 102217, 3914, 3915, 3916, 3917, 3918, 3919, 69453, 3920, 3922, 3925, 3926, 3927, 3928, 3929, 3930, 167772, 69469, 3932, 3933, 3937, 3938, 3939, 36708, 3940, 3941, 3943, 3942, 69481, 3946, 3947, 3948, 3949, 3950, 167790, 3952, 3951, 3953, 3955, 3957, 3958, 3959, 69495, 3962, 3963, 3964, 3965, 3966, 3967, 3968, 3969, 3971, 3972, 3973, 3974, 102278, 3977, 3978, 3979, 3980, 3981, 69516, 3983, 3984, 3985, 3986, 3987, 3988, 69524, 3990, 69526, 3991, 69529, 3994, 3992, 3996, 3997, 3998, 3999, 3993, 4000, 4002, 4003, 4005, 4006, 4007, 4008, 4009, 4010, 4011, 4012, 167854, 4015, 4014, 4016, 4017, 4018, 4019, 4020, 4021, 4022, 4023, 4025, 4024, 4027, 4029, 4030, 4031, 4032, 4033, 4034, 4035, 4036, 4037, 102338, 4039, 4040, 4041, 4042, 4043, 803, 4046, 4047, 4051, 4052, 4053, 4054, 4055, 4056, 806, 135133, 4062, 4063, 4061, 135137, 4066, 4067, 4068, 4069, 69606, 135143, 4064, 4065, 4074, 102378, 69604, 4077, 4078, 4079, 4080, 4081, 4082, 4083, 4084, 4085, 4086, 36850, 4089, 4090, 4091, 4092, 4093, 4102, 102407, 69640, 4104, 4105, 4103, 69644, 4109, 4110, 4111, 4113, 4115, 4116, 4117, 69654, 4121, 4123, 4124, 4125, 4126, 4127, 4128, 4129, 4130, 4132, 4133, 135198, 4135, 4138, 4139, 102445, 4141, 4142, 4144, 4143, 4146, 4147, 4148, 4149, 69685, 135216, 4152, 4153, 4154, 4155, 4156, 4157, 4158, 4159, 4160, 4161, 36931, 4164, 4166, 4167, 4168, 4171, 4174, 4175, 69712, 102481, 4178, 4180, 4181, 69720, 4184, 168026, 4187, 4189, 4190, 4191, 4193, 4195, 4197, 4198, 4200, 4202, 4203, 4204, 4205, 4207, 4210, 4211, 69746, 4212, 4214, 4215, 135288, 4217, 4218, 4219, 4220, 69757, 4221, 4223, 4224, 4225, 4226, 4228, 4229, 4231, 4232, 4233, 4234, 4235, 4236, 4237, 4238, 4239, 4240, 4241, 4242, 4243, 4246, 4247, 69784, 4248, 168090, 4251, 4252, 4254, 4255, 4256, 4259, 4260, 4262, 4263, 4265, 4267, 4268, 69805, 4270, 4273, 4275, 4276, 4278, 4280, 4282, 4284, 4285, 102590, 4289, 4290, 4291, 4292, 4293, 4294, 4296, 4297, 102602, 4299, 4300, 4298, 4304, 168144, 4306, 4305, 4308, 69844, 4310, 4307, 4312, 69849, 4313, 4316, 4317, 4321, 4322, 4323, 69860, 4325, 4326, 4327, 4329, 4333, 4334, 168174, 4337, 4338, 4339, 4340, 4342, 4343, 4344, 4345, 4347, 4349, 4350, 4351, 4353, 4354, 4355, 4356, 4357, 4359, 4361, 102666, 135436, 4366, 4367, 69904, 4369, 4370, 4368, 4372, 4373, 4371, 4374, 4378, 168218, 4380, 4381, 102686, 4383, 135456, 102684, 4386, 4387, 4388, 4389, 4384, 4390, 4392, 4393, 4394, 4395, 4396, 4397, 4399, 4402, 4403, 4404, 4406, 4407, 168248, 4408, 168250, 4409, 168252, 102716, 168254, 69951, 102720, 4412, 69953, 4419, 4420, 4422, 4424, 168266, 4427, 4426, 4429, 4428, 102735, 4432, 4433, 4434, 4436, 4437, 4438, 4439, 4440, 102742, 4442, 102747, 4443, 4444, 4446, 4447, 135518, 4449, 4448, 4450, 69988, 4452, 4451, 4453, 4454, 102760, 4458, 4459, 135532, 4462, 4463, 135536, 4464, 4466, 4465, 4467, 135534, 4470, 4471, 37240, 4473, 4474, 4475, 4476, 4477, 4478, 70015, 4480, 4482, 4483, 4484, 168326, 4487, 4488, 4489, 4490, 4492, 135567, 4496, 135569, 4498, 4499, 4500, 4495, 4502, 102800, 4504, 4505, 4506, 102802, 4508, 4509, 168350, 4511, 102819, 4516, 4517, 4518, 4519, 4520, 102823, 4522, 4523, 4524, 4521, 168366, 4527, 4526, 4529, 4531, 4533, 4534, 4535, 4537, 4541, 4544, 4545, 4546, 102852, 4552, 4553, 4557, 4562, 4563, 4564, 4565, 907, 4568, 4571, 4572, 4573, 4574, 102880, 4577, 168418, 4578, 4580, 4581, 4583, 4584, 4585, 4587, 4589, 4591, 4593, 4594, 4595, 4597, 102903, 4599, 4600, 4602, 4603, 4605, 4608, 4610, 4611, 37380, 4613, 37382, 4612, 4616, 37384, 37386, 4619, 4614, 4621, 4622, 4623, 4624, 70159, 4626, 4625, 4628, 4629, 4630, 4632, 4634, 4635, 4636, 4638, 4639, 4640, 4641, 4642, 4643, 4644, 4645, 4646, 70183, 4649, 168492, 4653, 4654, 4658, 4660, 4661, 4662, 4663, 4666, 4670, 4671, 4672, 4673, 70206, 4675, 37444, 4677, 4678, 4679, 102984, 4681, 4676, 4683, 98623, 4686, 4687, 4688, 102993, 4690, 4689, 4695, 4697, 4699, 4700, 4701, 4703, 4704, 135777, 4705, 37475, 4708, 37477, 4709, 4711, 4710, 4713, 4714, 4715, 135787, 4717, 4718, 4719, 4720, 4721, 4722, 4723, 103027, 4725, 4727, 4728, 37495, 98633, 135803, 4732, 4733, 4734, 4735, 4736, 103042, 4738, 4740, 4741, 4743, 4744, 103048, 4745, 135815, 4748, 4749, 70286, 4750, 4754, 4756, 70293, 4757, 4759, 4765, 70301, 4766, 168608, 70305, 4770, 103075, 4772, 4773, 4774, 4771, 4776, 37545, 168612, 4777, 4780, 4775, 4782, 4783, 4784, 4785, 4786, 4787, 4788, 135861, 4789, 168632, 4792, 4794, 4795, 4796, 70334, 4799, 70336, 4800, 4802, 4803, 103107, 4798, 4801, 4804, 4808, 4809, 4810, 4811, 4812, 4813, 4814, 135887, 4816, 4815, 4818, 135885, 4821, 4822, 4823, 70361, 4826, 4825, 4827, 4828, 4830, 4831, 103137, 4833, 4835, 4836, 103141, 72603, 4840, 4844, 4845, 4846, 4847, 4848, 4849, 4850, 4852, 4855, 4857, 4860, 4862, 4863, 4864, 4865, 135937, 103171, 4866, 4867, 4871, 168712, 4873, 4874, 4876, 4877, 4878, 4879, 4880, 4881, 4883, 4885, 4886, 4887, 4888, 4889, 4890, 4893, 4896, 4898, 4899, 4900, 4901, 4902, 4903, 103210, 4909, 4911, 4912, 4914, 4915, 4916, 4917, 70451, 4919, 4920, 4921, 103221, 103219, 103228, 4925, 4926, 4927, 4928, 4929, 103233, 103235, 4932, 4936, 4939, 136012, 4941, 4942, 103245, 136016, 103249, 136018, 4945, 136020, 103253, 4946, 4951, 37720, 4947, 4954, 4953, 70492, 4957, 4958, 37727, 4959, 37729, 4956, 4963, 37731, 37733, 4964, 4967, 4966, 4969, 37736, 37739, 4971, 37741, 4973, 4974, 4975, 4976, 4978, 4979, 4980, 4981, 4977, 70521, 4985, 4987, 4988, 4989, 4990, 4991, 4992, 4994, 4995, 70533, 4998, 5004, 168846, 5007, 5008, 5009, 5010, 5011, 70545, 5013, 5014, 5015, 5016, 5012, 5021, 5023, 5025, 5026, 5027, 5028, 70565, 103335, 5033, 5034, 103339, 103341, 5039, 5040, 5041, 5046, 5047, 5048, 5049, 5051, 5053, 5054, 5055, 5059, 5060, 37830, 70599, 5064, 5065, 5066, 5062, 103372, 5068, 5063, 5071, 5072, 5073, 5074, 5075, 5076, 5077, 5069, 37844, 103384, 5080, 5081, 5083, 37853, 202, 5088, 37857, 5092, 5093, 5094, 5095, 5096, 5099, 70637, 5102, 5103, 70641, 5106, 5107, 5108, 5109, 5110, 5105, 5112, 5113, 5114, 5111, 5116, 1017, 5120, 5121, 1019, 5127, 5128, 70663, 5131, 5134, 5135, 5136, 5137, 5139, 103449, 5146, 5147, 5151, 5152, 70687, 5155, 5156, 5159, 70697, 5165, 70703, 5168, 5170, 5171, 70708, 5177, 5178, 103483, 5181, 5187, 5189, 70728, 169034, 5197, 103502, 5198, 5202, 5205, 5209, 5212, 5213, 5214, 5219, 5220, 5221, 5222, 5224, 5225, 5226, 136297, 5231, 136305, 103539, 5237, 5238, 103543, 5240, 5241, 5239, 5244, 5246, 5247, 5248, 5250, 5254, 5255, 5256, 5258, 5264, 5265, 5266, 5267, 5268, 136341, 38038, 5269, 5272, 5275, 5278, 5279, 136353, 5282, 5283, 136355, 5284, 5285, 136359, 5288, 5291, 5292, 38061, 5293, 5294, 5296, 103596, 103602, 5299, 5300, 5298, 103606, 5303, 5304, 5297, 103609, 5307, 5308, 5309, 5311, 5312, 5313, 5316, 5319, 103624, 5321, 5322, 5323, 5324, 5325, 70862, 38095, 5328, 5329, 5333, 5334, 5337, 5338, 5339, 169180, 5341, 5345, 5346, 5347, 5348, 5349, 103655, 5353, 5356, 5357, 5358, 5361, 5363, 5364, 5365, 136443, 5372, 5373, 136445, 136447, 5375, 5377, 5379, 5380, 136449, 5382, 103685, 103688, 5385, 5384, 5387, 5388, 5389, 5390, 38159, 5391, 38164, 5397, 5398, 136471, 5400, 5401, 136469, 70932, 5404, 5409, 70946, 5410, 5414, 5415, 5416, 5417, 5418, 5419, 5420, 5421, 5422, 5423, 5424, 5425, 5427, 5428, 38198, 136503, 5433, 5434, 5435, 5437, 5438, 136511, 5440, 5442, 5443, 5444, 5446, 70984, 5449, 5450, 5452, 103755, 70990, 5454, 5456, 5455, 5458, 5459, 5460, 1085, 70994, 5463, 5464, 5462, 5466, 5465, 103772, 5468, 5470, 136540, 5472, 5471, 5475, 5476, 5477, 5478, 5479, 5480, 137859, 5483, 136556, 5485, 5486, 5489, 136562, 5490, 136564, 5493, 103801, 71033, 5498, 5500, 5501, 5502, 5497, 5504, 5505, 103810, 5508, 5506, 5503, 5512, 5513, 103819, 5515, 71057, 5522, 5523, 5524, 5521, 136598, 5527, 5528, 5529, 5530, 38294, 5531, 5532, 5525, 136602, 38304, 5537, 5538, 5539, 5540, 5541, 5543, 5544, 5548, 5550, 5553, 5556, 33669, 5560, 103865, 5562, 5563, 5564, 5568, 5569, 71106, 5570, 71108, 5572, 5574, 5573, 5575, 5577, 103883, 5580, 5581, 5582, 136654, 5584, 5585, 5588, 5589, 5590, 5591, 136664, 71129, 136666, 71131, 5596, 5597, 33677, 71135, 5601, 5602, 5603, 5604, 5607, 5608, 5609, 5610, 5611, 5612, 71147, 5613, 5615, 5614, 5617, 5618, 5619, 38388, 5620, 71156, 5621, 33681, 5625, 71160, 33683, 5628, 5630, 5629, 5632, 5633, 5635, 5636, 5637, 5638, 5640, 5643, 5644, 5646, 5649, 5650, 5651, 5657, 5663, 5664, 5665, 5666, 5667, 5668, 5669, 71205, 5670, 5672, 5673, 71211, 103980, 1128, 5678, 5679, 103984, 5680, 5682, 5675, 5684, 5685, 5688, 5689, 5690, 5693, 5694, 5696, 5699, 5700, 5704, 5706, 5707, 136778, 5710, 5712, 71248, 136786, 104017, 71252, 71254, 5720, 5723, 71264, 136800, 71268, 5733, 5735, 5736, 5741, 5742, 136816, 5745, 5746, 5747, 71282, 5749, 98836, 5752, 5755, 136834, 5764, 104069, 71302, 136838, 71304, 136840, 104074, 5771, 5772, 104076, 104078, 5773, 5767, 5768, 136850, 5779, 5780, 5782, 5784, 5785, 5786, 5787, 5788, 136859, 5791, 136864, 5792, 71327, 5796, 5797, 5799, 5801, 5802, 5803, 5804, 71341, 5809, 5810, 5812, 38583, 5816, 5817, 5818, 5820, 104129, 5826, 5828, 5829, 169670, 5833, 5836, 104141, 5838, 5839, 136912, 5840, 71379, 5847, 5849, 5853, 5856, 5863, 5867, 5873, 5874, 5875, 5876, 5878, 5879, 5880, 5881, 5882, 5883, 5884, 136958, 5888, 5889, 71429, 5896, 5899, 5900, 5901, 5903, 71438, 104211, 5909, 5912, 104218, 5915, 71453, 5919, 5922, 5925, 71462, 5927, 71464, 5929, 71466, 5932, 71468, 104241, 5938, 104243, 5941, 5942, 5943, 5944, 5945, 104245, 5947, 71484, 5949, 5951, 5953, 5954, 5955, 5957, 71494, 5959, 5961, 5963, 71500, 104272, 5969, 5970, 5971, 5968, 5974, 5975, 104283, 5980, 5979, 71518, 71520, 5984, 5986, 5989, 5990, 5991, 5992, 5993, 71530, 5995, 5994, 71535, 5999, 6002, 6003, 104303, 6005, 6006, 6009, 6012, 6013, 6014, 71550, 6016, 6020, 6021, 6022, 6023, 6025, 6027, 6030, 38798, 6031, 6033, 104337, 104339, 6035, 6036, 6039, 6040, 6041, 6042, 71579, 6049, 6051, 6055, 6057, 6058, 6059, 6060, 6062, 6063, 6064, 169904, 6067, 104374, 6070, 169912, 6078, 71619, 6086, 6090, 6093, 6095, 6100, 6101, 6104, 71640, 6107, 6111, 104419, 6116, 38886, 6119, 169958, 6122, 6123, 6124, 6125, 71668, 6140, 6141, 169982, 6143, 169984, 6145, 137218, 6148, 169992, 6153, 104457, 6155, 6156, 6157, 6158, 6159, 6162, 6163, 6166, 6169, 6170, 6178, 6181, 6182, 6183, 6184, 6185, 6186, 6187, 6188, 6192, 6193, 6195, 6196, 6197, 71732, 6201, 6202, 6203, 6204, 71745, 6210, 6212, 6213, 6214, 6215, 6216, 6217, 6218, 6219, 6220, 6222, 6223, 38992, 6225, 33801, 6228, 6232, 6234, 6235, 6237, 6238, 6239, 6241, 6242, 6244, 6245, 6246, 6249, 6250, 6251, 6252, 6254, 6263, 6264, 137337, 6266, 6265, 6268, 6269, 6270, 6271, 6267, 6273, 71810, 137345, 6279, 6280, 6281, 6283, 6285, 6286, 6287, 6288, 71823, 6290, 6291, 6289, 6294, 6295, 6296, 6297, 6298, 6299, 6300, 6301, 71838, 6303, 6302, 6305, 6306, 6308, 6310, 6313, 6314, 6315, 6316, 6319, 6320, 6322, 6323, 6324, 6327, 6329, 6330, 6331, 6332, 6333, 6334, 6335, 71867, 6337, 6338, 6339, 104644, 6341, 6336, 6342, 6344, 6345, 6347, 6348, 6349, 6350, 6357, 6358, 1264, 71899, 6365, 71902, 6367, 6368, 6370, 6371, 6373, 6374, 6375, 6376, 6377, 6378, 6379, 6380, 71910, 6382, 6383, 6385, 6386, 6387, 6390, 6395, 6400, 6402, 6405, 6407, 6408, 6410, 6412, 39183, 6415, 6417, 6422, 6424, 6425, 6427, 6428, 6429, 6433, 71970, 6434, 6436, 6440, 6442, 137517, 6448, 170289, 6449, 6452, 6453, 6454, 104760, 170297, 6460, 6461, 39231, 6464, 71999, 39234, 6465, 6466, 72011, 104780, 6476, 6477, 6480, 6482, 6483, 6484, 6493, 6502, 6503, 6506, 6509, 6510, 6514, 170355, 6515, 170357, 6517, 6516, 137595, 39292, 6523, 6527, 6528, 6530, 6533, 6534, 6535, 6536, 104841, 6537, 6539, 39307, 6541, 6538, 6542, 6545, 6547, 6548, 6549, 6550, 6551, 6552, 6553, 6554, 6557, 6558, 104863, 170399, 170401, 6559, 6561, 6564, 6565, 6566, 6567, 72104, 6568, 6563, 104875, 170411, 6571, 6572, 104879, 6574, 6577, 6573, 6579, 6578, 6581, 6582, 6583, 6584, 6586, 6587, 6588, 6591, 6592, 72129, 6593, 6595, 6596, 6597, 6598, 104906, 6603, 6604, 104908, 72142, 104913, 6609, 6611, 6612, 39381, 6614, 6615, 6616, 6617, 6618, 6619, 6620, 104925, 6624, 6625, 6628, 6629, 72165, 72167, 39400, 6631, 72171, 6636, 6638, 6639, 104944, 72178, 6643, 131578, 6645, 39414, 6644, 6650, 6654, 6656, 6658, 6659, 39427, 6660, 6662, 6663, 6664, 6665, 6666, 39435, 6667, 6669, 6670, 6671, 39444, 39446, 6678, 6679, 39449, 6684, 33893, 6686, 6687, 6688, 6689, 72226, 72224, 6692, 6691, 6695, 6696, 6699, 6702, 6705, 6706, 6707, 6708, 6709, 6710, 6711, 170551, 6713, 6715, 105020, 6718, 6720, 6721, 6722, 6723, 6724, 6731, 6732, 105037, 6734, 6744, 6746, 6748, 39516, 6750, 6751, 6752, 6753, 6754, 6755, 170597, 72294, 6760, 6763, 6764, 6765, 6768, 6769, 6770, 6772, 6773, 6774, 6775, 6776, 6777, 72308, 6780, 6782, 6783, 137857, 6786, 6787, 6785, 6788, 6790, 6791, 137863, 6793, 72330, 6794, 6796, 6797, 6798, 6800, 1352, 6804, 6803, 6807, 6808, 6809, 6810, 6811, 6812, 6814, 6816, 6817, 6818, 105121, 72356, 6820, 6821, 6827, 6832, 6835, 6836, 6837, 72378, 6850, 6851, 6852, 6853, 6856, 6857, 6858, 72395, 170697, 6860, 6862, 6863, 170705, 6867, 6868, 72405, 6870, 72407, 6872, 6873, 6874, 6869, 6879, 6880, 6881, 6882, 6883, 6884, 6885, 6886, 6887, 6888, 6889, 6890, 72424, 6893, 105197, 6898, 6899, 6902, 105211, 105213, 6909, 6911, 6912, 6918, 6920, 6927, 164200, 6932, 6934, 6935, 6936, 170777, 6938, 6939, 6942, 105246, 6944, 6945, 105250, 39715, 6947, 6946, 6949, 6950, 6952, 6953, 72489, 6951, 105254, 6957, 6958, 6959, 6954, 6789, 6962, 6963, 138036, 6965, 6966, 6967, 6961, 6969, 6970, 6971, 170813, 6974, 6975, 6973, 170817, 6978, 6979, 6981, 6982, 6983, 6984, 6985, 6986, 170827, 6987, 6989, 6990, 6992, 6993, 6994, 6996, 6997, 170837, 6999, 7000, 7001, 6998, 7004, 7005, 7007, 7008, 7009, 7010, 7012, 7013, 7015, 7016, 7017, 7018, 7019, 72554, 105325, 7022, 7023, 7024, 7025, 7026, 7027, 7028, 7030, 7031, 7032, 7033, 7034, 170875, 7036, 39801, 7038, 7037, 7040, 7041, 7044, 7045, 7046, 105351, 7048, 7049, 7050, 105355, 7051, 7052, 7054, 72591, 7056, 170897, 7053, 7055, 7060, 7057, 7058, 7063, 7064, 7065, 72601, 7067, 170907, 7069, 72605, 7071, 7072, 7070, 7073, 7074, 7076, 7075, 7078, 7079, 7080, 7082, 7083, 7084, 7085, 7086, 7087, 72624, 7089, 7090, 7088, 7091, 7092, 7093, 7096, 170937, 7099, 170939, 39869, 7102, 7103, 7104, 72641, 7101, 7107, 170945, 7108, 7109, 138186, 7115, 7116, 170957, 7118, 7117, 66544, 7121, 7122, 7123, 7124, 7125, 7127, 7131, 7132, 138204, 7134, 138208, 7137, 138210, 7139, 7141, 7142, 7143, 7147, 7149, 7150, 7151, 7153, 7154, 7155, 7156, 72692, 7158, 170993, 7160, 7161, 7162, 7163, 7164, 72701, 72696, 7165, 7167, 7169, 105468, 171011, 7171, 7173, 7175, 7176, 7177, 72714, 7178, 7179, 7181, 171023, 72720, 7184, 7190, 7191, 7192, 7193, 72731, 72733, 105504, 72737, 7202, 7205, 7206, 7208, 7209, 7211, 7212, 7215, 7216, 7217, 7218, 7219, 7222, 7223, 7225, 7228, 7234, 7235, 105540, 7236, 7238, 7243, 7245, 7247, 7248, 7251, 7254, 7255, 7256, 7257, 7258, 7259, 7260, 7261, 7262, 7263, 7264, 7265, 7266, 105585, 7282, 7285, 105593, 7292, 7293, 7294, 7297, 7299, 7301, 7302, 7303, 7304, 7305, 7306, 7307, 7308, 7310, 7311, 7312, 34018, 7315, 7316, 7317, 7318, 7319, 7320, 7321, 7323, 7324, 7325, 138396, 7327, 7328, 7326, 7333, 7335, 7336, 72874, 7340, 7344, 7345, 7346, 7347, 7348, 105653, 7349, 7352, 7354, 7357, 7360, 7361, 7362, 7364, 7366, 7367, 7368, 7369, 7371, 7372, 7373, 7375, 7376, 7377, 7379, 7380, 7381, 40148, 7382, 72919, 72921, 7386, 7387, 7390, 7394, 7395, 7396, 7411, 171251, 7414, 105720, 7419, 105731, 7438, 7439, 7440, 105746, 7443, 7444, 7445, 72982, 7448, 7449, 7450, 7451, 105755, 7454, 7455, 7457, 7458, 7459, 7460, 72998, 138546, 7477, 73015, 7479, 73017, 7482, 7481, 7486, 73023, 7487, 7492, 7493, 105801, 73042, 40278, 105835, 138610, 105844, 7541, 7560, 7561, 7562, 138632, 7564, 7566, 7569, 7570, 73106, 40339, 7573, 7572, 7579, 7581, 7584, 7587, 7614, 7615, 7616, 7618, 7619, 7620, 7624, 73160, 138702, 7636, 40412, 40414, 7647, 7646, 7649, 105954, 7650, 171495, 7657, 7669, 73211, 106002, 7698, 7700, 7701, 7702, 7704, 7705, 7706, 7707, 7708, 40478, 7713, 7714, 7716, 7720, 40491, 138798, 7727, 7728, 73266, 7730, 73268, 7742, 7743, 7745, 7748, 7749, 7753, 73290, 7756, 7757, 106062, 7762, 138835, 7766, 7767, 106072, 7772, 7773, 7781, 7782, 73319, 73321, 7786, 73323, 7789, 171631, 1549, 106100, 7802, 73344, 7810, 7811, 7812, 40581, 164375, 40583, 7815, 40578, 7820, 7822, 7826, 40597, 7831, 7832, 7833, 7834, 7835, 7839, 106144, 7841, 7842, 7843, 7844, 7845, 7846, 40614, 7840, 40617, 73386, 171695, 40629, 171701, 1565, 7879, 7882, 7883, 7884, 7888, 7889, 7891, 7894, 73431, 138966, 7895, 7896, 7899, 7900, 171749, 171751, 7916, 171759, 7920, 171763, 7924, 171765, 7926, 7925, 40697, 7930, 7932, 7934, 7936, 7937, 7938, 7939, 7940, 7943, 7944, 7951, 73488, 40723, 73499, 40732, 73501, 34148, 171811, 7976, 73515, 7980, 7981, 7982, 7983, 7979, 139052, 7986, 7987, 7988, 7984, 7991, 7993, 8008, 8010, 8011, 8012, 8014, 8015, 8016, 8019, 8024, 8025, 106330, 171867, 8033, 73569, 8035, 8042, 8043, 8044, 8045, 40815, 40819, 171891, 8057, 40826, 139130, 171917, 40851, 139157, 8092, 8093, 8094, 40870, 8117, 8118, 8119, 8121, 8125, 66744, 8126, 8128, 8131, 8132, 106438, 8136, 106441, 8138, 8137, 73676, 8142, 8143, 73681, 8147, 8153, 8154, 8157, 8158, 8167, 8169, 172013, 40946, 8183, 106487, 106489, 106491, 40955, 8188, 8190, 40959, 8191, 8189, 40962, 8195, 8196, 8197, 40966, 8199, 73741, 8207, 8225, 8228, 8232, 8235, 106540, 8236, 8238, 8239, 106542, 8241, 41014, 8253, 8254, 8261, 8264, 8266, 8268, 73804, 8270, 73808, 8275, 73822, 106594, 8290, 8293, 8302, 139385, 73854, 73858, 66783, 1654, 8327, 8331, 66785, 8335, 8336, 8337, 106642, 8338, 8340, 8341, 73876, 139415, 106648, 73881, 8360, 8361, 8362, 8363, 8364, 8366, 8368, 8369, 8370, 8371, 8372, 8373, 172215, 8376, 8375, 8378, 8379, 8380, 8382, 8383, 8385, 8387, 172229, 8391, 106696, 73929, 172233, 8402, 8405, 8410, 172253, 8424, 8425, 8426, 8427, 139511, 8446, 8447, 8450, 8451, 8454, 8456, 8458, 8459, 8461, 106766, 8462, 8464, 8463, 8465, 8477, 106782, 172321, 106785, 8481, 8484, 8482, 8487, 8491, 8492, 8493, 8494, 8495, 8500, 8501, 8502, 8506, 8507, 8511, 8512, 41285, 8518, 8521, 8526, 8528, 8529, 8530, 8531, 8532, 8533, 8534, 106839, 8535, 74075, 8542, 74089, 74095, 139640, 106873, 139642, 8571, 139644, 8574, 8575, 8577, 8578, 106883, 8580, 8581, 8582, 139655, 106889, 8587, 8588, 8591, 8593, 8596, 8600, 8601, 8604, 8605, 8607, 8609, 8610, 8611, 106916, 106918, 8614, 106920, 8617, 74154, 8620, 172461, 8622, 8623, 106927, 8626, 8632, 8633, 8636, 8638, 8640, 8641, 8643, 8644, 139717, 8645, 8650, 8656, 172497, 8665, 8666, 8667, 8670, 139747, 8677, 8684, 8685, 74226, 8690, 74228, 8695, 172547, 107013, 8711, 8712, 8713, 8714, 8718, 8720, 8724, 8727, 8730, 172577, 8738, 74275, 172583, 8743, 172585, 74282, 172587, 8748, 172589, 172591, 8753, 8754, 8755, 41527, 107069, 8771, 8772, 8773, 8774, 8778, 8781, 8782, 8783, 8784, 139855, 139857, 139859, 74324, 8795, 8796, 172637, 8798, 41566, 8799, 41569, 8800, 41571, 8804, 41573, 74342, 8807, 8808, 8809, 8810, 8813, 8814, 8815, 8827, 32914, 8830, 8831, 8832, 8833, 74370, 8835, 8836, 107141, 8838, 8840, 139915, 8844, 8848, 41617, 1759, 107159, 41627, 8860, 8861, 8864, 8865, 8866, 172705, 8869, 8870, 8873, 8874, 8875, 8879, 8880, 8894, 8905, 8906, 8907, 8908, 8910, 8911, 8912, 74450, 8914, 8916, 8917, 8918, 74452, 8915, 8919, 74458, 139994, 8920, 8921, 8928, 8933, 8934, 8937, 8938, 8939, 8943, 140016, 41712, 8946, 8947, 8948, 8949, 8950, 8951, 41716, 172793, 8952, 8954, 41724, 8957, 8958, 8959, 8955, 8961, 8964, 8965, 8966, 140038, 8968, 8969, 8970, 8967, 8972, 8973, 74510, 8974, 74508, 8977, 8978, 8979, 8981, 8982, 8983, 8984, 8985, 172825, 8987, 66915, 8989, 74530, 74532, 8998, 41769, 9004, 9005, 9008, 74545, 9010, 107314, 74553, 9018, 34359, 107338, 172875, 140110, 172881, 107348, 74580, 172887, 41828, 140133, 172909, 74624, 140162, 41863, 140174, 107406, 107408, 107410, 107412, 74647, 74668, 107436, 74677, 107447, 107449, 74683, 74685, 74688, 107462, 74696, 74698, 140237, 140247, 132084, 74727, 140265, 140267, 74750, 140289, 74754, 140301, 41997, 42002, 42004, 42007, 42009, 42011, 42013, 42015, 42018, 74789, 74791, 74795, 107565, 140359, 173145, 74851, 107630, 74868, 173197, 173205, 173209, 74916, 173235, 107702, 42176, 140481, 74946, 74948, 173253, 173255, 107723, 42191, 173291, 140523, 140525, 99574, 173307, 107771, 140541, 107780, 173317, 34450, 140561, 173351, 173355, 42285, 107846, 140627, 140711, 107945, 140715, 107951, 107953, 42418, 140725, 42422, 107962, 140737, 107997, 173535, 107999, 164753, 140816, 108078, 140850, 173619, 140852, 99638, 108090, 42556, 42559, 75341, 42602, 108156, 75389, 140928, 75395, 42632, 42638, 75416, 140956, 108188, 108190, 108192, 75446, 173751, 141004, 42718, 42723, 42725, 42728, 42730, 42732, 42734, 42738, 42740, 42761, 173873, 1998, 141131, 173925, 173941, 2008, 173963, 42943, 42946, 174045, 174053, 174055, 108540, 75803, 75805, 75813, 75816, 108601, 174141, 141400, 141408, 141422, 108689, 108715, 75947, 108727, 108729, 141513, 132333, 75985, 132335, 141544, 2084, 108795, 76030, 76054, 43289, 76060, 164917, 76077, 76091, 76093, 174403, 43333, 141646, 132362, 141668, 76143, 43376, 141688, 108928, 108932, 43396, 76173, 76175, 174479, 108945, 108949, 141718, 43419, 108981, 141749, 43460, 174551, 76251, 141799, 141810, 109042, 141816, 141818, 141820, 76293, 141830, 141836, 76301, 141844, 141846, 43549, 43556, 43558, 43560, 141866, 141890, 174681, 141928, 109161, 109183, 109187, 109191, 174727, 174737, 43677, 43679, 43684, 141994, 109241, 43708, 2175, 142020, 174815, 43744, 109282, 142056, 109295, 142074, 109313, 109317, 142115, 132454, 43836, 174909, 109374, 109372, 109383, 132462, 43869, 43871, 109416, 142196, 43904, 43908, 43912, 43914, 43917, 142222, 43919, 43921, 43928, 43930, 43932, 43936, 109483, 109487, 76738, 76743, 76751, 76763, 44004, 44020, 44022, 109569, 109576, 109578, 109596, 142366, 142372, 109633, 142420, 142422, 142424, 175197, 175199, 109673, 142444, 142448, 109687, 142456, 142488, 109723, 44189, 44191, 44193, 44195, 44197, 44199, 142507, 44204, 142509, 175293, 44225, 175303, 142536, 165101, 44238, 44241, 165103, 44243, 142550, 142558, 142598, 142602, 44301, 109846, 109848, 109850, 175387, 109853, 175397, 109864, 175401, 175431, 109895, 109897, 175435, 44397, 44399, 175475, 109941, 77177, 175485, 77191, 165139, 109968, 77201, 109971, 77206, 77233, 175569, 77266, 175577, 44511, 175585, 142831, 44555, 110102, 2347, 175661, 110127, 110130, 77364, 44597, 44613, 175693, 175705, 44633, 175707, 132618, 77414, 2362, 77421, 142961, 44657, 77427, 44665, 175743, 2368, 77455, 142997, 44694, 143001, 175781, 44709, 65601, 44719, 143031, 44731, 110281, 110286, 44759, 44761, 110297, 44773, 44777, 44788, 77561, 110330, 110350, 44828, 44840, 44849, 44851, 110387, 44864, 44889, 77667, 77688, 44929, 44931, 44937, 143245, 77709, 44943, 143255, 143257, 110501, 44972, 44974, 176051, 110541, 110553, 77795, 45028, 176101, 77798, 77800, 110586, 143355, 110591, 143365, 45062, 143367, 110603, 77841, 45074, 110611, 77846, 143385, 45081, 77866, 45106, 143410, 77881, 110655, 77893, 110669, 143458, 77931, 143472, 45175, 110718, 45183, 45186, 110730, 143511, 45208, 45210, 110746, 45221, 143525, 110771, 110773, 110781, 143559, 176329, 78034, 78039, 78041, 110826, 176371, 176389, 78088, 78103, 78105, 176413, 176415, 110882, 176419, 78116, 176423, 45361, 78142, 45382, 78160, 78174, 45431, 45440, 78209, 45442, 45447, 78218, 78264, 78266, 45499, 45501, 45503, 176579, 45517, 67665, 176601, 78316, 176621, 143859, 111113, 78349, 143896, 111146, 45635, 45648, 45658, 45662, 143969, 45666, 45668, 45672, 176751, 78467, 78469, 45720, 45722, 45726, 45728, 45730, 78499, 45732, 176805, 78544, 111320, 78574, 111360, 111362, 111364, 111375, 111384, 78620, 78626, 176935, 78637, 45880, 100302, 100304, 144210, 111443, 100306, 144222, 45928, 78703, 45950, 144262, 45969, 78746, 78772, 111551, 144352, 46062, 78836, 111617, 111622, 46105, 177185, 111659, 78893, 111663, 111680, 144478, 78959, 111732, 111743, 177285, 7047, 144522, 111759, 46231, 79006, 79008, 111781, 111785, 111795, 111800, 111817, 79057, 144606, 79073, 111844, 144620, 46322, 79091, 46335, 46337, 46347, 79132, 79134, 46367, 79139, 111913, 111921, 144714, 144716, 79185, 144734, 79224, 112006, 79242, 2725, 79251, 2727, 79259, 79274, 177593, 79293, 46530, 79299, 112070, 2737, 177615, 2738, 46559, 79333, 46572, 46574, 46578, 79357, 112138, 112171, 112175, 112183, 79428, 46664, 144976, 177763, 177765, 46723, 79501, 112290, 112303, 79536, 46772, 145080, 112316, 79553, 112326, 112334, 79572, 79590, 65685, 79592, 112370, 145150, 46850, 46855, 2800, 2801, 46862, 46865, 177939, 112421, 79677, 112450, 79684, 112454, 112460, 79695, 79702, 46948, 112497, 46965, 46967, 46970, 46972, 46974, 46976, 112512, 145283, 112515, 178061, 112552, 112556, 79798, 178111, 47044, 112580, 178129, 112623, 47099, 79868, 79879, 145418, 47122, 47124, 79895, 79897, 79946, 145491, 112727, 47200, 47202, 112749, 178323, 112788, 47254, 47261, 112804, 112818, 80083, 112852, 80094, 112868, 80124, 80126, 112897, 80139, 112911, 47382, 47384, 80162, 80166, 47404, 112940, 145724, 47423, 145745, 47446, 80219, 47465, 80241, 47491, 47516, 47518, 145839, 47538, 178613, 178615, 47566, 80363, 47610, 113159, 47629, 145935, 47640, 47644, 47646, 145951, 113186, 113207, 80454, 113225, 145994, 80463, 80478, 113252, 146024, 80489, 47721, 146028, 47725, 47736, 113275, 113278, 113280, 178827, 47774, 113313, 80549, 80551, 80553, 47793, 80572, 113345, 47810, 113348, 113350, 80584, 80586, 80590, 113374, 113378, 80615, 113394, 113416, 47894, 146210, 113453, 80693, 47937, 146244, 47950, 47952, 80727, 47970, 47978, 80748, 179053, 113532, 47997, 47999, 179073, 48001, 146309, 113565, 48032, 113573, 48043, 48045, 179119, 179133, 80831, 179135, 80834, 113604, 80839, 80846, 48082, 80858, 80860, 80862, 80864, 80880, 80906, 179211, 48142, 80917, 48150, 48161, 113705, 80969, 113741, 48214, 113780, 81018, 48262, 113829, 48304, 113849, 81087, 48319, 48322, 48326, 113862, 179401, 48342, 146656, 179427, 146662, 81132, 146682, 146684, 146688, 48385, 81156, 81158, 48394, 48412, 48414, 48416, 179491, 81191, 146730, 179511, 81229, 81257, 114028, 114044, 48516, 48518, 48520, 114060, 114066, 114074, 48560, 114126, 48593, 48596, 48598, 81383, 179709, 48638, 114180, 114184, 81417, 48649, 179749, 48678, 146986, 81456, 48696, 48698, 147002, 114246, 114265, 48738, 179813, 48741, 179815, 81512, 179817, 48744, 179819, 104837, 81520, 81535, 81537, 48774, 48780, 48783, 81562, 81564, 114335, 81591, 147142, 114396, 48872, 48877, 48879, 179953, 48883, 147196, 81681, 147250, 114494, 180031, 180045, 147282, 48982, 147286, 147300, 48997, 49013, 81782, 81784, 81786, 114554, 81788, 147326, 180095, 147328, 81791, 147330, 81819, 81831, 114601, 81834, 147372, 147374, 147376, 147378, 147380, 81845, 147382, 81847, 147384, 114627, 147410, 49110, 114662, 49130, 49132, 114670, 114678, 81910, 180231, 81932, 114707, 114713, 81949, 180263, 180265, 49220, 180297, 114762, 114795, 49263, 49265, 49272, 82041, 49274, 49276, 49278, 49280, 114818, 49284, 82053, 49286, 114847, 49314, 82088, 82093, 82095, 49347, 147657, 147662, 82152, 49389, 114925, 49396, 82167, 114935, 82169, 180497, 82202, 82242, 49524, 115065, 49530, 115111, 115122, 82366, 82378, 115149, 115151, 147936, 115170, 49647, 49649, 49651, 49666, 115203, 115210, 115216, 49688, 82459, 82461, 115231, 180777, 33237, 82499, 49735, 82527, 82534, 49772, 49793, 49822, 49824, 148166, 148172, 82641, 82667, 49910, 180985, 180987, 82684, 49917, 49932, 148238, 49957, 49961, 115502, 82744, 68552, 181065, 82765, 82767, 50003, 50005, 115569, 50064, 181139, 50068, 82848, 115617, 82852, 82854, 82857, 148424, 3449, 115664, 115667, 115680, 50147, 50158, 50160, 115713, 148482, 50189, 115727, 181315, 50274, 115819, 148592, 115828, 83086, 148626, 148632, 115877, 181413, 148652, 50354, 50356, 148667, 83132, 83134, 148671, 148675, 148709, 83177, 115969, 50440, 50442, 50445, 148775, 83270, 116044, 50514, 148881, 83349, 148888, 181659, 83369, 50601, 116138, 83374, 50610, 50613, 116169, 181719, 148956, 50658, 116207, 148978, 148982, 50685, 149011, 83480, 50740, 50792, 50794, 50796, 50798, 50800, 50802, 50804, 50806, 83601, 149144, 50842, 149146, 83613, 50851, 50872, 116411, 116413, 116419, 50912, 50923, 50942, 50954, 116505, 116529, 50999, 51024, 149330, 83796, 149334, 83803, 51037, 149350, 149352, 149354, 83827, 149380, 51077, 51080, 51082, 51084, 51086, 51088, 51091, 149406, 116668, 83910, 51167, 51174, 116718, 116724, 83969, 116738, 149508, 83976, 101360, 182293, 182297, 182299, 51255, 116797, 149566, 116799, 3678, 116817, 149590, 116823, 149612, 116849, 51314, 116887, 51357, 116897, 84152, 3700, 84156, 166526, 116941, 51412, 84187, 84189, 116963, 3709, 116977, 116985, 51471, 84240, 84246, 51498, 84273, 149830, 51540, 51545, 33310, 51562, 3736, 182639, 117107, 117109, 51573, 51575, 3739, 117133, 149902, 84374, 166568, 84392, 117176, 182715, 84414, 182727, 117192, 182731, 51662, 3756, 51666, 182749, 3760, 51694, 51698, 51705, 51709, 3765, 182793, 84512, 182823, 84523, 84553, 3787, 117364, 117368, 84601, 51834, 3789, 84615, 84637, 51884, 51903, 117444, 51925, 51927, 84696, 117466, 51931, 51933, 51935, 51937, 51939, 183011, 84716, 150254, 117511, 117529, 117531, 117533, 84772, 117545, 84799, 117572, 52042, 117590, 84844, 84847, 117630, 150401, 117646, 183197, 183199, 183227, 84942, 84944, 84950, 84952, 84954, 183295, 183301, 52241, 150548, 52245, 183317, 150554, 85020, 85022, 85025, 52279, 52281, 52283, 52287, 85056, 150596, 52299, 150604, 117849, 117851, 52319, 52328, 117867, 117877, 117881, 117887, 117895, 85131, 52375, 117922, 150696, 85179, 52435, 85213, 36477, 52458, 52462, 85259, 85261, 85295, 183611, 118082, 85316, 183635, 85334, 85342, 52579, 85354, 85367, 52604, 3945, 85394, 85397, 118166, 85399, 85401, 52644, 85412, 85414, 118198, 52668, 85438, 150993, 52694, 52712, 118248, 52715, 52722, 52724, 52730, 118270, 85510, 118290, 36537, 52767, 52784, 118326, 118354, 183897, 52831, 134246, 3989, 183911, 52867, 52885, 183959, 184015, 52950, 52952, 52967, 85736, 52973, 52975, 118512, 184053, 118530, 53000, 85774, 151311, 151315, 85780, 151317, 85788, 53022, 53024, 85796, 118572, 85881, 85885, 53121, 53123, 53125, 53127, 53129, 53138, 53140, 53143, 151455, 118696, 53161, 118700, 118702, 118706, 184245, 151479, 184253, 184257, 151501, 86000, 134326, 86014, 118784, 151557, 151559, 86028, 134334, 184349, 118814, 53280, 86059, 118834, 86066, 86068, 53318, 53322, 118862, 53326, 118880, 151653, 118888, 53355, 118894, 118896, 118900, 69224, 86142, 151687, 69227, 118924, 151695, 118930, 184471, 86190, 53435, 151739, 151745, 53447, 118985, 53450, 53453, 151759, 151763, 53460, 118997, 53464, 151769, 53466, 53468, 86237, 151777, 151781, 86279, 86286, 53519, 86290, 86293, 86295, 86298, 119068, 53550, 86320, 86332, 184641, 53574, 86345, 53578, 86347, 86355, 119141, 119145, 86377, 119153, 119155, 119167, 184721, 119218, 184791, 86487, 152037, 86504, 152063, 152065, 152071, 152077, 152079, 152081, 152083, 86548, 152085, 152091, 152105, 53808, 86593, 184931, 86628, 152173, 86644, 53883, 53894, 72479, 86668, 101895, 184987, 53921, 184997, 53953, 86721, 53956, 185029, 185031, 185033, 152270, 53972, 53974, 152284, 53993, 53996, 54001, 54004, 86781, 86815, 86817, 185135, 86833, 86835, 152372, 86864, 86880, 86882, 54116, 119655, 54121, 86892, 86898, 86911, 86922, 119714, 54185, 54190, 86960, 54256, 54259, 87028, 54272, 54274, 54276, 54281, 54286, 152591, 119828, 54354, 152658, 185435, 54372, 185473, 152711, 87192, 87194, 119964, 87197, 87222, 87232, 87234, 54503, 185585, 87287, 87298, 87304, 87306, 120130, 120138, 54617, 87413, 54648, 87430, 152970, 87444, 54686, 87483, 87485, 54732, 54734, 54736, 54745, 87520, 87522, 87529, 153070, 54768, 102066, 54771, 54780, 54785, 54787, 102070, 54796, 102088, 54881, 87660, 54908, 54910, 120466, 153236, 54934, 120478, 4410, 54962, 54995, 54997, 54999, 87785, 55020, 55036, 55052, 55061, 87834, 55067, 55069, 55071, 55080, 153386, 120625, 55094, 87867, 120635, 87869, 120637, 153408, 87876, 55110, 55112, 4441, 55116, 55118, 4445, 55156, 55167, 55190, 87960, 55205, 55207, 120761, 55232, 55241, 55245, 55247, 120783, 55250, 55253, 55259, 55261, 120799, 55267, 55269, 120807, 55272, 55274, 55276, 120813, 55278, 55280, 55282, 55290, 120827, 55292, 55294, 88069, 88094, 88108, 88125, 88129, 55363, 88140, 120919, 55391, 4497, 88163, 88179, 55442, 55444, 55451, 88235, 121007, 55492, 134775, 88267, 121035, 88272, 186587, 55553, 55555, 88327, 121097, 121099, 55577, 88345, 88356, 121129, 134796, 55620, 121169, 121171, 88405, 88448, 55687, 121231, 121253, 55721, 55729, 88515, 154065, 55765, 55768, 121338, 55805, 121342, 55814, 55820, 88593, 55830, 121372, 121374, 55844, 55854, 55872, 88672, 55908, 88697, 88699, 121469, 55946, 187031, 88744, 88746, 4615, 55995, 4617, 56003, 56012, 88785, 56022, 88810, 88812, 154358, 56060, 88911, 56145, 37211, 56152, 56156, 88932, 56169, 56171, 56174, 56176, 121715, 88954, 121781, 56251, 89028, 89030, 89039, 56274, 89047, 56286, 89072, 89085, 89087, 89090, 56333, 56336, 56339, 89118, 56367, 56379, 56389, 89190, 89208, 187541, 89281, 187593, 187595, 89305, 122092, 56563, 89343, 56587, 56607, 89386, 89388, 56620, 187717, 167570, 89427, 154975, 89470, 122246, 56715, 89492, 122260, 56757, 155064, 4769, 56775, 56782, 56788, 56801, 56805, 89580, 89582, 89586, 56837, 155168, 56869, 122433, 56908, 89678, 56915, 56921, 56941, 56949, 122490, 89745, 155288, 89753, 89759, 89761, 89774, 89804, 155358, 89837, 89840, 122627, 89862, 89864, 188189, 89898, 89904, 57147, 89939, 89945, 57183, 155509, 188301, 57243, 57274, 155589, 90057, 57326, 122882, 122884, 122886, 122888, 122890, 155659, 122892, 122896, 122898, 122900, 122902, 122904, 57368, 122906, 122912, 122916, 122918, 122920, 122922, 122924, 122926, 122932, 57421, 155743, 155774, 90243, 90245, 90249, 57499, 57502, 57504, 155812, 155820, 57522, 57526, 57528, 57532, 57536, 90343, 90345, 90353, 155892, 90357, 188675, 90374, 90376, 90384, 90403, 90405, 57637, 57640, 90428, 90430, 123200, 57669, 90439, 188751, 4952, 90469, 90471, 156025, 188797, 4961, 4962, 4965, 90522, 90524, 90528, 188833, 90531, 57772, 4970, 123310, 90576, 90600, 90603, 57843, 90630, 90647, 57910, 90717, 57951, 90719, 90738, 189043, 90746, 90769, 123545, 123553, 58025, 189111, 90809, 58047, 156371, 58078, 156387, 90863, 90866, 58103, 58105, 58107, 90888, 90890, 58154, 58156, 58162, 90943, 90945, 58191, 102749, 156553, 189333, 58287, 58291, 58293, 58295, 58297, 58299, 58301, 156605, 156607, 58303, 156609, 58306, 91077, 58309, 91079, 189381, 58315, 70208, 91094, 58332, 91104, 58347, 58351, 91126, 91128, 156675, 58376, 156706, 58404, 123947, 156726, 58425, 91233, 189547, 156781, 156783, 58492, 91261, 91266, 91273, 25746, 25750, 25752, 25753, 25757, 25769, 25771, 25773, 25782, 58554, 91323, 25788, 91325, 58559, 25795, 25797, 91337, 25805, 91353, 91355, 25825, 25826, 25827, 25833, 25834, 25841, 91386, 25850, 25856, 58627, 25865, 25870, 189713, 91414, 25886, 25887, 58655, 25898, 25905, 25906, 25923, 25927, 91470, 25937, 25940, 25946, 91483, 25947, 91485, 25952, 91488, 25959, 25962, 25963, 91500, 124273, 91529, 25996, 91535, 25999, 26002, 26003, 91542, 58783, 58803, 157108, 91571, 157110, 58806, 26038, 26048, 157122, 26052, 157130, 26059, 58826, 58839, 26073, 58842, 26078, 26082, 26084, 91622, 91628, 91630, 26095, 124404, 157172, 58870, 58876, 58879, 26116, 91653, 91658, 26122, 91660, 26124, 157200, 91666, 26131, 26133, 91671, 26142, 26147, 26150, 26151, 26152, 91688, 91690, 26158, 26159, 26169, 26171, 26172, 26176, 124484, 26183, 26184, 26195, 58964, 157270, 26198, 58972, 58975, 157296, 26225, 58998, 26231, 26236, 26237, 157312, 26242, 59014, 91784, 26249, 59018, 59016, 59022, 26258, 59026, 26265, 157340, 59037, 26283, 26285, 157369, 26303, 91842, 26308, 26313, 26317, 26322, 91860, 26326, 91869, 59103, 157407, 91873, 26340, 190183, 26344, 26347, 26350, 59118, 91890, 26357, 59126, 26359, 157432, 59129, 59131, 26365, 26366, 190207, 190209, 190213, 59141, 59143, 26375, 190215, 190219, 190221, 26386, 26391, 26394, 91935, 26399, 26401, 26409, 91947, 26413, 26422, 26429, 91974, 91976, 91978, 26444, 91981, 59220, 26453, 26464, 26467, 26471, 92008, 26472, 59258, 26492, 26498, 26504, 92046, 26510, 92048, 26523, 26524, 59295, 26528, 26527, 59306, 26539, 72694, 26542, 59315, 124851, 124853, 26547, 26554, 26555, 124859, 92094, 26562, 26564, 59333, 26567, 59336, 26578, 26585, 26587, 26590, 26593, 26599, 59369, 26603, 26606, 26612, 26614, 59387, 26622, 157699, 26629, 26630, 26631, 26645, 26649, 59421, 92192, 59429, 26662, 92198, 59440, 26676, 26680, 26681, 26686, 26693, 26694, 26695, 26696, 92234, 26700, 26701, 157775, 26704, 92243, 26712, 26713, 26717, 92259, 26726, 92264, 26729, 26732, 59501, 26736, 26741, 26743, 26745, 26750, 26761, 26764, 26765, 92309, 26776, 26777, 26778, 59549, 26782, 26791, 26792, 157865, 26796, 26797, 26810, 26812, 92348, 26819, 26828, 59604, 26838, 26840, 59615, 26849, 26854, 92391, 26861, 26865, 26870, 26871, 26875, 92420, 92422, 26887, 92427, 59667, 26900, 26901, 26903, 92439, 26913, 125221, 26928, 92475, 26940, 26947, 158022, 158027, 59725, 92494, 59727, 26958, 59731, 158035, 26965, 59738, 92507, 92509, 26974, 26985, 92535, 26999, 27002, 27003, 27006, 27008, 59784, 27020, 27022, 27032, 27036, 59810, 59814, 27074, 27075, 92637, 27105, 92643, 27124, 103085, 92665, 59900, 27134, 92674, 27140, 92681, 59915, 27155, 27156, 92694, 191005, 158238, 27176, 27178, 59947, 158254, 27186, 27193, 92730, 59985, 92760, 59995, 27246, 27251, 27255, 60030, 27266, 60037, 60040, 60046, 60069, 60072, 60074, 27306, 27311, 158388, 27317, 27320, 158398, 27328, 27329, 158402, 60126, 60128, 27368, 27369, 27370, 60141, 27373, 60161, 27397, 92938, 27408, 5448, 27416, 92954, 27420, 27426, 27434, 27441, 27450, 158528, 93006, 93008, 27473, 5461, 27478, 27480, 27482, 93022, 27491, 93040, 27513, 60289, 27523, 60291, 60293, 60303, 27537, 27539, 27549, 27555, 27563, 60333, 93114, 27584, 27592, 60363, 27595, 60365, 93134, 93139, 27604, 125914, 27611, 125916, 27618, 27619, 60389, 27627, 60397, 60408, 27644, 158721, 93193, 27660, 27664, 125970, 5499, 27667, 125974, 93208, 27674, 27683, 27685, 27689, 27692, 27695, 60471, 27704, 27705, 27706, 93242, 27708, 158783, 27716, 60487, 27721, 27722, 27728, 27731, 93270, 93272, 27741, 158813, 27744, 60514, 27746, 60516, 93287, 27751, 60522, 158830, 93297, 27762, 27768, 27769, 60538, 158842, 27772, 27773, 27776, 27778, 126088, 93320, 126090, 27784, 27788, 93326, 27790, 27793, 158872, 27801, 27802, 27803, 158874, 27808, 158882, 27815, 27816, 27820, 27821, 27822, 27826, 93363, 27829, 27830, 27831, 27834, 27837, 27838, 27839, 126142, 27846, 27850, 168358, 27865, 27866, 27869, 27873, 27878, 60647, 27879, 27882, 158956, 158966, 27899, 158972, 27904, 27905, 60674, 93443, 27912, 60684, 93502, 60735, 60737, 93510, 93512, 60753, 60756, 159061, 60760, 159069, 60766, 159077, 159093, 93563, 60803, 60818, 93598, 60832, 93610, 159161, 60857, 126420, 60885, 159193, 126426, 126430, 60894, 60904, 60937, 60941, 60943, 126482, 60950, 93721, 93723, 93740, 163937, 60979, 93766, 61011, 126548, 93790, 61024, 61026, 93805, 126577, 93819, 93831, 93838, 61071, 93840, 61073, 93855, 159403, 159415, 168456, 61123, 61132, 159441, 61160, 61167, 159510, 61210, 93980, 93982, 93988, 61236, 61240, 94011, 61246, 94015, 61248, 61250, 94018, 61255, 61257, 61262, 61289, 94070, 103366, 61319, 61323, 61348, 61350, 61352, 94122, 94130, 94150, 126921, 159690, 94160, 61394, 61401, 61406, 159717, 159755, 61465, 159779, 94262, 94266, 159811, 159817, 127052, 159849, 159858, 94323, 94325, 127096, 127098, 127108, 127114, 127116, 127130, 127132, 127134, 127136, 127146, 127152, 61628, 127164, 127172, 94405, 127180, 127184, 127194, 127198, 127202, 127204, 159976, 127212, 61692, 61697, 61705, 94478, 94494, 61729, 94503, 127298, 160080, 136024, 127319, 127323, 61818, 127390, 94661, 94677, 160271, 94735, 160289, 61986, 62008, 94777, 94780, 94799, 160341, 94810, 94833, 62081, 94864, 160400, 94867, 62113, 160422, 94896, 160438, 160440, 94919, 62155, 94931, 94953, 94959, 62208, 94985, 160527, 95004, 62250, 160563, 160565, 160567, 160569, 160571, 160573, 62293, 95067, 62299, 95088, 62336, 95105, 160644, 160646, 62344, 95135, 62374, 62376, 95145, 95147, 160684, 95149, 62383, 62394, 95163, 95165, 95167, 95170, 95175, 160718, 95182, 95193, 160730, 95199, 95201, 62434, 62437, 62439, 95207, 95218, 193565, 193567, 193571, 193573, 193579, 193581, 193583, 62511, 193585, 193587, 160836, 193609, 95307, 95309, 95311, 160848, 95313, 128087, 128089, 62553, 128097, 128099, 160872, 62586, 95377, 62644, 160954, 128197, 62662, 95441, 160978, 160980, 95449, 161008, 95473, 95475, 62718, 161024, 161032, 95497, 95499, 95508, 161044, 95510, 95519, 95543, 95558, 62792, 62799, 95583, 161127, 128360, 161131, 128366, 62834, 62836, 62849, 95624, 95633, 95654, 95690, 95717, 95720, 128488, 62956, 95738, 62970, 128512, 95744, 128520, 161290, 95761, 62999, 95771, 128542, 95780, 95796, 63033, 161354, 128592, 128594, 63062, 95839, 63072, 95843, 63082, 128620, 95858, 95873, 95875, 63113, 63131, 128695, 95939, 63179, 95949, 95965, 128736, 63222, 96004, 96007, 63239, 96020, 161580, 63276, 161582, 161594, 128832, 128838, 128842, 96079, 63312, 128852, 96084, 161634, 96110, 96114, 96121, 128900, 128902, 128908, 128914, 96150, 63393, 128944, 128968, 63433, 63436, 128975, 128991, 30707, 129011, 63479, 30745, 96281, 63515, 96283, 30749, 161830, 63540, 30793, 30803, 30810, 30812, 30816, 30818, 30820, 30822, 30825, 96373, 30846, 161918, 30848, 161922, 30850, 96411, 96417, 30883, 30890, 161966, 30894, 96432, 96430, 30898, 96448, 129229, 96471, 129250, 96488, 96518, 96520, 96530, 30994, 31000, 63768, 129313, 162082, 96563, 129333, 31030, 96567, 31038, 63808, 31049, 129354, 96588, 63826, 96606, 96608, 96610, 96616, 31083, 63853, 31086, 63859, 129397, 31101, 63876, 31114, 31116, 96655, 31123, 129428, 31150, 96691, 31162, 31184, 96726, 96728, 31193, 96737, 129514, 31221, 31223, 63992, 31225, 64010, 31260, 64030, 64032, 64034, 162344, 96811, 162350, 96815, 96821, 96829, 96832, 31297, 31309, 96861, 162414, 64114, 64116, 129657, 129659, 31364, 31367, 96917, 96935, 64167, 162478, 96945, 31410, 31420, 31422, 31424, 31427, 96964, 64197, 31431, 31433, 129737, 31435, 31437, 96975, 31445, 64231, 129779, 64249, 97024, 162578, 64278, 64285, 162590, 31522, 162598, 162600, 162602, 162606, 31545, 31553, 31590, 31610, 31617, 97168, 129937, 97172, 97188, 31658, 97194, 31660, 31664, 31685, 97225, 31692, 31694, 97230, 31696, 31698, 31700, 31702, 64497, 64499, 64501, 31737, 130050, 130052, 97285, 162828, 97304, 130073, 97306, 130083, 130087, 97328, 31804, 64575, 64614, 31851, 64620, 64622, 31867, 31878, 162968, 31903, 31909, 162982, 31921, 31923, 31925, 64695, 97470, 64716, 31952, 31973, 163056, 163072, 32009, 32011, 32017, 32019, 32022, 32029, 32031, 163112, 32058, 32060, 163134, 64839, 97643, 32116, 97665, 32139, 130444, 130450, 130452, 97701, 130482, 32179, 130490, 64957, 130498, 64969, 97742, 32213, 130518, 64983, 97752, 130520, 97757, 64993, 64997, 32234, 32243, 97785, 65037, 130576, 130578, 32289, 32291, 32294, 32296, 32298, 97836, 32300, 32302, 163386, 32314, 65088, 97858, 97860, 130634, 97866, 97870, 65126, 65130, 65133, 65135, 97904, 97913, 130686, 97921, 97923, 32387, 32392, 97936, 97938, 97950, 65188, 65193, 32440, 32442, 65216, 97988, 163527, 32456, 65225, 32460, 65230, 32469, 65261, 32511, 32515, 98061, 130840, 130842, 98083, 32554, 163639, 163645, 163653, 65350, 32582, 32584, 98122, 32587, 98124, 32589, 65359, 32596, 32598, 32600, 98154, 32620, 98160, 32632, 98175, 32649, 32657, 32659, 130970, 98203, 32666, 130976, 130978, 98230, 98239, 98243, 131013, 131023, 32728, 163809, 98279, 32743, 65514, 98296}\n"
     ]
    }
   ],
   "source": [
    "unrated_movie_id = get_unrated_item(userid=9, rating_data=rating_data)\n",
    "print(unrated_movie_id)"
   ]
  },
  {
   "cell_type": "markdown",
   "metadata": {
    "id": "cIBAXx-nWrbe"
   },
   "source": [
    "**Then, we create the prediction from the unrated movie**"
   ]
  },
  {
   "cell_type": "code",
   "execution_count": 86,
   "metadata": {
    "colab": {
     "base_uri": "https://localhost:8080/"
    },
    "id": "PnfFPG7FWvUc",
    "outputId": "eefbfe29-54ea-4b30-b71a-f903bd836c86"
   },
   "outputs": [
    {
     "data": {
      "text/plain": [
       "{'userId': 9, 'movieId': [], 'predicted_rating': []}"
      ]
     },
     "execution_count": 86,
     "metadata": {},
     "output_type": "execute_result"
    }
   ],
   "source": [
    "# Initialize dict\n",
    "predicted_unrated_movie = {\n",
    "    'userId': 9,\n",
    "    'movieId': [],\n",
    "    'predicted_rating': []\n",
    "}\n",
    "\n",
    "predicted_unrated_movie"
   ]
  },
  {
   "cell_type": "code",
   "execution_count": 87,
   "metadata": {
    "id": "RNOLbKPwW9xQ"
   },
   "outputs": [],
   "source": [
    "# Loop for over all unrated movie Id\n",
    "for id in unrated_movie_id:\n",
    "    # Create a prediction\n",
    "    pred_id = model_best.predict(uid = predicted_unrated_movie['userId'],\n",
    "                                 iid = id)\n",
    "\n",
    "    # Append\n",
    "    predicted_unrated_movie['movieId'].append(id)\n",
    "    predicted_unrated_movie['predicted_rating'].append(pred_id.est)"
   ]
  },
  {
   "cell_type": "code",
   "execution_count": 88,
   "metadata": {
    "colab": {
     "base_uri": "https://localhost:8080/"
    },
    "id": "33TBayQcXpjY",
    "outputId": "d3997f1a-f58c-422a-a931-ee11d98c554a"
   },
   "outputs": [
    {
     "data": {
      "text/html": [
       "<div>\n",
       "<style scoped>\n",
       "    .dataframe tbody tr th:only-of-type {\n",
       "        vertical-align: middle;\n",
       "    }\n",
       "\n",
       "    .dataframe tbody tr th {\n",
       "        vertical-align: top;\n",
       "    }\n",
       "\n",
       "    .dataframe thead th {\n",
       "        text-align: right;\n",
       "    }\n",
       "</style>\n",
       "<table border=\"1\" class=\"dataframe\">\n",
       "  <thead>\n",
       "    <tr style=\"text-align: right;\">\n",
       "      <th></th>\n",
       "      <th>userId</th>\n",
       "      <th>movieId</th>\n",
       "      <th>predicted_rating</th>\n",
       "    </tr>\n",
       "  </thead>\n",
       "  <tbody>\n",
       "    <tr>\n",
       "      <th>0</th>\n",
       "      <td>9</td>\n",
       "      <td>1</td>\n",
       "      <td>3.440970</td>\n",
       "    </tr>\n",
       "    <tr>\n",
       "      <th>1</th>\n",
       "      <td>9</td>\n",
       "      <td>2</td>\n",
       "      <td>3.178351</td>\n",
       "    </tr>\n",
       "    <tr>\n",
       "      <th>2</th>\n",
       "      <td>9</td>\n",
       "      <td>3</td>\n",
       "      <td>2.773542</td>\n",
       "    </tr>\n",
       "    <tr>\n",
       "      <th>3</th>\n",
       "      <td>9</td>\n",
       "      <td>4</td>\n",
       "      <td>2.717316</td>\n",
       "    </tr>\n",
       "    <tr>\n",
       "      <th>4</th>\n",
       "      <td>9</td>\n",
       "      <td>5</td>\n",
       "      <td>2.850927</td>\n",
       "    </tr>\n",
       "    <tr>\n",
       "      <th>...</th>\n",
       "      <td>...</td>\n",
       "      <td>...</td>\n",
       "      <td>...</td>\n",
       "    </tr>\n",
       "    <tr>\n",
       "      <th>9673</th>\n",
       "      <td>9</td>\n",
       "      <td>163809</td>\n",
       "      <td>3.129475</td>\n",
       "    </tr>\n",
       "    <tr>\n",
       "      <th>9674</th>\n",
       "      <td>9</td>\n",
       "      <td>98279</td>\n",
       "      <td>3.251486</td>\n",
       "    </tr>\n",
       "    <tr>\n",
       "      <th>9675</th>\n",
       "      <td>9</td>\n",
       "      <td>32743</td>\n",
       "      <td>3.143775</td>\n",
       "    </tr>\n",
       "    <tr>\n",
       "      <th>9676</th>\n",
       "      <td>9</td>\n",
       "      <td>65514</td>\n",
       "      <td>3.274698</td>\n",
       "    </tr>\n",
       "    <tr>\n",
       "      <th>9677</th>\n",
       "      <td>9</td>\n",
       "      <td>98296</td>\n",
       "      <td>3.143775</td>\n",
       "    </tr>\n",
       "  </tbody>\n",
       "</table>\n",
       "<p>9678 rows × 3 columns</p>\n",
       "</div>"
      ],
      "text/plain": [
       "      userId  movieId  predicted_rating\n",
       "0          9        1          3.440970\n",
       "1          9        2          3.178351\n",
       "2          9        3          2.773542\n",
       "3          9        4          2.717316\n",
       "4          9        5          2.850927\n",
       "...      ...      ...               ...\n",
       "9673       9   163809          3.129475\n",
       "9674       9    98279          3.251486\n",
       "9675       9    32743          3.143775\n",
       "9676       9    65514          3.274698\n",
       "9677       9    98296          3.143775\n",
       "\n",
       "[9678 rows x 3 columns]"
      ]
     },
     "execution_count": 88,
     "metadata": {},
     "output_type": "execute_result"
    }
   ],
   "source": [
    "# Convert to dataframe\n",
    "predicted_unrated_movie = pd.DataFrame(predicted_unrated_movie)\n",
    "predicted_unrated_movie"
   ]
  },
  {
   "cell_type": "markdown",
   "metadata": {
    "id": "xapoMp4dX6yD"
   },
   "source": [
    "Nice! Let's sort the values"
   ]
  },
  {
   "cell_type": "code",
   "execution_count": 89,
   "metadata": {
    "colab": {
     "base_uri": "https://localhost:8080/"
    },
    "id": "yr6wl0HnP8Mj",
    "outputId": "d8aa21ed-8b2f-4a4f-91cb-ec6d69555bae"
   },
   "outputs": [
    {
     "data": {
      "text/html": [
       "<div>\n",
       "<style scoped>\n",
       "    .dataframe tbody tr th:only-of-type {\n",
       "        vertical-align: middle;\n",
       "    }\n",
       "\n",
       "    .dataframe tbody tr th {\n",
       "        vertical-align: top;\n",
       "    }\n",
       "\n",
       "    .dataframe thead th {\n",
       "        text-align: right;\n",
       "    }\n",
       "</style>\n",
       "<table border=\"1\" class=\"dataframe\">\n",
       "  <thead>\n",
       "    <tr style=\"text-align: right;\">\n",
       "      <th></th>\n",
       "      <th>userId</th>\n",
       "      <th>movieId</th>\n",
       "      <th>predicted_rating</th>\n",
       "    </tr>\n",
       "  </thead>\n",
       "  <tbody>\n",
       "    <tr>\n",
       "      <th>244</th>\n",
       "      <td>9</td>\n",
       "      <td>260</td>\n",
       "      <td>4.245551</td>\n",
       "    </tr>\n",
       "    <tr>\n",
       "      <th>300</th>\n",
       "      <td>9</td>\n",
       "      <td>318</td>\n",
       "      <td>4.233101</td>\n",
       "    </tr>\n",
       "    <tr>\n",
       "      <th>947</th>\n",
       "      <td>9</td>\n",
       "      <td>1104</td>\n",
       "      <td>4.205823</td>\n",
       "    </tr>\n",
       "    <tr>\n",
       "      <th>1025</th>\n",
       "      <td>9</td>\n",
       "      <td>1213</td>\n",
       "      <td>4.173759</td>\n",
       "    </tr>\n",
       "    <tr>\n",
       "      <th>2910</th>\n",
       "      <td>9</td>\n",
       "      <td>3451</td>\n",
       "      <td>4.144698</td>\n",
       "    </tr>\n",
       "    <tr>\n",
       "      <th>...</th>\n",
       "      <td>...</td>\n",
       "      <td>...</td>\n",
       "      <td>...</td>\n",
       "    </tr>\n",
       "    <tr>\n",
       "      <th>1967</th>\n",
       "      <td>9</td>\n",
       "      <td>2338</td>\n",
       "      <td>1.907615</td>\n",
       "    </tr>\n",
       "    <tr>\n",
       "      <th>3023</th>\n",
       "      <td>9</td>\n",
       "      <td>3593</td>\n",
       "      <td>1.898327</td>\n",
       "    </tr>\n",
       "    <tr>\n",
       "      <th>412</th>\n",
       "      <td>9</td>\n",
       "      <td>435</td>\n",
       "      <td>1.887569</td>\n",
       "    </tr>\n",
       "    <tr>\n",
       "      <th>4366</th>\n",
       "      <td>9</td>\n",
       "      <td>5323</td>\n",
       "      <td>1.868435</td>\n",
       "    </tr>\n",
       "    <tr>\n",
       "      <th>1567</th>\n",
       "      <td>9</td>\n",
       "      <td>1882</td>\n",
       "      <td>1.811034</td>\n",
       "    </tr>\n",
       "  </tbody>\n",
       "</table>\n",
       "<p>9678 rows × 3 columns</p>\n",
       "</div>"
      ],
      "text/plain": [
       "      userId  movieId  predicted_rating\n",
       "244        9      260          4.245551\n",
       "300        9      318          4.233101\n",
       "947        9     1104          4.205823\n",
       "1025       9     1213          4.173759\n",
       "2910       9     3451          4.144698\n",
       "...      ...      ...               ...\n",
       "1967       9     2338          1.907615\n",
       "3023       9     3593          1.898327\n",
       "412        9      435          1.887569\n",
       "4366       9     5323          1.868435\n",
       "1567       9     1882          1.811034\n",
       "\n",
       "[9678 rows x 3 columns]"
      ]
     },
     "execution_count": 89,
     "metadata": {},
     "output_type": "execute_result"
    }
   ],
   "source": [
    "# Sort the predicted rating values\n",
    "predicted_unrated_movie = predicted_unrated_movie.sort_values('predicted_rating',\n",
    "                                                              ascending = False)\n",
    "\n",
    "predicted_unrated_movie"
   ]
  },
  {
   "cell_type": "code",
   "execution_count": 90,
   "metadata": {
    "id": "0g6SpnvKaj2W"
   },
   "outputs": [],
   "source": [
    "# Let's create this into a function\n",
    "def get_pred_unrated_item(userid, estimator, unrated_item_id):\n",
    "    \"\"\"\n",
    "    Get the predicted unrated item id from user id\n",
    "\n",
    "    Parameters\n",
    "    ----------\n",
    "    userid : int\n",
    "        The user id\n",
    "\n",
    "    estimator : Surprise object\n",
    "        The estimator\n",
    "\n",
    "    unrated_item_id : set\n",
    "        The unrated item id\n",
    "\n",
    "    Returns\n",
    "    -------\n",
    "    pred_data : pandas Dataframe\n",
    "        The predicted rating of unrated item of user id\n",
    "    \"\"\"\n",
    "    # Initialize dict\n",
    "    pred_dict = {\n",
    "        'userId': userid,\n",
    "        'movieId': [],\n",
    "        'predicted_rating': []\n",
    "    }\n",
    "\n",
    "    # Loop for over all unrated movie Id\n",
    "    for id in unrated_item_id:\n",
    "        # Create a prediction\n",
    "        pred_id = estimator.predict(uid = pred_dict['userId'],\n",
    "                                    iid = id)\n",
    "\n",
    "        # Append\n",
    "        pred_dict['movieId'].append(id)\n",
    "        pred_dict['predicted_rating'].append(pred_id.est)\n",
    "\n",
    "    # Create a dataframe\n",
    "    pred_data = pd.DataFrame(pred_dict).sort_values('predicted_rating',\n",
    "                                                     ascending = False)\n",
    "\n",
    "    return pred_data"
   ]
  },
  {
   "cell_type": "code",
   "execution_count": 91,
   "metadata": {
    "colab": {
     "base_uri": "https://localhost:8080/"
    },
    "id": "vDvGyW23b2FM",
    "outputId": "411664c6-75cb-42b2-9c00-a3ee373c4ffb"
   },
   "outputs": [
    {
     "data": {
      "text/html": [
       "<div>\n",
       "<style scoped>\n",
       "    .dataframe tbody tr th:only-of-type {\n",
       "        vertical-align: middle;\n",
       "    }\n",
       "\n",
       "    .dataframe tbody tr th {\n",
       "        vertical-align: top;\n",
       "    }\n",
       "\n",
       "    .dataframe thead th {\n",
       "        text-align: right;\n",
       "    }\n",
       "</style>\n",
       "<table border=\"1\" class=\"dataframe\">\n",
       "  <thead>\n",
       "    <tr style=\"text-align: right;\">\n",
       "      <th></th>\n",
       "      <th>userId</th>\n",
       "      <th>movieId</th>\n",
       "      <th>predicted_rating</th>\n",
       "    </tr>\n",
       "  </thead>\n",
       "  <tbody>\n",
       "    <tr>\n",
       "      <th>244</th>\n",
       "      <td>9</td>\n",
       "      <td>260</td>\n",
       "      <td>4.245551</td>\n",
       "    </tr>\n",
       "    <tr>\n",
       "      <th>300</th>\n",
       "      <td>9</td>\n",
       "      <td>318</td>\n",
       "      <td>4.233101</td>\n",
       "    </tr>\n",
       "    <tr>\n",
       "      <th>947</th>\n",
       "      <td>9</td>\n",
       "      <td>1104</td>\n",
       "      <td>4.205823</td>\n",
       "    </tr>\n",
       "    <tr>\n",
       "      <th>1025</th>\n",
       "      <td>9</td>\n",
       "      <td>1213</td>\n",
       "      <td>4.173759</td>\n",
       "    </tr>\n",
       "    <tr>\n",
       "      <th>2910</th>\n",
       "      <td>9</td>\n",
       "      <td>3451</td>\n",
       "      <td>4.144698</td>\n",
       "    </tr>\n",
       "    <tr>\n",
       "      <th>...</th>\n",
       "      <td>...</td>\n",
       "      <td>...</td>\n",
       "      <td>...</td>\n",
       "    </tr>\n",
       "    <tr>\n",
       "      <th>1967</th>\n",
       "      <td>9</td>\n",
       "      <td>2338</td>\n",
       "      <td>1.907615</td>\n",
       "    </tr>\n",
       "    <tr>\n",
       "      <th>3023</th>\n",
       "      <td>9</td>\n",
       "      <td>3593</td>\n",
       "      <td>1.898327</td>\n",
       "    </tr>\n",
       "    <tr>\n",
       "      <th>412</th>\n",
       "      <td>9</td>\n",
       "      <td>435</td>\n",
       "      <td>1.887569</td>\n",
       "    </tr>\n",
       "    <tr>\n",
       "      <th>4366</th>\n",
       "      <td>9</td>\n",
       "      <td>5323</td>\n",
       "      <td>1.868435</td>\n",
       "    </tr>\n",
       "    <tr>\n",
       "      <th>1567</th>\n",
       "      <td>9</td>\n",
       "      <td>1882</td>\n",
       "      <td>1.811034</td>\n",
       "    </tr>\n",
       "  </tbody>\n",
       "</table>\n",
       "<p>9678 rows × 3 columns</p>\n",
       "</div>"
      ],
      "text/plain": [
       "      userId  movieId  predicted_rating\n",
       "244        9      260          4.245551\n",
       "300        9      318          4.233101\n",
       "947        9     1104          4.205823\n",
       "1025       9     1213          4.173759\n",
       "2910       9     3451          4.144698\n",
       "...      ...      ...               ...\n",
       "1967       9     2338          1.907615\n",
       "3023       9     3593          1.898327\n",
       "412        9      435          1.887569\n",
       "4366       9     5323          1.868435\n",
       "1567       9     1882          1.811034\n",
       "\n",
       "[9678 rows x 3 columns]"
      ]
     },
     "execution_count": 91,
     "metadata": {},
     "output_type": "execute_result"
    }
   ],
   "source": [
    "predicted_unrated_movie = get_pred_unrated_item(userid = 9,\n",
    "                                                estimator = model_best,\n",
    "                                                unrated_item_id = unrated_movie_id)\n",
    "\n",
    "predicted_unrated_movie"
   ]
  },
  {
   "cell_type": "markdown",
   "metadata": {
    "id": "Plbq6dinYeOf"
   },
   "source": [
    "And then we create the top movie predictions"
   ]
  },
  {
   "cell_type": "code",
   "execution_count": 92,
   "metadata": {
    "colab": {
     "base_uri": "https://localhost:8080/"
    },
    "id": "tiaBJI1CQ3QX",
    "outputId": "d1ab24c8-44fb-4fbc-ce77-63f033f25559"
   },
   "outputs": [
    {
     "data": {
      "text/html": [
       "<div>\n",
       "<style scoped>\n",
       "    .dataframe tbody tr th:only-of-type {\n",
       "        vertical-align: middle;\n",
       "    }\n",
       "\n",
       "    .dataframe tbody tr th {\n",
       "        vertical-align: top;\n",
       "    }\n",
       "\n",
       "    .dataframe thead th {\n",
       "        text-align: right;\n",
       "    }\n",
       "</style>\n",
       "<table border=\"1\" class=\"dataframe\">\n",
       "  <thead>\n",
       "    <tr style=\"text-align: right;\">\n",
       "      <th></th>\n",
       "      <th>userId</th>\n",
       "      <th>movieId</th>\n",
       "      <th>predicted_rating</th>\n",
       "    </tr>\n",
       "  </thead>\n",
       "  <tbody>\n",
       "    <tr>\n",
       "      <th>244</th>\n",
       "      <td>9</td>\n",
       "      <td>260</td>\n",
       "      <td>4.245551</td>\n",
       "    </tr>\n",
       "    <tr>\n",
       "      <th>300</th>\n",
       "      <td>9</td>\n",
       "      <td>318</td>\n",
       "      <td>4.233101</td>\n",
       "    </tr>\n",
       "    <tr>\n",
       "      <th>947</th>\n",
       "      <td>9</td>\n",
       "      <td>1104</td>\n",
       "      <td>4.205823</td>\n",
       "    </tr>\n",
       "    <tr>\n",
       "      <th>1025</th>\n",
       "      <td>9</td>\n",
       "      <td>1213</td>\n",
       "      <td>4.173759</td>\n",
       "    </tr>\n",
       "    <tr>\n",
       "      <th>2910</th>\n",
       "      <td>9</td>\n",
       "      <td>3451</td>\n",
       "      <td>4.144698</td>\n",
       "    </tr>\n",
       "  </tbody>\n",
       "</table>\n",
       "</div>"
      ],
      "text/plain": [
       "      userId  movieId  predicted_rating\n",
       "244        9      260          4.245551\n",
       "300        9      318          4.233101\n",
       "947        9     1104          4.205823\n",
       "1025       9     1213          4.173759\n",
       "2910       9     3451          4.144698"
      ]
     },
     "execution_count": 92,
     "metadata": {},
     "output_type": "execute_result"
    }
   ],
   "source": [
    "# Pick top k biggest rating\n",
    "k = 5\n",
    "top_movies_svd = predicted_unrated_movie.head(k).copy()\n",
    "top_movies_svd"
   ]
  },
  {
   "cell_type": "markdown",
   "metadata": {
    "id": "z_ChnvZeYth8"
   },
   "source": [
    "Finally, we can add the Movie Title"
   ]
  },
  {
   "cell_type": "code",
   "execution_count": 93,
   "metadata": {
    "colab": {
     "base_uri": "https://localhost:8080/"
    },
    "id": "w3K00UqRQ82n",
    "outputId": "aebf18ef-e9b8-4c78-944f-91815f57e229"
   },
   "outputs": [
    {
     "data": {
      "text/html": [
       "<div>\n",
       "<style scoped>\n",
       "    .dataframe tbody tr th:only-of-type {\n",
       "        vertical-align: middle;\n",
       "    }\n",
       "\n",
       "    .dataframe tbody tr th {\n",
       "        vertical-align: top;\n",
       "    }\n",
       "\n",
       "    .dataframe thead th {\n",
       "        text-align: right;\n",
       "    }\n",
       "</style>\n",
       "<table border=\"1\" class=\"dataframe\">\n",
       "  <thead>\n",
       "    <tr style=\"text-align: right;\">\n",
       "      <th></th>\n",
       "      <th>userId</th>\n",
       "      <th>movieId</th>\n",
       "      <th>predicted_rating</th>\n",
       "      <th>title</th>\n",
       "      <th>genres</th>\n",
       "    </tr>\n",
       "  </thead>\n",
       "  <tbody>\n",
       "    <tr>\n",
       "      <th>244</th>\n",
       "      <td>9</td>\n",
       "      <td>260</td>\n",
       "      <td>4.245551</td>\n",
       "      <td>Forrest Gump (1994)</td>\n",
       "      <td>Comedy|Drama|Romance|War</td>\n",
       "    </tr>\n",
       "    <tr>\n",
       "      <th>300</th>\n",
       "      <td>9</td>\n",
       "      <td>318</td>\n",
       "      <td>4.233101</td>\n",
       "      <td>Shawshank Redemption, The (1994)</td>\n",
       "      <td>Crime|Drama</td>\n",
       "    </tr>\n",
       "    <tr>\n",
       "      <th>947</th>\n",
       "      <td>9</td>\n",
       "      <td>1104</td>\n",
       "      <td>4.205823</td>\n",
       "      <td>Pulp Fiction (1994)</td>\n",
       "      <td>Comedy|Crime|Drama|Thriller</td>\n",
       "    </tr>\n",
       "    <tr>\n",
       "      <th>1025</th>\n",
       "      <td>9</td>\n",
       "      <td>1213</td>\n",
       "      <td>4.173759</td>\n",
       "      <td>Silence of the Lambs, The (1991)</td>\n",
       "      <td>Crime|Horror|Thriller</td>\n",
       "    </tr>\n",
       "    <tr>\n",
       "      <th>2910</th>\n",
       "      <td>9</td>\n",
       "      <td>3451</td>\n",
       "      <td>4.144698</td>\n",
       "      <td>Matrix, The (1999)</td>\n",
       "      <td>Action|Sci-Fi|Thriller</td>\n",
       "    </tr>\n",
       "  </tbody>\n",
       "</table>\n",
       "</div>"
      ],
      "text/plain": [
       "      userId  movieId  predicted_rating                             title  \\\n",
       "244        9      260          4.245551               Forrest Gump (1994)   \n",
       "300        9      318          4.233101  Shawshank Redemption, The (1994)   \n",
       "947        9     1104          4.205823               Pulp Fiction (1994)   \n",
       "1025       9     1213          4.173759  Silence of the Lambs, The (1991)   \n",
       "2910       9     3451          4.144698                Matrix, The (1999)   \n",
       "\n",
       "                           genres  \n",
       "244      Comedy|Drama|Romance|War  \n",
       "300                   Crime|Drama  \n",
       "947   Comedy|Crime|Drama|Thriller  \n",
       "1025        Crime|Horror|Thriller  \n",
       "2910       Action|Sci-Fi|Thriller  "
      ]
     },
     "execution_count": 93,
     "metadata": {},
     "output_type": "execute_result"
    }
   ],
   "source": [
    "# Add the movie title\n",
    "top_movies_svd['title'] = movie_data.loc[top_movies['movieId'], 'title'].values\n",
    "top_movies_svd['genres'] = movie_data.loc[top_movies['movieId'], 'genres'].values\n",
    "\n",
    "top_movies_svd"
   ]
  },
  {
   "cell_type": "markdown",
   "metadata": {
    "id": "E6ko3hC_ZDFz"
   },
   "source": [
    "Great!\n",
    "Lets wrap all to a function"
   ]
  },
  {
   "cell_type": "code",
   "execution_count": 94,
   "metadata": {
    "id": "Y4j9JfbhZGRZ"
   },
   "outputs": [],
   "source": [
    "def get_top_highest_unrated(estimator, k, userid, rating_data, movie_data):\n",
    "    \"\"\"\n",
    "    Get top k highest of unrated movie from a Surprise estimator RecSys\n",
    "\n",
    "    Parameters\n",
    "    ----------\n",
    "    estimator : Surprise model\n",
    "        The RecSys model\n",
    "\n",
    "    k : int\n",
    "        The number of Recommendations\n",
    "\n",
    "    userid : int\n",
    "        The user Id to recommend\n",
    "\n",
    "    rating_data : pandas Data Frame\n",
    "        The rating data\n",
    "\n",
    "    movie_data : pandas DataFrame\n",
    "        The movie meta data\n",
    "\n",
    "    Returns\n",
    "    -------\n",
    "    top_item_pred : pandas DataFrame\n",
    "        The top items recommendations\n",
    "    \"\"\"\n",
    "    # 1. Get the unrated item id of a user id\n",
    "    unrated_item_id = get_unrated_item(userid=userid, rating_data=rating_data)\n",
    "\n",
    "    # 2. Create prediction from estimator to all unrated item id\n",
    "    predicted_unrated_item = get_pred_unrated_item(userid = userid,\n",
    "                                                   estimator = estimator,\n",
    "                                                   unrated_item_id = unrated_item_id)\n",
    "\n",
    "    # 3. Sort & add meta data\n",
    "    top_item_pred = predicted_unrated_item.head(k).copy()\n",
    "    top_item_pred['title'] = movie_data.loc[top_item_pred['movieId'], 'title'].values\n",
    "    top_item_pred['genres'] = movie_data.loc[top_item_pred['movieId'], 'genres'].values\n",
    "\n",
    "    return top_item_pred\n"
   ]
  },
  {
   "cell_type": "code",
   "execution_count": 95,
   "metadata": {
    "colab": {
     "base_uri": "https://localhost:8080/"
    },
    "id": "teYPTqlYdS0b",
    "outputId": "2685f4a7-24e1-4208-8d78-eae403be2233"
   },
   "outputs": [
    {
     "data": {
      "text/html": [
       "<div>\n",
       "<style scoped>\n",
       "    .dataframe tbody tr th:only-of-type {\n",
       "        vertical-align: middle;\n",
       "    }\n",
       "\n",
       "    .dataframe tbody tr th {\n",
       "        vertical-align: top;\n",
       "    }\n",
       "\n",
       "    .dataframe thead th {\n",
       "        text-align: right;\n",
       "    }\n",
       "</style>\n",
       "<table border=\"1\" class=\"dataframe\">\n",
       "  <thead>\n",
       "    <tr style=\"text-align: right;\">\n",
       "      <th></th>\n",
       "      <th>userId</th>\n",
       "      <th>movieId</th>\n",
       "      <th>predicted_rating</th>\n",
       "      <th>title</th>\n",
       "      <th>genres</th>\n",
       "    </tr>\n",
       "  </thead>\n",
       "  <tbody>\n",
       "    <tr>\n",
       "      <th>982</th>\n",
       "      <td>90</td>\n",
       "      <td>1204</td>\n",
       "      <td>4.838250</td>\n",
       "      <td>Lawrence of Arabia (1962)</td>\n",
       "      <td>Adventure|Drama|War</td>\n",
       "    </tr>\n",
       "    <tr>\n",
       "      <th>42</th>\n",
       "      <td>90</td>\n",
       "      <td>50</td>\n",
       "      <td>4.792610</td>\n",
       "      <td>Usual Suspects, The (1995)</td>\n",
       "      <td>Crime|Mystery|Thriller</td>\n",
       "    </tr>\n",
       "    <tr>\n",
       "      <th>760</th>\n",
       "      <td>90</td>\n",
       "      <td>912</td>\n",
       "      <td>4.750364</td>\n",
       "      <td>Casablanca (1942)</td>\n",
       "      <td>Drama|Romance</td>\n",
       "    </tr>\n",
       "    <tr>\n",
       "      <th>2234</th>\n",
       "      <td>90</td>\n",
       "      <td>2692</td>\n",
       "      <td>4.741814</td>\n",
       "      <td>Run Lola Run (Lola rennt) (1998)</td>\n",
       "      <td>Action|Crime</td>\n",
       "    </tr>\n",
       "    <tr>\n",
       "      <th>1425</th>\n",
       "      <td>90</td>\n",
       "      <td>1732</td>\n",
       "      <td>4.738490</td>\n",
       "      <td>Big Lebowski, The (1998)</td>\n",
       "      <td>Comedy|Crime</td>\n",
       "    </tr>\n",
       "    <tr>\n",
       "      <th>2861</th>\n",
       "      <td>90</td>\n",
       "      <td>3435</td>\n",
       "      <td>4.725263</td>\n",
       "      <td>Double Indemnity (1944)</td>\n",
       "      <td>Crime|Drama|Film-Noir</td>\n",
       "    </tr>\n",
       "    <tr>\n",
       "      <th>3080</th>\n",
       "      <td>90</td>\n",
       "      <td>3703</td>\n",
       "      <td>4.713544</td>\n",
       "      <td>Road Warrior, The (Mad Max 2) (1981)</td>\n",
       "      <td>Action|Adventure|Sci-Fi|Thriller</td>\n",
       "    </tr>\n",
       "    <tr>\n",
       "      <th>639</th>\n",
       "      <td>90</td>\n",
       "      <td>741</td>\n",
       "      <td>4.704984</td>\n",
       "      <td>Ghost in the Shell (Kôkaku kidôtai) (1995)</td>\n",
       "      <td>Animation|Sci-Fi</td>\n",
       "    </tr>\n",
       "    <tr>\n",
       "      <th>986</th>\n",
       "      <td>90</td>\n",
       "      <td>1208</td>\n",
       "      <td>4.701634</td>\n",
       "      <td>Apocalypse Now (1979)</td>\n",
       "      <td>Action|Drama|War</td>\n",
       "    </tr>\n",
       "    <tr>\n",
       "      <th>2742</th>\n",
       "      <td>90</td>\n",
       "      <td>3275</td>\n",
       "      <td>4.699381</td>\n",
       "      <td>Boondock Saints, The (2000)</td>\n",
       "      <td>Action|Crime|Drama|Thriller</td>\n",
       "    </tr>\n",
       "  </tbody>\n",
       "</table>\n",
       "</div>"
      ],
      "text/plain": [
       "      userId  movieId  predicted_rating  \\\n",
       "982       90     1204          4.838250   \n",
       "42        90       50          4.792610   \n",
       "760       90      912          4.750364   \n",
       "2234      90     2692          4.741814   \n",
       "1425      90     1732          4.738490   \n",
       "2861      90     3435          4.725263   \n",
       "3080      90     3703          4.713544   \n",
       "639       90      741          4.704984   \n",
       "986       90     1208          4.701634   \n",
       "2742      90     3275          4.699381   \n",
       "\n",
       "                                           title  \\\n",
       "982                    Lawrence of Arabia (1962)   \n",
       "42                    Usual Suspects, The (1995)   \n",
       "760                            Casablanca (1942)   \n",
       "2234            Run Lola Run (Lola rennt) (1998)   \n",
       "1425                    Big Lebowski, The (1998)   \n",
       "2861                     Double Indemnity (1944)   \n",
       "3080        Road Warrior, The (Mad Max 2) (1981)   \n",
       "639   Ghost in the Shell (Kôkaku kidôtai) (1995)   \n",
       "986                        Apocalypse Now (1979)   \n",
       "2742                 Boondock Saints, The (2000)   \n",
       "\n",
       "                                genres  \n",
       "982                Adventure|Drama|War  \n",
       "42              Crime|Mystery|Thriller  \n",
       "760                      Drama|Romance  \n",
       "2234                      Action|Crime  \n",
       "1425                      Comedy|Crime  \n",
       "2861             Crime|Drama|Film-Noir  \n",
       "3080  Action|Adventure|Sci-Fi|Thriller  \n",
       "639                   Animation|Sci-Fi  \n",
       "986                   Action|Drama|War  \n",
       "2742       Action|Crime|Drama|Thriller  "
      ]
     },
     "execution_count": 95,
     "metadata": {},
     "output_type": "execute_result"
    }
   ],
   "source": [
    "# Generate 10 recommendation for user 90\n",
    "get_top_highest_unrated(estimator=model_best,\n",
    "                        k=10,\n",
    "                        userid=90,\n",
    "                        rating_data=rating_data,\n",
    "                        movie_data=movie_data)"
   ]
  },
  {
   "cell_type": "markdown",
   "metadata": {
    "id": "Zi14ujmVd69H"
   },
   "source": [
    "user Id 90 is a action / thriller guy"
   ]
  },
  {
   "cell_type": "code",
   "execution_count": 96,
   "metadata": {
    "colab": {
     "base_uri": "https://localhost:8080/"
    },
    "id": "SzSmLdUldu_N",
    "outputId": "231af15e-8051-4942-8a16-3810c57fb779"
   },
   "outputs": [
    {
     "data": {
      "text/html": [
       "<div>\n",
       "<style scoped>\n",
       "    .dataframe tbody tr th:only-of-type {\n",
       "        vertical-align: middle;\n",
       "    }\n",
       "\n",
       "    .dataframe tbody tr th {\n",
       "        vertical-align: top;\n",
       "    }\n",
       "\n",
       "    .dataframe thead th {\n",
       "        text-align: right;\n",
       "    }\n",
       "</style>\n",
       "<table border=\"1\" class=\"dataframe\">\n",
       "  <thead>\n",
       "    <tr style=\"text-align: right;\">\n",
       "      <th></th>\n",
       "      <th>userId</th>\n",
       "      <th>movieId</th>\n",
       "      <th>predicted_rating</th>\n",
       "      <th>title</th>\n",
       "      <th>genres</th>\n",
       "    </tr>\n",
       "  </thead>\n",
       "  <tbody>\n",
       "    <tr>\n",
       "      <th>1026</th>\n",
       "      <td>1000</td>\n",
       "      <td>1204</td>\n",
       "      <td>4.395384</td>\n",
       "      <td>Lawrence of Arabia (1962)</td>\n",
       "      <td>Adventure|Drama|War</td>\n",
       "    </tr>\n",
       "    <tr>\n",
       "      <th>303</th>\n",
       "      <td>1000</td>\n",
       "      <td>318</td>\n",
       "      <td>4.369144</td>\n",
       "      <td>Shawshank Redemption, The (1994)</td>\n",
       "      <td>Crime|Drama</td>\n",
       "    </tr>\n",
       "    <tr>\n",
       "      <th>785</th>\n",
       "      <td>1000</td>\n",
       "      <td>904</td>\n",
       "      <td>4.355184</td>\n",
       "      <td>Rear Window (1954)</td>\n",
       "      <td>Mystery|Thriller</td>\n",
       "    </tr>\n",
       "    <tr>\n",
       "      <th>49</th>\n",
       "      <td>1000</td>\n",
       "      <td>50</td>\n",
       "      <td>4.313741</td>\n",
       "      <td>Usual Suspects, The (1995)</td>\n",
       "      <td>Crime|Mystery|Thriller</td>\n",
       "    </tr>\n",
       "    <tr>\n",
       "      <th>670</th>\n",
       "      <td>1000</td>\n",
       "      <td>750</td>\n",
       "      <td>4.310996</td>\n",
       "      <td>Dr. Strangelove or: How I Learned to Stop Worr...</td>\n",
       "      <td>Comedy|War</td>\n",
       "    </tr>\n",
       "    <tr>\n",
       "      <th>998</th>\n",
       "      <td>1000</td>\n",
       "      <td>1172</td>\n",
       "      <td>4.292398</td>\n",
       "      <td>Cinema Paradiso (Nuovo cinema Paradiso) (1989)</td>\n",
       "      <td>Drama</td>\n",
       "    </tr>\n",
       "    <tr>\n",
       "      <th>2526</th>\n",
       "      <td>1000</td>\n",
       "      <td>2959</td>\n",
       "      <td>4.281567</td>\n",
       "      <td>Fight Club (1999)</td>\n",
       "      <td>Action|Crime|Drama|Thriller</td>\n",
       "    </tr>\n",
       "    <tr>\n",
       "      <th>1030</th>\n",
       "      <td>1000</td>\n",
       "      <td>1208</td>\n",
       "      <td>4.269233</td>\n",
       "      <td>Apocalypse Now (1979)</td>\n",
       "      <td>Action|Drama|War</td>\n",
       "    </tr>\n",
       "    <tr>\n",
       "      <th>748</th>\n",
       "      <td>1000</td>\n",
       "      <td>858</td>\n",
       "      <td>4.266016</td>\n",
       "      <td>Godfather, The (1972)</td>\n",
       "      <td>Crime|Drama</td>\n",
       "    </tr>\n",
       "    <tr>\n",
       "      <th>2796</th>\n",
       "      <td>1000</td>\n",
       "      <td>3275</td>\n",
       "      <td>4.260573</td>\n",
       "      <td>Boondock Saints, The (2000)</td>\n",
       "      <td>Action|Crime|Drama|Thriller</td>\n",
       "    </tr>\n",
       "  </tbody>\n",
       "</table>\n",
       "</div>"
      ],
      "text/plain": [
       "      userId  movieId  predicted_rating  \\\n",
       "1026    1000     1204          4.395384   \n",
       "303     1000      318          4.369144   \n",
       "785     1000      904          4.355184   \n",
       "49      1000       50          4.313741   \n",
       "670     1000      750          4.310996   \n",
       "998     1000     1172          4.292398   \n",
       "2526    1000     2959          4.281567   \n",
       "1030    1000     1208          4.269233   \n",
       "748     1000      858          4.266016   \n",
       "2796    1000     3275          4.260573   \n",
       "\n",
       "                                                  title  \\\n",
       "1026                          Lawrence of Arabia (1962)   \n",
       "303                    Shawshank Redemption, The (1994)   \n",
       "785                                  Rear Window (1954)   \n",
       "49                           Usual Suspects, The (1995)   \n",
       "670   Dr. Strangelove or: How I Learned to Stop Worr...   \n",
       "998      Cinema Paradiso (Nuovo cinema Paradiso) (1989)   \n",
       "2526                                  Fight Club (1999)   \n",
       "1030                              Apocalypse Now (1979)   \n",
       "748                               Godfather, The (1972)   \n",
       "2796                        Boondock Saints, The (2000)   \n",
       "\n",
       "                           genres  \n",
       "1026          Adventure|Drama|War  \n",
       "303                   Crime|Drama  \n",
       "785              Mystery|Thriller  \n",
       "49         Crime|Mystery|Thriller  \n",
       "670                    Comedy|War  \n",
       "998                         Drama  \n",
       "2526  Action|Crime|Drama|Thriller  \n",
       "1030             Action|Drama|War  \n",
       "748                   Crime|Drama  \n",
       "2796  Action|Crime|Drama|Thriller  "
      ]
     },
     "execution_count": 96,
     "metadata": {},
     "output_type": "execute_result"
    }
   ],
   "source": [
    "# Generate 10 recommendation for user 1000\n",
    "get_top_highest_unrated(estimator=model_best,\n",
    "                        k=10,\n",
    "                        userid=1000,\n",
    "                        rating_data=rating_data,\n",
    "                        movie_data=movie_data)"
   ]
  },
  {
   "cell_type": "markdown",
   "metadata": {
    "id": "hSEZLclbeE7t"
   },
   "source": [
    "We could say tha the user Id 1000 is a drama guy"
   ]
  }
 ],
 "metadata": {
  "colab": {
   "collapsed_sections": [
    "4UbxpDTqMjwD",
    "RnMXg_eJmcr3",
    "4Kd6ty1Ims7K",
    "Aeo2bgSdQKeC",
    "B8YELCZRd3lV",
    "zDWtBMWsUOAH",
    "JNEwEX2FU-yH"
   ],
   "provenance": [],
   "toc_visible": true
  },
  "kernelspec": {
   "display_name": ".venv",
   "language": "python",
   "name": "python3"
  },
  "language_info": {
   "codemirror_mode": {
    "name": "ipython",
    "version": 3
   },
   "file_extension": ".py",
   "mimetype": "text/x-python",
   "name": "python",
   "nbconvert_exporter": "python",
   "pygments_lexer": "ipython3",
   "version": "3.10.14"
  }
 },
 "nbformat": 4,
 "nbformat_minor": 1
}
