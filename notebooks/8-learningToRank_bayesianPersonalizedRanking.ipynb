{
 "cells": [
  {
   "cell_type": "markdown",
   "metadata": {
    "id": "7cO5oLZWWEaB"
   },
   "source": [
    "# **8. Learning to Rank & Bayesian Personalized Ranking**"
   ]
  },
  {
   "cell_type": "markdown",
   "metadata": {
    "id": "CAYgWFXeDm2o"
   },
   "source": [
    "---\n",
    "## Outline:\n",
    "\n",
    "1. Background\n",
    "2. Simplified Workflows.\n",
    "3. Importing Data\n",
    "4. Data Preparations\n",
    "5. Data Preprocessing\n",
    "6. Modeling\n",
    "7. Hyperparameter Tuning\n",
    "8. Evaluation\n",
    "9. Decision Process (Recommendation Process)"
   ]
  },
  {
   "cell_type": "markdown",
   "metadata": {
    "id": "5EAOjNJgu9OX"
   },
   "source": [
    "# **Background**\n",
    "---"
   ]
  },
  {
   "cell_type": "markdown",
   "metadata": {
    "id": "D76jLNLOvB12"
   },
   "source": [
    "## Problem Description\n",
    "---"
   ]
  },
  {
   "cell_type": "markdown",
   "metadata": {
    "id": "G8InAK8UEcaX"
   },
   "source": [
    "- Spotify, a Steaming Music Company has a problem with their customer.\n",
    "- Three months ago our ML / Data Scientist team has developed recommender system model, our current best approach is using **Alternating Least Squares**\n",
    "- Our metrics still perceived as Number of Relevant items for User divided by Recommended items"
   ]
  },
  {
   "cell_type": "markdown",
   "metadata": {
    "id": "HCjUOJiCaFOX"
   },
   "source": [
    "The problem are :     \n",
    "- User has limited budget of time to listen songs in Spotify\n"
   ]
  },
  {
   "cell_type": "markdown",
   "metadata": {
    "id": "vzrmTMX-m7LR"
   },
   "source": [
    "So we want user to receive ranked result, due to that constraint"
   ]
  },
  {
   "cell_type": "markdown",
   "metadata": {
    "id": "3mcIOJY_mEES"
   },
   "source": [
    "Previously, in last model we treat each item the same way, by predicting relevance score of each item, However the model itself is not directly optimized for ranking"
   ]
  },
  {
   "cell_type": "markdown",
   "metadata": {
    "id": "iLXnsJECpVab"
   },
   "source": [
    "We already solved the user churn previously, however we see another problem appear that user session droppped to 15%. If we cannot solved this, then user who reduced activity on spority could decide to stop subscription, which will lead to the churn problem again"
   ]
  },
  {
   "cell_type": "markdown",
   "metadata": {
    "id": "yGJI2hoKFZLJ"
   },
   "source": [
    "## Business Objective\n",
    "---"
   ]
  },
  {
   "cell_type": "markdown",
   "metadata": {
    "id": "iTWpKavPFdjR"
   },
   "source": [
    "Our business objective would be increasing user session up to **15%**"
   ]
  },
  {
   "cell_type": "markdown",
   "metadata": {
    "id": "ZuZaweARFsio"
   },
   "source": [
    "## Solution\n",
    "---\n"
   ]
  },
  {
   "cell_type": "markdown",
   "metadata": {
    "id": "9JqHRyToJiIX"
   },
   "source": [
    "- We can fix previous recommendation algorithm, instead of using model that are not directly optimized for ranking, we are going to use model that are trained to optimized the ranking metrics"
   ]
  },
  {
   "cell_type": "markdown",
   "metadata": {
    "id": "5ErLd1fUtZAK"
   },
   "source": [
    "**Our task** is shifted, from :     \n",
    "**Predicting preference of each item** score to **Predicting Ranking each item ranking** for users"
   ]
  },
  {
   "cell_type": "markdown",
   "metadata": {
    "id": "ysP02PicuCpK"
   },
   "source": [
    "We now have a clearer picture what we should do, However we need more precise solution in recommender system context."
   ]
  },
  {
   "cell_type": "markdown",
   "metadata": {
    "id": "HQHAGFIr-Xu7"
   },
   "source": [
    "What is the solution ?"
   ]
  },
  {
   "cell_type": "markdown",
   "metadata": {
    "id": "521rz5F8-bII"
   },
   "source": [
    "We can use Learning to Rank model for Recommender System"
   ]
  },
  {
   "cell_type": "markdown",
   "metadata": {
    "id": "hy8sIWfVjFeN"
   },
   "source": [
    "## Model Metrics\n",
    "---\n",
    "We have already established some points :\n",
    "- Our task is to predict the item ranking for each users\n",
    "- We will use Learning to Rank concept\n",
    "\n"
   ]
  },
  {
   "cell_type": "markdown",
   "metadata": {
    "id": "EVSECCvIbTCH"
   },
   "source": [
    "Some possible Metrics :     \n",
    "1. Normalized Discounted Cumulative Gain (NDCG)\n",
    "2. Mean Average Precision\n",
    "3. Reciprocal Rank"
   ]
  },
  {
   "cell_type": "markdown",
   "metadata": {
    "id": "Zlmq8GYqpoQi"
   },
   "source": [
    "For now, we choose **Normalized Discounted Cumulative Gain @5**"
   ]
  },
  {
   "cell_type": "markdown",
   "metadata": {
    "id": "BZ6nwtH_J0mS"
   },
   "source": [
    "## Data Description\n",
    "---"
   ]
  },
  {
   "cell_type": "markdown",
   "metadata": {
    "id": "vJsYDiHAJ6Ci"
   },
   "source": [
    "- The data is obtained from [Heatrec Dataset](https://grouplens.org/datasets/hetrec-2011/)\n"
   ]
  },
  {
   "cell_type": "markdown",
   "metadata": {
    "id": "Wncaz3ZzKK-2"
   },
   "source": [
    "Only one file we use\n",
    "\n",
    "**song count data** : `user_artist_play.csv`\n",
    "\n",
    "\n",
    "|Features|Descriptions|Data Type|\n",
    "|:--|:--|:--:|\n",
    "|`userID`|The user ID|`object`|\n",
    "|`artistID`|artist that user listen to |`int`|\n",
    "|`weight`|Number of Plays |`int`|\n",
    "\n",
    "\n",
    "**artist name** : `artist_name.csv`\n",
    "\n",
    "\n",
    "\n",
    "|Features|Descriptions|Data Type|\n",
    "|:--|:--|:--:|\n",
    "|`id`|artist ID|`object`|\n",
    "|`name`|artist name|`int`|\n",
    "\n"
   ]
  },
  {
   "cell_type": "markdown",
   "metadata": {
    "id": "TekCSl-aefIf"
   },
   "source": [
    "# **Recommender System Workflow** (Simplified)\n",
    "---"
   ]
  },
  {
   "cell_type": "markdown",
   "metadata": {
    "id": "WoTzq7gGTk9s"
   },
   "source": [
    "## 1. Importing Data\n",
    "\n",
    "1. Load the data.\n",
    "2. Check the shape & type of data.\n",
    "3. Handle the duplicates data to maintain data validity."
   ]
  },
  {
   "cell_type": "markdown",
   "metadata": {
    "id": "suw5LYWO1oyl"
   },
   "source": [
    "## 2.Modelling : Implicit Feedback Recommender\n",
    "\n",
    "1. Creating Utility Matrix\n",
    "2. Training + Model Selection  :     \n",
    "    - Baseline : Alternating least Squares\n",
    "    - Bayesian Personalized Ranking\n",
    "\n",
    "4. Evaluating Model\n",
    "    - NDCG @ 5"
   ]
  },
  {
   "cell_type": "markdown",
   "metadata": {
    "id": "jqmDuT4ufLrS"
   },
   "source": [
    "## 3. Generating Recommendation / Predictions\n",
    "\n",
    "1. Giving recommendation for user"
   ]
  },
  {
   "cell_type": "markdown",
   "metadata": {
    "id": "4UbxpDTqMjwD"
   },
   "source": [
    "# **1. Importing Data**\n",
    "---"
   ]
  },
  {
   "cell_type": "markdown",
   "metadata": {
    "id": "_sFY159MLpWx"
   },
   "source": [
    "What do we do?\n",
    "1. Load the data.\n",
    "2. Check the shape & type of data.\n",
    "3. Handle the duplicates data to maintain data validity."
   ]
  },
  {
   "cell_type": "markdown",
   "metadata": {
    "id": "UxpX-m6jL41l"
   },
   "source": [
    "## Load the data"
   ]
  },
  {
   "cell_type": "code",
   "execution_count": 1,
   "metadata": {
    "id": "BfsCMoXbL79v"
   },
   "outputs": [],
   "source": [
    "# Load this library\n",
    "import numpy as np\n",
    "import pandas as pd\n",
    "import scipy.sparse as sp\n",
    "import matplotlib.pyplot as plt"
   ]
  },
  {
   "cell_type": "markdown",
   "metadata": {
    "id": "GvnaCpj_MDyS"
   },
   "source": [
    "Load the data from given data path"
   ]
  },
  {
   "cell_type": "code",
   "execution_count": 2,
   "metadata": {
    "id": "GoBpkqdkMBoY"
   },
   "outputs": [],
   "source": [
    "song_play_path = '../data/user_artist_play.csv'"
   ]
  },
  {
   "cell_type": "code",
   "execution_count": 3,
   "metadata": {
    "id": "9XcQoL6zMNug"
   },
   "outputs": [],
   "source": [
    "song_play_data = pd.read_csv(song_play_path,\n",
    "                          delimiter = ',')"
   ]
  },
  {
   "cell_type": "code",
   "execution_count": 4,
   "metadata": {
    "colab": {
     "base_uri": "https://localhost:8080/",
     "height": 206
    },
    "id": "bfOIdNH4MU27",
    "outputId": "74e659a1-bcc2-4670-b974-d38c0f7162bb"
   },
   "outputs": [
    {
     "data": {
      "text/html": [
       "<div>\n",
       "<style scoped>\n",
       "    .dataframe tbody tr th:only-of-type {\n",
       "        vertical-align: middle;\n",
       "    }\n",
       "\n",
       "    .dataframe tbody tr th {\n",
       "        vertical-align: top;\n",
       "    }\n",
       "\n",
       "    .dataframe thead th {\n",
       "        text-align: right;\n",
       "    }\n",
       "</style>\n",
       "<table border=\"1\" class=\"dataframe\">\n",
       "  <thead>\n",
       "    <tr style=\"text-align: right;\">\n",
       "      <th></th>\n",
       "      <th>userID</th>\n",
       "      <th>artistID</th>\n",
       "      <th>weight</th>\n",
       "    </tr>\n",
       "  </thead>\n",
       "  <tbody>\n",
       "    <tr>\n",
       "      <th>0</th>\n",
       "      <td>2</td>\n",
       "      <td>51</td>\n",
       "      <td>13883</td>\n",
       "    </tr>\n",
       "    <tr>\n",
       "      <th>1</th>\n",
       "      <td>2</td>\n",
       "      <td>52</td>\n",
       "      <td>11690</td>\n",
       "    </tr>\n",
       "    <tr>\n",
       "      <th>2</th>\n",
       "      <td>2</td>\n",
       "      <td>53</td>\n",
       "      <td>11351</td>\n",
       "    </tr>\n",
       "    <tr>\n",
       "      <th>3</th>\n",
       "      <td>2</td>\n",
       "      <td>54</td>\n",
       "      <td>10300</td>\n",
       "    </tr>\n",
       "    <tr>\n",
       "      <th>4</th>\n",
       "      <td>2</td>\n",
       "      <td>55</td>\n",
       "      <td>8983</td>\n",
       "    </tr>\n",
       "  </tbody>\n",
       "</table>\n",
       "</div>"
      ],
      "text/plain": [
       "   userID  artistID  weight\n",
       "0       2        51   13883\n",
       "1       2        52   11690\n",
       "2       2        53   11351\n",
       "3       2        54   10300\n",
       "4       2        55    8983"
      ]
     },
     "execution_count": 4,
     "metadata": {},
     "output_type": "execute_result"
    }
   ],
   "source": [
    "song_play_data.head()"
   ]
  },
  {
   "cell_type": "markdown",
   "metadata": {
    "id": "ukcxisgSMXL-"
   },
   "source": [
    "## Check data shapes & types"
   ]
  },
  {
   "cell_type": "code",
   "execution_count": 5,
   "metadata": {
    "colab": {
     "base_uri": "https://localhost:8080/"
    },
    "id": "1nmiCwI3MZ8M",
    "outputId": "39de8fe4-9b2e-41f1-ceb1-83035906d381"
   },
   "outputs": [
    {
     "data": {
      "text/plain": [
       "(92834, 3)"
      ]
     },
     "execution_count": 5,
     "metadata": {},
     "output_type": "execute_result"
    }
   ],
   "source": [
    "# Check data shapes\n",
    "song_play_data.shape"
   ]
  },
  {
   "cell_type": "code",
   "execution_count": 6,
   "metadata": {
    "colab": {
     "base_uri": "https://localhost:8080/"
    },
    "id": "ad5b8F79oSiO",
    "outputId": "5e43dcef-ee27-480d-bad8-ae4022af8128"
   },
   "outputs": [
    {
     "data": {
      "text/plain": [
       "1892"
      ]
     },
     "execution_count": 6,
     "metadata": {},
     "output_type": "execute_result"
    }
   ],
   "source": [
    "song_play_data.userID.nunique()"
   ]
  },
  {
   "cell_type": "code",
   "execution_count": 7,
   "metadata": {
    "colab": {
     "base_uri": "https://localhost:8080/"
    },
    "id": "t6TK2sMsoWfY",
    "outputId": "d432690f-5b09-42ff-b294-c96d4ee43902"
   },
   "outputs": [
    {
     "data": {
      "text/plain": [
       "1892"
      ]
     },
     "execution_count": 7,
     "metadata": {},
     "output_type": "execute_result"
    }
   ],
   "source": [
    "song_play_data.userID.nunique()"
   ]
  },
  {
   "cell_type": "code",
   "execution_count": 8,
   "metadata": {
    "colab": {
     "base_uri": "https://localhost:8080/"
    },
    "id": "C0Vb3EMbMwiW",
    "outputId": "95eb56cb-ab44-48a1-d736-8b4541855cb9"
   },
   "outputs": [
    {
     "data": {
      "text/plain": [
       "userID      int64\n",
       "artistID    int64\n",
       "weight      int64\n",
       "dtype: object"
      ]
     },
     "execution_count": 8,
     "metadata": {},
     "output_type": "execute_result"
    }
   ],
   "source": [
    "# Check data types\n",
    "song_play_data.dtypes"
   ]
  },
  {
   "cell_type": "markdown",
   "metadata": {
    "id": "ETzkhNFvMUEf"
   },
   "source": [
    "We see that our features have correct data types"
   ]
  },
  {
   "cell_type": "markdown",
   "metadata": {
    "id": "vZL6d6o4OXYK"
   },
   "source": [
    "## Handling duplicates data\n"
   ]
  },
  {
   "cell_type": "markdown",
   "metadata": {
    "id": "-srWu4GEOhLk"
   },
   "source": [
    "We need to check that there is no user ID that rates similar movie ID more than one."
   ]
  },
  {
   "cell_type": "code",
   "execution_count": 9,
   "metadata": {
    "colab": {
     "base_uri": "https://localhost:8080/"
    },
    "id": "lWv_zR5IOqs4",
    "outputId": "e4f6513b-7386-43ea-a5ec-d2a7cbd76f5a"
   },
   "outputs": [
    {
     "data": {
      "text/plain": [
       "0"
      ]
     },
     "execution_count": 9,
     "metadata": {},
     "output_type": "execute_result"
    }
   ],
   "source": [
    "# Check duplicate data\n",
    "song_play_data.duplicated(subset=['userID', 'artistID']).sum()"
   ]
  },
  {
   "cell_type": "markdown",
   "metadata": {
    "id": "F5Q3KXZTZTvH"
   },
   "source": [
    "Great, Our Data is Free From Duplicated Data"
   ]
  },
  {
   "cell_type": "markdown",
   "metadata": {
    "id": "SxoYxbNEPFVy"
   },
   "source": [
    "## Create load function"
   ]
  },
  {
   "cell_type": "markdown",
   "metadata": {
    "id": "ngQSDSTdPIbq"
   },
   "source": [
    "Finally, we can create load data function"
   ]
  },
  {
   "cell_type": "code",
   "execution_count": 10,
   "metadata": {
    "id": "21EWxr09PTMd"
   },
   "outputs": [],
   "source": [
    "def load_song_data(path):\n",
    "    \"\"\"\n",
    "    Function to load data & remove from duplicates\n",
    "\n",
    "    Parameters\n",
    "    ----------\n",
    "    path : str\n",
    "        The path of song play  data\n",
    "\n",
    "    Returns\n",
    "    -------\n",
    "    song_play_data : pandas DataFrame\n",
    "        The sample of song play data\n",
    "    \"\"\"\n",
    "    # Load data\n",
    "    song_play_data = pd.read_csv(path, delimiter=',')\n",
    "    print('Original data shape :', song_play_data.shape)\n",
    "\n",
    "\n",
    "    return song_play_data\n"
   ]
  },
  {
   "cell_type": "code",
   "execution_count": 11,
   "metadata": {
    "colab": {
     "base_uri": "https://localhost:8080/"
    },
    "id": "4Dfv1PUKQDVX",
    "outputId": "24cc0d38-5a50-4b27-fe22-9d20bec43c0b"
   },
   "outputs": [
    {
     "name": "stdout",
     "output_type": "stream",
     "text": [
      "Original data shape : (92834, 3)\n"
     ]
    }
   ],
   "source": [
    "# Load rating data\n",
    "song_play_data = load_song_data(path = song_play_path)"
   ]
  },
  {
   "cell_type": "code",
   "execution_count": 12,
   "metadata": {
    "colab": {
     "base_uri": "https://localhost:8080/",
     "height": 206
    },
    "id": "GmCsrRbrQIQa",
    "outputId": "52be2e89-8bdb-48b0-b2d8-3940e977b5b9"
   },
   "outputs": [
    {
     "data": {
      "text/html": [
       "<div>\n",
       "<style scoped>\n",
       "    .dataframe tbody tr th:only-of-type {\n",
       "        vertical-align: middle;\n",
       "    }\n",
       "\n",
       "    .dataframe tbody tr th {\n",
       "        vertical-align: top;\n",
       "    }\n",
       "\n",
       "    .dataframe thead th {\n",
       "        text-align: right;\n",
       "    }\n",
       "</style>\n",
       "<table border=\"1\" class=\"dataframe\">\n",
       "  <thead>\n",
       "    <tr style=\"text-align: right;\">\n",
       "      <th></th>\n",
       "      <th>userID</th>\n",
       "      <th>artistID</th>\n",
       "      <th>weight</th>\n",
       "    </tr>\n",
       "  </thead>\n",
       "  <tbody>\n",
       "    <tr>\n",
       "      <th>0</th>\n",
       "      <td>2</td>\n",
       "      <td>51</td>\n",
       "      <td>13883</td>\n",
       "    </tr>\n",
       "    <tr>\n",
       "      <th>1</th>\n",
       "      <td>2</td>\n",
       "      <td>52</td>\n",
       "      <td>11690</td>\n",
       "    </tr>\n",
       "    <tr>\n",
       "      <th>2</th>\n",
       "      <td>2</td>\n",
       "      <td>53</td>\n",
       "      <td>11351</td>\n",
       "    </tr>\n",
       "    <tr>\n",
       "      <th>3</th>\n",
       "      <td>2</td>\n",
       "      <td>54</td>\n",
       "      <td>10300</td>\n",
       "    </tr>\n",
       "    <tr>\n",
       "      <th>4</th>\n",
       "      <td>2</td>\n",
       "      <td>55</td>\n",
       "      <td>8983</td>\n",
       "    </tr>\n",
       "  </tbody>\n",
       "</table>\n",
       "</div>"
      ],
      "text/plain": [
       "   userID  artistID  weight\n",
       "0       2        51   13883\n",
       "1       2        52   11690\n",
       "2       2        53   11351\n",
       "3       2        54   10300\n",
       "4       2        55    8983"
      ]
     },
     "execution_count": 12,
     "metadata": {},
     "output_type": "execute_result"
    }
   ],
   "source": [
    "song_play_data.head()"
   ]
  },
  {
   "cell_type": "markdown",
   "metadata": {
    "id": "4Kd6ty1Ims7K"
   },
   "source": [
    "# **2. Modelling**: Learning to Rank\n",
    "---"
   ]
  },
  {
   "cell_type": "markdown",
   "metadata": {
    "id": "RFV2ZJ0wq-Xv"
   },
   "source": [
    "## Background\n",
    "---"
   ]
  },
  {
   "cell_type": "markdown",
   "metadata": {
    "id": "6Xw2FC1rXEB-"
   },
   "source": [
    "Previously, we have learn some models :    \n",
    "- Explicit Feedback Recommender System\n",
    "- Implicit Feedback Recommender System"
   ]
  },
  {
   "cell_type": "markdown",
   "metadata": {
    "id": "AunkbthCXL6z"
   },
   "source": [
    "Both approach focus on **generating** accurate prediction as possible, however the model is not directly optimize for ranking task"
   ]
  },
  {
   "cell_type": "markdown",
   "metadata": {
    "id": "tdSx6wU7XXYp"
   },
   "source": [
    "We can implement learning to rank approach.."
   ]
  },
  {
   "cell_type": "markdown",
   "metadata": {
    "id": "yGKx5-OqZ1Rd"
   },
   "source": [
    "<center>\n",
    "<img src=\"../assets/ltr_alt.jpg\" />\n",
    "</center>"
   ]
  },
  {
   "cell_type": "markdown",
   "metadata": {
    "id": "u1SHzpGytFTD"
   },
   "source": [
    "## Workflow\n",
    "---"
   ]
  },
  {
   "cell_type": "markdown",
   "metadata": {
    "id": "p4_cLVQQttS4"
   },
   "source": [
    "To create a personalized RecSys, we can follow these steps:\n",
    "\n",
    "1. Data Preparation --> Create utility matrix & Split Train-Test\n",
    "2. Train recommendation model --> Baseline (Alternating Least Squares) &  Bayesian Personalized Ranking\n",
    "3. Choosing Best Model\n",
    "5. Evaluate Final Model"
   ]
  },
  {
   "cell_type": "markdown",
   "metadata": {
    "id": "vsHza4DG6P72"
   },
   "source": [
    "## Implementing Model From Scratch\n",
    "---"
   ]
  },
  {
   "cell_type": "markdown",
   "metadata": {
    "id": "riejp73MQU9J"
   },
   "source": [
    "#### Data Preparation\n",
    "\n"
   ]
  },
  {
   "cell_type": "markdown",
   "metadata": {
    "id": "UV4KPthACg5P"
   },
   "source": [
    "##### Mapping User and Item ID"
   ]
  },
  {
   "cell_type": "markdown",
   "metadata": {
    "id": "ty5FEqhQCg5P"
   },
   "source": [
    "To create mapping, we can simply create dictionary, which stores :    \n",
    "- UserId to ordered id\n",
    "```python\n",
    "user_to_id = {userid : orderedid}\n",
    "#example\n",
    "user_to_id = {'ab' : 1}\n",
    "```\n",
    "- Ordered id to UserId\n",
    "```python\n",
    "user_to_id = {orderedid : userid }\n",
    "#example\n",
    "user_to_id = {1 : 'ab' }\n",
    "```"
   ]
  },
  {
   "cell_type": "code",
   "execution_count": 13,
   "metadata": {
    "id": "tGD-fHOoCg5P"
   },
   "outputs": [],
   "source": [
    "# mapping user to ordered id\n",
    "user_to_id = {user : idx for idx,user in enumerate(song_play_data['userID'].unique())}\n",
    "\n",
    "id_to_user = {idx : user for idx,user in enumerate(song_play_data['userID'].unique())}"
   ]
  },
  {
   "cell_type": "code",
   "execution_count": 14,
   "metadata": {
    "id": "DGakU5XyCg5P"
   },
   "outputs": [],
   "source": [
    "# mapping item to ordered id\n",
    "item_to_id = {item : idx for idx,item in enumerate(song_play_data['artistID'].unique())}\n",
    "\n",
    "id_to_item = {idx : item for idx,item in enumerate(song_play_data['artistID'].unique())}"
   ]
  },
  {
   "cell_type": "code",
   "execution_count": 15,
   "metadata": {
    "id": "vtGffJDZCg5P"
   },
   "outputs": [],
   "source": [
    "mapped_data = song_play_data.copy()"
   ]
  },
  {
   "cell_type": "code",
   "execution_count": 16,
   "metadata": {
    "id": "l4KCxN9MCg5Q"
   },
   "outputs": [],
   "source": [
    "mapped_data['userID'] = mapped_data['userID'].map(user_to_id)"
   ]
  },
  {
   "cell_type": "code",
   "execution_count": 17,
   "metadata": {
    "id": "nrf4HIOZCg5Q"
   },
   "outputs": [],
   "source": [
    "mapped_data['artistID'] = mapped_data['artistID'].map(item_to_id)"
   ]
  },
  {
   "cell_type": "code",
   "execution_count": 18,
   "metadata": {
    "colab": {
     "base_uri": "https://localhost:8080/",
     "height": 423
    },
    "id": "sesLDZ1lCg5Q",
    "outputId": "b65100a9-1d6c-4551-d069-4b28d10e6348"
   },
   "outputs": [
    {
     "data": {
      "text/html": [
       "<div>\n",
       "<style scoped>\n",
       "    .dataframe tbody tr th:only-of-type {\n",
       "        vertical-align: middle;\n",
       "    }\n",
       "\n",
       "    .dataframe tbody tr th {\n",
       "        vertical-align: top;\n",
       "    }\n",
       "\n",
       "    .dataframe thead th {\n",
       "        text-align: right;\n",
       "    }\n",
       "</style>\n",
       "<table border=\"1\" class=\"dataframe\">\n",
       "  <thead>\n",
       "    <tr style=\"text-align: right;\">\n",
       "      <th></th>\n",
       "      <th>userID</th>\n",
       "      <th>artistID</th>\n",
       "      <th>weight</th>\n",
       "    </tr>\n",
       "  </thead>\n",
       "  <tbody>\n",
       "    <tr>\n",
       "      <th>0</th>\n",
       "      <td>0</td>\n",
       "      <td>0</td>\n",
       "      <td>13883</td>\n",
       "    </tr>\n",
       "    <tr>\n",
       "      <th>1</th>\n",
       "      <td>0</td>\n",
       "      <td>1</td>\n",
       "      <td>11690</td>\n",
       "    </tr>\n",
       "    <tr>\n",
       "      <th>2</th>\n",
       "      <td>0</td>\n",
       "      <td>2</td>\n",
       "      <td>11351</td>\n",
       "    </tr>\n",
       "    <tr>\n",
       "      <th>3</th>\n",
       "      <td>0</td>\n",
       "      <td>3</td>\n",
       "      <td>10300</td>\n",
       "    </tr>\n",
       "    <tr>\n",
       "      <th>4</th>\n",
       "      <td>0</td>\n",
       "      <td>4</td>\n",
       "      <td>8983</td>\n",
       "    </tr>\n",
       "    <tr>\n",
       "      <th>...</th>\n",
       "      <td>...</td>\n",
       "      <td>...</td>\n",
       "      <td>...</td>\n",
       "    </tr>\n",
       "    <tr>\n",
       "      <th>92829</th>\n",
       "      <td>1891</td>\n",
       "      <td>17627</td>\n",
       "      <td>337</td>\n",
       "    </tr>\n",
       "    <tr>\n",
       "      <th>92830</th>\n",
       "      <td>1891</td>\n",
       "      <td>17628</td>\n",
       "      <td>297</td>\n",
       "    </tr>\n",
       "    <tr>\n",
       "      <th>92831</th>\n",
       "      <td>1891</td>\n",
       "      <td>17629</td>\n",
       "      <td>281</td>\n",
       "    </tr>\n",
       "    <tr>\n",
       "      <th>92832</th>\n",
       "      <td>1891</td>\n",
       "      <td>17630</td>\n",
       "      <td>280</td>\n",
       "    </tr>\n",
       "    <tr>\n",
       "      <th>92833</th>\n",
       "      <td>1891</td>\n",
       "      <td>17631</td>\n",
       "      <td>263</td>\n",
       "    </tr>\n",
       "  </tbody>\n",
       "</table>\n",
       "<p>92834 rows × 3 columns</p>\n",
       "</div>"
      ],
      "text/plain": [
       "       userID  artistID  weight\n",
       "0           0         0   13883\n",
       "1           0         1   11690\n",
       "2           0         2   11351\n",
       "3           0         3   10300\n",
       "4           0         4    8983\n",
       "...       ...       ...     ...\n",
       "92829    1891     17627     337\n",
       "92830    1891     17628     297\n",
       "92831    1891     17629     281\n",
       "92832    1891     17630     280\n",
       "92833    1891     17631     263\n",
       "\n",
       "[92834 rows x 3 columns]"
      ]
     },
     "execution_count": 18,
     "metadata": {},
     "output_type": "execute_result"
    }
   ],
   "source": [
    "mapped_data"
   ]
  },
  {
   "cell_type": "markdown",
   "metadata": {
    "id": "28kNP0VDk222"
   },
   "source": [
    "Now, we will create function to map the data"
   ]
  },
  {
   "cell_type": "code",
   "execution_count": 19,
   "metadata": {
    "id": "Xl1ZMdjhk78l"
   },
   "outputs": [],
   "source": [
    "def map_data(data, user_column, item_column) :\n",
    "    \"\"\"\n",
    "    Function to map user and item ID for given dataframe\n",
    "\n",
    "    Paramaters:\n",
    "    ----------\n",
    "    data : pandas.DataFrame\n",
    "        dataframe to be mapped its ID (user and item)\n",
    "\n",
    "    user_column : string\n",
    "        user id to be mapped\n",
    "\n",
    "    item_column : string\n",
    "        item id to be mapped\n",
    "\n",
    "    Returns:\n",
    "    -------\n",
    "    mapped_data : pandas.DataFrame\n",
    "\n",
    "    mapping_user: dict\n",
    "        dictionary contain user_to_id and id_to_user mapping\n",
    "    mapping_item :\n",
    "        dictionary contain item_to_id and id_to_item mapping\n",
    "\n",
    "    \"\"\"\n",
    "    # mapping user to ordered id\n",
    "    user_to_id = {user : idx for idx,user in enumerate(data[user_column].unique())}\n",
    "\n",
    "    id_to_user = {idx : user for idx,user in enumerate(data[user_column].unique())}\n",
    "\n",
    "    # mapping item to ordered id\n",
    "    item_to_id = {item : idx for idx,item in enumerate(data[item_column].unique())}\n",
    "\n",
    "    id_to_item = {idx : item for idx,item in enumerate(data[item_column].unique())}\n",
    "\n",
    "    # copy data to avoid overwriting\n",
    "    mapped_data = data.copy()\n",
    "\n",
    "    mapped_data[user_column] = mapped_data[user_column].map(user_to_id)\n",
    "    mapped_data[item_column] = mapped_data[item_column].map(item_to_id)\n",
    "\n",
    "    # create mapping\n",
    "    mapping_user = {'user_to_id' : user_to_id,'id_to_user' : id_to_user}\n",
    "    mapping_item = {'item_to_id' : item_to_id,'id_to_item' : id_to_item}\n",
    "\n",
    "    return mapped_data,mapping_user,mapping_item"
   ]
  },
  {
   "cell_type": "code",
   "execution_count": 20,
   "metadata": {
    "colab": {
     "base_uri": "https://localhost:8080/",
     "height": 206
    },
    "id": "aB1DRmwHmRqZ",
    "outputId": "62568d03-5b3b-46fb-b1b1-13aacd70d558"
   },
   "outputs": [
    {
     "data": {
      "text/html": [
       "<div>\n",
       "<style scoped>\n",
       "    .dataframe tbody tr th:only-of-type {\n",
       "        vertical-align: middle;\n",
       "    }\n",
       "\n",
       "    .dataframe tbody tr th {\n",
       "        vertical-align: top;\n",
       "    }\n",
       "\n",
       "    .dataframe thead th {\n",
       "        text-align: right;\n",
       "    }\n",
       "</style>\n",
       "<table border=\"1\" class=\"dataframe\">\n",
       "  <thead>\n",
       "    <tr style=\"text-align: right;\">\n",
       "      <th></th>\n",
       "      <th>userID</th>\n",
       "      <th>artistID</th>\n",
       "      <th>weight</th>\n",
       "    </tr>\n",
       "  </thead>\n",
       "  <tbody>\n",
       "    <tr>\n",
       "      <th>0</th>\n",
       "      <td>0</td>\n",
       "      <td>0</td>\n",
       "      <td>13883</td>\n",
       "    </tr>\n",
       "    <tr>\n",
       "      <th>1</th>\n",
       "      <td>0</td>\n",
       "      <td>1</td>\n",
       "      <td>11690</td>\n",
       "    </tr>\n",
       "    <tr>\n",
       "      <th>2</th>\n",
       "      <td>0</td>\n",
       "      <td>2</td>\n",
       "      <td>11351</td>\n",
       "    </tr>\n",
       "    <tr>\n",
       "      <th>3</th>\n",
       "      <td>0</td>\n",
       "      <td>3</td>\n",
       "      <td>10300</td>\n",
       "    </tr>\n",
       "    <tr>\n",
       "      <th>4</th>\n",
       "      <td>0</td>\n",
       "      <td>4</td>\n",
       "      <td>8983</td>\n",
       "    </tr>\n",
       "  </tbody>\n",
       "</table>\n",
       "</div>"
      ],
      "text/plain": [
       "   userID  artistID  weight\n",
       "0       0         0   13883\n",
       "1       0         1   11690\n",
       "2       0         2   11351\n",
       "3       0         3   10300\n",
       "4       0         4    8983"
      ]
     },
     "execution_count": 20,
     "metadata": {},
     "output_type": "execute_result"
    }
   ],
   "source": [
    "song_playdata_mapped,mapping_user,mapping_item = map_data(data= song_play_data,\n",
    "                                user_column = 'userID',\n",
    "                                item_column = 'artistID')\n",
    "song_playdata_mapped.head()"
   ]
  },
  {
   "cell_type": "markdown",
   "metadata": {
    "id": "f3ywiWrmQBwf"
   },
   "source": [
    "### Bayesian Personalized Ranking\n",
    "---"
   ]
  },
  {
   "cell_type": "markdown",
   "metadata": {
    "id": "ctIEqwHxQfva"
   },
   "source": [
    "#### Objective\n",
    "\n"
   ]
  },
  {
   "cell_type": "markdown",
   "metadata": {
    "id": "Z9069BLB1VT8"
   },
   "source": [
    "We begin with Bayes Theorem\n",
    "to find best parameter $θ$ given our data $Y$ :      \n",
    "\n",
    "$$\n",
    "P(\\Theta | Y) = \\begin{align*}\n",
    "\\cfrac {P(Y|\\Theta) \\cdot P(\\Theta)} {P(Y)}\n",
    "\\end{align*}\n",
    "$$\n",
    "\n",
    "we can also implement to find our Bayesian Personalized Ranking models\n",
    "\n",
    "\n",
    "with :    \n",
    "- $\\Theta$ : model parameters, (more than 1)\n",
    "- $Y$ : Observed data"
   ]
  },
  {
   "cell_type": "markdown",
   "metadata": {
    "id": "Pzp3x-QQ62b8"
   },
   "source": [
    "$$\n",
    "\\begin{align*}\n",
    "P(\\theta |i >_u j) =  \\cfrac{P(i >_u j|\\Theta) \\cdot P(\\Theta)}{P(i >_u j)}\n",
    "\\end{align*}\n",
    "$$\n",
    "\n",
    "Since $P(i >_u j)$ is our observation / data, we cannot do anything about it (Given). What we can maximize is our upper part :     \n",
    "- $P(i >_u j|\\Theta) \\cdot P(\\Theta)$"
   ]
  },
  {
   "cell_type": "markdown",
   "metadata": {
    "id": "meToBoGK1eMI"
   },
   "source": [
    "So we can reduce it into :\n",
    "\n",
    "$$\n",
    "\\begin{align*}\n",
    "P(\\Theta |i >_u j) \\propto P(i >_u j|\\Theta) \\cdot P(\\Theta)\n",
    "\\end{align*}\n",
    "$$\n",
    "\n"
   ]
  },
  {
   "cell_type": "markdown",
   "metadata": {
    "id": "rm1wprDkSDE2"
   },
   "source": [
    "So, to find best parameter we can find  $\\underset{}{\\text{max }} P(\\Theta |i >_u j)$\n",
    "\n",
    "recall that\n",
    "$$\n",
    "\\begin{align*}\n",
    "P(\\Theta |i >_u j) \\propto P(i >_u j|\\Theta) \\cdot P(\\Theta)\n",
    "\\end{align*}\n",
    "$$\n",
    "\n",
    "Hence, it means\n",
    "$$\n",
    "\\begin{align*}\n",
    "\\underset{}{\\text{max }} P(\\Theta |i >_u j) \\propto  \\underset{}{\\text{max }} P(i >_u j|\\Theta) \\cdot P(\\Theta)\n",
    "\\end{align*}\n",
    "$$"
   ]
  },
  {
   "cell_type": "markdown",
   "metadata": {
    "id": "znwDd3_UhEVG"
   },
   "source": [
    "Through the training process\n",
    "\n",
    "$$\n",
    "\\begin{align*}\n",
    "\\underset{}{\\text{max}}\\underset{(u,i,j)  \\in D_s }{\\Pi} P(\\Theta |i >_u j) \\propto  \\underset{}{\\text{ max}} \\underset{(u,i,j)  \\in D_s }{\\Pi}  \\left [ P(i >_u j|\\Theta) \\cdot P(\\Theta) \\right ]\n",
    "\\end{align*}\n",
    "$$\n",
    "\n",
    "with :     \n",
    "- $D_s$ : Training Samples"
   ]
  },
  {
   "cell_type": "markdown",
   "metadata": {
    "id": "sqBxARj9YVio"
   },
   "source": [
    "**Break down the component**\n",
    "\n",
    "$$\n",
    "\\begin{align*}\n",
    "P(i >_u j|\\Theta) &= \\sigma(\\hat{r_{uij}}) \\\\\n",
    "P(i >_u j|\\Theta) &= \\sigma(\\hat{r_{ui}}-\\hat{r_{uj}}) \\\\\n",
    "\\end{align*}\n",
    "$$\n",
    "\n",
    "$$\n",
    "\\sigma(x) = \\cfrac{1}{1 + e^{-x}} \n",
    "$$\n",
    "\n",
    "$$\n",
    "\\begin{align*}\n",
    "P(i >_u j|\\Theta) &= \\sigma(\\hat{r_{ui}}-\\hat{r_{uj}}) \\\\\n",
    "P(i >_u j|\\Theta) &= \\cfrac{1}{1 + e^{-(\\hat{r_{ui}}-\\hat{r_{uj}})}} \\\\\n",
    "\\end{align*}\n",
    "$$\n",
    "\n",
    "\n",
    "with\n",
    "\n",
    "- $\\sigma(x)$ : Sigmoid Function\n",
    "- $\\hat{r_{ui}} = x_u \\cdot y_i $\n",
    "- $\\hat{r_{uj}} = x_u \\cdot y_j $\n",
    "- $x_u $ : User Factor from Matrix Factorization Concept\n",
    "- $y_i,y_j$ : Item Factor from Matrix Factorization Concept\n",
    "- $i$ : Positive Sampled Item (User Interact / Consumed Item)\n",
    "- $j$ : Negative Sampled Item (Not Consumed Yet Item)"
   ]
  },
  {
   "cell_type": "markdown",
   "metadata": {
    "id": "N0LPD7bItKvf"
   },
   "source": [
    "Now to $P(\\Theta)$ part\n",
    "\n",
    "remember we have three parameters to be optimized for each training samples\n",
    "- $x_u $ : User Factor from Matrix Factorization Concept\n",
    "- $y_i,y_j$ : Item Factor from Matrix Factorization Concept\n",
    "\n",
    "both user factor and item factor are vector / embeddings\n",
    "\n"
   ]
  },
  {
   "cell_type": "markdown",
   "metadata": {
    "id": "dWaQe7C9t6hB"
   },
   "source": [
    "Our parameter is in continous distribution scheme. So to find Prior of each parameter we can integrate its probability density function (PDF).\n",
    "\n",
    "- Remember PDF is not measure the probability\n",
    "- to find probability ~ finding area under the curve (CDF)\n",
    "- CDF = Integration(PDF)\n",
    "\n"
   ]
  },
  {
   "cell_type": "markdown",
   "metadata": {
    "id": "tctIBHhMumOR"
   },
   "source": [
    "$P(\\Theta)$ is prior from our parameter, in Bayesian Personalized Ranking paper it is assumed that our parameter is in standard normal distribution, which has property :    \n",
    "- $\\mu = 0$\n",
    "- $\\mu = 1$\n",
    "\n",
    "Remember, our parameter is scalar weight like in linear regression but instead a vector with n-element, hence we are following Multivariate Normal Distribution\n",
    "$$\n",
    "\\begin{align}\n",
    "N(\\textbf{x} \\mid \\mu, \\Sigma)\n",
    "&= \\frac{1}{(2\\pi)^{d/2}\\sqrt{|\\Sigma|}} exp(-\\frac{1}{2}(\\textbf{x}-\\mu)^{T}\\Sigma^{-1}(\\textbf{x}-\\mu)) \\\\\n",
    "\\mu = 0 \\text{ and } ||\\Sigma|| = 1 \\\\\n",
    "&= \\frac{1}{(2\\pi)^{d/2}} exp(-\\frac{1}{2}(\\textbf{x}-0)^{T}\\cfrac{1}{1}(\\textbf{x}-0)) \\\\\n",
    "&= \\frac{1}{(2\\pi)^{d/2}} exp(-\\frac{1}{2}\\textbf{x}^{T}\\textbf{x})\n",
    "\\end{align}\n",
    "$$\n",
    "\n",
    "since $\\frac{1}{(2\\pi)^{d/2}}$ is constant, we can ignore for now\n",
    "\n",
    "$\\begin{align}\n",
    "N(\\textbf{x} \\mid \\mu, \\Sigma)  = exp(-\\frac{1}{2}\\textbf{x}^{T}\\textbf{x})\n",
    "\\end{align}$\n",
    "\n",
    "\n",
    "\n",
    "with :  \n",
    "- $\\textbf{x}$ : vector of parameter  \n",
    "- $\\mu$ : vector of eman\n",
    "- $\\Sigma$ : Covariance Matrix (Same Like Variance ($\\sigma^2$) but because we have many variable (vector) it become covariance\n",
    "\n",
    "This equation wont take a bit, this is similar to Standard Normal Distribution"
   ]
  },
  {
   "cell_type": "markdown",
   "metadata": {
    "id": "E9-fBnCAz1Qh"
   },
   "source": [
    "$$\n",
    "\\begin{align*}\n",
    "\\underset{}{\\text{ max}} \\underset{(u,i,j)  \\in D_s }{\\Pi}  \\left [ P(i >_u j|\\Theta) \\cdot P(\\Theta) \\right ] (1)\n",
    "\\end{align*}\n",
    "$$\n",
    "\n",
    "$$\\begin{align*}\n",
    "\\underset{}{\\text{max}}\\underset{(u,i,j)  \\in D_s }{\\Pi} P(\\Theta |i >_u j) &\\propto  \\underset{}{\\text{ max}} \\underset{(u,i,j)  \\in D_s }{\\Pi}  \\left [ \\sigma(\\hat{r_{ui}}-\\hat{r_{uj}}) \\cdot exp(-\\frac{1}{2}\\Theta^{T}\\Theta) \\right ] (2)\n",
    "\\end{align*}\n",
    "$$\n",
    "\n",
    "$$\n",
    "\\begin{align*}\n",
    "\\underset{}{\\text{max}}\\underset{(u,i,j)  \\in D_s }{\\sum} P(\\Theta |i >_u j) &\\propto  \\underset{}{\\text{ max}} \\underset{(u,i,j)  \\in D_s }{\\sum}  \\left [\n",
    "ln \\sigma(\\hat{r_{ui}}-\\hat{r_{uj}}) +  ln (exp(-\\frac{1}{2}\\Theta^{T}\\Theta)) \\right ] (3)\n",
    "\\end{align*}\n",
    "$$"
   ]
  },
  {
   "cell_type": "markdown",
   "metadata": {
    "id": "jpy5cFYb14L5"
   },
   "source": [
    "$$\n",
    "\\begin{align*}\n",
    "\\underset{}{\\text{max}}\\underset{(u,i,j)  \\in D_s }{\\sum} P(\\Theta |i >_u j) &\\propto  \\underset{}{\\text{ max}} \\underset{(u,i,j)  \\in D_s }{\\sum}  \\left [\n",
    "ln \\sigma(\\hat{r_{ui}}-\\hat{r_{uj}})   -\\frac{1}{2}\\Theta^{T}\\Theta \\right ] (4)\\\\\n",
    "\\end{align*}\n",
    "$$\n",
    "\n",
    "- Remember $\\Theta^T.\\Theta$ is norm or  $||\\Theta||^2$\n",
    "\n",
    "$$\n",
    "\\begin{align*}\n",
    "\\underset{}{\\text{max}}\\underset{(u,i,j)  \\in D_s }{\\sum} P(\\Theta |i >_u j) &\\propto  \\underset{}{\\text{ max}} \\underset{(u,i,j)  \\in D_s }{\\sum}  \\left [\n",
    "ln \\sigma(\\hat{r_{ui}}-\\hat{r_{uj}})   -\\frac{1}{2}||\\Theta||^2\\right ] (5)\\\\\n",
    "\\end{align*}\n",
    "$$"
   ]
  },
  {
   "cell_type": "markdown",
   "metadata": {
    "id": "lM77Cmt92ET2"
   },
   "source": [
    "Now, plug back our parameter $x_u, y_i,y_j$\n",
    "\n",
    "$$\n",
    "\\begin{align*}\n",
    "\\underset{x^*,y^*}{\\text{max}}\\underset{(u,i,j)  \\in D_s }{\\sum} P(x_u,y_i,y_j|i >_u j) &\\propto  \\underset{x^*,y^*}{\\text{ max}} \\underset{(u,i,j)  \\in D_s }{\\sum}  \\left [\n",
    "ln \\sigma(\\hat{r_{ui}}-\\hat{r_{uj}})   -\\frac{1}{2}||x_u||^2 -\\frac{1}{2}||y_i||^2 -\\frac{1}{2}||y_j||^2\\right  ] (6)\\\\\n",
    "\\end{align*}\n",
    "$$"
   ]
  },
  {
   "cell_type": "markdown",
   "metadata": {
    "id": "2zfOApkx3uYQ"
   },
   "source": [
    "**Add Regularization**\n",
    "\n",
    "$$\n",
    "\\begin{align*}\n",
    "\\underset{x^*,y^*}{\\text{max}}\\underset{(u,i,j)  \\in D_s }{\\sum} P(x_u,y_i,y_j|i >_u j) &\\propto  \\underset{x^*,y^*}{\\text{ max}} \\underset{(u,i,j)  \\in D_s }{\\sum}  \\left [\n",
    "ln \\sigma(\\hat{r_{ui}}-\\hat{r_{uj}})   -\\frac{\\lambda}{2}||x_u||^2 -\\frac{\\lambda}{2}||y_i||^2 -\\frac{\\lambda}{2}||y_j||^2\\right  ] (7)\\\\\n",
    "\\end{align*}\n",
    "$$"
   ]
  },
  {
   "cell_type": "markdown",
   "metadata": {
    "id": "DAruSDPT4s7v"
   },
   "source": [
    "Usually Optimization Algorithm, having minimize direction, what can we do ?\n",
    "- Multiply Objective Function by **-1**\n",
    "- Our objective now have **minimize direction**"
   ]
  },
  {
   "cell_type": "markdown",
   "metadata": {
    "id": "plfehVrk5EKk"
   },
   "source": [
    "$$\n",
    "\\begin{align*}\n",
    "\\underset{x^*,y^*}{\\text{min}}\\underset{(u,i,j)  \\in D_s }{\\sum} -P(x_u,y_i,y_j|i >_u j) &\\propto  \\underset{x^*,y^*}{\\text{ min}} \\underset{(u,i,j)  \\in D_s }{\\sum}  \\left [\n",
    "-ln \\sigma(\\hat{r_{ui}}-\\hat{r_{uj}})   +\\frac{\\lambda}{2}||x_u||^2 +\\frac{\\lambda}{2}||y_i||^2 +\\frac{\\lambda}{2}||y_j||^2\\right  ] (8)\\\\\n",
    "\\end{align*}\n",
    "$$"
   ]
  },
  {
   "cell_type": "markdown",
   "metadata": {
    "id": "JLVO5GGZmY6T"
   },
   "source": [
    "**Final Objective Function**\n",
    "\n",
    "$$\n",
    "\\begin{align*}\n",
    "\\text{Objective} = \\underset{x^*,y^*}{\\text{ min}} \\underset{(u,i,j)  \\in D_s }{\\sum}  \\left [\n",
    "-ln \\sigma(\\hat{r_{ui}}-\\hat{r_{uj}})   +\\frac{\\lambda}{2}||x_u||^2 +\\frac{\\lambda}{2}||y_i||^2 +\\frac{\\lambda}{2}||y_j||^2\\right  ] (9)\\\\\n",
    "\\end{align*}\n",
    "$$"
   ]
  },
  {
   "cell_type": "markdown",
   "metadata": {
    "id": "Lh3Bl4Y8QMpK"
   },
   "source": [
    "#### Initialization"
   ]
  },
  {
   "cell_type": "markdown",
   "metadata": {
    "id": "893d098b"
   },
   "source": [
    "There are two parameters in Alternating Least Squares\n",
    "- $x_u$ : User factor , matrix `<n_users x n_factor>`\n",
    "- $y_i$ : Item factor , matrix `<n_items x n_factor>`\n"
   ]
  },
  {
   "cell_type": "code",
   "execution_count": 21,
   "metadata": {
    "id": "U9A3sXIfm2yB"
   },
   "outputs": [],
   "source": [
    "n_user = song_playdata_mapped.userID.nunique()\n",
    "n_item = song_playdata_mapped.artistID.nunique()"
   ]
  },
  {
   "cell_type": "code",
   "execution_count": 22,
   "metadata": {
    "colab": {
     "base_uri": "https://localhost:8080/"
    },
    "id": "5rd5Ikf9Bc17",
    "outputId": "c231f85e-203d-4793-8228-4cf9673f7b52"
   },
   "outputs": [
    {
     "name": "stdout",
     "output_type": "stream",
     "text": [
      "Count of User : 1892, Item : 17632\n"
     ]
    }
   ],
   "source": [
    "print(f'Count of User : {n_user}, Item : {n_item}')"
   ]
  },
  {
   "cell_type": "code",
   "execution_count": 23,
   "metadata": {
    "id": "ab3b7e00"
   },
   "outputs": [],
   "source": [
    "# set number of latent factor\n",
    "n_factor = 50"
   ]
  },
  {
   "cell_type": "code",
   "execution_count": 24,
   "metadata": {
    "id": "2653ccfa"
   },
   "outputs": [],
   "source": [
    "# set seed\n",
    "np.random.seed(49)\n",
    "\n",
    "# initialize user and item factor, follow standard normal distribution\n",
    "xu = np.random.normal(0.,1.,size=(n_user,n_factor))\n",
    "yi = np.random.normal(0.,1.,size=(n_item,n_factor))"
   ]
  },
  {
   "cell_type": "code",
   "execution_count": 25,
   "metadata": {
    "colab": {
     "base_uri": "https://localhost:8080/"
    },
    "id": "780dfd91",
    "outputId": "24dc745e-5e4f-4596-fd63-e421f2116345"
   },
   "outputs": [
    {
     "name": "stdout",
     "output_type": "stream",
     "text": [
      "Shape of user factor (1892, 50)\n",
      "Shape of item factor (17632, 50)\n"
     ]
    }
   ],
   "source": [
    "# print shape\n",
    "print('Shape of user factor',xu.shape)\n",
    "print('Shape of item factor',yi.shape)"
   ]
  },
  {
   "cell_type": "code",
   "execution_count": 26,
   "metadata": {
    "id": "mk2KYsOsDrtN"
   },
   "outputs": [],
   "source": [
    "# sigmoid function\n",
    "def sigmoid(x) :\n",
    "    return 1 / (1 + np.exp(-x))"
   ]
  },
  {
   "cell_type": "code",
   "execution_count": 27,
   "metadata": {
    "id": "bJFv0JUDyNDm"
   },
   "outputs": [],
   "source": [
    "# loss function\n",
    "from numpy.linalg import norm\n",
    "\n",
    "def bpr_loss(xu,yi,yj) :\n",
    "    \"\"\"Function to calculate loss on Alternating Least Squares\"\"\"\n",
    "    xui = np.dot(xu,yi.T)\n",
    "    xuj = np.dot(xu,yj.T)\n",
    "\n",
    "    loss = sigmoid(x=xui-xuj)\n",
    "    regularization_loss = norm(xu)**2 + norm(yi)**2  + norm(yj)**2\n",
    "\n",
    "    total_loss = loss + regularization_loss\n",
    "    return total_loss"
   ]
  },
  {
   "cell_type": "markdown",
   "metadata": {
    "id": "8Z9h9ScWmGaa"
   },
   "source": [
    "#### User Sampling"
   ]
  },
  {
   "cell_type": "code",
   "execution_count": 28,
   "metadata": {
    "id": "lj1yK-4RkuUk"
   },
   "outputs": [],
   "source": [
    "def sample_user_item(song_playdata_mapped, batch_size=4, n_users=100) :\n",
    "    sampled_pos_items = np.zeros(batch_size, dtype=int)\n",
    "    sampled_neg_items = np.zeros(batch_size, dtype=int)\n",
    "    sampled_users = np.random.choice(n_users, size = batch_size, replace = False)\n",
    "    for idx, user in enumerate(sampled_users):\n",
    "\n",
    "        pos_items = song_playdata_mapped.loc[song_playdata_mapped['userID']==user,'artistID'].values.tolist()\n",
    "        pos_item = np.random.choice(pos_items)\n",
    "        neg_item = np.random.choice(n_item)\n",
    "        while neg_item in pos_items:\n",
    "            neg_item = np.random.choice(n_item)\n",
    "\n",
    "        sampled_pos_items[idx] = pos_item\n",
    "        sampled_neg_items[idx] = neg_item\n",
    "    return sampled_users,sampled_pos_items,sampled_neg_items\n"
   ]
  },
  {
   "cell_type": "code",
   "execution_count": 29,
   "metadata": {
    "id": "cLKp7o-gnBel"
   },
   "outputs": [],
   "source": [
    "sampled_users,sampled_pos_items,sampled_neg_items = sample_user_item(song_playdata_mapped)"
   ]
  },
  {
   "cell_type": "code",
   "execution_count": 30,
   "metadata": {
    "colab": {
     "base_uri": "https://localhost:8080/"
    },
    "id": "UOuLeD2pnHX2",
    "outputId": "2c903934-9014-4b54-ddb8-a002f446c6fa"
   },
   "outputs": [
    {
     "name": "stdout",
     "output_type": "stream",
     "text": [
      "Sampled User: \n",
      " [60 53 22 64]\n",
      "Sampled Positive Items: \n",
      " [1773 1067  274 1869]\n",
      "Sampled Negative Items: \n",
      " [ 3139  6713 11072  9120]\n"
     ]
    }
   ],
   "source": [
    "print('Sampled User: \\n',sampled_users)\n",
    "print('Sampled Positive Items: \\n',sampled_pos_items)\n",
    "print('Sampled Negative Items: \\n',sampled_neg_items)"
   ]
  },
  {
   "cell_type": "markdown",
   "metadata": {
    "id": "BV_tNaknlJfM"
   },
   "source": [
    "#### Optimization"
   ]
  },
  {
   "cell_type": "markdown",
   "metadata": {
    "id": "ODnQztNlSLdM"
   },
   "source": [
    "What we are going to do, we are going to optimize parameter iteratively using gradient descent."
   ]
  },
  {
   "cell_type": "markdown",
   "metadata": {
    "id": "R8_Xp38cSzNu"
   },
   "source": [
    "Training Process Algorithm Steps :     \n",
    "1. Initialize Parameter Values\n",
    "Loop over n_iteration\n",
    "2. pick sample randomnly (user u, item i, item j) from Training Samples\n",
    "3. find probability $P(i >_u j)$\n",
    "4. Calculate Loss $-ln \\sigma(\\hat{r_{ui}}-\\hat{r_{uj}})   +\\frac{\\lambda}{2}||x_u||^2 +\\frac{\\lambda}{2}||y_i||^2 +\\frac{\\lambda}{2}||y_j||^2 $\n",
    "5. update parameter xu\n",
    "6. update parameter yi\n",
    "7. update parameter yj\n"
   ]
  },
  {
   "cell_type": "markdown",
   "metadata": {
    "id": "kAHNzrlfUAkB"
   },
   "source": [
    "$\\theta_{new} = \\theta_{old} - η \\cdot \\cfrac{\\partial (\\text{Objective})}{\\partial \\theta}$\n",
    "\n",
    "with :     \n",
    "- $\\theta$ : our parameter\n",
    "- $\\eta$ : learning rate"
   ]
  },
  {
   "cell_type": "markdown",
   "metadata": {
    "id": "lkzzhygWrXM6"
   },
   "source": [
    "##### User Factor ($x_u$)\n",
    "\n",
    "$x_{u} = x_{u}  - η \\cdot \\left ( \\underset{(u,i,j)  \\in D_s }{\\sum}  (1-\\sigma(\\hat{r_{ui}}-\\hat{r_{uj}})) \\cdot (y_i - y_j) +  \\lambda ||x_u|| \\right )  $\n",
    "\n"
   ]
  },
  {
   "cell_type": "markdown",
   "metadata": {
    "id": "NMXRJvqCYehg"
   },
   "source": [
    "###### Detail Derivation of  User Factor ($x_u$)"
   ]
  },
  {
   "cell_type": "markdown",
   "metadata": {
    "id": "6Hr1zKwtSEj9"
   },
   "source": [
    "$$\n",
    "\\begin{align*}\n",
    "\\cfrac{\\partial (\\text{Objective})}{\\partial x_{u} } &= \\underset{(u,i,j)  \\in D_s }{\\sum}  \\cfrac{ \\partial \\left [\n",
    "-ln \\sigma(\\hat{r_{ui}}-\\hat{r_{uj}})   +\\frac{\\lambda}{2}||x_u||^2 +\\frac{\\lambda}{2}||y_i||^2 +\\frac{\\lambda}{2}||y_j||^2\\right  ]}{\\partial x_{u}} \\\\\n",
    "\\cfrac{\\partial (\\text{Objective})}{\\partial x_{u} } &=\\underset{(u,i,j)  \\in D_s }{\\sum}  \\cfrac{ \\partial \\left [\n",
    "-ln \\sigma(\\hat{r_{ui}}-\\hat{r_{uj}})  \\right ] }{\\partial x_{u}} + \\cfrac{\\partial (\\frac{\\lambda}{2}||x_u||^2) }{\\partial x_u} \\cfrac{\\partial (\\frac{\\lambda}{2}||y_i||^2) }{\\partial x_u} +  \\cfrac{\\partial (\\frac{\\lambda}{2}||y_j||^2) }{\\partial x_u} \\\\\n",
    "\\cfrac{\\partial (\\text{Objective})}{\\partial x_{u} } &=\\underset{(u,i,j)  \\in D_s }{\\sum}  \\cfrac{\\partial (ln (\\sigma(\\hat{r_{ui}}-\\hat{r_{uj}})))}{\\partial \\sigma(\\hat{r_{ui}}-\\hat{r_{uj}})} \\cdot \\cfrac{\\partial (\\sigma(\\hat{r_{ui}}-\\hat{r_{uj}})) }{\\partial (\\hat{r_{ui}}-\\hat{r_{uj}})} \\cdot \\cfrac{\\partial (\\hat{r_{ui}}-\\hat{r_{uj}})}{\\partial(x_u)} +  \\lambda ||x_u|| \\\\\n",
    "\\cfrac{\\partial (\\text{Objective})}{\\partial x_{u} } &=\\underset{(u,i,j)  \\in D_s }{\\sum}  \\cfrac{1}{\\sigma(\\hat{r_{ui}}-\\hat{r_{uj}})}  \\cdot (\\sigma(\\hat{r_{ui}}-\\hat{r_{uj}}))(1-\\sigma(\\hat{r_{ui}}-\\hat{r_{uj}})) \\cdot (y_i - y_j) +  \\lambda ||x_u|| \\\\\n",
    "\\cfrac{\\partial (\\text{Objective})}{\\partial x_{u} } &=\\underset{(u,i,j)  \\in D_s }{\\sum}  \\cfrac{\\partial (ln (\\sigma(\\hat{r_{ui}}-\\hat{r_{uj}})))}{\\partial \\sigma(\\hat{r_{ui}}-\\hat{r_{uj}})} \\cdot \\cfrac{\\partial (\\sigma(\\hat{r_{ui}}-\\hat{r_{uj}})) }{\\partial (\\hat{r_{ui}}-\\hat{r_{uj}})} \\cdot \\cfrac{\\partial (\\hat{r_{ui}}-\\hat{r_{uj}})}{\\partial(x_u)} +  \\lambda ||x_u|| \\\\\n",
    "\\cfrac{\\partial (\\text{Objective})}{\\partial x_{u} } &=\\underset{(u,i,j)  \\in D_s }{\\sum}  (1-\\sigma(\\hat{r_{ui}}-\\hat{r_{uj}})) \\cdot (y_i - y_j) +  \\lambda ||x_u|| \\\\\n",
    "\\end{align*}\n",
    "$$"
   ]
  },
  {
   "cell_type": "markdown",
   "metadata": {
    "id": "vGbiEYnDVRAp"
   },
   "source": [
    "**Solving by part**\n",
    "\n",
    "$\\cfrac{d(ln(x))}{x} = \\cfrac{1}{x}$\n",
    "\n",
    "1. \n",
    "$$\n",
    "\\cfrac{\\partial (ln (\\sigma(\\hat{r_{ui}}-\\hat{r_{uj}})))}{\\partial \\sigma(\\hat{r_{ui}}-\\hat{r_{uj}})} = \\cfrac{1}{\\sigma(\\hat{r_{ui}}-\\hat{r_{uj}})}\n",
    "$$"
   ]
  },
  {
   "cell_type": "markdown",
   "metadata": {
    "id": "S63VjV73V1aq"
   },
   "source": [
    "$$\\cfrac{d(\\sigma(x))}{x} = (\\sigma(x))(1-\\sigma(x))$$\n",
    "\n",
    "2.  \n",
    "$$\n",
    "\\cfrac{\\partial (\\sigma(\\hat{r_{ui}}-\\hat{r_{uj}})) }{\\partial (\\hat{r_{ui}}-\\hat{r_{uj}})} = (\\sigma(\\hat{r_{ui}}-\\hat{r_{uj}}))(1-\\sigma(\\hat{r_{ui}}-\\hat{r_{uj}}))\n",
    "$$"
   ]
  },
  {
   "cell_type": "markdown",
   "metadata": {
    "id": "hEqgRUDJWevq"
   },
   "source": [
    "$$\n",
    "\\begin{align*}\n",
    "\\hat{r_{ui}}-\\hat{r_{uj}} &= x_u \\cdot y_i - x_u \\cdot y_j \\\\\n",
    "\\hat{r_{ui}}-\\hat{r_{uj}} &= x_u (y_i - y_j) \\\\\n",
    "\\end{align*}\n",
    "$$\n",
    "\n",
    "3. \n",
    "$$ \\begin{align*}\n",
    "\\cfrac{\\partial (\\hat{r_{ui}}-\\hat{r_{uj}})}{\\partial(x_u)} &= \\cfrac{\\partial (x_u (y_i - y_j))}{\\partial(x_u)} \\\\\n",
    "&= (y_i - y_j)\n",
    "\\end{align*}\n",
    "$$"
   ]
  },
  {
   "cell_type": "markdown",
   "metadata": {
    "id": "GHMqBstXrcH7"
   },
   "source": [
    "##### Positive Sample Item Factor ($y_i$)\n",
    "Using the same derivation concept above\n",
    "$y_{i} = y_{i}  - η \\cdot \\left ( \\underset{(u,i,j)  \\in D_s }{\\sum}  (1-\\sigma(\\hat{r_{ui}}-\\hat{r_{uj}})) \\cdot x_u +  \\lambda ||y_i|| \\right )  $"
   ]
  },
  {
   "cell_type": "markdown",
   "metadata": {
    "id": "0jVuhO0JQC09"
   },
   "source": [
    "##### Negative Sample Item Factor ($y_i$)\n",
    "\n",
    "\n",
    "Using the same derivation concept above\n",
    "$y_{j} = y_{j}  - η \\cdot \\left ( \\underset{(u,i,j)  \\in D_s }{\\sum}  (1-\\sigma(\\hat{r_{ui}}-\\hat{r_{uj}})) \\cdot - x_u +  \\lambda ||y_j|| \\right )  $"
   ]
  },
  {
   "cell_type": "markdown",
   "metadata": {
    "id": "-8XM9EYZzXgT"
   },
   "source": [
    "##### Optimization Detail"
   ]
  },
  {
   "cell_type": "code",
   "execution_count": 31,
   "metadata": {
    "id": "oMwz_m1ya6HV"
   },
   "outputs": [],
   "source": [
    "# hyperparameter\n",
    "n_epoch = 100\n",
    "alpha = 1\n",
    "lambda_reg = 0.001\n",
    "lr = 0.001"
   ]
  },
  {
   "cell_type": "code",
   "execution_count": 32,
   "metadata": {
    "id": "7bDNqK9Pk1uX"
   },
   "outputs": [],
   "source": [
    "n_users = song_playdata_mapped.userID.nunique()\n",
    "n_item = song_playdata_mapped.artistID.nunique()\n"
   ]
  },
  {
   "cell_type": "code",
   "execution_count": 33,
   "metadata": {
    "id": "uyqBEMvMlHbj"
   },
   "outputs": [],
   "source": [
    "batch_size = 30"
   ]
  },
  {
   "cell_type": "markdown",
   "metadata": {
    "id": "LkT1tNF1mKnC"
   },
   "source": [
    "#### Update Parameter"
   ]
  },
  {
   "cell_type": "code",
   "execution_count": 34,
   "metadata": {
    "id": "J7CnrBqooKMu"
   },
   "outputs": [],
   "source": [
    "xu_copy = xu.copy()\n",
    "yi_copy = yi.copy()"
   ]
  },
  {
   "cell_type": "code",
   "execution_count": 35,
   "metadata": {
    "colab": {
     "base_uri": "https://localhost:8080/"
    },
    "id": "ZC0A49T5mStv",
    "outputId": "467ce35d-b2d8-497a-8e7d-86d1c28323ac"
   },
   "outputs": [
    {
     "name": "stderr",
     "output_type": "stream",
     "text": [
      "100%|██████████| 100/100 [00:00<00:00, 508.21it/s]\n"
     ]
    }
   ],
   "source": [
    "from tqdm import tqdm\n",
    "for _ in tqdm(range(n_epoch)) :\n",
    "    # sample user, positive item\n",
    "    sampled_users,sampled_pos_items,sampled_neg_items = sample_user_item(song_playdata_mapped)\n",
    "\n",
    "    user_u_factor = xu_copy[sampled_users]\n",
    "    item_i_factor = yi_copy[sampled_pos_items]\n",
    "    item_j_factor = yi_copy[sampled_neg_items]\n",
    "\n",
    "    # calculate x_ui and x_uj\n",
    "\n",
    "    xuij = np.sum(user_u_factor.dot((item_i_factor - item_i_factor).T), axis = 1)\n",
    "    # predict proba\n",
    "    proba_xuij = sigmoid(xuij)\n",
    "    # calculate loss\n",
    "    loss = bpr_loss(xu= user_u_factor,yi= item_i_factor, yj= item_j_factor )\n",
    "    # update user factor\n",
    "    xu_copy[sampled_users] -= -1*(np.dot((1-proba_xuij),(item_i_factor - item_j_factor)) + lambda_reg*norm(user_u_factor))*lr\n",
    "    # update i item factor\n",
    "    yi_copy[sampled_pos_items] -= -1*(np.dot((1-proba_xuij),(user_u_factor)) + lambda_reg*norm(item_i_factor))*lr\n",
    "\n",
    "    # update j item factor\n",
    "    yi_copy[sampled_neg_items] -= -1*(np.dot((1-proba_xuij),(-1*user_u_factor)) + lambda_reg*norm(item_j_factor))*lr"
   ]
  },
  {
   "cell_type": "markdown",
   "metadata": {
    "id": "zLYUJtrMN-T1"
   },
   "source": [
    "#### Object Oriented Code"
   ]
  },
  {
   "cell_type": "code",
   "execution_count": 36,
   "metadata": {
    "id": "V7vqObRSGvXg"
   },
   "outputs": [],
   "source": [
    "import sys\n",
    "from itertools import islice\n",
    "\n",
    "class BayesianPersonalizedRanking:\n",
    "    \"\"\"\n",
    "    Bayesian Personalized Ranking (BPR) for implicit feedback data\n",
    "    \"\"\"\n",
    "    def __init__(self, lr = 0.01, n_factor = 15, n_epoch = 10,\n",
    "                 batch_size = 1, lambda_reg = 0.01):\n",
    "\n",
    "\n",
    "        self.n_epoch = n_epoch\n",
    "        self.n_factor = n_factor\n",
    "        self.batch_size = batch_size\n",
    "        self.lr = lr\n",
    "        self.lambda_reg = lambda_reg\n",
    "        # to avoid re-computation at predict\n",
    "        self._prediction = None\n",
    "\n",
    "    def fit(self,utility_data,user_column,item_column,utility_column) :\n",
    "        \"\"\"\n",
    "        Function to fit utility_data\n",
    "        Parameters :\n",
    "        -----------\n",
    "        utility_data : pandas.DataFrame\n",
    "            utility_dataframe contain user and item interaction order <userID,itemID,utility_value>\n",
    "        user_column : string\n",
    "        item_column : string\n",
    "        utility_column : string\n",
    "        Returns :\n",
    "        --------\n",
    "\n",
    "        \"\"\"\n",
    "        self.utility_data = utility_data\n",
    "        self.user_column = user_column\n",
    "        self.item_column = item_column\n",
    "        self.utility_column = utility_column\n",
    "        self.n_user = utility_data[user_column].nunique()\n",
    "        self.n_item = utility_data[item_column].nunique()\n",
    "\n",
    "        batch_size = self.batch_size\n",
    "        if n_users < batch_size:\n",
    "            batch_size = n_users\n",
    "            sys.stderr.write('WARNING: Batch size is greater than number of users,'\n",
    "                             'switching to a batch size of {}\\n'.format(n_users))\n",
    "\n",
    "        batch_iters = n_users // batch_size\n",
    "        # initialize parameter\n",
    "        np.random.seed(49)\n",
    "        self.xu = np.random.normal(0.,1.,size=(self.n_user,self.n_factor))\n",
    "        self.yi = np.random.normal(0.,1.,size=(self.n_item,self.n_factor))\n",
    "\n",
    "        self.loss_per_epoch = []\n",
    "        for _ in tqdm(range(self.n_epoch)) :\n",
    "            loss_per_batch = []\n",
    "            for _ in tqdm(range(batch_iters)):\n",
    "                user, positive_item, negative_item = self.sample_uij()\n",
    "                # calculate loss\n",
    "                loss = self.bpr_loss(u= user,i = positive_item,j= negative_item )\n",
    "                self.update_parameter(user, positive_item, negative_item)\n",
    "                loss_per_batch.append(loss)\n",
    "            loss_per_batch = np.mean(loss_per_batch)\n",
    "            self.loss_per_epoch.append(loss_per_batch)\n",
    "\n",
    "        return self\n",
    "\n",
    "    def sample_uij(self):\n",
    "        \"\"\"Function to sample user,positive item(i), and negative item\"\"\"\n",
    "        sampled_pos_items = np.zeros(self.batch_size, dtype = np.int64)\n",
    "        sampled_neg_items = np.zeros(self.batch_size, dtype = np.int64)\n",
    "        sampled_users = np.random.choice(\n",
    "            n_users, size = self.batch_size, replace = False)\n",
    "\n",
    "        for idx, user in enumerate(sampled_users):\n",
    "            pos_items = self.utility_data.loc[self.utility_data[self.user_column]==user,self.item_column].values.tolist()\n",
    "            pos_item = np.random.choice(pos_items)\n",
    "            neg_item = np.random.choice(self.n_item)\n",
    "            while neg_item in pos_items:\n",
    "                neg_item = np.random.choice(self.n_item)\n",
    "\n",
    "            sampled_pos_items[idx] = pos_item\n",
    "            sampled_neg_items[idx] = neg_item\n",
    "\n",
    "        return sampled_users, sampled_pos_items, sampled_neg_items\n",
    "    def bpr_loss(self,u,i,j) :\n",
    "        \"\"\"Function to calculate loss on BPR Model\"\"\"\n",
    "        user_u_factor = self.xu[u]\n",
    "        # item i factor\n",
    "        item_i_factor = self.yi[i]\n",
    "        # item j factor\n",
    "        item_j_factor = self.yi[j]\n",
    "\n",
    "        xuij = np.sum(user_u_factor.dot((item_i_factor - item_j_factor).T), axis = 1)\n",
    "        # predict proba\n",
    "        loss = sigmoid(xuij)\n",
    "        regularization_loss = norm(user_u_factor)**2 + norm(item_i_factor)**2  + norm(item_j_factor)**2\n",
    "\n",
    "        total_loss = -1*loss + regularization_loss\n",
    "        return total_loss\n",
    "\n",
    "    def predict(self,user_id,item_id) :\n",
    "        \"\"\"\n",
    "        Function to predict preference on user id and item id level\n",
    "        Parameters :\n",
    "        -----------\n",
    "        userid : int\n",
    "            mapped user id\n",
    "        itemid : int\n",
    "            mapped item id\n",
    "\n",
    "        Returns :\n",
    "        --------\n",
    "        predicted_preference : float\n",
    "            predicted preference score\n",
    "        \"\"\"\n",
    "        score  = self.xu[user_id].dot(self.yi[item_id].T)\n",
    "\n",
    "        return score\n",
    "\n",
    "    def update_parameter(self, u, i, j):\n",
    "          # user factor\n",
    "          user_u_factor = self.xu[u]\n",
    "          # item i factor\n",
    "          item_i_factor = self.yi[i]\n",
    "          # item j factor\n",
    "          item_j_factor = self.yi[j]\n",
    "          # calculate x_ui and x_uj\n",
    "          xuij = np.sum(user_u_factor.dot((item_i_factor - item_j_factor).T), axis = 1)\n",
    "          # predict proba\n",
    "          score = 0\n",
    "          for j in range(self.n_factor + 1):\n",
    "                score = score + user_u_factor[j] * (item_i_factor[j] - item_j_factor[j])\n",
    "          proba_xuij = sigmoid(score)\n",
    "\n",
    "          # calculate loss\n",
    "          loss = bpr_loss(xu= user_u_factor,yi= item_i_factor, yj= item_j_factor )\n",
    "          # update user factor\n",
    "          for factor in range(self.n_factor ):\n",
    "              self.xu[u,factor] += -1*(np.dot((1-proba_xuij),(item_i_factor[factor] - item_j_factor[factor])) + self.lambda_reg*norm(user_u_factor[factor]))*self.lr\n",
    "              # update i item factor\n",
    "              self.yi[i,factor] += -1*(np.dot((1-proba_xuij),(user_u_factor[factor])) + self.lambda_reg*norm(item_i_factor[factor]))*self.lr\n",
    "\n",
    "              # update j item factor\n",
    "              self.yi[j,factor] += -1*(np.dot((1-proba_xuij),(-1*user_u_factor[factor])) + self.lambda_reg*norm(item_j_factor[factor]))*self.lr\n",
    "\n",
    "          # self.xu[u] -= -1*(np.dot((1-proba_xuij),(item_i_factor - item_j_factor)) + self.lambda_reg*norm(user_u_factor))*self.lr\n",
    "          # # update i item factor\n",
    "          # self.yi[i] -= -1*(np.dot((1-proba_xuij),(user_u_factor)) + self.lambda_reg*norm(item_i_factor))*self.lr\n",
    "\n",
    "          # # update j item factor\n",
    "          # self.yi[j] -= -1*(np.dot((1-proba_xuij),(-1*user_u_factor)) + self.lambda_reg*norm(item_j_factor))*self.lr\n",
    "\n",
    "\n",
    "    def _predict_user(self, user):\n",
    "        \"\"\"\n",
    "        returns the predicted ratings for the specified user,\n",
    "        this is mainly used in computing evaluation metric\n",
    "        \"\"\"\n",
    "        user_pred = self.xu[user].dot(self.yi.T)\n",
    "        return user_pred\n",
    "\n",
    "\n",
    "\n",
    "    def recommend_per_user(self, utility_data,user_column,item_column, userid, N,recommend_seen=False):\n",
    "        \"\"\"\"\"\"\n",
    "        scores = self._predict_user(userid)\n",
    "\n",
    "        consumed_item = utility_data.loc[utility_data[user_column]==userid,item_column].values.tolist()\n",
    "\n",
    "        count = N + len(consumed_item)\n",
    "        if count < scores.shape[0]:\n",
    "\n",
    "\n",
    "            ids = np.argpartition(scores, -count)[-count:]\n",
    "            best_ids = np.argsort(scores[ids])[::-1]\n",
    "            best = ids[best_ids]\n",
    "        else:\n",
    "            best = np.argsort(scores)[::-1]\n",
    "\n",
    "        if recommend_seen :\n",
    "          top_n = best[:N]\n",
    "        else :\n",
    "          top_n = list(islice((rec for rec in best if rec not in consumed_item), N))\n",
    "\n",
    "\n",
    "        return top_n\n",
    "\n",
    "\n",
    "    def plot_loss(self) :\n",
    "        \"\"\"Function to plot the loss during training\"\"\"\n",
    "        return plt.plot([x for x in range(self.n_epoch)],self.loss_per_epoch)\n"
   ]
  },
  {
   "cell_type": "code",
   "execution_count": 37,
   "metadata": {
    "colab": {
     "base_uri": "https://localhost:8080/"
    },
    "id": "riON5cMzQG7P",
    "outputId": "fbdd7cf3-2759-4b9f-f040-27a68436ed86"
   },
   "outputs": [
    {
     "name": "stderr",
     "output_type": "stream",
     "text": [
      "  0%|          | 0/10 [00:00<?, ?it/s]/tmp/ipykernel_5657/1077973123.py:3: RuntimeWarning: overflow encountered in exp\n",
      "  return 1 / (1 + np.exp(-x))\n",
      "100%|██████████| 1/1 [00:00<00:00,  1.20it/s]\n",
      "100%|██████████| 1/1 [00:00<00:00,  1.18it/s]]\n",
      "100%|██████████| 1/1 [00:00<00:00,  1.19it/s]]\n",
      "100%|██████████| 1/1 [00:00<00:00,  1.14it/s]]\n",
      "100%|██████████| 1/1 [00:01<00:00,  1.10s/it]]\n",
      "100%|██████████| 1/1 [00:00<00:00,  1.05it/s]]\n",
      "100%|██████████| 1/1 [00:00<00:00,  1.20it/s]]\n",
      "100%|██████████| 1/1 [00:00<00:00,  1.18it/s]]\n",
      "100%|██████████| 1/1 [00:00<00:00,  1.18it/s]]\n",
      "100%|██████████| 1/1 [00:00<00:00,  1.18it/s]]\n",
      "100%|██████████| 10/10 [00:08<00:00,  1.13it/s]\n"
     ]
    },
    {
     "data": {
      "text/plain": [
       "<__main__.BayesianPersonalizedRanking at 0x7f7a1e4d9330>"
      ]
     },
     "execution_count": 37,
     "metadata": {},
     "output_type": "execute_result"
    }
   ],
   "source": [
    "bpr_model = BayesianPersonalizedRanking(\n",
    "    n_epoch=10,\n",
    "    lr=0.001,\n",
    "    lambda_reg=0.02,\n",
    "    n_factor=10,\n",
    "    batch_size=n_user\n",
    ")\n",
    "\n",
    "bpr_model.fit(utility_data = mapped_data,user_column='userID',\n",
    "              item_column='artistID',\n",
    "              utility_column='weight'\n",
    ")"
   ]
  },
  {
   "cell_type": "code",
   "execution_count": 38,
   "metadata": {
    "colab": {
     "base_uri": "https://localhost:8080/",
     "height": 453
    },
    "id": "TMHlPam80HPu",
    "outputId": "8367bb5d-45c0-4c5e-ef0f-a631a9583df8"
   },
   "outputs": [
    {
     "data": {
      "text/plain": [
       "[<matplotlib.lines.Line2D at 0x7f7a1cb7e6e0>]"
      ]
     },
     "execution_count": 38,
     "metadata": {},
     "output_type": "execute_result"
    },
    {
     "data": {
      "image/png": "[encoded data removed]",
      "text/plain": [
       "<Figure size 640x480 with 1 Axes>"
      ]
     },
     "metadata": {},
     "output_type": "display_data"
    }
   ],
   "source": [
    "bpr_model.plot_loss()"
   ]
  },
  {
   "cell_type": "markdown",
   "metadata": {
    "id": "5_AQQtPrRRfy"
   },
   "source": [
    "#### Generating Prediction"
   ]
  },
  {
   "cell_type": "markdown",
   "metadata": {
    "id": "dztMuMl9S3Dt"
   },
   "source": [
    "Let say, we want to predict the preference to user 1 on item 1  "
   ]
  },
  {
   "cell_type": "code",
   "execution_count": 39,
   "metadata": {
    "colab": {
     "base_uri": "https://localhost:8080/"
    },
    "id": "DHsJCPLsHW3A",
    "outputId": "42016603-6b00-4dac-a3e6-791383074c9d"
   },
   "outputs": [
    {
     "data": {
      "text/plain": [
       "3.2626766795933984"
      ]
     },
     "execution_count": 39,
     "metadata": {},
     "output_type": "execute_result"
    }
   ],
   "source": [
    "user_target = 1\n",
    "item_target = 1\n",
    "pred = bpr_model.predict(\n",
    "    user_id= user_target,\n",
    "    item_id= item_target\n",
    ")\n",
    "\n",
    "pred"
   ]
  },
  {
   "cell_type": "code",
   "execution_count": 40,
   "metadata": {
    "colab": {
     "base_uri": "https://localhost:8080/"
    },
    "id": "3uCy-5a31GHL",
    "outputId": "62b56f25-eddb-4a23-a355-4da1c7bd0dc2"
   },
   "outputs": [
    {
     "data": {
      "text/plain": [
       "[4958, 10947, 15680, 10066, 2112]"
      ]
     },
     "execution_count": 40,
     "metadata": {},
     "output_type": "execute_result"
    }
   ],
   "source": [
    "bpr_model.recommend_per_user(\n",
    "    utility_data = song_playdata_mapped,\n",
    "    user_column='userID',\n",
    "    item_column='artistID',\n",
    "    userid=1,\n",
    "    N=5\n",
    ")"
   ]
  },
  {
   "cell_type": "markdown",
   "metadata": {
    "id": "EJUYKN1XSMA5"
   },
   "source": [
    "We see that our prediction is close enough, now we will evaluate in context of generated prediction using Precision Metrics, the way is simple"
   ]
  },
  {
   "cell_type": "markdown",
   "metadata": {
    "id": "cU6lu3Z4SxTz"
   },
   "source": [
    "#### Evaluating Model"
   ]
  },
  {
   "cell_type": "markdown",
   "metadata": {
    "id": "2MThx3zNVK2h"
   },
   "source": [
    "For, easier calculation we will use function to measure **NDCG@K**, we are going to use using NDCG@5 recommended item"
   ]
  },
  {
   "cell_type": "code",
   "execution_count": 41,
   "metadata": {
    "id": "z3i0Jjk_kucx"
   },
   "outputs": [],
   "source": [
    "def dcg(true_item, predicted_item, k):\n",
    "    \"\"\"Function to calculate DCG @ k\"\"\"\n",
    "    # Create a store\n",
    "    dcgs = []\n",
    "\n",
    "    # iterate over the k\n",
    "    for position in range(k):\n",
    "        # Obtain relevance of item at position\n",
    "        rel_pos = true_item[position] == predicted_item[position]\n",
    "\n",
    "        # Calculate pos-th DCG\n",
    "        dcg_pos = ((2**rel_pos)-1) / (np.log2(position+1 + 2))\n",
    "\n",
    "        # Append to dcgs\n",
    "        dcgs.append(dcg_pos)\n",
    "\n",
    "    # Calculate the sum of DCG at every position\n",
    "    score = np.sum(dcgs)\n",
    "\n",
    "    return score"
   ]
  },
  {
   "cell_type": "code",
   "execution_count": 42,
   "metadata": {
    "id": "JsVWmmH3VuXy"
   },
   "outputs": [],
   "source": [
    "def ndcg(true_item, predicted_item, k) :\n",
    "    \"\"\"Function to calculate the normalized dcg @ k\"\"\"\n",
    "    # Calculate DCG @ K\n",
    "    dcg_result = dcg(true_item = true_item,\n",
    "                     predicted_item = predicted_item,\n",
    "                     k = k)\n",
    "\n",
    "    # Calculate ideal DCG @ k\n",
    "    idcg_result = dcg(true_item = true_item,\n",
    "                      predicted_item = true_item,\n",
    "                      k = k)\n",
    "\n",
    "    # Normalize the DCG\n",
    "    ndcg_result = dcg_result/idcg_result\n",
    "\n",
    "    return ndcg_result"
   ]
  },
  {
   "cell_type": "code",
   "execution_count": 43,
   "metadata": {
    "colab": {
     "base_uri": "https://localhost:8080/"
    },
    "id": "WdsvplcXTKTw",
    "outputId": "64830e83-8dc0-41ec-e5dd-dd44c9a0e255"
   },
   "outputs": [
    {
     "data": {
      "text/plain": [
       "8.871898572453276e-05"
      ]
     },
     "execution_count": 43,
     "metadata": {},
     "output_type": "execute_result"
    }
   ],
   "source": [
    "# create empty dictionary to\n",
    "# loop all over userID\n",
    "ndcg_all = np.zeros(mapped_data.userID.nunique() )\n",
    "n_item_to_recommend = 5\n",
    "\n",
    "for user in song_playdata_mapped.userID.unique() :\n",
    "    #\n",
    "    recommendation = bpr_model.recommend_per_user(utility_data = song_playdata_mapped,user_column='userID',item_column='artistID',\n",
    "                                 userid=user,\n",
    "                                 N=n_item_to_recommend,\n",
    "                                 recommend_seen=True)\n",
    "\n",
    "    # compare to data in mapped data\n",
    "    user_true_consumed_item = mapped_data.loc[mapped_data['userID']==user,'artistID'].tolist()\n",
    "\n",
    "    # we may have item recommended > number of user consumed item\n",
    "    at_k = min(n_item_to_recommend,len(user_true_consumed_item))\n",
    "\n",
    "    ndcg_at_k = ndcg(true_item = user_true_consumed_item[:at_k],\n",
    "                          predicted_item = recommendation[:at_k],k=at_k)\n",
    "    # append precision\n",
    "    ndcg_all[user] = ndcg_at_k\n",
    "\n",
    "avg_ndcg = np.mean(ndcg_all)\n",
    "avg_ndcg"
   ]
  },
  {
   "cell_type": "markdown",
   "metadata": {
    "id": "rgi2B5xP9HJp"
   },
   "source": [
    "## Train Recommender System Models\n",
    "---"
   ]
  },
  {
   "cell_type": "markdown",
   "metadata": {
    "id": "t6gR8Qbg9GzC"
   },
   "source": [
    "### Experiment\n",
    "---"
   ]
  },
  {
   "cell_type": "markdown",
   "metadata": {
    "id": "r55SQDgq9QBl"
   },
   "source": [
    "We want to train all model candidate with its hyperparameter so that we can compare which model + settings yield good result"
   ]
  },
  {
   "cell_type": "markdown",
   "metadata": {
    "id": "PrgnEa1u_OIG"
   },
   "source": [
    "<center>\n",
    "<img src=\"../assets/ltr_experiment.png\">\n",
    "</center>"
   ]
  },
  {
   "cell_type": "markdown",
   "metadata": {
    "id": "ZUzU4pIGAj9X"
   },
   "source": [
    "Since *Hyperparameter* Is not yielded through learning process, we have to find it / set it to yield optimal model performance"
   ]
  },
  {
   "cell_type": "markdown",
   "metadata": {
    "id": "a4qB0ddaAsen"
   },
   "source": [
    "Some methods  Hyperparameter Tuning :    \n",
    "\n",
    "- GridSearchCV\n",
    "\n",
    "  Fitting model through all combinations of hyperparameter values and compare each fit → which combinations yield the best objective\n",
    "\n",
    "- RandomizedSearchCV\n",
    "\n",
    "  Fitting Model only through sampled hyperparameter candidates. Much more efficient than GridSearchCV\n",
    "\n",
    "- Bayesian Optimization\n",
    "\n",
    "  Using Bayesian Approach, which include sampling to find best parameter\n"
   ]
  },
  {
   "cell_type": "markdown",
   "metadata": {
    "id": "NQaBAvl4E6EP"
   },
   "source": [
    "**Cross Validation** Method\n",
    "\n",
    "We are going to find the best hyperparameter by comparing sampled parameter combination on validation set"
   ]
  },
  {
   "cell_type": "markdown",
   "metadata": {
    "id": "h46ISxG2FBh8"
   },
   "source": [
    "**Hyperparameter Method** : *Bayesian Optimization*\n"
   ]
  },
  {
   "cell_type": "markdown",
   "metadata": {
    "id": "QCo4XG5Cc8wG"
   },
   "source": [
    "**Model Candidate**\n",
    "\n",
    "1. Baseline Model : Alternating Least Squares\n",
    "2. Bayesian Personalized Ranking"
   ]
  },
  {
   "cell_type": "markdown",
   "metadata": {
    "id": "-B8h4AGYsJJH"
   },
   "source": [
    "Using Model from Scratch may be benefit for us sometimes, such as getting know to the model inside out the model , however sometimes if we do it from scratch our code is not optimized both in data structure and languannge, since then for training purpose we will use package called Implicit"
   ]
  },
  {
   "cell_type": "markdown",
   "metadata": {
    "id": "9dfOM4lD5PPP"
   },
   "source": [
    "#### Load Data"
   ]
  },
  {
   "cell_type": "code",
   "execution_count": 44,
   "metadata": {
    "id": "8RVVQvY65wTe"
   },
   "outputs": [],
   "source": [
    "full_data_path = '../data/user_artist_play.csv'"
   ]
  },
  {
   "cell_type": "code",
   "execution_count": 45,
   "metadata": {
    "id": "p7CPEcs06AW1"
   },
   "outputs": [],
   "source": [
    "def preprocess_data(song_play_data) :\n",
    "    \"\"\"\n",
    "    Function to preprocess data\n",
    "    Parameters\n",
    "    ----------\n",
    "    song_play_data : pandas.DataFrame\n",
    "        contain the song_play data\n",
    "\n",
    "    Returns\n",
    "    -------\n",
    "    song_play_data : pandas DataFrame\n",
    "        The sample of song_play data\n",
    "\n",
    "    mapping_user : dict\n",
    "        contain mappers :\n",
    "        1. user to id\n",
    "        2. id to user\n",
    "\n",
    "    mapping_item : dict\n",
    "        contain mappers :\n",
    "        1. item to id\n",
    "        2. id to item\n",
    "\n",
    "    \"\"\"\n",
    "    # copy to avoid overwriting the original dataframe\n",
    "    song_play_data = song_play_data.copy()\n",
    "    \n",
    "    # mapping step\n",
    "    # mapping user to ordered id\n",
    "    user_to_id = {user : idx for idx,user in enumerate(song_play_data['userID'].unique())}\n",
    "    id_to_user = {idx : user for idx,user in enumerate(song_play_data['userID'].unique())}\n",
    "\n",
    "    # mapping item to ordered id\n",
    "    item_to_id = {item : idx for idx,item in enumerate(song_play_data['artistID'].unique())}\n",
    "    id_to_item = {idx : item for idx,item in enumerate(song_play_data['artistID'].unique())}\n",
    "\n",
    "    mapping_user = {'user_to_id' : user_to_id,'id_to_user' : id_to_user}\n",
    "    mapping_item = {'item_to_id' : item_to_id,'id_to_item' : id_to_item}\n",
    "\n",
    "    song_play_data['userID'] = song_play_data['userID'].map(user_to_id)\n",
    "    song_play_data['artistID'] = song_play_data['artistID'].map(item_to_id)\n",
    "\n",
    "\n",
    "    # create utility matrix\n",
    "    row = song_play_data['userID'].values\n",
    "    col = song_play_data['artistID'].values\n",
    "    data = song_play_data['weight'].values\n",
    "\n",
    "\n",
    "    utility_matrix = sp.coo_matrix((data, (row, col)))\n",
    "     # return all product(including mapping)\n",
    "    return utility_matrix, mapping_user,mapping_item"
   ]
  },
  {
   "cell_type": "code",
   "execution_count": 46,
   "metadata": {
    "colab": {
     "base_uri": "https://localhost:8080/"
    },
    "id": "C96psapA63ez",
    "outputId": "8abb4dcd-dd20-4ca0-ad96-099236bfb737"
   },
   "outputs": [
    {
     "name": "stdout",
     "output_type": "stream",
     "text": [
      "Original data shape : (92834, 3)\n"
     ]
    }
   ],
   "source": [
    "song_data_full = load_song_data(path=full_data_path)\n",
    "song_utility_matrix,mapping_user,mapping_item = preprocess_data(song_play_data = song_data_full)"
   ]
  },
  {
   "cell_type": "code",
   "execution_count": 47,
   "metadata": {
    "colab": {
     "base_uri": "https://localhost:8080/"
    },
    "id": "qaLNhG9b9y14",
    "outputId": "b39302c7-8d67-4c13-9059-054def9bcbfa"
   },
   "outputs": [
    {
     "data": {
      "text/plain": [
       "<1892x17632 sparse matrix of type '<class 'numpy.int64'>'\n",
       "\twith 92834 stored elements in COOrdinate format>"
      ]
     },
     "execution_count": 47,
     "metadata": {},
     "output_type": "execute_result"
    }
   ],
   "source": [
    "song_utility_matrix"
   ]
  },
  {
   "cell_type": "markdown",
   "metadata": {
    "id": "6NIs2AxW7IT-"
   },
   "source": [
    "Now, we are going to split the data into Three Subset :  \n",
    "1. Training 60%\n",
    "2. Validation 20%\n",
    "3. Testing 20%\n",
    "\n",
    "to perform this we can create function on our own"
   ]
  },
  {
   "cell_type": "code",
   "execution_count": 48,
   "metadata": {
    "colab": {
     "base_uri": "https://localhost:8080/"
    },
    "id": "Xgvu65Zk8uxX",
    "outputId": "bea6d7fe-be70-4f23-cd79-cae474d371a6"
   },
   "outputs": [
    {
     "name": "stderr",
     "output_type": "stream",
     "text": [
      "/home/ubuntu/learning/recommendation_system/.venv/lib/python3.10/site-packages/tqdm/auto.py:21: TqdmWarning: IProgress not found. Please update jupyter and ipywidgets. See https://ipywidgets.readthedocs.io/en/stable/user_install.html\n",
      "  from .autonotebook import tqdm as notebook_tqdm\n"
     ]
    }
   ],
   "source": [
    "from implicit.evaluation import train_test_split\n",
    "# split data into train and test\n",
    "train_full,test = train_test_split(song_utility_matrix,train_percentage=0.8)\n",
    "\n",
    "# set train_full to coo_again to perform splitting for validation data\n",
    "train,val = train_test_split(song_utility_matrix,train_percentage=0.75)"
   ]
  },
  {
   "cell_type": "code",
   "execution_count": 49,
   "metadata": {
    "colab": {
     "base_uri": "https://localhost:8080/"
    },
    "id": "AMYaPPgl9li_",
    "outputId": "273d568e-ad62-4feb-a5d3-e7f34a65db6f"
   },
   "outputs": [
    {
     "name": "stdout",
     "output_type": "stream",
     "text": [
      "train shape 69589\n",
      "val shape 23245\n",
      "test shape 18640\n"
     ]
    }
   ],
   "source": [
    "print('train shape',train.nnz)\n",
    "print('val shape',val.nnz)\n",
    "print('test shape',test.nnz)"
   ]
  },
  {
   "cell_type": "markdown",
   "metadata": {
    "id": "uq7h_Jmn4OCt"
   },
   "source": [
    "Since we will be using package called implicit, the package source code is fully optimized and considered fast, we can use full data."
   ]
  },
  {
   "cell_type": "markdown",
   "metadata": {
    "id": "9_5zu4v8utSW"
   },
   "source": [
    "We are going to run Hyperparameter Tuning for each model to know which model are the best , however our package, does not provide the hyperparameter tuning. Why don't we create one. We are going to create RandomizedSearchCV"
   ]
  },
  {
   "cell_type": "markdown",
   "metadata": {
    "id": "r9vryTajvPTs"
   },
   "source": [
    "So previously, we are only using sampled version of the data, because we are only demonstrating how the model works, and obviously our code is not fully optimized yet (Language and Data Structure) ."
   ]
  },
  {
   "cell_type": "markdown",
   "metadata": {
    "id": "vbW86ia34ZLy"
   },
   "source": [
    "During model fitting process we will also use Hyperparameter Tuning to find best parameter combination to each model , for that we will use Bayesian Optimization Approach, using Optuna, we need to install it first"
   ]
  },
  {
   "cell_type": "code",
   "execution_count": 50,
   "metadata": {
    "colab": {
     "base_uri": "https://localhost:8080/"
    },
    "id": "cw1ILgTQvwpU",
    "outputId": "625a82a0-5614-4a82-b8d7-a1b398e8f4aa"
   },
   "outputs": [
    {
     "name": "stdout",
     "output_type": "stream",
     "text": [
      "Requirement already satisfied: optuna in /opt/conda/lib/python3.10/site-packages (4.1.0)\n",
      "Requirement already satisfied: alembic>=1.5.0 in /opt/conda/lib/python3.10/site-packages (from optuna) (1.14.0)\n",
      "Requirement already satisfied: colorlog in /opt/conda/lib/python3.10/site-packages (from optuna) (6.9.0)\n",
      "Requirement already satisfied: numpy in /opt/conda/lib/python3.10/site-packages (from optuna) (2.0.2)\n",
      "Requirement already satisfied: packaging>=20.0 in /opt/conda/lib/python3.10/site-packages (from optuna) (24.1)\n",
      "Requirement already satisfied: sqlalchemy>=1.4.2 in /opt/conda/lib/python3.10/site-packages (from optuna) (2.0.36)\n",
      "Requirement already satisfied: tqdm in /opt/conda/lib/python3.10/site-packages (from optuna) (4.66.2)\n",
      "Requirement already satisfied: PyYAML in /opt/conda/lib/python3.10/site-packages (from optuna) (6.0.2)\n",
      "Requirement already satisfied: Mako in /opt/conda/lib/python3.10/site-packages (from alembic>=1.5.0->optuna) (1.3.6)\n",
      "Requirement already satisfied: typing-extensions>=4 in /opt/conda/lib/python3.10/site-packages (from alembic>=1.5.0->optuna) (4.12.2)\n",
      "Requirement already satisfied: greenlet!=0.4.17 in /opt/conda/lib/python3.10/site-packages (from sqlalchemy>=1.4.2->optuna) (3.1.1)\n",
      "Requirement already satisfied: MarkupSafe>=0.9.2 in /opt/conda/lib/python3.10/site-packages (from Mako->alembic>=1.5.0->optuna) (3.0.2)\n"
     ]
    }
   ],
   "source": [
    "# install optuna\n",
    "!pip install optuna"
   ]
  },
  {
   "cell_type": "markdown",
   "metadata": {
    "id": "m9Yle5FRUfHz"
   },
   "source": [
    "**Create Model Object**"
   ]
  },
  {
   "cell_type": "markdown",
   "metadata": {
    "id": "kD_ab28vUnEy"
   },
   "source": [
    "##### **Baseline Model : Alternating Least Square**\n",
    "\n",
    "What baseline model do could be based on popular item list"
   ]
  },
  {
   "cell_type": "markdown",
   "metadata": {
    "id": "a6HKl4XSOs9d"
   },
   "source": [
    "Hyperparameter :      \n",
    "- factors : Number of Latent Factor\n",
    "- regularization : regularization strength\n",
    "- alpha : for confidence term $c= 1 + \\alpha log(1+r_{ui})$\n",
    "\n",
    "\n",
    "Some candidate value we will use\n",
    "- factors : `[10,50,100,200,500]`\n",
    "- regularization : `[0.0001, 0.001, 0.1 , 1.0 ]`\n",
    "- alpha : `[0.001, 0.1 , 1.0,5.0 ]`"
   ]
  },
  {
   "cell_type": "markdown",
   "metadata": {
    "id": "KSCGI3SSOs9f"
   },
   "source": [
    "to create hyperparameter tuning, according to optuna documentation, we need to create objective, our goal is to find precision / recall"
   ]
  },
  {
   "cell_type": "code",
   "execution_count": 51,
   "metadata": {
    "colab": {
     "base_uri": "https://localhost:8080/",
     "height": 256,
     "referenced_widgets": [
      "7ced0759a89e4ba8985a469bc2119ce0",
      "6c8acb4aa7314a18b24dc54aff55ac06",
      "f52d1d3434c54249a7c2199ee4dc58aa",
      "aca0b24cb988412cbbce21f29ad6c545",
      "50b630ea5cc8446da2feaa2372ede173",
      "f3c0e5343bda4e659bf7a807d47f9e4d",
      "fc007d1d671a4f12a3a7a00730d4ce6f",
      "1886b744fd654210b374b6488996f1cd",
      "69c85c92cc5a479195cc6b54e797c21c",
      "241999f027d0457c84a658470d0206d7",
      "1fadb3cf21ff4f5caa8103d7d3ddc659",
      "016bf10360cb4cf5a27624a8fd37c8b0",
      "c1cc8184b038422da7321bf0320f3f0a",
      "d0b3174f1ee34914852a00ad154e7d06",
      "fab0116acdf54014a4bae3efbe12b463",
      "530f7e8cfe704035ac9128e2f8a9b322",
      "b86c7775c91f4908aed6647811bff4f3",
      "c84008a9335442e1b55bd8558a0deb8a",
      "ddba8a06a9a44cd4a76c19f5bfd12ae5",
      "0a9be8c76a0c444481c91dc674ad9d88",
      "5d27faa34b05428c89470223bb078def",
      "d85323152b2f43f28107c75af69fc03a",
      "9f470923bb6d4664928cd938c92be464",
      "143d0142ae8d411ca4a85e4014258b96",
      "6e856d457a5e4ab7bcb26b5f705bf214",
      "3073897149bb4e078bebaa562c5b7c95",
      "2b1d85d2347c4f4eb32f591356192c01",
      "67ac71bbf4ee4667ad746747bfe160d7",
      "a3cb9c0dddf74597b893c621c24a71e3",
      "0990845b02104df6847cc0899120dac8",
      "1c792d1f5912484b870c7f3b516939cd",
      "9b8a9fedfad745a5801a981c6d457ca6",
      "1ff1e93f3bc740f0afceb2c9942cfcdc",
      "feb6d9df51174a50aa1efdbbbb79526b",
      "ad367ff857c74ad2a05f1117976d352b",
      "f6bb7e7fc9664c68b97f303e91bdb371",
      "ec0bb150921f46998b80252d9c68808c",
      "5d33180126a6402eba0c71ab145fda24",
      "f77c624fa11c448fa96018753ddc8ccf",
      "e8ab09cc6318439195f6a0e0d078cec4",
      "73d3e61651674db59c8be5f9532309fe",
      "1f4c5e20ccc6446e9d452faa1b594cdc",
      "88c84f6440104853b7e011d69b02af03",
      "ad2e3eee663842e0bca6245e79d40903"
     ]
    },
    "id": "mHE6p3RpOs9g",
    "outputId": "2be5bec6-0f32-415b-f8ea-b4ebfb164fe3"
   },
   "outputs": [
    {
     "name": "stderr",
     "output_type": "stream",
     "text": [
      "[I 2024-11-29 08:53:09,082] A new study created in memory with name: no-name-4be847f7-037b-4816-bd92-026a5f64a639\n",
      "/home/ubuntu/learning/recommendation_system/.venv/lib/python3.10/site-packages/optuna/distributions.py:689: UserWarning: The distribution is specified by [0.0001, 1.0] and step=0.001, but the range is not divisible by `step`. It will be replaced by [0.0001, 0.9991].\n",
      "  warnings.warn(\n",
      "/home/ubuntu/learning/recommendation_system/.venv/lib/python3.10/site-packages/implicit/cpu/als.py:95: RuntimeWarning: OpenBLAS is configured to use 4 threads. It is highly recommended to disable its internal threadpool by setting the environment variable 'OPENBLAS_NUM_THREADS=1' or by calling 'threadpoolctl.threadpool_limits(1, \"blas\")'. Having OpenBLAS use a threadpool can lead to severe performance issues here.\n",
      "  check_blas_config()\n",
      "100%|██████████| 15/15 [00:02<00:00,  7.20it/s]\n",
      "100%|██████████| 1880/1880 [00:00<00:00, 4799.78it/s]\n",
      "[I 2024-11-29 08:53:11,585] Trial 0 finished with value: -0.18432354336205506 and parameters: {'factors': 100, 'regularization': 0.0761, 'alpha': 0.9}. Best is trial 0 with value: -0.18432354336205506.\n",
      "100%|██████████| 15/15 [00:01<00:00,  7.65it/s]\n",
      "100%|██████████| 1880/1880 [00:00<00:00, 5274.79it/s]\n",
      "[I 2024-11-29 08:53:13,935] Trial 1 finished with value: -0.20704585049012766 and parameters: {'factors': 90, 'regularization': 0.0661, 'alpha': 0.489}. Best is trial 1 with value: -0.20704585049012766.\n"
     ]
    }
   ],
   "source": [
    "import optuna\n",
    "\n",
    "# import model alternating least squares\n",
    "from implicit import als\n",
    "from implicit.evaluation import ndcg_at_k\n",
    "\n",
    "def als_tuning(trial):\n",
    "    factors = trial.suggest_int(name='factors',\n",
    "                                             low=10,\n",
    "                                             high=100,step=10)\n",
    "    regularization = trial.suggest_float(name='regularization',\n",
    "                                         low=0.0001,\n",
    "                                         high=1.0,\n",
    "                                         step= 0.001)\n",
    "\n",
    "    alpha = trial.suggest_float(name='alpha',\n",
    "                                      low=0.001,\n",
    "                                      high=1.0,\n",
    "                                      step= 0.001)\n",
    "\n",
    "    # instanciate model\n",
    "    model_als = als.AlternatingLeastSquares(factors=factors,\n",
    "                                            regularization= regularization,\n",
    "                                            alpha= alpha)\n",
    "\n",
    "    # fit model\n",
    "    model_als.fit(train)\n",
    "\n",
    "    # test\n",
    "    val_metrics = ndcg_at_k(model = model_als, train_user_items= train,\n",
    "                                  test_user_items = val,K=5)\n",
    "    return -val_metrics\n",
    "\n",
    "# minimizing is equal to\n",
    "study_als = optuna.create_study(direction=\"minimize\")\n",
    "study_als.optimize(als_tuning, n_trials=2)"
   ]
  },
  {
   "cell_type": "code",
   "execution_count": 52,
   "metadata": {
    "colab": {
     "base_uri": "https://localhost:8080/"
    },
    "id": "HjrY3H-qRB-G",
    "outputId": "73035e45-fe31-4234-b6f8-d08895dcd0e7"
   },
   "outputs": [
    {
     "data": {
      "text/plain": [
       "-0.20704585049012766"
      ]
     },
     "execution_count": 52,
     "metadata": {},
     "output_type": "execute_result"
    }
   ],
   "source": [
    "study_als.best_value"
   ]
  },
  {
   "cell_type": "markdown",
   "metadata": {
    "id": "HfPf-qgJjjjE"
   },
   "source": [
    "##### **Bayesian Personalized Ranking**"
   ]
  },
  {
   "cell_type": "markdown",
   "metadata": {
    "id": "UrkYMT3qpSMI"
   },
   "source": [
    "Hyperparameter :      \n",
    "- factors : Number of Latent Factor\n",
    "- regularization : regularization strength\n",
    "- alpha : for confidence term $c= 1 + \\alpha log(1+r_{ui})$\n",
    "\n",
    "\n",
    "Some candidate value we will use\n",
    "- factors : `[10,50,100,200,500]`\n",
    "- regularization : `[0.0001, 0.001, 0.1 , 1.0 ]`\n",
    "- alpha : `[0.001, 0.1 , 1.0,5.0 ]`"
   ]
  },
  {
   "cell_type": "markdown",
   "metadata": {
    "id": "YApO3lyutNHL"
   },
   "source": [
    "to create hyperparameter tuning, according to optuna documentation, we need to create objective, our goal is to find precision / recall"
   ]
  },
  {
   "cell_type": "code",
   "execution_count": 53,
   "metadata": {
    "colab": {
     "base_uri": "https://localhost:8080/",
     "height": 219,
     "referenced_widgets": [
      "3ada792aa066410e9212c79702f8a1a2",
      "3034cc48c059418e974df6dd1900f54d",
      "9e0219b14dd845cabae0ed9e9736995c",
      "6d0abca91e0445d48be77d7d5869f209",
      "3eba7d6b36604a5baa73dce219a4cb95",
      "5afa9f70956f49cd96f5db97a10499f4",
      "79d7e3e6b252461ab8cd4498f4ce16ee",
      "aacf803e6a524b4196b1857553be05c4",
      "868cbad258c54c489b473d8cf15cbd4b",
      "02a26be5ee9d45c8b00ed39343eb862a",
      "0aa30e7f6a80453b9ea92a746a4ea89e",
      "bdb028d117de46af9a07f7f6fbd8ee59",
      "9940df31d2044f6b95a7874a631e7fb7",
      "2487407ba58447c588daa8143f7041ef",
      "294984616207416793fb377eea77eb4b",
      "443d036ee1e34348b994becb12f3e163",
      "ce5a102c96be4ab48f2406bd36cb303f",
      "020f3956a4e24396a61075b3a9063950",
      "3e9ce4c62e894fc4936e728a7bbf4b32",
      "660c3e857ce145efa2ca73218e8d9b88",
      "1ea8284f4fda47c780e41ecfdf931080",
      "fbc8d8ee3e7f40329ebeb016f5fa3e56",
      "24f3cf40f9374003b94232e1ee99bbba",
      "c62767386273470eb29458d67d1150bb",
      "9735b9981cc24ae59594537ec2a02651",
      "da45b784686c4be88749c51c00113a49",
      "36dd8dceb75543879de47c1db6308579",
      "f253190d72ea4f6bacc8018de5f2dfeb",
      "1fd88c63118f42d5aaf7367cdd8919d8",
      "58768fddafa54c25ab5b115703095288",
      "d2b5cc3119444279ab0ec0866d48c98e",
      "af02470d6a9c4e50a77b845ca1f1e279",
      "80c924ed540c4d4490c021f7f4faf30c",
      "991be83d335348ccbb44e1cabcb2aa80",
      "2d0330d5b0f040b5b4516e1bcffc156b",
      "be0fc4df39de4bbfaeec6689ce8960d2",
      "e30529f0d1de4f0c8bf213f5a002fcb9",
      "7c0187b8ec294b0280c51710d84b986a",
      "55ec9d5c029f4b5b9320ef1fda9dc06a",
      "5853b81324f54da1a9827588c97a54b8",
      "33d5e4e6259c4119b7ffe508d8aaac00",
      "8f6b0831f48041aa9dd799ba82297637",
      "fb3444fcd82348f983cc5d7909459dc8",
      "4142adea2d38423b91d165f3fb26302d"
     ]
    },
    "id": "pkgU-QmQpMyZ",
    "outputId": "539e3b38-4ad7-4a5d-b065-7f515bd1b492"
   },
   "outputs": [
    {
     "name": "stderr",
     "output_type": "stream",
     "text": [
      "[I 2024-11-29 08:53:13,962] A new study created in memory with name: no-name-5155590e-ed08-4dd2-a323-77242a885bc9\n",
      "100%|██████████| 100/100 [00:01<00:00, 75.00it/s, train_auc=49.87%, skipped=3.52%]\n",
      "100%|██████████| 1880/1880 [00:00<00:00, 5603.63it/s]\n",
      "[I 2024-11-29 08:53:15,665] Trial 0 finished with value: -0.001407760397061108 and parameters: {'factors': 100, 'regularization': 0.5871, 'alpha': 0.393}. Best is trial 0 with value: -0.001407760397061108.\n",
      "100%|██████████| 100/100 [00:00<00:00, 100.73it/s, train_auc=49.73%, skipped=3.55%]\n",
      "100%|██████████| 1880/1880 [00:00<00:00, 5749.75it/s]\n",
      "[I 2024-11-29 08:53:16,996] Trial 1 finished with value: -0.0 and parameters: {'factors': 40, 'regularization': 0.7591, 'alpha': 0.26}. Best is trial 0 with value: -0.001407760397061108.\n"
     ]
    }
   ],
   "source": [
    "from implicit import bpr\n",
    "def bpr_tuning(trial):\n",
    "    factors = trial.suggest_int(name='factors',\n",
    "                                             low=10,\n",
    "                                             high=100,step=10)\n",
    "\n",
    "    regularization = trial.suggest_float(name='regularization',\n",
    "                                         low=0.0001,\n",
    "                                         high=1.0,\n",
    "                                         step= 0.001)\n",
    "\n",
    "    learning_rate = trial.suggest_float(name='alpha',\n",
    "                                      low=0.001,\n",
    "                                      high=1.0,\n",
    "                                      step= 0.001)\n",
    "\n",
    "    # instanciate model\n",
    "    bpr_model = bpr.BayesianPersonalizedRanking(factors=factors,\n",
    "                                                regularization=regularization,\n",
    "                                                learning_rate=learning_rate)\n",
    "\n",
    "\n",
    "\n",
    "    # fit model\n",
    "    bpr_model.fit(train)\n",
    "\n",
    "    # test\n",
    "    val_metrics = ndcg_at_k(model = bpr_model, train_user_items= train,\n",
    "                                  test_user_items = val,K=5)\n",
    "    return -val_metrics\n",
    "\n",
    "# minimizing is equal to\n",
    "study_bpr = optuna.create_study(direction=\"minimize\")\n",
    "study_bpr.optimize(bpr_tuning, n_trials=2)"
   ]
  },
  {
   "cell_type": "code",
   "execution_count": 54,
   "metadata": {
    "colab": {
     "base_uri": "https://localhost:8080/"
    },
    "id": "4NUIMM2vuqkJ",
    "outputId": "a8e9e451-6971-466d-da98-71d7a114f813"
   },
   "outputs": [
    {
     "data": {
      "text/plain": [
       "{'factors': 100, 'regularization': 0.5871, 'alpha': 0.393}"
      ]
     },
     "execution_count": 54,
     "metadata": {},
     "output_type": "execute_result"
    }
   ],
   "source": [
    "#check best parameters and best score\n",
    "study_bpr.best_params"
   ]
  },
  {
   "cell_type": "code",
   "execution_count": 55,
   "metadata": {
    "colab": {
     "base_uri": "https://localhost:8080/"
    },
    "id": "X0cShH-Xu23s",
    "outputId": "e4d255fe-96cf-402f-c097-e54418398768"
   },
   "outputs": [
    {
     "data": {
      "text/plain": [
       "0.001407760397061108"
      ]
     },
     "execution_count": 55,
     "metadata": {},
     "output_type": "execute_result"
    }
   ],
   "source": [
    "-study_bpr.best_value"
   ]
  },
  {
   "cell_type": "markdown",
   "metadata": {
    "id": "JZJ8KJ-I9slB"
   },
   "source": [
    "#### **Summary**"
   ]
  },
  {
   "cell_type": "markdown",
   "metadata": {
    "id": "4LnO_CBblL5j"
   },
   "source": [
    "After, we run experiment to our model, its better to recap the performance of our model"
   ]
  },
  {
   "cell_type": "code",
   "execution_count": 56,
   "metadata": {
    "colab": {
     "base_uri": "https://localhost:8080/",
     "height": 112
    },
    "id": "rcKliHj1oS1K",
    "outputId": "573c70af-6cab-4d72-f9e3-687872c2be51"
   },
   "outputs": [
    {
     "data": {
      "text/html": [
       "<div>\n",
       "<style scoped>\n",
       "    .dataframe tbody tr th:only-of-type {\n",
       "        vertical-align: middle;\n",
       "    }\n",
       "\n",
       "    .dataframe tbody tr th {\n",
       "        vertical-align: top;\n",
       "    }\n",
       "\n",
       "    .dataframe thead th {\n",
       "        text-align: right;\n",
       "    }\n",
       "</style>\n",
       "<table border=\"1\" class=\"dataframe\">\n",
       "  <thead>\n",
       "    <tr style=\"text-align: right;\">\n",
       "      <th></th>\n",
       "      <th>Model</th>\n",
       "      <th>CV Performance - NDCG @5</th>\n",
       "      <th>Model Condiguration</th>\n",
       "    </tr>\n",
       "  </thead>\n",
       "  <tbody>\n",
       "    <tr>\n",
       "      <th>0</th>\n",
       "      <td>Baseline:Alternating Least Squares</td>\n",
       "      <td>0.207046</td>\n",
       "      <td>{'factors': 90, 'regularization': 0.0661, 'alp...</td>\n",
       "    </tr>\n",
       "    <tr>\n",
       "      <th>1</th>\n",
       "      <td>Bayesian Personalized Ranking</td>\n",
       "      <td>0.001408</td>\n",
       "      <td>{'factors': 100, 'regularization': 0.5871, 'al...</td>\n",
       "    </tr>\n",
       "  </tbody>\n",
       "</table>\n",
       "</div>"
      ],
      "text/plain": [
       "                                Model  CV Performance - NDCG @5  \\\n",
       "0  Baseline:Alternating Least Squares                  0.207046   \n",
       "1       Bayesian Personalized Ranking                  0.001408   \n",
       "\n",
       "                                 Model Condiguration  \n",
       "0  {'factors': 90, 'regularization': 0.0661, 'alp...  \n",
       "1  {'factors': 100, 'regularization': 0.5871, 'al...  "
      ]
     },
     "execution_count": 56,
     "metadata": {},
     "output_type": "execute_result"
    }
   ],
   "source": [
    "summary_df = pd.DataFrame({'Model': ['Baseline:Alternating Least Squares', 'Bayesian Personalized Ranking',],\n",
    "                           'CV Performance - NDCG @5': [-1*study_als.best_value,-1*study_bpr.best_value],\n",
    "                           'Model Condiguration':[f'{study_als.best_params}',f'{study_bpr.best_params}']})\n",
    "\n",
    "summary_df"
   ]
  },
  {
   "cell_type": "markdown",
   "metadata": {
    "id": "MJgrUg-f7Q13"
   },
   "source": [
    "We see that we have alternating Least Squares as our Best Models."
   ]
  },
  {
   "cell_type": "markdown",
   "metadata": {
    "id": "p11h-V--PA6B"
   },
   "source": [
    "### Training Best Model\n",
    "---"
   ]
  },
  {
   "cell_type": "markdown",
   "metadata": {
    "id": "OOgB7fhvspbu"
   },
   "source": [
    "Now, we will train, our best models, **Alternating Least Squares** on full training data (Train + Val)"
   ]
  },
  {
   "cell_type": "code",
   "execution_count": 57,
   "metadata": {
    "colab": {
     "base_uri": "https://localhost:8080/",
     "height": 49,
     "referenced_widgets": [
      "a1c762506730429aace1e3fad59840c2",
      "606f2882c3044a8a815d7503cc8a1ad2",
      "f59112a357db4186899de49b62a2eddb",
      "9788ecbe18cb4b72a1d7ba083a0730b8",
      "b7f76f19db7040c6b33dc5db171eba76",
      "c0c1f10c84f743d6aa9c90a41c691b7d",
      "89d31688d6934e488964a10b1558d79e",
      "af60d1c28f4e4d2686a4bed57e4fde1b",
      "07f9400d9c144e0fbb5d3f444fcf7a4f",
      "7ea09d42f4b44e0f931481ca68aeeec7",
      "22ae28cb7f2b4b8984f93b7adc300d06"
     ]
    },
    "id": "280dkiwBOpSb",
    "outputId": "6e526239-73bb-4e02-a43e-0d432dddbf7a"
   },
   "outputs": [
    {
     "name": "stderr",
     "output_type": "stream",
     "text": [
      "100%|██████████| 15/15 [00:01<00:00,  8.26it/s]\n"
     ]
    }
   ],
   "source": [
    "# Create object\n",
    "best_params_als = study_als.best_params\n",
    "model_best = als.AlternatingLeastSquares(**best_params_als)\n",
    "\n",
    "# Retrain on whole train dataset\n",
    "model_best.fit(train_full)"
   ]
  },
  {
   "cell_type": "markdown",
   "metadata": {
    "id": "kWdcBUjutSrO"
   },
   "source": [
    "### Evaluate the Best Model\n",
    "---"
   ]
  },
  {
   "cell_type": "markdown",
   "metadata": {
    "id": "ciIR3dNitSrO"
   },
   "source": [
    "#### Evaluate Ranking Metrics"
   ]
  },
  {
   "cell_type": "markdown",
   "metadata": {
    "id": "yBG_BtNMPGLa"
   },
   "source": [
    "After finding the best model, we can sanity check the performance on the test dataset"
   ]
  },
  {
   "cell_type": "markdown",
   "metadata": {
    "id": "fKTYWue2PW3N"
   },
   "source": [
    "Next, we predict the test set using our best model, using **NDCG @ 5**"
   ]
  },
  {
   "cell_type": "code",
   "execution_count": 58,
   "metadata": {
    "colab": {
     "base_uri": "https://localhost:8080/",
     "height": 49,
     "referenced_widgets": [
      "001d1b4df0c048e5b69d970e71157580",
      "f938be43946345cab8e437c61d014cdc",
      "aff2784fae624c65a743b44d35a45dc9",
      "02cdd841fa7041268e7c0ddfcb6b36f1",
      "e1820fe84bec4944ba2e18764442dd4b",
      "6e5ec087ecb24449847ed3ede777670b",
      "5df625013a02440db4633ba9f40bc4b6",
      "aaadcb7c90714e21a92b2f46ccd82584",
      "042f5bcb6b6c42229a46126d60d40023",
      "03ae38579fae41949c95c4b02a56474c",
      "0754f749d03945abb66948af8f55f667"
     ]
    },
    "id": "29Kq0-gPPXlb",
    "outputId": "ff20b8cd-c550-4b50-cce5-c18b8b3b20a0"
   },
   "outputs": [
    {
     "name": "stderr",
     "output_type": "stream",
     "text": [
      "100%|██████████| 1880/1880 [00:00<00:00, 5025.22it/s]\n"
     ]
    }
   ],
   "source": [
    "test_score = ndcg_at_k(model = model_best, train_user_items= train_full,\n",
    "                                  test_user_items = test,K=5)"
   ]
  },
  {
   "cell_type": "markdown",
   "metadata": {
    "id": "0N4myb-zSiYH"
   },
   "source": [
    "To summarize"
   ]
  },
  {
   "cell_type": "code",
   "execution_count": 59,
   "metadata": {
    "colab": {
     "base_uri": "https://localhost:8080/",
     "height": 81
    },
    "id": "bCuzkXXq6a2T",
    "outputId": "6445d1e3-1915-4876-e9d8-5a05077fa1c5"
   },
   "outputs": [
    {
     "data": {
      "text/html": [
       "<div>\n",
       "<style scoped>\n",
       "    .dataframe tbody tr th:only-of-type {\n",
       "        vertical-align: middle;\n",
       "    }\n",
       "\n",
       "    .dataframe tbody tr th {\n",
       "        vertical-align: top;\n",
       "    }\n",
       "\n",
       "    .dataframe thead th {\n",
       "        text-align: right;\n",
       "    }\n",
       "</style>\n",
       "<table border=\"1\" class=\"dataframe\">\n",
       "  <thead>\n",
       "    <tr style=\"text-align: right;\">\n",
       "      <th></th>\n",
       "      <th>Model</th>\n",
       "      <th>NDCG@5-Tuning</th>\n",
       "      <th>NDCG@5</th>\n",
       "    </tr>\n",
       "  </thead>\n",
       "  <tbody>\n",
       "    <tr>\n",
       "      <th>0</th>\n",
       "      <td>Alternating Least Squares</td>\n",
       "      <td>0.207046</td>\n",
       "      <td>0.170216</td>\n",
       "    </tr>\n",
       "  </tbody>\n",
       "</table>\n",
       "</div>"
      ],
      "text/plain": [
       "                       Model  NDCG@5-Tuning    NDCG@5\n",
       "0  Alternating Least Squares       0.207046  0.170216"
      ]
     },
     "execution_count": 59,
     "metadata": {},
     "output_type": "execute_result"
    }
   ],
   "source": [
    "summary_test_df = pd.DataFrame({'Model' : ['Alternating Least Squares'],\n",
    "                                'NDCG@5-Tuning': [-study_als.best_value],\n",
    "                                'NDCG@5': [test_score]})\n",
    "\n",
    "summary_test_df"
   ]
  },
  {
   "cell_type": "markdown",
   "metadata": {
    "id": "UBx91yU0gEVD"
   },
   "source": [
    "Decision Process is to recommend items to user\n",
    "from our trained model"
   ]
  },
  {
   "cell_type": "markdown",
   "metadata": {
    "id": "Aeo2bgSdQKeC"
   },
   "source": [
    "# **3.Predictions / Generating Recommendation**\n",
    "---"
   ]
  },
  {
   "cell_type": "markdown",
   "metadata": {
    "id": "scjfk7Zr064K"
   },
   "source": [
    "How do we generate recommendation ?\n",
    "\n",
    "\n",
    "To generate recommendation :\n",
    "- predict all movies or only unseen movies rating from given users\n",
    "- followed by ordering the movies by its predicted rat"
   ]
  },
  {
   "cell_type": "markdown",
   "metadata": {
    "id": "B8YELCZRd3lV"
   },
   "source": [
    "## Predict with Best Model : Alternating Least Squares"
   ]
  },
  {
   "cell_type": "code",
   "execution_count": 60,
   "metadata": {
    "colab": {
     "base_uri": "https://localhost:8080/"
    },
    "id": "gDj0r8bCQM4w",
    "outputId": "9eb6547a-26cd-43ef-b5ef-2687bc6c1edc"
   },
   "outputs": [
    {
     "name": "stdout",
     "output_type": "stream",
     "text": [
      "Help on method recommend in module implicit.cpu.matrix_factorization_base:\n",
      "\n",
      "recommend(userid, user_items, N=10, filter_already_liked_items=True, filter_items=None, recalculate_user=False, items=None) method of implicit.cpu.als.AlternatingLeastSquares instance\n",
      "    Recommends items for users.\n",
      "    \n",
      "    This method allows you to calculate the top N recommendations for a user or\n",
      "    batch of users. Passing an array of userids instead of a single userid will\n",
      "    tend to be more efficient, and allows multi-thread processing on the CPU.\n",
      "    \n",
      "    This method has options for filtering out items from the results. You can both\n",
      "    filter out items that have already been liked by the user with the\n",
      "    filter_already_liked_items parameter, as well as pass in filter_items to filter\n",
      "    out other items for all users in the batch. By default all items in the training\n",
      "    dataset are scored, but by setting the 'items' parameter you can restrict down to\n",
      "    a subset.\n",
      "    \n",
      "    Example usage::\n",
      "    \n",
      "        # calculate the top recommendations for a single user\n",
      "        ids, scores = model.recommend(0, user_items[0])\n",
      "    \n",
      "        # calculate the top recommendations for a batch of users\n",
      "        userids = np.arange(10)\n",
      "        ids, scores = model.recommend(userids, user_items[userids])\n",
      "    \n",
      "    Parameters\n",
      "    ----------\n",
      "    userid : Union[int, array_like]\n",
      "        The userid or array of userids to calculate recommendations for\n",
      "    user_items : csr_matrix\n",
      "        A sparse matrix of shape (users, number_items). This lets us look\n",
      "        up the liked items and their weights for the user. This is used to filter out\n",
      "        items that have already been liked from the output, and to also potentially\n",
      "        recalculate the user representation. Each row in this sparse matrix corresponds\n",
      "        to a row in the userid parameter: that is the first row in this matrix contains\n",
      "        the liked items for the first user in the userid array.\n",
      "    N : int, optional\n",
      "        The number of results to return\n",
      "    filter_already_liked_items: bool, optional\n",
      "        When true, don't return items present in the training set that were rated\n",
      "        by the specified user.\n",
      "    filter_items : array_like, optional\n",
      "        List of extra item ids to filter out from the output\n",
      "    recalculate_user : bool, optional\n",
      "        When true, don't rely on stored user embeddings and instead recalculate from the\n",
      "        passed in user_items. This option isn't supported by all models.\n",
      "    items: array_like, optional\n",
      "        Array of extra item ids. When set this will only rank the items in this array instead\n",
      "        of ranking every item the model was fit for. This parameter cannot be used with\n",
      "        filter_items\n",
      "    \n",
      "    Returns\n",
      "    -------\n",
      "    tuple\n",
      "        Tuple of (itemids, scores) arrays. When calculating for a single user these array will\n",
      "        be 1-dimensional with N items. When passed an array of userids, these will be\n",
      "        2-dimensional arrays with a row for each user.\n",
      "\n"
     ]
    }
   ],
   "source": [
    "# Recommendation based on Best Models\n",
    "# We will try to recommend on sample userid ,userId 1 & 99\n",
    "\n",
    "# We can use model_best.recommend\n",
    "help(model_best.recommend)"
   ]
  },
  {
   "cell_type": "markdown",
   "metadata": {
    "id": "ZBONDlFdLzD3"
   },
   "source": [
    "`model_best.recommend` has argument\n",
    "- `userid` : userID\n",
    "- `user_items` : Utility matrix for trianing model\n",
    "- `N=10` : Number of item to recommend\n",
    "- `filter_already_liked_items` : Whether to recommend seen items or not"
   ]
  },
  {
   "cell_type": "markdown",
   "metadata": {
    "id": "zDWtBMWsUOAH"
   },
   "source": [
    "### Let's Recommend artist to User 9"
   ]
  },
  {
   "cell_type": "code",
   "execution_count": 61,
   "metadata": {
    "id": "0_o58e5GWBx4"
   },
   "outputs": [],
   "source": [
    "user_id = [9]\n",
    "recommended_artist_id,_ = model_best.recommend(userid= user_id, user_items= train_full[user_id], N=10 )"
   ]
  },
  {
   "cell_type": "code",
   "execution_count": 62,
   "metadata": {
    "colab": {
     "base_uri": "https://localhost:8080/"
    },
    "id": "hTIcY-xF_GDC",
    "outputId": "ce76cf59-ad68-40ff-988a-b00ceb8fe155"
   },
   "outputs": [
    {
     "data": {
      "text/plain": [
       "array([[248, 448, 282, 206, 651, 436, 238, 110, 259, 251]], dtype=int32)"
      ]
     },
     "execution_count": 62,
     "metadata": {},
     "output_type": "execute_result"
    }
   ],
   "source": [
    "recommended_artist_id"
   ]
  },
  {
   "cell_type": "code",
   "execution_count": 63,
   "metadata": {
    "colab": {
     "base_uri": "https://localhost:8080/",
     "height": 363
    },
    "id": "qbsYNLtSAZg2",
    "outputId": "933a1c51-8993-4496-da2a-ff27fec005e4"
   },
   "outputs": [
    {
     "data": {
      "text/html": [
       "<div>\n",
       "<style scoped>\n",
       "    .dataframe tbody tr th:only-of-type {\n",
       "        vertical-align: middle;\n",
       "    }\n",
       "\n",
       "    .dataframe tbody tr th {\n",
       "        vertical-align: top;\n",
       "    }\n",
       "\n",
       "    .dataframe thead th {\n",
       "        text-align: right;\n",
       "    }\n",
       "</style>\n",
       "<table border=\"1\" class=\"dataframe\">\n",
       "  <thead>\n",
       "    <tr style=\"text-align: right;\">\n",
       "      <th></th>\n",
       "      <th>artistID</th>\n",
       "      <th>userID</th>\n",
       "    </tr>\n",
       "  </thead>\n",
       "  <tbody>\n",
       "    <tr>\n",
       "      <th>0</th>\n",
       "      <td>248</td>\n",
       "      <td>9</td>\n",
       "    </tr>\n",
       "    <tr>\n",
       "      <th>1</th>\n",
       "      <td>448</td>\n",
       "      <td>9</td>\n",
       "    </tr>\n",
       "    <tr>\n",
       "      <th>2</th>\n",
       "      <td>282</td>\n",
       "      <td>9</td>\n",
       "    </tr>\n",
       "    <tr>\n",
       "      <th>3</th>\n",
       "      <td>206</td>\n",
       "      <td>9</td>\n",
       "    </tr>\n",
       "    <tr>\n",
       "      <th>4</th>\n",
       "      <td>651</td>\n",
       "      <td>9</td>\n",
       "    </tr>\n",
       "    <tr>\n",
       "      <th>5</th>\n",
       "      <td>436</td>\n",
       "      <td>9</td>\n",
       "    </tr>\n",
       "    <tr>\n",
       "      <th>6</th>\n",
       "      <td>238</td>\n",
       "      <td>9</td>\n",
       "    </tr>\n",
       "    <tr>\n",
       "      <th>7</th>\n",
       "      <td>110</td>\n",
       "      <td>9</td>\n",
       "    </tr>\n",
       "    <tr>\n",
       "      <th>8</th>\n",
       "      <td>259</td>\n",
       "      <td>9</td>\n",
       "    </tr>\n",
       "    <tr>\n",
       "      <th>9</th>\n",
       "      <td>251</td>\n",
       "      <td>9</td>\n",
       "    </tr>\n",
       "  </tbody>\n",
       "</table>\n",
       "</div>"
      ],
      "text/plain": [
       "   artistID  userID\n",
       "0       248       9\n",
       "1       448       9\n",
       "2       282       9\n",
       "3       206       9\n",
       "4       651       9\n",
       "5       436       9\n",
       "6       238       9\n",
       "7       110       9\n",
       "8       259       9\n",
       "9       251       9"
      ]
     },
     "execution_count": 63,
     "metadata": {},
     "output_type": "execute_result"
    }
   ],
   "source": [
    "# create dataframe first\n",
    "recommended_artist_df = pd.DataFrame()\n",
    "recommended_artist_df['artistID'] = recommended_artist_id[0]\n",
    "recommended_artist_df['userID'] = 9\n",
    "recommended_artist_df"
   ]
  },
  {
   "cell_type": "markdown",
   "metadata": {
    "id": "OachHPQo_4XZ"
   },
   "source": [
    "We already have the recommended artist, however we don't have idea who it is, so we can load artist metadata to find out"
   ]
  },
  {
   "cell_type": "markdown",
   "metadata": {
    "id": "gwZepo8vAC0s"
   },
   "source": [
    "First, we need to map back the `artistID` to original id"
   ]
  },
  {
   "cell_type": "code",
   "execution_count": 64,
   "metadata": {
    "colab": {
     "base_uri": "https://localhost:8080/"
    },
    "id": "Quece7qVABUm",
    "outputId": "c385797a-9b78-457a-90a0-37a5b4d7e86e"
   },
   "outputs": [
    {
     "data": {
      "text/plain": [
       "dict_keys(['item_to_id', 'id_to_item'])"
      ]
     },
     "execution_count": 64,
     "metadata": {},
     "output_type": "execute_result"
    }
   ],
   "source": [
    "mapping_item.keys()"
   ]
  },
  {
   "cell_type": "code",
   "execution_count": 65,
   "metadata": {
    "colab": {
     "base_uri": "https://localhost:8080/",
     "height": 363
    },
    "id": "h-HKmjdlAux-",
    "outputId": "a6739998-4b7c-49a2-d9cb-b79ea4478645"
   },
   "outputs": [
    {
     "data": {
      "text/html": [
       "<div>\n",
       "<style scoped>\n",
       "    .dataframe tbody tr th:only-of-type {\n",
       "        vertical-align: middle;\n",
       "    }\n",
       "\n",
       "    .dataframe tbody tr th {\n",
       "        vertical-align: top;\n",
       "    }\n",
       "\n",
       "    .dataframe thead th {\n",
       "        text-align: right;\n",
       "    }\n",
       "</style>\n",
       "<table border=\"1\" class=\"dataframe\">\n",
       "  <thead>\n",
       "    <tr style=\"text-align: right;\">\n",
       "      <th></th>\n",
       "      <th>artistID</th>\n",
       "      <th>userID</th>\n",
       "    </tr>\n",
       "  </thead>\n",
       "  <tbody>\n",
       "    <tr>\n",
       "      <th>0</th>\n",
       "      <td>299</td>\n",
       "      <td>9</td>\n",
       "    </tr>\n",
       "    <tr>\n",
       "      <th>1</th>\n",
       "      <td>498</td>\n",
       "      <td>9</td>\n",
       "    </tr>\n",
       "    <tr>\n",
       "      <th>2</th>\n",
       "      <td>333</td>\n",
       "      <td>9</td>\n",
       "    </tr>\n",
       "    <tr>\n",
       "      <th>3</th>\n",
       "      <td>257</td>\n",
       "      <td>9</td>\n",
       "    </tr>\n",
       "    <tr>\n",
       "      <th>4</th>\n",
       "      <td>701</td>\n",
       "      <td>9</td>\n",
       "    </tr>\n",
       "    <tr>\n",
       "      <th>5</th>\n",
       "      <td>486</td>\n",
       "      <td>9</td>\n",
       "    </tr>\n",
       "    <tr>\n",
       "      <th>6</th>\n",
       "      <td>289</td>\n",
       "      <td>9</td>\n",
       "    </tr>\n",
       "    <tr>\n",
       "      <th>7</th>\n",
       "      <td>161</td>\n",
       "      <td>9</td>\n",
       "    </tr>\n",
       "    <tr>\n",
       "      <th>8</th>\n",
       "      <td>310</td>\n",
       "      <td>9</td>\n",
       "    </tr>\n",
       "    <tr>\n",
       "      <th>9</th>\n",
       "      <td>302</td>\n",
       "      <td>9</td>\n",
       "    </tr>\n",
       "  </tbody>\n",
       "</table>\n",
       "</div>"
      ],
      "text/plain": [
       "   artistID  userID\n",
       "0       299       9\n",
       "1       498       9\n",
       "2       333       9\n",
       "3       257       9\n",
       "4       701       9\n",
       "5       486       9\n",
       "6       289       9\n",
       "7       161       9\n",
       "8       310       9\n",
       "9       302       9"
      ]
     },
     "execution_count": 65,
     "metadata": {},
     "output_type": "execute_result"
    }
   ],
   "source": [
    "recommended_artist_df['artistID'] = recommended_artist_df['artistID'].map(mapping_item['id_to_item'])\n",
    "recommended_artist_df"
   ]
  },
  {
   "cell_type": "markdown",
   "metadata": {
    "id": "0SxJUkU-A6FK"
   },
   "source": [
    "Now, we can load the artist metadata"
   ]
  },
  {
   "cell_type": "code",
   "execution_count": 66,
   "metadata": {
    "colab": {
     "base_uri": "https://localhost:8080/",
     "height": 206
    },
    "id": "430sQGPDA4T-",
    "outputId": "42a9af5b-2b3f-4e91-e011-ec78f8886c9a"
   },
   "outputs": [
    {
     "data": {
      "text/html": [
       "<div>\n",
       "<style scoped>\n",
       "    .dataframe tbody tr th:only-of-type {\n",
       "        vertical-align: middle;\n",
       "    }\n",
       "\n",
       "    .dataframe tbody tr th {\n",
       "        vertical-align: top;\n",
       "    }\n",
       "\n",
       "    .dataframe thead th {\n",
       "        text-align: right;\n",
       "    }\n",
       "</style>\n",
       "<table border=\"1\" class=\"dataframe\">\n",
       "  <thead>\n",
       "    <tr style=\"text-align: right;\">\n",
       "      <th></th>\n",
       "      <th>id</th>\n",
       "      <th>name</th>\n",
       "      <th>url</th>\n",
       "      <th>pictureURL</th>\n",
       "    </tr>\n",
       "  </thead>\n",
       "  <tbody>\n",
       "    <tr>\n",
       "      <th>0</th>\n",
       "      <td>1</td>\n",
       "      <td>MALICE MIZER</td>\n",
       "      <td>http://www.last.fm/music/MALICE+MIZER</td>\n",
       "      <td>http://userserve-ak.last.fm/serve/252/10808.jpg</td>\n",
       "    </tr>\n",
       "    <tr>\n",
       "      <th>1</th>\n",
       "      <td>2</td>\n",
       "      <td>Diary of Dreams</td>\n",
       "      <td>http://www.last.fm/music/Diary+of+Dreams</td>\n",
       "      <td>http://userserve-ak.last.fm/serve/252/3052066.jpg</td>\n",
       "    </tr>\n",
       "    <tr>\n",
       "      <th>2</th>\n",
       "      <td>3</td>\n",
       "      <td>Carpathian Forest</td>\n",
       "      <td>http://www.last.fm/music/Carpathian+Forest</td>\n",
       "      <td>http://userserve-ak.last.fm/serve/252/40222717...</td>\n",
       "    </tr>\n",
       "    <tr>\n",
       "      <th>3</th>\n",
       "      <td>4</td>\n",
       "      <td>Moi dix Mois</td>\n",
       "      <td>http://www.last.fm/music/Moi+dix+Mois</td>\n",
       "      <td>http://userserve-ak.last.fm/serve/252/54697835...</td>\n",
       "    </tr>\n",
       "    <tr>\n",
       "      <th>4</th>\n",
       "      <td>5</td>\n",
       "      <td>Bella Morte</td>\n",
       "      <td>http://www.last.fm/music/Bella+Morte</td>\n",
       "      <td>http://userserve-ak.last.fm/serve/252/14789013...</td>\n",
       "    </tr>\n",
       "  </tbody>\n",
       "</table>\n",
       "</div>"
      ],
      "text/plain": [
       "   id               name                                         url  \\\n",
       "0   1       MALICE MIZER       http://www.last.fm/music/MALICE+MIZER   \n",
       "1   2    Diary of Dreams    http://www.last.fm/music/Diary+of+Dreams   \n",
       "2   3  Carpathian Forest  http://www.last.fm/music/Carpathian+Forest   \n",
       "3   4       Moi dix Mois       http://www.last.fm/music/Moi+dix+Mois   \n",
       "4   5        Bella Morte        http://www.last.fm/music/Bella+Morte   \n",
       "\n",
       "                                          pictureURL  \n",
       "0    http://userserve-ak.last.fm/serve/252/10808.jpg  \n",
       "1  http://userserve-ak.last.fm/serve/252/3052066.jpg  \n",
       "2  http://userserve-ak.last.fm/serve/252/40222717...  \n",
       "3  http://userserve-ak.last.fm/serve/252/54697835...  \n",
       "4  http://userserve-ak.last.fm/serve/252/14789013...  "
      ]
     },
     "execution_count": 66,
     "metadata": {},
     "output_type": "execute_result"
    }
   ],
   "source": [
    "artist_metadata_path = '../data/artist_name.csv'\n",
    "\n",
    "# read dataframe\n",
    "artist_name = pd.read_csv(artist_metadata_path)\n",
    "artist_name.head()"
   ]
  },
  {
   "cell_type": "code",
   "execution_count": 67,
   "metadata": {
    "id": "4NHCmJLKBu5i"
   },
   "outputs": [],
   "source": [
    "# merge data\n",
    "recommended_artist_df['artist_name'] = recommended_artist_df.merge(artist_name,right_on='id',left_on='artistID').loc[:,'name']"
   ]
  },
  {
   "cell_type": "code",
   "execution_count": 68,
   "metadata": {
    "colab": {
     "base_uri": "https://localhost:8080/",
     "height": 363
    },
    "id": "VTuQtpnTCCCA",
    "outputId": "c66cd76c-4324-4bff-a701-227c7df50e0f"
   },
   "outputs": [
    {
     "data": {
      "text/html": [
       "<div>\n",
       "<style scoped>\n",
       "    .dataframe tbody tr th:only-of-type {\n",
       "        vertical-align: middle;\n",
       "    }\n",
       "\n",
       "    .dataframe tbody tr th {\n",
       "        vertical-align: top;\n",
       "    }\n",
       "\n",
       "    .dataframe thead th {\n",
       "        text-align: right;\n",
       "    }\n",
       "</style>\n",
       "<table border=\"1\" class=\"dataframe\">\n",
       "  <thead>\n",
       "    <tr style=\"text-align: right;\">\n",
       "      <th></th>\n",
       "      <th>artistID</th>\n",
       "      <th>userID</th>\n",
       "      <th>artist_name</th>\n",
       "    </tr>\n",
       "  </thead>\n",
       "  <tbody>\n",
       "    <tr>\n",
       "      <th>0</th>\n",
       "      <td>299</td>\n",
       "      <td>9</td>\n",
       "      <td>Jennifer Lopez</td>\n",
       "    </tr>\n",
       "    <tr>\n",
       "      <th>1</th>\n",
       "      <td>498</td>\n",
       "      <td>9</td>\n",
       "      <td>Paramore</td>\n",
       "    </tr>\n",
       "    <tr>\n",
       "      <th>2</th>\n",
       "      <td>333</td>\n",
       "      <td>9</td>\n",
       "      <td>Avril Lavigne</td>\n",
       "    </tr>\n",
       "    <tr>\n",
       "      <th>3</th>\n",
       "      <td>257</td>\n",
       "      <td>9</td>\n",
       "      <td>Mariah Carey</td>\n",
       "    </tr>\n",
       "    <tr>\n",
       "      <th>4</th>\n",
       "      <td>701</td>\n",
       "      <td>9</td>\n",
       "      <td>Shakira</td>\n",
       "    </tr>\n",
       "    <tr>\n",
       "      <th>5</th>\n",
       "      <td>486</td>\n",
       "      <td>9</td>\n",
       "      <td>30 Seconds to Mars</td>\n",
       "    </tr>\n",
       "    <tr>\n",
       "      <th>6</th>\n",
       "      <td>289</td>\n",
       "      <td>9</td>\n",
       "      <td>Britney Spears</td>\n",
       "    </tr>\n",
       "    <tr>\n",
       "      <th>7</th>\n",
       "      <td>161</td>\n",
       "      <td>9</td>\n",
       "      <td>Enrique Iglesias</td>\n",
       "    </tr>\n",
       "    <tr>\n",
       "      <th>8</th>\n",
       "      <td>310</td>\n",
       "      <td>9</td>\n",
       "      <td>Nelly Furtado</td>\n",
       "    </tr>\n",
       "    <tr>\n",
       "      <th>9</th>\n",
       "      <td>302</td>\n",
       "      <td>9</td>\n",
       "      <td>P!nk</td>\n",
       "    </tr>\n",
       "  </tbody>\n",
       "</table>\n",
       "</div>"
      ],
      "text/plain": [
       "   artistID  userID         artist_name\n",
       "0       299       9      Jennifer Lopez\n",
       "1       498       9            Paramore\n",
       "2       333       9       Avril Lavigne\n",
       "3       257       9        Mariah Carey\n",
       "4       701       9             Shakira\n",
       "5       486       9  30 Seconds to Mars\n",
       "6       289       9      Britney Spears\n",
       "7       161       9    Enrique Iglesias\n",
       "8       310       9       Nelly Furtado\n",
       "9       302       9                P!nk"
      ]
     },
     "execution_count": 68,
     "metadata": {},
     "output_type": "execute_result"
    }
   ],
   "source": [
    "recommended_artist_df"
   ]
  },
  {
   "cell_type": "markdown",
   "metadata": {
    "id": "h7CLOr2nCEiz"
   },
   "source": [
    "Now, we can create a function to create recommendation for all users"
   ]
  },
  {
   "cell_type": "code",
   "execution_count": 69,
   "metadata": {
    "id": "1zCKHspvCH0j"
   },
   "outputs": [],
   "source": [
    "def recommend_to_users(userid,user_items=train_full,N=10, artist_name = artist_name,\n",
    "                       mapping_item = mapping_item) :\n",
    "    # collect user id\n",
    "    user_id = [userid]\n",
    "    #\n",
    "    recommended_artist_id,_ = model_best.recommend(userid= user_id, user_items= train_full[user_id], N=N )\n",
    "\n",
    "    # create dataframe first\n",
    "    recommended_artist_df = pd.DataFrame()\n",
    "    recommended_artist_df['artistID'] = recommended_artist_id[0]\n",
    "    recommended_artist_df['userID'] = userid\n",
    "\n",
    "\n",
    "    recommended_artist_df['artistID'] = recommended_artist_df['artistID'].map(mapping_item['id_to_item'])\n",
    "    # merge data\n",
    "    recommended_artist_df['artist_name'] = recommended_artist_df.merge(artist_name,\n",
    "                                                                       right_on='id',left_on='artistID').loc[:,'name']\n",
    "    return recommended_artist_df"
   ]
  },
  {
   "cell_type": "markdown",
   "metadata": {
    "id": "22iQ2afkCt2q"
   },
   "source": [
    "Lets try to recommend to user 100"
   ]
  },
  {
   "cell_type": "code",
   "execution_count": 70,
   "metadata": {
    "colab": {
     "base_uri": "https://localhost:8080/",
     "height": 363
    },
    "id": "LbxbOX_NCvnx",
    "outputId": "7b9c01e0-9b18-484a-fcb4-401a7e619398"
   },
   "outputs": [
    {
     "data": {
      "text/html": [
       "<div>\n",
       "<style scoped>\n",
       "    .dataframe tbody tr th:only-of-type {\n",
       "        vertical-align: middle;\n",
       "    }\n",
       "\n",
       "    .dataframe tbody tr th {\n",
       "        vertical-align: top;\n",
       "    }\n",
       "\n",
       "    .dataframe thead th {\n",
       "        text-align: right;\n",
       "    }\n",
       "</style>\n",
       "<table border=\"1\" class=\"dataframe\">\n",
       "  <thead>\n",
       "    <tr style=\"text-align: right;\">\n",
       "      <th></th>\n",
       "      <th>artistID</th>\n",
       "      <th>userID</th>\n",
       "      <th>artist_name</th>\n",
       "    </tr>\n",
       "  </thead>\n",
       "  <tbody>\n",
       "    <tr>\n",
       "      <th>0</th>\n",
       "      <td>1835</td>\n",
       "      <td>100</td>\n",
       "      <td>The Cinematic Orchestra</td>\n",
       "    </tr>\n",
       "    <tr>\n",
       "      <th>1</th>\n",
       "      <td>744</td>\n",
       "      <td>100</td>\n",
       "      <td>Autechre</td>\n",
       "    </tr>\n",
       "    <tr>\n",
       "      <th>2</th>\n",
       "      <td>2677</td>\n",
       "      <td>100</td>\n",
       "      <td>Bola</td>\n",
       "    </tr>\n",
       "    <tr>\n",
       "      <th>3</th>\n",
       "      <td>4865</td>\n",
       "      <td>100</td>\n",
       "      <td>ISAN</td>\n",
       "    </tr>\n",
       "    <tr>\n",
       "      <th>4</th>\n",
       "      <td>2676</td>\n",
       "      <td>100</td>\n",
       "      <td>Tycho</td>\n",
       "    </tr>\n",
       "    <tr>\n",
       "      <th>5</th>\n",
       "      <td>2161</td>\n",
       "      <td>100</td>\n",
       "      <td>Wisp</td>\n",
       "    </tr>\n",
       "    <tr>\n",
       "      <th>6</th>\n",
       "      <td>2670</td>\n",
       "      <td>100</td>\n",
       "      <td>Chris Clark</td>\n",
       "    </tr>\n",
       "    <tr>\n",
       "      <th>7</th>\n",
       "      <td>1965</td>\n",
       "      <td>100</td>\n",
       "      <td>Four Tet</td>\n",
       "    </tr>\n",
       "    <tr>\n",
       "      <th>8</th>\n",
       "      <td>1156</td>\n",
       "      <td>100</td>\n",
       "      <td>Orbital</td>\n",
       "    </tr>\n",
       "    <tr>\n",
       "      <th>9</th>\n",
       "      <td>11206</td>\n",
       "      <td>100</td>\n",
       "      <td>The Black Dog</td>\n",
       "    </tr>\n",
       "  </tbody>\n",
       "</table>\n",
       "</div>"
      ],
      "text/plain": [
       "   artistID  userID              artist_name\n",
       "0      1835     100  The Cinematic Orchestra\n",
       "1       744     100                 Autechre\n",
       "2      2677     100                     Bola\n",
       "3      4865     100                     ISAN\n",
       "4      2676     100                    Tycho\n",
       "5      2161     100                     Wisp\n",
       "6      2670     100              Chris Clark\n",
       "7      1965     100                 Four Tet\n",
       "8      1156     100                  Orbital\n",
       "9     11206     100            The Black Dog"
      ]
     },
     "execution_count": 70,
     "metadata": {},
     "output_type": "execute_result"
    }
   ],
   "source": [
    "# recommendation to user 100\n",
    "recommend_to_users(userid=100)"
   ]
  },
  {
   "cell_type": "code",
   "execution_count": 71,
   "metadata": {
    "colab": {
     "base_uri": "https://localhost:8080/",
     "height": 363
    },
    "id": "q_H7XAxNCxc6",
    "outputId": "09bf6c0b-1f17-4144-d3df-fcddac6b6c56"
   },
   "outputs": [
    {
     "data": {
      "text/html": [
       "<div>\n",
       "<style scoped>\n",
       "    .dataframe tbody tr th:only-of-type {\n",
       "        vertical-align: middle;\n",
       "    }\n",
       "\n",
       "    .dataframe tbody tr th {\n",
       "        vertical-align: top;\n",
       "    }\n",
       "\n",
       "    .dataframe thead th {\n",
       "        text-align: right;\n",
       "    }\n",
       "</style>\n",
       "<table border=\"1\" class=\"dataframe\">\n",
       "  <thead>\n",
       "    <tr style=\"text-align: right;\">\n",
       "      <th></th>\n",
       "      <th>artistID</th>\n",
       "      <th>userID</th>\n",
       "      <th>artist_name</th>\n",
       "    </tr>\n",
       "  </thead>\n",
       "  <tbody>\n",
       "    <tr>\n",
       "      <th>0</th>\n",
       "      <td>2102</td>\n",
       "      <td>1000</td>\n",
       "      <td>倖田來未</td>\n",
       "    </tr>\n",
       "    <tr>\n",
       "      <th>1</th>\n",
       "      <td>302</td>\n",
       "      <td>1000</td>\n",
       "      <td>P!nk</td>\n",
       "    </tr>\n",
       "    <tr>\n",
       "      <th>2</th>\n",
       "      <td>548</td>\n",
       "      <td>1000</td>\n",
       "      <td>Ellie Goulding</td>\n",
       "    </tr>\n",
       "    <tr>\n",
       "      <th>3</th>\n",
       "      <td>378</td>\n",
       "      <td>1000</td>\n",
       "      <td>Evanescence</td>\n",
       "    </tr>\n",
       "    <tr>\n",
       "      <th>4</th>\n",
       "      <td>292</td>\n",
       "      <td>1000</td>\n",
       "      <td>Christina Aguilera</td>\n",
       "    </tr>\n",
       "    <tr>\n",
       "      <th>5</th>\n",
       "      <td>2543</td>\n",
       "      <td>1000</td>\n",
       "      <td>Lolene</td>\n",
       "    </tr>\n",
       "    <tr>\n",
       "      <th>6</th>\n",
       "      <td>1556</td>\n",
       "      <td>1000</td>\n",
       "      <td>Joss Stone</td>\n",
       "    </tr>\n",
       "    <tr>\n",
       "      <th>7</th>\n",
       "      <td>299</td>\n",
       "      <td>1000</td>\n",
       "      <td>Jennifer Lopez</td>\n",
       "    </tr>\n",
       "    <tr>\n",
       "      <th>8</th>\n",
       "      <td>291</td>\n",
       "      <td>1000</td>\n",
       "      <td>Kelly Clarkson</td>\n",
       "    </tr>\n",
       "    <tr>\n",
       "      <th>9</th>\n",
       "      <td>300</td>\n",
       "      <td>1000</td>\n",
       "      <td>Katy Perry</td>\n",
       "    </tr>\n",
       "  </tbody>\n",
       "</table>\n",
       "</div>"
      ],
      "text/plain": [
       "   artistID  userID         artist_name\n",
       "0      2102    1000                倖田來未\n",
       "1       302    1000                P!nk\n",
       "2       548    1000      Ellie Goulding\n",
       "3       378    1000         Evanescence\n",
       "4       292    1000  Christina Aguilera\n",
       "5      2543    1000              Lolene\n",
       "6      1556    1000          Joss Stone\n",
       "7       299    1000      Jennifer Lopez\n",
       "8       291    1000      Kelly Clarkson\n",
       "9       300    1000          Katy Perry"
      ]
     },
     "execution_count": 71,
     "metadata": {},
     "output_type": "execute_result"
    }
   ],
   "source": [
    "# recommendation to user 1000\n",
    "recommend_to_users(userid=1000)"
   ]
  }
 ],
 "metadata": {
  "colab": {
   "collapsed_sections": [
    "Bw9LRS0tGnyJ"
   ],
   "provenance": []
  },
  "kernelspec": {
   "display_name": ".venv",
   "language": "python",
   "name": "python3"
  },
  "language_info": {
   "codemirror_mode": {
    "name": "ipython",
    "version": 3
   },
   "file_extension": ".py",
   "mimetype": "text/x-python",
   "name": "python",
   "nbconvert_exporter": "python",
   "pygments_lexer": "ipython3",
   "version": "3.10.14"
  },
  "widgets": {
   "application/vnd.jupyter.widget-state+json": {
    "001d1b4df0c048e5b69d970e71157580": {
     "model_module": "@jupyter-widgets/controls",
     "model_module_version": "1.5.0",
     "model_name": "HBoxModel",
     "state": {
      "_dom_classes": [],
      "_model_module": "@jupyter-widgets/controls",
      "_model_module_version": "1.5.0",
      "_model_name": "HBoxModel",
      "_view_count": null,
      "_view_module": "@jupyter-widgets/controls",
      "_view_module_version": "1.5.0",
      "_view_name": "HBoxView",
      "box_style": "",
      "children": [
       "IPY_MODEL_f938be43946345cab8e437c61d014cdc",
       "IPY_MODEL_aff2784fae624c65a743b44d35a45dc9",
       "IPY_MODEL_02cdd841fa7041268e7c0ddfcb6b36f1"
      ],
      "layout": "IPY_MODEL_e1820fe84bec4944ba2e18764442dd4b"
     }
    },
    "016bf10360cb4cf5a27624a8fd37c8b0": {
     "model_module": "@jupyter-widgets/controls",
     "model_module_version": "1.5.0",
     "model_name": "HBoxModel",
     "state": {
      "_dom_classes": [],
      "_model_module": "@jupyter-widgets/controls",
      "_model_module_version": "1.5.0",
      "_model_name": "HBoxModel",
      "_view_count": null,
      "_view_module": "@jupyter-widgets/controls",
      "_view_module_version": "1.5.0",
      "_view_name": "HBoxView",
      "box_style": "",
      "children": [
       "IPY_MODEL_c1cc8184b038422da7321bf0320f3f0a",
       "IPY_MODEL_d0b3174f1ee34914852a00ad154e7d06",
       "IPY_MODEL_fab0116acdf54014a4bae3efbe12b463"
      ],
      "layout": "IPY_MODEL_530f7e8cfe704035ac9128e2f8a9b322"
     }
    },
    "020f3956a4e24396a61075b3a9063950": {
     "model_module": "@jupyter-widgets/controls",
     "model_module_version": "1.5.0",
     "model_name": "DescriptionStyleModel",
     "state": {
      "_model_module": "@jupyter-widgets/controls",
      "_model_module_version": "1.5.0",
      "_model_name": "DescriptionStyleModel",
      "_view_count": null,
      "_view_module": "@jupyter-widgets/base",
      "_view_module_version": "1.2.0",
      "_view_name": "StyleView",
      "description_width": ""
     }
    },
    "02a26be5ee9d45c8b00ed39343eb862a": {
     "model_module": "@jupyter-widgets/base",
     "model_module_version": "1.2.0",
     "model_name": "LayoutModel",
     "state": {
      "_model_module": "@jupyter-widgets/base",
      "_model_module_version": "1.2.0",
      "_model_name": "LayoutModel",
      "_view_count": null,
      "_view_module": "@jupyter-widgets/base",
      "_view_module_version": "1.2.0",
      "_view_name": "LayoutView",
      "align_content": null,
      "align_items": null,
      "align_self": null,
      "border": null,
      "bottom": null,
      "display": null,
      "flex": null,
      "flex_flow": null,
      "grid_area": null,
      "grid_auto_columns": null,
      "grid_auto_flow": null,
      "grid_auto_rows": null,
      "grid_column": null,
      "grid_gap": null,
      "grid_row": null,
      "grid_template_areas": null,
      "grid_template_columns": null,
      "grid_template_rows": null,
      "height": null,
      "justify_content": null,
      "justify_items": null,
      "left": null,
      "margin": null,
      "max_height": null,
      "max_width": null,
      "min_height": null,
      "min_width": null,
      "object_fit": null,
      "object_position": null,
      "order": null,
      "overflow": null,
      "overflow_x": null,
      "overflow_y": null,
      "padding": null,
      "right": null,
      "top": null,
      "visibility": null,
      "width": null
     }
    },
    "02cdd841fa7041268e7c0ddfcb6b36f1": {
     "model_module": "@jupyter-widgets/controls",
     "model_module_version": "1.5.0",
     "model_name": "HTMLModel",
     "state": {
      "_dom_classes": [],
      "_model_module": "@jupyter-widgets/controls",
      "_model_module_version": "1.5.0",
      "_model_name": "HTMLModel",
      "_view_count": null,
      "_view_module": "@jupyter-widgets/controls",
      "_view_module_version": "1.5.0",
      "_view_name": "HTMLView",
      "description": "",
      "description_tooltip": null,
      "layout": "IPY_MODEL_03ae38579fae41949c95c4b02a56474c",
      "placeholder": "​",
      "style": "IPY_MODEL_0754f749d03945abb66948af8f55f667",
      "value": " 1882/1882 [00:00&lt;00:00, 2410.93it/s]"
     }
    },
    "03ae38579fae41949c95c4b02a56474c": {
     "model_module": "@jupyter-widgets/base",
     "model_module_version": "1.2.0",
     "model_name": "LayoutModel",
     "state": {
      "_model_module": "@jupyter-widgets/base",
      "_model_module_version": "1.2.0",
      "_model_name": "LayoutModel",
      "_view_count": null,
      "_view_module": "@jupyter-widgets/base",
      "_view_module_version": "1.2.0",
      "_view_name": "LayoutView",
      "align_content": null,
      "align_items": null,
      "align_self": null,
      "border": null,
      "bottom": null,
      "display": null,
      "flex": null,
      "flex_flow": null,
      "grid_area": null,
      "grid_auto_columns": null,
      "grid_auto_flow": null,
      "grid_auto_rows": null,
      "grid_column": null,
      "grid_gap": null,
      "grid_row": null,
      "grid_template_areas": null,
      "grid_template_columns": null,
      "grid_template_rows": null,
      "height": null,
      "justify_content": null,
      "justify_items": null,
      "left": null,
      "margin": null,
      "max_height": null,
      "max_width": null,
      "min_height": null,
      "min_width": null,
      "object_fit": null,
      "object_position": null,
      "order": null,
      "overflow": null,
      "overflow_x": null,
      "overflow_y": null,
      "padding": null,
      "right": null,
      "top": null,
      "visibility": null,
      "width": null
     }
    },
    "042f5bcb6b6c42229a46126d60d40023": {
     "model_module": "@jupyter-widgets/controls",
     "model_module_version": "1.5.0",
     "model_name": "ProgressStyleModel",
     "state": {
      "_model_module": "@jupyter-widgets/controls",
      "_model_module_version": "1.5.0",
      "_model_name": "ProgressStyleModel",
      "_view_count": null,
      "_view_module": "@jupyter-widgets/base",
      "_view_module_version": "1.2.0",
      "_view_name": "StyleView",
      "bar_color": null,
      "description_width": ""
     }
    },
    "0754f749d03945abb66948af8f55f667": {
     "model_module": "@jupyter-widgets/controls",
     "model_module_version": "1.5.0",
     "model_name": "DescriptionStyleModel",
     "state": {
      "_model_module": "@jupyter-widgets/controls",
      "_model_module_version": "1.5.0",
      "_model_name": "DescriptionStyleModel",
      "_view_count": null,
      "_view_module": "@jupyter-widgets/base",
      "_view_module_version": "1.2.0",
      "_view_name": "StyleView",
      "description_width": ""
     }
    },
    "07f9400d9c144e0fbb5d3f444fcf7a4f": {
     "model_module": "@jupyter-widgets/controls",
     "model_module_version": "1.5.0",
     "model_name": "ProgressStyleModel",
     "state": {
      "_model_module": "@jupyter-widgets/controls",
      "_model_module_version": "1.5.0",
      "_model_name": "ProgressStyleModel",
      "_view_count": null,
      "_view_module": "@jupyter-widgets/base",
      "_view_module_version": "1.2.0",
      "_view_name": "StyleView",
      "bar_color": null,
      "description_width": ""
     }
    },
    "0990845b02104df6847cc0899120dac8": {
     "model_module": "@jupyter-widgets/base",
     "model_module_version": "1.2.0",
     "model_name": "LayoutModel",
     "state": {
      "_model_module": "@jupyter-widgets/base",
      "_model_module_version": "1.2.0",
      "_model_name": "LayoutModel",
      "_view_count": null,
      "_view_module": "@jupyter-widgets/base",
      "_view_module_version": "1.2.0",
      "_view_name": "LayoutView",
      "align_content": null,
      "align_items": null,
      "align_self": null,
      "border": null,
      "bottom": null,
      "display": null,
      "flex": null,
      "flex_flow": null,
      "grid_area": null,
      "grid_auto_columns": null,
      "grid_auto_flow": null,
      "grid_auto_rows": null,
      "grid_column": null,
      "grid_gap": null,
      "grid_row": null,
      "grid_template_areas": null,
      "grid_template_columns": null,
      "grid_template_rows": null,
      "height": null,
      "justify_content": null,
      "justify_items": null,
      "left": null,
      "margin": null,
      "max_height": null,
      "max_width": null,
      "min_height": null,
      "min_width": null,
      "object_fit": null,
      "object_position": null,
      "order": null,
      "overflow": null,
      "overflow_x": null,
      "overflow_y": null,
      "padding": null,
      "right": null,
      "top": null,
      "visibility": null,
      "width": null
     }
    },
    "0a9be8c76a0c444481c91dc674ad9d88": {
     "model_module": "@jupyter-widgets/controls",
     "model_module_version": "1.5.0",
     "model_name": "ProgressStyleModel",
     "state": {
      "_model_module": "@jupyter-widgets/controls",
      "_model_module_version": "1.5.0",
      "_model_name": "ProgressStyleModel",
      "_view_count": null,
      "_view_module": "@jupyter-widgets/base",
      "_view_module_version": "1.2.0",
      "_view_name": "StyleView",
      "bar_color": null,
      "description_width": ""
     }
    },
    "0aa30e7f6a80453b9ea92a746a4ea89e": {
     "model_module": "@jupyter-widgets/controls",
     "model_module_version": "1.5.0",
     "model_name": "DescriptionStyleModel",
     "state": {
      "_model_module": "@jupyter-widgets/controls",
      "_model_module_version": "1.5.0",
      "_model_name": "DescriptionStyleModel",
      "_view_count": null,
      "_view_module": "@jupyter-widgets/base",
      "_view_module_version": "1.2.0",
      "_view_name": "StyleView",
      "description_width": ""
     }
    },
    "143d0142ae8d411ca4a85e4014258b96": {
     "model_module": "@jupyter-widgets/controls",
     "model_module_version": "1.5.0",
     "model_name": "HTMLModel",
     "state": {
      "_dom_classes": [],
      "_model_module": "@jupyter-widgets/controls",
      "_model_module_version": "1.5.0",
      "_model_name": "HTMLModel",
      "_view_count": null,
      "_view_module": "@jupyter-widgets/controls",
      "_view_module_version": "1.5.0",
      "_view_name": "HTMLView",
      "description": "",
      "description_tooltip": null,
      "layout": "IPY_MODEL_67ac71bbf4ee4667ad746747bfe160d7",
      "placeholder": "​",
      "style": "IPY_MODEL_a3cb9c0dddf74597b893c621c24a71e3",
      "value": "100%"
     }
    },
    "1886b744fd654210b374b6488996f1cd": {
     "model_module": "@jupyter-widgets/base",
     "model_module_version": "1.2.0",
     "model_name": "LayoutModel",
     "state": {
      "_model_module": "@jupyter-widgets/base",
      "_model_module_version": "1.2.0",
      "_model_name": "LayoutModel",
      "_view_count": null,
      "_view_module": "@jupyter-widgets/base",
      "_view_module_version": "1.2.0",
      "_view_name": "LayoutView",
      "align_content": null,
      "align_items": null,
      "align_self": null,
      "border": null,
      "bottom": null,
      "display": null,
      "flex": null,
      "flex_flow": null,
      "grid_area": null,
      "grid_auto_columns": null,
      "grid_auto_flow": null,
      "grid_auto_rows": null,
      "grid_column": null,
      "grid_gap": null,
      "grid_row": null,
      "grid_template_areas": null,
      "grid_template_columns": null,
      "grid_template_rows": null,
      "height": null,
      "justify_content": null,
      "justify_items": null,
      "left": null,
      "margin": null,
      "max_height": null,
      "max_width": null,
      "min_height": null,
      "min_width": null,
      "object_fit": null,
      "object_position": null,
      "order": null,
      "overflow": null,
      "overflow_x": null,
      "overflow_y": null,
      "padding": null,
      "right": null,
      "top": null,
      "visibility": null,
      "width": null
     }
    },
    "1c792d1f5912484b870c7f3b516939cd": {
     "model_module": "@jupyter-widgets/controls",
     "model_module_version": "1.5.0",
     "model_name": "ProgressStyleModel",
     "state": {
      "_model_module": "@jupyter-widgets/controls",
      "_model_module_version": "1.5.0",
      "_model_name": "ProgressStyleModel",
      "_view_count": null,
      "_view_module": "@jupyter-widgets/base",
      "_view_module_version": "1.2.0",
      "_view_name": "StyleView",
      "bar_color": null,
      "description_width": ""
     }
    },
    "1ea8284f4fda47c780e41ecfdf931080": {
     "model_module": "@jupyter-widgets/base",
     "model_module_version": "1.2.0",
     "model_name": "LayoutModel",
     "state": {
      "_model_module": "@jupyter-widgets/base",
      "_model_module_version": "1.2.0",
      "_model_name": "LayoutModel",
      "_view_count": null,
      "_view_module": "@jupyter-widgets/base",
      "_view_module_version": "1.2.0",
      "_view_name": "LayoutView",
      "align_content": null,
      "align_items": null,
      "align_self": null,
      "border": null,
      "bottom": null,
      "display": null,
      "flex": null,
      "flex_flow": null,
      "grid_area": null,
      "grid_auto_columns": null,
      "grid_auto_flow": null,
      "grid_auto_rows": null,
      "grid_column": null,
      "grid_gap": null,
      "grid_row": null,
      "grid_template_areas": null,
      "grid_template_columns": null,
      "grid_template_rows": null,
      "height": null,
      "justify_content": null,
      "justify_items": null,
      "left": null,
      "margin": null,
      "max_height": null,
      "max_width": null,
      "min_height": null,
      "min_width": null,
      "object_fit": null,
      "object_position": null,
      "order": null,
      "overflow": null,
      "overflow_x": null,
      "overflow_y": null,
      "padding": null,
      "right": null,
      "top": null,
      "visibility": null,
      "width": null
     }
    },
    "1f4c5e20ccc6446e9d452faa1b594cdc": {
     "model_module": "@jupyter-widgets/controls",
     "model_module_version": "1.5.0",
     "model_name": "ProgressStyleModel",
     "state": {
      "_model_module": "@jupyter-widgets/controls",
      "_model_module_version": "1.5.0",
      "_model_name": "ProgressStyleModel",
      "_view_count": null,
      "_view_module": "@jupyter-widgets/base",
      "_view_module_version": "1.2.0",
      "_view_name": "StyleView",
      "bar_color": null,
      "description_width": ""
     }
    },
    "1fadb3cf21ff4f5caa8103d7d3ddc659": {
     "model_module": "@jupyter-widgets/controls",
     "model_module_version": "1.5.0",
     "model_name": "DescriptionStyleModel",
     "state": {
      "_model_module": "@jupyter-widgets/controls",
      "_model_module_version": "1.5.0",
      "_model_name": "DescriptionStyleModel",
      "_view_count": null,
      "_view_module": "@jupyter-widgets/base",
      "_view_module_version": "1.2.0",
      "_view_name": "StyleView",
      "description_width": ""
     }
    },
    "1fd88c63118f42d5aaf7367cdd8919d8": {
     "model_module": "@jupyter-widgets/controls",
     "model_module_version": "1.5.0",
     "model_name": "DescriptionStyleModel",
     "state": {
      "_model_module": "@jupyter-widgets/controls",
      "_model_module_version": "1.5.0",
      "_model_name": "DescriptionStyleModel",
      "_view_count": null,
      "_view_module": "@jupyter-widgets/base",
      "_view_module_version": "1.2.0",
      "_view_name": "StyleView",
      "description_width": ""
     }
    },
    "1ff1e93f3bc740f0afceb2c9942cfcdc": {
     "model_module": "@jupyter-widgets/controls",
     "model_module_version": "1.5.0",
     "model_name": "DescriptionStyleModel",
     "state": {
      "_model_module": "@jupyter-widgets/controls",
      "_model_module_version": "1.5.0",
      "_model_name": "DescriptionStyleModel",
      "_view_count": null,
      "_view_module": "@jupyter-widgets/base",
      "_view_module_version": "1.2.0",
      "_view_name": "StyleView",
      "description_width": ""
     }
    },
    "22ae28cb7f2b4b8984f93b7adc300d06": {
     "model_module": "@jupyter-widgets/controls",
     "model_module_version": "1.5.0",
     "model_name": "DescriptionStyleModel",
     "state": {
      "_model_module": "@jupyter-widgets/controls",
      "_model_module_version": "1.5.0",
      "_model_name": "DescriptionStyleModel",
      "_view_count": null,
      "_view_module": "@jupyter-widgets/base",
      "_view_module_version": "1.2.0",
      "_view_name": "StyleView",
      "description_width": ""
     }
    },
    "241999f027d0457c84a658470d0206d7": {
     "model_module": "@jupyter-widgets/base",
     "model_module_version": "1.2.0",
     "model_name": "LayoutModel",
     "state": {
      "_model_module": "@jupyter-widgets/base",
      "_model_module_version": "1.2.0",
      "_model_name": "LayoutModel",
      "_view_count": null,
      "_view_module": "@jupyter-widgets/base",
      "_view_module_version": "1.2.0",
      "_view_name": "LayoutView",
      "align_content": null,
      "align_items": null,
      "align_self": null,
      "border": null,
      "bottom": null,
      "display": null,
      "flex": null,
      "flex_flow": null,
      "grid_area": null,
      "grid_auto_columns": null,
      "grid_auto_flow": null,
      "grid_auto_rows": null,
      "grid_column": null,
      "grid_gap": null,
      "grid_row": null,
      "grid_template_areas": null,
      "grid_template_columns": null,
      "grid_template_rows": null,
      "height": null,
      "justify_content": null,
      "justify_items": null,
      "left": null,
      "margin": null,
      "max_height": null,
      "max_width": null,
      "min_height": null,
      "min_width": null,
      "object_fit": null,
      "object_position": null,
      "order": null,
      "overflow": null,
      "overflow_x": null,
      "overflow_y": null,
      "padding": null,
      "right": null,
      "top": null,
      "visibility": null,
      "width": null
     }
    },
    "2487407ba58447c588daa8143f7041ef": {
     "model_module": "@jupyter-widgets/controls",
     "model_module_version": "1.5.0",
     "model_name": "FloatProgressModel",
     "state": {
      "_dom_classes": [],
      "_model_module": "@jupyter-widgets/controls",
      "_model_module_version": "1.5.0",
      "_model_name": "FloatProgressModel",
      "_view_count": null,
      "_view_module": "@jupyter-widgets/controls",
      "_view_module_version": "1.5.0",
      "_view_name": "ProgressView",
      "bar_style": "success",
      "description": "",
      "description_tooltip": null,
      "layout": "IPY_MODEL_3e9ce4c62e894fc4936e728a7bbf4b32",
      "max": 1883,
      "min": 0,
      "orientation": "horizontal",
      "style": "IPY_MODEL_660c3e857ce145efa2ca73218e8d9b88",
      "value": 1883
     }
    },
    "24f3cf40f9374003b94232e1ee99bbba": {
     "model_module": "@jupyter-widgets/controls",
     "model_module_version": "1.5.0",
     "model_name": "HBoxModel",
     "state": {
      "_dom_classes": [],
      "_model_module": "@jupyter-widgets/controls",
      "_model_module_version": "1.5.0",
      "_model_name": "HBoxModel",
      "_view_count": null,
      "_view_module": "@jupyter-widgets/controls",
      "_view_module_version": "1.5.0",
      "_view_name": "HBoxView",
      "box_style": "",
      "children": [
       "IPY_MODEL_c62767386273470eb29458d67d1150bb",
       "IPY_MODEL_9735b9981cc24ae59594537ec2a02651",
       "IPY_MODEL_da45b784686c4be88749c51c00113a49"
      ],
      "layout": "IPY_MODEL_36dd8dceb75543879de47c1db6308579"
     }
    },
    "294984616207416793fb377eea77eb4b": {
     "model_module": "@jupyter-widgets/controls",
     "model_module_version": "1.5.0",
     "model_name": "HTMLModel",
     "state": {
      "_dom_classes": [],
      "_model_module": "@jupyter-widgets/controls",
      "_model_module_version": "1.5.0",
      "_model_name": "HTMLModel",
      "_view_count": null,
      "_view_module": "@jupyter-widgets/controls",
      "_view_module_version": "1.5.0",
      "_view_name": "HTMLView",
      "description": "",
      "description_tooltip": null,
      "layout": "IPY_MODEL_1ea8284f4fda47c780e41ecfdf931080",
      "placeholder": "​",
      "style": "IPY_MODEL_fbc8d8ee3e7f40329ebeb016f5fa3e56",
      "value": " 1883/1883 [00:29&lt;00:00, 60.86it/s]"
     }
    },
    "2b1d85d2347c4f4eb32f591356192c01": {
     "model_module": "@jupyter-widgets/base",
     "model_module_version": "1.2.0",
     "model_name": "LayoutModel",
     "state": {
      "_model_module": "@jupyter-widgets/base",
      "_model_module_version": "1.2.0",
      "_model_name": "LayoutModel",
      "_view_count": null,
      "_view_module": "@jupyter-widgets/base",
      "_view_module_version": "1.2.0",
      "_view_name": "LayoutView",
      "align_content": null,
      "align_items": null,
      "align_self": null,
      "border": null,
      "bottom": null,
      "display": null,
      "flex": null,
      "flex_flow": null,
      "grid_area": null,
      "grid_auto_columns": null,
      "grid_auto_flow": null,
      "grid_auto_rows": null,
      "grid_column": null,
      "grid_gap": null,
      "grid_row": null,
      "grid_template_areas": null,
      "grid_template_columns": null,
      "grid_template_rows": null,
      "height": null,
      "justify_content": null,
      "justify_items": null,
      "left": null,
      "margin": null,
      "max_height": null,
      "max_width": null,
      "min_height": null,
      "min_width": null,
      "object_fit": null,
      "object_position": null,
      "order": null,
      "overflow": null,
      "overflow_x": null,
      "overflow_y": null,
      "padding": null,
      "right": null,
      "top": null,
      "visibility": null,
      "width": null
     }
    },
    "2d0330d5b0f040b5b4516e1bcffc156b": {
     "model_module": "@jupyter-widgets/controls",
     "model_module_version": "1.5.0",
     "model_name": "HTMLModel",
     "state": {
      "_dom_classes": [],
      "_model_module": "@jupyter-widgets/controls",
      "_model_module_version": "1.5.0",
      "_model_name": "HTMLModel",
      "_view_count": null,
      "_view_module": "@jupyter-widgets/controls",
      "_view_module_version": "1.5.0",
      "_view_name": "HTMLView",
      "description": "",
      "description_tooltip": null,
      "layout": "IPY_MODEL_55ec9d5c029f4b5b9320ef1fda9dc06a",
      "placeholder": "​",
      "style": "IPY_MODEL_5853b81324f54da1a9827588c97a54b8",
      "value": "100%"
     }
    },
    "3034cc48c059418e974df6dd1900f54d": {
     "model_module": "@jupyter-widgets/controls",
     "model_module_version": "1.5.0",
     "model_name": "HTMLModel",
     "state": {
      "_dom_classes": [],
      "_model_module": "@jupyter-widgets/controls",
      "_model_module_version": "1.5.0",
      "_model_name": "HTMLModel",
      "_view_count": null,
      "_view_module": "@jupyter-widgets/controls",
      "_view_module_version": "1.5.0",
      "_view_name": "HTMLView",
      "description": "",
      "description_tooltip": null,
      "layout": "IPY_MODEL_5afa9f70956f49cd96f5db97a10499f4",
      "placeholder": "​",
      "style": "IPY_MODEL_79d7e3e6b252461ab8cd4498f4ce16ee",
      "value": "100%"
     }
    },
    "3073897149bb4e078bebaa562c5b7c95": {
     "model_module": "@jupyter-widgets/controls",
     "model_module_version": "1.5.0",
     "model_name": "HTMLModel",
     "state": {
      "_dom_classes": [],
      "_model_module": "@jupyter-widgets/controls",
      "_model_module_version": "1.5.0",
      "_model_name": "HTMLModel",
      "_view_count": null,
      "_view_module": "@jupyter-widgets/controls",
      "_view_module_version": "1.5.0",
      "_view_name": "HTMLView",
      "description": "",
      "description_tooltip": null,
      "layout": "IPY_MODEL_9b8a9fedfad745a5801a981c6d457ca6",
      "placeholder": "​",
      "style": "IPY_MODEL_1ff1e93f3bc740f0afceb2c9942cfcdc",
      "value": " 15/15 [00:13&lt;00:00,  1.21it/s]"
     }
    },
    "33d5e4e6259c4119b7ffe508d8aaac00": {
     "model_module": "@jupyter-widgets/base",
     "model_module_version": "1.2.0",
     "model_name": "LayoutModel",
     "state": {
      "_model_module": "@jupyter-widgets/base",
      "_model_module_version": "1.2.0",
      "_model_name": "LayoutModel",
      "_view_count": null,
      "_view_module": "@jupyter-widgets/base",
      "_view_module_version": "1.2.0",
      "_view_name": "LayoutView",
      "align_content": null,
      "align_items": null,
      "align_self": null,
      "border": null,
      "bottom": null,
      "display": null,
      "flex": null,
      "flex_flow": null,
      "grid_area": null,
      "grid_auto_columns": null,
      "grid_auto_flow": null,
      "grid_auto_rows": null,
      "grid_column": null,
      "grid_gap": null,
      "grid_row": null,
      "grid_template_areas": null,
      "grid_template_columns": null,
      "grid_template_rows": null,
      "height": null,
      "justify_content": null,
      "justify_items": null,
      "left": null,
      "margin": null,
      "max_height": null,
      "max_width": null,
      "min_height": null,
      "min_width": null,
      "object_fit": null,
      "object_position": null,
      "order": null,
      "overflow": null,
      "overflow_x": null,
      "overflow_y": null,
      "padding": null,
      "right": null,
      "top": null,
      "visibility": null,
      "width": null
     }
    },
    "36dd8dceb75543879de47c1db6308579": {
     "model_module": "@jupyter-widgets/base",
     "model_module_version": "1.2.0",
     "model_name": "LayoutModel",
     "state": {
      "_model_module": "@jupyter-widgets/base",
      "_model_module_version": "1.2.0",
      "_model_name": "LayoutModel",
      "_view_count": null,
      "_view_module": "@jupyter-widgets/base",
      "_view_module_version": "1.2.0",
      "_view_name": "LayoutView",
      "align_content": null,
      "align_items": null,
      "align_self": null,
      "border": null,
      "bottom": null,
      "display": null,
      "flex": null,
      "flex_flow": null,
      "grid_area": null,
      "grid_auto_columns": null,
      "grid_auto_flow": null,
      "grid_auto_rows": null,
      "grid_column": null,
      "grid_gap": null,
      "grid_row": null,
      "grid_template_areas": null,
      "grid_template_columns": null,
      "grid_template_rows": null,
      "height": null,
      "justify_content": null,
      "justify_items": null,
      "left": null,
      "margin": null,
      "max_height": null,
      "max_width": null,
      "min_height": null,
      "min_width": null,
      "object_fit": null,
      "object_position": null,
      "order": null,
      "overflow": null,
      "overflow_x": null,
      "overflow_y": null,
      "padding": null,
      "right": null,
      "top": null,
      "visibility": null,
      "width": null
     }
    },
    "3ada792aa066410e9212c79702f8a1a2": {
     "model_module": "@jupyter-widgets/controls",
     "model_module_version": "1.5.0",
     "model_name": "HBoxModel",
     "state": {
      "_dom_classes": [],
      "_model_module": "@jupyter-widgets/controls",
      "_model_module_version": "1.5.0",
      "_model_name": "HBoxModel",
      "_view_count": null,
      "_view_module": "@jupyter-widgets/controls",
      "_view_module_version": "1.5.0",
      "_view_name": "HBoxView",
      "box_style": "",
      "children": [
       "IPY_MODEL_3034cc48c059418e974df6dd1900f54d",
       "IPY_MODEL_9e0219b14dd845cabae0ed9e9736995c",
       "IPY_MODEL_6d0abca91e0445d48be77d7d5869f209"
      ],
      "layout": "IPY_MODEL_3eba7d6b36604a5baa73dce219a4cb95"
     }
    },
    "3e9ce4c62e894fc4936e728a7bbf4b32": {
     "model_module": "@jupyter-widgets/base",
     "model_module_version": "1.2.0",
     "model_name": "LayoutModel",
     "state": {
      "_model_module": "@jupyter-widgets/base",
      "_model_module_version": "1.2.0",
      "_model_name": "LayoutModel",
      "_view_count": null,
      "_view_module": "@jupyter-widgets/base",
      "_view_module_version": "1.2.0",
      "_view_name": "LayoutView",
      "align_content": null,
      "align_items": null,
      "align_self": null,
      "border": null,
      "bottom": null,
      "display": null,
      "flex": null,
      "flex_flow": null,
      "grid_area": null,
      "grid_auto_columns": null,
      "grid_auto_flow": null,
      "grid_auto_rows": null,
      "grid_column": null,
      "grid_gap": null,
      "grid_row": null,
      "grid_template_areas": null,
      "grid_template_columns": null,
      "grid_template_rows": null,
      "height": null,
      "justify_content": null,
      "justify_items": null,
      "left": null,
      "margin": null,
      "max_height": null,
      "max_width": null,
      "min_height": null,
      "min_width": null,
      "object_fit": null,
      "object_position": null,
      "order": null,
      "overflow": null,
      "overflow_x": null,
      "overflow_y": null,
      "padding": null,
      "right": null,
      "top": null,
      "visibility": null,
      "width": null
     }
    },
    "3eba7d6b36604a5baa73dce219a4cb95": {
     "model_module": "@jupyter-widgets/base",
     "model_module_version": "1.2.0",
     "model_name": "LayoutModel",
     "state": {
      "_model_module": "@jupyter-widgets/base",
      "_model_module_version": "1.2.0",
      "_model_name": "LayoutModel",
      "_view_count": null,
      "_view_module": "@jupyter-widgets/base",
      "_view_module_version": "1.2.0",
      "_view_name": "LayoutView",
      "align_content": null,
      "align_items": null,
      "align_self": null,
      "border": null,
      "bottom": null,
      "display": null,
      "flex": null,
      "flex_flow": null,
      "grid_area": null,
      "grid_auto_columns": null,
      "grid_auto_flow": null,
      "grid_auto_rows": null,
      "grid_column": null,
      "grid_gap": null,
      "grid_row": null,
      "grid_template_areas": null,
      "grid_template_columns": null,
      "grid_template_rows": null,
      "height": null,
      "justify_content": null,
      "justify_items": null,
      "left": null,
      "margin": null,
      "max_height": null,
      "max_width": null,
      "min_height": null,
      "min_width": null,
      "object_fit": null,
      "object_position": null,
      "order": null,
      "overflow": null,
      "overflow_x": null,
      "overflow_y": null,
      "padding": null,
      "right": null,
      "top": null,
      "visibility": null,
      "width": null
     }
    },
    "4142adea2d38423b91d165f3fb26302d": {
     "model_module": "@jupyter-widgets/controls",
     "model_module_version": "1.5.0",
     "model_name": "DescriptionStyleModel",
     "state": {
      "_model_module": "@jupyter-widgets/controls",
      "_model_module_version": "1.5.0",
      "_model_name": "DescriptionStyleModel",
      "_view_count": null,
      "_view_module": "@jupyter-widgets/base",
      "_view_module_version": "1.2.0",
      "_view_name": "StyleView",
      "description_width": ""
     }
    },
    "443d036ee1e34348b994becb12f3e163": {
     "model_module": "@jupyter-widgets/base",
     "model_module_version": "1.2.0",
     "model_name": "LayoutModel",
     "state": {
      "_model_module": "@jupyter-widgets/base",
      "_model_module_version": "1.2.0",
      "_model_name": "LayoutModel",
      "_view_count": null,
      "_view_module": "@jupyter-widgets/base",
      "_view_module_version": "1.2.0",
      "_view_name": "LayoutView",
      "align_content": null,
      "align_items": null,
      "align_self": null,
      "border": null,
      "bottom": null,
      "display": null,
      "flex": null,
      "flex_flow": null,
      "grid_area": null,
      "grid_auto_columns": null,
      "grid_auto_flow": null,
      "grid_auto_rows": null,
      "grid_column": null,
      "grid_gap": null,
      "grid_row": null,
      "grid_template_areas": null,
      "grid_template_columns": null,
      "grid_template_rows": null,
      "height": null,
      "justify_content": null,
      "justify_items": null,
      "left": null,
      "margin": null,
      "max_height": null,
      "max_width": null,
      "min_height": null,
      "min_width": null,
      "object_fit": null,
      "object_position": null,
      "order": null,
      "overflow": null,
      "overflow_x": null,
      "overflow_y": null,
      "padding": null,
      "right": null,
      "top": null,
      "visibility": null,
      "width": null
     }
    },
    "50b630ea5cc8446da2feaa2372ede173": {
     "model_module": "@jupyter-widgets/base",
     "model_module_version": "1.2.0",
     "model_name": "LayoutModel",
     "state": {
      "_model_module": "@jupyter-widgets/base",
      "_model_module_version": "1.2.0",
      "_model_name": "LayoutModel",
      "_view_count": null,
      "_view_module": "@jupyter-widgets/base",
      "_view_module_version": "1.2.0",
      "_view_name": "LayoutView",
      "align_content": null,
      "align_items": null,
      "align_self": null,
      "border": null,
      "bottom": null,
      "display": null,
      "flex": null,
      "flex_flow": null,
      "grid_area": null,
      "grid_auto_columns": null,
      "grid_auto_flow": null,
      "grid_auto_rows": null,
      "grid_column": null,
      "grid_gap": null,
      "grid_row": null,
      "grid_template_areas": null,
      "grid_template_columns": null,
      "grid_template_rows": null,
      "height": null,
      "justify_content": null,
      "justify_items": null,
      "left": null,
      "margin": null,
      "max_height": null,
      "max_width": null,
      "min_height": null,
      "min_width": null,
      "object_fit": null,
      "object_position": null,
      "order": null,
      "overflow": null,
      "overflow_x": null,
      "overflow_y": null,
      "padding": null,
      "right": null,
      "top": null,
      "visibility": null,
      "width": null
     }
    },
    "530f7e8cfe704035ac9128e2f8a9b322": {
     "model_module": "@jupyter-widgets/base",
     "model_module_version": "1.2.0",
     "model_name": "LayoutModel",
     "state": {
      "_model_module": "@jupyter-widgets/base",
      "_model_module_version": "1.2.0",
      "_model_name": "LayoutModel",
      "_view_count": null,
      "_view_module": "@jupyter-widgets/base",
      "_view_module_version": "1.2.0",
      "_view_name": "LayoutView",
      "align_content": null,
      "align_items": null,
      "align_self": null,
      "border": null,
      "bottom": null,
      "display": null,
      "flex": null,
      "flex_flow": null,
      "grid_area": null,
      "grid_auto_columns": null,
      "grid_auto_flow": null,
      "grid_auto_rows": null,
      "grid_column": null,
      "grid_gap": null,
      "grid_row": null,
      "grid_template_areas": null,
      "grid_template_columns": null,
      "grid_template_rows": null,
      "height": null,
      "justify_content": null,
      "justify_items": null,
      "left": null,
      "margin": null,
      "max_height": null,
      "max_width": null,
      "min_height": null,
      "min_width": null,
      "object_fit": null,
      "object_position": null,
      "order": null,
      "overflow": null,
      "overflow_x": null,
      "overflow_y": null,
      "padding": null,
      "right": null,
      "top": null,
      "visibility": null,
      "width": null
     }
    },
    "55ec9d5c029f4b5b9320ef1fda9dc06a": {
     "model_module": "@jupyter-widgets/base",
     "model_module_version": "1.2.0",
     "model_name": "LayoutModel",
     "state": {
      "_model_module": "@jupyter-widgets/base",
      "_model_module_version": "1.2.0",
      "_model_name": "LayoutModel",
      "_view_count": null,
      "_view_module": "@jupyter-widgets/base",
      "_view_module_version": "1.2.0",
      "_view_name": "LayoutView",
      "align_content": null,
      "align_items": null,
      "align_self": null,
      "border": null,
      "bottom": null,
      "display": null,
      "flex": null,
      "flex_flow": null,
      "grid_area": null,
      "grid_auto_columns": null,
      "grid_auto_flow": null,
      "grid_auto_rows": null,
      "grid_column": null,
      "grid_gap": null,
      "grid_row": null,
      "grid_template_areas": null,
      "grid_template_columns": null,
      "grid_template_rows": null,
      "height": null,
      "justify_content": null,
      "justify_items": null,
      "left": null,
      "margin": null,
      "max_height": null,
      "max_width": null,
      "min_height": null,
      "min_width": null,
      "object_fit": null,
      "object_position": null,
      "order": null,
      "overflow": null,
      "overflow_x": null,
      "overflow_y": null,
      "padding": null,
      "right": null,
      "top": null,
      "visibility": null,
      "width": null
     }
    },
    "5853b81324f54da1a9827588c97a54b8": {
     "model_module": "@jupyter-widgets/controls",
     "model_module_version": "1.5.0",
     "model_name": "DescriptionStyleModel",
     "state": {
      "_model_module": "@jupyter-widgets/controls",
      "_model_module_version": "1.5.0",
      "_model_name": "DescriptionStyleModel",
      "_view_count": null,
      "_view_module": "@jupyter-widgets/base",
      "_view_module_version": "1.2.0",
      "_view_name": "StyleView",
      "description_width": ""
     }
    },
    "58768fddafa54c25ab5b115703095288": {
     "model_module": "@jupyter-widgets/base",
     "model_module_version": "1.2.0",
     "model_name": "LayoutModel",
     "state": {
      "_model_module": "@jupyter-widgets/base",
      "_model_module_version": "1.2.0",
      "_model_name": "LayoutModel",
      "_view_count": null,
      "_view_module": "@jupyter-widgets/base",
      "_view_module_version": "1.2.0",
      "_view_name": "LayoutView",
      "align_content": null,
      "align_items": null,
      "align_self": null,
      "border": null,
      "bottom": null,
      "display": null,
      "flex": null,
      "flex_flow": null,
      "grid_area": null,
      "grid_auto_columns": null,
      "grid_auto_flow": null,
      "grid_auto_rows": null,
      "grid_column": null,
      "grid_gap": null,
      "grid_row": null,
      "grid_template_areas": null,
      "grid_template_columns": null,
      "grid_template_rows": null,
      "height": null,
      "justify_content": null,
      "justify_items": null,
      "left": null,
      "margin": null,
      "max_height": null,
      "max_width": null,
      "min_height": null,
      "min_width": null,
      "object_fit": null,
      "object_position": null,
      "order": null,
      "overflow": null,
      "overflow_x": null,
      "overflow_y": null,
      "padding": null,
      "right": null,
      "top": null,
      "visibility": null,
      "width": null
     }
    },
    "5afa9f70956f49cd96f5db97a10499f4": {
     "model_module": "@jupyter-widgets/base",
     "model_module_version": "1.2.0",
     "model_name": "LayoutModel",
     "state": {
      "_model_module": "@jupyter-widgets/base",
      "_model_module_version": "1.2.0",
      "_model_name": "LayoutModel",
      "_view_count": null,
      "_view_module": "@jupyter-widgets/base",
      "_view_module_version": "1.2.0",
      "_view_name": "LayoutView",
      "align_content": null,
      "align_items": null,
      "align_self": null,
      "border": null,
      "bottom": null,
      "display": null,
      "flex": null,
      "flex_flow": null,
      "grid_area": null,
      "grid_auto_columns": null,
      "grid_auto_flow": null,
      "grid_auto_rows": null,
      "grid_column": null,
      "grid_gap": null,
      "grid_row": null,
      "grid_template_areas": null,
      "grid_template_columns": null,
      "grid_template_rows": null,
      "height": null,
      "justify_content": null,
      "justify_items": null,
      "left": null,
      "margin": null,
      "max_height": null,
      "max_width": null,
      "min_height": null,
      "min_width": null,
      "object_fit": null,
      "object_position": null,
      "order": null,
      "overflow": null,
      "overflow_x": null,
      "overflow_y": null,
      "padding": null,
      "right": null,
      "top": null,
      "visibility": null,
      "width": null
     }
    },
    "5d27faa34b05428c89470223bb078def": {
     "model_module": "@jupyter-widgets/base",
     "model_module_version": "1.2.0",
     "model_name": "LayoutModel",
     "state": {
      "_model_module": "@jupyter-widgets/base",
      "_model_module_version": "1.2.0",
      "_model_name": "LayoutModel",
      "_view_count": null,
      "_view_module": "@jupyter-widgets/base",
      "_view_module_version": "1.2.0",
      "_view_name": "LayoutView",
      "align_content": null,
      "align_items": null,
      "align_self": null,
      "border": null,
      "bottom": null,
      "display": null,
      "flex": null,
      "flex_flow": null,
      "grid_area": null,
      "grid_auto_columns": null,
      "grid_auto_flow": null,
      "grid_auto_rows": null,
      "grid_column": null,
      "grid_gap": null,
      "grid_row": null,
      "grid_template_areas": null,
      "grid_template_columns": null,
      "grid_template_rows": null,
      "height": null,
      "justify_content": null,
      "justify_items": null,
      "left": null,
      "margin": null,
      "max_height": null,
      "max_width": null,
      "min_height": null,
      "min_width": null,
      "object_fit": null,
      "object_position": null,
      "order": null,
      "overflow": null,
      "overflow_x": null,
      "overflow_y": null,
      "padding": null,
      "right": null,
      "top": null,
      "visibility": null,
      "width": null
     }
    },
    "5d33180126a6402eba0c71ab145fda24": {
     "model_module": "@jupyter-widgets/base",
     "model_module_version": "1.2.0",
     "model_name": "LayoutModel",
     "state": {
      "_model_module": "@jupyter-widgets/base",
      "_model_module_version": "1.2.0",
      "_model_name": "LayoutModel",
      "_view_count": null,
      "_view_module": "@jupyter-widgets/base",
      "_view_module_version": "1.2.0",
      "_view_name": "LayoutView",
      "align_content": null,
      "align_items": null,
      "align_self": null,
      "border": null,
      "bottom": null,
      "display": null,
      "flex": null,
      "flex_flow": null,
      "grid_area": null,
      "grid_auto_columns": null,
      "grid_auto_flow": null,
      "grid_auto_rows": null,
      "grid_column": null,
      "grid_gap": null,
      "grid_row": null,
      "grid_template_areas": null,
      "grid_template_columns": null,
      "grid_template_rows": null,
      "height": null,
      "justify_content": null,
      "justify_items": null,
      "left": null,
      "margin": null,
      "max_height": null,
      "max_width": null,
      "min_height": null,
      "min_width": null,
      "object_fit": null,
      "object_position": null,
      "order": null,
      "overflow": null,
      "overflow_x": null,
      "overflow_y": null,
      "padding": null,
      "right": null,
      "top": null,
      "visibility": null,
      "width": null
     }
    },
    "5df625013a02440db4633ba9f40bc4b6": {
     "model_module": "@jupyter-widgets/controls",
     "model_module_version": "1.5.0",
     "model_name": "DescriptionStyleModel",
     "state": {
      "_model_module": "@jupyter-widgets/controls",
      "_model_module_version": "1.5.0",
      "_model_name": "DescriptionStyleModel",
      "_view_count": null,
      "_view_module": "@jupyter-widgets/base",
      "_view_module_version": "1.2.0",
      "_view_name": "StyleView",
      "description_width": ""
     }
    },
    "606f2882c3044a8a815d7503cc8a1ad2": {
     "model_module": "@jupyter-widgets/controls",
     "model_module_version": "1.5.0",
     "model_name": "HTMLModel",
     "state": {
      "_dom_classes": [],
      "_model_module": "@jupyter-widgets/controls",
      "_model_module_version": "1.5.0",
      "_model_name": "HTMLModel",
      "_view_count": null,
      "_view_module": "@jupyter-widgets/controls",
      "_view_module_version": "1.5.0",
      "_view_name": "HTMLView",
      "description": "",
      "description_tooltip": null,
      "layout": "IPY_MODEL_c0c1f10c84f743d6aa9c90a41c691b7d",
      "placeholder": "​",
      "style": "IPY_MODEL_89d31688d6934e488964a10b1558d79e",
      "value": "100%"
     }
    },
    "660c3e857ce145efa2ca73218e8d9b88": {
     "model_module": "@jupyter-widgets/controls",
     "model_module_version": "1.5.0",
     "model_name": "ProgressStyleModel",
     "state": {
      "_model_module": "@jupyter-widgets/controls",
      "_model_module_version": "1.5.0",
      "_model_name": "ProgressStyleModel",
      "_view_count": null,
      "_view_module": "@jupyter-widgets/base",
      "_view_module_version": "1.2.0",
      "_view_name": "StyleView",
      "bar_color": null,
      "description_width": ""
     }
    },
    "67ac71bbf4ee4667ad746747bfe160d7": {
     "model_module": "@jupyter-widgets/base",
     "model_module_version": "1.2.0",
     "model_name": "LayoutModel",
     "state": {
      "_model_module": "@jupyter-widgets/base",
      "_model_module_version": "1.2.0",
      "_model_name": "LayoutModel",
      "_view_count": null,
      "_view_module": "@jupyter-widgets/base",
      "_view_module_version": "1.2.0",
      "_view_name": "LayoutView",
      "align_content": null,
      "align_items": null,
      "align_self": null,
      "border": null,
      "bottom": null,
      "display": null,
      "flex": null,
      "flex_flow": null,
      "grid_area": null,
      "grid_auto_columns": null,
      "grid_auto_flow": null,
      "grid_auto_rows": null,
      "grid_column": null,
      "grid_gap": null,
      "grid_row": null,
      "grid_template_areas": null,
      "grid_template_columns": null,
      "grid_template_rows": null,
      "height": null,
      "justify_content": null,
      "justify_items": null,
      "left": null,
      "margin": null,
      "max_height": null,
      "max_width": null,
      "min_height": null,
      "min_width": null,
      "object_fit": null,
      "object_position": null,
      "order": null,
      "overflow": null,
      "overflow_x": null,
      "overflow_y": null,
      "padding": null,
      "right": null,
      "top": null,
      "visibility": null,
      "width": null
     }
    },
    "69c85c92cc5a479195cc6b54e797c21c": {
     "model_module": "@jupyter-widgets/controls",
     "model_module_version": "1.5.0",
     "model_name": "ProgressStyleModel",
     "state": {
      "_model_module": "@jupyter-widgets/controls",
      "_model_module_version": "1.5.0",
      "_model_name": "ProgressStyleModel",
      "_view_count": null,
      "_view_module": "@jupyter-widgets/base",
      "_view_module_version": "1.2.0",
      "_view_name": "StyleView",
      "bar_color": null,
      "description_width": ""
     }
    },
    "6c8acb4aa7314a18b24dc54aff55ac06": {
     "model_module": "@jupyter-widgets/controls",
     "model_module_version": "1.5.0",
     "model_name": "HTMLModel",
     "state": {
      "_dom_classes": [],
      "_model_module": "@jupyter-widgets/controls",
      "_model_module_version": "1.5.0",
      "_model_name": "HTMLModel",
      "_view_count": null,
      "_view_module": "@jupyter-widgets/controls",
      "_view_module_version": "1.5.0",
      "_view_name": "HTMLView",
      "description": "",
      "description_tooltip": null,
      "layout": "IPY_MODEL_f3c0e5343bda4e659bf7a807d47f9e4d",
      "placeholder": "​",
      "style": "IPY_MODEL_fc007d1d671a4f12a3a7a00730d4ce6f",
      "value": "100%"
     }
    },
    "6d0abca91e0445d48be77d7d5869f209": {
     "model_module": "@jupyter-widgets/controls",
     "model_module_version": "1.5.0",
     "model_name": "HTMLModel",
     "state": {
      "_dom_classes": [],
      "_model_module": "@jupyter-widgets/controls",
      "_model_module_version": "1.5.0",
      "_model_name": "HTMLModel",
      "_view_count": null,
      "_view_module": "@jupyter-widgets/controls",
      "_view_module_version": "1.5.0",
      "_view_name": "HTMLView",
      "description": "",
      "description_tooltip": null,
      "layout": "IPY_MODEL_02a26be5ee9d45c8b00ed39343eb862a",
      "placeholder": "​",
      "style": "IPY_MODEL_0aa30e7f6a80453b9ea92a746a4ea89e",
      "value": " 100/100 [00:08&lt;00:00,  4.44it/s, train_auc=49.58%, skipped=3.39%]"
     }
    },
    "6e5ec087ecb24449847ed3ede777670b": {
     "model_module": "@jupyter-widgets/base",
     "model_module_version": "1.2.0",
     "model_name": "LayoutModel",
     "state": {
      "_model_module": "@jupyter-widgets/base",
      "_model_module_version": "1.2.0",
      "_model_name": "LayoutModel",
      "_view_count": null,
      "_view_module": "@jupyter-widgets/base",
      "_view_module_version": "1.2.0",
      "_view_name": "LayoutView",
      "align_content": null,
      "align_items": null,
      "align_self": null,
      "border": null,
      "bottom": null,
      "display": null,
      "flex": null,
      "flex_flow": null,
      "grid_area": null,
      "grid_auto_columns": null,
      "grid_auto_flow": null,
      "grid_auto_rows": null,
      "grid_column": null,
      "grid_gap": null,
      "grid_row": null,
      "grid_template_areas": null,
      "grid_template_columns": null,
      "grid_template_rows": null,
      "height": null,
      "justify_content": null,
      "justify_items": null,
      "left": null,
      "margin": null,
      "max_height": null,
      "max_width": null,
      "min_height": null,
      "min_width": null,
      "object_fit": null,
      "object_position": null,
      "order": null,
      "overflow": null,
      "overflow_x": null,
      "overflow_y": null,
      "padding": null,
      "right": null,
      "top": null,
      "visibility": null,
      "width": null
     }
    },
    "6e856d457a5e4ab7bcb26b5f705bf214": {
     "model_module": "@jupyter-widgets/controls",
     "model_module_version": "1.5.0",
     "model_name": "FloatProgressModel",
     "state": {
      "_dom_classes": [],
      "_model_module": "@jupyter-widgets/controls",
      "_model_module_version": "1.5.0",
      "_model_name": "FloatProgressModel",
      "_view_count": null,
      "_view_module": "@jupyter-widgets/controls",
      "_view_module_version": "1.5.0",
      "_view_name": "ProgressView",
      "bar_style": "success",
      "description": "",
      "description_tooltip": null,
      "layout": "IPY_MODEL_0990845b02104df6847cc0899120dac8",
      "max": 15,
      "min": 0,
      "orientation": "horizontal",
      "style": "IPY_MODEL_1c792d1f5912484b870c7f3b516939cd",
      "value": 15
     }
    },
    "73d3e61651674db59c8be5f9532309fe": {
     "model_module": "@jupyter-widgets/base",
     "model_module_version": "1.2.0",
     "model_name": "LayoutModel",
     "state": {
      "_model_module": "@jupyter-widgets/base",
      "_model_module_version": "1.2.0",
      "_model_name": "LayoutModel",
      "_view_count": null,
      "_view_module": "@jupyter-widgets/base",
      "_view_module_version": "1.2.0",
      "_view_name": "LayoutView",
      "align_content": null,
      "align_items": null,
      "align_self": null,
      "border": null,
      "bottom": null,
      "display": null,
      "flex": null,
      "flex_flow": null,
      "grid_area": null,
      "grid_auto_columns": null,
      "grid_auto_flow": null,
      "grid_auto_rows": null,
      "grid_column": null,
      "grid_gap": null,
      "grid_row": null,
      "grid_template_areas": null,
      "grid_template_columns": null,
      "grid_template_rows": null,
      "height": null,
      "justify_content": null,
      "justify_items": null,
      "left": null,
      "margin": null,
      "max_height": null,
      "max_width": null,
      "min_height": null,
      "min_width": null,
      "object_fit": null,
      "object_position": null,
      "order": null,
      "overflow": null,
      "overflow_x": null,
      "overflow_y": null,
      "padding": null,
      "right": null,
      "top": null,
      "visibility": null,
      "width": null
     }
    },
    "79d7e3e6b252461ab8cd4498f4ce16ee": {
     "model_module": "@jupyter-widgets/controls",
     "model_module_version": "1.5.0",
     "model_name": "DescriptionStyleModel",
     "state": {
      "_model_module": "@jupyter-widgets/controls",
      "_model_module_version": "1.5.0",
      "_model_name": "DescriptionStyleModel",
      "_view_count": null,
      "_view_module": "@jupyter-widgets/base",
      "_view_module_version": "1.2.0",
      "_view_name": "StyleView",
      "description_width": ""
     }
    },
    "7c0187b8ec294b0280c51710d84b986a": {
     "model_module": "@jupyter-widgets/base",
     "model_module_version": "1.2.0",
     "model_name": "LayoutModel",
     "state": {
      "_model_module": "@jupyter-widgets/base",
      "_model_module_version": "1.2.0",
      "_model_name": "LayoutModel",
      "_view_count": null,
      "_view_module": "@jupyter-widgets/base",
      "_view_module_version": "1.2.0",
      "_view_name": "LayoutView",
      "align_content": null,
      "align_items": null,
      "align_self": null,
      "border": null,
      "bottom": null,
      "display": null,
      "flex": null,
      "flex_flow": null,
      "grid_area": null,
      "grid_auto_columns": null,
      "grid_auto_flow": null,
      "grid_auto_rows": null,
      "grid_column": null,
      "grid_gap": null,
      "grid_row": null,
      "grid_template_areas": null,
      "grid_template_columns": null,
      "grid_template_rows": null,
      "height": null,
      "justify_content": null,
      "justify_items": null,
      "left": null,
      "margin": null,
      "max_height": null,
      "max_width": null,
      "min_height": null,
      "min_width": null,
      "object_fit": null,
      "object_position": null,
      "order": null,
      "overflow": null,
      "overflow_x": null,
      "overflow_y": null,
      "padding": null,
      "right": null,
      "top": null,
      "visibility": null,
      "width": null
     }
    },
    "7ced0759a89e4ba8985a469bc2119ce0": {
     "model_module": "@jupyter-widgets/controls",
     "model_module_version": "1.5.0",
     "model_name": "HBoxModel",
     "state": {
      "_dom_classes": [],
      "_model_module": "@jupyter-widgets/controls",
      "_model_module_version": "1.5.0",
      "_model_name": "HBoxModel",
      "_view_count": null,
      "_view_module": "@jupyter-widgets/controls",
      "_view_module_version": "1.5.0",
      "_view_name": "HBoxView",
      "box_style": "",
      "children": [
       "IPY_MODEL_6c8acb4aa7314a18b24dc54aff55ac06",
       "IPY_MODEL_f52d1d3434c54249a7c2199ee4dc58aa",
       "IPY_MODEL_aca0b24cb988412cbbce21f29ad6c545"
      ],
      "layout": "IPY_MODEL_50b630ea5cc8446da2feaa2372ede173"
     }
    },
    "7ea09d42f4b44e0f931481ca68aeeec7": {
     "model_module": "@jupyter-widgets/base",
     "model_module_version": "1.2.0",
     "model_name": "LayoutModel",
     "state": {
      "_model_module": "@jupyter-widgets/base",
      "_model_module_version": "1.2.0",
      "_model_name": "LayoutModel",
      "_view_count": null,
      "_view_module": "@jupyter-widgets/base",
      "_view_module_version": "1.2.0",
      "_view_name": "LayoutView",
      "align_content": null,
      "align_items": null,
      "align_self": null,
      "border": null,
      "bottom": null,
      "display": null,
      "flex": null,
      "flex_flow": null,
      "grid_area": null,
      "grid_auto_columns": null,
      "grid_auto_flow": null,
      "grid_auto_rows": null,
      "grid_column": null,
      "grid_gap": null,
      "grid_row": null,
      "grid_template_areas": null,
      "grid_template_columns": null,
      "grid_template_rows": null,
      "height": null,
      "justify_content": null,
      "justify_items": null,
      "left": null,
      "margin": null,
      "max_height": null,
      "max_width": null,
      "min_height": null,
      "min_width": null,
      "object_fit": null,
      "object_position": null,
      "order": null,
      "overflow": null,
      "overflow_x": null,
      "overflow_y": null,
      "padding": null,
      "right": null,
      "top": null,
      "visibility": null,
      "width": null
     }
    },
    "80c924ed540c4d4490c021f7f4faf30c": {
     "model_module": "@jupyter-widgets/controls",
     "model_module_version": "1.5.0",
     "model_name": "DescriptionStyleModel",
     "state": {
      "_model_module": "@jupyter-widgets/controls",
      "_model_module_version": "1.5.0",
      "_model_name": "DescriptionStyleModel",
      "_view_count": null,
      "_view_module": "@jupyter-widgets/base",
      "_view_module_version": "1.2.0",
      "_view_name": "StyleView",
      "description_width": ""
     }
    },
    "868cbad258c54c489b473d8cf15cbd4b": {
     "model_module": "@jupyter-widgets/controls",
     "model_module_version": "1.5.0",
     "model_name": "ProgressStyleModel",
     "state": {
      "_model_module": "@jupyter-widgets/controls",
      "_model_module_version": "1.5.0",
      "_model_name": "ProgressStyleModel",
      "_view_count": null,
      "_view_module": "@jupyter-widgets/base",
      "_view_module_version": "1.2.0",
      "_view_name": "StyleView",
      "bar_color": null,
      "description_width": ""
     }
    },
    "88c84f6440104853b7e011d69b02af03": {
     "model_module": "@jupyter-widgets/base",
     "model_module_version": "1.2.0",
     "model_name": "LayoutModel",
     "state": {
      "_model_module": "@jupyter-widgets/base",
      "_model_module_version": "1.2.0",
      "_model_name": "LayoutModel",
      "_view_count": null,
      "_view_module": "@jupyter-widgets/base",
      "_view_module_version": "1.2.0",
      "_view_name": "LayoutView",
      "align_content": null,
      "align_items": null,
      "align_self": null,
      "border": null,
      "bottom": null,
      "display": null,
      "flex": null,
      "flex_flow": null,
      "grid_area": null,
      "grid_auto_columns": null,
      "grid_auto_flow": null,
      "grid_auto_rows": null,
      "grid_column": null,
      "grid_gap": null,
      "grid_row": null,
      "grid_template_areas": null,
      "grid_template_columns": null,
      "grid_template_rows": null,
      "height": null,
      "justify_content": null,
      "justify_items": null,
      "left": null,
      "margin": null,
      "max_height": null,
      "max_width": null,
      "min_height": null,
      "min_width": null,
      "object_fit": null,
      "object_position": null,
      "order": null,
      "overflow": null,
      "overflow_x": null,
      "overflow_y": null,
      "padding": null,
      "right": null,
      "top": null,
      "visibility": null,
      "width": null
     }
    },
    "89d31688d6934e488964a10b1558d79e": {
     "model_module": "@jupyter-widgets/controls",
     "model_module_version": "1.5.0",
     "model_name": "DescriptionStyleModel",
     "state": {
      "_model_module": "@jupyter-widgets/controls",
      "_model_module_version": "1.5.0",
      "_model_name": "DescriptionStyleModel",
      "_view_count": null,
      "_view_module": "@jupyter-widgets/base",
      "_view_module_version": "1.2.0",
      "_view_name": "StyleView",
      "description_width": ""
     }
    },
    "8f6b0831f48041aa9dd799ba82297637": {
     "model_module": "@jupyter-widgets/controls",
     "model_module_version": "1.5.0",
     "model_name": "ProgressStyleModel",
     "state": {
      "_model_module": "@jupyter-widgets/controls",
      "_model_module_version": "1.5.0",
      "_model_name": "ProgressStyleModel",
      "_view_count": null,
      "_view_module": "@jupyter-widgets/base",
      "_view_module_version": "1.2.0",
      "_view_name": "StyleView",
      "bar_color": null,
      "description_width": ""
     }
    },
    "9735b9981cc24ae59594537ec2a02651": {
     "model_module": "@jupyter-widgets/controls",
     "model_module_version": "1.5.0",
     "model_name": "FloatProgressModel",
     "state": {
      "_dom_classes": [],
      "_model_module": "@jupyter-widgets/controls",
      "_model_module_version": "1.5.0",
      "_model_name": "FloatProgressModel",
      "_view_count": null,
      "_view_module": "@jupyter-widgets/controls",
      "_view_module_version": "1.5.0",
      "_view_name": "ProgressView",
      "bar_style": "success",
      "description": "",
      "description_tooltip": null,
      "layout": "IPY_MODEL_58768fddafa54c25ab5b115703095288",
      "max": 100,
      "min": 0,
      "orientation": "horizontal",
      "style": "IPY_MODEL_d2b5cc3119444279ab0ec0866d48c98e",
      "value": 100
     }
    },
    "9788ecbe18cb4b72a1d7ba083a0730b8": {
     "model_module": "@jupyter-widgets/controls",
     "model_module_version": "1.5.0",
     "model_name": "HTMLModel",
     "state": {
      "_dom_classes": [],
      "_model_module": "@jupyter-widgets/controls",
      "_model_module_version": "1.5.0",
      "_model_name": "HTMLModel",
      "_view_count": null,
      "_view_module": "@jupyter-widgets/controls",
      "_view_module_version": "1.5.0",
      "_view_name": "HTMLView",
      "description": "",
      "description_tooltip": null,
      "layout": "IPY_MODEL_7ea09d42f4b44e0f931481ca68aeeec7",
      "placeholder": "​",
      "style": "IPY_MODEL_22ae28cb7f2b4b8984f93b7adc300d06",
      "value": " 15/15 [00:17&lt;00:00,  1.18s/it]"
     }
    },
    "991be83d335348ccbb44e1cabcb2aa80": {
     "model_module": "@jupyter-widgets/controls",
     "model_module_version": "1.5.0",
     "model_name": "HBoxModel",
     "state": {
      "_dom_classes": [],
      "_model_module": "@jupyter-widgets/controls",
      "_model_module_version": "1.5.0",
      "_model_name": "HBoxModel",
      "_view_count": null,
      "_view_module": "@jupyter-widgets/controls",
      "_view_module_version": "1.5.0",
      "_view_name": "HBoxView",
      "box_style": "",
      "children": [
       "IPY_MODEL_2d0330d5b0f040b5b4516e1bcffc156b",
       "IPY_MODEL_be0fc4df39de4bbfaeec6689ce8960d2",
       "IPY_MODEL_e30529f0d1de4f0c8bf213f5a002fcb9"
      ],
      "layout": "IPY_MODEL_7c0187b8ec294b0280c51710d84b986a"
     }
    },
    "9940df31d2044f6b95a7874a631e7fb7": {
     "model_module": "@jupyter-widgets/controls",
     "model_module_version": "1.5.0",
     "model_name": "HTMLModel",
     "state": {
      "_dom_classes": [],
      "_model_module": "@jupyter-widgets/controls",
      "_model_module_version": "1.5.0",
      "_model_name": "HTMLModel",
      "_view_count": null,
      "_view_module": "@jupyter-widgets/controls",
      "_view_module_version": "1.5.0",
      "_view_name": "HTMLView",
      "description": "",
      "description_tooltip": null,
      "layout": "IPY_MODEL_ce5a102c96be4ab48f2406bd36cb303f",
      "placeholder": "​",
      "style": "IPY_MODEL_020f3956a4e24396a61075b3a9063950",
      "value": "100%"
     }
    },
    "9b8a9fedfad745a5801a981c6d457ca6": {
     "model_module": "@jupyter-widgets/base",
     "model_module_version": "1.2.0",
     "model_name": "LayoutModel",
     "state": {
      "_model_module": "@jupyter-widgets/base",
      "_model_module_version": "1.2.0",
      "_model_name": "LayoutModel",
      "_view_count": null,
      "_view_module": "@jupyter-widgets/base",
      "_view_module_version": "1.2.0",
      "_view_name": "LayoutView",
      "align_content": null,
      "align_items": null,
      "align_self": null,
      "border": null,
      "bottom": null,
      "display": null,
      "flex": null,
      "flex_flow": null,
      "grid_area": null,
      "grid_auto_columns": null,
      "grid_auto_flow": null,
      "grid_auto_rows": null,
      "grid_column": null,
      "grid_gap": null,
      "grid_row": null,
      "grid_template_areas": null,
      "grid_template_columns": null,
      "grid_template_rows": null,
      "height": null,
      "justify_content": null,
      "justify_items": null,
      "left": null,
      "margin": null,
      "max_height": null,
      "max_width": null,
      "min_height": null,
      "min_width": null,
      "object_fit": null,
      "object_position": null,
      "order": null,
      "overflow": null,
      "overflow_x": null,
      "overflow_y": null,
      "padding": null,
      "right": null,
      "top": null,
      "visibility": null,
      "width": null
     }
    },
    "9e0219b14dd845cabae0ed9e9736995c": {
     "model_module": "@jupyter-widgets/controls",
     "model_module_version": "1.5.0",
     "model_name": "FloatProgressModel",
     "state": {
      "_dom_classes": [],
      "_model_module": "@jupyter-widgets/controls",
      "_model_module_version": "1.5.0",
      "_model_name": "FloatProgressModel",
      "_view_count": null,
      "_view_module": "@jupyter-widgets/controls",
      "_view_module_version": "1.5.0",
      "_view_name": "ProgressView",
      "bar_style": "success",
      "description": "",
      "description_tooltip": null,
      "layout": "IPY_MODEL_aacf803e6a524b4196b1857553be05c4",
      "max": 100,
      "min": 0,
      "orientation": "horizontal",
      "style": "IPY_MODEL_868cbad258c54c489b473d8cf15cbd4b",
      "value": 100
     }
    },
    "9f470923bb6d4664928cd938c92be464": {
     "model_module": "@jupyter-widgets/controls",
     "model_module_version": "1.5.0",
     "model_name": "HBoxModel",
     "state": {
      "_dom_classes": [],
      "_model_module": "@jupyter-widgets/controls",
      "_model_module_version": "1.5.0",
      "_model_name": "HBoxModel",
      "_view_count": null,
      "_view_module": "@jupyter-widgets/controls",
      "_view_module_version": "1.5.0",
      "_view_name": "HBoxView",
      "box_style": "",
      "children": [
       "IPY_MODEL_143d0142ae8d411ca4a85e4014258b96",
       "IPY_MODEL_6e856d457a5e4ab7bcb26b5f705bf214",
       "IPY_MODEL_3073897149bb4e078bebaa562c5b7c95"
      ],
      "layout": "IPY_MODEL_2b1d85d2347c4f4eb32f591356192c01"
     }
    },
    "a1c762506730429aace1e3fad59840c2": {
     "model_module": "@jupyter-widgets/controls",
     "model_module_version": "1.5.0",
     "model_name": "HBoxModel",
     "state": {
      "_dom_classes": [],
      "_model_module": "@jupyter-widgets/controls",
      "_model_module_version": "1.5.0",
      "_model_name": "HBoxModel",
      "_view_count": null,
      "_view_module": "@jupyter-widgets/controls",
      "_view_module_version": "1.5.0",
      "_view_name": "HBoxView",
      "box_style": "",
      "children": [
       "IPY_MODEL_606f2882c3044a8a815d7503cc8a1ad2",
       "IPY_MODEL_f59112a357db4186899de49b62a2eddb",
       "IPY_MODEL_9788ecbe18cb4b72a1d7ba083a0730b8"
      ],
      "layout": "IPY_MODEL_b7f76f19db7040c6b33dc5db171eba76"
     }
    },
    "a3cb9c0dddf74597b893c621c24a71e3": {
     "model_module": "@jupyter-widgets/controls",
     "model_module_version": "1.5.0",
     "model_name": "DescriptionStyleModel",
     "state": {
      "_model_module": "@jupyter-widgets/controls",
      "_model_module_version": "1.5.0",
      "_model_name": "DescriptionStyleModel",
      "_view_count": null,
      "_view_module": "@jupyter-widgets/base",
      "_view_module_version": "1.2.0",
      "_view_name": "StyleView",
      "description_width": ""
     }
    },
    "aaadcb7c90714e21a92b2f46ccd82584": {
     "model_module": "@jupyter-widgets/base",
     "model_module_version": "1.2.0",
     "model_name": "LayoutModel",
     "state": {
      "_model_module": "@jupyter-widgets/base",
      "_model_module_version": "1.2.0",
      "_model_name": "LayoutModel",
      "_view_count": null,
      "_view_module": "@jupyter-widgets/base",
      "_view_module_version": "1.2.0",
      "_view_name": "LayoutView",
      "align_content": null,
      "align_items": null,
      "align_self": null,
      "border": null,
      "bottom": null,
      "display": null,
      "flex": null,
      "flex_flow": null,
      "grid_area": null,
      "grid_auto_columns": null,
      "grid_auto_flow": null,
      "grid_auto_rows": null,
      "grid_column": null,
      "grid_gap": null,
      "grid_row": null,
      "grid_template_areas": null,
      "grid_template_columns": null,
      "grid_template_rows": null,
      "height": null,
      "justify_content": null,
      "justify_items": null,
      "left": null,
      "margin": null,
      "max_height": null,
      "max_width": null,
      "min_height": null,
      "min_width": null,
      "object_fit": null,
      "object_position": null,
      "order": null,
      "overflow": null,
      "overflow_x": null,
      "overflow_y": null,
      "padding": null,
      "right": null,
      "top": null,
      "visibility": null,
      "width": null
     }
    },
    "aacf803e6a524b4196b1857553be05c4": {
     "model_module": "@jupyter-widgets/base",
     "model_module_version": "1.2.0",
     "model_name": "LayoutModel",
     "state": {
      "_model_module": "@jupyter-widgets/base",
      "_model_module_version": "1.2.0",
      "_model_name": "LayoutModel",
      "_view_count": null,
      "_view_module": "@jupyter-widgets/base",
      "_view_module_version": "1.2.0",
      "_view_name": "LayoutView",
      "align_content": null,
      "align_items": null,
      "align_self": null,
      "border": null,
      "bottom": null,
      "display": null,
      "flex": null,
      "flex_flow": null,
      "grid_area": null,
      "grid_auto_columns": null,
      "grid_auto_flow": null,
      "grid_auto_rows": null,
      "grid_column": null,
      "grid_gap": null,
      "grid_row": null,
      "grid_template_areas": null,
      "grid_template_columns": null,
      "grid_template_rows": null,
      "height": null,
      "justify_content": null,
      "justify_items": null,
      "left": null,
      "margin": null,
      "max_height": null,
      "max_width": null,
      "min_height": null,
      "min_width": null,
      "object_fit": null,
      "object_position": null,
      "order": null,
      "overflow": null,
      "overflow_x": null,
      "overflow_y": null,
      "padding": null,
      "right": null,
      "top": null,
      "visibility": null,
      "width": null
     }
    },
    "aca0b24cb988412cbbce21f29ad6c545": {
     "model_module": "@jupyter-widgets/controls",
     "model_module_version": "1.5.0",
     "model_name": "HTMLModel",
     "state": {
      "_dom_classes": [],
      "_model_module": "@jupyter-widgets/controls",
      "_model_module_version": "1.5.0",
      "_model_name": "HTMLModel",
      "_view_count": null,
      "_view_module": "@jupyter-widgets/controls",
      "_view_module_version": "1.5.0",
      "_view_name": "HTMLView",
      "description": "",
      "description_tooltip": null,
      "layout": "IPY_MODEL_241999f027d0457c84a658470d0206d7",
      "placeholder": "​",
      "style": "IPY_MODEL_1fadb3cf21ff4f5caa8103d7d3ddc659",
      "value": " 15/15 [00:20&lt;00:00,  1.41s/it]"
     }
    },
    "ad2e3eee663842e0bca6245e79d40903": {
     "model_module": "@jupyter-widgets/controls",
     "model_module_version": "1.5.0",
     "model_name": "DescriptionStyleModel",
     "state": {
      "_model_module": "@jupyter-widgets/controls",
      "_model_module_version": "1.5.0",
      "_model_name": "DescriptionStyleModel",
      "_view_count": null,
      "_view_module": "@jupyter-widgets/base",
      "_view_module_version": "1.2.0",
      "_view_name": "StyleView",
      "description_width": ""
     }
    },
    "ad367ff857c74ad2a05f1117976d352b": {
     "model_module": "@jupyter-widgets/controls",
     "model_module_version": "1.5.0",
     "model_name": "HTMLModel",
     "state": {
      "_dom_classes": [],
      "_model_module": "@jupyter-widgets/controls",
      "_model_module_version": "1.5.0",
      "_model_name": "HTMLModel",
      "_view_count": null,
      "_view_module": "@jupyter-widgets/controls",
      "_view_module_version": "1.5.0",
      "_view_name": "HTMLView",
      "description": "",
      "description_tooltip": null,
      "layout": "IPY_MODEL_f77c624fa11c448fa96018753ddc8ccf",
      "placeholder": "​",
      "style": "IPY_MODEL_e8ab09cc6318439195f6a0e0d078cec4",
      "value": "100%"
     }
    },
    "af02470d6a9c4e50a77b845ca1f1e279": {
     "model_module": "@jupyter-widgets/base",
     "model_module_version": "1.2.0",
     "model_name": "LayoutModel",
     "state": {
      "_model_module": "@jupyter-widgets/base",
      "_model_module_version": "1.2.0",
      "_model_name": "LayoutModel",
      "_view_count": null,
      "_view_module": "@jupyter-widgets/base",
      "_view_module_version": "1.2.0",
      "_view_name": "LayoutView",
      "align_content": null,
      "align_items": null,
      "align_self": null,
      "border": null,
      "bottom": null,
      "display": null,
      "flex": null,
      "flex_flow": null,
      "grid_area": null,
      "grid_auto_columns": null,
      "grid_auto_flow": null,
      "grid_auto_rows": null,
      "grid_column": null,
      "grid_gap": null,
      "grid_row": null,
      "grid_template_areas": null,
      "grid_template_columns": null,
      "grid_template_rows": null,
      "height": null,
      "justify_content": null,
      "justify_items": null,
      "left": null,
      "margin": null,
      "max_height": null,
      "max_width": null,
      "min_height": null,
      "min_width": null,
      "object_fit": null,
      "object_position": null,
      "order": null,
      "overflow": null,
      "overflow_x": null,
      "overflow_y": null,
      "padding": null,
      "right": null,
      "top": null,
      "visibility": null,
      "width": null
     }
    },
    "af60d1c28f4e4d2686a4bed57e4fde1b": {
     "model_module": "@jupyter-widgets/base",
     "model_module_version": "1.2.0",
     "model_name": "LayoutModel",
     "state": {
      "_model_module": "@jupyter-widgets/base",
      "_model_module_version": "1.2.0",
      "_model_name": "LayoutModel",
      "_view_count": null,
      "_view_module": "@jupyter-widgets/base",
      "_view_module_version": "1.2.0",
      "_view_name": "LayoutView",
      "align_content": null,
      "align_items": null,
      "align_self": null,
      "border": null,
      "bottom": null,
      "display": null,
      "flex": null,
      "flex_flow": null,
      "grid_area": null,
      "grid_auto_columns": null,
      "grid_auto_flow": null,
      "grid_auto_rows": null,
      "grid_column": null,
      "grid_gap": null,
      "grid_row": null,
      "grid_template_areas": null,
      "grid_template_columns": null,
      "grid_template_rows": null,
      "height": null,
      "justify_content": null,
      "justify_items": null,
      "left": null,
      "margin": null,
      "max_height": null,
      "max_width": null,
      "min_height": null,
      "min_width": null,
      "object_fit": null,
      "object_position": null,
      "order": null,
      "overflow": null,
      "overflow_x": null,
      "overflow_y": null,
      "padding": null,
      "right": null,
      "top": null,
      "visibility": null,
      "width": null
     }
    },
    "aff2784fae624c65a743b44d35a45dc9": {
     "model_module": "@jupyter-widgets/controls",
     "model_module_version": "1.5.0",
     "model_name": "FloatProgressModel",
     "state": {
      "_dom_classes": [],
      "_model_module": "@jupyter-widgets/controls",
      "_model_module_version": "1.5.0",
      "_model_name": "FloatProgressModel",
      "_view_count": null,
      "_view_module": "@jupyter-widgets/controls",
      "_view_module_version": "1.5.0",
      "_view_name": "ProgressView",
      "bar_style": "success",
      "description": "",
      "description_tooltip": null,
      "layout": "IPY_MODEL_aaadcb7c90714e21a92b2f46ccd82584",
      "max": 1882,
      "min": 0,
      "orientation": "horizontal",
      "style": "IPY_MODEL_042f5bcb6b6c42229a46126d60d40023",
      "value": 1882
     }
    },
    "b7f76f19db7040c6b33dc5db171eba76": {
     "model_module": "@jupyter-widgets/base",
     "model_module_version": "1.2.0",
     "model_name": "LayoutModel",
     "state": {
      "_model_module": "@jupyter-widgets/base",
      "_model_module_version": "1.2.0",
      "_model_name": "LayoutModel",
      "_view_count": null,
      "_view_module": "@jupyter-widgets/base",
      "_view_module_version": "1.2.0",
      "_view_name": "LayoutView",
      "align_content": null,
      "align_items": null,
      "align_self": null,
      "border": null,
      "bottom": null,
      "display": null,
      "flex": null,
      "flex_flow": null,
      "grid_area": null,
      "grid_auto_columns": null,
      "grid_auto_flow": null,
      "grid_auto_rows": null,
      "grid_column": null,
      "grid_gap": null,
      "grid_row": null,
      "grid_template_areas": null,
      "grid_template_columns": null,
      "grid_template_rows": null,
      "height": null,
      "justify_content": null,
      "justify_items": null,
      "left": null,
      "margin": null,
      "max_height": null,
      "max_width": null,
      "min_height": null,
      "min_width": null,
      "object_fit": null,
      "object_position": null,
      "order": null,
      "overflow": null,
      "overflow_x": null,
      "overflow_y": null,
      "padding": null,
      "right": null,
      "top": null,
      "visibility": null,
      "width": null
     }
    },
    "b86c7775c91f4908aed6647811bff4f3": {
     "model_module": "@jupyter-widgets/base",
     "model_module_version": "1.2.0",
     "model_name": "LayoutModel",
     "state": {
      "_model_module": "@jupyter-widgets/base",
      "_model_module_version": "1.2.0",
      "_model_name": "LayoutModel",
      "_view_count": null,
      "_view_module": "@jupyter-widgets/base",
      "_view_module_version": "1.2.0",
      "_view_name": "LayoutView",
      "align_content": null,
      "align_items": null,
      "align_self": null,
      "border": null,
      "bottom": null,
      "display": null,
      "flex": null,
      "flex_flow": null,
      "grid_area": null,
      "grid_auto_columns": null,
      "grid_auto_flow": null,
      "grid_auto_rows": null,
      "grid_column": null,
      "grid_gap": null,
      "grid_row": null,
      "grid_template_areas": null,
      "grid_template_columns": null,
      "grid_template_rows": null,
      "height": null,
      "justify_content": null,
      "justify_items": null,
      "left": null,
      "margin": null,
      "max_height": null,
      "max_width": null,
      "min_height": null,
      "min_width": null,
      "object_fit": null,
      "object_position": null,
      "order": null,
      "overflow": null,
      "overflow_x": null,
      "overflow_y": null,
      "padding": null,
      "right": null,
      "top": null,
      "visibility": null,
      "width": null
     }
    },
    "bdb028d117de46af9a07f7f6fbd8ee59": {
     "model_module": "@jupyter-widgets/controls",
     "model_module_version": "1.5.0",
     "model_name": "HBoxModel",
     "state": {
      "_dom_classes": [],
      "_model_module": "@jupyter-widgets/controls",
      "_model_module_version": "1.5.0",
      "_model_name": "HBoxModel",
      "_view_count": null,
      "_view_module": "@jupyter-widgets/controls",
      "_view_module_version": "1.5.0",
      "_view_name": "HBoxView",
      "box_style": "",
      "children": [
       "IPY_MODEL_9940df31d2044f6b95a7874a631e7fb7",
       "IPY_MODEL_2487407ba58447c588daa8143f7041ef",
       "IPY_MODEL_294984616207416793fb377eea77eb4b"
      ],
      "layout": "IPY_MODEL_443d036ee1e34348b994becb12f3e163"
     }
    },
    "be0fc4df39de4bbfaeec6689ce8960d2": {
     "model_module": "@jupyter-widgets/controls",
     "model_module_version": "1.5.0",
     "model_name": "FloatProgressModel",
     "state": {
      "_dom_classes": [],
      "_model_module": "@jupyter-widgets/controls",
      "_model_module_version": "1.5.0",
      "_model_name": "FloatProgressModel",
      "_view_count": null,
      "_view_module": "@jupyter-widgets/controls",
      "_view_module_version": "1.5.0",
      "_view_name": "ProgressView",
      "bar_style": "success",
      "description": "",
      "description_tooltip": null,
      "layout": "IPY_MODEL_33d5e4e6259c4119b7ffe508d8aaac00",
      "max": 1883,
      "min": 0,
      "orientation": "horizontal",
      "style": "IPY_MODEL_8f6b0831f48041aa9dd799ba82297637",
      "value": 1883
     }
    },
    "c0c1f10c84f743d6aa9c90a41c691b7d": {
     "model_module": "@jupyter-widgets/base",
     "model_module_version": "1.2.0",
     "model_name": "LayoutModel",
     "state": {
      "_model_module": "@jupyter-widgets/base",
      "_model_module_version": "1.2.0",
      "_model_name": "LayoutModel",
      "_view_count": null,
      "_view_module": "@jupyter-widgets/base",
      "_view_module_version": "1.2.0",
      "_view_name": "LayoutView",
      "align_content": null,
      "align_items": null,
      "align_self": null,
      "border": null,
      "bottom": null,
      "display": null,
      "flex": null,
      "flex_flow": null,
      "grid_area": null,
      "grid_auto_columns": null,
      "grid_auto_flow": null,
      "grid_auto_rows": null,
      "grid_column": null,
      "grid_gap": null,
      "grid_row": null,
      "grid_template_areas": null,
      "grid_template_columns": null,
      "grid_template_rows": null,
      "height": null,
      "justify_content": null,
      "justify_items": null,
      "left": null,
      "margin": null,
      "max_height": null,
      "max_width": null,
      "min_height": null,
      "min_width": null,
      "object_fit": null,
      "object_position": null,
      "order": null,
      "overflow": null,
      "overflow_x": null,
      "overflow_y": null,
      "padding": null,
      "right": null,
      "top": null,
      "visibility": null,
      "width": null
     }
    },
    "c1cc8184b038422da7321bf0320f3f0a": {
     "model_module": "@jupyter-widgets/controls",
     "model_module_version": "1.5.0",
     "model_name": "HTMLModel",
     "state": {
      "_dom_classes": [],
      "_model_module": "@jupyter-widgets/controls",
      "_model_module_version": "1.5.0",
      "_model_name": "HTMLModel",
      "_view_count": null,
      "_view_module": "@jupyter-widgets/controls",
      "_view_module_version": "1.5.0",
      "_view_name": "HTMLView",
      "description": "",
      "description_tooltip": null,
      "layout": "IPY_MODEL_b86c7775c91f4908aed6647811bff4f3",
      "placeholder": "​",
      "style": "IPY_MODEL_c84008a9335442e1b55bd8558a0deb8a",
      "value": "100%"
     }
    },
    "c62767386273470eb29458d67d1150bb": {
     "model_module": "@jupyter-widgets/controls",
     "model_module_version": "1.5.0",
     "model_name": "HTMLModel",
     "state": {
      "_dom_classes": [],
      "_model_module": "@jupyter-widgets/controls",
      "_model_module_version": "1.5.0",
      "_model_name": "HTMLModel",
      "_view_count": null,
      "_view_module": "@jupyter-widgets/controls",
      "_view_module_version": "1.5.0",
      "_view_name": "HTMLView",
      "description": "",
      "description_tooltip": null,
      "layout": "IPY_MODEL_f253190d72ea4f6bacc8018de5f2dfeb",
      "placeholder": "​",
      "style": "IPY_MODEL_1fd88c63118f42d5aaf7367cdd8919d8",
      "value": "100%"
     }
    },
    "c84008a9335442e1b55bd8558a0deb8a": {
     "model_module": "@jupyter-widgets/controls",
     "model_module_version": "1.5.0",
     "model_name": "DescriptionStyleModel",
     "state": {
      "_model_module": "@jupyter-widgets/controls",
      "_model_module_version": "1.5.0",
      "_model_name": "DescriptionStyleModel",
      "_view_count": null,
      "_view_module": "@jupyter-widgets/base",
      "_view_module_version": "1.2.0",
      "_view_name": "StyleView",
      "description_width": ""
     }
    },
    "ce5a102c96be4ab48f2406bd36cb303f": {
     "model_module": "@jupyter-widgets/base",
     "model_module_version": "1.2.0",
     "model_name": "LayoutModel",
     "state": {
      "_model_module": "@jupyter-widgets/base",
      "_model_module_version": "1.2.0",
      "_model_name": "LayoutModel",
      "_view_count": null,
      "_view_module": "@jupyter-widgets/base",
      "_view_module_version": "1.2.0",
      "_view_name": "LayoutView",
      "align_content": null,
      "align_items": null,
      "align_self": null,
      "border": null,
      "bottom": null,
      "display": null,
      "flex": null,
      "flex_flow": null,
      "grid_area": null,
      "grid_auto_columns": null,
      "grid_auto_flow": null,
      "grid_auto_rows": null,
      "grid_column": null,
      "grid_gap": null,
      "grid_row": null,
      "grid_template_areas": null,
      "grid_template_columns": null,
      "grid_template_rows": null,
      "height": null,
      "justify_content": null,
      "justify_items": null,
      "left": null,
      "margin": null,
      "max_height": null,
      "max_width": null,
      "min_height": null,
      "min_width": null,
      "object_fit": null,
      "object_position": null,
      "order": null,
      "overflow": null,
      "overflow_x": null,
      "overflow_y": null,
      "padding": null,
      "right": null,
      "top": null,
      "visibility": null,
      "width": null
     }
    },
    "d0b3174f1ee34914852a00ad154e7d06": {
     "model_module": "@jupyter-widgets/controls",
     "model_module_version": "1.5.0",
     "model_name": "FloatProgressModel",
     "state": {
      "_dom_classes": [],
      "_model_module": "@jupyter-widgets/controls",
      "_model_module_version": "1.5.0",
      "_model_name": "FloatProgressModel",
      "_view_count": null,
      "_view_module": "@jupyter-widgets/controls",
      "_view_module_version": "1.5.0",
      "_view_name": "ProgressView",
      "bar_style": "success",
      "description": "",
      "description_tooltip": null,
      "layout": "IPY_MODEL_ddba8a06a9a44cd4a76c19f5bfd12ae5",
      "max": 1883,
      "min": 0,
      "orientation": "horizontal",
      "style": "IPY_MODEL_0a9be8c76a0c444481c91dc674ad9d88",
      "value": 1883
     }
    },
    "d2b5cc3119444279ab0ec0866d48c98e": {
     "model_module": "@jupyter-widgets/controls",
     "model_module_version": "1.5.0",
     "model_name": "ProgressStyleModel",
     "state": {
      "_model_module": "@jupyter-widgets/controls",
      "_model_module_version": "1.5.0",
      "_model_name": "ProgressStyleModel",
      "_view_count": null,
      "_view_module": "@jupyter-widgets/base",
      "_view_module_version": "1.2.0",
      "_view_name": "StyleView",
      "bar_color": null,
      "description_width": ""
     }
    },
    "d85323152b2f43f28107c75af69fc03a": {
     "model_module": "@jupyter-widgets/controls",
     "model_module_version": "1.5.0",
     "model_name": "DescriptionStyleModel",
     "state": {
      "_model_module": "@jupyter-widgets/controls",
      "_model_module_version": "1.5.0",
      "_model_name": "DescriptionStyleModel",
      "_view_count": null,
      "_view_module": "@jupyter-widgets/base",
      "_view_module_version": "1.2.0",
      "_view_name": "StyleView",
      "description_width": ""
     }
    },
    "da45b784686c4be88749c51c00113a49": {
     "model_module": "@jupyter-widgets/controls",
     "model_module_version": "1.5.0",
     "model_name": "HTMLModel",
     "state": {
      "_dom_classes": [],
      "_model_module": "@jupyter-widgets/controls",
      "_model_module_version": "1.5.0",
      "_model_name": "HTMLModel",
      "_view_count": null,
      "_view_module": "@jupyter-widgets/controls",
      "_view_module_version": "1.5.0",
      "_view_name": "HTMLView",
      "description": "",
      "description_tooltip": null,
      "layout": "IPY_MODEL_af02470d6a9c4e50a77b845ca1f1e279",
      "placeholder": "​",
      "style": "IPY_MODEL_80c924ed540c4d4490c021f7f4faf30c",
      "value": " 100/100 [00:07&lt;00:00, 12.97it/s, train_auc=50.11%, skipped=3.50%]"
     }
    },
    "ddba8a06a9a44cd4a76c19f5bfd12ae5": {
     "model_module": "@jupyter-widgets/base",
     "model_module_version": "1.2.0",
     "model_name": "LayoutModel",
     "state": {
      "_model_module": "@jupyter-widgets/base",
      "_model_module_version": "1.2.0",
      "_model_name": "LayoutModel",
      "_view_count": null,
      "_view_module": "@jupyter-widgets/base",
      "_view_module_version": "1.2.0",
      "_view_name": "LayoutView",
      "align_content": null,
      "align_items": null,
      "align_self": null,
      "border": null,
      "bottom": null,
      "display": null,
      "flex": null,
      "flex_flow": null,
      "grid_area": null,
      "grid_auto_columns": null,
      "grid_auto_flow": null,
      "grid_auto_rows": null,
      "grid_column": null,
      "grid_gap": null,
      "grid_row": null,
      "grid_template_areas": null,
      "grid_template_columns": null,
      "grid_template_rows": null,
      "height": null,
      "justify_content": null,
      "justify_items": null,
      "left": null,
      "margin": null,
      "max_height": null,
      "max_width": null,
      "min_height": null,
      "min_width": null,
      "object_fit": null,
      "object_position": null,
      "order": null,
      "overflow": null,
      "overflow_x": null,
      "overflow_y": null,
      "padding": null,
      "right": null,
      "top": null,
      "visibility": null,
      "width": null
     }
    },
    "e1820fe84bec4944ba2e18764442dd4b": {
     "model_module": "@jupyter-widgets/base",
     "model_module_version": "1.2.0",
     "model_name": "LayoutModel",
     "state": {
      "_model_module": "@jupyter-widgets/base",
      "_model_module_version": "1.2.0",
      "_model_name": "LayoutModel",
      "_view_count": null,
      "_view_module": "@jupyter-widgets/base",
      "_view_module_version": "1.2.0",
      "_view_name": "LayoutView",
      "align_content": null,
      "align_items": null,
      "align_self": null,
      "border": null,
      "bottom": null,
      "display": null,
      "flex": null,
      "flex_flow": null,
      "grid_area": null,
      "grid_auto_columns": null,
      "grid_auto_flow": null,
      "grid_auto_rows": null,
      "grid_column": null,
      "grid_gap": null,
      "grid_row": null,
      "grid_template_areas": null,
      "grid_template_columns": null,
      "grid_template_rows": null,
      "height": null,
      "justify_content": null,
      "justify_items": null,
      "left": null,
      "margin": null,
      "max_height": null,
      "max_width": null,
      "min_height": null,
      "min_width": null,
      "object_fit": null,
      "object_position": null,
      "order": null,
      "overflow": null,
      "overflow_x": null,
      "overflow_y": null,
      "padding": null,
      "right": null,
      "top": null,
      "visibility": null,
      "width": null
     }
    },
    "e30529f0d1de4f0c8bf213f5a002fcb9": {
     "model_module": "@jupyter-widgets/controls",
     "model_module_version": "1.5.0",
     "model_name": "HTMLModel",
     "state": {
      "_dom_classes": [],
      "_model_module": "@jupyter-widgets/controls",
      "_model_module_version": "1.5.0",
      "_model_name": "HTMLModel",
      "_view_count": null,
      "_view_module": "@jupyter-widgets/controls",
      "_view_module_version": "1.5.0",
      "_view_name": "HTMLView",
      "description": "",
      "description_tooltip": null,
      "layout": "IPY_MODEL_fb3444fcd82348f983cc5d7909459dc8",
      "placeholder": "​",
      "style": "IPY_MODEL_4142adea2d38423b91d165f3fb26302d",
      "value": " 1883/1883 [00:00&lt;00:00, 2931.94it/s]"
     }
    },
    "e8ab09cc6318439195f6a0e0d078cec4": {
     "model_module": "@jupyter-widgets/controls",
     "model_module_version": "1.5.0",
     "model_name": "DescriptionStyleModel",
     "state": {
      "_model_module": "@jupyter-widgets/controls",
      "_model_module_version": "1.5.0",
      "_model_name": "DescriptionStyleModel",
      "_view_count": null,
      "_view_module": "@jupyter-widgets/base",
      "_view_module_version": "1.2.0",
      "_view_name": "StyleView",
      "description_width": ""
     }
    },
    "ec0bb150921f46998b80252d9c68808c": {
     "model_module": "@jupyter-widgets/controls",
     "model_module_version": "1.5.0",
     "model_name": "HTMLModel",
     "state": {
      "_dom_classes": [],
      "_model_module": "@jupyter-widgets/controls",
      "_model_module_version": "1.5.0",
      "_model_name": "HTMLModel",
      "_view_count": null,
      "_view_module": "@jupyter-widgets/controls",
      "_view_module_version": "1.5.0",
      "_view_name": "HTMLView",
      "description": "",
      "description_tooltip": null,
      "layout": "IPY_MODEL_88c84f6440104853b7e011d69b02af03",
      "placeholder": "​",
      "style": "IPY_MODEL_ad2e3eee663842e0bca6245e79d40903",
      "value": " 1883/1883 [00:00&lt;00:00, 3380.67it/s]"
     }
    },
    "f253190d72ea4f6bacc8018de5f2dfeb": {
     "model_module": "@jupyter-widgets/base",
     "model_module_version": "1.2.0",
     "model_name": "LayoutModel",
     "state": {
      "_model_module": "@jupyter-widgets/base",
      "_model_module_version": "1.2.0",
      "_model_name": "LayoutModel",
      "_view_count": null,
      "_view_module": "@jupyter-widgets/base",
      "_view_module_version": "1.2.0",
      "_view_name": "LayoutView",
      "align_content": null,
      "align_items": null,
      "align_self": null,
      "border": null,
      "bottom": null,
      "display": null,
      "flex": null,
      "flex_flow": null,
      "grid_area": null,
      "grid_auto_columns": null,
      "grid_auto_flow": null,
      "grid_auto_rows": null,
      "grid_column": null,
      "grid_gap": null,
      "grid_row": null,
      "grid_template_areas": null,
      "grid_template_columns": null,
      "grid_template_rows": null,
      "height": null,
      "justify_content": null,
      "justify_items": null,
      "left": null,
      "margin": null,
      "max_height": null,
      "max_width": null,
      "min_height": null,
      "min_width": null,
      "object_fit": null,
      "object_position": null,
      "order": null,
      "overflow": null,
      "overflow_x": null,
      "overflow_y": null,
      "padding": null,
      "right": null,
      "top": null,
      "visibility": null,
      "width": null
     }
    },
    "f3c0e5343bda4e659bf7a807d47f9e4d": {
     "model_module": "@jupyter-widgets/base",
     "model_module_version": "1.2.0",
     "model_name": "LayoutModel",
     "state": {
      "_model_module": "@jupyter-widgets/base",
      "_model_module_version": "1.2.0",
      "_model_name": "LayoutModel",
      "_view_count": null,
      "_view_module": "@jupyter-widgets/base",
      "_view_module_version": "1.2.0",
      "_view_name": "LayoutView",
      "align_content": null,
      "align_items": null,
      "align_self": null,
      "border": null,
      "bottom": null,
      "display": null,
      "flex": null,
      "flex_flow": null,
      "grid_area": null,
      "grid_auto_columns": null,
      "grid_auto_flow": null,
      "grid_auto_rows": null,
      "grid_column": null,
      "grid_gap": null,
      "grid_row": null,
      "grid_template_areas": null,
      "grid_template_columns": null,
      "grid_template_rows": null,
      "height": null,
      "justify_content": null,
      "justify_items": null,
      "left": null,
      "margin": null,
      "max_height": null,
      "max_width": null,
      "min_height": null,
      "min_width": null,
      "object_fit": null,
      "object_position": null,
      "order": null,
      "overflow": null,
      "overflow_x": null,
      "overflow_y": null,
      "padding": null,
      "right": null,
      "top": null,
      "visibility": null,
      "width": null
     }
    },
    "f52d1d3434c54249a7c2199ee4dc58aa": {
     "model_module": "@jupyter-widgets/controls",
     "model_module_version": "1.5.0",
     "model_name": "FloatProgressModel",
     "state": {
      "_dom_classes": [],
      "_model_module": "@jupyter-widgets/controls",
      "_model_module_version": "1.5.0",
      "_model_name": "FloatProgressModel",
      "_view_count": null,
      "_view_module": "@jupyter-widgets/controls",
      "_view_module_version": "1.5.0",
      "_view_name": "ProgressView",
      "bar_style": "success",
      "description": "",
      "description_tooltip": null,
      "layout": "IPY_MODEL_1886b744fd654210b374b6488996f1cd",
      "max": 15,
      "min": 0,
      "orientation": "horizontal",
      "style": "IPY_MODEL_69c85c92cc5a479195cc6b54e797c21c",
      "value": 15
     }
    },
    "f59112a357db4186899de49b62a2eddb": {
     "model_module": "@jupyter-widgets/controls",
     "model_module_version": "1.5.0",
     "model_name": "FloatProgressModel",
     "state": {
      "_dom_classes": [],
      "_model_module": "@jupyter-widgets/controls",
      "_model_module_version": "1.5.0",
      "_model_name": "FloatProgressModel",
      "_view_count": null,
      "_view_module": "@jupyter-widgets/controls",
      "_view_module_version": "1.5.0",
      "_view_name": "ProgressView",
      "bar_style": "success",
      "description": "",
      "description_tooltip": null,
      "layout": "IPY_MODEL_af60d1c28f4e4d2686a4bed57e4fde1b",
      "max": 15,
      "min": 0,
      "orientation": "horizontal",
      "style": "IPY_MODEL_07f9400d9c144e0fbb5d3f444fcf7a4f",
      "value": 15
     }
    },
    "f6bb7e7fc9664c68b97f303e91bdb371": {
     "model_module": "@jupyter-widgets/controls",
     "model_module_version": "1.5.0",
     "model_name": "FloatProgressModel",
     "state": {
      "_dom_classes": [],
      "_model_module": "@jupyter-widgets/controls",
      "_model_module_version": "1.5.0",
      "_model_name": "FloatProgressModel",
      "_view_count": null,
      "_view_module": "@jupyter-widgets/controls",
      "_view_module_version": "1.5.0",
      "_view_name": "ProgressView",
      "bar_style": "success",
      "description": "",
      "description_tooltip": null,
      "layout": "IPY_MODEL_73d3e61651674db59c8be5f9532309fe",
      "max": 1883,
      "min": 0,
      "orientation": "horizontal",
      "style": "IPY_MODEL_1f4c5e20ccc6446e9d452faa1b594cdc",
      "value": 1883
     }
    },
    "f77c624fa11c448fa96018753ddc8ccf": {
     "model_module": "@jupyter-widgets/base",
     "model_module_version": "1.2.0",
     "model_name": "LayoutModel",
     "state": {
      "_model_module": "@jupyter-widgets/base",
      "_model_module_version": "1.2.0",
      "_model_name": "LayoutModel",
      "_view_count": null,
      "_view_module": "@jupyter-widgets/base",
      "_view_module_version": "1.2.0",
      "_view_name": "LayoutView",
      "align_content": null,
      "align_items": null,
      "align_self": null,
      "border": null,
      "bottom": null,
      "display": null,
      "flex": null,
      "flex_flow": null,
      "grid_area": null,
      "grid_auto_columns": null,
      "grid_auto_flow": null,
      "grid_auto_rows": null,
      "grid_column": null,
      "grid_gap": null,
      "grid_row": null,
      "grid_template_areas": null,
      "grid_template_columns": null,
      "grid_template_rows": null,
      "height": null,
      "justify_content": null,
      "justify_items": null,
      "left": null,
      "margin": null,
      "max_height": null,
      "max_width": null,
      "min_height": null,
      "min_width": null,
      "object_fit": null,
      "object_position": null,
      "order": null,
      "overflow": null,
      "overflow_x": null,
      "overflow_y": null,
      "padding": null,
      "right": null,
      "top": null,
      "visibility": null,
      "width": null
     }
    },
    "f938be43946345cab8e437c61d014cdc": {
     "model_module": "@jupyter-widgets/controls",
     "model_module_version": "1.5.0",
     "model_name": "HTMLModel",
     "state": {
      "_dom_classes": [],
      "_model_module": "@jupyter-widgets/controls",
      "_model_module_version": "1.5.0",
      "_model_name": "HTMLModel",
      "_view_count": null,
      "_view_module": "@jupyter-widgets/controls",
      "_view_module_version": "1.5.0",
      "_view_name": "HTMLView",
      "description": "",
      "description_tooltip": null,
      "layout": "IPY_MODEL_6e5ec087ecb24449847ed3ede777670b",
      "placeholder": "​",
      "style": "IPY_MODEL_5df625013a02440db4633ba9f40bc4b6",
      "value": "100%"
     }
    },
    "fab0116acdf54014a4bae3efbe12b463": {
     "model_module": "@jupyter-widgets/controls",
     "model_module_version": "1.5.0",
     "model_name": "HTMLModel",
     "state": {
      "_dom_classes": [],
      "_model_module": "@jupyter-widgets/controls",
      "_model_module_version": "1.5.0",
      "_model_name": "HTMLModel",
      "_view_count": null,
      "_view_module": "@jupyter-widgets/controls",
      "_view_module_version": "1.5.0",
      "_view_name": "HTMLView",
      "description": "",
      "description_tooltip": null,
      "layout": "IPY_MODEL_5d27faa34b05428c89470223bb078def",
      "placeholder": "​",
      "style": "IPY_MODEL_d85323152b2f43f28107c75af69fc03a",
      "value": " 1883/1883 [00:00&lt;00:00, 3219.25it/s]"
     }
    },
    "fb3444fcd82348f983cc5d7909459dc8": {
     "model_module": "@jupyter-widgets/base",
     "model_module_version": "1.2.0",
     "model_name": "LayoutModel",
     "state": {
      "_model_module": "@jupyter-widgets/base",
      "_model_module_version": "1.2.0",
      "_model_name": "LayoutModel",
      "_view_count": null,
      "_view_module": "@jupyter-widgets/base",
      "_view_module_version": "1.2.0",
      "_view_name": "LayoutView",
      "align_content": null,
      "align_items": null,
      "align_self": null,
      "border": null,
      "bottom": null,
      "display": null,
      "flex": null,
      "flex_flow": null,
      "grid_area": null,
      "grid_auto_columns": null,
      "grid_auto_flow": null,
      "grid_auto_rows": null,
      "grid_column": null,
      "grid_gap": null,
      "grid_row": null,
      "grid_template_areas": null,
      "grid_template_columns": null,
      "grid_template_rows": null,
      "height": null,
      "justify_content": null,
      "justify_items": null,
      "left": null,
      "margin": null,
      "max_height": null,
      "max_width": null,
      "min_height": null,
      "min_width": null,
      "object_fit": null,
      "object_position": null,
      "order": null,
      "overflow": null,
      "overflow_x": null,
      "overflow_y": null,
      "padding": null,
      "right": null,
      "top": null,
      "visibility": null,
      "width": null
     }
    },
    "fbc8d8ee3e7f40329ebeb016f5fa3e56": {
     "model_module": "@jupyter-widgets/controls",
     "model_module_version": "1.5.0",
     "model_name": "DescriptionStyleModel",
     "state": {
      "_model_module": "@jupyter-widgets/controls",
      "_model_module_version": "1.5.0",
      "_model_name": "DescriptionStyleModel",
      "_view_count": null,
      "_view_module": "@jupyter-widgets/base",
      "_view_module_version": "1.2.0",
      "_view_name": "StyleView",
      "description_width": ""
     }
    },
    "fc007d1d671a4f12a3a7a00730d4ce6f": {
     "model_module": "@jupyter-widgets/controls",
     "model_module_version": "1.5.0",
     "model_name": "DescriptionStyleModel",
     "state": {
      "_model_module": "@jupyter-widgets/controls",
      "_model_module_version": "1.5.0",
      "_model_name": "DescriptionStyleModel",
      "_view_count": null,
      "_view_module": "@jupyter-widgets/base",
      "_view_module_version": "1.2.0",
      "_view_name": "StyleView",
      "description_width": ""
     }
    },
    "feb6d9df51174a50aa1efdbbbb79526b": {
     "model_module": "@jupyter-widgets/controls",
     "model_module_version": "1.5.0",
     "model_name": "HBoxModel",
     "state": {
      "_dom_classes": [],
      "_model_module": "@jupyter-widgets/controls",
      "_model_module_version": "1.5.0",
      "_model_name": "HBoxModel",
      "_view_count": null,
      "_view_module": "@jupyter-widgets/controls",
      "_view_module_version": "1.5.0",
      "_view_name": "HBoxView",
      "box_style": "",
      "children": [
       "IPY_MODEL_ad367ff857c74ad2a05f1117976d352b",
       "IPY_MODEL_f6bb7e7fc9664c68b97f303e91bdb371",
       "IPY_MODEL_ec0bb150921f46998b80252d9c68808c"
      ],
      "layout": "IPY_MODEL_5d33180126a6402eba0c71ab145fda24"
     }
    }
   }
  }
 },
 "nbformat": 4,
 "nbformat_minor": 1
}
